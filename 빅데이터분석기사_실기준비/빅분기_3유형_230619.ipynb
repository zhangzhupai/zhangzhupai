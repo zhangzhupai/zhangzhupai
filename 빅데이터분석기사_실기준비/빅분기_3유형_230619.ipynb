{
 "cells": [
  {
   "cell_type": "markdown",
   "id": "c7ba9ddc",
   "metadata": {},
   "source": [
    "주어진 데이터에는 고혈압 환자 120명의 치료를 전후의 혈압이 저장되어있다. 해당 치료가 효과가 있는지 쌍체표본 t-검정을 통해 답하고자 한다. \n",
    "1. 표본평균을 구하시오\n",
    "2. 위의 가설을 검정하기 위한 검정통계랑을 입력하시오(소수넷째자리)\n",
    "3. 위의 통계량에 대한 p-값을 구하여 입럭하시오(소수넷째자리)\n",
    "4. 유의수준 0.05 하에서 가설검정의 결과를 (채택/기각) 중 하나를 선택하여 입력하시오"
   ]
  },
  {
   "cell_type": "markdown",
   "id": "26913f06",
   "metadata": {},
   "source": [
    "think flow\n",
    "- 채택 : 귀무가설 채택 <-> 대립가설 기각 -> 혈압은 그대로거나 오히려 높아진다.\n",
    "- 기각 : 귀무가설 기각 <-> 대립가설 채택 -> 혈압은 낮아진다."
   ]
  },
  {
   "cell_type": "code",
   "execution_count": 2,
   "id": "f7b4bd7a",
   "metadata": {},
   "outputs": [
    {
     "data": {
      "text/html": [
       "<div>\n",
       "<style scoped>\n",
       "    .dataframe tbody tr th:only-of-type {\n",
       "        vertical-align: middle;\n",
       "    }\n",
       "\n",
       "    .dataframe tbody tr th {\n",
       "        vertical-align: top;\n",
       "    }\n",
       "\n",
       "    .dataframe thead th {\n",
       "        text-align: right;\n",
       "    }\n",
       "</style>\n",
       "<table border=\"1\" class=\"dataframe\">\n",
       "  <thead>\n",
       "    <tr style=\"text-align: right;\">\n",
       "      <th></th>\n",
       "      <th>patient</th>\n",
       "      <th>sex</th>\n",
       "      <th>agegrp</th>\n",
       "      <th>bp_before</th>\n",
       "      <th>bp_after</th>\n",
       "    </tr>\n",
       "  </thead>\n",
       "  <tbody>\n",
       "    <tr>\n",
       "      <th>0</th>\n",
       "      <td>1</td>\n",
       "      <td>Male</td>\n",
       "      <td>30-45</td>\n",
       "      <td>143</td>\n",
       "      <td>153</td>\n",
       "    </tr>\n",
       "    <tr>\n",
       "      <th>1</th>\n",
       "      <td>2</td>\n",
       "      <td>Male</td>\n",
       "      <td>30-45</td>\n",
       "      <td>163</td>\n",
       "      <td>170</td>\n",
       "    </tr>\n",
       "    <tr>\n",
       "      <th>2</th>\n",
       "      <td>3</td>\n",
       "      <td>Male</td>\n",
       "      <td>30-45</td>\n",
       "      <td>153</td>\n",
       "      <td>168</td>\n",
       "    </tr>\n",
       "    <tr>\n",
       "      <th>3</th>\n",
       "      <td>4</td>\n",
       "      <td>Male</td>\n",
       "      <td>30-45</td>\n",
       "      <td>153</td>\n",
       "      <td>142</td>\n",
       "    </tr>\n",
       "    <tr>\n",
       "      <th>4</th>\n",
       "      <td>5</td>\n",
       "      <td>Male</td>\n",
       "      <td>30-45</td>\n",
       "      <td>146</td>\n",
       "      <td>141</td>\n",
       "    </tr>\n",
       "  </tbody>\n",
       "</table>\n",
       "</div>"
      ],
      "text/plain": [
       "   patient   sex agegrp  bp_before  bp_after\n",
       "0        1  Male  30-45        143       153\n",
       "1        2  Male  30-45        163       170\n",
       "2        3  Male  30-45        153       168\n",
       "3        4  Male  30-45        153       142\n",
       "4        5  Male  30-45        146       141"
      ]
     },
     "execution_count": 2,
     "metadata": {},
     "output_type": "execute_result"
    }
   ],
   "source": [
    "import pandas as pd\n",
    "data = pd.read_csv('./blood_pressure.csv')\n",
    "data.head()"
   ]
  },
  {
   "cell_type": "markdown",
   "id": "657e3bec",
   "metadata": {},
   "source": [
    "#### 1. 표본평균을 구하시오(소수 둘째자리)"
   ]
  },
  {
   "cell_type": "code",
   "execution_count": 4,
   "id": "33046bd4",
   "metadata": {},
   "outputs": [
    {
     "name": "stdout",
     "output_type": "stream",
     "text": [
      "   patient   sex agegrp  bp_before  bp_after\n",
      "0        1  Male  30-45        143       153\n",
      "1        2  Male  30-45        163       170\n",
      "2        3  Male  30-45        153       168\n",
      "3        4  Male  30-45        153       142\n",
      "4        5  Male  30-45        146       141\n"
     ]
    }
   ],
   "source": [
    "print(data.head())"
   ]
  },
  {
   "cell_type": "code",
   "execution_count": 8,
   "id": "4d043860",
   "metadata": {},
   "outputs": [
    {
     "name": "stdout",
     "output_type": "stream",
     "text": [
      "-5.09\n"
     ]
    }
   ],
   "source": [
    "print(round((data['bp_after'] - data['bp_before']).mean(),2))\n",
    "# -5.09"
   ]
  },
  {
   "cell_type": "markdown",
   "id": "673c13c6",
   "metadata": {},
   "source": [
    "#### 2. 검정통계량을 구하시오(소수 넷째자리)"
   ]
  },
  {
   "cell_type": "code",
   "execution_count": 9,
   "id": "0fab7be0",
   "metadata": {},
   "outputs": [],
   "source": [
    "from scipy import stats"
   ]
  },
  {
   "cell_type": "code",
   "execution_count": 20,
   "id": "6b93a763",
   "metadata": {},
   "outputs": [
    {
     "name": "stdout",
     "output_type": "stream",
     "text": [
      "-3.3372\n"
     ]
    }
   ],
   "source": [
    "result = stats.ttest_rel(data['bp_after'],data['bp_before'],\n",
    "    axis=0,\n",
    "    alternative='less'\n",
    ")\n",
    "print(round(result.statistic,4))\n",
    "# -3.3372 / 0.0006"
   ]
  },
  {
   "cell_type": "markdown",
   "id": "e706b99e",
   "metadata": {},
   "source": [
    "#### 3. p-값을 구하시오(소수 넷째자리)"
   ]
  },
  {
   "cell_type": "code",
   "execution_count": 21,
   "id": "c6227874",
   "metadata": {},
   "outputs": [
    {
     "name": "stdout",
     "output_type": "stream",
     "text": [
      "0.0006\n"
     ]
    }
   ],
   "source": [
    "print(round(result.pvalue,4))"
   ]
  },
  {
   "cell_type": "markdown",
   "id": "599db8e1",
   "metadata": {},
   "source": [
    "#### 4. 유의수준 0.05하에서 가설검정의 결과를 채택/기각 중 하나를 선택하여 입력하십시오"
   ]
  },
  {
   "cell_type": "code",
   "execution_count": 23,
   "id": "f4022e0c",
   "metadata": {},
   "outputs": [
    {
     "name": "stdout",
     "output_type": "stream",
     "text": [
      "기각\n"
     ]
    }
   ],
   "source": [
    "print('기각')\n",
    "#p값이 0.05보다 낮음, 귀무가설을 기각하고 대립가설 채택"
   ]
  },
  {
   "cell_type": "code",
   "execution_count": null,
   "id": "ed137c5a",
   "metadata": {},
   "outputs": [],
   "source": []
  }
 ],
 "metadata": {
  "kernelspec": {
   "display_name": "Python 3 (ipykernel)",
   "language": "python",
   "name": "python3"
  },
  "language_info": {
   "codemirror_mode": {
    "name": "ipython",
    "version": 3
   },
   "file_extension": ".py",
   "mimetype": "text/x-python",
   "name": "python",
   "nbconvert_exporter": "python",
   "pygments_lexer": "ipython3",
   "version": "3.9.12"
  }
 },
 "nbformat": 4,
 "nbformat_minor": 5
}
