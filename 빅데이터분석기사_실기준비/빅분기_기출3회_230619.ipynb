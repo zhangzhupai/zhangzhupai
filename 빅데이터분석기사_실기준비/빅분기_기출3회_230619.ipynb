{
 "cells": [
  {
   "cell_type": "markdown",
   "id": "1508c9d2",
   "metadata": {},
   "source": [
    "#### 3회 기출복원 "
   ]
  },
  {
   "cell_type": "markdown",
   "id": "8a0eb98e",
   "metadata": {},
   "source": [
    "#### 작업1유형"
   ]
  },
  {
   "cell_type": "markdown",
   "id": "2156548e",
   "metadata": {},
   "source": [
    "1. 2022년 데이터 중 2022년 중앙값보다 큰 값의 데이터 수는"
   ]
  },
  {
   "cell_type": "code",
   "execution_count": null,
   "id": "e0842933",
   "metadata": {},
   "outputs": [],
   "source": [
    "import pandas as pd\n",
    "import numpy as np\n",
    "data = pd.read_csv('./t1-data2.csv',index_col='year')\n",
    "df = data.copy()\n",
    "df.head()"
   ]
  },
  {
   "cell_type": "code",
   "execution_count": null,
   "id": "85531040",
   "metadata": {},
   "outputs": [],
   "source": [
    "df = df.T"
   ]
  },
  {
   "cell_type": "code",
   "execution_count": null,
   "id": "6b6c7aad",
   "metadata": {},
   "outputs": [],
   "source": [
    "median_2022 = df['2022년'].median()\n",
    "median_2022"
   ]
  },
  {
   "cell_type": "code",
   "execution_count": null,
   "id": "32fa2566",
   "metadata": {},
   "outputs": [],
   "source": [
    "temp = df[df['2022년']>=median_2022]\n",
    "temp_2022 = temp['2022년']\n",
    "result = temp.shape[0]\n",
    "print(result)"
   ]
  },
  {
   "cell_type": "markdown",
   "id": "8539e1c3",
   "metadata": {},
   "source": [
    "2. 결측치 데이터(행)을 제거하고 앞에서부터 60% 데이터만 활용해 f1칼럼 3사분위 값을 구하시오.(소수점은 절사)"
   ]
  },
  {
   "cell_type": "code",
   "execution_count": null,
   "id": "e449ed75",
   "metadata": {},
   "outputs": [],
   "source": [
    "data = pd.read_csv('./t1-data1.csv')\n",
    "df = data.copy()\n",
    "df.head()\n",
    "\n",
    "df = df.dropna()\n",
    "df.isna().sum()\n",
    "print(df.shape)\n",
    "print(61*0.6)\n",
    "\n",
    "temp = df.iloc[0:36]\n",
    "temp.shape\n",
    "result = temp['f1'].quantile(0.75)\n",
    "print(result)"
   ]
  },
  {
   "cell_type": "markdown",
   "id": "0d0ea1e5",
   "metadata": {},
   "source": [
    "3. 결측치가 가장 큰 컬럼명을 구하시오"
   ]
  },
  {
   "cell_type": "code",
   "execution_count": null,
   "id": "2a2cc182",
   "metadata": {},
   "outputs": [],
   "source": [
    "data = pd.read_csv('./t1-data1.csv')\n",
    "df = data.copy()\n",
    "df.head()"
   ]
  },
  {
   "cell_type": "code",
   "execution_count": null,
   "id": "9a648b84",
   "metadata": {},
   "outputs": [],
   "source": [
    "result = df.isna().sum().sort_values(ascending=False)\n",
    "print(result.index[0])"
   ]
  },
  {
   "cell_type": "markdown",
   "id": "67478fa0",
   "metadata": {},
   "source": [
    "#### 작업2유형"
   ]
  },
  {
   "cell_type": "markdown",
   "id": "d481c2ff",
   "metadata": {},
   "source": [
    "- 여행 보험 패키지 상품을 구매할 확률 값을 구하시오\n",
    "- 평가 지표 : roc-auc"
   ]
  },
  {
   "cell_type": "code",
   "execution_count": 1,
   "id": "4bdd51c1",
   "metadata": {},
   "outputs": [],
   "source": [
    "import pandas as pd"
   ]
  },
  {
   "cell_type": "code",
   "execution_count": 2,
   "id": "9698760b",
   "metadata": {},
   "outputs": [],
   "source": [
    "train = pd.read_csv('./t2-1-train.csv')\n",
    "test = pd.read_csv('./t2-1-test.csv')"
   ]
  },
  {
   "cell_type": "code",
   "execution_count": 3,
   "id": "96f9d1c4",
   "metadata": {},
   "outputs": [
    {
     "name": "stdout",
     "output_type": "stream",
     "text": [
      "(1490, 10)\n",
      "===============================================================================\n",
      "<class 'pandas.core.frame.DataFrame'>\n",
      "RangeIndex: 1490 entries, 0 to 1489\n",
      "Data columns (total 10 columns):\n",
      " #   Column               Non-Null Count  Dtype  \n",
      "---  ------               --------------  -----  \n",
      " 0   id                   1490 non-null   int64  \n",
      " 1   Age                  1490 non-null   int64  \n",
      " 2   Employment Type      1490 non-null   object \n",
      " 3   GraduateOrNot        1490 non-null   object \n",
      " 4   AnnualIncome         1486 non-null   float64\n",
      " 5   FamilyMembers        1490 non-null   int64  \n",
      " 6   ChronicDiseases      1490 non-null   int64  \n",
      " 7   FrequentFlyer        1490 non-null   object \n",
      " 8   EverTravelledAbroad  1490 non-null   object \n",
      " 9   TravelInsurance      1490 non-null   int64  \n",
      "dtypes: float64(1), int64(5), object(4)\n",
      "memory usage: 116.5+ KB\n",
      "None\n",
      "===============================================================================\n",
      "(497, 9)\n",
      "===============================================================================\n",
      "<class 'pandas.core.frame.DataFrame'>\n",
      "RangeIndex: 497 entries, 0 to 496\n",
      "Data columns (total 9 columns):\n",
      " #   Column               Non-Null Count  Dtype  \n",
      "---  ------               --------------  -----  \n",
      " 0   id                   497 non-null    int64  \n",
      " 1   Age                  497 non-null    int64  \n",
      " 2   Employment Type      497 non-null    object \n",
      " 3   GraduateOrNot        497 non-null    object \n",
      " 4   AnnualIncome         494 non-null    float64\n",
      " 5   FamilyMembers        497 non-null    int64  \n",
      " 6   ChronicDiseases      497 non-null    int64  \n",
      " 7   FrequentFlyer        497 non-null    object \n",
      " 8   EverTravelledAbroad  497 non-null    object \n",
      "dtypes: float64(1), int64(4), object(4)\n",
      "memory usage: 35.1+ KB\n",
      "None\n",
      "===============================================================================\n"
     ]
    }
   ],
   "source": [
    "print(train.shape)\n",
    "print('===============================================================================')\n",
    "print(train.info())\n",
    "print('===============================================================================')\n",
    "print(test.shape)\n",
    "print('===============================================================================')\n",
    "print(test.info())\n",
    "print('===============================================================================')"
   ]
  },
  {
   "cell_type": "code",
   "execution_count": 4,
   "id": "4110349f",
   "metadata": {},
   "outputs": [
    {
     "data": {
      "text/html": [
       "<div>\n",
       "<style scoped>\n",
       "    .dataframe tbody tr th:only-of-type {\n",
       "        vertical-align: middle;\n",
       "    }\n",
       "\n",
       "    .dataframe tbody tr th {\n",
       "        vertical-align: top;\n",
       "    }\n",
       "\n",
       "    .dataframe thead th {\n",
       "        text-align: right;\n",
       "    }\n",
       "</style>\n",
       "<table border=\"1\" class=\"dataframe\">\n",
       "  <thead>\n",
       "    <tr style=\"text-align: right;\">\n",
       "      <th></th>\n",
       "      <th>id</th>\n",
       "      <th>Age</th>\n",
       "      <th>Employment Type</th>\n",
       "      <th>GraduateOrNot</th>\n",
       "      <th>AnnualIncome</th>\n",
       "      <th>FamilyMembers</th>\n",
       "      <th>ChronicDiseases</th>\n",
       "      <th>FrequentFlyer</th>\n",
       "      <th>EverTravelledAbroad</th>\n",
       "      <th>TravelInsurance</th>\n",
       "    </tr>\n",
       "  </thead>\n",
       "  <tbody>\n",
       "    <tr>\n",
       "      <th>0</th>\n",
       "      <td>10000</td>\n",
       "      <td>28</td>\n",
       "      <td>Private Sector/Self Employed</td>\n",
       "      <td>Yes</td>\n",
       "      <td>1250000.0</td>\n",
       "      <td>6</td>\n",
       "      <td>1</td>\n",
       "      <td>No</td>\n",
       "      <td>No</td>\n",
       "      <td>0</td>\n",
       "    </tr>\n",
       "    <tr>\n",
       "      <th>1</th>\n",
       "      <td>10001</td>\n",
       "      <td>31</td>\n",
       "      <td>Private Sector/Self Employed</td>\n",
       "      <td>Yes</td>\n",
       "      <td>1250000.0</td>\n",
       "      <td>7</td>\n",
       "      <td>1</td>\n",
       "      <td>No</td>\n",
       "      <td>No</td>\n",
       "      <td>0</td>\n",
       "    </tr>\n",
       "    <tr>\n",
       "      <th>2</th>\n",
       "      <td>10002</td>\n",
       "      <td>29</td>\n",
       "      <td>Private Sector/Self Employed</td>\n",
       "      <td>Yes</td>\n",
       "      <td>1200000.0</td>\n",
       "      <td>7</td>\n",
       "      <td>0</td>\n",
       "      <td>No</td>\n",
       "      <td>No</td>\n",
       "      <td>1</td>\n",
       "    </tr>\n",
       "    <tr>\n",
       "      <th>3</th>\n",
       "      <td>10003</td>\n",
       "      <td>33</td>\n",
       "      <td>Government Sector</td>\n",
       "      <td>Yes</td>\n",
       "      <td>650000.0</td>\n",
       "      <td>6</td>\n",
       "      <td>1</td>\n",
       "      <td>No</td>\n",
       "      <td>No</td>\n",
       "      <td>1</td>\n",
       "    </tr>\n",
       "    <tr>\n",
       "      <th>4</th>\n",
       "      <td>10004</td>\n",
       "      <td>28</td>\n",
       "      <td>Private Sector/Self Employed</td>\n",
       "      <td>Yes</td>\n",
       "      <td>800000.0</td>\n",
       "      <td>6</td>\n",
       "      <td>0</td>\n",
       "      <td>No</td>\n",
       "      <td>Yes</td>\n",
       "      <td>1</td>\n",
       "    </tr>\n",
       "  </tbody>\n",
       "</table>\n",
       "</div>"
      ],
      "text/plain": [
       "      id  Age               Employment Type GraduateOrNot  AnnualIncome  \\\n",
       "0  10000   28  Private Sector/Self Employed           Yes     1250000.0   \n",
       "1  10001   31  Private Sector/Self Employed           Yes     1250000.0   \n",
       "2  10002   29  Private Sector/Self Employed           Yes     1200000.0   \n",
       "3  10003   33             Government Sector           Yes      650000.0   \n",
       "4  10004   28  Private Sector/Self Employed           Yes      800000.0   \n",
       "\n",
       "   FamilyMembers  ChronicDiseases FrequentFlyer EverTravelledAbroad  \\\n",
       "0              6                1            No                  No   \n",
       "1              7                1            No                  No   \n",
       "2              7                0            No                  No   \n",
       "3              6                1            No                  No   \n",
       "4              6                0            No                 Yes   \n",
       "\n",
       "   TravelInsurance  \n",
       "0                0  \n",
       "1                0  \n",
       "2                1  \n",
       "3                1  \n",
       "4                1  "
      ]
     },
     "execution_count": 4,
     "metadata": {},
     "output_type": "execute_result"
    }
   ],
   "source": [
    "train.head()"
   ]
  },
  {
   "cell_type": "code",
   "execution_count": 5,
   "id": "eb679021",
   "metadata": {},
   "outputs": [],
   "source": [
    "train['AnnualIncome'] = train['AnnualIncome'].fillna(train['AnnualIncome'].mean())\n",
    "test['AnnualIncome'] = test['AnnualIncome'].fillna(test['AnnualIncome'].mean())"
   ]
  },
  {
   "cell_type": "code",
   "execution_count": 6,
   "id": "e5db1245",
   "metadata": {},
   "outputs": [],
   "source": [
    "target = train.pop('TravelInsurance')"
   ]
  },
  {
   "cell_type": "code",
   "execution_count": 7,
   "id": "dac87e15",
   "metadata": {},
   "outputs": [
    {
     "data": {
      "text/plain": [
       "(1987, 9)"
      ]
     },
     "execution_count": 7,
     "metadata": {},
     "output_type": "execute_result"
    }
   ],
   "source": [
    "df = pd.concat([train,test])\n",
    "df.shape"
   ]
  },
  {
   "cell_type": "code",
   "execution_count": 11,
   "id": "0a30e9e9",
   "metadata": {},
   "outputs": [],
   "source": [
    "from sklearn.preprocessing import LabelEncoder\n",
    "encoder = LabelEncoder()\n",
    "df['Employment Type'] = encoder.fit_transform(df['Employment Type'])\n",
    "df['GraduateOrNot'] = encoder.fit_transform(df['GraduateOrNot'])\n",
    "df['FrequentFlyer'] = encoder.fit_transform(df['FrequentFlyer'])\n",
    "df['EverTravelledAbroad'] = encoder.fit_transform(df['EverTravelledAbroad'])"
   ]
  },
  {
   "cell_type": "code",
   "execution_count": 14,
   "id": "b10bbd12",
   "metadata": {},
   "outputs": [],
   "source": [
    "train = df[:train.shape[0]].copy()\n",
    "test = df[train.shape[0]:].copy()"
   ]
  },
  {
   "cell_type": "code",
   "execution_count": 15,
   "id": "baf0ae3a",
   "metadata": {},
   "outputs": [],
   "source": [
    "from sklearn.preprocessing import MinMaxScaler\n",
    "scaler = MinMaxScaler()\n",
    "\n",
    "train['AnnualIncome'] = scaler.fit_transform(train[['AnnualIncome']])\n",
    "test['AnnualIncome'] = scaler.fit_transform(test[['AnnualIncome']])"
   ]
  },
  {
   "cell_type": "code",
   "execution_count": 16,
   "id": "0bee8e64",
   "metadata": {},
   "outputs": [
    {
     "data": {
      "text/plain": [
       "((1192, 9), (298, 9), (1192,), (298,))"
      ]
     },
     "execution_count": 16,
     "metadata": {},
     "output_type": "execute_result"
    }
   ],
   "source": [
    "from sklearn.model_selection import train_test_split\n",
    "x_train, x_test, y_train, y_test = train_test_split(train,target,test_size=0.2,random_state=2022)\n",
    "x_train.shape,x_test.shape,y_train.shape,y_test.shape"
   ]
  },
  {
   "cell_type": "code",
   "execution_count": 35,
   "id": "eafac614",
   "metadata": {},
   "outputs": [
    {
     "data": {
      "text/plain": [
       "0.7671464646464646"
      ]
     },
     "execution_count": 35,
     "metadata": {},
     "output_type": "execute_result"
    }
   ],
   "source": [
    "from sklearn.ensemble import RandomForestClassifier\n",
    "model = RandomForestClassifier(n_estimators=100,max_depth=5)\n",
    "model.fit(x_train,y_train)\n",
    "pred = model.predict_proba(x_test)\n",
    "\n",
    "from sklearn.metrics import roc_auc_score\n",
    "roc_auc_score(y_test,pred[:,1])"
   ]
  },
  {
   "cell_type": "code",
   "execution_count": 36,
   "id": "c8150161",
   "metadata": {},
   "outputs": [
    {
     "data": {
      "text/plain": [
       "0.7735353535353535"
      ]
     },
     "execution_count": 36,
     "metadata": {},
     "output_type": "execute_result"
    }
   ],
   "source": [
    "from xgboost import XGBClassifier\n",
    "model2 = XGBClassifier(n_estimators=100,max_depth=5)\n",
    "model2.fit(x_train,y_train)\n",
    "pred2 = model2.predict_proba(x_test)\n",
    "\n",
    "roc_auc_score(y_test,pred2[:,1])"
   ]
  },
  {
   "cell_type": "code",
   "execution_count": 32,
   "id": "0c3c3e6b",
   "metadata": {},
   "outputs": [],
   "source": [
    "model = RandomForestClassifier()\n",
    "model.fit(x_train,y_train)\n",
    "pred = model.predict_proba(test)\n",
    "\n",
    "submit = pd.DataFrame()\n",
    "submit['id'] = test['id']\n",
    "submit['TravelInsurance'] = pred[:,1]\n",
    "submit.head()\n",
    "submit.to_csv(\"2022.csv\", index=False)"
   ]
  },
  {
   "cell_type": "code",
   "execution_count": null,
   "id": "63291170",
   "metadata": {},
   "outputs": [],
   "source": []
  }
 ],
 "metadata": {
  "kernelspec": {
   "display_name": "Python 3 (ipykernel)",
   "language": "python",
   "name": "python3"
  },
  "language_info": {
   "codemirror_mode": {
    "name": "ipython",
    "version": 3
   },
   "file_extension": ".py",
   "mimetype": "text/x-python",
   "name": "python",
   "nbconvert_exporter": "python",
   "pygments_lexer": "ipython3",
   "version": "3.9.12"
  }
 },
 "nbformat": 4,
 "nbformat_minor": 5
}
