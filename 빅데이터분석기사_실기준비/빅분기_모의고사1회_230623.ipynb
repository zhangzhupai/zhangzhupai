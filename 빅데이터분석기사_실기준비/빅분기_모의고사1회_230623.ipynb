{
 "cells": [
  {
   "cell_type": "markdown",
   "id": "7fdb59d5",
   "metadata": {},
   "source": [
    "# 작업1유형"
   ]
  },
  {
   "cell_type": "markdown",
   "id": "e4ba2800",
   "metadata": {},
   "source": [
    "Q1. 마케팅 응답 고객들의 나이를 10살 단위로 변환 했을 때, 가장 많은 인원을 가진 나이대는? (0~9 : 0 , 10~19 : 10)"
   ]
  },
  {
   "cell_type": "code",
   "execution_count": null,
   "id": "166b71e0",
   "metadata": {},
   "outputs": [],
   "source": [
    "import pandas as pd\n",
    "df = pd.read_csv('https://raw.githubusercontent.com/Datamanim/datarepo/main/bank/train.csv')\n",
    "df.head()\n",
    "df['age_group'] = df['age']//10*10\n",
    "result = df['age_group'].value_counts().sort_values(ascending=False)\n",
    "result\n",
    "print(result.index[0])"
   ]
  },
  {
   "cell_type": "markdown",
   "id": "7825c506",
   "metadata": {},
   "source": [
    "Q2. 마케팅 응답 고객들의 나이를 10살 단위로 변환 했을 때, 가장 많은 나이대 구간의 인원은 몇명인가?"
   ]
  },
  {
   "cell_type": "code",
   "execution_count": null,
   "id": "33940ed6",
   "metadata": {},
   "outputs": [],
   "source": [
    "print(result.values[0])"
   ]
  },
  {
   "cell_type": "markdown",
   "id": "8a46f5ed",
   "metadata": {},
   "source": [
    "Q3. 나이가 25살 이상 29살 미만인 응답 고객들중 housing컬럼의 값이 yes인 고객의 수는"
   ]
  },
  {
   "cell_type": "code",
   "execution_count": null,
   "id": "69b7e4f9",
   "metadata": {},
   "outputs": [],
   "source": [
    "cond1 = df[(df['age']>=25) & (df['age']<29)]\n",
    "cond2 = cond1[cond1['housing']=='yes']\n",
    "result = cond2.shape\n",
    "print(result[0])"
   ]
  },
  {
   "cell_type": "markdown",
   "id": "84592f90",
   "metadata": {},
   "source": [
    "Q4. numeric한 값을 가지지 않은 컬럼들중 unique한 값을 가장 많이 가지는 컬럼은?"
   ]
  },
  {
   "cell_type": "code",
   "execution_count": null,
   "id": "95cd7490",
   "metadata": {},
   "outputs": [],
   "source": [
    "temp = df.select_dtypes(exclude=['number'])\n",
    "temp\n",
    "\n",
    "print('job:',len(temp['job'].unique()))\n",
    "print('marital:',len(temp['marital'].unique()))\n",
    "print('education:',len(temp['education'].unique()))\n",
    "print('contact:',len(temp['contact'].unique()))\n",
    "print('month:',len(temp['month'].unique()))\n",
    "print('poutcome:',len(temp['poutcome'].unique()))\n",
    "\n",
    "print('[''job'',''month'']')"
   ]
  },
  {
   "cell_type": "markdown",
   "id": "60c9b9b1",
   "metadata": {},
   "source": [
    "Q5. balance 컬럼값들의 평균값 이상을 가지는 데이터를 ID값을 기준으로 내림차순 정렬했을때 상위 100개 데이터의 balance값의 평균은?"
   ]
  },
  {
   "cell_type": "code",
   "execution_count": null,
   "id": "0f90e3bc",
   "metadata": {},
   "outputs": [],
   "source": [
    "temp = df[['balance','ID']]\n",
    "temp\n",
    "mean = temp['balance'].mean()\n",
    "\n",
    "top_100 = temp[(temp['balance']>=mean)].sort_values('ID',ascending=False).head(100)\n",
    "result = top_100['balance'].mean()\n",
    "print(result)"
   ]
  },
  {
   "cell_type": "markdown",
   "id": "af9d225a",
   "metadata": {},
   "source": [
    "Q6.가장 많은 광고를 집행했던 날짜는 언제인가? (데이터 그대로 일(숫자),달(영문)으로 표기)"
   ]
  },
  {
   "cell_type": "code",
   "execution_count": null,
   "id": "a1a155aa",
   "metadata": {},
   "outputs": [],
   "source": [
    "temp = df[['day','month']]\n",
    "result = temp.value_counts().index[0]\n",
    "print(result)"
   ]
  },
  {
   "cell_type": "markdown",
   "id": "28d973e4",
   "metadata": {},
   "source": [
    "Q7. 데이터의 job이 unknown 상태인 고객들의 age 컬럼 값의 정규성을 검정하고자 한다. 샤피로 검정의 p-value값을 구하여라"
   ]
  },
  {
   "cell_type": "code",
   "execution_count": null,
   "id": "bfbc73bb",
   "metadata": {},
   "outputs": [],
   "source": [
    "cond = df[(df['job']=='unknown')]\n",
    "target = cond['age']\n",
    "from scipy.stats import shapiro\n",
    "result = shapiro(target)\n",
    "print(result[1])"
   ]
  },
  {
   "cell_type": "markdown",
   "id": "9c52ed42",
   "metadata": {},
   "source": [
    "Q8.age와 balance의 상관계수를 구하여라"
   ]
  },
  {
   "cell_type": "code",
   "execution_count": null,
   "id": "5ebc75ef",
   "metadata": {},
   "outputs": [],
   "source": [
    "corr = df[['age','balance']].corr()\n",
    "print(corr.iloc[0,1])"
   ]
  },
  {
   "cell_type": "markdown",
   "id": "49a40d2d",
   "metadata": {},
   "source": [
    "Q9. y 변수와 education 변수는 독립인지 카이제곱검정을 통해 확인하려한다. p-value값을 출력하라"
   ]
  },
  {
   "cell_type": "code",
   "execution_count": null,
   "id": "521597b7",
   "metadata": {},
   "outputs": [],
   "source": [
    "v = pd.crosstab(df['y'],df['education'])\n",
    "from scipy.stats import chi2_contingency\n",
    "chi2, p, dof,expected = chi2_contingency(v)\n",
    "display(v)\n",
    "print(p)"
   ]
  },
  {
   "cell_type": "markdown",
   "id": "daa1a48f",
   "metadata": {},
   "source": [
    "Q10. 각 job에 따라 divorced/married 인원의 비율을 확인 했을 때 그 값이 가장 높은 값은?"
   ]
  },
  {
   "cell_type": "code",
   "execution_count": null,
   "id": "a7207693",
   "metadata": {},
   "outputs": [],
   "source": [
    "temp = df[['job','marital']]\n",
    "cond1 = temp['marital'].value_counts()\n",
    "cond1\n",
    "\n",
    "cond2 = temp.groupby(['job'])['marital'].value_counts()\n",
    "cond2\n",
    "print('admin:',207/762)\n",
    "print('blue_color:',205/1775)\n",
    "print('entrepreneur:',44/272)\n",
    "print('housemaid:',49/245)\n",
    "print('management:',323/1580)\n",
    "print('self-employed:', 39/284)\n",
    "print('services:',138/584)\n",
    "print('student:', 0/24)\n",
    "print('technician:',246/1115)\n",
    "print('unemployed:',62/219)\n",
    "print('unknown:',5/58)\n",
    "\n",
    "print(0.2831050228310502)"
   ]
  },
  {
   "cell_type": "code",
   "execution_count": null,
   "id": "02ef42d7",
   "metadata": {},
   "outputs": [],
   "source": [
    "t = df.groupby(['job','marital']).size().reset_index()\n",
    "pivot = t.pivot_table(index='job',columns='marital')[0]\n",
    "pivot = pivot.fillna(0)\n",
    "pivot['ratio'] = pivot['divorced']/pivot['married']\n",
    "\n",
    "result = pivot.sort_values('ratio',ascending=False)\n",
    "result['ratio'][0]"
   ]
  },
  {
   "cell_type": "markdown",
   "id": "2359ee1a",
   "metadata": {},
   "source": [
    "# 작업 2유형 "
   ]
  },
  {
   "cell_type": "markdown",
   "id": "c441c99d",
   "metadata": {},
   "source": [
    "Q. 은행의 전화 마케팅에 대해 고객의 반응 여부를 예측하시오"
   ]
  },
  {
   "cell_type": "code",
   "execution_count": 7,
   "id": "e8ac5324",
   "metadata": {},
   "outputs": [],
   "source": [
    "import pandas as pd\n",
    "train= pd.read_csv('https://raw.githubusercontent.com/Datamanim/datarepo/main/bank/train.csv')\n",
    "test= pd.read_csv('https://raw.githubusercontent.com/Datamanim/datarepo/main/bank/test.csv')\n",
    "submission= pd.read_csv('https://raw.githubusercontent.com/Datamanim/datarepo/main/bank/submission.csv')"
   ]
  },
  {
   "cell_type": "code",
   "execution_count": 12,
   "id": "addbb3d9",
   "metadata": {},
   "outputs": [],
   "source": [
    "y = train.pop('y')\n",
    "train = train.drop(columns='ID')\n",
    "test = test.drop(columns='ID')"
   ]
  },
  {
   "cell_type": "code",
   "execution_count": 13,
   "id": "76b54207",
   "metadata": {},
   "outputs": [
    {
     "data": {
      "text/html": [
       "<div>\n",
       "<style scoped>\n",
       "    .dataframe tbody tr th:only-of-type {\n",
       "        vertical-align: middle;\n",
       "    }\n",
       "\n",
       "    .dataframe tbody tr th {\n",
       "        vertical-align: top;\n",
       "    }\n",
       "\n",
       "    .dataframe thead th {\n",
       "        text-align: right;\n",
       "    }\n",
       "</style>\n",
       "<table border=\"1\" class=\"dataframe\">\n",
       "  <thead>\n",
       "    <tr style=\"text-align: right;\">\n",
       "      <th></th>\n",
       "      <th>job</th>\n",
       "      <th>marital</th>\n",
       "      <th>education</th>\n",
       "      <th>default</th>\n",
       "      <th>housing</th>\n",
       "      <th>loan</th>\n",
       "      <th>contact</th>\n",
       "      <th>month</th>\n",
       "      <th>poutcome</th>\n",
       "    </tr>\n",
       "  </thead>\n",
       "  <tbody>\n",
       "    <tr>\n",
       "      <th>0</th>\n",
       "      <td>technician</td>\n",
       "      <td>single</td>\n",
       "      <td>tertiary</td>\n",
       "      <td>no</td>\n",
       "      <td>no</td>\n",
       "      <td>no</td>\n",
       "      <td>cellular</td>\n",
       "      <td>may</td>\n",
       "      <td>unknown</td>\n",
       "    </tr>\n",
       "    <tr>\n",
       "      <th>1</th>\n",
       "      <td>services</td>\n",
       "      <td>single</td>\n",
       "      <td>secondary</td>\n",
       "      <td>no</td>\n",
       "      <td>yes</td>\n",
       "      <td>yes</td>\n",
       "      <td>unknown</td>\n",
       "      <td>jun</td>\n",
       "      <td>unknown</td>\n",
       "    </tr>\n",
       "    <tr>\n",
       "      <th>2</th>\n",
       "      <td>management</td>\n",
       "      <td>single</td>\n",
       "      <td>secondary</td>\n",
       "      <td>no</td>\n",
       "      <td>no</td>\n",
       "      <td>no</td>\n",
       "      <td>cellular</td>\n",
       "      <td>aug</td>\n",
       "      <td>unknown</td>\n",
       "    </tr>\n",
       "    <tr>\n",
       "      <th>3</th>\n",
       "      <td>technician</td>\n",
       "      <td>married</td>\n",
       "      <td>unknown</td>\n",
       "      <td>no</td>\n",
       "      <td>yes</td>\n",
       "      <td>no</td>\n",
       "      <td>cellular</td>\n",
       "      <td>jul</td>\n",
       "      <td>unknown</td>\n",
       "    </tr>\n",
       "    <tr>\n",
       "      <th>4</th>\n",
       "      <td>admin.</td>\n",
       "      <td>single</td>\n",
       "      <td>secondary</td>\n",
       "      <td>no</td>\n",
       "      <td>no</td>\n",
       "      <td>yes</td>\n",
       "      <td>unknown</td>\n",
       "      <td>sep</td>\n",
       "      <td>unknown</td>\n",
       "    </tr>\n",
       "    <tr>\n",
       "      <th>...</th>\n",
       "      <td>...</td>\n",
       "      <td>...</td>\n",
       "      <td>...</td>\n",
       "      <td>...</td>\n",
       "      <td>...</td>\n",
       "      <td>...</td>\n",
       "      <td>...</td>\n",
       "      <td>...</td>\n",
       "      <td>...</td>\n",
       "    </tr>\n",
       "    <tr>\n",
       "      <th>12865</th>\n",
       "      <td>technician</td>\n",
       "      <td>married</td>\n",
       "      <td>secondary</td>\n",
       "      <td>no</td>\n",
       "      <td>yes</td>\n",
       "      <td>no</td>\n",
       "      <td>cellular</td>\n",
       "      <td>apr</td>\n",
       "      <td>failure</td>\n",
       "    </tr>\n",
       "    <tr>\n",
       "      <th>12866</th>\n",
       "      <td>unknown</td>\n",
       "      <td>married</td>\n",
       "      <td>secondary</td>\n",
       "      <td>no</td>\n",
       "      <td>no</td>\n",
       "      <td>no</td>\n",
       "      <td>cellular</td>\n",
       "      <td>nov</td>\n",
       "      <td>failure</td>\n",
       "    </tr>\n",
       "    <tr>\n",
       "      <th>12867</th>\n",
       "      <td>unemployed</td>\n",
       "      <td>single</td>\n",
       "      <td>tertiary</td>\n",
       "      <td>no</td>\n",
       "      <td>yes</td>\n",
       "      <td>no</td>\n",
       "      <td>cellular</td>\n",
       "      <td>nov</td>\n",
       "      <td>failure</td>\n",
       "    </tr>\n",
       "    <tr>\n",
       "      <th>12868</th>\n",
       "      <td>management</td>\n",
       "      <td>married</td>\n",
       "      <td>tertiary</td>\n",
       "      <td>no</td>\n",
       "      <td>yes</td>\n",
       "      <td>no</td>\n",
       "      <td>unknown</td>\n",
       "      <td>may</td>\n",
       "      <td>unknown</td>\n",
       "    </tr>\n",
       "    <tr>\n",
       "      <th>12869</th>\n",
       "      <td>services</td>\n",
       "      <td>single</td>\n",
       "      <td>secondary</td>\n",
       "      <td>no</td>\n",
       "      <td>no</td>\n",
       "      <td>no</td>\n",
       "      <td>unknown</td>\n",
       "      <td>may</td>\n",
       "      <td>unknown</td>\n",
       "    </tr>\n",
       "  </tbody>\n",
       "</table>\n",
       "<p>12870 rows × 9 columns</p>\n",
       "</div>"
      ],
      "text/plain": [
       "              job  marital  education default housing loan   contact month  \\\n",
       "0      technician   single   tertiary      no      no   no  cellular   may   \n",
       "1        services   single  secondary      no     yes  yes   unknown   jun   \n",
       "2      management   single  secondary      no      no   no  cellular   aug   \n",
       "3      technician  married    unknown      no     yes   no  cellular   jul   \n",
       "4          admin.   single  secondary      no      no  yes   unknown   sep   \n",
       "...           ...      ...        ...     ...     ...  ...       ...   ...   \n",
       "12865  technician  married  secondary      no     yes   no  cellular   apr   \n",
       "12866     unknown  married  secondary      no      no   no  cellular   nov   \n",
       "12867  unemployed   single   tertiary      no     yes   no  cellular   nov   \n",
       "12868  management  married   tertiary      no     yes   no   unknown   may   \n",
       "12869    services   single  secondary      no      no   no   unknown   may   \n",
       "\n",
       "      poutcome  \n",
       "0      unknown  \n",
       "1      unknown  \n",
       "2      unknown  \n",
       "3      unknown  \n",
       "4      unknown  \n",
       "...        ...  \n",
       "12865  failure  \n",
       "12866  failure  \n",
       "12867  failure  \n",
       "12868  unknown  \n",
       "12869  unknown  \n",
       "\n",
       "[12870 rows x 9 columns]"
      ]
     },
     "execution_count": 13,
     "metadata": {},
     "output_type": "execute_result"
    }
   ],
   "source": [
    "train.select_dtypes(include='object')"
   ]
  },
  {
   "cell_type": "code",
   "execution_count": 15,
   "id": "140caa06",
   "metadata": {},
   "outputs": [],
   "source": [
    "from sklearn.preprocessing import LabelEncoder\n",
    "encoder = LabelEncoder()"
   ]
  },
  {
   "cell_type": "code",
   "execution_count": 26,
   "id": "dbed3f9e",
   "metadata": {},
   "outputs": [],
   "source": [
    "train['job'] = encoder.fit_transform(train['job'])\n",
    "test['job'] = encoder.fit_transform(test['job'])\n",
    "\n",
    "train['marital'] = encoder.fit_transform(train['marital'])\n",
    "test['marital'] = encoder.fit_transform(test['marital'])\n",
    "\n",
    "train['education'] = encoder.fit_transform(train['education'])\n",
    "test['education'] = encoder.fit_transform(test['education'])\n",
    "\n",
    "train['default'] = encoder.fit_transform(train['default'])\n",
    "test['default'] = encoder.fit_transform(test['default'])\n",
    "\n",
    "train['housing'] = encoder.fit_transform(train['housing'])\n",
    "test['housing'] = encoder.fit_transform(test['housing'])\n",
    "\n",
    "train['loan'] = encoder.fit_transform(train['loan'])\n",
    "test['loan'] = encoder.fit_transform(test['loan'])\n",
    "\n",
    "train['contact'] = encoder.fit_transform(train['contact'])\n",
    "test['contact'] = encoder.fit_transform(test['contact'])\n",
    "\n",
    "train['month'] = encoder.fit_transform(train['month'])\n",
    "test['month'] = encoder.fit_transform(test['month'])\n",
    "\n",
    "train['poutcome'] = encoder.fit_transform(train['poutcome'])\n",
    "test['poutcome'] = encoder.fit_transform(test['poutcome'])"
   ]
  },
  {
   "cell_type": "code",
   "execution_count": 28,
   "id": "74be538d",
   "metadata": {},
   "outputs": [],
   "source": [
    "from sklearn.ensemble import RandomForestClassifier\n",
    "from xgboost import XGBClassifier\n",
    "from sklearn.metrics import roc_auc_score"
   ]
  },
  {
   "cell_type": "code",
   "execution_count": 33,
   "id": "af5d1198",
   "metadata": {},
   "outputs": [],
   "source": [
    "from sklearn.model_selection import train_test_split\n",
    "x_train,x_test,y_train,y_test = train_test_split(train,y,test_size=0.2)"
   ]
  },
  {
   "cell_type": "code",
   "execution_count": 34,
   "id": "1c03aac2",
   "metadata": {},
   "outputs": [],
   "source": [
    "import numpy as np"
   ]
  },
  {
   "cell_type": "code",
   "execution_count": 36,
   "id": "47d47325",
   "metadata": {},
   "outputs": [
    {
     "data": {
      "text/plain": [
       "0.7987050853271589"
      ]
     },
     "execution_count": 36,
     "metadata": {},
     "output_type": "execute_result"
    }
   ],
   "source": [
    "rf = RandomForestClassifier(max_depth=10, n_jobs=10, random_state=100)\n",
    "rf.fit(x_train,np.ravel(y_train))\n",
    "rf_pred = rf.predict_proba(x_test)\n",
    "roc_auc_score(y_test,rf_pred[:,-1])"
   ]
  },
  {
   "cell_type": "code",
   "execution_count": 41,
   "id": "479ff435",
   "metadata": {},
   "outputs": [
    {
     "data": {
      "text/plain": [
       "array([0.72919102, 0.53192577, 0.10139401, ..., 0.24275548, 0.45116805,\n",
       "       0.13632057])"
      ]
     },
     "execution_count": 41,
     "metadata": {},
     "output_type": "execute_result"
    }
   ],
   "source": [
    "predict = rf.predict_proba(test)\n",
    "predict[:,1]"
   ]
  },
  {
   "cell_type": "code",
   "execution_count": 44,
   "id": "584b1504",
   "metadata": {},
   "outputs": [
    {
     "data": {
      "text/html": [
       "<div>\n",
       "<style scoped>\n",
       "    .dataframe tbody tr th:only-of-type {\n",
       "        vertical-align: middle;\n",
       "    }\n",
       "\n",
       "    .dataframe tbody tr th {\n",
       "        vertical-align: top;\n",
       "    }\n",
       "\n",
       "    .dataframe thead th {\n",
       "        text-align: right;\n",
       "    }\n",
       "</style>\n",
       "<table border=\"1\" class=\"dataframe\">\n",
       "  <thead>\n",
       "    <tr style=\"text-align: right;\">\n",
       "      <th></th>\n",
       "      <th>ID</th>\n",
       "      <th>predict</th>\n",
       "    </tr>\n",
       "  </thead>\n",
       "  <tbody>\n",
       "    <tr>\n",
       "      <th>0</th>\n",
       "      <td>53608</td>\n",
       "      <td>0.729191</td>\n",
       "    </tr>\n",
       "    <tr>\n",
       "      <th>1</th>\n",
       "      <td>51055</td>\n",
       "      <td>0.531926</td>\n",
       "    </tr>\n",
       "    <tr>\n",
       "      <th>2</th>\n",
       "      <td>52573</td>\n",
       "      <td>0.101394</td>\n",
       "    </tr>\n",
       "    <tr>\n",
       "      <th>3</th>\n",
       "      <td>50458</td>\n",
       "      <td>0.132392</td>\n",
       "    </tr>\n",
       "    <tr>\n",
       "      <th>4</th>\n",
       "      <td>52272</td>\n",
       "      <td>0.309581</td>\n",
       "    </tr>\n",
       "    <tr>\n",
       "      <th>...</th>\n",
       "      <td>...</td>\n",
       "      <td>...</td>\n",
       "    </tr>\n",
       "    <tr>\n",
       "      <th>4286</th>\n",
       "      <td>50332</td>\n",
       "      <td>0.233283</td>\n",
       "    </tr>\n",
       "    <tr>\n",
       "      <th>4287</th>\n",
       "      <td>51293</td>\n",
       "      <td>0.751377</td>\n",
       "    </tr>\n",
       "    <tr>\n",
       "      <th>4288</th>\n",
       "      <td>54023</td>\n",
       "      <td>0.242755</td>\n",
       "    </tr>\n",
       "    <tr>\n",
       "      <th>4289</th>\n",
       "      <td>53775</td>\n",
       "      <td>0.451168</td>\n",
       "    </tr>\n",
       "    <tr>\n",
       "      <th>4290</th>\n",
       "      <td>51945</td>\n",
       "      <td>0.136321</td>\n",
       "    </tr>\n",
       "  </tbody>\n",
       "</table>\n",
       "<p>4291 rows × 2 columns</p>\n",
       "</div>"
      ],
      "text/plain": [
       "         ID   predict\n",
       "0     53608  0.729191\n",
       "1     51055  0.531926\n",
       "2     52573  0.101394\n",
       "3     50458  0.132392\n",
       "4     52272  0.309581\n",
       "...     ...       ...\n",
       "4286  50332  0.233283\n",
       "4287  51293  0.751377\n",
       "4288  54023  0.242755\n",
       "4289  53775  0.451168\n",
       "4290  51945  0.136321\n",
       "\n",
       "[4291 rows x 2 columns]"
      ]
     },
     "execution_count": 44,
     "metadata": {},
     "output_type": "execute_result"
    }
   ],
   "source": [
    "submission['predict'] = predict[:,1]\n",
    "submission"
   ]
  },
  {
   "cell_type": "code",
   "execution_count": null,
   "id": "632a3a72",
   "metadata": {},
   "outputs": [],
   "source": []
  }
 ],
 "metadata": {
  "kernelspec": {
   "display_name": "Python 3 (ipykernel)",
   "language": "python",
   "name": "python3"
  },
  "language_info": {
   "codemirror_mode": {
    "name": "ipython",
    "version": 3
   },
   "file_extension": ".py",
   "mimetype": "text/x-python",
   "name": "python",
   "nbconvert_exporter": "python",
   "pygments_lexer": "ipython3",
   "version": "3.9.12"
  }
 },
 "nbformat": 4,
 "nbformat_minor": 5
}
