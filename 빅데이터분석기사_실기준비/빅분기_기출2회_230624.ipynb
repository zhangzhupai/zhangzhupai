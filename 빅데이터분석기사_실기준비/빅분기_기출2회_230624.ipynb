{
 "cells": [
  {
   "cell_type": "markdown",
   "id": "54c01c86",
   "metadata": {},
   "source": [
    "# 작업 1유형 "
   ]
  },
  {
   "cell_type": "markdown",
   "id": "5ef46b8a",
   "metadata": {},
   "source": [
    "Q1. 주어진 Dataset에서 CRIM값이 가장 큰 10개의 지역을 구하고\n",
    "10개의 지역의 CRIM값을 그 중 가장 작은 값으로 대체하라. 그리고\n",
    "AGE 컬럼 값이 80이상인 대체 된 CRIM 평균값을 구하라"
   ]
  },
  {
   "cell_type": "code",
   "execution_count": null,
   "id": "50ddce04",
   "metadata": {},
   "outputs": [],
   "source": [
    "import pandas as pd\n",
    "df = pd.read_csv('https://raw.githubusercontent.com/Datamanim/datarepo/main/krdatacertificate/e2_p1_1.csv')\n",
    "df.head()"
   ]
  },
  {
   "cell_type": "code",
   "execution_count": null,
   "id": "ff533f50",
   "metadata": {},
   "outputs": [],
   "source": [
    "temp = df.sort_values('CRIM',ascending=False)\n",
    "temp.iloc[:10,0] = temp.iloc[9,0]\n",
    "result = temp[(temp['AGE']>=80)]\n",
    "result['CRIM'].mean()"
   ]
  },
  {
   "cell_type": "markdown",
   "id": "bbfed342",
   "metadata": {},
   "source": [
    "Q2. 1-1에서 사용한 데이터에서 RM 중앙값으로 해당 컬럼의 결측치를 대체하라\n",
    "그리고 해당 컬럼의 결측치 대치 전후의 표준편차 차이의 절댓값을 소숫점 이하 3째자리 까지 구하라"
   ]
  },
  {
   "cell_type": "code",
   "execution_count": null,
   "id": "67ff0dc6",
   "metadata": {},
   "outputs": [],
   "source": [
    "temp = df.copy()\n",
    "\n",
    "pre_std = df['RM'].std()\n",
    "\n",
    "rm_median = temp['RM'].median()\n",
    "temp['RM'] = temp['RM'].fillna(rm_median)\n",
    "after_std = temp['RM'].std()\n",
    "\n",
    "result = abs(pre_std-after_std)\n",
    "print(round(result,3))"
   ]
  },
  {
   "cell_type": "markdown",
   "id": "c11d3e54",
   "metadata": {},
   "source": [
    "Q3. 주어진 Dataset의 DIS 평균으로 부터 1.5 * 표준편차를 벗어나는 영역을 이상치라고 판단하고\n",
    "DIS 컬럼의 이상치들의 합을 구하여라."
   ]
  },
  {
   "cell_type": "code",
   "execution_count": null,
   "id": "6ec3398a",
   "metadata": {},
   "outputs": [],
   "source": [
    "mean = df['DIS'].mean()\n",
    "std = df['DIS'].std()\n",
    "result = df[(df['DIS'] < mean - std*1.5) | (df['DIS'] > mean + std*1.5)]\n",
    "result =result['DIS'].sum()\n",
    "print(result)"
   ]
  },
  {
   "cell_type": "markdown",
   "id": "49cf775b",
   "metadata": {},
   "source": [
    "# 작업 2유형 "
   ]
  },
  {
   "attachments": {
    "image.png": {
     "image/png": "[encoded data removed]"
    }
   },
   "cell_type": "markdown",
   "id": "daf11dd7",
   "metadata": {},
   "source": [
    "e-commerce 배송의 정시 도착여부를 예측하시오(1: 정시배송 0 : 정시미배송)\n",
    "![image.png](attachment:image.png)"
   ]
  },
  {
   "cell_type": "code",
   "execution_count": null,
   "id": "c19bfc3f",
   "metadata": {},
   "outputs": [],
   "source": [
    "import pandas as pd\n",
    "x_train = pd.read_csv(\"https://raw.githubusercontent.com/Datamanim/datarepo/main/shipping/X_train.csv\")\n",
    "y_train = pd.read_csv(\"https://raw.githubusercontent.com/Datamanim/datarepo/main/shipping/y_train.csv\")\n",
    "x_test= pd.read_csv(\"https://raw.githubusercontent.com/Datamanim/datarepo/main/shipping/X_test.csv\")"
   ]
  },
  {
   "cell_type": "code",
   "execution_count": null,
   "id": "bd358dd6",
   "metadata": {},
   "outputs": [],
   "source": [
    "x_train = x_train.drop(columns='ID')\n",
    "x_test_id = x_test.pop('ID')"
   ]
  },
  {
   "cell_type": "code",
   "execution_count": null,
   "id": "98a89a64",
   "metadata": {},
   "outputs": [],
   "source": [
    "from sklearn.preprocessing import LabelEncoder\n",
    "encoder = LabelEncoder()\n",
    "\n",
    "x_train['Warehouse_block'] = encoder.fit_transform(x_train['Warehouse_block'])\n",
    "x_test['Warehouse_block'] = encoder.fit_transform(x_test['Warehouse_block'])\n",
    "\n",
    "x_train['Mode_of_Shipment'] = encoder.fit_transform(x_train['Mode_of_Shipment'])\n",
    "x_test['Mode_of_Shipment'] = encoder.fit_transform(x_test['Mode_of_Shipment'])\n",
    "\n",
    "x_train['Customer_care_calls'] = encoder.fit_transform(x_train['Customer_care_calls'])\n",
    "x_test['Customer_care_calls'] = encoder.fit_transform(x_test['Customer_care_calls'])\n",
    "\n",
    "x_train['Product_importance'] = encoder.fit_transform(x_train['Product_importance'])\n",
    "x_test['Product_importance'] = encoder.fit_transform(x_test['Product_importance'])\n",
    "\n",
    "x_train['Gender'] = encoder.fit_transform(x_train['Gender'])\n",
    "x_test['Gender'] = encoder.fit_transform(x_test['Gender'])"
   ]
  },
  {
   "cell_type": "code",
   "execution_count": null,
   "id": "fb6b620c",
   "metadata": {},
   "outputs": [],
   "source": [
    "from sklearn.ensemble import RandomForestClassifier\n",
    "from xgboost import XGBClassifier"
   ]
  },
  {
   "cell_type": "code",
   "execution_count": null,
   "id": "e964429c",
   "metadata": {},
   "outputs": [],
   "source": [
    "from sklearn.model_selection import train_test_split\n",
    "X_train,X_test,Y_train,Y_test = train_test_split(x_train,y_train['Reached.on.Time_Y.N'],test_size = 0.2)"
   ]
  },
  {
   "cell_type": "code",
   "execution_count": null,
   "id": "2c51dc1c",
   "metadata": {},
   "outputs": [],
   "source": [
    "rf = RandomForestClassifier(max_depth =5, random_state=100)\n",
    "rf.fit(X_train,Y_train)\n",
    "pred_rf = rf.predict_proba(X_test)"
   ]
  },
  {
   "cell_type": "code",
   "execution_count": null,
   "id": "57a001fc",
   "metadata": {},
   "outputs": [],
   "source": [
    "predict = rf.predict_proba(x_test)\n",
    "predict"
   ]
  },
  {
   "cell_type": "code",
   "execution_count": null,
   "id": "706d7c68",
   "metadata": {},
   "outputs": [],
   "source": [
    "submission = pd.DataFrame({'ID':x_test_id,\n",
    "                          'Reached.on.Time_Y.N':predict[:,1]})\n",
    "submission"
   ]
  },
  {
   "cell_type": "markdown",
   "id": "62ff25be",
   "metadata": {},
   "source": [
    "# 작업 3유형 "
   ]
  },
  {
   "cell_type": "markdown",
   "id": "2ce034ca",
   "metadata": {},
   "source": [
    "Q1.122마리의 height 평균값을 m(미터) 단위로 소숫점 이하 5자리까지 실수 값만 출력하라"
   ]
  },
  {
   "cell_type": "code",
   "execution_count": 7,
   "id": "be184609",
   "metadata": {},
   "outputs": [
    {
     "name": "stdout",
     "output_type": "stream",
     "text": [
      "0.29951\n"
     ]
    }
   ],
   "source": [
    "import pandas as pd\n",
    "df = pd.read_csv('https://raw.githubusercontent.com/Datamanim/datarepo/main/krdatacertificate/e2_p3_1.csv')\n",
    "df.head(5)\n",
    "\n",
    "temp = df.copy()\n",
    "temp['meter'] = temp['height'].str.replace('cm','').astype('float')\n",
    "result = temp['meter'].mean()*0.01\n",
    "print(round(result,5))"
   ]
  },
  {
   "cell_type": "markdown",
   "id": "33384f72",
   "metadata": {},
   "source": [
    "Q2. 모집단의 평균 길이가 30cm 인지 확인하려 일표본 t 검정을 시행하여 확인하려한다. 검정통계량을 소숫점 이하 3째자리까지 구하여라"
   ]
  },
  {
   "cell_type": "code",
   "execution_count": 18,
   "id": "d6149290",
   "metadata": {},
   "outputs": [
    {
     "name": "stdout",
     "output_type": "stream",
     "text": [
      "-0.217\n"
     ]
    }
   ],
   "source": [
    "from scipy import stats\n",
    "from scipy.stats import ttest_1samp\n",
    "\n",
    "s, p = ttest_1samp(temp['meter'],30)\n",
    "print(round(s,3))"
   ]
  },
  {
   "cell_type": "markdown",
   "id": "943dd11c",
   "metadata": {},
   "source": [
    "Q3. 위의 통계량에 대한 p-값을 구하고 (반올림하여 소숫점 이하 3째자리), 유의수준 0.05하에서 귀무가설과 대립가설중 유의한 가설을 하나를 선택하시오(귀무/대립)"
   ]
  },
  {
   "cell_type": "code",
   "execution_count": 19,
   "id": "02e6a75d",
   "metadata": {},
   "outputs": [
    {
     "name": "stdout",
     "output_type": "stream",
     "text": [
      "0.829\n"
     ]
    }
   ],
   "source": [
    "print(round(p,3))\n",
    "#귀무가설"
   ]
  },
  {
   "cell_type": "code",
   "execution_count": null,
   "id": "39cf61a4",
   "metadata": {},
   "outputs": [],
   "source": []
  }
 ],
 "metadata": {
  "kernelspec": {
   "display_name": "Python 3 (ipykernel)",
   "language": "python",
   "name": "python3"
  },
  "language_info": {
   "codemirror_mode": {
    "name": "ipython",
    "version": 3
   },
   "file_extension": ".py",
   "mimetype": "text/x-python",
   "name": "python",
   "nbconvert_exporter": "python",
   "pygments_lexer": "ipython3",
   "version": "3.9.12"
  }
 },
 "nbformat": 4,
 "nbformat_minor": 5
}
