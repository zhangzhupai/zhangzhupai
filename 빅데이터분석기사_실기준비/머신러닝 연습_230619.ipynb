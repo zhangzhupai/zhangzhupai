{
 "cells": [
  {
   "cell_type": "raw",
   "id": "a93a6514",
   "metadata": {},
   "source": [
    "고객 3,500명에 대한 학습용 데이터를 이용하여 성별 예측 모형을 만든 후 평가용 데이터에 적용해 성별 예측값(남자일 확률0을 다음과 같은 형식의 csv파일로 생성하시오"
   ]
  },
  {
   "cell_type": "markdown",
   "id": "de2610c8",
   "metadata": {},
   "source": [
    "1. 문제 읽고 어떤 모형 쓸지 판단하기\n",
    "2. 데이터 불러오기\n",
    "3. 데이터파악하기(결측치, object 데이터)\n",
    "4. 전처리(불필요컬럼 제거, 결측치 제거, object 처리)"
   ]
  },
  {
   "cell_type": "code",
   "execution_count": 1,
   "id": "2c8dd982",
   "metadata": {},
   "outputs": [],
   "source": [
    "import pandas as pd\n",
    "x_train = pd.read_csv('./book/x_train.csv',encoding= 'cp949')\n",
    "y_train = pd.read_csv('./book/y_train.csv')\n",
    "x_test = pd.read_csv('./book/x_test.csv',encoding='cp949')"
   ]
  },
  {
   "cell_type": "code",
   "execution_count": 2,
   "id": "30e3a89a",
   "metadata": {},
   "outputs": [
    {
     "name": "stdout",
     "output_type": "stream",
     "text": [
      "   cust_id      총구매액     최대구매액       환불금액   주구매상품 주구매지점  내점일수   내점당구매건수  \\\n",
      "0        0  68282840  11264000  6860000.0      기타   강남점    19  3.894737   \n",
      "1        1   2136000   2136000   300000.0     스포츠   잠실점     2  1.500000   \n",
      "2        2   3197000   1639000        NaN  남성 캐주얼   관악점     2  2.000000   \n",
      "3        3  16077620   4935000        NaN      기타   광주점    18  2.444444   \n",
      "4        4  29050000  24000000        NaN      보석  본  점     2  1.500000   \n",
      "\n",
      "     주말방문비율  구매주기  \n",
      "0  0.527027    17  \n",
      "1  0.000000     1  \n",
      "2  0.000000     1  \n",
      "3  0.318182    16  \n",
      "4  0.000000    85  \n",
      "================================================\n",
      "   cust_id  gender\n",
      "0        0       0\n",
      "1        1       0\n",
      "2        2       1\n",
      "3        3       1\n",
      "4        4       0\n",
      "================================================\n",
      "   cust_id       총구매액     최대구매액        환불금액 주구매상품 주구매지점  내점일수    내점당구매건수  \\\n",
      "0     3500   70900400  22000000   4050000.0    골프  부산본점    13   1.461538   \n",
      "1     3501  310533100  38558000  48034700.0   농산물   잠실점    90   2.433333   \n",
      "2     3502  305264140  14825000  30521000.0  가공식품  본  점   101  14.623762   \n",
      "3     3503    7594080   5225000         NaN  주방용품  부산본점     5   2.000000   \n",
      "4     3504    1795790   1411200         NaN   수산품  청량리점     3   2.666667   \n",
      "\n",
      "     주말방문비율  구매주기  \n",
      "0  0.789474    26  \n",
      "1  0.369863     3  \n",
      "2  0.083277     3  \n",
      "3  0.000000    47  \n",
      "4  0.125000     8  \n"
     ]
    }
   ],
   "source": [
    "print(x_train.head())\n",
    "print('================================================')\n",
    "print(y_train.head())\n",
    "print('================================================')\n",
    "print(x_test.head())"
   ]
  },
  {
   "cell_type": "code",
   "execution_count": 3,
   "id": "c20df5c8",
   "metadata": {},
   "outputs": [
    {
     "name": "stdout",
     "output_type": "stream",
     "text": [
      "<class 'pandas.core.frame.DataFrame'>\n",
      "RangeIndex: 3500 entries, 0 to 3499\n",
      "Data columns (total 10 columns):\n",
      " #   Column   Non-Null Count  Dtype  \n",
      "---  ------   --------------  -----  \n",
      " 0   cust_id  3500 non-null   int64  \n",
      " 1   총구매액     3500 non-null   int64  \n",
      " 2   최대구매액    3500 non-null   int64  \n",
      " 3   환불금액     1205 non-null   float64\n",
      " 4   주구매상품    3500 non-null   object \n",
      " 5   주구매지점    3500 non-null   object \n",
      " 6   내점일수     3500 non-null   int64  \n",
      " 7   내점당구매건수  3500 non-null   float64\n",
      " 8   주말방문비율   3500 non-null   float64\n",
      " 9   구매주기     3500 non-null   int64  \n",
      "dtypes: float64(3), int64(5), object(2)\n",
      "memory usage: 273.6+ KB\n",
      "None\n",
      "================================================\n",
      "<class 'pandas.core.frame.DataFrame'>\n",
      "RangeIndex: 3500 entries, 0 to 3499\n",
      "Data columns (total 2 columns):\n",
      " #   Column   Non-Null Count  Dtype\n",
      "---  ------   --------------  -----\n",
      " 0   cust_id  3500 non-null   int64\n",
      " 1   gender   3500 non-null   int64\n",
      "dtypes: int64(2)\n",
      "memory usage: 54.8 KB\n",
      "None\n",
      "================================================\n",
      "<class 'pandas.core.frame.DataFrame'>\n",
      "RangeIndex: 2482 entries, 0 to 2481\n",
      "Data columns (total 10 columns):\n",
      " #   Column   Non-Null Count  Dtype  \n",
      "---  ------   --------------  -----  \n",
      " 0   cust_id  2482 non-null   int64  \n",
      " 1   총구매액     2482 non-null   int64  \n",
      " 2   최대구매액    2482 non-null   int64  \n",
      " 3   환불금액     871 non-null    float64\n",
      " 4   주구매상품    2482 non-null   object \n",
      " 5   주구매지점    2482 non-null   object \n",
      " 6   내점일수     2482 non-null   int64  \n",
      " 7   내점당구매건수  2482 non-null   float64\n",
      " 8   주말방문비율   2482 non-null   float64\n",
      " 9   구매주기     2482 non-null   int64  \n",
      "dtypes: float64(3), int64(5), object(2)\n",
      "memory usage: 194.0+ KB\n",
      "None\n"
     ]
    }
   ],
   "source": [
    "# info에서 파악할 것은 결측치/object 2가지 확인\n",
    "print(x_train.info()) #환불금액 결측치, 주구매상품,주구매지점(object)\n",
    "print('================================================')\n",
    "print(y_train.info()) #결측치, 문자형 없음\n",
    "print('================================================')\n",
    "print(x_test.info()) #환불금액 결측치, 주구매상품,주구매지점(object)"
   ]
  },
  {
   "cell_type": "markdown",
   "id": "d68e0474",
   "metadata": {},
   "source": [
    "전처리(불필요컬럼 제거, 결측치 제거, object 처리)\n",
    "- x_train, x_test 동시에 적용해야 함\n",
    "- cust_id 불필요해보임"
   ]
  },
  {
   "cell_type": "code",
   "execution_count": 4,
   "id": "cb5153e1",
   "metadata": {},
   "outputs": [],
   "source": [
    "x_train = x_train.drop(columns='cust_id')\n",
    "x_test_cust_id = x_test.pop('cust_id') #결과값 예측을 위해 따로 뺴줘야함\n",
    "y_train = y_train.drop(columns='cust_id')"
   ]
  },
  {
   "cell_type": "code",
   "execution_count": 5,
   "id": "26374e8b",
   "metadata": {},
   "outputs": [
    {
     "data": {
      "text/plain": [
       "총구매액       0\n",
       "최대구매액      0\n",
       "주구매상품      0\n",
       "주구매지점      0\n",
       "내점일수       0\n",
       "내점당구매건수    0\n",
       "주말방문비율     0\n",
       "구매주기       0\n",
       "dtype: int64"
      ]
     },
     "execution_count": 5,
     "metadata": {},
     "output_type": "execute_result"
    }
   ],
   "source": [
    "x_train = x_train.drop(columns='환불금액')\n",
    "x_test = x_test.drop(columns='환불금액')\n",
    "\n",
    "x_train.isna().sum()\n",
    "x_test.isna().sum()"
   ]
  },
  {
   "cell_type": "code",
   "execution_count": 6,
   "id": "a3c044a8",
   "metadata": {},
   "outputs": [],
   "source": [
    "# object 처리\n",
    "from sklearn.preprocessing import LabelEncoder\n",
    "encoder = LabelEncoder()\n",
    "x_train['주구매상품'] = encoder.fit_transform(x_train['주구매상품'])\n",
    "x_test['주구매상품'] = encoder.fit_transform(x_test['주구매상품'])\n",
    "\n",
    "x_train['주구매지점'] = encoder.fit_transform(x_train['주구매지점'])\n",
    "x_test['주구매지점'] = encoder.fit_transform(x_test['주구매지점'])"
   ]
  },
  {
   "cell_type": "code",
   "execution_count": 7,
   "id": "1c64b98d",
   "metadata": {},
   "outputs": [
    {
     "name": "stdout",
     "output_type": "stream",
     "text": [
      "<class 'pandas.core.frame.DataFrame'>\n",
      "RangeIndex: 3500 entries, 0 to 3499\n",
      "Data columns (total 8 columns):\n",
      " #   Column   Non-Null Count  Dtype  \n",
      "---  ------   --------------  -----  \n",
      " 0   총구매액     3500 non-null   int64  \n",
      " 1   최대구매액    3500 non-null   int64  \n",
      " 2   주구매상품    3500 non-null   int32  \n",
      " 3   주구매지점    3500 non-null   int32  \n",
      " 4   내점일수     3500 non-null   int64  \n",
      " 5   내점당구매건수  3500 non-null   float64\n",
      " 6   주말방문비율   3500 non-null   float64\n",
      " 7   구매주기     3500 non-null   int64  \n",
      "dtypes: float64(2), int32(2), int64(4)\n",
      "memory usage: 191.5 KB\n"
     ]
    }
   ],
   "source": [
    "x_train.info()"
   ]
  },
  {
   "cell_type": "code",
   "execution_count": 8,
   "id": "2e246bdf",
   "metadata": {},
   "outputs": [
    {
     "name": "stderr",
     "output_type": "stream",
     "text": [
      "C:\\Users\\choic\\AppData\\Local\\Temp\\ipykernel_29344\\414091440.py:7: DataConversionWarning: A column-vector y was passed when a 1d array was expected. Please change the shape of y to (n_samples,), for example using ravel().\n",
      "  model1.fit(x_train,y_train)\n"
     ]
    }
   ],
   "source": [
    "# 모델 학습시키기\n",
    "# 분류 모델 : randomforestclassifier, xgbclassifier\n",
    "# 회귀모델 : randomforestregressor xgbregressor\n",
    "\n",
    "from sklearn.ensemble import RandomForestClassifier\n",
    "model1 = RandomForestClassifier()\n",
    "model1.fit(x_train,y_train)\n",
    "model1_pred = model1.predict_proba(x_test) "
   ]
  },
  {
   "cell_type": "code",
   "execution_count": 9,
   "id": "bb28977c",
   "metadata": {},
   "outputs": [],
   "source": [
    "from xgboost import XGBClassifier\n",
    "model2 = XGBClassifier()\n",
    "model2.fit(x_train,y_train)\n",
    "model2_pred = model2.predict_proba(x_test)"
   ]
  },
  {
   "cell_type": "code",
   "execution_count": 13,
   "id": "f7726e69",
   "metadata": {},
   "outputs": [],
   "source": [
    "from sklearn.model_selection import train_test_split\n",
    "X_train, X_test, Y_train, Y_test = train_test_split(x_train,y_train,test_size = 0.2)"
   ]
  },
  {
   "cell_type": "code",
   "execution_count": 17,
   "id": "11f84ca4",
   "metadata": {},
   "outputs": [],
   "source": [
    "import numpy as np"
   ]
  },
  {
   "cell_type": "code",
   "execution_count": 18,
   "id": "aeedfeea",
   "metadata": {},
   "outputs": [],
   "source": [
    "from sklearn.ensemble import RandomForestClassifier\n",
    "model3 = RandomForestClassifier()\n",
    "model3.fit(X_train,np.ravel(Y_train))\n",
    "model3_pred = model3.predict_proba(X_test) "
   ]
  },
  {
   "cell_type": "code",
   "execution_count": 19,
   "id": "f9416013",
   "metadata": {},
   "outputs": [
    {
     "name": "stdout",
     "output_type": "stream",
     "text": [
      "0.6465734229441836\n"
     ]
    }
   ],
   "source": [
    "from sklearn.metrics import roc_auc_score\n",
    "print(roc_auc_score(Y_test,model3_pred[:,1]))"
   ]
  },
  {
   "cell_type": "code",
   "execution_count": 10,
   "id": "483bff83",
   "metadata": {},
   "outputs": [
    {
     "name": "stdout",
     "output_type": "stream",
     "text": [
      "[0.65 0.25 0.47 ... 0.46 0.37 0.56]\n"
     ]
    }
   ],
   "source": [
    "model1_pred = model1_pred[:,1]\n",
    "print(model1_pred)"
   ]
  },
  {
   "cell_type": "code",
   "execution_count": 11,
   "id": "a6aecb0c",
   "metadata": {},
   "outputs": [],
   "source": [
    "pd.DataFrame({'cust_id':x_test_cust_id,'gender':model1_pred}).to_csv('./book/12345.csv',index=False)"
   ]
  },
  {
   "cell_type": "code",
   "execution_count": 12,
   "id": "c47fd026",
   "metadata": {},
   "outputs": [
    {
     "data": {
      "text/html": [
       "<div>\n",
       "<style scoped>\n",
       "    .dataframe tbody tr th:only-of-type {\n",
       "        vertical-align: middle;\n",
       "    }\n",
       "\n",
       "    .dataframe tbody tr th {\n",
       "        vertical-align: top;\n",
       "    }\n",
       "\n",
       "    .dataframe thead th {\n",
       "        text-align: right;\n",
       "    }\n",
       "</style>\n",
       "<table border=\"1\" class=\"dataframe\">\n",
       "  <thead>\n",
       "    <tr style=\"text-align: right;\">\n",
       "      <th></th>\n",
       "      <th>cust_id</th>\n",
       "      <th>gender</th>\n",
       "    </tr>\n",
       "  </thead>\n",
       "  <tbody>\n",
       "    <tr>\n",
       "      <th>0</th>\n",
       "      <td>3500</td>\n",
       "      <td>0.65</td>\n",
       "    </tr>\n",
       "    <tr>\n",
       "      <th>1</th>\n",
       "      <td>3501</td>\n",
       "      <td>0.25</td>\n",
       "    </tr>\n",
       "    <tr>\n",
       "      <th>2</th>\n",
       "      <td>3502</td>\n",
       "      <td>0.47</td>\n",
       "    </tr>\n",
       "    <tr>\n",
       "      <th>3</th>\n",
       "      <td>3503</td>\n",
       "      <td>0.54</td>\n",
       "    </tr>\n",
       "    <tr>\n",
       "      <th>4</th>\n",
       "      <td>3504</td>\n",
       "      <td>0.45</td>\n",
       "    </tr>\n",
       "    <tr>\n",
       "      <th>...</th>\n",
       "      <td>...</td>\n",
       "      <td>...</td>\n",
       "    </tr>\n",
       "    <tr>\n",
       "      <th>2477</th>\n",
       "      <td>5977</td>\n",
       "      <td>0.72</td>\n",
       "    </tr>\n",
       "    <tr>\n",
       "      <th>2478</th>\n",
       "      <td>5978</td>\n",
       "      <td>0.61</td>\n",
       "    </tr>\n",
       "    <tr>\n",
       "      <th>2479</th>\n",
       "      <td>5979</td>\n",
       "      <td>0.46</td>\n",
       "    </tr>\n",
       "    <tr>\n",
       "      <th>2480</th>\n",
       "      <td>5980</td>\n",
       "      <td>0.37</td>\n",
       "    </tr>\n",
       "    <tr>\n",
       "      <th>2481</th>\n",
       "      <td>5981</td>\n",
       "      <td>0.56</td>\n",
       "    </tr>\n",
       "  </tbody>\n",
       "</table>\n",
       "<p>2482 rows × 2 columns</p>\n",
       "</div>"
      ],
      "text/plain": [
       "      cust_id  gender\n",
       "0        3500    0.65\n",
       "1        3501    0.25\n",
       "2        3502    0.47\n",
       "3        3503    0.54\n",
       "4        3504    0.45\n",
       "...       ...     ...\n",
       "2477     5977    0.72\n",
       "2478     5978    0.61\n",
       "2479     5979    0.46\n",
       "2480     5980    0.37\n",
       "2481     5981    0.56\n",
       "\n",
       "[2482 rows x 2 columns]"
      ]
     },
     "execution_count": 12,
     "metadata": {},
     "output_type": "execute_result"
    }
   ],
   "source": [
    "pd.read_csv('./book/12345.csv')"
   ]
  },
  {
   "cell_type": "code",
   "execution_count": null,
   "id": "e87f7059",
   "metadata": {},
   "outputs": [],
   "source": []
  }
 ],
 "metadata": {
  "kernelspec": {
   "display_name": "Python 3 (ipykernel)",
   "language": "python",
   "name": "python3"
  },
  "language_info": {
   "codemirror_mode": {
    "name": "ipython",
    "version": 3
   },
   "file_extension": ".py",
   "mimetype": "text/x-python",
   "name": "python",
   "nbconvert_exporter": "python",
   "pygments_lexer": "ipython3",
   "version": "3.9.12"
  }
 },
 "nbformat": 4,
 "nbformat_minor": 5
}
