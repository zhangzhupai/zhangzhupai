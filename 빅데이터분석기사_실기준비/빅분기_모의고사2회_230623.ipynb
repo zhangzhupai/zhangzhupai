{
 "cells": [
  {
   "cell_type": "markdown",
   "id": "a8152b7e",
   "metadata": {},
   "source": [
    "# 작업 1유형"
   ]
  },
  {
   "cell_type": "markdown",
   "id": "ce3d4f40",
   "metadata": {},
   "source": [
    "Q1. 성별이 Male인 환자들의 age의 평균값은 ?"
   ]
  },
  {
   "cell_type": "code",
   "execution_count": null,
   "id": "86313d34",
   "metadata": {},
   "outputs": [],
   "source": [
    "import pandas as pd\n",
    "df = pd.read_csv('https://raw.githubusercontent.com/Datamanim/datarepo/main/stroke_/train.csv')"
   ]
  },
  {
   "cell_type": "code",
   "execution_count": null,
   "id": "ffa9bc91",
   "metadata": {},
   "outputs": [],
   "source": [
    "df['age'] = df['age'].str.replace('*','')\n",
    "df['age'] = df['age'].astype('int')\n",
    "\n",
    "df.head()\n",
    "temp = df[(df['gender']=='Male')]\n",
    "print(temp['age'].mean())"
   ]
  },
  {
   "cell_type": "markdown",
   "id": "00a72a6d",
   "metadata": {},
   "source": [
    "Q2. bmi컬럼의 결측치를 bmi컬럼의 결측치를 제외한 나머지 값들의 중앙값으로 채웠을 경우 bmi 컬럼의 평균을 소숫점 이하 3자리 까지 구하여라"
   ]
  },
  {
   "cell_type": "code",
   "execution_count": null,
   "id": "44c1044b",
   "metadata": {},
   "outputs": [],
   "source": [
    "temp = df.dropna()\n",
    "cond1 = temp['bmi'].median()\n",
    "print(cond1)\n",
    "\n",
    "df['bmi'] = df['bmi'].fillna(28.5)\n",
    "cond2 = df['bmi'].mean()\n",
    "print(round(cond2,3))"
   ]
  },
  {
   "cell_type": "markdown",
   "id": "de732b22",
   "metadata": {},
   "source": [
    "Q3. bmi컬럼의 각 결측치들을 직전의 행의 bmi값으로 채웠을 경우 bmi 컬럼의 평균을 소숫점 이하 3자리 까지 구하여라"
   ]
  },
  {
   "cell_type": "code",
   "execution_count": null,
   "id": "8763279b",
   "metadata": {},
   "outputs": [],
   "source": [
    "df = pd.read_csv('https://raw.githubusercontent.com/Datamanim/datarepo/main/stroke_/train.csv')"
   ]
  },
  {
   "cell_type": "code",
   "execution_count": null,
   "id": "e089aa5a",
   "metadata": {},
   "outputs": [],
   "source": [
    "df['bmi'] = df['bmi'].fillna(method='ffill')\n",
    "result = df['bmi'].mean()\n",
    "print(round(result,3))"
   ]
  },
  {
   "cell_type": "markdown",
   "id": "dbba9b7f",
   "metadata": {},
   "source": [
    "Q4. bmi컬럼의 각 결측치들을 결측치를 가진 환자 나이대(10단위)의 평균 bmi 값으로 대체한 후 대체된 bmi 컬럼의 평균을 소숫점 이하 3자리 까지 구하여라"
   ]
  },
  {
   "cell_type": "code",
   "execution_count": null,
   "id": "75db0f6c",
   "metadata": {},
   "outputs": [],
   "source": [
    "import pandas as pd\n",
    "df = pd.read_csv('https://raw.githubusercontent.com/Datamanim/datarepo/main/stroke_/train.csv')\n",
    "# Noise 데이터 int형 변환\n",
    "df['age'] = df['age'].str.replace('*','').astype('int')\n",
    "\n",
    "# 결측치 제외 나이대별 평균값 계산 및 dictionary 형태로 변환\n",
    "mean = df[df.bmi.notnull()].groupby(df.age//10 *10).bmi.mean()\n",
    "dic = { x:y for x,y in mean.items()}\n",
    "\n",
    "\n",
    "idx =df.loc[df.bmi.isnull(),['age','bmi']].index\n",
    "# 결측치 매핑\n",
    "df.loc[df.bmi.isnull(),'bmi']  =(df[df.bmi.isnull()].age//10*10).map(lambda x : dic[x])\n",
    "\n",
    "result = df.bmi.mean()\n",
    "print(result)"
   ]
  },
  {
   "cell_type": "markdown",
   "id": "d3abb03a",
   "metadata": {},
   "source": [
    "Q5. avg_glucose_level 컬럼의 값이 200이상인 데이터를 모두 199로 변경하고 stroke값이 1인 데이터의 avg_glucose_level값의 평균을 소수점이하 3자리 까지 구하여라"
   ]
  },
  {
   "cell_type": "code",
   "execution_count": null,
   "id": "b920a6a8",
   "metadata": {},
   "outputs": [],
   "source": [
    "import pandas as pd\n",
    "df = pd.read_csv('https://raw.githubusercontent.com/Datamanim/datarepo/main/stroke_/train.csv')"
   ]
  },
  {
   "cell_type": "code",
   "execution_count": null,
   "id": "414177cd",
   "metadata": {},
   "outputs": [],
   "source": [
    "df.loc[df.avg_glucose_level >=200,'avg_glucose_level'] =199\n",
    "result = round(df[df.stroke ==1].avg_glucose_level.mean(),3)\n",
    "print(result)"
   ]
  },
  {
   "cell_type": "code",
   "execution_count": null,
   "id": "334af201",
   "metadata": {},
   "outputs": [],
   "source": [
    "df.loc[df['avg_glucose_level']>=200,'avg_glucose_level'] =199\n",
    "cond = df[df['stroke']==1]\n",
    "result = cond['avg_glucose_level'].mean()\n",
    "print(round(result,3))"
   ]
  },
  {
   "cell_type": "markdown",
   "id": "d8d72cd2",
   "metadata": {},
   "source": [
    "Q6.Attack컬럼의 값을 기준으로 내림차순정렬 했을때 상위 400위까지 포켓몬들과 401~800위까지의 포켓몬들에서 전설포켓몬(Legendary컬럼)의 숫자 차이는?"
   ]
  },
  {
   "cell_type": "code",
   "execution_count": null,
   "id": "0e6db1f3",
   "metadata": {},
   "outputs": [],
   "source": [
    "import pandas as pd\n",
    "df = pd.read_csv('https://raw.githubusercontent.com/Datamanim/datarepo/main/pok/Pokemon.csv')\n",
    "df.head()\n",
    "\n",
    "temp = df.sort_values('Attack',ascending=False)\n",
    "temp\n",
    "\n",
    "cond1 = temp.iloc[:400]\n",
    "cond2 = temp.iloc[400:]\n",
    "\n",
    "print(cond1['Legendary'].value_counts())\n",
    "print(cond2['Legendary'].value_counts())\n",
    "print(61-4)\n"
   ]
  },
  {
   "cell_type": "markdown",
   "id": "11b4671f",
   "metadata": {},
   "source": [
    "Q7.Type 1 컬럼의 종류에 따른 Total 컬럼의 평균값을 내림차순 정렬했을때 상위 3번째 Type 1은 무엇인가?"
   ]
  },
  {
   "cell_type": "code",
   "execution_count": null,
   "id": "1903c09f",
   "metadata": {},
   "outputs": [],
   "source": [
    "result = df.groupby(['Type 1']).Total.mean().sort_values(ascending=False)\n",
    "print(result.index[2])"
   ]
  },
  {
   "cell_type": "markdown",
   "id": "1937f62d",
   "metadata": {},
   "source": [
    "Q8.결측치가 존재하는 행을 모두 지운 후 처음부터 순서대로 60% 데이터를 추출하여 Defense컬럼의 1분위수를 구하여라"
   ]
  },
  {
   "cell_type": "code",
   "execution_count": null,
   "id": "e9a65ef7",
   "metadata": {},
   "outputs": [],
   "source": [
    "df.dropna()\n",
    "temp = df.iloc[:248]\n",
    "result = temp['Defense'].quantile(0.25)\n",
    "print(result)"
   ]
  },
  {
   "cell_type": "markdown",
   "id": "0adfcd73",
   "metadata": {},
   "source": [
    "Q9. Type 1 컬럼의 속성이 Fire인 포켓몬들의 Attack의 평균이상인 Water속성의 포켓몬 수를 구하여라"
   ]
  },
  {
   "cell_type": "code",
   "execution_count": null,
   "id": "422d765f",
   "metadata": {},
   "outputs": [],
   "source": [
    "temp = df[['Type 1','Attack']]\n",
    "cond1 = temp[(temp['Type 1']=='Fire')]\n",
    "cond1_mean = cond1['Attack'].mean()\n",
    "cond1_mean\n",
    "\n",
    "cond2 = temp[(temp['Type 1']=='Water')&(df['Attack']>=cond1_mean)]\n",
    "print(cond2.shape[0])"
   ]
  },
  {
   "cell_type": "markdown",
   "id": "abdbd1ef",
   "metadata": {},
   "source": [
    "Q10. 각 세대 중(Generation 컬럼)의 Speed와 Defense 컬럼의 차이(절댓값)이 가장 큰 세대는?"
   ]
  },
  {
   "cell_type": "code",
   "execution_count": null,
   "id": "6e94d5a2",
   "metadata": {},
   "outputs": [],
   "source": [
    "temp = df[['Generation','Speed','Defense']]\n",
    "temp['new'] = abs(df['Speed'] - df['Defense'])\n",
    "result = temp.groupby(['Generation']).new.mean().sort_values(ascending=False)\n",
    "print(result.index[0])"
   ]
  },
  {
   "cell_type": "markdown",
   "id": "81ba0d88",
   "metadata": {},
   "source": [
    "# 작업2유형 "
   ]
  },
  {
   "cell_type": "markdown",
   "id": "c9b13c30",
   "metadata": {},
   "source": [
    "Q. 뇌졸증 발생여부를 예측하시오"
   ]
  },
  {
   "cell_type": "code",
   "execution_count": 1,
   "id": "0a2d9caf",
   "metadata": {},
   "outputs": [],
   "source": [
    "import pandas as pd\n",
    "train= pd.read_csv('https://raw.githubusercontent.com/Datamanim/datarepo/main/stroke_/train.csv')\n",
    "test= pd.read_csv('https://raw.githubusercontent.com/Datamanim/datarepo/main/stroke_/test.csv')"
   ]
  },
  {
   "cell_type": "code",
   "execution_count": 2,
   "id": "d56a39ff",
   "metadata": {},
   "outputs": [
    {
     "data": {
      "text/html": [
       "<div>\n",
       "<style scoped>\n",
       "    .dataframe tbody tr th:only-of-type {\n",
       "        vertical-align: middle;\n",
       "    }\n",
       "\n",
       "    .dataframe tbody tr th {\n",
       "        vertical-align: top;\n",
       "    }\n",
       "\n",
       "    .dataframe thead th {\n",
       "        text-align: right;\n",
       "    }\n",
       "</style>\n",
       "<table border=\"1\" class=\"dataframe\">\n",
       "  <thead>\n",
       "    <tr style=\"text-align: right;\">\n",
       "      <th></th>\n",
       "      <th>id</th>\n",
       "      <th>gender</th>\n",
       "      <th>age</th>\n",
       "      <th>hypertension</th>\n",
       "      <th>heart_disease</th>\n",
       "      <th>ever_married</th>\n",
       "      <th>work_type</th>\n",
       "      <th>Residence_type</th>\n",
       "      <th>avg_glucose_level</th>\n",
       "      <th>bmi</th>\n",
       "      <th>smoking_status</th>\n",
       "      <th>stroke</th>\n",
       "    </tr>\n",
       "  </thead>\n",
       "  <tbody>\n",
       "    <tr>\n",
       "      <th>0</th>\n",
       "      <td>1192</td>\n",
       "      <td>Female</td>\n",
       "      <td>31</td>\n",
       "      <td>0</td>\n",
       "      <td>0</td>\n",
       "      <td>No</td>\n",
       "      <td>Govt_job</td>\n",
       "      <td>Rural</td>\n",
       "      <td>70.66</td>\n",
       "      <td>27.2</td>\n",
       "      <td>never smoked</td>\n",
       "      <td>0</td>\n",
       "    </tr>\n",
       "    <tr>\n",
       "      <th>1</th>\n",
       "      <td>77</td>\n",
       "      <td>Female</td>\n",
       "      <td>13</td>\n",
       "      <td>0</td>\n",
       "      <td>0</td>\n",
       "      <td>No</td>\n",
       "      <td>children</td>\n",
       "      <td>Rural</td>\n",
       "      <td>85.81</td>\n",
       "      <td>18.6</td>\n",
       "      <td>Unknown</td>\n",
       "      <td>0</td>\n",
       "    </tr>\n",
       "    <tr>\n",
       "      <th>2</th>\n",
       "      <td>59200</td>\n",
       "      <td>Male</td>\n",
       "      <td>18</td>\n",
       "      <td>0</td>\n",
       "      <td>0</td>\n",
       "      <td>No</td>\n",
       "      <td>Private</td>\n",
       "      <td>Urban</td>\n",
       "      <td>60.56</td>\n",
       "      <td>33.0</td>\n",
       "      <td>never smoked</td>\n",
       "      <td>0</td>\n",
       "    </tr>\n",
       "    <tr>\n",
       "      <th>3</th>\n",
       "      <td>24905</td>\n",
       "      <td>Female</td>\n",
       "      <td>65</td>\n",
       "      <td>0</td>\n",
       "      <td>0</td>\n",
       "      <td>Yes</td>\n",
       "      <td>Private</td>\n",
       "      <td>Urban</td>\n",
       "      <td>205.77</td>\n",
       "      <td>46.0</td>\n",
       "      <td>formerly smoked</td>\n",
       "      <td>1</td>\n",
       "    </tr>\n",
       "    <tr>\n",
       "      <th>4</th>\n",
       "      <td>24257</td>\n",
       "      <td>Male</td>\n",
       "      <td>4</td>\n",
       "      <td>0</td>\n",
       "      <td>0</td>\n",
       "      <td>No</td>\n",
       "      <td>children</td>\n",
       "      <td>Rural</td>\n",
       "      <td>90.42</td>\n",
       "      <td>16.2</td>\n",
       "      <td>Unknown</td>\n",
       "      <td>0</td>\n",
       "    </tr>\n",
       "    <tr>\n",
       "      <th>...</th>\n",
       "      <td>...</td>\n",
       "      <td>...</td>\n",
       "      <td>...</td>\n",
       "      <td>...</td>\n",
       "      <td>...</td>\n",
       "      <td>...</td>\n",
       "      <td>...</td>\n",
       "      <td>...</td>\n",
       "      <td>...</td>\n",
       "      <td>...</td>\n",
       "      <td>...</td>\n",
       "      <td>...</td>\n",
       "    </tr>\n",
       "    <tr>\n",
       "      <th>1132</th>\n",
       "      <td>18205</td>\n",
       "      <td>Female</td>\n",
       "      <td>1</td>\n",
       "      <td>0</td>\n",
       "      <td>0</td>\n",
       "      <td>No</td>\n",
       "      <td>children</td>\n",
       "      <td>Rural</td>\n",
       "      <td>110.17</td>\n",
       "      <td>20.3</td>\n",
       "      <td>Unknown</td>\n",
       "      <td>0</td>\n",
       "    </tr>\n",
       "    <tr>\n",
       "      <th>1133</th>\n",
       "      <td>13622</td>\n",
       "      <td>Male</td>\n",
       "      <td>6</td>\n",
       "      <td>0</td>\n",
       "      <td>0</td>\n",
       "      <td>No</td>\n",
       "      <td>children</td>\n",
       "      <td>Rural</td>\n",
       "      <td>92.98</td>\n",
       "      <td>18.9</td>\n",
       "      <td>Unknown</td>\n",
       "      <td>0</td>\n",
       "    </tr>\n",
       "    <tr>\n",
       "      <th>1134</th>\n",
       "      <td>59749</td>\n",
       "      <td>Male</td>\n",
       "      <td>81</td>\n",
       "      <td>0</td>\n",
       "      <td>0</td>\n",
       "      <td>Yes</td>\n",
       "      <td>Private</td>\n",
       "      <td>Urban</td>\n",
       "      <td>234.35</td>\n",
       "      <td>25.3</td>\n",
       "      <td>formerly smoked</td>\n",
       "      <td>0</td>\n",
       "    </tr>\n",
       "    <tr>\n",
       "      <th>1135</th>\n",
       "      <td>12109</td>\n",
       "      <td>Female</td>\n",
       "      <td>81</td>\n",
       "      <td>1</td>\n",
       "      <td>0</td>\n",
       "      <td>Yes</td>\n",
       "      <td>Private</td>\n",
       "      <td>Rural</td>\n",
       "      <td>80.43</td>\n",
       "      <td>29.7</td>\n",
       "      <td>never smoked</td>\n",
       "      <td>1</td>\n",
       "    </tr>\n",
       "    <tr>\n",
       "      <th>1136</th>\n",
       "      <td>5731</td>\n",
       "      <td>Female</td>\n",
       "      <td>57</td>\n",
       "      <td>1</td>\n",
       "      <td>0</td>\n",
       "      <td>Yes</td>\n",
       "      <td>Private</td>\n",
       "      <td>Urban</td>\n",
       "      <td>108.61</td>\n",
       "      <td>38.1</td>\n",
       "      <td>smokes</td>\n",
       "      <td>0</td>\n",
       "    </tr>\n",
       "  </tbody>\n",
       "</table>\n",
       "<p>1137 rows × 12 columns</p>\n",
       "</div>"
      ],
      "text/plain": [
       "         id  gender age  hypertension  heart_disease ever_married work_type  \\\n",
       "0      1192  Female  31             0              0           No  Govt_job   \n",
       "1        77  Female  13             0              0           No  children   \n",
       "2     59200    Male  18             0              0           No   Private   \n",
       "3     24905  Female  65             0              0          Yes   Private   \n",
       "4     24257    Male   4             0              0           No  children   \n",
       "...     ...     ...  ..           ...            ...          ...       ...   \n",
       "1132  18205  Female   1             0              0           No  children   \n",
       "1133  13622    Male   6             0              0           No  children   \n",
       "1134  59749    Male  81             0              0          Yes   Private   \n",
       "1135  12109  Female  81             1              0          Yes   Private   \n",
       "1136   5731  Female  57             1              0          Yes   Private   \n",
       "\n",
       "     Residence_type  avg_glucose_level   bmi   smoking_status  stroke  \n",
       "0             Rural              70.66  27.2     never smoked       0  \n",
       "1             Rural              85.81  18.6          Unknown       0  \n",
       "2             Urban              60.56  33.0     never smoked       0  \n",
       "3             Urban             205.77  46.0  formerly smoked       1  \n",
       "4             Rural              90.42  16.2          Unknown       0  \n",
       "...             ...                ...   ...              ...     ...  \n",
       "1132          Rural             110.17  20.3          Unknown       0  \n",
       "1133          Rural              92.98  18.9          Unknown       0  \n",
       "1134          Urban             234.35  25.3  formerly smoked       0  \n",
       "1135          Rural              80.43  29.7     never smoked       1  \n",
       "1136          Urban             108.61  38.1           smokes       0  \n",
       "\n",
       "[1137 rows x 12 columns]"
      ]
     },
     "execution_count": 2,
     "metadata": {},
     "output_type": "execute_result"
    }
   ],
   "source": [
    "train"
   ]
  },
  {
   "cell_type": "code",
   "execution_count": 3,
   "id": "2ab6bd42",
   "metadata": {},
   "outputs": [],
   "source": [
    "y = train['stroke']"
   ]
  },
  {
   "cell_type": "code",
   "execution_count": 4,
   "id": "a7b35ee5",
   "metadata": {},
   "outputs": [],
   "source": [
    "train = train.drop(columns=['id','stroke'])"
   ]
  },
  {
   "cell_type": "code",
   "execution_count": 5,
   "id": "9cbb57de",
   "metadata": {},
   "outputs": [],
   "source": [
    "mean = train['bmi'].mean()\n",
    "mean2 = test['bmi'].mean()\n",
    "\n",
    "train['bmi'] = train['bmi'].fillna(mean)\n",
    "test['bmi'] = test['bmi'].fillna(mean2)"
   ]
  },
  {
   "cell_type": "code",
   "execution_count": 6,
   "id": "678cfdf0",
   "metadata": {},
   "outputs": [
    {
     "name": "stdout",
     "output_type": "stream",
     "text": [
      "<class 'pandas.core.frame.DataFrame'>\n",
      "RangeIndex: 1137 entries, 0 to 1136\n",
      "Data columns (total 10 columns):\n",
      " #   Column             Non-Null Count  Dtype  \n",
      "---  ------             --------------  -----  \n",
      " 0   gender             1137 non-null   object \n",
      " 1   age                1137 non-null   object \n",
      " 2   hypertension       1137 non-null   int64  \n",
      " 3   heart_disease      1137 non-null   int64  \n",
      " 4   ever_married       1137 non-null   object \n",
      " 5   work_type          1137 non-null   object \n",
      " 6   Residence_type     1137 non-null   object \n",
      " 7   avg_glucose_level  1137 non-null   float64\n",
      " 8   bmi                1137 non-null   float64\n",
      " 9   smoking_status     1137 non-null   object \n",
      "dtypes: float64(2), int64(2), object(6)\n",
      "memory usage: 89.0+ KB\n"
     ]
    }
   ],
   "source": [
    "train.info()"
   ]
  },
  {
   "cell_type": "code",
   "execution_count": 7,
   "id": "a588fe55",
   "metadata": {},
   "outputs": [],
   "source": [
    "from sklearn.preprocessing import LabelEncoder\n",
    "encoder = LabelEncoder()"
   ]
  },
  {
   "cell_type": "code",
   "execution_count": 8,
   "id": "49f2c920",
   "metadata": {},
   "outputs": [],
   "source": [
    "train['gender'] = encoder.fit_transform(train['gender'])\n",
    "test['gender'] = encoder.fit_transform(test['gender'])\n",
    "\n",
    "train['age'] = encoder.fit_transform(train['age'])\n",
    "test['age'] = encoder.fit_transform(test['age'])\n",
    "\n",
    "train['ever_married'] = encoder.fit_transform(train['ever_married'])\n",
    "test['ever_married'] = encoder.fit_transform(test['ever_married'])\n",
    "\n",
    "train['work_type'] = encoder.fit_transform(train['work_type'])\n",
    "test['work_type'] = encoder.fit_transform(test['work_type'])\n",
    "\n",
    "train['Residence_type'] = encoder.fit_transform(train['Residence_type'])\n",
    "test['Residence_type'] = encoder.fit_transform(test['Residence_type'])\n",
    "\n",
    "train['smoking_status'] = encoder.fit_transform(train['smoking_status'])\n",
    "test['smoking_status'] = encoder.fit_transform(test['smoking_status'])"
   ]
  },
  {
   "cell_type": "code",
   "execution_count": 9,
   "id": "ffe1a353",
   "metadata": {},
   "outputs": [],
   "source": [
    "from sklearn.model_selection import train_test_split"
   ]
  },
  {
   "cell_type": "code",
   "execution_count": 10,
   "id": "068ce05b",
   "metadata": {},
   "outputs": [],
   "source": [
    "x_train, x_test, y_train, y_test = train_test_split(train,y,test_size=0.2)"
   ]
  },
  {
   "cell_type": "code",
   "execution_count": 11,
   "id": "b3a160b7",
   "metadata": {},
   "outputs": [],
   "source": [
    "from sklearn.ensemble import RandomForestClassifier\n",
    "from xgboost import XGBClassifier\n",
    "from sklearn.metrics import roc_auc_score"
   ]
  },
  {
   "cell_type": "code",
   "execution_count": 12,
   "id": "c9d4a2e1",
   "metadata": {},
   "outputs": [
    {
     "data": {
      "text/plain": [
       "0.8382352941176471"
      ]
     },
     "execution_count": 12,
     "metadata": {},
     "output_type": "execute_result"
    }
   ],
   "source": [
    "rf = RandomForestClassifier(max_depth=5, random_state=100)\n",
    "rf.fit(x_train,y_train)\n",
    "rf_pred = rf.predict_proba(x_test)\n",
    "roc_auc_score(y_test,rf_pred[:,-1])"
   ]
  },
  {
   "cell_type": "code",
   "execution_count": 13,
   "id": "d189fdbb",
   "metadata": {},
   "outputs": [
    {
     "data": {
      "text/plain": [
       "0.7859477124183006"
      ]
     },
     "execution_count": 13,
     "metadata": {},
     "output_type": "execute_result"
    }
   ],
   "source": [
    "xgb = XGBClassifier(max_depth=15, eval_metric ='error', n_jobs=10, random_state =2000)\n",
    "xgb.fit(x_train,y_train)\n",
    "xgb_pred = xgb.predict_proba(x_test)\n",
    "roc_auc_score(y_test,xgb_pred[:,-1])"
   ]
  },
  {
   "cell_type": "code",
   "execution_count": 14,
   "id": "eea7d63f",
   "metadata": {},
   "outputs": [],
   "source": [
    "test_id = test.pop('id')"
   ]
  },
  {
   "cell_type": "code",
   "execution_count": 15,
   "id": "f47a44d3",
   "metadata": {},
   "outputs": [],
   "source": [
    "predict = rf.predict_proba(test)"
   ]
  },
  {
   "cell_type": "code",
   "execution_count": 17,
   "id": "bea38e22",
   "metadata": {},
   "outputs": [
    {
     "data": {
      "text/html": [
       "<div>\n",
       "<style scoped>\n",
       "    .dataframe tbody tr th:only-of-type {\n",
       "        vertical-align: middle;\n",
       "    }\n",
       "\n",
       "    .dataframe tbody tr th {\n",
       "        vertical-align: top;\n",
       "    }\n",
       "\n",
       "    .dataframe thead th {\n",
       "        text-align: right;\n",
       "    }\n",
       "</style>\n",
       "<table border=\"1\" class=\"dataframe\">\n",
       "  <thead>\n",
       "    <tr style=\"text-align: right;\">\n",
       "      <th></th>\n",
       "      <th>id</th>\n",
       "      <th>stroke</th>\n",
       "    </tr>\n",
       "  </thead>\n",
       "  <tbody>\n",
       "    <tr>\n",
       "      <th>0</th>\n",
       "      <td>47472</td>\n",
       "      <td>0.141856</td>\n",
       "    </tr>\n",
       "    <tr>\n",
       "      <th>1</th>\n",
       "      <td>36841</td>\n",
       "      <td>0.381376</td>\n",
       "    </tr>\n",
       "    <tr>\n",
       "      <th>2</th>\n",
       "      <td>3135</td>\n",
       "      <td>0.211275</td>\n",
       "    </tr>\n",
       "    <tr>\n",
       "      <th>3</th>\n",
       "      <td>65218</td>\n",
       "      <td>0.000837</td>\n",
       "    </tr>\n",
       "    <tr>\n",
       "      <th>4</th>\n",
       "      <td>1847</td>\n",
       "      <td>0.020649</td>\n",
       "    </tr>\n",
       "    <tr>\n",
       "      <th>...</th>\n",
       "      <td>...</td>\n",
       "      <td>...</td>\n",
       "    </tr>\n",
       "    <tr>\n",
       "      <th>927</th>\n",
       "      <td>40311</td>\n",
       "      <td>0.132455</td>\n",
       "    </tr>\n",
       "    <tr>\n",
       "      <th>928</th>\n",
       "      <td>44281</td>\n",
       "      <td>0.030701</td>\n",
       "    </tr>\n",
       "    <tr>\n",
       "      <th>929</th>\n",
       "      <td>11238</td>\n",
       "      <td>0.060971</td>\n",
       "    </tr>\n",
       "    <tr>\n",
       "      <th>930</th>\n",
       "      <td>17308</td>\n",
       "      <td>0.436753</td>\n",
       "    </tr>\n",
       "    <tr>\n",
       "      <th>931</th>\n",
       "      <td>24782</td>\n",
       "      <td>0.071417</td>\n",
       "    </tr>\n",
       "  </tbody>\n",
       "</table>\n",
       "<p>932 rows × 2 columns</p>\n",
       "</div>"
      ],
      "text/plain": [
       "        id    stroke\n",
       "0    47472  0.141856\n",
       "1    36841  0.381376\n",
       "2     3135  0.211275\n",
       "3    65218  0.000837\n",
       "4     1847  0.020649\n",
       "..     ...       ...\n",
       "927  40311  0.132455\n",
       "928  44281  0.030701\n",
       "929  11238  0.060971\n",
       "930  17308  0.436753\n",
       "931  24782  0.071417\n",
       "\n",
       "[932 rows x 2 columns]"
      ]
     },
     "execution_count": 17,
     "metadata": {},
     "output_type": "execute_result"
    }
   ],
   "source": [
    "submission = pd.DataFrame({'id':test_id,\n",
    "                          'stroke':predict[:,1]})\n",
    "submission"
   ]
  },
  {
   "cell_type": "code",
   "execution_count": null,
   "id": "23a028cd",
   "metadata": {},
   "outputs": [],
   "source": []
  }
 ],
 "metadata": {
  "kernelspec": {
   "display_name": "Python 3 (ipykernel)",
   "language": "python",
   "name": "python3"
  },
  "language_info": {
   "codemirror_mode": {
    "name": "ipython",
    "version": 3
   },
   "file_extension": ".py",
   "mimetype": "text/x-python",
   "name": "python",
   "nbconvert_exporter": "python",
   "pygments_lexer": "ipython3",
   "version": "3.9.12"
  }
 },
 "nbformat": 4,
 "nbformat_minor": 5
}
