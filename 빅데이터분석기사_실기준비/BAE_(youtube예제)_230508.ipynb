{
 "cells": [
  {
   "cell_type": "markdown",
   "id": "cfe9fca5",
   "metadata": {},
   "source": [
    "## YOUTUBE 인기채널 분석하기"
   ]
  },
  {
   "cell_type": "markdown",
   "id": "9db4cf16",
   "metadata": {},
   "source": [
    "#### 1. DATA 불러오기"
   ]
  },
  {
   "cell_type": "code",
   "execution_count": 1,
   "id": "3282a927",
   "metadata": {},
   "outputs": [],
   "source": [
    "import pandas as pd"
   ]
  },
  {
   "cell_type": "code",
   "execution_count": 2,
   "id": "057f5ffb",
   "metadata": {},
   "outputs": [
    {
     "name": "stdout",
     "output_type": "stream",
     "text": [
      "<class 'pandas.core.frame.DataFrame'>\n"
     ]
    },
    {
     "data": {
      "text/html": [
       "<div>\n",
       "<style scoped>\n",
       "    .dataframe tbody tr th:only-of-type {\n",
       "        vertical-align: middle;\n",
       "    }\n",
       "\n",
       "    .dataframe tbody tr th {\n",
       "        vertical-align: top;\n",
       "    }\n",
       "\n",
       "    .dataframe thead th {\n",
       "        text-align: right;\n",
       "    }\n",
       "</style>\n",
       "<table border=\"1\" class=\"dataframe\">\n",
       "  <thead>\n",
       "    <tr style=\"text-align: right;\">\n",
       "      <th></th>\n",
       "      <th>title</th>\n",
       "      <th>category</th>\n",
       "      <th>subscriber</th>\n",
       "      <th>view</th>\n",
       "      <th>video</th>\n",
       "    </tr>\n",
       "  </thead>\n",
       "  <tbody>\n",
       "    <tr>\n",
       "      <th>0</th>\n",
       "      <td>BLACKPINK</td>\n",
       "      <td>[음악/댄스/가수]</td>\n",
       "      <td>5140만</td>\n",
       "      <td>128억5130만</td>\n",
       "      <td>319개</td>\n",
       "    </tr>\n",
       "    <tr>\n",
       "      <th>1</th>\n",
       "      <td>Big Hit Labels</td>\n",
       "      <td>[음악/댄스/가수]</td>\n",
       "      <td>4550만</td>\n",
       "      <td>120억8966만</td>\n",
       "      <td>433개</td>\n",
       "    </tr>\n",
       "    <tr>\n",
       "      <th>2</th>\n",
       "      <td>BANGTANTV</td>\n",
       "      <td>[음악/댄스/가수]</td>\n",
       "      <td>3870만</td>\n",
       "      <td>54억7598만</td>\n",
       "      <td>1,319개</td>\n",
       "    </tr>\n",
       "    <tr>\n",
       "      <th>3</th>\n",
       "      <td>Boram Tube Vlog [보람튜브 브이로그]</td>\n",
       "      <td>[키즈/어린이]</td>\n",
       "      <td>2650만</td>\n",
       "      <td>110억5288만</td>\n",
       "      <td>223개</td>\n",
       "    </tr>\n",
       "    <tr>\n",
       "      <th>4</th>\n",
       "      <td>SMTOWN</td>\n",
       "      <td>[음악/댄스/가수]</td>\n",
       "      <td>2450만</td>\n",
       "      <td>180억7532만</td>\n",
       "      <td>3,583개</td>\n",
       "    </tr>\n",
       "  </tbody>\n",
       "</table>\n",
       "</div>"
      ],
      "text/plain": [
       "                         title    category subscriber       view   video\n",
       "0                    BLACKPINK  [음악/댄스/가수]      5140만  128억5130만    319개\n",
       "1               Big Hit Labels  [음악/댄스/가수]      4550만  120억8966만    433개\n",
       "2                    BANGTANTV  [음악/댄스/가수]      3870만   54억7598만  1,319개\n",
       "3  Boram Tube Vlog [보람튜브 브이로그]    [키즈/어린이]      2650만  110억5288만    223개\n",
       "4                       SMTOWN  [음악/댄스/가수]      2450만  180억7532만  3,583개"
      ]
     },
     "execution_count": 2,
     "metadata": {},
     "output_type": "execute_result"
    }
   ],
   "source": [
    "df = pd.read_excel('./data/youtube_rank.xlsx')\n",
    "print(type(df))\n",
    "original = df.copy()\n",
    "original.head()"
   ]
  },
  {
   "cell_type": "markdown",
   "id": "936417a0",
   "metadata": {},
   "source": [
    "#### 2. 데이터구조 확인하기"
   ]
  },
  {
   "cell_type": "code",
   "execution_count": 3,
   "id": "dbaac0a3",
   "metadata": {},
   "outputs": [
    {
     "data": {
      "text/html": [
       "<div>\n",
       "<style scoped>\n",
       "    .dataframe tbody tr th:only-of-type {\n",
       "        vertical-align: middle;\n",
       "    }\n",
       "\n",
       "    .dataframe tbody tr th {\n",
       "        vertical-align: top;\n",
       "    }\n",
       "\n",
       "    .dataframe thead th {\n",
       "        text-align: right;\n",
       "    }\n",
       "</style>\n",
       "<table border=\"1\" class=\"dataframe\">\n",
       "  <thead>\n",
       "    <tr style=\"text-align: right;\">\n",
       "      <th></th>\n",
       "      <th>title</th>\n",
       "      <th>category</th>\n",
       "      <th>subscriber</th>\n",
       "      <th>view</th>\n",
       "      <th>video</th>\n",
       "    </tr>\n",
       "  </thead>\n",
       "  <tbody>\n",
       "    <tr>\n",
       "      <th>0</th>\n",
       "      <td>BLACKPINK</td>\n",
       "      <td>[음악/댄스/가수]</td>\n",
       "      <td>5140만</td>\n",
       "      <td>128억5130만</td>\n",
       "      <td>319개</td>\n",
       "    </tr>\n",
       "    <tr>\n",
       "      <th>1</th>\n",
       "      <td>Big Hit Labels</td>\n",
       "      <td>[음악/댄스/가수]</td>\n",
       "      <td>4550만</td>\n",
       "      <td>120억8966만</td>\n",
       "      <td>433개</td>\n",
       "    </tr>\n",
       "    <tr>\n",
       "      <th>2</th>\n",
       "      <td>BANGTANTV</td>\n",
       "      <td>[음악/댄스/가수]</td>\n",
       "      <td>3870만</td>\n",
       "      <td>54억7598만</td>\n",
       "      <td>1,319개</td>\n",
       "    </tr>\n",
       "    <tr>\n",
       "      <th>3</th>\n",
       "      <td>Boram Tube Vlog [보람튜브 브이로그]</td>\n",
       "      <td>[키즈/어린이]</td>\n",
       "      <td>2650만</td>\n",
       "      <td>110억5288만</td>\n",
       "      <td>223개</td>\n",
       "    </tr>\n",
       "    <tr>\n",
       "      <th>4</th>\n",
       "      <td>SMTOWN</td>\n",
       "      <td>[음악/댄스/가수]</td>\n",
       "      <td>2450만</td>\n",
       "      <td>180억7532만</td>\n",
       "      <td>3,583개</td>\n",
       "    </tr>\n",
       "  </tbody>\n",
       "</table>\n",
       "</div>"
      ],
      "text/plain": [
       "                         title    category subscriber       view   video\n",
       "0                    BLACKPINK  [음악/댄스/가수]      5140만  128억5130만    319개\n",
       "1               Big Hit Labels  [음악/댄스/가수]      4550만  120억8966만    433개\n",
       "2                    BANGTANTV  [음악/댄스/가수]      3870만   54억7598만  1,319개\n",
       "3  Boram Tube Vlog [보람튜브 브이로그]    [키즈/어린이]      2650만  110억5288만    223개\n",
       "4                       SMTOWN  [음악/댄스/가수]      2450만  180억7532만  3,583개"
      ]
     },
     "execution_count": 3,
     "metadata": {},
     "output_type": "execute_result"
    }
   ],
   "source": [
    "df.head()\n",
    "#0/1/2/3/4 -> index\n",
    "#subscriber, view, video에서 '억','만','개' 숫자가 아닌 문자로 인식됨"
   ]
  },
  {
   "cell_type": "code",
   "execution_count": 4,
   "id": "258cb939",
   "metadata": {},
   "outputs": [
    {
     "data": {
      "text/html": [
       "<div>\n",
       "<style scoped>\n",
       "    .dataframe tbody tr th:only-of-type {\n",
       "        vertical-align: middle;\n",
       "    }\n",
       "\n",
       "    .dataframe tbody tr th {\n",
       "        vertical-align: top;\n",
       "    }\n",
       "\n",
       "    .dataframe thead th {\n",
       "        text-align: right;\n",
       "    }\n",
       "</style>\n",
       "<table border=\"1\" class=\"dataframe\">\n",
       "  <thead>\n",
       "    <tr style=\"text-align: right;\">\n",
       "      <th></th>\n",
       "      <th>title</th>\n",
       "      <th>category</th>\n",
       "      <th>subscriber</th>\n",
       "      <th>view</th>\n",
       "      <th>video</th>\n",
       "    </tr>\n",
       "  </thead>\n",
       "  <tbody>\n",
       "    <tr>\n",
       "      <th>995</th>\n",
       "      <td>Ranking World</td>\n",
       "      <td>[미분류]</td>\n",
       "      <td>40만</td>\n",
       "      <td>1억2752만</td>\n",
       "      <td>503개</td>\n",
       "    </tr>\n",
       "    <tr>\n",
       "      <th>996</th>\n",
       "      <td>급식걸즈</td>\n",
       "      <td>[취미/라이프]</td>\n",
       "      <td>40만</td>\n",
       "      <td>2억3901만</td>\n",
       "      <td>226개</td>\n",
       "    </tr>\n",
       "    <tr>\n",
       "      <th>997</th>\n",
       "      <td>OCN</td>\n",
       "      <td>[TV/방송]</td>\n",
       "      <td>40만</td>\n",
       "      <td>3억4583만</td>\n",
       "      <td>10,071개</td>\n",
       "    </tr>\n",
       "    <tr>\n",
       "      <th>998</th>\n",
       "      <td>Bravo jamoasi</td>\n",
       "      <td>[미분류]</td>\n",
       "      <td>40만</td>\n",
       "      <td>6193만</td>\n",
       "      <td>25개</td>\n",
       "    </tr>\n",
       "    <tr>\n",
       "      <th>999</th>\n",
       "      <td>덕출 : DCTVGO</td>\n",
       "      <td>[TV/방송]</td>\n",
       "      <td>40만</td>\n",
       "      <td>8249만</td>\n",
       "      <td>202개</td>\n",
       "    </tr>\n",
       "  </tbody>\n",
       "</table>\n",
       "</div>"
      ],
      "text/plain": [
       "             title  category subscriber     view    video\n",
       "995  Ranking World     [미분류]        40만  1억2752만     503개\n",
       "996           급식걸즈  [취미/라이프]        40만  2억3901만     226개\n",
       "997            OCN   [TV/방송]        40만  3억4583만  10,071개\n",
       "998  Bravo jamoasi     [미분류]        40만    6193만      25개\n",
       "999    덕출 : DCTVGO   [TV/방송]        40만    8249만     202개"
      ]
     },
     "execution_count": 4,
     "metadata": {},
     "output_type": "execute_result"
    }
   ],
   "source": [
    "df.tail()"
   ]
  },
  {
   "cell_type": "code",
   "execution_count": 5,
   "id": "ecc505c5",
   "metadata": {},
   "outputs": [
    {
     "name": "stdout",
     "output_type": "stream",
     "text": [
      "<class 'pandas.core.frame.DataFrame'>\n",
      "RangeIndex: 1000 entries, 0 to 999\n",
      "Data columns (total 5 columns):\n",
      " #   Column      Non-Null Count  Dtype \n",
      "---  ------      --------------  ----- \n",
      " 0   title       1000 non-null   object\n",
      " 1   category    1000 non-null   object\n",
      " 2   subscriber  1000 non-null   object\n",
      " 3   view        1000 non-null   object\n",
      " 4   video       1000 non-null   object\n",
      "dtypes: object(5)\n",
      "memory usage: 39.2+ KB\n"
     ]
    }
   ],
   "source": [
    "# df의 행의 개수 column 정보 등 확인\n",
    "df.info()\n",
    "# entries 행의 갯수, \n",
    "# column 이름 확인\n",
    "# 결측치없음\n",
    "# dtype : object -> 문자데이터"
   ]
  },
  {
   "cell_type": "code",
   "execution_count": 6,
   "id": "4aa59f27",
   "metadata": {},
   "outputs": [
    {
     "data": {
      "text/plain": [
       "(1000, 5)"
      ]
     },
     "execution_count": 6,
     "metadata": {},
     "output_type": "execute_result"
    }
   ],
   "source": [
    "# df의 행,열 수 확인\n",
    "df.shape"
   ]
  },
  {
   "attachments": {
    "image.png": {
     "image/png": "[encoded data removed]"
    }
   },
   "cell_type": "markdown",
   "id": "b3b02e33",
   "metadata": {},
   "source": [
    "![image.png](attachment:image.png)"
   ]
  },
  {
   "cell_type": "code",
   "execution_count": 7,
   "id": "4b8dc2df",
   "metadata": {},
   "outputs": [
    {
     "data": {
      "text/plain": [
       "RangeIndex(start=0, stop=1000, step=1)"
      ]
     },
     "execution_count": 7,
     "metadata": {},
     "output_type": "execute_result"
    }
   ],
   "source": [
    "df.index\n",
    "#0~999, 1개씩 증가"
   ]
  },
  {
   "cell_type": "code",
   "execution_count": 8,
   "id": "cf6223a6",
   "metadata": {},
   "outputs": [
    {
     "data": {
      "text/plain": [
       "Index(['title', 'category', 'subscriber', 'view', 'video'], dtype='object')"
      ]
     },
     "execution_count": 8,
     "metadata": {},
     "output_type": "execute_result"
    }
   ],
   "source": [
    "df.columns"
   ]
  },
  {
   "cell_type": "code",
   "execution_count": 9,
   "id": "b04e8cb3",
   "metadata": {},
   "outputs": [
    {
     "data": {
      "text/plain": [
       "array([['BLACKPINK', '[음악/댄스/가수]', '5140만', '128억5130만', '319개'],\n",
       "       ['Big Hit Labels', '[음악/댄스/가수]', '4550만', '120억8966만', '433개'],\n",
       "       ['BANGTANTV', '[음악/댄스/가수]', '3870만', '54억7598만', '1,319개'],\n",
       "       ...,\n",
       "       ['OCN', '[TV/방송]', '40만', '3억4583만', '10,071개'],\n",
       "       ['Bravo jamoasi', '[미분류]', '40만', '6193만', '25개'],\n",
       "       ['덕출 : DCTVGO', '[TV/방송]', '40만', '8249만', '202개']], dtype=object)"
      ]
     },
     "execution_count": 9,
     "metadata": {},
     "output_type": "execute_result"
    }
   ],
   "source": [
    "df.values"
   ]
  },
  {
   "cell_type": "markdown",
   "id": "fa97654e",
   "metadata": {},
   "source": [
    "####  3. Series의 구성요소"
   ]
  },
  {
   "cell_type": "code",
   "execution_count": 10,
   "id": "50c5cdb5",
   "metadata": {},
   "outputs": [
    {
     "data": {
      "text/plain": [
       "0      319개\n",
       "1      433개\n",
       "2    1,319개\n",
       "3      223개\n",
       "4    3,583개\n",
       "Name: video, dtype: object"
      ]
     },
     "execution_count": 10,
     "metadata": {},
     "output_type": "execute_result"
    }
   ],
   "source": [
    "# video 컬럼의 내용 불러오기\n",
    "s = df['video'] # video 컬럼의 내용은 갯수이므로 319개, 433개...\n",
    "s.head()"
   ]
  },
  {
   "cell_type": "code",
   "execution_count": 11,
   "id": "ba8d2145",
   "metadata": {},
   "outputs": [
    {
     "name": "stdout",
     "output_type": "stream",
     "text": [
      "    video\n",
      "0    319개\n",
      "1    433개\n",
      "2  1,319개\n",
      "3    223개\n",
      "4  3,583개\n"
     ]
    }
   ],
   "source": [
    "temp = df[['video']] #인덱싱하고 리스트\n",
    "print(temp.head())"
   ]
  },
  {
   "attachments": {
    "image.png": {
     "image/png": "[encoded data removed]"
    }
   },
   "cell_type": "markdown",
   "id": "2d5f37aa",
   "metadata": {},
   "source": [
    "![image.png](attachment:image.png)"
   ]
  },
  {
   "cell_type": "code",
   "execution_count": 12,
   "id": "43c2513b",
   "metadata": {},
   "outputs": [
    {
     "data": {
      "text/plain": [
       "RangeIndex(start=0, stop=1000, step=1)"
      ]
     },
     "execution_count": 12,
     "metadata": {},
     "output_type": "execute_result"
    }
   ],
   "source": [
    "#series의 index\n",
    "s.index"
   ]
  },
  {
   "cell_type": "code",
   "execution_count": 13,
   "id": "6a558085",
   "metadata": {},
   "outputs": [
    {
     "data": {
      "text/plain": [
       "array(['319개', '433개', '1,319개', '223개', '3,583개', '2,205개', '13,291개',\n",
       "       '1,181개', '112개', '2,417개'], dtype=object)"
      ]
     },
     "execution_count": 13,
     "metadata": {},
     "output_type": "execute_result"
    }
   ],
   "source": [
    "s.values[:10]"
   ]
  },
  {
   "cell_type": "code",
   "execution_count": 14,
   "id": "c106d725",
   "metadata": {},
   "outputs": [
    {
     "data": {
      "text/plain": [
       "Index(['title', 'category', 'subscriber', 'view', 'video'], dtype='object')"
      ]
     },
     "execution_count": 14,
     "metadata": {},
     "output_type": "execute_result"
    }
   ],
   "source": [
    "# indexing을 사용해서 컬럼명 변경\n",
    "df.columns"
   ]
  },
  {
   "cell_type": "code",
   "execution_count": 15,
   "id": "87015c81",
   "metadata": {},
   "outputs": [
    {
     "data": {
      "text/html": [
       "<div>\n",
       "<style scoped>\n",
       "    .dataframe tbody tr th:only-of-type {\n",
       "        vertical-align: middle;\n",
       "    }\n",
       "\n",
       "    .dataframe tbody tr th {\n",
       "        vertical-align: top;\n",
       "    }\n",
       "\n",
       "    .dataframe thead th {\n",
       "        text-align: right;\n",
       "    }\n",
       "</style>\n",
       "<table border=\"1\" class=\"dataframe\">\n",
       "  <thead>\n",
       "    <tr style=\"text-align: right;\">\n",
       "      <th></th>\n",
       "      <th>채널</th>\n",
       "      <th>카테고리</th>\n",
       "      <th>구독자</th>\n",
       "      <th>조회수</th>\n",
       "      <th>영상</th>\n",
       "    </tr>\n",
       "  </thead>\n",
       "  <tbody>\n",
       "    <tr>\n",
       "      <th>0</th>\n",
       "      <td>BLACKPINK</td>\n",
       "      <td>[음악/댄스/가수]</td>\n",
       "      <td>5140만</td>\n",
       "      <td>128억5130만</td>\n",
       "      <td>319개</td>\n",
       "    </tr>\n",
       "    <tr>\n",
       "      <th>1</th>\n",
       "      <td>Big Hit Labels</td>\n",
       "      <td>[음악/댄스/가수]</td>\n",
       "      <td>4550만</td>\n",
       "      <td>120억8966만</td>\n",
       "      <td>433개</td>\n",
       "    </tr>\n",
       "    <tr>\n",
       "      <th>2</th>\n",
       "      <td>BANGTANTV</td>\n",
       "      <td>[음악/댄스/가수]</td>\n",
       "      <td>3870만</td>\n",
       "      <td>54억7598만</td>\n",
       "      <td>1,319개</td>\n",
       "    </tr>\n",
       "    <tr>\n",
       "      <th>3</th>\n",
       "      <td>Boram Tube Vlog [보람튜브 브이로그]</td>\n",
       "      <td>[키즈/어린이]</td>\n",
       "      <td>2650만</td>\n",
       "      <td>110억5288만</td>\n",
       "      <td>223개</td>\n",
       "    </tr>\n",
       "    <tr>\n",
       "      <th>4</th>\n",
       "      <td>SMTOWN</td>\n",
       "      <td>[음악/댄스/가수]</td>\n",
       "      <td>2450만</td>\n",
       "      <td>180억7532만</td>\n",
       "      <td>3,583개</td>\n",
       "    </tr>\n",
       "  </tbody>\n",
       "</table>\n",
       "</div>"
      ],
      "text/plain": [
       "                            채널        카테고리    구독자        조회수      영상\n",
       "0                    BLACKPINK  [음악/댄스/가수]  5140만  128억5130만    319개\n",
       "1               Big Hit Labels  [음악/댄스/가수]  4550만  120억8966만    433개\n",
       "2                    BANGTANTV  [음악/댄스/가수]  3870만   54억7598만  1,319개\n",
       "3  Boram Tube Vlog [보람튜브 브이로그]    [키즈/어린이]  2650만  110억5288만    223개\n",
       "4                       SMTOWN  [음악/댄스/가수]  2450만  180억7532만  3,583개"
      ]
     },
     "execution_count": 15,
     "metadata": {},
     "output_type": "execute_result"
    }
   ],
   "source": [
    "df.columns = ['채널','카테고리','구독자','조회수','영상']\n",
    "df.head(5)"
   ]
  },
  {
   "cell_type": "markdown",
   "id": "9102041e",
   "metadata": {},
   "source": [
    "#### 4. dtype 변경\n",
    "파일을 읽어 DataFrame 생성 시 columns 별로 dtype 자동 결정됨 그러므로 분석 목적에 맞게 변경 필요"
   ]
  },
  {
   "cell_type": "markdown",
   "id": "30751fbc",
   "metadata": {},
   "source": [
    "- series.astype\n",
    "- int,int32,int64,float,str,category 등으로\n",
    "- np.int...numpy로 가능"
   ]
  },
  {
   "cell_type": "code",
   "execution_count": 16,
   "id": "460cac84",
   "metadata": {},
   "outputs": [
    {
     "data": {
      "text/html": [
       "<div>\n",
       "<style scoped>\n",
       "    .dataframe tbody tr th:only-of-type {\n",
       "        vertical-align: middle;\n",
       "    }\n",
       "\n",
       "    .dataframe tbody tr th {\n",
       "        vertical-align: top;\n",
       "    }\n",
       "\n",
       "    .dataframe thead th {\n",
       "        text-align: right;\n",
       "    }\n",
       "</style>\n",
       "<table border=\"1\" class=\"dataframe\">\n",
       "  <thead>\n",
       "    <tr style=\"text-align: right;\">\n",
       "      <th></th>\n",
       "      <th>title</th>\n",
       "      <th>category</th>\n",
       "      <th>subscriber</th>\n",
       "      <th>view</th>\n",
       "      <th>video</th>\n",
       "    </tr>\n",
       "  </thead>\n",
       "  <tbody>\n",
       "    <tr>\n",
       "      <th>0</th>\n",
       "      <td>BLACKPINK</td>\n",
       "      <td>[음악/댄스/가수]</td>\n",
       "      <td>5140만</td>\n",
       "      <td>128억5130만</td>\n",
       "      <td>319개</td>\n",
       "    </tr>\n",
       "    <tr>\n",
       "      <th>1</th>\n",
       "      <td>Big Hit Labels</td>\n",
       "      <td>[음악/댄스/가수]</td>\n",
       "      <td>4550만</td>\n",
       "      <td>120억8966만</td>\n",
       "      <td>433개</td>\n",
       "    </tr>\n",
       "    <tr>\n",
       "      <th>2</th>\n",
       "      <td>BANGTANTV</td>\n",
       "      <td>[음악/댄스/가수]</td>\n",
       "      <td>3870만</td>\n",
       "      <td>54억7598만</td>\n",
       "      <td>1,319개</td>\n",
       "    </tr>\n",
       "    <tr>\n",
       "      <th>3</th>\n",
       "      <td>Boram Tube Vlog [보람튜브 브이로그]</td>\n",
       "      <td>[키즈/어린이]</td>\n",
       "      <td>2650만</td>\n",
       "      <td>110억5288만</td>\n",
       "      <td>223개</td>\n",
       "    </tr>\n",
       "    <tr>\n",
       "      <th>4</th>\n",
       "      <td>SMTOWN</td>\n",
       "      <td>[음악/댄스/가수]</td>\n",
       "      <td>2450만</td>\n",
       "      <td>180억7532만</td>\n",
       "      <td>3,583개</td>\n",
       "    </tr>\n",
       "  </tbody>\n",
       "</table>\n",
       "</div>"
      ],
      "text/plain": [
       "                         title    category subscriber       view   video\n",
       "0                    BLACKPINK  [음악/댄스/가수]      5140만  128억5130만    319개\n",
       "1               Big Hit Labels  [음악/댄스/가수]      4550만  120억8966만    433개\n",
       "2                    BANGTANTV  [음악/댄스/가수]      3870만   54억7598만  1,319개\n",
       "3  Boram Tube Vlog [보람튜브 브이로그]    [키즈/어린이]      2650만  110억5288만    223개\n",
       "4                       SMTOWN  [음악/댄스/가수]      2450만  180억7532만  3,583개"
      ]
     },
     "execution_count": 16,
     "metadata": {},
     "output_type": "execute_result"
    }
   ],
   "source": [
    "df = original.copy()\n",
    "df.head()"
   ]
  },
  {
   "cell_type": "code",
   "execution_count": 17,
   "id": "7b14780d",
   "metadata": {},
   "outputs": [
    {
     "data": {
      "text/plain": [
       "title         object\n",
       "category      object\n",
       "subscriber    object\n",
       "view          object\n",
       "video         object\n",
       "dtype: object"
      ]
     },
     "execution_count": 17,
     "metadata": {},
     "output_type": "execute_result"
    }
   ],
   "source": [
    "df.dtypes"
   ]
  },
  {
   "cell_type": "code",
   "execution_count": 18,
   "id": "50017fa0",
   "metadata": {},
   "outputs": [
    {
     "name": "stdout",
     "output_type": "stream",
     "text": [
      "<class 'pandas.core.frame.DataFrame'>\n",
      "RangeIndex: 1000 entries, 0 to 999\n",
      "Data columns (total 5 columns):\n",
      " #   Column      Non-Null Count  Dtype \n",
      "---  ------      --------------  ----- \n",
      " 0   title       1000 non-null   object\n",
      " 1   category    1000 non-null   object\n",
      " 2   subscriber  1000 non-null   object\n",
      " 3   view        1000 non-null   object\n",
      " 4   video       1000 non-null   object\n",
      "dtypes: object(5)\n",
      "memory usage: 39.2+ KB\n"
     ]
    }
   ],
   "source": [
    "df.info()\n",
    "#info는 다른 정보도 같이 나옴"
   ]
  },
  {
   "cell_type": "code",
   "execution_count": 19,
   "id": "af710359",
   "metadata": {},
   "outputs": [
    {
     "name": "stdout",
     "output_type": "stream",
     "text": [
      "object\n"
     ]
    }
   ],
   "source": [
    "print(df['subscriber'].dtype)"
   ]
  },
  {
   "cell_type": "code",
   "execution_count": 20,
   "id": "d1bf3fe8",
   "metadata": {},
   "outputs": [],
   "source": [
    "# 아래처럼 바꾸면 에러발생 -> '만'이라는 텍스트가 인식되므로 대체하거나 제거해야함\n",
    "# df['subscriber'].astype('int64')\n",
    "# series.replace(변경대상, 변경내용)\n",
    "# series.replace([변경대상1, 변경대상2], [변경내용1,변경내용2])"
   ]
  },
  {
   "cell_type": "code",
   "execution_count": 21,
   "id": "569ecc68",
   "metadata": {},
   "outputs": [
    {
     "data": {
      "text/plain": [
       "0    5140만\n",
       "1    4550만\n",
       "2    3870만\n",
       "3    2650만\n",
       "4    2450만\n",
       "Name: subscriber, dtype: object"
      ]
     },
     "execution_count": 21,
     "metadata": {},
     "output_type": "execute_result"
    }
   ],
   "source": [
    "#replace로 변경하면 만 앞에 숫자까지 덩어리로 인식해서(매치하는 값이 없어서) '만'이 그대로 나옴\n",
    "df['subscriber'].replace('만','0000').head()"
   ]
  },
  {
   "cell_type": "code",
   "execution_count": 22,
   "id": "021f2825",
   "metadata": {},
   "outputs": [
    {
     "data": {
      "text/plain": [
       "0    51400000\n",
       "1    45500000\n",
       "2    38700000\n",
       "3    26500000\n",
       "4    24500000\n",
       "Name: subscriber, dtype: object"
      ]
     },
     "execution_count": 22,
     "metadata": {},
     "output_type": "execute_result"
    }
   ],
   "source": [
    "#regex(regluar expression) 정규표현, 일부 내용을 대체\n",
    "df['subscriber'].replace('만','0000', regex=True).head(5)"
   ]
  },
  {
   "cell_type": "code",
   "execution_count": 23,
   "id": "6de0f9e0",
   "metadata": {},
   "outputs": [
    {
     "data": {
      "text/plain": [
       "0      51400000\n",
       "1      45500000\n",
       "2      38700000\n",
       "3      26500000\n",
       "4      24500000\n",
       "         ...   \n",
       "995      400000\n",
       "996      400000\n",
       "997      400000\n",
       "998      400000\n",
       "999      400000\n",
       "Name: subscriber, Length: 1000, dtype: int64"
      ]
     },
     "execution_count": 23,
     "metadata": {},
     "output_type": "execute_result"
    }
   ],
   "source": [
    "# 숫자로 바꾼 상태에서 dtype 변경\n",
    "df['subscriber'].replace('만','0000',regex = True).astype('int64')"
   ]
  },
  {
   "cell_type": "code",
   "execution_count": 24,
   "id": "f75ddd6a",
   "metadata": {},
   "outputs": [
    {
     "data": {
      "text/plain": [
       "0    128억5130만\n",
       "1    120억8966만\n",
       "2     54억7598만\n",
       "3    110억5288만\n",
       "4    180억7532만\n",
       "Name: view, dtype: object"
      ]
     },
     "execution_count": 24,
     "metadata": {},
     "output_type": "execute_result"
    }
   ],
   "source": [
    "df['view'].head()"
   ]
  },
  {
   "cell_type": "code",
   "execution_count": 25,
   "id": "d2f57a6f",
   "metadata": {},
   "outputs": [
    {
     "data": {
      "text/plain": [
       "0    12851300000\n",
       "1    12089660000\n",
       "2     5475980000\n",
       "3    11052880000\n",
       "4    18075320000\n",
       "Name: view, dtype: object"
      ]
     },
     "execution_count": 25,
     "metadata": {},
     "output_type": "execute_result"
    }
   ],
   "source": [
    "df['view'].replace(['억','만'],['','0000'],regex=True).head(5)"
   ]
  },
  {
   "cell_type": "code",
   "execution_count": 26,
   "id": "ebaed00c",
   "metadata": {},
   "outputs": [
    {
     "data": {
      "text/plain": [
       "0    12851300000\n",
       "1    12089660000\n",
       "2     5475980000\n",
       "3    11052880000\n",
       "4    18075320000\n",
       "Name: view, dtype: object"
      ]
     },
     "execution_count": 26,
     "metadata": {},
     "output_type": "execute_result"
    }
   ],
   "source": [
    "# 딕셔너리 매써드로 변경\n",
    "df['view'].replace({'억':'','만':'0000'},regex=True).head(5)"
   ]
  },
  {
   "cell_type": "code",
   "execution_count": 27,
   "id": "48956e76",
   "metadata": {},
   "outputs": [
    {
     "data": {
      "text/plain": [
       "0    12851300000\n",
       "1    12089660000\n",
       "2     5475980000\n",
       "3    11052880000\n",
       "4    18075320000\n",
       "Name: view, dtype: int64"
      ]
     },
     "execution_count": 27,
     "metadata": {},
     "output_type": "execute_result"
    }
   ],
   "source": [
    "#int64로 변경\n",
    "df['view'].replace(['억','만'],['','0000'],regex=True).astype('int64').head(5)"
   ]
  },
  {
   "cell_type": "code",
   "execution_count": 28,
   "id": "0a436b85",
   "metadata": {},
   "outputs": [
    {
     "data": {
      "text/plain": [
       "0      319개\n",
       "1      433개\n",
       "2    1,319개\n",
       "3      223개\n",
       "4    3,583개\n",
       "Name: video, dtype: object"
      ]
     },
     "execution_count": 28,
     "metadata": {},
     "output_type": "execute_result"
    }
   ],
   "source": [
    "# 콤마, '개' 변경필요\n",
    "# 메타문자 : . , + ? * ^ $ 등 메타문자 기능을 없애기 위해 \\(역슬래시 사용) ''\\.'\n",
    "df['video'].head()"
   ]
  },
  {
   "cell_type": "code",
   "execution_count": 29,
   "id": "b4d80696",
   "metadata": {},
   "outputs": [
    {
     "data": {
      "text/plain": [
       "0     319\n",
       "1     433\n",
       "2    1319\n",
       "3     223\n",
       "4    3583\n",
       "Name: video, dtype: object"
      ]
     },
     "execution_count": 29,
     "metadata": {},
     "output_type": "execute_result"
    }
   ],
   "source": [
    "# 변경 할 내용이 동일하다면 한 번만 작성\n",
    "df['video'].replace(['\\,','개'],'',regex=True).head()\n",
    "#df['video'].replace(['\\,','개'],['',''],regex=True).head()"
   ]
  },
  {
   "cell_type": "code",
   "execution_count": 30,
   "id": "7ce56a8c",
   "metadata": {},
   "outputs": [
    {
     "data": {
      "text/plain": [
       "0     319\n",
       "1     433\n",
       "2    1319\n",
       "3     223\n",
       "4    3583\n",
       "Name: video, dtype: int64"
      ]
     },
     "execution_count": 30,
     "metadata": {},
     "output_type": "execute_result"
    }
   ],
   "source": [
    "df['video'].replace(['\\,','개'],'',regex=True).astype('int64').head()"
   ]
  },
  {
   "cell_type": "code",
   "execution_count": 31,
   "id": "8a4654f3",
   "metadata": {},
   "outputs": [
    {
     "data": {
      "text/plain": [
       "[음악/댄스/가수]     175\n",
       "[TV/방송]        161\n",
       "[게임]           101\n",
       "[키즈/어린이]        95\n",
       "[음식/요리/레시피]     88\n",
       "[BJ/인물/연예인]     68\n",
       "[패션/미용]         57\n",
       "[뉴스/정치/사회]      56\n",
       "[미분류]           40\n",
       "[취미/라이프]        40\n",
       "[영화/만화/애니]      33\n",
       "[교육/강의]         23\n",
       "[애완/반려동물]       20\n",
       "[스포츠/운동]        12\n",
       "[IT/기술/컴퓨터]      8\n",
       "[해외]             6\n",
       "[주식/경제/부동산]      5\n",
       "[국내/해외/여행]       5\n",
       "[회사/오피셜]         4\n",
       "[자동차]            2\n",
       "[취미]             1\n",
       "Name: category, dtype: int64"
      ]
     },
     "execution_count": 31,
     "metadata": {},
     "output_type": "execute_result"
    }
   ],
   "source": [
    "# category 컬럼 값 별 개수 확인\n",
    "df['category'].value_counts()"
   ]
  },
  {
   "cell_type": "code",
   "execution_count": 32,
   "id": "54ce6480",
   "metadata": {},
   "outputs": [
    {
     "data": {
      "text/plain": [
       "음악/댄스/가수     175\n",
       "TV/방송        161\n",
       "게임           101\n",
       "키즈/어린이        95\n",
       "음식/요리/레시피     88\n",
       "BJ/인물/연예인     68\n",
       "패션/미용         57\n",
       "뉴스/정치/사회      56\n",
       "미분류           40\n",
       "취미/라이프        40\n",
       "영화/만화/애니      33\n",
       "교육/강의         23\n",
       "애완/반려동물       20\n",
       "스포츠/운동        12\n",
       "IT/기술/컴퓨터      8\n",
       "해외             6\n",
       "주식/경제/부동산      5\n",
       "국내/해외/여행       5\n",
       "회사/오피셜         4\n",
       "자동차            2\n",
       "취미             1\n",
       "Name: category, dtype: int64"
      ]
     },
     "execution_count": 32,
     "metadata": {},
     "output_type": "execute_result"
    }
   ],
   "source": [
    "# category '[]' 삭제\n",
    "temp = df['category'].replace({'\\[','\\]'},\"\",regex= True)\n",
    "temp.value_counts()"
   ]
  },
  {
   "cell_type": "code",
   "execution_count": 33,
   "id": "6821778b",
   "metadata": {},
   "outputs": [
    {
     "data": {
      "text/plain": [
       "0      음악/댄스/가수\n",
       "1      음악/댄스/가수\n",
       "2      음악/댄스/가수\n",
       "3        키즈/어린이\n",
       "4      음악/댄스/가수\n",
       "         ...   \n",
       "995         미분류\n",
       "996      취미/라이프\n",
       "997       TV/방송\n",
       "998         미분류\n",
       "999       TV/방송\n",
       "Name: category, Length: 1000, dtype: category\n",
       "Categories (21, object): ['BJ/인물/연예인', 'IT/기술/컴퓨터', 'TV/방송', '게임', ..., '키즈/어린이', '패션/미용', '해외', '회사/오피셜']"
      ]
     },
     "execution_count": 33,
     "metadata": {},
     "output_type": "execute_result"
    }
   ],
   "source": [
    "# 범주형으로 바꾸기\n",
    "df['category'].replace(['\\[','\\]'],'',regex=True).astype('category')"
   ]
  },
  {
   "cell_type": "code",
   "execution_count": 34,
   "id": "c15b2cb2",
   "metadata": {},
   "outputs": [
    {
     "data": {
      "text/plain": [
       "0      음악/댄스/가수\n",
       "1      음악/댄스/가수\n",
       "2      음악/댄스/가수\n",
       "3        키즈/어린이\n",
       "4      음악/댄스/가수\n",
       "         ...   \n",
       "995         미분류\n",
       "996      취미/라이프\n",
       "997       TV/방송\n",
       "998         미분류\n",
       "999       TV/방송\n",
       "Name: category, Length: 1000, dtype: category\n",
       "Categories (21, object): ['BJ/인물/연예인', 'IT/기술/컴퓨터', 'TV/방송', '게임', ..., '키즈/어린이', '패션/미용', '해외', '회사/오피셜']"
      ]
     },
     "execution_count": 34,
     "metadata": {},
     "output_type": "execute_result"
    }
   ],
   "source": [
    "#str 첫번째와 마지막 글자 제거\n",
    "df['category'].str[1:-1].astype('category')\n",
    "# replace는 문자를 대체하는 것이라 중간에 변경 할 문자가 나오면 걔도 변경됨\n",
    "# str은 지정된 위치에서 삭제\n",
    "# 상황에 맞게 사용 필요(앞뒤만 삭제 할 문자면 str이 편하고, '억','만' 같이 중간에 나오는 값은 replace가 편하고)"
   ]
  },
  {
   "cell_type": "code",
   "execution_count": 35,
   "id": "1a404702",
   "metadata": {},
   "outputs": [
    {
     "name": "stdout",
     "output_type": "stream",
     "text": [
      "<class 'pandas.core.frame.DataFrame'>\n",
      "RangeIndex: 1000 entries, 0 to 999\n",
      "Data columns (total 5 columns):\n",
      " #   Column      Non-Null Count  Dtype   \n",
      "---  ------      --------------  -----   \n",
      " 0   title       1000 non-null   object  \n",
      " 1   category    1000 non-null   category\n",
      " 2   subscriber  1000 non-null   int64   \n",
      " 3   view        1000 non-null   int64   \n",
      " 4   video       1000 non-null   int32   \n",
      "dtypes: category(1), int32(1), int64(2), object(1)\n",
      "memory usage: 29.2+ KB\n"
     ]
    }
   ],
   "source": [
    "#최종정리\n",
    "df['subscriber'] = df['subscriber'].replace('만','0000',regex=True).astype('int64')\n",
    "df['view'] = df['view'].replace({'억':'','만':'0000'},regex=True).astype('int64')\n",
    "df['video'] = df['video'].replace(['개','\\,'],'',regex=True).astype('int32')\n",
    "df['category'] = df['category'].str[1:-1].astype('category')\n",
    "df.info()"
   ]
  },
  {
   "cell_type": "code",
   "execution_count": 36,
   "id": "794fd7dc",
   "metadata": {},
   "outputs": [
    {
     "name": "stdout",
     "output_type": "stream",
     "text": [
      "<class 'pandas.core.frame.DataFrame'>\n",
      "RangeIndex: 1000 entries, 0 to 999\n",
      "Data columns (total 5 columns):\n",
      " #   Column      Non-Null Count  Dtype \n",
      "---  ------      --------------  ----- \n",
      " 0   title       1000 non-null   object\n",
      " 1   category    1000 non-null   object\n",
      " 2   subscriber  1000 non-null   int64 \n",
      " 3   view        1000 non-null   int64 \n",
      " 4   video       1000 non-null   int64 \n",
      "dtypes: int64(3), object(2)\n",
      "memory usage: 39.2+ KB\n"
     ]
    }
   ],
   "source": [
    "#제대로 변경 되었는지 확인\n",
    "df.to_excel('youtube_v1.xlsx',index=False) #index False 안하면 unnamed로 나옴\n",
    "temp = pd.read_excel('./youtube_v1.xlsx')\n",
    "temp.info()"
   ]
  },
  {
   "cell_type": "markdown",
   "id": "4f03864a",
   "metadata": {},
   "source": [
    "#### 5. 날짜데이터 다루기"
   ]
  },
  {
   "cell_type": "markdown",
   "id": "2e3f7a0c",
   "metadata": {},
   "source": [
    "- pd.to_datetime(Series, format='형식')\n",
    "- %Y: 4글자 년도, %y : 2글자 년도, %m : 2글자 월, %d : 2글자 일\n",
    "- 다양한 형식 문자들 : https://docs.python.org/3/library/datetime.html#strftime-and-strptime-behavior\n",
    "- format의 지정이 필수는 아님\n",
    "- pd.Categorical(Series, categories=['범주1', '범주2', ...], ordered=None)\n",
    "- ordered=True 사용시 순서 있는 범주형, 정렬시 정해진 순서가 사용됨\n",
    "- categories, ordered의 지정이 필수는 아님"
   ]
  },
  {
   "cell_type": "code",
   "execution_count": 37,
   "id": "a17bcbc2",
   "metadata": {},
   "outputs": [
    {
     "data": {
      "text/html": [
       "<div>\n",
       "<style scoped>\n",
       "    .dataframe tbody tr th:only-of-type {\n",
       "        vertical-align: middle;\n",
       "    }\n",
       "\n",
       "    .dataframe tbody tr th {\n",
       "        vertical-align: top;\n",
       "    }\n",
       "\n",
       "    .dataframe thead th {\n",
       "        text-align: right;\n",
       "    }\n",
       "</style>\n",
       "<table border=\"1\" class=\"dataframe\">\n",
       "  <thead>\n",
       "    <tr style=\"text-align: right;\">\n",
       "      <th></th>\n",
       "      <th>날짜_일반</th>\n",
       "      <th>날짜_시간</th>\n",
       "      <th>날짜_특수</th>\n",
       "      <th>범주</th>\n",
       "    </tr>\n",
       "  </thead>\n",
       "  <tbody>\n",
       "    <tr>\n",
       "      <th>0</th>\n",
       "      <td>2021/01/01</td>\n",
       "      <td>2021-01-01 1:12:10</td>\n",
       "      <td>21-01-01</td>\n",
       "      <td>금</td>\n",
       "    </tr>\n",
       "    <tr>\n",
       "      <th>1</th>\n",
       "      <td>2021/01/02</td>\n",
       "      <td>2021-01-02 1:13:45</td>\n",
       "      <td>21-01-02</td>\n",
       "      <td>토</td>\n",
       "    </tr>\n",
       "    <tr>\n",
       "      <th>2</th>\n",
       "      <td>2021/01/03</td>\n",
       "      <td>2021-01-03 2:50:10</td>\n",
       "      <td>21-01-03</td>\n",
       "      <td>일</td>\n",
       "    </tr>\n",
       "    <tr>\n",
       "      <th>3</th>\n",
       "      <td>2021/01/04</td>\n",
       "      <td>2021-01-04 3:12:30</td>\n",
       "      <td>21-01-04</td>\n",
       "      <td>월</td>\n",
       "    </tr>\n",
       "    <tr>\n",
       "      <th>4</th>\n",
       "      <td>2021/01/05</td>\n",
       "      <td>2021-01-05 5:40:20</td>\n",
       "      <td>21-01-05</td>\n",
       "      <td>화</td>\n",
       "    </tr>\n",
       "  </tbody>\n",
       "</table>\n",
       "</div>"
      ],
      "text/plain": [
       "        날짜_일반               날짜_시간     날짜_특수 범주\n",
       "0  2021/01/01  2021-01-01 1:12:10  21-01-01  금\n",
       "1  2021/01/02  2021-01-02 1:13:45  21-01-02  토\n",
       "2  2021/01/03  2021-01-03 2:50:10  21-01-03  일\n",
       "3  2021/01/04  2021-01-04 3:12:30  21-01-04  월\n",
       "4  2021/01/05  2021-01-05 5:40:20  21-01-05  화"
      ]
     },
     "execution_count": 37,
     "metadata": {},
     "output_type": "execute_result"
    }
   ],
   "source": [
    "import pandas as pd\n",
    "import numpy as np\n",
    "temp = pd.DataFrame({'날짜_일반': ['2021/01/01', '2021/01/02', '2021/01/03', '2021/01/04', '2021/01/05'],\n",
    "                     '날짜_시간': ['2021-01-01 1:12:10', '2021-01-02 1:13:45', '2021-01-03 2:50:10', '2021-01-04 3:12:30', '2021-01-05 5:40:20'],\n",
    "                     '날짜_특수': ['21-01-01', '21-01-02', '21-01-03', '21-01-04', '21-01-05'],\n",
    "                     '범주': ['금', '토', '일', '월', '화']})\n",
    "temp"
   ]
  },
  {
   "cell_type": "code",
   "execution_count": 38,
   "id": "c8ffdc34",
   "metadata": {},
   "outputs": [
    {
     "name": "stdout",
     "output_type": "stream",
     "text": [
      "<class 'pandas.core.frame.DataFrame'>\n",
      "RangeIndex: 5 entries, 0 to 4\n",
      "Data columns (total 4 columns):\n",
      " #   Column  Non-Null Count  Dtype \n",
      "---  ------  --------------  ----- \n",
      " 0   날짜_일반   5 non-null      object\n",
      " 1   날짜_시간   5 non-null      object\n",
      " 2   날짜_특수   5 non-null      object\n",
      " 3   범주      5 non-null      object\n",
      "dtypes: object(4)\n",
      "memory usage: 288.0+ bytes\n"
     ]
    }
   ],
   "source": [
    "#object 타입으로 나옴\n",
    "temp.info()"
   ]
  },
  {
   "cell_type": "code",
   "execution_count": 39,
   "id": "c3d2d06d",
   "metadata": {},
   "outputs": [
    {
     "data": {
      "text/plain": [
       "0   2021-01-01\n",
       "1   2021-01-02\n",
       "2   2021-01-03\n",
       "3   2021-01-04\n",
       "4   2021-01-05\n",
       "Name: 날짜_일반, dtype: datetime64[ns]"
      ]
     },
     "execution_count": 39,
     "metadata": {},
     "output_type": "execute_result"
    }
   ],
   "source": [
    "s1 = temp['날짜_일반'].astype(np.datetime64)\n",
    "s1"
   ]
  },
  {
   "cell_type": "code",
   "execution_count": 40,
   "id": "3cb2a5f7",
   "metadata": {},
   "outputs": [
    {
     "data": {
      "text/plain": [
       "0   2021-01-01 01:12:10\n",
       "1   2021-01-02 01:13:45\n",
       "2   2021-01-03 02:50:10\n",
       "3   2021-01-04 03:12:30\n",
       "4   2021-01-05 05:40:20\n",
       "Name: 날짜_시간, dtype: datetime64[ns]"
      ]
     },
     "execution_count": 40,
     "metadata": {},
     "output_type": "execute_result"
    }
   ],
   "source": [
    "s2 = temp['날짜_시간'].astype(np.datetime64)\n",
    "s2"
   ]
  },
  {
   "cell_type": "code",
   "execution_count": 41,
   "id": "e2d5a6cd",
   "metadata": {},
   "outputs": [
    {
     "data": {
      "text/plain": [
       "0   2001-01-21\n",
       "1   2002-01-21\n",
       "2   2003-01-21\n",
       "3   2004-01-21\n",
       "4   2005-01-21\n",
       "Name: 날짜_특수, dtype: datetime64[ns]"
      ]
     },
     "execution_count": 41,
     "metadata": {},
     "output_type": "execute_result"
    }
   ],
   "source": [
    "# 21이 연도인데 日로 보고있음, 1,2,3,4는 年으로 인식하는 에러발생\n",
    "s3 =temp['날짜_특수'].astype(np.datetime64)\n",
    "s3"
   ]
  },
  {
   "cell_type": "code",
   "execution_count": 42,
   "id": "f0a2702b",
   "metadata": {},
   "outputs": [
    {
     "data": {
      "text/plain": [
       "0   2021-01-01\n",
       "1   2021-01-02\n",
       "2   2021-01-03\n",
       "3   2021-01-04\n",
       "4   2021-01-05\n",
       "Name: 날짜_특수, dtype: datetime64[ns]"
      ]
     },
     "execution_count": 42,
     "metadata": {},
     "output_type": "execute_result"
    }
   ],
   "source": [
    "# 아예 format을 알려줌\n",
    "s4 = pd.to_datetime(temp['날짜_특수'],format = '%y-%m-%d')\n",
    "s4"
   ]
  },
  {
   "cell_type": "code",
   "execution_count": 43,
   "id": "5d1ebf2a",
   "metadata": {},
   "outputs": [
    {
     "data": {
      "text/plain": [
       "0    금\n",
       "3    월\n",
       "2    일\n",
       "1    토\n",
       "4    화\n",
       "Name: 범주, dtype: category\n",
       "Categories (5, object): ['금', '월', '일', '토', '화']"
      ]
     },
     "execution_count": 43,
     "metadata": {},
     "output_type": "execute_result"
    }
   ],
   "source": [
    "s5 = temp['범주'].astype('category')\n",
    "s5.sort_values() #가나다 순서로 정렬"
   ]
  },
  {
   "cell_type": "code",
   "execution_count": 44,
   "id": "349c23d4",
   "metadata": {},
   "outputs": [
    {
     "data": {
      "text/plain": [
       "3    월\n",
       "4    화\n",
       "0    금\n",
       "1    토\n",
       "2    일\n",
       "Name: 범주, dtype: category\n",
       "Categories (7, object): ['월' < '화' < '수' < '목' < '금' < '토' < '일']"
      ]
     },
     "execution_count": 44,
     "metadata": {},
     "output_type": "execute_result"
    }
   ],
   "source": [
    "# 월화수목금토일 순서로 정렬\n",
    "s6 = pd.Categorical(temp['범주'],categories=['월','화','수','목','금','토','일'],ordered=True)\n",
    "s6\n",
    "temp['범주'] = s6\n",
    "temp['범주'].sort_values()"
   ]
  },
  {
   "cell_type": "markdown",
   "id": "299ae058",
   "metadata": {},
   "source": [
    "#### 6. YOUTUBE 인기채널 확인하기"
   ]
  },
  {
   "cell_type": "markdown",
   "id": "08d27069",
   "metadata": {},
   "source": [
    "- DataFrame.sort_values(컬럼명, ascending=True)\n",
    "- DataFrame.sort_values([컬럼명1, 컬럼명2, ...], ascending=[...])\n",
    "- 오름차순이 기본이며, ascending=False를 사용하여 내림차순 지정\n",
    "- 1차기준, 2차기준 등 여러 개 기준이 존재하는 경우\n",
    "- 1차기준 정렬 된 후, 1차기준이 같은 것 내부에서 2차기준으로 정렬됨\n",
    "- 정렬방법은 각 기준별로 부여하거나, 1개만 부여할 수 있음"
   ]
  },
  {
   "cell_type": "code",
   "execution_count": 45,
   "id": "8c9ce1a9",
   "metadata": {},
   "outputs": [
    {
     "data": {
      "text/html": [
       "<div>\n",
       "<style scoped>\n",
       "    .dataframe tbody tr th:only-of-type {\n",
       "        vertical-align: middle;\n",
       "    }\n",
       "\n",
       "    .dataframe tbody tr th {\n",
       "        vertical-align: top;\n",
       "    }\n",
       "\n",
       "    .dataframe thead th {\n",
       "        text-align: right;\n",
       "    }\n",
       "</style>\n",
       "<table border=\"1\" class=\"dataframe\">\n",
       "  <thead>\n",
       "    <tr style=\"text-align: right;\">\n",
       "      <th></th>\n",
       "      <th>title</th>\n",
       "      <th>category</th>\n",
       "      <th>subscriber</th>\n",
       "      <th>view</th>\n",
       "      <th>video</th>\n",
       "    </tr>\n",
       "  </thead>\n",
       "  <tbody>\n",
       "    <tr>\n",
       "      <th>0</th>\n",
       "      <td>BLACKPINK</td>\n",
       "      <td>음악/댄스/가수</td>\n",
       "      <td>51400000</td>\n",
       "      <td>12851300000</td>\n",
       "      <td>319</td>\n",
       "    </tr>\n",
       "    <tr>\n",
       "      <th>1</th>\n",
       "      <td>Big Hit Labels</td>\n",
       "      <td>음악/댄스/가수</td>\n",
       "      <td>45500000</td>\n",
       "      <td>12089660000</td>\n",
       "      <td>433</td>\n",
       "    </tr>\n",
       "    <tr>\n",
       "      <th>2</th>\n",
       "      <td>BANGTANTV</td>\n",
       "      <td>음악/댄스/가수</td>\n",
       "      <td>38700000</td>\n",
       "      <td>5475980000</td>\n",
       "      <td>1319</td>\n",
       "    </tr>\n",
       "    <tr>\n",
       "      <th>3</th>\n",
       "      <td>Boram Tube Vlog [보람튜브 브이로그]</td>\n",
       "      <td>키즈/어린이</td>\n",
       "      <td>26500000</td>\n",
       "      <td>11052880000</td>\n",
       "      <td>223</td>\n",
       "    </tr>\n",
       "    <tr>\n",
       "      <th>4</th>\n",
       "      <td>SMTOWN</td>\n",
       "      <td>음악/댄스/가수</td>\n",
       "      <td>24500000</td>\n",
       "      <td>18075320000</td>\n",
       "      <td>3583</td>\n",
       "    </tr>\n",
       "  </tbody>\n",
       "</table>\n",
       "</div>"
      ],
      "text/plain": [
       "                         title  category  subscriber         view  video\n",
       "0                    BLACKPINK  음악/댄스/가수    51400000  12851300000    319\n",
       "1               Big Hit Labels  음악/댄스/가수    45500000  12089660000    433\n",
       "2                    BANGTANTV  음악/댄스/가수    38700000   5475980000   1319\n",
       "3  Boram Tube Vlog [보람튜브 브이로그]    키즈/어린이    26500000  11052880000    223\n",
       "4                       SMTOWN  음악/댄스/가수    24500000  18075320000   3583"
      ]
     },
     "execution_count": 45,
     "metadata": {},
     "output_type": "execute_result"
    }
   ],
   "source": [
    "# subscriber가 가장 많은 5개의 채널은?\n",
    "# 내림차순으로 정리해서 상위 5개 ascending = True :오름차순, False : 내림차순\n",
    "df.sort_values('subscriber',ascending = False ).head(5)"
   ]
  },
  {
   "cell_type": "code",
   "execution_count": 46,
   "id": "fa1b223a",
   "metadata": {},
   "outputs": [
    {
     "data": {
      "text/html": [
       "<div>\n",
       "<style scoped>\n",
       "    .dataframe tbody tr th:only-of-type {\n",
       "        vertical-align: middle;\n",
       "    }\n",
       "\n",
       "    .dataframe tbody tr th {\n",
       "        vertical-align: top;\n",
       "    }\n",
       "\n",
       "    .dataframe thead th {\n",
       "        text-align: right;\n",
       "    }\n",
       "</style>\n",
       "<table border=\"1\" class=\"dataframe\">\n",
       "  <thead>\n",
       "    <tr style=\"text-align: right;\">\n",
       "      <th></th>\n",
       "      <th>title</th>\n",
       "      <th>category</th>\n",
       "      <th>subscriber</th>\n",
       "      <th>view</th>\n",
       "      <th>video</th>\n",
       "    </tr>\n",
       "  </thead>\n",
       "  <tbody>\n",
       "    <tr>\n",
       "      <th>4</th>\n",
       "      <td>SMTOWN</td>\n",
       "      <td>음악/댄스/가수</td>\n",
       "      <td>24500000</td>\n",
       "      <td>18075320000</td>\n",
       "      <td>3583</td>\n",
       "    </tr>\n",
       "    <tr>\n",
       "      <th>6</th>\n",
       "      <td>1theK (원더케이)</td>\n",
       "      <td>음악/댄스/가수</td>\n",
       "      <td>20900000</td>\n",
       "      <td>17860420000</td>\n",
       "      <td>13291</td>\n",
       "    </tr>\n",
       "    <tr>\n",
       "      <th>8</th>\n",
       "      <td>ArianaGrandeVevo</td>\n",
       "      <td>음악/댄스/가수</td>\n",
       "      <td>18200000</td>\n",
       "      <td>14796920000</td>\n",
       "      <td>112</td>\n",
       "    </tr>\n",
       "    <tr>\n",
       "      <th>0</th>\n",
       "      <td>BLACKPINK</td>\n",
       "      <td>음악/댄스/가수</td>\n",
       "      <td>51400000</td>\n",
       "      <td>12851300000</td>\n",
       "      <td>319</td>\n",
       "    </tr>\n",
       "    <tr>\n",
       "      <th>1</th>\n",
       "      <td>Big Hit Labels</td>\n",
       "      <td>음악/댄스/가수</td>\n",
       "      <td>45500000</td>\n",
       "      <td>12089660000</td>\n",
       "      <td>433</td>\n",
       "    </tr>\n",
       "  </tbody>\n",
       "</table>\n",
       "</div>"
      ],
      "text/plain": [
       "              title  category  subscriber         view  video\n",
       "4            SMTOWN  음악/댄스/가수    24500000  18075320000   3583\n",
       "6      1theK (원더케이)  음악/댄스/가수    20900000  17860420000  13291\n",
       "8  ArianaGrandeVevo  음악/댄스/가수    18200000  14796920000    112\n",
       "0         BLACKPINK  음악/댄스/가수    51400000  12851300000    319\n",
       "1    Big Hit Labels  음악/댄스/가수    45500000  12089660000    433"
      ]
     },
     "execution_count": 46,
     "metadata": {},
     "output_type": "execute_result"
    }
   ],
   "source": [
    "# view가 가장 많은 5개의 채널은?\n",
    "df.sort_values('view',ascending = False).head(5)"
   ]
  },
  {
   "cell_type": "code",
   "execution_count": 47,
   "id": "552c5f3e",
   "metadata": {},
   "outputs": [
    {
     "data": {
      "text/html": [
       "<div>\n",
       "<style scoped>\n",
       "    .dataframe tbody tr th:only-of-type {\n",
       "        vertical-align: middle;\n",
       "    }\n",
       "\n",
       "    .dataframe tbody tr th {\n",
       "        vertical-align: top;\n",
       "    }\n",
       "\n",
       "    .dataframe thead th {\n",
       "        text-align: right;\n",
       "    }\n",
       "</style>\n",
       "<table border=\"1\" class=\"dataframe\">\n",
       "  <thead>\n",
       "    <tr style=\"text-align: right;\">\n",
       "      <th></th>\n",
       "      <th>title</th>\n",
       "      <th>category</th>\n",
       "      <th>subscriber</th>\n",
       "      <th>view</th>\n",
       "      <th>video</th>\n",
       "    </tr>\n",
       "  </thead>\n",
       "  <tbody>\n",
       "    <tr>\n",
       "      <th>169</th>\n",
       "      <td>YTN news</td>\n",
       "      <td>뉴스/정치/사회</td>\n",
       "      <td>1970000</td>\n",
       "      <td>3801710000</td>\n",
       "      <td>492791</td>\n",
       "    </tr>\n",
       "    <tr>\n",
       "      <th>60</th>\n",
       "      <td>SBS Drama</td>\n",
       "      <td>TV/방송</td>\n",
       "      <td>4360000</td>\n",
       "      <td>4260860000</td>\n",
       "      <td>339029</td>\n",
       "    </tr>\n",
       "    <tr>\n",
       "      <th>737</th>\n",
       "      <td>연합뉴스TV</td>\n",
       "      <td>뉴스/정치/사회</td>\n",
       "      <td>550000</td>\n",
       "      <td>697650000</td>\n",
       "      <td>311370</td>\n",
       "    </tr>\n",
       "    <tr>\n",
       "      <th>57</th>\n",
       "      <td>SBS Entertainment</td>\n",
       "      <td>TV/방송</td>\n",
       "      <td>4490000</td>\n",
       "      <td>4516190000</td>\n",
       "      <td>210810</td>\n",
       "    </tr>\n",
       "    <tr>\n",
       "      <th>17</th>\n",
       "      <td>CNN</td>\n",
       "      <td>뉴스/정치/사회</td>\n",
       "      <td>10900000</td>\n",
       "      <td>7899750000</td>\n",
       "      <td>149530</td>\n",
       "    </tr>\n",
       "  </tbody>\n",
       "</table>\n",
       "</div>"
      ],
      "text/plain": [
       "                 title  category  subscriber        view   video\n",
       "169           YTN news  뉴스/정치/사회     1970000  3801710000  492791\n",
       "60           SBS Drama     TV/방송     4360000  4260860000  339029\n",
       "737             연합뉴스TV  뉴스/정치/사회      550000   697650000  311370\n",
       "57   SBS Entertainment     TV/방송     4490000  4516190000  210810\n",
       "17                 CNN  뉴스/정치/사회    10900000  7899750000  149530"
      ]
     },
     "execution_count": 47,
     "metadata": {},
     "output_type": "execute_result"
    }
   ],
   "source": [
    "# video가 가장 많은 5개의 채널은?\n",
    "df.sort_values('video',ascending = False).head(5)"
   ]
  },
  {
   "cell_type": "code",
   "execution_count": 48,
   "id": "f7756905",
   "metadata": {},
   "outputs": [
    {
     "data": {
      "text/html": [
       "<div>\n",
       "<style scoped>\n",
       "    .dataframe tbody tr th:only-of-type {\n",
       "        vertical-align: middle;\n",
       "    }\n",
       "\n",
       "    .dataframe tbody tr th {\n",
       "        vertical-align: top;\n",
       "    }\n",
       "\n",
       "    .dataframe thead th {\n",
       "        text-align: right;\n",
       "    }\n",
       "</style>\n",
       "<table border=\"1\" class=\"dataframe\">\n",
       "  <thead>\n",
       "    <tr style=\"text-align: right;\">\n",
       "      <th></th>\n",
       "      <th>title</th>\n",
       "      <th>category</th>\n",
       "      <th>subscriber</th>\n",
       "      <th>view</th>\n",
       "      <th>video</th>\n",
       "    </tr>\n",
       "  </thead>\n",
       "  <tbody>\n",
       "    <tr>\n",
       "      <th>52</th>\n",
       "      <td>[Awesome Haeun]어썸하은</td>\n",
       "      <td>BJ/인물/연예인</td>\n",
       "      <td>4840000</td>\n",
       "      <td>703070000</td>\n",
       "      <td>419</td>\n",
       "    </tr>\n",
       "    <tr>\n",
       "      <th>75</th>\n",
       "      <td>영국남자 Korean Englishman</td>\n",
       "      <td>BJ/인물/연예인</td>\n",
       "      <td>3940000</td>\n",
       "      <td>1160110000</td>\n",
       "      <td>411</td>\n",
       "    </tr>\n",
       "    <tr>\n",
       "      <th>79</th>\n",
       "      <td>워크맨-Workman</td>\n",
       "      <td>BJ/인물/연예인</td>\n",
       "      <td>3810000</td>\n",
       "      <td>469330000</td>\n",
       "      <td>76</td>\n",
       "    </tr>\n",
       "    <tr>\n",
       "      <th>82</th>\n",
       "      <td>waveya 2011</td>\n",
       "      <td>BJ/인물/연예인</td>\n",
       "      <td>3720000</td>\n",
       "      <td>1299280000</td>\n",
       "      <td>647</td>\n",
       "    </tr>\n",
       "    <tr>\n",
       "      <th>84</th>\n",
       "      <td>허팝Heopop</td>\n",
       "      <td>BJ/인물/연예인</td>\n",
       "      <td>3710000</td>\n",
       "      <td>2748310000</td>\n",
       "      <td>1685</td>\n",
       "    </tr>\n",
       "    <tr>\n",
       "      <th>...</th>\n",
       "      <td>...</td>\n",
       "      <td>...</td>\n",
       "      <td>...</td>\n",
       "      <td>...</td>\n",
       "      <td>...</td>\n",
       "    </tr>\n",
       "    <tr>\n",
       "      <th>671</th>\n",
       "      <td>AshleyMariee</td>\n",
       "      <td>해외</td>\n",
       "      <td>590000</td>\n",
       "      <td>55950000</td>\n",
       "      <td>2033</td>\n",
       "    </tr>\n",
       "    <tr>\n",
       "      <th>53</th>\n",
       "      <td>Samsung</td>\n",
       "      <td>회사/오피셜</td>\n",
       "      <td>4780000</td>\n",
       "      <td>585350000</td>\n",
       "      <td>1135</td>\n",
       "    </tr>\n",
       "    <tr>\n",
       "      <th>108</th>\n",
       "      <td>Billboard</td>\n",
       "      <td>회사/오피셜</td>\n",
       "      <td>2900000</td>\n",
       "      <td>1010800000</td>\n",
       "      <td>6100</td>\n",
       "    </tr>\n",
       "    <tr>\n",
       "      <th>709</th>\n",
       "      <td>미스&amp;미스터트롯 공식계정</td>\n",
       "      <td>회사/오피셜</td>\n",
       "      <td>570000</td>\n",
       "      <td>202340000</td>\n",
       "      <td>659</td>\n",
       "    </tr>\n",
       "    <tr>\n",
       "      <th>722</th>\n",
       "      <td>KB국민카드</td>\n",
       "      <td>회사/오피셜</td>\n",
       "      <td>560000</td>\n",
       "      <td>187960000</td>\n",
       "      <td>443</td>\n",
       "    </tr>\n",
       "  </tbody>\n",
       "</table>\n",
       "<p>1000 rows × 5 columns</p>\n",
       "</div>"
      ],
      "text/plain": [
       "                      title   category  subscriber        view  video\n",
       "52      [Awesome Haeun]어썸하은  BJ/인물/연예인     4840000   703070000    419\n",
       "75   영국남자 Korean Englishman  BJ/인물/연예인     3940000  1160110000    411\n",
       "79              워크맨-Workman  BJ/인물/연예인     3810000   469330000     76\n",
       "82              waveya 2011  BJ/인물/연예인     3720000  1299280000    647\n",
       "84                 허팝Heopop  BJ/인물/연예인     3710000  2748310000   1685\n",
       "..                      ...        ...         ...         ...    ...\n",
       "671            AshleyMariee         해외      590000    55950000   2033\n",
       "53                  Samsung     회사/오피셜     4780000   585350000   1135\n",
       "108               Billboard     회사/오피셜     2900000  1010800000   6100\n",
       "709           미스&미스터트롯 공식계정     회사/오피셜      570000   202340000    659\n",
       "722                  KB국민카드     회사/오피셜      560000   187960000    443\n",
       "\n",
       "[1000 rows x 5 columns]"
      ]
     },
     "execution_count": 48,
     "metadata": {},
     "output_type": "execute_result"
    }
   ],
   "source": [
    "# category로 오름차순, subscriber로 내림차순\n",
    "df.sort_values(['category','subscriber'],ascending=[True,False])"
   ]
  },
  {
   "cell_type": "markdown",
   "id": "05c22256",
   "metadata": {},
   "source": [
    "Boolean indexing 사용하여 조건에 맞는 데이터 가져오기\n",
    "- (※Boolean 참/거짓) 내가 넣은 조건이 True인지 False로 나옴\n",
    "- DataFrame.loc[조건, :]\n",
    "- DataFrame[조건]\n",
    "- 조건은 boolean dtype이어야 하며 행의 수와 같아야 함\n",
    "- 복잡한 조건 작성\n",
    "- (조건1) | (조건2) : 조건1 또는 조건2를 만족하는 데이터\n",
    "- (조건1) & (조건2) : 조건1, 조건2 모두 만족하는 데이터\n",
    "- ~(조건) : 조건이 거짓인 데이터"
   ]
  },
  {
   "cell_type": "code",
   "execution_count": 49,
   "id": "8ea5a3f3",
   "metadata": {},
   "outputs": [
    {
     "data": {
      "text/html": [
       "<div>\n",
       "<style scoped>\n",
       "    .dataframe tbody tr th:only-of-type {\n",
       "        vertical-align: middle;\n",
       "    }\n",
       "\n",
       "    .dataframe tbody tr th {\n",
       "        vertical-align: top;\n",
       "    }\n",
       "\n",
       "    .dataframe thead th {\n",
       "        text-align: right;\n",
       "    }\n",
       "</style>\n",
       "<table border=\"1\" class=\"dataframe\">\n",
       "  <thead>\n",
       "    <tr style=\"text-align: right;\">\n",
       "      <th></th>\n",
       "      <th>A</th>\n",
       "      <th>B</th>\n",
       "      <th>C</th>\n",
       "    </tr>\n",
       "  </thead>\n",
       "  <tbody>\n",
       "    <tr>\n",
       "      <th>0</th>\n",
       "      <td>1</td>\n",
       "      <td>6</td>\n",
       "      <td>3</td>\n",
       "    </tr>\n",
       "    <tr>\n",
       "      <th>1</th>\n",
       "      <td>2</td>\n",
       "      <td>5</td>\n",
       "      <td>4</td>\n",
       "    </tr>\n",
       "    <tr>\n",
       "      <th>2</th>\n",
       "      <td>3</td>\n",
       "      <td>4</td>\n",
       "      <td>5</td>\n",
       "    </tr>\n",
       "    <tr>\n",
       "      <th>3</th>\n",
       "      <td>4</td>\n",
       "      <td>3</td>\n",
       "      <td>2</td>\n",
       "    </tr>\n",
       "  </tbody>\n",
       "</table>\n",
       "</div>"
      ],
      "text/plain": [
       "   A  B  C\n",
       "0  1  6  3\n",
       "1  2  5  4\n",
       "2  3  4  5\n",
       "3  4  3  2"
      ]
     },
     "execution_count": 49,
     "metadata": {},
     "output_type": "execute_result"
    }
   ],
   "source": [
    "temp = pd.DataFrame({'A': [1, 2, 3, 4],\n",
    "                     'B': [6, 5, 4, 3],\n",
    "                     'C': [3, 4, 5, 2]})\n",
    "temp"
   ]
  },
  {
   "cell_type": "code",
   "execution_count": 50,
   "id": "ea2dd6fd",
   "metadata": {},
   "outputs": [
    {
     "data": {
      "text/html": [
       "<div>\n",
       "<style scoped>\n",
       "    .dataframe tbody tr th:only-of-type {\n",
       "        vertical-align: middle;\n",
       "    }\n",
       "\n",
       "    .dataframe tbody tr th {\n",
       "        vertical-align: top;\n",
       "    }\n",
       "\n",
       "    .dataframe thead th {\n",
       "        text-align: right;\n",
       "    }\n",
       "</style>\n",
       "<table border=\"1\" class=\"dataframe\">\n",
       "  <thead>\n",
       "    <tr style=\"text-align: right;\">\n",
       "      <th></th>\n",
       "      <th>A</th>\n",
       "      <th>B</th>\n",
       "      <th>C</th>\n",
       "    </tr>\n",
       "  </thead>\n",
       "  <tbody>\n",
       "    <tr>\n",
       "      <th>0</th>\n",
       "      <td>1</td>\n",
       "      <td>6</td>\n",
       "      <td>3</td>\n",
       "    </tr>\n",
       "    <tr>\n",
       "      <th>1</th>\n",
       "      <td>2</td>\n",
       "      <td>5</td>\n",
       "      <td>4</td>\n",
       "    </tr>\n",
       "    <tr>\n",
       "      <th>3</th>\n",
       "      <td>4</td>\n",
       "      <td>3</td>\n",
       "      <td>2</td>\n",
       "    </tr>\n",
       "  </tbody>\n",
       "</table>\n",
       "</div>"
      ],
      "text/plain": [
       "   A  B  C\n",
       "0  1  6  3\n",
       "1  2  5  4\n",
       "3  4  3  2"
      ]
     },
     "execution_count": 50,
     "metadata": {},
     "output_type": "execute_result"
    }
   ],
   "source": [
    "temp[[True,True,False,True]]"
   ]
  },
  {
   "cell_type": "code",
   "execution_count": 51,
   "id": "376f581b",
   "metadata": {},
   "outputs": [
    {
     "data": {
      "text/html": [
       "<div>\n",
       "<style scoped>\n",
       "    .dataframe tbody tr th:only-of-type {\n",
       "        vertical-align: middle;\n",
       "    }\n",
       "\n",
       "    .dataframe tbody tr th {\n",
       "        vertical-align: top;\n",
       "    }\n",
       "\n",
       "    .dataframe thead th {\n",
       "        text-align: right;\n",
       "    }\n",
       "</style>\n",
       "<table border=\"1\" class=\"dataframe\">\n",
       "  <thead>\n",
       "    <tr style=\"text-align: right;\">\n",
       "      <th></th>\n",
       "      <th>A</th>\n",
       "      <th>C</th>\n",
       "    </tr>\n",
       "  </thead>\n",
       "  <tbody>\n",
       "    <tr>\n",
       "      <th>1</th>\n",
       "      <td>2</td>\n",
       "      <td>4</td>\n",
       "    </tr>\n",
       "    <tr>\n",
       "      <th>3</th>\n",
       "      <td>4</td>\n",
       "      <td>2</td>\n",
       "    </tr>\n",
       "  </tbody>\n",
       "</table>\n",
       "</div>"
      ],
      "text/plain": [
       "   A  C\n",
       "1  2  4\n",
       "3  4  2"
      ]
     },
     "execution_count": 51,
     "metadata": {},
     "output_type": "execute_result"
    }
   ],
   "source": [
    "# loc, 행과 열 자유롭게 가져오기\n",
    "temp.loc[[False,True,False,True],['A','C']]"
   ]
  },
  {
   "cell_type": "code",
   "execution_count": 52,
   "id": "6d3df8e6",
   "metadata": {},
   "outputs": [
    {
     "data": {
      "text/html": [
       "<div>\n",
       "<style scoped>\n",
       "    .dataframe tbody tr th:only-of-type {\n",
       "        vertical-align: middle;\n",
       "    }\n",
       "\n",
       "    .dataframe tbody tr th {\n",
       "        vertical-align: top;\n",
       "    }\n",
       "\n",
       "    .dataframe thead th {\n",
       "        text-align: right;\n",
       "    }\n",
       "</style>\n",
       "<table border=\"1\" class=\"dataframe\">\n",
       "  <thead>\n",
       "    <tr style=\"text-align: right;\">\n",
       "      <th></th>\n",
       "      <th>title</th>\n",
       "      <th>category</th>\n",
       "      <th>subscriber</th>\n",
       "      <th>view</th>\n",
       "      <th>video</th>\n",
       "    </tr>\n",
       "  </thead>\n",
       "  <tbody>\n",
       "    <tr>\n",
       "      <th>0</th>\n",
       "      <td>BLACKPINK</td>\n",
       "      <td>음악/댄스/가수</td>\n",
       "      <td>51400000</td>\n",
       "      <td>12851300000</td>\n",
       "      <td>319</td>\n",
       "    </tr>\n",
       "    <tr>\n",
       "      <th>1</th>\n",
       "      <td>Big Hit Labels</td>\n",
       "      <td>음악/댄스/가수</td>\n",
       "      <td>45500000</td>\n",
       "      <td>12089660000</td>\n",
       "      <td>433</td>\n",
       "    </tr>\n",
       "    <tr>\n",
       "      <th>2</th>\n",
       "      <td>BANGTANTV</td>\n",
       "      <td>음악/댄스/가수</td>\n",
       "      <td>38700000</td>\n",
       "      <td>5475980000</td>\n",
       "      <td>1319</td>\n",
       "    </tr>\n",
       "    <tr>\n",
       "      <th>4</th>\n",
       "      <td>SMTOWN</td>\n",
       "      <td>음악/댄스/가수</td>\n",
       "      <td>24500000</td>\n",
       "      <td>18075320000</td>\n",
       "      <td>3583</td>\n",
       "    </tr>\n",
       "    <tr>\n",
       "      <th>5</th>\n",
       "      <td>1MILLION Dance Studio</td>\n",
       "      <td>음악/댄스/가수</td>\n",
       "      <td>22300000</td>\n",
       "      <td>5753580000</td>\n",
       "      <td>2205</td>\n",
       "    </tr>\n",
       "  </tbody>\n",
       "</table>\n",
       "</div>"
      ],
      "text/plain": [
       "                   title  category  subscriber         view  video\n",
       "0              BLACKPINK  음악/댄스/가수    51400000  12851300000    319\n",
       "1         Big Hit Labels  음악/댄스/가수    45500000  12089660000    433\n",
       "2              BANGTANTV  음악/댄스/가수    38700000   5475980000   1319\n",
       "4                 SMTOWN  음악/댄스/가수    24500000  18075320000   3583\n",
       "5  1MILLION Dance Studio  음악/댄스/가수    22300000   5753580000   2205"
      ]
     },
     "execution_count": 52,
     "metadata": {},
     "output_type": "execute_result"
    }
   ],
   "source": [
    "# Category가 음악/댄스/가수 인 채널의 subscriber TOP5는?\n",
    "df[df['category'] =='음악/댄스/가수'].sort_values('subscriber',ascending = False).head()"
   ]
  },
  {
   "cell_type": "code",
   "execution_count": 54,
   "id": "76059c9c",
   "metadata": {},
   "outputs": [
    {
     "data": {
      "text/html": [
       "<div>\n",
       "<style scoped>\n",
       "    .dataframe tbody tr th:only-of-type {\n",
       "        vertical-align: middle;\n",
       "    }\n",
       "\n",
       "    .dataframe tbody tr th {\n",
       "        vertical-align: top;\n",
       "    }\n",
       "\n",
       "    .dataframe thead th {\n",
       "        text-align: right;\n",
       "    }\n",
       "</style>\n",
       "<table border=\"1\" class=\"dataframe\">\n",
       "  <thead>\n",
       "    <tr style=\"text-align: right;\">\n",
       "      <th></th>\n",
       "      <th>title</th>\n",
       "      <th>category</th>\n",
       "      <th>subscriber</th>\n",
       "      <th>view</th>\n",
       "      <th>video</th>\n",
       "    </tr>\n",
       "  </thead>\n",
       "  <tbody>\n",
       "    <tr>\n",
       "      <th>12</th>\n",
       "      <td>KBS World</td>\n",
       "      <td>TV/방송</td>\n",
       "      <td>14300000</td>\n",
       "      <td>10158060000</td>\n",
       "      <td>46830</td>\n",
       "    </tr>\n",
       "    <tr>\n",
       "      <th>22</th>\n",
       "      <td>MBCkpop</td>\n",
       "      <td>TV/방송</td>\n",
       "      <td>8670000</td>\n",
       "      <td>6339380000</td>\n",
       "      <td>38695</td>\n",
       "    </tr>\n",
       "    <tr>\n",
       "      <th>36</th>\n",
       "      <td>M2</td>\n",
       "      <td>TV/방송</td>\n",
       "      <td>6300000</td>\n",
       "      <td>4161860000</td>\n",
       "      <td>12135</td>\n",
       "    </tr>\n",
       "    <tr>\n",
       "      <th>46</th>\n",
       "      <td>KBS Kpop</td>\n",
       "      <td>TV/방송</td>\n",
       "      <td>5260000</td>\n",
       "      <td>3411260000</td>\n",
       "      <td>24389</td>\n",
       "    </tr>\n",
       "    <tr>\n",
       "      <th>54</th>\n",
       "      <td>스브스케이팝 / SBS KPOP</td>\n",
       "      <td>TV/방송</td>\n",
       "      <td>4590000</td>\n",
       "      <td>2637190000</td>\n",
       "      <td>20846</td>\n",
       "    </tr>\n",
       "    <tr>\n",
       "      <th>...</th>\n",
       "      <td>...</td>\n",
       "      <td>...</td>\n",
       "      <td>...</td>\n",
       "      <td>...</td>\n",
       "      <td>...</td>\n",
       "    </tr>\n",
       "    <tr>\n",
       "      <th>977</th>\n",
       "      <td>핫소스</td>\n",
       "      <td>TV/방송</td>\n",
       "      <td>410000</td>\n",
       "      <td>134640000</td>\n",
       "      <td>308</td>\n",
       "    </tr>\n",
       "    <tr>\n",
       "      <th>981</th>\n",
       "      <td>디바걸스</td>\n",
       "      <td>TV/방송</td>\n",
       "      <td>410000</td>\n",
       "      <td>156230000</td>\n",
       "      <td>232</td>\n",
       "    </tr>\n",
       "    <tr>\n",
       "      <th>985</th>\n",
       "      <td>최혜성</td>\n",
       "      <td>TV/방송</td>\n",
       "      <td>400000</td>\n",
       "      <td>94190000</td>\n",
       "      <td>281</td>\n",
       "    </tr>\n",
       "    <tr>\n",
       "      <th>997</th>\n",
       "      <td>OCN</td>\n",
       "      <td>TV/방송</td>\n",
       "      <td>400000</td>\n",
       "      <td>345830000</td>\n",
       "      <td>10071</td>\n",
       "    </tr>\n",
       "    <tr>\n",
       "      <th>999</th>\n",
       "      <td>덕출 : DCTVGO</td>\n",
       "      <td>TV/방송</td>\n",
       "      <td>400000</td>\n",
       "      <td>82490000</td>\n",
       "      <td>202</td>\n",
       "    </tr>\n",
       "  </tbody>\n",
       "</table>\n",
       "<p>161 rows × 5 columns</p>\n",
       "</div>"
      ],
      "text/plain": [
       "                 title category  subscriber         view  video\n",
       "12           KBS World    TV/방송    14300000  10158060000  46830\n",
       "22             MBCkpop    TV/방송     8670000   6339380000  38695\n",
       "36                  M2    TV/방송     6300000   4161860000  12135\n",
       "46            KBS Kpop    TV/방송     5260000   3411260000  24389\n",
       "54   스브스케이팝 / SBS KPOP    TV/방송     4590000   2637190000  20846\n",
       "..                 ...      ...         ...          ...    ...\n",
       "977                핫소스    TV/방송      410000    134640000    308\n",
       "981               디바걸스    TV/방송      410000    156230000    232\n",
       "985                최혜성    TV/방송      400000     94190000    281\n",
       "997                OCN    TV/방송      400000    345830000  10071\n",
       "999        덕출 : DCTVGO    TV/방송      400000     82490000    202\n",
       "\n",
       "[161 rows x 5 columns]"
      ]
     },
     "execution_count": 54,
     "metadata": {},
     "output_type": "execute_result"
    }
   ],
   "source": [
    "# Category가 TV/방송인 채널의 subscriber TOP5는?\n",
    "df.loc[df['category'] == 'TV/방송',:] "
   ]
  },
  {
   "cell_type": "code",
   "execution_count": 56,
   "id": "a800b77f",
   "metadata": {},
   "outputs": [
    {
     "data": {
      "text/html": [
       "<div>\n",
       "<style scoped>\n",
       "    .dataframe tbody tr th:only-of-type {\n",
       "        vertical-align: middle;\n",
       "    }\n",
       "\n",
       "    .dataframe tbody tr th {\n",
       "        vertical-align: top;\n",
       "    }\n",
       "\n",
       "    .dataframe thead th {\n",
       "        text-align: right;\n",
       "    }\n",
       "</style>\n",
       "<table border=\"1\" class=\"dataframe\">\n",
       "  <thead>\n",
       "    <tr style=\"text-align: right;\">\n",
       "      <th></th>\n",
       "      <th>title</th>\n",
       "      <th>category</th>\n",
       "      <th>subscriber</th>\n",
       "      <th>view</th>\n",
       "      <th>video</th>\n",
       "    </tr>\n",
       "  </thead>\n",
       "  <tbody>\n",
       "    <tr>\n",
       "      <th>12</th>\n",
       "      <td>KBS World</td>\n",
       "      <td>TV/방송</td>\n",
       "      <td>14300000</td>\n",
       "      <td>10158060000</td>\n",
       "      <td>46830</td>\n",
       "    </tr>\n",
       "    <tr>\n",
       "      <th>22</th>\n",
       "      <td>MBCkpop</td>\n",
       "      <td>TV/방송</td>\n",
       "      <td>8670000</td>\n",
       "      <td>6339380000</td>\n",
       "      <td>38695</td>\n",
       "    </tr>\n",
       "    <tr>\n",
       "      <th>76</th>\n",
       "      <td>KBS Entertain</td>\n",
       "      <td>TV/방송</td>\n",
       "      <td>3930000</td>\n",
       "      <td>5340910000</td>\n",
       "      <td>91783</td>\n",
       "    </tr>\n",
       "    <tr>\n",
       "      <th>57</th>\n",
       "      <td>SBS Entertainment</td>\n",
       "      <td>TV/방송</td>\n",
       "      <td>4490000</td>\n",
       "      <td>4516190000</td>\n",
       "      <td>210810</td>\n",
       "    </tr>\n",
       "    <tr>\n",
       "      <th>77</th>\n",
       "      <td>MBCdrama</td>\n",
       "      <td>TV/방송</td>\n",
       "      <td>3920000</td>\n",
       "      <td>4350540000</td>\n",
       "      <td>51543</td>\n",
       "    </tr>\n",
       "  </tbody>\n",
       "</table>\n",
       "</div>"
      ],
      "text/plain": [
       "                title category  subscriber         view   video\n",
       "12          KBS World    TV/방송    14300000  10158060000   46830\n",
       "22            MBCkpop    TV/방송     8670000   6339380000   38695\n",
       "76      KBS Entertain    TV/방송     3930000   5340910000   91783\n",
       "57  SBS Entertainment    TV/방송     4490000   4516190000  210810\n",
       "77           MBCdrama    TV/방송     3920000   4350540000   51543"
      ]
     },
     "execution_count": 56,
     "metadata": {},
     "output_type": "execute_result"
    }
   ],
   "source": [
    "df.loc[df['category'] == 'TV/방송',:].sort_values('view',ascending = False).head()"
   ]
  },
  {
   "cell_type": "code",
   "execution_count": 58,
   "id": "95fdb7df",
   "metadata": {},
   "outputs": [
    {
     "data": {
      "text/html": [
       "<div>\n",
       "<style scoped>\n",
       "    .dataframe tbody tr th:only-of-type {\n",
       "        vertical-align: middle;\n",
       "    }\n",
       "\n",
       "    .dataframe tbody tr th {\n",
       "        vertical-align: top;\n",
       "    }\n",
       "\n",
       "    .dataframe thead th {\n",
       "        text-align: right;\n",
       "    }\n",
       "</style>\n",
       "<table border=\"1\" class=\"dataframe\">\n",
       "  <thead>\n",
       "    <tr style=\"text-align: right;\">\n",
       "      <th></th>\n",
       "      <th>title</th>\n",
       "      <th>category</th>\n",
       "      <th>subscriber</th>\n",
       "      <th>view</th>\n",
       "      <th>video</th>\n",
       "    </tr>\n",
       "  </thead>\n",
       "  <tbody>\n",
       "    <tr>\n",
       "      <th>0</th>\n",
       "      <td>BLACKPINK</td>\n",
       "      <td>음악/댄스/가수</td>\n",
       "      <td>51400000</td>\n",
       "      <td>12851300000</td>\n",
       "      <td>319</td>\n",
       "    </tr>\n",
       "    <tr>\n",
       "      <th>1</th>\n",
       "      <td>Big Hit Labels</td>\n",
       "      <td>음악/댄스/가수</td>\n",
       "      <td>45500000</td>\n",
       "      <td>12089660000</td>\n",
       "      <td>433</td>\n",
       "    </tr>\n",
       "    <tr>\n",
       "      <th>2</th>\n",
       "      <td>BANGTANTV</td>\n",
       "      <td>음악/댄스/가수</td>\n",
       "      <td>38700000</td>\n",
       "      <td>5475980000</td>\n",
       "      <td>1319</td>\n",
       "    </tr>\n",
       "  </tbody>\n",
       "</table>\n",
       "</div>"
      ],
      "text/plain": [
       "            title  category  subscriber         view  video\n",
       "0       BLACKPINK  음악/댄스/가수    51400000  12851300000    319\n",
       "1  Big Hit Labels  음악/댄스/가수    45500000  12089660000    433\n",
       "2       BANGTANTV  음악/댄스/가수    38700000   5475980000   1319"
      ]
     },
     "execution_count": 58,
     "metadata": {},
     "output_type": "execute_result"
    }
   ],
   "source": [
    "# subscriber가 3천만 이상인 채널은?\n",
    "df[df['subscriber'] >= 30000000]"
   ]
  },
  {
   "cell_type": "code",
   "execution_count": 62,
   "id": "15efb8fc",
   "metadata": {},
   "outputs": [
    {
     "data": {
      "text/html": [
       "<div>\n",
       "<style scoped>\n",
       "    .dataframe tbody tr th:only-of-type {\n",
       "        vertical-align: middle;\n",
       "    }\n",
       "\n",
       "    .dataframe tbody tr th {\n",
       "        vertical-align: top;\n",
       "    }\n",
       "\n",
       "    .dataframe thead th {\n",
       "        text-align: right;\n",
       "    }\n",
       "</style>\n",
       "<table border=\"1\" class=\"dataframe\">\n",
       "  <thead>\n",
       "    <tr style=\"text-align: right;\">\n",
       "      <th></th>\n",
       "      <th>title</th>\n",
       "      <th>category</th>\n",
       "      <th>subscriber</th>\n",
       "      <th>view</th>\n",
       "      <th>video</th>\n",
       "    </tr>\n",
       "  </thead>\n",
       "  <tbody>\n",
       "    <tr>\n",
       "      <th>409</th>\n",
       "      <td>TBS 시민의방송</td>\n",
       "      <td>뉴스/정치/사회</td>\n",
       "      <td>930000</td>\n",
       "      <td>582330000</td>\n",
       "      <td>30431</td>\n",
       "    </tr>\n",
       "  </tbody>\n",
       "</table>\n",
       "</div>"
      ],
      "text/plain": [
       "         title  category  subscriber       view  video\n",
       "409  TBS 시민의방송  뉴스/정치/사회      930000  582330000  30431"
      ]
     },
     "execution_count": 62,
     "metadata": {},
     "output_type": "execute_result"
    }
   ],
   "source": [
    "# viedo 개수가 30000 이상 35000 이하인 채널은?\n",
    "df[(df['video']>=30000) & (df['video']<=35000)]"
   ]
  },
  {
   "cell_type": "code",
   "execution_count": 65,
   "id": "67958cfe",
   "metadata": {},
   "outputs": [
    {
     "data": {
      "text/html": [
       "<div>\n",
       "<style scoped>\n",
       "    .dataframe tbody tr th:only-of-type {\n",
       "        vertical-align: middle;\n",
       "    }\n",
       "\n",
       "    .dataframe tbody tr th {\n",
       "        vertical-align: top;\n",
       "    }\n",
       "\n",
       "    .dataframe thead th {\n",
       "        text-align: right;\n",
       "    }\n",
       "</style>\n",
       "<table border=\"1\" class=\"dataframe\">\n",
       "  <thead>\n",
       "    <tr style=\"text-align: right;\">\n",
       "      <th></th>\n",
       "      <th>title</th>\n",
       "      <th>category</th>\n",
       "      <th>subscriber</th>\n",
       "      <th>view</th>\n",
       "      <th>video</th>\n",
       "    </tr>\n",
       "  </thead>\n",
       "  <tbody>\n",
       "    <tr>\n",
       "      <th>0</th>\n",
       "      <td>BLACKPINK</td>\n",
       "      <td>음악/댄스/가수</td>\n",
       "      <td>51400000</td>\n",
       "      <td>12851300000</td>\n",
       "      <td>319</td>\n",
       "    </tr>\n",
       "    <tr>\n",
       "      <th>1</th>\n",
       "      <td>Big Hit Labels</td>\n",
       "      <td>음악/댄스/가수</td>\n",
       "      <td>45500000</td>\n",
       "      <td>12089660000</td>\n",
       "      <td>433</td>\n",
       "    </tr>\n",
       "    <tr>\n",
       "      <th>2</th>\n",
       "      <td>BANGTANTV</td>\n",
       "      <td>음악/댄스/가수</td>\n",
       "      <td>38700000</td>\n",
       "      <td>5475980000</td>\n",
       "      <td>1319</td>\n",
       "    </tr>\n",
       "    <tr>\n",
       "      <th>17</th>\n",
       "      <td>CNN</td>\n",
       "      <td>뉴스/정치/사회</td>\n",
       "      <td>10900000</td>\n",
       "      <td>7899750000</td>\n",
       "      <td>149530</td>\n",
       "    </tr>\n",
       "    <tr>\n",
       "      <th>27</th>\n",
       "      <td>MBCentertainment</td>\n",
       "      <td>뉴스/정치/사회</td>\n",
       "      <td>7710000</td>\n",
       "      <td>11683060000</td>\n",
       "      <td>79567</td>\n",
       "    </tr>\n",
       "    <tr>\n",
       "      <th>38</th>\n",
       "      <td>JTBC Entertainment</td>\n",
       "      <td>뉴스/정치/사회</td>\n",
       "      <td>6020000</td>\n",
       "      <td>7638370000</td>\n",
       "      <td>58938</td>\n",
       "    </tr>\n",
       "    <tr>\n",
       "      <th>57</th>\n",
       "      <td>SBS Entertainment</td>\n",
       "      <td>TV/방송</td>\n",
       "      <td>4490000</td>\n",
       "      <td>4516190000</td>\n",
       "      <td>210810</td>\n",
       "    </tr>\n",
       "    <tr>\n",
       "      <th>60</th>\n",
       "      <td>SBS Drama</td>\n",
       "      <td>TV/방송</td>\n",
       "      <td>4360000</td>\n",
       "      <td>4260860000</td>\n",
       "      <td>339029</td>\n",
       "    </tr>\n",
       "    <tr>\n",
       "      <th>76</th>\n",
       "      <td>KBS Entertain</td>\n",
       "      <td>TV/방송</td>\n",
       "      <td>3930000</td>\n",
       "      <td>5340910000</td>\n",
       "      <td>91783</td>\n",
       "    </tr>\n",
       "    <tr>\n",
       "      <th>77</th>\n",
       "      <td>MBCdrama</td>\n",
       "      <td>TV/방송</td>\n",
       "      <td>3920000</td>\n",
       "      <td>4350540000</td>\n",
       "      <td>51543</td>\n",
       "    </tr>\n",
       "    <tr>\n",
       "      <th>101</th>\n",
       "      <td>KBS Drama</td>\n",
       "      <td>TV/방송</td>\n",
       "      <td>3040000</td>\n",
       "      <td>3538510000</td>\n",
       "      <td>105922</td>\n",
       "    </tr>\n",
       "    <tr>\n",
       "      <th>119</th>\n",
       "      <td>tvN</td>\n",
       "      <td>TV/방송</td>\n",
       "      <td>2680000</td>\n",
       "      <td>3307570000</td>\n",
       "      <td>52141</td>\n",
       "    </tr>\n",
       "    <tr>\n",
       "      <th>168</th>\n",
       "      <td>TV CHOSUN</td>\n",
       "      <td>뉴스/정치/사회</td>\n",
       "      <td>1990000</td>\n",
       "      <td>3255290000</td>\n",
       "      <td>53632</td>\n",
       "    </tr>\n",
       "    <tr>\n",
       "      <th>169</th>\n",
       "      <td>YTN news</td>\n",
       "      <td>뉴스/정치/사회</td>\n",
       "      <td>1970000</td>\n",
       "      <td>3801710000</td>\n",
       "      <td>492791</td>\n",
       "    </tr>\n",
       "    <tr>\n",
       "      <th>176</th>\n",
       "      <td>런닝맨 - 스브스 공식 채널</td>\n",
       "      <td>TV/방송</td>\n",
       "      <td>1880000</td>\n",
       "      <td>2116410000</td>\n",
       "      <td>52730</td>\n",
       "    </tr>\n",
       "    <tr>\n",
       "      <th>248</th>\n",
       "      <td>JTBC News</td>\n",
       "      <td>뉴스/정치/사회</td>\n",
       "      <td>1400000</td>\n",
       "      <td>1573740000</td>\n",
       "      <td>91379</td>\n",
       "    </tr>\n",
       "    <tr>\n",
       "      <th>366</th>\n",
       "      <td>SBS 뉴스</td>\n",
       "      <td>뉴스/정치/사회</td>\n",
       "      <td>1010000</td>\n",
       "      <td>1458080000</td>\n",
       "      <td>87768</td>\n",
       "    </tr>\n",
       "    <tr>\n",
       "      <th>373</th>\n",
       "      <td>SBS STORY</td>\n",
       "      <td>뉴스/정치/사회</td>\n",
       "      <td>990000</td>\n",
       "      <td>1254640000</td>\n",
       "      <td>75985</td>\n",
       "    </tr>\n",
       "    <tr>\n",
       "      <th>389</th>\n",
       "      <td>KBS News</td>\n",
       "      <td>뉴스/정치/사회</td>\n",
       "      <td>960000</td>\n",
       "      <td>1017410000</td>\n",
       "      <td>145515</td>\n",
       "    </tr>\n",
       "    <tr>\n",
       "      <th>402</th>\n",
       "      <td>채널A 뉴스</td>\n",
       "      <td>뉴스/정치/사회</td>\n",
       "      <td>940000</td>\n",
       "      <td>1039130000</td>\n",
       "      <td>52662</td>\n",
       "    </tr>\n",
       "    <tr>\n",
       "      <th>431</th>\n",
       "      <td>MBCNEWS</td>\n",
       "      <td>뉴스/정치/사회</td>\n",
       "      <td>890000</td>\n",
       "      <td>1388710000</td>\n",
       "      <td>87228</td>\n",
       "    </tr>\n",
       "    <tr>\n",
       "      <th>502</th>\n",
       "      <td>뉴스TVCHOSUN</td>\n",
       "      <td>뉴스/정치/사회</td>\n",
       "      <td>770000</td>\n",
       "      <td>623510000</td>\n",
       "      <td>57729</td>\n",
       "    </tr>\n",
       "    <tr>\n",
       "      <th>701</th>\n",
       "      <td>MBN News</td>\n",
       "      <td>뉴스/정치/사회</td>\n",
       "      <td>570000</td>\n",
       "      <td>623580000</td>\n",
       "      <td>72397</td>\n",
       "    </tr>\n",
       "    <tr>\n",
       "      <th>737</th>\n",
       "      <td>연합뉴스TV</td>\n",
       "      <td>뉴스/정치/사회</td>\n",
       "      <td>550000</td>\n",
       "      <td>697650000</td>\n",
       "      <td>311370</td>\n",
       "    </tr>\n",
       "    <tr>\n",
       "      <th>988</th>\n",
       "      <td>ARIRANG NEWS</td>\n",
       "      <td>뉴스/정치/사회</td>\n",
       "      <td>400000</td>\n",
       "      <td>190750000</td>\n",
       "      <td>114494</td>\n",
       "    </tr>\n",
       "    <tr>\n",
       "      <th>992</th>\n",
       "      <td>KBS 교양</td>\n",
       "      <td>뉴스/정치/사회</td>\n",
       "      <td>400000</td>\n",
       "      <td>297960000</td>\n",
       "      <td>64694</td>\n",
       "    </tr>\n",
       "  </tbody>\n",
       "</table>\n",
       "</div>"
      ],
      "text/plain": [
       "                  title  category  subscriber         view   video\n",
       "0             BLACKPINK  음악/댄스/가수    51400000  12851300000     319\n",
       "1        Big Hit Labels  음악/댄스/가수    45500000  12089660000     433\n",
       "2             BANGTANTV  음악/댄스/가수    38700000   5475980000    1319\n",
       "17                  CNN  뉴스/정치/사회    10900000   7899750000  149530\n",
       "27     MBCentertainment  뉴스/정치/사회     7710000  11683060000   79567\n",
       "38   JTBC Entertainment  뉴스/정치/사회     6020000   7638370000   58938\n",
       "57    SBS Entertainment     TV/방송     4490000   4516190000  210810\n",
       "60            SBS Drama     TV/방송     4360000   4260860000  339029\n",
       "76        KBS Entertain     TV/방송     3930000   5340910000   91783\n",
       "77             MBCdrama     TV/방송     3920000   4350540000   51543\n",
       "101           KBS Drama     TV/방송     3040000   3538510000  105922\n",
       "119                 tvN     TV/방송     2680000   3307570000   52141\n",
       "168           TV CHOSUN  뉴스/정치/사회     1990000   3255290000   53632\n",
       "169            YTN news  뉴스/정치/사회     1970000   3801710000  492791\n",
       "176     런닝맨 - 스브스 공식 채널     TV/방송     1880000   2116410000   52730\n",
       "248           JTBC News  뉴스/정치/사회     1400000   1573740000   91379\n",
       "366              SBS 뉴스  뉴스/정치/사회     1010000   1458080000   87768\n",
       "373           SBS STORY  뉴스/정치/사회      990000   1254640000   75985\n",
       "389            KBS News  뉴스/정치/사회      960000   1017410000  145515\n",
       "402              채널A 뉴스  뉴스/정치/사회      940000   1039130000   52662\n",
       "431             MBCNEWS  뉴스/정치/사회      890000   1388710000   87228\n",
       "502          뉴스TVCHOSUN  뉴스/정치/사회      770000    623510000   57729\n",
       "701            MBN News  뉴스/정치/사회      570000    623580000   72397\n",
       "737              연합뉴스TV  뉴스/정치/사회      550000    697650000  311370\n",
       "988        ARIRANG NEWS  뉴스/정치/사회      400000    190750000  114494\n",
       "992              KBS 교양  뉴스/정치/사회      400000    297960000   64694"
      ]
     },
     "execution_count": 65,
     "metadata": {},
     "output_type": "execute_result"
    }
   ],
   "source": [
    "# subscriber가 3천만 이상이거나 video 개수가 50000이상인 채널은?\n",
    "df.loc[(df['subscriber']>=30000000) | (df['video'] >= 50000),:]"
   ]
  },
  {
   "cell_type": "markdown",
   "id": "f7ae4772",
   "metadata": {},
   "source": [
    "- Series의 value가 목록에 포함된 내용인지 확인\n",
    "\n",
    "- Series.isin([내용1, 내용2, ...]) : Series에 포함된 내용이 목록에 있는 경우 True, 없으면 False인 Boolean - Series 반환 (Boolean indexing에 사용)"
   ]
  },
  {
   "cell_type": "code",
   "execution_count": 66,
   "id": "0ac3cc5d",
   "metadata": {},
   "outputs": [
    {
     "data": {
      "text/plain": [
       "음악/댄스/가수     175\n",
       "TV/방송        161\n",
       "게임           101\n",
       "키즈/어린이        95\n",
       "음식/요리/레시피     88\n",
       "BJ/인물/연예인     68\n",
       "패션/미용         57\n",
       "뉴스/정치/사회      56\n",
       "미분류           40\n",
       "취미/라이프        40\n",
       "영화/만화/애니      33\n",
       "교육/강의         23\n",
       "애완/반려동물       20\n",
       "스포츠/운동        12\n",
       "IT/기술/컴퓨터      8\n",
       "해외             6\n",
       "주식/경제/부동산      5\n",
       "국내/해외/여행       5\n",
       "회사/오피셜         4\n",
       "자동차            2\n",
       "취미             1\n",
       "Name: category, dtype: int64"
      ]
     },
     "execution_count": 66,
     "metadata": {},
     "output_type": "execute_result"
    }
   ],
   "source": [
    "#category의 값 별 개수 확인\n",
    "df['category'].value_counts()"
   ]
  },
  {
   "cell_type": "code",
   "execution_count": 70,
   "id": "67dc9bb7",
   "metadata": {},
   "outputs": [
    {
     "data": {
      "text/plain": [
       "262"
      ]
     },
     "execution_count": 70,
     "metadata": {},
     "output_type": "execute_result"
    }
   ],
   "source": [
    "# category가 TV/방송 이거나 게임인 채널 개수는 (161+101 = 262개)\n",
    "len(df[(df['category'] == 'TV/방송') |(df['category'] == '게임')])"
   ]
  },
  {
   "cell_type": "code",
   "execution_count": 73,
   "id": "1142ee29",
   "metadata": {},
   "outputs": [
    {
     "data": {
      "text/plain": [
       "262"
      ]
     },
     "execution_count": 73,
     "metadata": {},
     "output_type": "execute_result"
    }
   ],
   "source": [
    "# category 안에 TV/방송, 게임이 있다\n",
    "len(df[df['category'].isin(['TV/방송','게임'])])"
   ]
  },
  {
   "cell_type": "code",
   "execution_count": 76,
   "id": "8742d4c0",
   "metadata": {},
   "outputs": [
    {
     "data": {
      "text/html": [
       "<div>\n",
       "<style scoped>\n",
       "    .dataframe tbody tr th:only-of-type {\n",
       "        vertical-align: middle;\n",
       "    }\n",
       "\n",
       "    .dataframe tbody tr th {\n",
       "        vertical-align: top;\n",
       "    }\n",
       "\n",
       "    .dataframe thead th {\n",
       "        text-align: right;\n",
       "    }\n",
       "</style>\n",
       "<table border=\"1\" class=\"dataframe\">\n",
       "  <thead>\n",
       "    <tr style=\"text-align: right;\">\n",
       "      <th></th>\n",
       "      <th>title</th>\n",
       "      <th>category</th>\n",
       "      <th>subscriber</th>\n",
       "      <th>view</th>\n",
       "      <th>video</th>\n",
       "    </tr>\n",
       "  </thead>\n",
       "  <tbody>\n",
       "    <tr>\n",
       "      <th>0</th>\n",
       "      <td>BLACKPINK</td>\n",
       "      <td>음악/댄스/가수</td>\n",
       "      <td>51400000</td>\n",
       "      <td>12851300000</td>\n",
       "      <td>319</td>\n",
       "    </tr>\n",
       "    <tr>\n",
       "      <th>1</th>\n",
       "      <td>Big Hit Labels</td>\n",
       "      <td>음악/댄스/가수</td>\n",
       "      <td>45500000</td>\n",
       "      <td>12089660000</td>\n",
       "      <td>433</td>\n",
       "    </tr>\n",
       "    <tr>\n",
       "      <th>2</th>\n",
       "      <td>BANGTANTV</td>\n",
       "      <td>음악/댄스/가수</td>\n",
       "      <td>38700000</td>\n",
       "      <td>5475980000</td>\n",
       "      <td>1319</td>\n",
       "    </tr>\n",
       "    <tr>\n",
       "      <th>4</th>\n",
       "      <td>SMTOWN</td>\n",
       "      <td>음악/댄스/가수</td>\n",
       "      <td>24500000</td>\n",
       "      <td>18075320000</td>\n",
       "      <td>3583</td>\n",
       "    </tr>\n",
       "    <tr>\n",
       "      <th>5</th>\n",
       "      <td>1MILLION Dance Studio</td>\n",
       "      <td>음악/댄스/가수</td>\n",
       "      <td>22300000</td>\n",
       "      <td>5753580000</td>\n",
       "      <td>2205</td>\n",
       "    </tr>\n",
       "  </tbody>\n",
       "</table>\n",
       "</div>"
      ],
      "text/plain": [
       "                   title  category  subscriber         view  video\n",
       "0              BLACKPINK  음악/댄스/가수    51400000  12851300000    319\n",
       "1         Big Hit Labels  음악/댄스/가수    45500000  12089660000    433\n",
       "2              BANGTANTV  음악/댄스/가수    38700000   5475980000   1319\n",
       "4                 SMTOWN  음악/댄스/가수    24500000  18075320000   3583\n",
       "5  1MILLION Dance Studio  음악/댄스/가수    22300000   5753580000   2205"
      ]
     },
     "execution_count": 76,
     "metadata": {},
     "output_type": "execute_result"
    }
   ],
   "source": [
    "# category가 음악/댄스/가수인 채널의 subscriber TOP5는?\n",
    "df[df['category'].isin(['음악/댄스/가수'])].sort_values('subscriber',ascending=False).head()"
   ]
  },
  {
   "cell_type": "code",
   "execution_count": 77,
   "id": "df843b56",
   "metadata": {},
   "outputs": [
    {
     "data": {
      "text/html": [
       "<div>\n",
       "<style scoped>\n",
       "    .dataframe tbody tr th:only-of-type {\n",
       "        vertical-align: middle;\n",
       "    }\n",
       "\n",
       "    .dataframe tbody tr th {\n",
       "        vertical-align: top;\n",
       "    }\n",
       "\n",
       "    .dataframe thead th {\n",
       "        text-align: right;\n",
       "    }\n",
       "</style>\n",
       "<table border=\"1\" class=\"dataframe\">\n",
       "  <thead>\n",
       "    <tr style=\"text-align: right;\">\n",
       "      <th></th>\n",
       "      <th>title</th>\n",
       "      <th>category</th>\n",
       "      <th>subscriber</th>\n",
       "      <th>view</th>\n",
       "      <th>video</th>\n",
       "    </tr>\n",
       "  </thead>\n",
       "  <tbody>\n",
       "    <tr>\n",
       "      <th>12</th>\n",
       "      <td>KBS World</td>\n",
       "      <td>TV/방송</td>\n",
       "      <td>14300000</td>\n",
       "      <td>10158060000</td>\n",
       "      <td>46830</td>\n",
       "    </tr>\n",
       "    <tr>\n",
       "      <th>46</th>\n",
       "      <td>KBS Kpop</td>\n",
       "      <td>TV/방송</td>\n",
       "      <td>5260000</td>\n",
       "      <td>3411260000</td>\n",
       "      <td>24389</td>\n",
       "    </tr>\n",
       "    <tr>\n",
       "      <th>76</th>\n",
       "      <td>KBS Entertain</td>\n",
       "      <td>TV/방송</td>\n",
       "      <td>3930000</td>\n",
       "      <td>5340910000</td>\n",
       "      <td>91783</td>\n",
       "    </tr>\n",
       "    <tr>\n",
       "      <th>101</th>\n",
       "      <td>KBS Drama</td>\n",
       "      <td>TV/방송</td>\n",
       "      <td>3040000</td>\n",
       "      <td>3538510000</td>\n",
       "      <td>105922</td>\n",
       "    </tr>\n",
       "    <tr>\n",
       "      <th>290</th>\n",
       "      <td>KBS 한국방송</td>\n",
       "      <td>TV/방송</td>\n",
       "      <td>1220000</td>\n",
       "      <td>1128510000</td>\n",
       "      <td>25993</td>\n",
       "    </tr>\n",
       "    <tr>\n",
       "      <th>292</th>\n",
       "      <td>KBS Drama Classic</td>\n",
       "      <td>뉴스/정치/사회</td>\n",
       "      <td>1210000</td>\n",
       "      <td>1084400000</td>\n",
       "      <td>8783</td>\n",
       "    </tr>\n",
       "    <tr>\n",
       "      <th>308</th>\n",
       "      <td>KBS HUMAN: 뭉클티비</td>\n",
       "      <td>TV/방송</td>\n",
       "      <td>1170000</td>\n",
       "      <td>495680000</td>\n",
       "      <td>1593</td>\n",
       "    </tr>\n",
       "    <tr>\n",
       "      <th>389</th>\n",
       "      <td>KBS News</td>\n",
       "      <td>뉴스/정치/사회</td>\n",
       "      <td>960000</td>\n",
       "      <td>1017410000</td>\n",
       "      <td>145515</td>\n",
       "    </tr>\n",
       "    <tr>\n",
       "      <th>457</th>\n",
       "      <td>KBS CoolFM</td>\n",
       "      <td>TV/방송</td>\n",
       "      <td>840000</td>\n",
       "      <td>429520000</td>\n",
       "      <td>6981</td>\n",
       "    </tr>\n",
       "    <tr>\n",
       "      <th>716</th>\n",
       "      <td>KBS N</td>\n",
       "      <td>TV/방송</td>\n",
       "      <td>560000</td>\n",
       "      <td>747830000</td>\n",
       "      <td>12470</td>\n",
       "    </tr>\n",
       "    <tr>\n",
       "      <th>777</th>\n",
       "      <td>KBS KONG</td>\n",
       "      <td>뉴스/정치/사회</td>\n",
       "      <td>520000</td>\n",
       "      <td>191610000</td>\n",
       "      <td>6639</td>\n",
       "    </tr>\n",
       "    <tr>\n",
       "      <th>991</th>\n",
       "      <td>KBS Documentary [KBS 다큐]</td>\n",
       "      <td>뉴스/정치/사회</td>\n",
       "      <td>400000</td>\n",
       "      <td>245060000</td>\n",
       "      <td>48383</td>\n",
       "    </tr>\n",
       "    <tr>\n",
       "      <th>992</th>\n",
       "      <td>KBS 교양</td>\n",
       "      <td>뉴스/정치/사회</td>\n",
       "      <td>400000</td>\n",
       "      <td>297960000</td>\n",
       "      <td>64694</td>\n",
       "    </tr>\n",
       "  </tbody>\n",
       "</table>\n",
       "</div>"
      ],
      "text/plain": [
       "                        title  category  subscriber         view   video\n",
       "12                  KBS World     TV/방송    14300000  10158060000   46830\n",
       "46                   KBS Kpop     TV/방송     5260000   3411260000   24389\n",
       "76              KBS Entertain     TV/방송     3930000   5340910000   91783\n",
       "101                 KBS Drama     TV/방송     3040000   3538510000  105922\n",
       "290                  KBS 한국방송     TV/방송     1220000   1128510000   25993\n",
       "292         KBS Drama Classic  뉴스/정치/사회     1210000   1084400000    8783\n",
       "308           KBS HUMAN: 뭉클티비     TV/방송     1170000    495680000    1593\n",
       "389                  KBS News  뉴스/정치/사회      960000   1017410000  145515\n",
       "457                KBS CoolFM     TV/방송      840000    429520000    6981\n",
       "716                     KBS N     TV/방송      560000    747830000   12470\n",
       "777                  KBS KONG  뉴스/정치/사회      520000    191610000    6639\n",
       "991  KBS Documentary [KBS 다큐]  뉴스/정치/사회      400000    245060000   48383\n",
       "992                    KBS 교양  뉴스/정치/사회      400000    297960000   64694"
      ]
     },
     "execution_count": 77,
     "metadata": {},
     "output_type": "execute_result"
    }
   ],
   "source": [
    "# title에 KBS가 포함된 채널 명 \n",
    "df[df['title'].str.contains('KBS')]"
   ]
  },
  {
   "cell_type": "code",
   "execution_count": 81,
   "id": "c33b4ebb",
   "metadata": {},
   "outputs": [
    {
     "data": {
      "text/plain": [
       "array(['KBS World', 'KBS Kpop', 'KBS Entertain', 'KBS Drama', 'KBS 한국방송',\n",
       "       'KBS Drama Classic', 'KBS HUMAN: 뭉클티비', 'KBS News', 'KBS CoolFM',\n",
       "       'KBS N', 'KBS KONG', 'KBS Documentary [KBS 다큐]', 'KBS 교양'],\n",
       "      dtype=object)"
      ]
     },
     "execution_count": 81,
     "metadata": {},
     "output_type": "execute_result"
    }
   ],
   "source": [
    "df[df['title'].str.contains('KBS')]['title'].to_numpy()"
   ]
  },
  {
   "cell_type": "code",
   "execution_count": 83,
   "id": "e0c4cab4",
   "metadata": {},
   "outputs": [
    {
     "data": {
      "text/plain": [
       "array(['KBS World', 'KBS Kpop', 'KBS Entertain', 'KBS Drama', 'KBS 한국방송',\n",
       "       'KBS Drama Classic', 'KBS HUMAN: 뭉클티비', 'KBS News', 'KBS CoolFM',\n",
       "       'KBS N', 'KBS KONG', 'KBS Documentary [KBS 다큐]', 'KBS 교양'],\n",
       "      dtype=object)"
      ]
     },
     "execution_count": 83,
     "metadata": {},
     "output_type": "execute_result"
    }
   ],
   "source": [
    "df.loc[df['title'].str.contains('KBS'),'title'].to_numpy()"
   ]
  },
  {
   "cell_type": "code",
   "execution_count": 84,
   "id": "d13bbcda",
   "metadata": {},
   "outputs": [
    {
     "data": {
      "text/plain": [
       "array(['KBS World', 'KBS Kpop', 'KBS Entertain', 'KBS Drama', 'KBS 한국방송',\n",
       "       'KBS Drama Classic', 'KBS HUMAN: 뭉클티비', 'KBS News', 'KBS CoolFM',\n",
       "       'KBS N', 'KBS KONG', 'KBS Documentary [KBS 다큐]', 'KBS 교양'],\n",
       "      dtype=object)"
      ]
     },
     "execution_count": 84,
     "metadata": {},
     "output_type": "execute_result"
    }
   ],
   "source": [
    "# 대소문자 구분없이 검색하려면?\n",
    "df.loc[df['title'].str.upper().str.contains('KBS'),'title'].to_numpy()"
   ]
  },
  {
   "cell_type": "markdown",
   "id": "caa894a7",
   "metadata": {},
   "source": [
    "#### 7. 통계값 구하기"
   ]
  },
  {
   "cell_type": "markdown",
   "id": "4a0f36dc",
   "metadata": {},
   "source": [
    "- DataFrame.describe() : 적용 가능 컬럼에 대해 count, mean, std, min, max, Q1, Q2, Q3 등 구하기\n",
    "- Series.count() : 개수\n",
    "- Series.sum() : 합계\n",
    "- Series.mean() : 평균\n",
    "- Series.std() : 표준편차\n",
    "- Series.var() : 분산\n",
    "- Series.median() : 중앙값\n",
    "- Series.mode() : 최빈값\n",
    "- Series.quantile([0.25, 05, 0.75]) : 분위수"
   ]
  },
  {
   "cell_type": "code",
   "execution_count": 85,
   "id": "1ff70a2a",
   "metadata": {},
   "outputs": [
    {
     "data": {
      "text/html": [
       "<div>\n",
       "<style scoped>\n",
       "    .dataframe tbody tr th:only-of-type {\n",
       "        vertical-align: middle;\n",
       "    }\n",
       "\n",
       "    .dataframe tbody tr th {\n",
       "        vertical-align: top;\n",
       "    }\n",
       "\n",
       "    .dataframe thead th {\n",
       "        text-align: right;\n",
       "    }\n",
       "</style>\n",
       "<table border=\"1\" class=\"dataframe\">\n",
       "  <thead>\n",
       "    <tr style=\"text-align: right;\">\n",
       "      <th></th>\n",
       "      <th>subscriber</th>\n",
       "      <th>view</th>\n",
       "      <th>video</th>\n",
       "    </tr>\n",
       "  </thead>\n",
       "  <tbody>\n",
       "    <tr>\n",
       "      <th>count</th>\n",
       "      <td>1.000000e+03</td>\n",
       "      <td>1.000000e+03</td>\n",
       "      <td>1000.000000</td>\n",
       "    </tr>\n",
       "    <tr>\n",
       "      <th>mean</th>\n",
       "      <td>1.645040e+06</td>\n",
       "      <td>6.722941e+08</td>\n",
       "      <td>4766.680000</td>\n",
       "    </tr>\n",
       "    <tr>\n",
       "      <th>std</th>\n",
       "      <td>3.422952e+06</td>\n",
       "      <td>1.588076e+09</td>\n",
       "      <td>25424.801925</td>\n",
       "    </tr>\n",
       "    <tr>\n",
       "      <th>min</th>\n",
       "      <td>4.000000e+05</td>\n",
       "      <td>0.000000e+00</td>\n",
       "      <td>0.000000</td>\n",
       "    </tr>\n",
       "    <tr>\n",
       "      <th>25%</th>\n",
       "      <td>5.400000e+05</td>\n",
       "      <td>1.095600e+08</td>\n",
       "      <td>222.000000</td>\n",
       "    </tr>\n",
       "    <tr>\n",
       "      <th>50%</th>\n",
       "      <td>7.800000e+05</td>\n",
       "      <td>2.423650e+08</td>\n",
       "      <td>506.000000</td>\n",
       "    </tr>\n",
       "    <tr>\n",
       "      <th>75%</th>\n",
       "      <td>1.392500e+06</td>\n",
       "      <td>5.351825e+08</td>\n",
       "      <td>1491.500000</td>\n",
       "    </tr>\n",
       "    <tr>\n",
       "      <th>max</th>\n",
       "      <td>5.140000e+07</td>\n",
       "      <td>1.807532e+10</td>\n",
       "      <td>492791.000000</td>\n",
       "    </tr>\n",
       "  </tbody>\n",
       "</table>\n",
       "</div>"
      ],
      "text/plain": [
       "         subscriber          view          video\n",
       "count  1.000000e+03  1.000000e+03    1000.000000\n",
       "mean   1.645040e+06  6.722941e+08    4766.680000\n",
       "std    3.422952e+06  1.588076e+09   25424.801925\n",
       "min    4.000000e+05  0.000000e+00       0.000000\n",
       "25%    5.400000e+05  1.095600e+08     222.000000\n",
       "50%    7.800000e+05  2.423650e+08     506.000000\n",
       "75%    1.392500e+06  5.351825e+08    1491.500000\n",
       "max    5.140000e+07  1.807532e+10  492791.000000"
      ]
     },
     "execution_count": 85,
     "metadata": {},
     "output_type": "execute_result"
    }
   ],
   "source": [
    "df.describe()"
   ]
  },
  {
   "cell_type": "code",
   "execution_count": 86,
   "id": "ab08e9d2",
   "metadata": {},
   "outputs": [
    {
     "data": {
      "text/plain": [
       "1000"
      ]
     },
     "execution_count": 86,
     "metadata": {},
     "output_type": "execute_result"
    }
   ],
   "source": [
    "#video 컬럼 데이터 갯수\n",
    "df['video'].count()"
   ]
  },
  {
   "cell_type": "code",
   "execution_count": 87,
   "id": "477348be",
   "metadata": {},
   "outputs": [
    {
     "data": {
      "text/plain": [
       "4766680"
      ]
     },
     "execution_count": 87,
     "metadata": {},
     "output_type": "execute_result"
    }
   ],
   "source": [
    "#video 합계\n",
    "df['video'].sum()"
   ]
  },
  {
   "cell_type": "code",
   "execution_count": 88,
   "id": "65aaa55d",
   "metadata": {},
   "outputs": [
    {
     "data": {
      "text/plain": [
       "(4766.68, 506.0)"
      ]
     },
     "execution_count": 88,
     "metadata": {},
     "output_type": "execute_result"
    }
   ],
   "source": [
    "# video 평균, 중앙값\n",
    "df['video'].mean(), df['video'].median()"
   ]
  },
  {
   "cell_type": "code",
   "execution_count": 89,
   "id": "d690ea9e",
   "metadata": {},
   "outputs": [
    {
     "data": {
      "text/plain": [
       "(646420552.9165165, 25424.801924823652)"
      ]
     },
     "execution_count": 89,
     "metadata": {},
     "output_type": "execute_result"
    }
   ],
   "source": [
    "# video의 분산과 표준편차\n",
    "df['video'].var(), df['video'].std()"
   ]
  },
  {
   "cell_type": "code",
   "execution_count": 90,
   "id": "460de197",
   "metadata": {},
   "outputs": [
    {
     "data": {
      "text/plain": [
       "(51400000, 400000)"
      ]
     },
     "execution_count": 90,
     "metadata": {},
     "output_type": "execute_result"
    }
   ],
   "source": [
    "#subscriber 의 최대, 최소값\n",
    "df['subscriber'].max(), df['subscriber'].min()"
   ]
  },
  {
   "cell_type": "code",
   "execution_count": 92,
   "id": "2372d4bd",
   "metadata": {},
   "outputs": [
    {
     "data": {
      "text/plain": [
       "440000"
      ]
     },
     "execution_count": 92,
     "metadata": {},
     "output_type": "execute_result"
    }
   ],
   "source": [
    "#subscriber 최빈값\n",
    "df['subscriber'].mode()[0]"
   ]
  },
  {
   "cell_type": "code",
   "execution_count": 94,
   "id": "ef177d60",
   "metadata": {},
   "outputs": [
    {
     "name": "stdout",
     "output_type": "stream",
     "text": [
      "540000.0 780000.0 1392500.0\n"
     ]
    }
   ],
   "source": [
    "#subscriber 사분위수 구하기\n",
    "Q1,Q2,Q3 = df['subscriber'].quantile([0.25,0.5,0.75])\n",
    "print(Q1,Q2,Q3)"
   ]
  },
  {
   "cell_type": "markdown",
   "id": "523a5cc1",
   "metadata": {},
   "source": [
    "그룹별 통계치 구하기\n",
    "\n",
    "- DataFrame.groupby(그룹명).적용할통계함수()\n",
    "- DataFrame의 함수 적용 가능 컬럼들에 대해 그룹별 통계치를 구함\n",
    "- 통계함수에는 sum, mean, std, var, min, max, count, quantile 등이 있음\n",
    "- DataFrame.groupby(그룹명)[컬럼].적용할통계함수() : Series\n",
    "- DataFrame.groupby(그룹명)[[컬럼1, 컬럼2, ...]].적용할통계함수() : DataFrame"
   ]
  },
  {
   "cell_type": "code",
   "execution_count": 95,
   "id": "99507359",
   "metadata": {},
   "outputs": [
    {
     "data": {
      "text/html": [
       "<div>\n",
       "<style scoped>\n",
       "    .dataframe tbody tr th:only-of-type {\n",
       "        vertical-align: middle;\n",
       "    }\n",
       "\n",
       "    .dataframe tbody tr th {\n",
       "        vertical-align: top;\n",
       "    }\n",
       "\n",
       "    .dataframe thead th {\n",
       "        text-align: right;\n",
       "    }\n",
       "</style>\n",
       "<table border=\"1\" class=\"dataframe\">\n",
       "  <thead>\n",
       "    <tr style=\"text-align: right;\">\n",
       "      <th></th>\n",
       "      <th>subscriber</th>\n",
       "      <th>view</th>\n",
       "      <th>video</th>\n",
       "    </tr>\n",
       "    <tr>\n",
       "      <th>category</th>\n",
       "      <th></th>\n",
       "      <th></th>\n",
       "      <th></th>\n",
       "    </tr>\n",
       "  </thead>\n",
       "  <tbody>\n",
       "    <tr>\n",
       "      <th>BJ/인물/연예인</th>\n",
       "      <td>1.274412e+06</td>\n",
       "      <td>4.101549e+08</td>\n",
       "      <td>837.735294</td>\n",
       "    </tr>\n",
       "    <tr>\n",
       "      <th>IT/기술/컴퓨터</th>\n",
       "      <td>8.062500e+05</td>\n",
       "      <td>1.766100e+08</td>\n",
       "      <td>1200.125000</td>\n",
       "    </tr>\n",
       "    <tr>\n",
       "      <th>TV/방송</th>\n",
       "      <td>1.219876e+06</td>\n",
       "      <td>7.184834e+08</td>\n",
       "      <td>9025.130435</td>\n",
       "    </tr>\n",
       "    <tr>\n",
       "      <th>게임</th>\n",
       "      <td>7.435644e+05</td>\n",
       "      <td>4.542535e+08</td>\n",
       "      <td>2527.009901</td>\n",
       "    </tr>\n",
       "    <tr>\n",
       "      <th>교육/강의</th>\n",
       "      <td>8.513043e+05</td>\n",
       "      <td>1.772183e+08</td>\n",
       "      <td>837.913043</td>\n",
       "    </tr>\n",
       "    <tr>\n",
       "      <th>국내/해외/여행</th>\n",
       "      <td>6.260000e+05</td>\n",
       "      <td>1.866240e+08</td>\n",
       "      <td>830.200000</td>\n",
       "    </tr>\n",
       "    <tr>\n",
       "      <th>뉴스/정치/사회</th>\n",
       "      <td>1.226964e+06</td>\n",
       "      <td>1.199936e+09</td>\n",
       "      <td>42048.089286</td>\n",
       "    </tr>\n",
       "    <tr>\n",
       "      <th>미분류</th>\n",
       "      <td>1.429500e+06</td>\n",
       "      <td>4.090340e+08</td>\n",
       "      <td>778.050000</td>\n",
       "    </tr>\n",
       "    <tr>\n",
       "      <th>스포츠/운동</th>\n",
       "      <td>9.325000e+05</td>\n",
       "      <td>2.791892e+08</td>\n",
       "      <td>3954.916667</td>\n",
       "    </tr>\n",
       "    <tr>\n",
       "      <th>애완/반려동물</th>\n",
       "      <td>1.161000e+06</td>\n",
       "      <td>4.213170e+08</td>\n",
       "      <td>786.250000</td>\n",
       "    </tr>\n",
       "    <tr>\n",
       "      <th>영화/만화/애니</th>\n",
       "      <td>8.527273e+05</td>\n",
       "      <td>3.185870e+08</td>\n",
       "      <td>770.181818</td>\n",
       "    </tr>\n",
       "    <tr>\n",
       "      <th>음식/요리/레시피</th>\n",
       "      <td>1.612045e+06</td>\n",
       "      <td>4.073819e+08</td>\n",
       "      <td>830.022727</td>\n",
       "    </tr>\n",
       "    <tr>\n",
       "      <th>음악/댄스/가수</th>\n",
       "      <td>3.195200e+06</td>\n",
       "      <td>1.091668e+09</td>\n",
       "      <td>1382.051429</td>\n",
       "    </tr>\n",
       "    <tr>\n",
       "      <th>자동차</th>\n",
       "      <td>4.900000e+05</td>\n",
       "      <td>1.856150e+08</td>\n",
       "      <td>670.000000</td>\n",
       "    </tr>\n",
       "    <tr>\n",
       "      <th>주식/경제/부동산</th>\n",
       "      <td>6.260000e+05</td>\n",
       "      <td>6.800000e+07</td>\n",
       "      <td>1026.400000</td>\n",
       "    </tr>\n",
       "    <tr>\n",
       "      <th>취미</th>\n",
       "      <td>5.600000e+05</td>\n",
       "      <td>1.061500e+08</td>\n",
       "      <td>237.000000</td>\n",
       "    </tr>\n",
       "    <tr>\n",
       "      <th>취미/라이프</th>\n",
       "      <td>9.745000e+05</td>\n",
       "      <td>2.043118e+08</td>\n",
       "      <td>359.325000</td>\n",
       "    </tr>\n",
       "    <tr>\n",
       "      <th>키즈/어린이</th>\n",
       "      <td>2.729158e+06</td>\n",
       "      <td>1.281384e+09</td>\n",
       "      <td>1069.157895</td>\n",
       "    </tr>\n",
       "    <tr>\n",
       "      <th>패션/미용</th>\n",
       "      <td>8.238596e+05</td>\n",
       "      <td>1.043774e+08</td>\n",
       "      <td>313.157895</td>\n",
       "    </tr>\n",
       "    <tr>\n",
       "      <th>해외</th>\n",
       "      <td>1.595000e+06</td>\n",
       "      <td>8.382533e+08</td>\n",
       "      <td>5043.500000</td>\n",
       "    </tr>\n",
       "    <tr>\n",
       "      <th>회사/오피셜</th>\n",
       "      <td>2.202500e+06</td>\n",
       "      <td>4.966125e+08</td>\n",
       "      <td>2084.250000</td>\n",
       "    </tr>\n",
       "  </tbody>\n",
       "</table>\n",
       "</div>"
      ],
      "text/plain": [
       "             subscriber          view         video\n",
       "category                                           \n",
       "BJ/인물/연예인  1.274412e+06  4.101549e+08    837.735294\n",
       "IT/기술/컴퓨터  8.062500e+05  1.766100e+08   1200.125000\n",
       "TV/방송      1.219876e+06  7.184834e+08   9025.130435\n",
       "게임         7.435644e+05  4.542535e+08   2527.009901\n",
       "교육/강의      8.513043e+05  1.772183e+08    837.913043\n",
       "국내/해외/여행   6.260000e+05  1.866240e+08    830.200000\n",
       "뉴스/정치/사회   1.226964e+06  1.199936e+09  42048.089286\n",
       "미분류        1.429500e+06  4.090340e+08    778.050000\n",
       "스포츠/운동     9.325000e+05  2.791892e+08   3954.916667\n",
       "애완/반려동물    1.161000e+06  4.213170e+08    786.250000\n",
       "영화/만화/애니   8.527273e+05  3.185870e+08    770.181818\n",
       "음식/요리/레시피  1.612045e+06  4.073819e+08    830.022727\n",
       "음악/댄스/가수   3.195200e+06  1.091668e+09   1382.051429\n",
       "자동차        4.900000e+05  1.856150e+08    670.000000\n",
       "주식/경제/부동산  6.260000e+05  6.800000e+07   1026.400000\n",
       "취미         5.600000e+05  1.061500e+08    237.000000\n",
       "취미/라이프     9.745000e+05  2.043118e+08    359.325000\n",
       "키즈/어린이     2.729158e+06  1.281384e+09   1069.157895\n",
       "패션/미용      8.238596e+05  1.043774e+08    313.157895\n",
       "해외         1.595000e+06  8.382533e+08   5043.500000\n",
       "회사/오피셜     2.202500e+06  4.966125e+08   2084.250000"
      ]
     },
     "execution_count": 95,
     "metadata": {},
     "output_type": "execute_result"
    }
   ],
   "source": [
    "# category 별 평균을 구할 수 있는 모든 컬럼에 대한 평균 구하기\n",
    "df.groupby('category').mean()"
   ]
  },
  {
   "cell_type": "code",
   "execution_count": 98,
   "id": "07178c6b",
   "metadata": {},
   "outputs": [
    {
     "data": {
      "text/html": [
       "<div>\n",
       "<style scoped>\n",
       "    .dataframe tbody tr th:only-of-type {\n",
       "        vertical-align: middle;\n",
       "    }\n",
       "\n",
       "    .dataframe tbody tr th {\n",
       "        vertical-align: top;\n",
       "    }\n",
       "\n",
       "    .dataframe thead th {\n",
       "        text-align: right;\n",
       "    }\n",
       "</style>\n",
       "<table border=\"1\" class=\"dataframe\">\n",
       "  <thead>\n",
       "    <tr style=\"text-align: right;\">\n",
       "      <th></th>\n",
       "      <th>view</th>\n",
       "    </tr>\n",
       "    <tr>\n",
       "      <th>category</th>\n",
       "      <th></th>\n",
       "    </tr>\n",
       "  </thead>\n",
       "  <tbody>\n",
       "    <tr>\n",
       "      <th>BJ/인물/연예인</th>\n",
       "      <td>4.101549e+08</td>\n",
       "    </tr>\n",
       "    <tr>\n",
       "      <th>IT/기술/컴퓨터</th>\n",
       "      <td>1.766100e+08</td>\n",
       "    </tr>\n",
       "    <tr>\n",
       "      <th>TV/방송</th>\n",
       "      <td>7.184834e+08</td>\n",
       "    </tr>\n",
       "    <tr>\n",
       "      <th>게임</th>\n",
       "      <td>4.542535e+08</td>\n",
       "    </tr>\n",
       "    <tr>\n",
       "      <th>교육/강의</th>\n",
       "      <td>1.772183e+08</td>\n",
       "    </tr>\n",
       "    <tr>\n",
       "      <th>국내/해외/여행</th>\n",
       "      <td>1.866240e+08</td>\n",
       "    </tr>\n",
       "    <tr>\n",
       "      <th>뉴스/정치/사회</th>\n",
       "      <td>1.199936e+09</td>\n",
       "    </tr>\n",
       "    <tr>\n",
       "      <th>미분류</th>\n",
       "      <td>4.090340e+08</td>\n",
       "    </tr>\n",
       "    <tr>\n",
       "      <th>스포츠/운동</th>\n",
       "      <td>2.791892e+08</td>\n",
       "    </tr>\n",
       "    <tr>\n",
       "      <th>애완/반려동물</th>\n",
       "      <td>4.213170e+08</td>\n",
       "    </tr>\n",
       "    <tr>\n",
       "      <th>영화/만화/애니</th>\n",
       "      <td>3.185870e+08</td>\n",
       "    </tr>\n",
       "    <tr>\n",
       "      <th>음식/요리/레시피</th>\n",
       "      <td>4.073819e+08</td>\n",
       "    </tr>\n",
       "    <tr>\n",
       "      <th>음악/댄스/가수</th>\n",
       "      <td>1.091668e+09</td>\n",
       "    </tr>\n",
       "    <tr>\n",
       "      <th>자동차</th>\n",
       "      <td>1.856150e+08</td>\n",
       "    </tr>\n",
       "    <tr>\n",
       "      <th>주식/경제/부동산</th>\n",
       "      <td>6.800000e+07</td>\n",
       "    </tr>\n",
       "    <tr>\n",
       "      <th>취미</th>\n",
       "      <td>1.061500e+08</td>\n",
       "    </tr>\n",
       "    <tr>\n",
       "      <th>취미/라이프</th>\n",
       "      <td>2.043118e+08</td>\n",
       "    </tr>\n",
       "    <tr>\n",
       "      <th>키즈/어린이</th>\n",
       "      <td>1.281384e+09</td>\n",
       "    </tr>\n",
       "    <tr>\n",
       "      <th>패션/미용</th>\n",
       "      <td>1.043774e+08</td>\n",
       "    </tr>\n",
       "    <tr>\n",
       "      <th>해외</th>\n",
       "      <td>8.382533e+08</td>\n",
       "    </tr>\n",
       "    <tr>\n",
       "      <th>회사/오피셜</th>\n",
       "      <td>4.966125e+08</td>\n",
       "    </tr>\n",
       "  </tbody>\n",
       "</table>\n",
       "</div>"
      ],
      "text/plain": [
       "                   view\n",
       "category               \n",
       "BJ/인물/연예인  4.101549e+08\n",
       "IT/기술/컴퓨터  1.766100e+08\n",
       "TV/방송      7.184834e+08\n",
       "게임         4.542535e+08\n",
       "교육/강의      1.772183e+08\n",
       "국내/해외/여행   1.866240e+08\n",
       "뉴스/정치/사회   1.199936e+09\n",
       "미분류        4.090340e+08\n",
       "스포츠/운동     2.791892e+08\n",
       "애완/반려동물    4.213170e+08\n",
       "영화/만화/애니   3.185870e+08\n",
       "음식/요리/레시피  4.073819e+08\n",
       "음악/댄스/가수   1.091668e+09\n",
       "자동차        1.856150e+08\n",
       "주식/경제/부동산  6.800000e+07\n",
       "취미         1.061500e+08\n",
       "취미/라이프     2.043118e+08\n",
       "키즈/어린이     1.281384e+09\n",
       "패션/미용      1.043774e+08\n",
       "해외         8.382533e+08\n",
       "회사/오피셜     4.966125e+08"
      ]
     },
     "execution_count": 98,
     "metadata": {},
     "output_type": "execute_result"
    }
   ],
   "source": [
    "#category 별 view에 대한 평균 구하기\n",
    "df.groupby('category')[['view']].mean()"
   ]
  },
  {
   "cell_type": "code",
   "execution_count": 101,
   "id": "25354449",
   "metadata": {},
   "outputs": [
    {
     "data": {
      "text/html": [
       "<div>\n",
       "<style scoped>\n",
       "    .dataframe tbody tr th:only-of-type {\n",
       "        vertical-align: middle;\n",
       "    }\n",
       "\n",
       "    .dataframe tbody tr th {\n",
       "        vertical-align: top;\n",
       "    }\n",
       "\n",
       "    .dataframe thead th {\n",
       "        text-align: right;\n",
       "    }\n",
       "</style>\n",
       "<table border=\"1\" class=\"dataframe\">\n",
       "  <thead>\n",
       "    <tr style=\"text-align: right;\">\n",
       "      <th></th>\n",
       "      <th>view</th>\n",
       "      <th>video</th>\n",
       "    </tr>\n",
       "    <tr>\n",
       "      <th>category</th>\n",
       "      <th></th>\n",
       "      <th></th>\n",
       "    </tr>\n",
       "  </thead>\n",
       "  <tbody>\n",
       "    <tr>\n",
       "      <th>BJ/인물/연예인</th>\n",
       "      <td>27890530000</td>\n",
       "      <td>56966</td>\n",
       "    </tr>\n",
       "    <tr>\n",
       "      <th>IT/기술/컴퓨터</th>\n",
       "      <td>1412880000</td>\n",
       "      <td>9601</td>\n",
       "    </tr>\n",
       "    <tr>\n",
       "      <th>TV/방송</th>\n",
       "      <td>115675830000</td>\n",
       "      <td>1453046</td>\n",
       "    </tr>\n",
       "    <tr>\n",
       "      <th>게임</th>\n",
       "      <td>45879600000</td>\n",
       "      <td>255228</td>\n",
       "    </tr>\n",
       "    <tr>\n",
       "      <th>교육/강의</th>\n",
       "      <td>4076020000</td>\n",
       "      <td>19272</td>\n",
       "    </tr>\n",
       "    <tr>\n",
       "      <th>국내/해외/여행</th>\n",
       "      <td>933120000</td>\n",
       "      <td>4151</td>\n",
       "    </tr>\n",
       "    <tr>\n",
       "      <th>뉴스/정치/사회</th>\n",
       "      <td>67196390000</td>\n",
       "      <td>2354693</td>\n",
       "    </tr>\n",
       "    <tr>\n",
       "      <th>미분류</th>\n",
       "      <td>16361360000</td>\n",
       "      <td>31122</td>\n",
       "    </tr>\n",
       "    <tr>\n",
       "      <th>스포츠/운동</th>\n",
       "      <td>3350270000</td>\n",
       "      <td>47459</td>\n",
       "    </tr>\n",
       "    <tr>\n",
       "      <th>애완/반려동물</th>\n",
       "      <td>8426340000</td>\n",
       "      <td>15725</td>\n",
       "    </tr>\n",
       "    <tr>\n",
       "      <th>영화/만화/애니</th>\n",
       "      <td>10513370000</td>\n",
       "      <td>25416</td>\n",
       "    </tr>\n",
       "    <tr>\n",
       "      <th>음식/요리/레시피</th>\n",
       "      <td>35849610000</td>\n",
       "      <td>73042</td>\n",
       "    </tr>\n",
       "    <tr>\n",
       "      <th>음악/댄스/가수</th>\n",
       "      <td>191041980000</td>\n",
       "      <td>241859</td>\n",
       "    </tr>\n",
       "    <tr>\n",
       "      <th>자동차</th>\n",
       "      <td>371230000</td>\n",
       "      <td>1340</td>\n",
       "    </tr>\n",
       "    <tr>\n",
       "      <th>주식/경제/부동산</th>\n",
       "      <td>340000000</td>\n",
       "      <td>5132</td>\n",
       "    </tr>\n",
       "    <tr>\n",
       "      <th>취미</th>\n",
       "      <td>106150000</td>\n",
       "      <td>237</td>\n",
       "    </tr>\n",
       "    <tr>\n",
       "      <th>취미/라이프</th>\n",
       "      <td>8172470000</td>\n",
       "      <td>14373</td>\n",
       "    </tr>\n",
       "    <tr>\n",
       "      <th>키즈/어린이</th>\n",
       "      <td>121731510000</td>\n",
       "      <td>101570</td>\n",
       "    </tr>\n",
       "    <tr>\n",
       "      <th>패션/미용</th>\n",
       "      <td>5949510000</td>\n",
       "      <td>17850</td>\n",
       "    </tr>\n",
       "    <tr>\n",
       "      <th>해외</th>\n",
       "      <td>5029520000</td>\n",
       "      <td>30261</td>\n",
       "    </tr>\n",
       "    <tr>\n",
       "      <th>회사/오피셜</th>\n",
       "      <td>1986450000</td>\n",
       "      <td>8337</td>\n",
       "    </tr>\n",
       "  </tbody>\n",
       "</table>\n",
       "</div>"
      ],
      "text/plain": [
       "                   view    video\n",
       "category                        \n",
       "BJ/인물/연예인   27890530000    56966\n",
       "IT/기술/컴퓨터    1412880000     9601\n",
       "TV/방송      115675830000  1453046\n",
       "게임          45879600000   255228\n",
       "교육/강의        4076020000    19272\n",
       "국내/해외/여행      933120000     4151\n",
       "뉴스/정치/사회    67196390000  2354693\n",
       "미분류         16361360000    31122\n",
       "스포츠/운동       3350270000    47459\n",
       "애완/반려동물      8426340000    15725\n",
       "영화/만화/애니    10513370000    25416\n",
       "음식/요리/레시피   35849610000    73042\n",
       "음악/댄스/가수   191041980000   241859\n",
       "자동차           371230000     1340\n",
       "주식/경제/부동산     340000000     5132\n",
       "취미            106150000      237\n",
       "취미/라이프       8172470000    14373\n",
       "키즈/어린이     121731510000   101570\n",
       "패션/미용        5949510000    17850\n",
       "해외           5029520000    30261\n",
       "회사/오피셜       1986450000     8337"
      ]
     },
     "execution_count": 101,
     "metadata": {},
     "output_type": "execute_result"
    }
   ],
   "source": [
    "# category 별 view, video에 대한 합계 구하기\n",
    "df.groupby('category')[['view','video']].sum()"
   ]
  },
  {
   "cell_type": "code",
   "execution_count": null,
   "id": "3f037011",
   "metadata": {},
   "outputs": [],
   "source": []
  }
 ],
 "metadata": {
  "kernelspec": {
   "display_name": "Python 3 (ipykernel)",
   "language": "python",
   "name": "python3"
  },
  "language_info": {
   "codemirror_mode": {
    "name": "ipython",
    "version": 3
   },
   "file_extension": ".py",
   "mimetype": "text/x-python",
   "name": "python",
   "nbconvert_exporter": "python",
   "pygments_lexer": "ipython3",
   "version": "3.9.12"
  }
 },
 "nbformat": 4,
 "nbformat_minor": 5
}
