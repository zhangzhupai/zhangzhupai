{
 "cells": [
  {
   "cell_type": "markdown",
   "id": "404e5809",
   "metadata": {},
   "source": [
    "####  1. DATA 불러오기"
   ]
  },
  {
   "cell_type": "code",
   "execution_count": 1,
   "id": "a77aeaf8",
   "metadata": {},
   "outputs": [],
   "source": [
    "import pandas as pd\n",
    "import numpy as np"
   ]
  },
  {
   "cell_type": "code",
   "execution_count": 2,
   "id": "ec9b39d8",
   "metadata": {},
   "outputs": [],
   "source": [
    "df = pd.read_csv('./data/bread_data.csv',encoding = 'cp949', low_memory=False)"
   ]
  },
  {
   "cell_type": "code",
   "execution_count": 3,
   "id": "00e1560a",
   "metadata": {},
   "outputs": [
    {
     "data": {
      "text/html": [
       "<div>\n",
       "<style scoped>\n",
       "    .dataframe tbody tr th:only-of-type {\n",
       "        vertical-align: middle;\n",
       "    }\n",
       "\n",
       "    .dataframe tbody tr th {\n",
       "        vertical-align: top;\n",
       "    }\n",
       "\n",
       "    .dataframe thead th {\n",
       "        text-align: right;\n",
       "    }\n",
       "</style>\n",
       "<table border=\"1\" class=\"dataframe\">\n",
       "  <thead>\n",
       "    <tr style=\"text-align: right;\">\n",
       "      <th></th>\n",
       "      <th>index</th>\n",
       "      <th>0</th>\n",
       "    </tr>\n",
       "  </thead>\n",
       "  <tbody>\n",
       "    <tr>\n",
       "      <th>0</th>\n",
       "      <td>번호</td>\n",
       "      <td>int64</td>\n",
       "    </tr>\n",
       "    <tr>\n",
       "      <th>1</th>\n",
       "      <td>개방서비스명</td>\n",
       "      <td>object</td>\n",
       "    </tr>\n",
       "    <tr>\n",
       "      <th>2</th>\n",
       "      <td>개방서비스id</td>\n",
       "      <td>object</td>\n",
       "    </tr>\n",
       "    <tr>\n",
       "      <th>3</th>\n",
       "      <td>개방자치단체코드</td>\n",
       "      <td>int64</td>\n",
       "    </tr>\n",
       "    <tr>\n",
       "      <th>4</th>\n",
       "      <td>관리번호</td>\n",
       "      <td>object</td>\n",
       "    </tr>\n",
       "    <tr>\n",
       "      <th>5</th>\n",
       "      <td>인허가일자</td>\n",
       "      <td>int64</td>\n",
       "    </tr>\n",
       "    <tr>\n",
       "      <th>6</th>\n",
       "      <td>인허가취소일자</td>\n",
       "      <td>float64</td>\n",
       "    </tr>\n",
       "    <tr>\n",
       "      <th>7</th>\n",
       "      <td>영업상태구분코드</td>\n",
       "      <td>int64</td>\n",
       "    </tr>\n",
       "    <tr>\n",
       "      <th>8</th>\n",
       "      <td>영업상태명</td>\n",
       "      <td>object</td>\n",
       "    </tr>\n",
       "    <tr>\n",
       "      <th>9</th>\n",
       "      <td>상세영업상태코드</td>\n",
       "      <td>int64</td>\n",
       "    </tr>\n",
       "    <tr>\n",
       "      <th>10</th>\n",
       "      <td>상세영업상태명</td>\n",
       "      <td>object</td>\n",
       "    </tr>\n",
       "    <tr>\n",
       "      <th>11</th>\n",
       "      <td>폐업일자</td>\n",
       "      <td>float64</td>\n",
       "    </tr>\n",
       "    <tr>\n",
       "      <th>12</th>\n",
       "      <td>휴업시작일자</td>\n",
       "      <td>float64</td>\n",
       "    </tr>\n",
       "    <tr>\n",
       "      <th>13</th>\n",
       "      <td>휴업종료일자</td>\n",
       "      <td>float64</td>\n",
       "    </tr>\n",
       "    <tr>\n",
       "      <th>14</th>\n",
       "      <td>재개업일자</td>\n",
       "      <td>float64</td>\n",
       "    </tr>\n",
       "    <tr>\n",
       "      <th>15</th>\n",
       "      <td>소재지전화</td>\n",
       "      <td>object</td>\n",
       "    </tr>\n",
       "    <tr>\n",
       "      <th>16</th>\n",
       "      <td>소재지면적</td>\n",
       "      <td>object</td>\n",
       "    </tr>\n",
       "    <tr>\n",
       "      <th>17</th>\n",
       "      <td>소재지우편번호</td>\n",
       "      <td>float64</td>\n",
       "    </tr>\n",
       "    <tr>\n",
       "      <th>18</th>\n",
       "      <td>소재지전체주소</td>\n",
       "      <td>object</td>\n",
       "    </tr>\n",
       "    <tr>\n",
       "      <th>19</th>\n",
       "      <td>도로명전체주소</td>\n",
       "      <td>object</td>\n",
       "    </tr>\n",
       "    <tr>\n",
       "      <th>20</th>\n",
       "      <td>도로명우편번호</td>\n",
       "      <td>float64</td>\n",
       "    </tr>\n",
       "    <tr>\n",
       "      <th>21</th>\n",
       "      <td>사업장명</td>\n",
       "      <td>object</td>\n",
       "    </tr>\n",
       "    <tr>\n",
       "      <th>22</th>\n",
       "      <td>최종수정시점</td>\n",
       "      <td>int64</td>\n",
       "    </tr>\n",
       "    <tr>\n",
       "      <th>23</th>\n",
       "      <td>데이터갱신구분</td>\n",
       "      <td>object</td>\n",
       "    </tr>\n",
       "    <tr>\n",
       "      <th>24</th>\n",
       "      <td>데이터갱신일자</td>\n",
       "      <td>object</td>\n",
       "    </tr>\n",
       "    <tr>\n",
       "      <th>25</th>\n",
       "      <td>업태구분명</td>\n",
       "      <td>object</td>\n",
       "    </tr>\n",
       "    <tr>\n",
       "      <th>26</th>\n",
       "      <td>좌표정보(x)</td>\n",
       "      <td>float64</td>\n",
       "    </tr>\n",
       "    <tr>\n",
       "      <th>27</th>\n",
       "      <td>좌표정보(y)</td>\n",
       "      <td>float64</td>\n",
       "    </tr>\n",
       "    <tr>\n",
       "      <th>28</th>\n",
       "      <td>위생업태명</td>\n",
       "      <td>object</td>\n",
       "    </tr>\n",
       "    <tr>\n",
       "      <th>29</th>\n",
       "      <td>남성종사자수</td>\n",
       "      <td>float64</td>\n",
       "    </tr>\n",
       "    <tr>\n",
       "      <th>30</th>\n",
       "      <td>여성종사자수</td>\n",
       "      <td>float64</td>\n",
       "    </tr>\n",
       "    <tr>\n",
       "      <th>31</th>\n",
       "      <td>영업장주변구분명</td>\n",
       "      <td>object</td>\n",
       "    </tr>\n",
       "    <tr>\n",
       "      <th>32</th>\n",
       "      <td>등급구분명</td>\n",
       "      <td>object</td>\n",
       "    </tr>\n",
       "    <tr>\n",
       "      <th>33</th>\n",
       "      <td>급수시설구분명</td>\n",
       "      <td>object</td>\n",
       "    </tr>\n",
       "    <tr>\n",
       "      <th>34</th>\n",
       "      <td>총종업원수</td>\n",
       "      <td>float64</td>\n",
       "    </tr>\n",
       "    <tr>\n",
       "      <th>35</th>\n",
       "      <td>본사종업원수</td>\n",
       "      <td>float64</td>\n",
       "    </tr>\n",
       "    <tr>\n",
       "      <th>36</th>\n",
       "      <td>공장사무직종업원수</td>\n",
       "      <td>float64</td>\n",
       "    </tr>\n",
       "    <tr>\n",
       "      <th>37</th>\n",
       "      <td>공장판매직종업원수</td>\n",
       "      <td>float64</td>\n",
       "    </tr>\n",
       "    <tr>\n",
       "      <th>38</th>\n",
       "      <td>공장생산직종업원수</td>\n",
       "      <td>float64</td>\n",
       "    </tr>\n",
       "    <tr>\n",
       "      <th>39</th>\n",
       "      <td>건물소유구분명</td>\n",
       "      <td>object</td>\n",
       "    </tr>\n",
       "    <tr>\n",
       "      <th>40</th>\n",
       "      <td>보증액</td>\n",
       "      <td>float64</td>\n",
       "    </tr>\n",
       "    <tr>\n",
       "      <th>41</th>\n",
       "      <td>월세액</td>\n",
       "      <td>float64</td>\n",
       "    </tr>\n",
       "    <tr>\n",
       "      <th>42</th>\n",
       "      <td>다중이용업소여부</td>\n",
       "      <td>object</td>\n",
       "    </tr>\n",
       "    <tr>\n",
       "      <th>43</th>\n",
       "      <td>시설총규모</td>\n",
       "      <td>float64</td>\n",
       "    </tr>\n",
       "    <tr>\n",
       "      <th>44</th>\n",
       "      <td>전통업소지정번호</td>\n",
       "      <td>object</td>\n",
       "    </tr>\n",
       "    <tr>\n",
       "      <th>45</th>\n",
       "      <td>전통업소주된음식</td>\n",
       "      <td>float64</td>\n",
       "    </tr>\n",
       "    <tr>\n",
       "      <th>46</th>\n",
       "      <td>홈페이지</td>\n",
       "      <td>float64</td>\n",
       "    </tr>\n",
       "    <tr>\n",
       "      <th>47</th>\n",
       "      <td>Unnamed: 47</td>\n",
       "      <td>float64</td>\n",
       "    </tr>\n",
       "  </tbody>\n",
       "</table>\n",
       "</div>"
      ],
      "text/plain": [
       "          index        0\n",
       "0            번호    int64\n",
       "1        개방서비스명   object\n",
       "2       개방서비스id   object\n",
       "3      개방자치단체코드    int64\n",
       "4          관리번호   object\n",
       "5         인허가일자    int64\n",
       "6       인허가취소일자  float64\n",
       "7      영업상태구분코드    int64\n",
       "8         영업상태명   object\n",
       "9      상세영업상태코드    int64\n",
       "10      상세영업상태명   object\n",
       "11         폐업일자  float64\n",
       "12       휴업시작일자  float64\n",
       "13       휴업종료일자  float64\n",
       "14        재개업일자  float64\n",
       "15        소재지전화   object\n",
       "16        소재지면적   object\n",
       "17      소재지우편번호  float64\n",
       "18      소재지전체주소   object\n",
       "19      도로명전체주소   object\n",
       "20      도로명우편번호  float64\n",
       "21         사업장명   object\n",
       "22       최종수정시점    int64\n",
       "23      데이터갱신구분   object\n",
       "24      데이터갱신일자   object\n",
       "25        업태구분명   object\n",
       "26      좌표정보(x)  float64\n",
       "27      좌표정보(y)  float64\n",
       "28        위생업태명   object\n",
       "29       남성종사자수  float64\n",
       "30       여성종사자수  float64\n",
       "31     영업장주변구분명   object\n",
       "32        등급구분명   object\n",
       "33      급수시설구분명   object\n",
       "34        총종업원수  float64\n",
       "35       본사종업원수  float64\n",
       "36    공장사무직종업원수  float64\n",
       "37    공장판매직종업원수  float64\n",
       "38    공장생산직종업원수  float64\n",
       "39      건물소유구분명   object\n",
       "40          보증액  float64\n",
       "41          월세액  float64\n",
       "42     다중이용업소여부   object\n",
       "43        시설총규모  float64\n",
       "44     전통업소지정번호   object\n",
       "45     전통업소주된음식  float64\n",
       "46         홈페이지  float64\n",
       "47  Unnamed: 47  float64"
      ]
     },
     "execution_count": 3,
     "metadata": {},
     "output_type": "execute_result"
    }
   ],
   "source": [
    "df.dtypes.to_frame().reset_index() #일련번호부여"
   ]
  },
  {
   "cell_type": "code",
   "execution_count": 4,
   "id": "32619fa7",
   "metadata": {},
   "outputs": [
    {
     "data": {
      "text/plain": [
       "(52680, 48)"
      ]
     },
     "execution_count": 4,
     "metadata": {},
     "output_type": "execute_result"
    }
   ],
   "source": [
    "df.shape"
   ]
  },
  {
   "cell_type": "code",
   "execution_count": 5,
   "id": "352dd156",
   "metadata": {},
   "outputs": [
    {
     "data": {
      "text/html": [
       "<div>\n",
       "<style scoped>\n",
       "    .dataframe tbody tr th:only-of-type {\n",
       "        vertical-align: middle;\n",
       "    }\n",
       "\n",
       "    .dataframe tbody tr th {\n",
       "        vertical-align: top;\n",
       "    }\n",
       "\n",
       "    .dataframe thead th {\n",
       "        text-align: right;\n",
       "    }\n",
       "</style>\n",
       "<table border=\"1\" class=\"dataframe\">\n",
       "  <thead>\n",
       "    <tr style=\"text-align: right;\">\n",
       "      <th></th>\n",
       "      <th>번호</th>\n",
       "      <th>개방서비스명</th>\n",
       "      <th>개방서비스id</th>\n",
       "      <th>개방자치단체코드</th>\n",
       "      <th>관리번호</th>\n",
       "      <th>인허가일자</th>\n",
       "      <th>인허가취소일자</th>\n",
       "      <th>영업상태구분코드</th>\n",
       "      <th>영업상태명</th>\n",
       "      <th>상세영업상태코드</th>\n",
       "      <th>...</th>\n",
       "      <th>공장생산직종업원수</th>\n",
       "      <th>건물소유구분명</th>\n",
       "      <th>보증액</th>\n",
       "      <th>월세액</th>\n",
       "      <th>다중이용업소여부</th>\n",
       "      <th>시설총규모</th>\n",
       "      <th>전통업소지정번호</th>\n",
       "      <th>전통업소주된음식</th>\n",
       "      <th>홈페이지</th>\n",
       "      <th>Unnamed: 47</th>\n",
       "    </tr>\n",
       "  </thead>\n",
       "  <tbody>\n",
       "    <tr>\n",
       "      <th>0</th>\n",
       "      <td>1</td>\n",
       "      <td>제과점영업</td>\n",
       "      <td>07_22_18_P</td>\n",
       "      <td>3600000</td>\n",
       "      <td>3600000-121-2013-00002</td>\n",
       "      <td>20130201</td>\n",
       "      <td>NaN</td>\n",
       "      <td>1</td>\n",
       "      <td>영업/정상</td>\n",
       "      <td>1</td>\n",
       "      <td>...</td>\n",
       "      <td>NaN</td>\n",
       "      <td>NaN</td>\n",
       "      <td>NaN</td>\n",
       "      <td>NaN</td>\n",
       "      <td>N</td>\n",
       "      <td>146.4</td>\n",
       "      <td>NaN</td>\n",
       "      <td>NaN</td>\n",
       "      <td>NaN</td>\n",
       "      <td>NaN</td>\n",
       "    </tr>\n",
       "  </tbody>\n",
       "</table>\n",
       "<p>1 rows × 48 columns</p>\n",
       "</div>"
      ],
      "text/plain": [
       "   번호 개방서비스명     개방서비스id  개방자치단체코드                    관리번호     인허가일자  인허가취소일자  \\\n",
       "0   1  제과점영업  07_22_18_P   3600000  3600000-121-2013-00002  20130201      NaN   \n",
       "\n",
       "   영업상태구분코드  영업상태명  상세영업상태코드  ... 공장생산직종업원수  건물소유구분명  보증액  월세액  다중이용업소여부  \\\n",
       "0         1  영업/정상         1  ...       NaN      NaN  NaN  NaN         N   \n",
       "\n",
       "   시설총규모 전통업소지정번호  전통업소주된음식 홈페이지 Unnamed: 47  \n",
       "0  146.4      NaN       NaN  NaN         NaN  \n",
       "\n",
       "[1 rows x 48 columns]"
      ]
     },
     "execution_count": 5,
     "metadata": {},
     "output_type": "execute_result"
    }
   ],
   "source": [
    "df.head(1)"
   ]
  },
  {
   "cell_type": "markdown",
   "id": "a5c15f22",
   "metadata": {},
   "source": [
    "#### 2. 전처리"
   ]
  },
  {
   "cell_type": "code",
   "execution_count": 6,
   "id": "e5b402a7",
   "metadata": {},
   "outputs": [
    {
     "data": {
      "text/plain": [
       "2    33669\n",
       "1    19011\n",
       "Name: 상세영업상태코드, dtype: int64"
      ]
     },
     "execution_count": 6,
     "metadata": {},
     "output_type": "execute_result"
    }
   ],
   "source": [
    "# 상세영업상태코드, 상세영업상태명 개수 추출\n",
    "df['상세영업상태코드'].value_counts() #normalize=True쓰면 비율이 나옴  "
   ]
  },
  {
   "cell_type": "code",
   "execution_count": 7,
   "id": "94b7ccb9",
   "metadata": {},
   "outputs": [
    {
     "data": {
      "text/plain": [
       "폐업    33669\n",
       "영업    19011\n",
       "Name: 상세영업상태명, dtype: int64"
      ]
     },
     "execution_count": 7,
     "metadata": {},
     "output_type": "execute_result"
    }
   ],
   "source": [
    "#1 : 영업, #2 : 폐업\n",
    "df['상세영업상태명'].value_counts()"
   ]
  },
  {
   "cell_type": "code",
   "execution_count": 8,
   "id": "b7d84229",
   "metadata": {},
   "outputs": [
    {
     "data": {
      "text/plain": [
       "NaN           0.360877\n",
       "20030402.0    0.000911\n",
       "20201228.0    0.000892\n",
       "20051229.0    0.000816\n",
       "20060216.0    0.000797\n",
       "                ...   \n",
       "20000612.0    0.000019\n",
       "20031104.0    0.000019\n",
       "20010823.0    0.000019\n",
       "20040108.0    0.000019\n",
       "20210207.0    0.000019\n",
       "Name: 폐업일자, Length: 5689, dtype: float64"
      ]
     },
     "execution_count": 8,
     "metadata": {},
     "output_type": "execute_result"
    }
   ],
   "source": [
    "df['폐업일자'].value_counts(normalize=True,dropna=False)"
   ]
  },
  {
   "cell_type": "code",
   "execution_count": 9,
   "id": "7781ae4a",
   "metadata": {},
   "outputs": [
    {
     "data": {
      "text/html": [
       "<div>\n",
       "<style scoped>\n",
       "    .dataframe tbody tr th:only-of-type {\n",
       "        vertical-align: middle;\n",
       "    }\n",
       "\n",
       "    .dataframe tbody tr th {\n",
       "        vertical-align: top;\n",
       "    }\n",
       "\n",
       "    .dataframe thead th {\n",
       "        text-align: right;\n",
       "    }\n",
       "</style>\n",
       "<table border=\"1\" class=\"dataframe\">\n",
       "  <thead>\n",
       "    <tr style=\"text-align: right;\">\n",
       "      <th></th>\n",
       "      <th>인허가일자</th>\n",
       "      <th>상세영업상태코드</th>\n",
       "      <th>폐업일자</th>\n",
       "      <th>소재지전체주소</th>\n",
       "      <th>사업장명</th>\n",
       "      <th>업태구분명</th>\n",
       "    </tr>\n",
       "  </thead>\n",
       "  <tbody>\n",
       "    <tr>\n",
       "      <th>0</th>\n",
       "      <td>20130201</td>\n",
       "      <td>1</td>\n",
       "      <td>NaN</td>\n",
       "      <td>광주광역시 서구 치평동 1177-2번지 (106,107호)</td>\n",
       "      <td>뚜레쥬르상무역점</td>\n",
       "      <td>제과점영업</td>\n",
       "    </tr>\n",
       "    <tr>\n",
       "      <th>1</th>\n",
       "      <td>20130318</td>\n",
       "      <td>1</td>\n",
       "      <td>NaN</td>\n",
       "      <td>광주광역시 서구 유촌동 868-1번지 (102호)</td>\n",
       "      <td>뚜레쥬르광주버들마을점</td>\n",
       "      <td>제과점영업</td>\n",
       "    </tr>\n",
       "    <tr>\n",
       "      <th>2</th>\n",
       "      <td>20130417</td>\n",
       "      <td>1</td>\n",
       "      <td>NaN</td>\n",
       "      <td>광주광역시 서구 화정동 1611번지 101호102호103호 상가2동</td>\n",
       "      <td>파리바게뜨화정현대점</td>\n",
       "      <td>제과점영업</td>\n",
       "    </tr>\n",
       "  </tbody>\n",
       "</table>\n",
       "</div>"
      ],
      "text/plain": [
       "      인허가일자  상세영업상태코드  폐업일자                                소재지전체주소  \\\n",
       "0  20130201         1   NaN       광주광역시 서구 치평동 1177-2번지 (106,107호)   \n",
       "1  20130318         1   NaN            광주광역시 서구 유촌동 868-1번지 (102호)   \n",
       "2  20130417         1   NaN  광주광역시 서구 화정동 1611번지 101호102호103호 상가2동   \n",
       "\n",
       "          사업장명  업태구분명  \n",
       "0     뚜레쥬르상무역점  제과점영업  \n",
       "1  뚜레쥬르광주버들마을점  제과점영업  \n",
       "2   파리바게뜨화정현대점  제과점영업  "
      ]
     },
     "execution_count": 9,
     "metadata": {},
     "output_type": "execute_result"
    }
   ],
   "source": [
    "# 컬럼 하나하나 살펴봐야 하지만 생략하고 필요 컬럼만 추출\n",
    "bread = df[['인허가일자','상세영업상태코드','폐업일자','소재지전체주소','사업장명','업태구분명']]\n",
    "bread.head(3)"
   ]
  },
  {
   "cell_type": "code",
   "execution_count": 10,
   "id": "f6553a4e",
   "metadata": {},
   "outputs": [
    {
     "data": {
      "text/plain": [
       "0        광주광역시\n",
       "1        광주광역시\n",
       "2        광주광역시\n",
       "3        광주광역시\n",
       "4        광주광역시\n",
       "         ...  \n",
       "52675    울산광역시\n",
       "52676    광주광역시\n",
       "52677    부산광역시\n",
       "52678      경기도\n",
       "52679      경기도\n",
       "Name: 소재지전체주소, Length: 52680, dtype: object"
      ]
     },
     "execution_count": 10,
     "metadata": {},
     "output_type": "execute_result"
    }
   ],
   "source": [
    "# 파생정보 추가 str Accesoor 활용\n",
    "# str.split() 공백이나 탭 등으로 문자열 분리 -> 서울특별시 종로구 ->[서울특별시,종로구,...]\n",
    "bread['소재지전체주소'].str.split().str[0] #-> 공백사이에 , 생김 즉 구분 됨 0,1,3,4 0번째 str, 1번째 str ..."
   ]
  },
  {
   "cell_type": "code",
   "execution_count": 11,
   "id": "5d91fce3",
   "metadata": {},
   "outputs": [
    {
     "data": {
      "text/plain": [
       "제과점영업    52653\n",
       "푸드트럭        16\n",
       "NaN          6\n",
       "룸살롱          1\n",
       "과자점          1\n",
       "한식           1\n",
       "기타           1\n",
       "분식           1\n",
       "Name: 업태구분명, dtype: int64"
      ]
     },
     "execution_count": 11,
     "metadata": {},
     "output_type": "execute_result"
    }
   ],
   "source": [
    "bread['업태구분명'].value_counts(dropna=False)"
   ]
  },
  {
   "cell_type": "code",
   "execution_count": 12,
   "id": "8b50ac42",
   "metadata": {},
   "outputs": [
    {
     "data": {
      "text/plain": [
       "0                   [광주광역시, 서구, 치평동, 1177-2번지, (106,107호)]\n",
       "1                        [광주광역시, 서구, 유촌동, 868-1번지, (102호)]\n",
       "2             [광주광역시, 서구, 화정동, 1611번지, 101호102호103호, 상가2동]\n",
       "3                                [광주광역시, 북구, 운암동, 110-5번지]\n",
       "4                            [광주광역시, 북구, 오치동, 578-4번지, 1층]\n",
       "                               ...                        \n",
       "52675    [울산광역시, 울주군, 삼동면, 보은리, 산, 193-1, 외11필지(1층), 휴게소동]\n",
       "52676                               [광주광역시, 남구, 월산동, 33-3]\n",
       "52677                   [부산광역시, 중구, 중앙동7가, 20-1, 롯데백화점광복점]\n",
       "52678                        [경기도, 군포시, 산본동, 90-7, 1층, 일부]\n",
       "52679                  [경기도, 성남시, 분당구, 수내동, 114-1, 1층, 일부]\n",
       "Name: 소재지전체주소, Length: 52680, dtype: object"
      ]
     },
     "execution_count": 12,
     "metadata": {},
     "output_type": "execute_result"
    }
   ],
   "source": [
    "bread['소재지전체주소'].str.split()"
   ]
  },
  {
   "cell_type": "code",
   "execution_count": 13,
   "id": "ce8b2129",
   "metadata": {},
   "outputs": [
    {
     "data": {
      "text/html": [
       "<div>\n",
       "<style scoped>\n",
       "    .dataframe tbody tr th:only-of-type {\n",
       "        vertical-align: middle;\n",
       "    }\n",
       "\n",
       "    .dataframe tbody tr th {\n",
       "        vertical-align: top;\n",
       "    }\n",
       "\n",
       "    .dataframe thead th {\n",
       "        text-align: right;\n",
       "    }\n",
       "</style>\n",
       "<table border=\"1\" class=\"dataframe\">\n",
       "  <thead>\n",
       "    <tr style=\"text-align: right;\">\n",
       "      <th></th>\n",
       "      <th>인허가일자</th>\n",
       "      <th>상세영업상태코드</th>\n",
       "      <th>폐업일자</th>\n",
       "      <th>소재지전체주소</th>\n",
       "      <th>사업장명</th>\n",
       "      <th>업태구분명</th>\n",
       "    </tr>\n",
       "  </thead>\n",
       "  <tbody>\n",
       "    <tr>\n",
       "      <th>1055</th>\n",
       "      <td>20010713</td>\n",
       "      <td>1</td>\n",
       "      <td>NaN</td>\n",
       "      <td>서울특별시 은평구 대조동 179-8 1,2층</td>\n",
       "      <td>파리바게뜨(역촌역점)</td>\n",
       "      <td>제과점영업</td>\n",
       "    </tr>\n",
       "    <tr>\n",
       "      <th>1056</th>\n",
       "      <td>20030507</td>\n",
       "      <td>1</td>\n",
       "      <td>NaN</td>\n",
       "      <td>서울특별시 은평구 갈현동 508-4번지 1층</td>\n",
       "      <td>파리바게뜨</td>\n",
       "      <td>제과점영업</td>\n",
       "    </tr>\n",
       "  </tbody>\n",
       "</table>\n",
       "</div>"
      ],
      "text/plain": [
       "         인허가일자  상세영업상태코드  폐업일자                   소재지전체주소         사업장명  업태구분명\n",
       "1055  20010713         1   NaN  서울특별시 은평구 대조동 179-8 1,2층  파리바게뜨(역촌역점)  제과점영업\n",
       "1056  20030507         1   NaN  서울특별시 은평구 갈현동 508-4번지 1층        파리바게뜨  제과점영업"
      ]
     },
     "execution_count": 13,
     "metadata": {},
     "output_type": "execute_result"
    }
   ],
   "source": [
    "# 서울소재 제과점영업만 추출\n",
    "condition1 = bread['소재지전체주소'].str.split().str[0] == '서울특별시'\n",
    "condition2 = bread['업태구분명'] == '제과점영업'\n",
    "bread = bread[condition1 & condition2]\n",
    "bread.head(2)"
   ]
  },
  {
   "cell_type": "code",
   "execution_count": 14,
   "id": "03397331",
   "metadata": {},
   "outputs": [
    {
     "name": "stdout",
     "output_type": "stream",
     "text": [
      "(52680, 48) (12052, 6)\n"
     ]
    }
   ],
   "source": [
    "# 원 데이터에서 얼마나 줄었는지 확인\n",
    "print(df.shape, bread.shape) "
   ]
  },
  {
   "cell_type": "code",
   "execution_count": 15,
   "id": "281e2b2c",
   "metadata": {},
   "outputs": [
    {
     "data": {
      "text/plain": [
       "Index(['인허가일자', '상세영업상태코드', '폐업일자', '소재지전체주소', '사업장명', '업태구분명', '구명', '동명'], dtype='object')"
      ]
     },
     "execution_count": 15,
     "metadata": {},
     "output_type": "execute_result"
    }
   ],
   "source": [
    "# bread데이터에서 구명, 동명 추출해서 새로운 컬럼으로 추가\n",
    "# 서울특별시, 은평구, 대조동, 179-8, 1,2층 , 확인해서 0,1,2,\n",
    "bread['구명'] = bread['소재지전체주소'].str.split().str[1]\n",
    "bread['동명'] = bread['소재지전체주소'].str.split().str[2]\n",
    "bread.columns"
   ]
  },
  {
   "cell_type": "code",
   "execution_count": 16,
   "id": "e621b796",
   "metadata": {},
   "outputs": [],
   "source": [
    "bread.to_csv('./data/bread_t1.csv',index=False)"
   ]
  },
  {
   "cell_type": "code",
   "execution_count": 17,
   "id": "ad538108",
   "metadata": {},
   "outputs": [
    {
     "data": {
      "text/html": [
       "<div>\n",
       "<style scoped>\n",
       "    .dataframe tbody tr th:only-of-type {\n",
       "        vertical-align: middle;\n",
       "    }\n",
       "\n",
       "    .dataframe tbody tr th {\n",
       "        vertical-align: top;\n",
       "    }\n",
       "\n",
       "    .dataframe thead th {\n",
       "        text-align: right;\n",
       "    }\n",
       "</style>\n",
       "<table border=\"1\" class=\"dataframe\">\n",
       "  <thead>\n",
       "    <tr style=\"text-align: right;\">\n",
       "      <th></th>\n",
       "      <th>인허가일자</th>\n",
       "      <th>상세영업상태코드</th>\n",
       "      <th>폐업일자</th>\n",
       "      <th>소재지전체주소</th>\n",
       "      <th>사업장명</th>\n",
       "      <th>업태구분명</th>\n",
       "      <th>구명</th>\n",
       "      <th>동명</th>\n",
       "    </tr>\n",
       "  </thead>\n",
       "  <tbody>\n",
       "    <tr>\n",
       "      <th>0</th>\n",
       "      <td>20010713</td>\n",
       "      <td>1</td>\n",
       "      <td>NaN</td>\n",
       "      <td>서울특별시 은평구 대조동 179-8 1,2층</td>\n",
       "      <td>파리바게뜨(역촌역점)</td>\n",
       "      <td>제과점영업</td>\n",
       "      <td>은평구</td>\n",
       "      <td>대조동</td>\n",
       "    </tr>\n",
       "    <tr>\n",
       "      <th>1</th>\n",
       "      <td>20030507</td>\n",
       "      <td>1</td>\n",
       "      <td>NaN</td>\n",
       "      <td>서울특별시 은평구 갈현동 508-4번지 1층</td>\n",
       "      <td>파리바게뜨</td>\n",
       "      <td>제과점영업</td>\n",
       "      <td>은평구</td>\n",
       "      <td>갈현동</td>\n",
       "    </tr>\n",
       "    <tr>\n",
       "      <th>2</th>\n",
       "      <td>20021011</td>\n",
       "      <td>1</td>\n",
       "      <td>NaN</td>\n",
       "      <td>서울특별시 은평구 녹번동 278-1번지 (108호)</td>\n",
       "      <td>신라명과(역촌현대점)</td>\n",
       "      <td>제과점영업</td>\n",
       "      <td>은평구</td>\n",
       "      <td>녹번동</td>\n",
       "    </tr>\n",
       "  </tbody>\n",
       "</table>\n",
       "</div>"
      ],
      "text/plain": [
       "      인허가일자  상세영업상태코드  폐업일자                       소재지전체주소         사업장명  업태구분명  \\\n",
       "0  20010713         1   NaN      서울특별시 은평구 대조동 179-8 1,2층  파리바게뜨(역촌역점)  제과점영업   \n",
       "1  20030507         1   NaN      서울특별시 은평구 갈현동 508-4번지 1층        파리바게뜨  제과점영업   \n",
       "2  20021011         1   NaN  서울특별시 은평구 녹번동 278-1번지 (108호)  신라명과(역촌현대점)  제과점영업   \n",
       "\n",
       "    구명   동명  \n",
       "0  은평구  대조동  \n",
       "1  은평구  갈현동  \n",
       "2  은평구  녹번동  "
      ]
     },
     "execution_count": 17,
     "metadata": {},
     "output_type": "execute_result"
    }
   ],
   "source": [
    "bread = pd.read_csv('bread_t1.csv')\n",
    "bread.head(3)"
   ]
  },
  {
   "cell_type": "code",
   "execution_count": 18,
   "id": "f2647714",
   "metadata": {},
   "outputs": [
    {
     "data": {
      "text/plain": [
       "<NA>    1\n",
       "NaN     1\n",
       "dtype: int64"
      ]
     },
     "execution_count": 18,
     "metadata": {},
     "output_type": "execute_result"
    }
   ],
   "source": [
    "s = pd.Series([pd.NA,np.nan])\n",
    "s.value_counts(dropna=False)"
   ]
  },
  {
   "cell_type": "code",
   "execution_count": 19,
   "id": "ca9612db",
   "metadata": {},
   "outputs": [
    {
     "data": {
      "text/plain": [
       "인허가일자          0\n",
       "상세영업상태코드       0\n",
       "폐업일자        3955\n",
       "소재지전체주소        0\n",
       "사업장명           0\n",
       "업태구분명          0\n",
       "구명             0\n",
       "동명             0\n",
       "dtype: int64"
      ]
     },
     "execution_count": 19,
     "metadata": {},
     "output_type": "execute_result"
    }
   ],
   "source": [
    "# 폐업일자는 왜 이렇게 많을까? 영업중인 가게는 폐업일자에 표시할 필요가 없으니깐\n",
    "bread.isna().sum()"
   ]
  },
  {
   "cell_type": "code",
   "execution_count": 20,
   "id": "6006e2e7",
   "metadata": {},
   "outputs": [
    {
     "data": {
      "text/plain": [
       "인허가일자        int64\n",
       "상세영업상태코드     int64\n",
       "폐업일자         int64\n",
       "소재지전체주소     object\n",
       "사업장명        object\n",
       "업태구분명       object\n",
       "구명          object\n",
       "동명          object\n",
       "dtype: object"
      ]
     },
     "execution_count": 20,
     "metadata": {},
     "output_type": "execute_result"
    }
   ],
   "source": [
    "# 아래 코드를 작성하고 윗 코드를 실행하면 폐업일자 결측치가 없는 것을 확인할 수 있다.\n",
    "bread['폐업일자'] = bread['폐업일자'].fillna(0.0).astype('int64')\n",
    "bread.dtypes"
   ]
  },
  {
   "cell_type": "code",
   "execution_count": 21,
   "id": "a044d134",
   "metadata": {},
   "outputs": [
    {
     "data": {
      "text/plain": [
       "0"
      ]
     },
     "execution_count": 21,
     "metadata": {},
     "output_type": "execute_result"
    }
   ],
   "source": [
    "#bread.isna().sum() # 컬럼 별 결측치\n",
    "bread.isna().sum().sum() # 전체 결측치"
   ]
  },
  {
   "cell_type": "code",
   "execution_count": 22,
   "id": "52c7c447",
   "metadata": {},
   "outputs": [
    {
     "data": {
      "text/plain": [
       "(12052, 6)"
      ]
     },
     "execution_count": 22,
     "metadata": {},
     "output_type": "execute_result"
    }
   ],
   "source": [
    "bread = bread.drop(columns =['소재지전체주소','업태구분명'])\n",
    "bread.shape"
   ]
  },
  {
   "cell_type": "code",
   "execution_count": 23,
   "id": "52ee3f7c",
   "metadata": {},
   "outputs": [
    {
     "data": {
      "text/html": [
       "<div>\n",
       "<style scoped>\n",
       "    .dataframe tbody tr th:only-of-type {\n",
       "        vertical-align: middle;\n",
       "    }\n",
       "\n",
       "    .dataframe tbody tr th {\n",
       "        vertical-align: top;\n",
       "    }\n",
       "\n",
       "    .dataframe thead th {\n",
       "        text-align: right;\n",
       "    }\n",
       "</style>\n",
       "<table border=\"1\" class=\"dataframe\">\n",
       "  <thead>\n",
       "    <tr style=\"text-align: right;\">\n",
       "      <th></th>\n",
       "      <th>인허가일자</th>\n",
       "      <th>상세코드</th>\n",
       "      <th>폐업일자</th>\n",
       "      <th>사업장명</th>\n",
       "      <th>구명</th>\n",
       "      <th>동명</th>\n",
       "    </tr>\n",
       "  </thead>\n",
       "  <tbody>\n",
       "    <tr>\n",
       "      <th>0</th>\n",
       "      <td>20010713</td>\n",
       "      <td>1</td>\n",
       "      <td>0</td>\n",
       "      <td>파리바게뜨(역촌역점)</td>\n",
       "      <td>은평구</td>\n",
       "      <td>대조동</td>\n",
       "    </tr>\n",
       "    <tr>\n",
       "      <th>1</th>\n",
       "      <td>20030507</td>\n",
       "      <td>1</td>\n",
       "      <td>0</td>\n",
       "      <td>파리바게뜨</td>\n",
       "      <td>은평구</td>\n",
       "      <td>갈현동</td>\n",
       "    </tr>\n",
       "  </tbody>\n",
       "</table>\n",
       "</div>"
      ],
      "text/plain": [
       "      인허가일자  상세코드  폐업일자         사업장명   구명   동명\n",
       "0  20010713     1     0  파리바게뜨(역촌역점)  은평구  대조동\n",
       "1  20030507     1     0        파리바게뜨  은평구  갈현동"
      ]
     },
     "execution_count": 23,
     "metadata": {},
     "output_type": "execute_result"
    }
   ],
   "source": [
    "# 상세영업상태코드 길어서 상세코드로 변경\n",
    "bread = bread.rename(columns={'상세영업상태코드':'상세코드'})\n",
    "bread.head(2)"
   ]
  },
  {
   "cell_type": "code",
   "execution_count": 24,
   "id": "ed9d5236",
   "metadata": {},
   "outputs": [
    {
     "data": {
      "text/html": [
       "<div>\n",
       "<style scoped>\n",
       "    .dataframe tbody tr th:only-of-type {\n",
       "        vertical-align: middle;\n",
       "    }\n",
       "\n",
       "    .dataframe tbody tr th {\n",
       "        vertical-align: top;\n",
       "    }\n",
       "\n",
       "    .dataframe thead th {\n",
       "        text-align: right;\n",
       "    }\n",
       "</style>\n",
       "<table border=\"1\" class=\"dataframe\">\n",
       "  <thead>\n",
       "    <tr style=\"text-align: right;\">\n",
       "      <th></th>\n",
       "      <th>인허가일자</th>\n",
       "      <th>상세코드</th>\n",
       "      <th>폐업일자</th>\n",
       "      <th>사업장명</th>\n",
       "      <th>구명</th>\n",
       "      <th>동명</th>\n",
       "    </tr>\n",
       "  </thead>\n",
       "  <tbody>\n",
       "    <tr>\n",
       "      <th>0</th>\n",
       "      <td>20010713</td>\n",
       "      <td>1</td>\n",
       "      <td>0</td>\n",
       "      <td>파리바게뜨(역촌역점)</td>\n",
       "      <td>은평구</td>\n",
       "      <td>대조동</td>\n",
       "    </tr>\n",
       "    <tr>\n",
       "      <th>1</th>\n",
       "      <td>20030507</td>\n",
       "      <td>1</td>\n",
       "      <td>0</td>\n",
       "      <td>파리바게뜨</td>\n",
       "      <td>은평구</td>\n",
       "      <td>갈현동</td>\n",
       "    </tr>\n",
       "    <tr>\n",
       "      <th>2</th>\n",
       "      <td>20021011</td>\n",
       "      <td>1</td>\n",
       "      <td>0</td>\n",
       "      <td>신라명과(역촌현대점)</td>\n",
       "      <td>은평구</td>\n",
       "      <td>녹번동</td>\n",
       "    </tr>\n",
       "    <tr>\n",
       "      <th>3</th>\n",
       "      <td>20011015</td>\n",
       "      <td>1</td>\n",
       "      <td>0</td>\n",
       "      <td>브르망</td>\n",
       "      <td>은평구</td>\n",
       "      <td>불광동</td>\n",
       "    </tr>\n",
       "    <tr>\n",
       "      <th>4</th>\n",
       "      <td>20050406</td>\n",
       "      <td>1</td>\n",
       "      <td>0</td>\n",
       "      <td>케잌하우스밀레</td>\n",
       "      <td>중랑구</td>\n",
       "      <td>중화동</td>\n",
       "    </tr>\n",
       "    <tr>\n",
       "      <th>...</th>\n",
       "      <td>...</td>\n",
       "      <td>...</td>\n",
       "      <td>...</td>\n",
       "      <td>...</td>\n",
       "      <td>...</td>\n",
       "      <td>...</td>\n",
       "    </tr>\n",
       "    <tr>\n",
       "      <th>12047</th>\n",
       "      <td>20201218</td>\n",
       "      <td>2</td>\n",
       "      <td>20201225</td>\n",
       "      <td>나폴레옹과자점</td>\n",
       "      <td>서초구</td>\n",
       "      <td>반포동</td>\n",
       "    </tr>\n",
       "    <tr>\n",
       "      <th>12048</th>\n",
       "      <td>20201218</td>\n",
       "      <td>2</td>\n",
       "      <td>20201225</td>\n",
       "      <td>르몽블랑</td>\n",
       "      <td>서초구</td>\n",
       "      <td>반포동</td>\n",
       "    </tr>\n",
       "    <tr>\n",
       "      <th>12049</th>\n",
       "      <td>20210119</td>\n",
       "      <td>2</td>\n",
       "      <td>20210220</td>\n",
       "      <td>리암스(Liam's)</td>\n",
       "      <td>서초구</td>\n",
       "      <td>반포동</td>\n",
       "    </tr>\n",
       "    <tr>\n",
       "      <th>12050</th>\n",
       "      <td>20210125</td>\n",
       "      <td>2</td>\n",
       "      <td>20210215</td>\n",
       "      <td>유한회사 카페노티드(한시적)</td>\n",
       "      <td>강남구</td>\n",
       "      <td>압구정동</td>\n",
       "    </tr>\n",
       "    <tr>\n",
       "      <th>12051</th>\n",
       "      <td>20201208</td>\n",
       "      <td>2</td>\n",
       "      <td>20210315</td>\n",
       "      <td>고오급 빵집</td>\n",
       "      <td>동작구</td>\n",
       "      <td>사당동</td>\n",
       "    </tr>\n",
       "  </tbody>\n",
       "</table>\n",
       "<p>12052 rows × 6 columns</p>\n",
       "</div>"
      ],
      "text/plain": [
       "          인허가일자  상세코드      폐업일자             사업장명   구명    동명\n",
       "0      20010713     1         0      파리바게뜨(역촌역점)  은평구   대조동\n",
       "1      20030507     1         0            파리바게뜨  은평구   갈현동\n",
       "2      20021011     1         0      신라명과(역촌현대점)  은평구   녹번동\n",
       "3      20011015     1         0              브르망  은평구   불광동\n",
       "4      20050406     1         0          케잌하우스밀레  중랑구   중화동\n",
       "...         ...   ...       ...              ...  ...   ...\n",
       "12047  20201218     2  20201225          나폴레옹과자점  서초구   반포동\n",
       "12048  20201218     2  20201225             르몽블랑  서초구   반포동\n",
       "12049  20210119     2  20210220      리암스(Liam's)  서초구   반포동\n",
       "12050  20210125     2  20210215  유한회사 카페노티드(한시적)  강남구  압구정동\n",
       "12051  20201208     2  20210315           고오급 빵집  동작구   사당동\n",
       "\n",
       "[12052 rows x 6 columns]"
      ]
     },
     "execution_count": 24,
     "metadata": {},
     "output_type": "execute_result"
    }
   ],
   "source": [
    "bread.to_csv('./data/bread_after.csv',index=False)\n",
    "bread = pd.read_csv('./data/bread_after.csv')\n",
    "bread"
   ]
  },
  {
   "cell_type": "markdown",
   "id": "f7d90080",
   "metadata": {},
   "source": [
    "#### 3. 서울 어디에 제과점을 오픈할까?"
   ]
  },
  {
   "cell_type": "code",
   "execution_count": 25,
   "id": "704381ef",
   "metadata": {},
   "outputs": [
    {
     "data": {
      "text/html": [
       "<div>\n",
       "<style scoped>\n",
       "    .dataframe tbody tr th:only-of-type {\n",
       "        vertical-align: middle;\n",
       "    }\n",
       "\n",
       "    .dataframe tbody tr th {\n",
       "        vertical-align: top;\n",
       "    }\n",
       "\n",
       "    .dataframe thead th {\n",
       "        text-align: right;\n",
       "    }\n",
       "</style>\n",
       "<table border=\"1\" class=\"dataframe\">\n",
       "  <thead>\n",
       "    <tr style=\"text-align: right;\">\n",
       "      <th></th>\n",
       "      <th>인허가일자</th>\n",
       "      <th>상세코드</th>\n",
       "      <th>폐업일자</th>\n",
       "      <th>사업장명</th>\n",
       "      <th>구명</th>\n",
       "      <th>동명</th>\n",
       "      <th>설립년도</th>\n",
       "      <th>폐업년도</th>\n",
       "    </tr>\n",
       "  </thead>\n",
       "  <tbody>\n",
       "    <tr>\n",
       "      <th>0</th>\n",
       "      <td>20010713</td>\n",
       "      <td>1</td>\n",
       "      <td>0</td>\n",
       "      <td>파리바게뜨(역촌역점)</td>\n",
       "      <td>은평구</td>\n",
       "      <td>대조동</td>\n",
       "      <td>2001</td>\n",
       "      <td>0</td>\n",
       "    </tr>\n",
       "    <tr>\n",
       "      <th>1</th>\n",
       "      <td>20030507</td>\n",
       "      <td>1</td>\n",
       "      <td>0</td>\n",
       "      <td>파리바게뜨</td>\n",
       "      <td>은평구</td>\n",
       "      <td>갈현동</td>\n",
       "      <td>2003</td>\n",
       "      <td>0</td>\n",
       "    </tr>\n",
       "    <tr>\n",
       "      <th>2</th>\n",
       "      <td>20021011</td>\n",
       "      <td>1</td>\n",
       "      <td>0</td>\n",
       "      <td>신라명과(역촌현대점)</td>\n",
       "      <td>은평구</td>\n",
       "      <td>녹번동</td>\n",
       "      <td>2002</td>\n",
       "      <td>0</td>\n",
       "    </tr>\n",
       "    <tr>\n",
       "      <th>3</th>\n",
       "      <td>20011015</td>\n",
       "      <td>1</td>\n",
       "      <td>0</td>\n",
       "      <td>브르망</td>\n",
       "      <td>은평구</td>\n",
       "      <td>불광동</td>\n",
       "      <td>2001</td>\n",
       "      <td>0</td>\n",
       "    </tr>\n",
       "    <tr>\n",
       "      <th>4</th>\n",
       "      <td>20050406</td>\n",
       "      <td>1</td>\n",
       "      <td>0</td>\n",
       "      <td>케잌하우스밀레</td>\n",
       "      <td>중랑구</td>\n",
       "      <td>중화동</td>\n",
       "      <td>2005</td>\n",
       "      <td>0</td>\n",
       "    </tr>\n",
       "  </tbody>\n",
       "</table>\n",
       "</div>"
      ],
      "text/plain": [
       "      인허가일자  상세코드  폐업일자         사업장명   구명   동명  설립년도  폐업년도\n",
       "0  20010713     1     0  파리바게뜨(역촌역점)  은평구  대조동  2001     0\n",
       "1  20030507     1     0        파리바게뜨  은평구  갈현동  2003     0\n",
       "2  20021011     1     0  신라명과(역촌현대점)  은평구  녹번동  2002     0\n",
       "3  20011015     1     0          브르망  은평구  불광동  2001     0\n",
       "4  20050406     1     0      케잌하우스밀레  중랑구  중화동  2005     0"
      ]
     },
     "execution_count": 25,
     "metadata": {},
     "output_type": "execute_result"
    }
   ],
   "source": [
    "# 설립년도와 폐업년도 확인하기 \n",
    "# 연산자 계산 나중에 datetime으로 해보기\n",
    "bread[['인허가일자','폐업일자']]\n",
    "year = bread['인허가일자']//10000\n",
    "month = bread['인허가일자']//100 % 100\n",
    "day = bread['인허가일자'] % 100\n",
    "bread['설립년도'] =  bread['인허가일자']//10000\n",
    "bread['폐업년도'] =  bread['폐업일자']//10000\n",
    "bread.head()"
   ]
  },
  {
   "cell_type": "code",
   "execution_count": 26,
   "id": "32714bb5",
   "metadata": {},
   "outputs": [
    {
     "data": {
      "text/plain": [
       "0    2021\n",
       "1    2021\n",
       "dtype: int64"
      ]
     },
     "execution_count": 26,
     "metadata": {},
     "output_type": "execute_result"
    }
   ],
   "source": [
    "s = pd.Series(['20210101','20210330'])\n",
    "s.str[:4].astype('int64')"
   ]
  },
  {
   "cell_type": "code",
   "execution_count": 27,
   "id": "2ecc6449",
   "metadata": {},
   "outputs": [
    {
     "data": {
      "text/plain": [
       "0        2001\n",
       "1        2003\n",
       "2        2002\n",
       "3        2001\n",
       "4        2005\n",
       "         ... \n",
       "12047    2020\n",
       "12048    2020\n",
       "12049    2021\n",
       "12050    2021\n",
       "12051    2020\n",
       "Name: 인허가일자, Length: 12052, dtype: int64"
      ]
     },
     "execution_count": 27,
     "metadata": {},
     "output_type": "execute_result"
    }
   ],
   "source": [
    "#datetime 사용\n",
    "temp = pd.to_datetime(bread['인허가일자'],format='%Y%m%d')\n",
    "temp.dt.year"
   ]
  },
  {
   "cell_type": "code",
   "execution_count": 28,
   "id": "91fbec88",
   "metadata": {},
   "outputs": [],
   "source": [
    "# 컬럼 이름 바꿀 때 오타 발생으로 수정\n",
    "bread = bread.rename(columns={'상세코드':'상태코드'})"
   ]
  },
  {
   "cell_type": "code",
   "execution_count": 29,
   "id": "8b795365",
   "metadata": {},
   "outputs": [
    {
     "data": {
      "text/html": [
       "<div>\n",
       "<style scoped>\n",
       "    .dataframe tbody tr th:only-of-type {\n",
       "        vertical-align: middle;\n",
       "    }\n",
       "\n",
       "    .dataframe tbody tr th {\n",
       "        vertical-align: top;\n",
       "    }\n",
       "\n",
       "    .dataframe thead th {\n",
       "        text-align: right;\n",
       "    }\n",
       "</style>\n",
       "<table border=\"1\" class=\"dataframe\">\n",
       "  <thead>\n",
       "    <tr style=\"text-align: right;\">\n",
       "      <th></th>\n",
       "      <th>인허가일자</th>\n",
       "      <th>상태코드</th>\n",
       "      <th>폐업일자</th>\n",
       "      <th>사업장명</th>\n",
       "      <th>구명</th>\n",
       "      <th>동명</th>\n",
       "      <th>설립년도</th>\n",
       "      <th>폐업년도</th>\n",
       "      <th>영업기간</th>\n",
       "    </tr>\n",
       "  </thead>\n",
       "  <tbody>\n",
       "    <tr>\n",
       "      <th>12049</th>\n",
       "      <td>20210119</td>\n",
       "      <td>2</td>\n",
       "      <td>20210220</td>\n",
       "      <td>리암스(Liam's)</td>\n",
       "      <td>서초구</td>\n",
       "      <td>반포동</td>\n",
       "      <td>2021</td>\n",
       "      <td>2021</td>\n",
       "      <td>1.0</td>\n",
       "    </tr>\n",
       "    <tr>\n",
       "      <th>12050</th>\n",
       "      <td>20210125</td>\n",
       "      <td>2</td>\n",
       "      <td>20210215</td>\n",
       "      <td>유한회사 카페노티드(한시적)</td>\n",
       "      <td>강남구</td>\n",
       "      <td>압구정동</td>\n",
       "      <td>2021</td>\n",
       "      <td>2021</td>\n",
       "      <td>1.0</td>\n",
       "    </tr>\n",
       "    <tr>\n",
       "      <th>12051</th>\n",
       "      <td>20201208</td>\n",
       "      <td>2</td>\n",
       "      <td>20210315</td>\n",
       "      <td>고오급 빵집</td>\n",
       "      <td>동작구</td>\n",
       "      <td>사당동</td>\n",
       "      <td>2020</td>\n",
       "      <td>2021</td>\n",
       "      <td>2.0</td>\n",
       "    </tr>\n",
       "  </tbody>\n",
       "</table>\n",
       "</div>"
      ],
      "text/plain": [
       "          인허가일자  상태코드      폐업일자             사업장명   구명    동명  설립년도  폐업년도  영업기간\n",
       "12049  20210119     2  20210220      리암스(Liam's)  서초구   반포동  2021  2021   1.0\n",
       "12050  20210125     2  20210215  유한회사 카페노티드(한시적)  강남구  압구정동  2021  2021   1.0\n",
       "12051  20201208     2  20210315           고오급 빵집  동작구   사당동  2020  2021   2.0"
      ]
     },
     "execution_count": 29,
     "metadata": {},
     "output_type": "execute_result"
    }
   ],
   "source": [
    "# 영업기간 컬럼 추가하기\n",
    "# 영업기간 = 현재년도 - 설립년도 + 1\n",
    "# 폐업인 경우에는 폐업년도 - 설립년도 + 1\n",
    "# nyear = today.year\n",
    "nyear = 2021\n",
    "bread.loc[bread['상태코드']==1,'영업기간'] = nyear - bread['설립년도'] + 1\n",
    "bread.loc[bread['상태코드']==2,'영업기간'] = bread['폐업년도'] - bread['설립년도'] + 1\n",
    "bread.tail(3)"
   ]
  },
  {
   "cell_type": "code",
   "execution_count": 30,
   "id": "97d26064",
   "metadata": {},
   "outputs": [
    {
     "data": {
      "text/html": [
       "<div>\n",
       "<style scoped>\n",
       "    .dataframe tbody tr th:only-of-type {\n",
       "        vertical-align: middle;\n",
       "    }\n",
       "\n",
       "    .dataframe tbody tr th {\n",
       "        vertical-align: top;\n",
       "    }\n",
       "\n",
       "    .dataframe thead th {\n",
       "        text-align: right;\n",
       "    }\n",
       "</style>\n",
       "<table border=\"1\" class=\"dataframe\">\n",
       "  <thead>\n",
       "    <tr style=\"text-align: right;\">\n",
       "      <th></th>\n",
       "      <th>1952</th>\n",
       "      <th>1965</th>\n",
       "      <th>1966</th>\n",
       "      <th>1967</th>\n",
       "      <th>1968</th>\n",
       "      <th>1969</th>\n",
       "      <th>1970</th>\n",
       "      <th>1971</th>\n",
       "      <th>1972</th>\n",
       "      <th>1973</th>\n",
       "      <th>...</th>\n",
       "      <th>2012</th>\n",
       "      <th>2013</th>\n",
       "      <th>2014</th>\n",
       "      <th>2015</th>\n",
       "      <th>2016</th>\n",
       "      <th>2017</th>\n",
       "      <th>2018</th>\n",
       "      <th>2019</th>\n",
       "      <th>2020</th>\n",
       "      <th>2021</th>\n",
       "    </tr>\n",
       "  </thead>\n",
       "  <tbody>\n",
       "    <tr>\n",
       "      <th>설립년도</th>\n",
       "      <td>1</td>\n",
       "      <td>1</td>\n",
       "      <td>1</td>\n",
       "      <td>11</td>\n",
       "      <td>5</td>\n",
       "      <td>10</td>\n",
       "      <td>20</td>\n",
       "      <td>12</td>\n",
       "      <td>9</td>\n",
       "      <td>5</td>\n",
       "      <td>...</td>\n",
       "      <td>378</td>\n",
       "      <td>431</td>\n",
       "      <td>474</td>\n",
       "      <td>572</td>\n",
       "      <td>644</td>\n",
       "      <td>623</td>\n",
       "      <td>538</td>\n",
       "      <td>546</td>\n",
       "      <td>502</td>\n",
       "      <td>433</td>\n",
       "    </tr>\n",
       "  </tbody>\n",
       "</table>\n",
       "<p>1 rows × 58 columns</p>\n",
       "</div>"
      ],
      "text/plain": [
       "      1952  1965  1966  1967  1968  1969  1970  1971  1972  1973  ...  2012  \\\n",
       "설립년도     1     1     1    11     5    10    20    12     9     5  ...   378   \n",
       "\n",
       "      2013  2014  2015  2016  2017  2018  2019  2020  2021  \n",
       "설립년도   431   474   572   644   623   538   546   502   433  \n",
       "\n",
       "[1 rows x 58 columns]"
      ]
     },
     "execution_count": 30,
     "metadata": {},
     "output_type": "execute_result"
    }
   ],
   "source": [
    "# 설립년도 별 데이터 수를 구해서 정렬\n",
    "temp1 = bread['설립년도'].value_counts().sort_index().to_frame().T\n",
    "temp1"
   ]
  },
  {
   "cell_type": "code",
   "execution_count": 31,
   "id": "b141653c",
   "metadata": {},
   "outputs": [
    {
     "data": {
      "text/html": [
       "<div>\n",
       "<style scoped>\n",
       "    .dataframe tbody tr th:only-of-type {\n",
       "        vertical-align: middle;\n",
       "    }\n",
       "\n",
       "    .dataframe tbody tr th {\n",
       "        vertical-align: top;\n",
       "    }\n",
       "\n",
       "    .dataframe thead th {\n",
       "        text-align: right;\n",
       "    }\n",
       "</style>\n",
       "<table border=\"1\" class=\"dataframe\">\n",
       "  <thead>\n",
       "    <tr style=\"text-align: right;\">\n",
       "      <th></th>\n",
       "      <th>0</th>\n",
       "      <th>1984</th>\n",
       "      <th>1988</th>\n",
       "      <th>1989</th>\n",
       "      <th>1990</th>\n",
       "      <th>1991</th>\n",
       "      <th>1992</th>\n",
       "      <th>1993</th>\n",
       "      <th>1994</th>\n",
       "      <th>1995</th>\n",
       "      <th>...</th>\n",
       "      <th>2012</th>\n",
       "      <th>2013</th>\n",
       "      <th>2014</th>\n",
       "      <th>2015</th>\n",
       "      <th>2016</th>\n",
       "      <th>2017</th>\n",
       "      <th>2018</th>\n",
       "      <th>2019</th>\n",
       "      <th>2020</th>\n",
       "      <th>2021</th>\n",
       "    </tr>\n",
       "  </thead>\n",
       "  <tbody>\n",
       "    <tr>\n",
       "      <th>폐업년도</th>\n",
       "      <td>3955</td>\n",
       "      <td>1</td>\n",
       "      <td>2</td>\n",
       "      <td>1</td>\n",
       "      <td>33</td>\n",
       "      <td>4</td>\n",
       "      <td>35</td>\n",
       "      <td>29</td>\n",
       "      <td>16</td>\n",
       "      <td>24</td>\n",
       "      <td>...</td>\n",
       "      <td>475</td>\n",
       "      <td>374</td>\n",
       "      <td>396</td>\n",
       "      <td>447</td>\n",
       "      <td>469</td>\n",
       "      <td>612</td>\n",
       "      <td>518</td>\n",
       "      <td>514</td>\n",
       "      <td>515</td>\n",
       "      <td>349</td>\n",
       "    </tr>\n",
       "  </tbody>\n",
       "</table>\n",
       "<p>1 rows × 36 columns</p>\n",
       "</div>"
      ],
      "text/plain": [
       "      0     1984  1988  1989  1990  1991  1992  1993  1994  1995  ...  2012  \\\n",
       "폐업년도  3955     1     2     1    33     4    35    29    16    24  ...   475   \n",
       "\n",
       "      2013  2014  2015  2016  2017  2018  2019  2020  2021  \n",
       "폐업년도   374   396   447   469   612   518   514   515   349  \n",
       "\n",
       "[1 rows x 36 columns]"
      ]
     },
     "execution_count": 31,
     "metadata": {},
     "output_type": "execute_result"
    }
   ],
   "source": [
    "temp2 = bread['폐업년도'].value_counts().sort_index().to_frame().T\n",
    "temp2"
   ]
  },
  {
   "cell_type": "code",
   "execution_count": 32,
   "id": "71a72493",
   "metadata": {},
   "outputs": [
    {
     "data": {
      "text/html": [
       "<div>\n",
       "<style scoped>\n",
       "    .dataframe tbody tr th:only-of-type {\n",
       "        vertical-align: middle;\n",
       "    }\n",
       "\n",
       "    .dataframe tbody tr th {\n",
       "        vertical-align: top;\n",
       "    }\n",
       "\n",
       "    .dataframe thead th {\n",
       "        text-align: right;\n",
       "    }\n",
       "</style>\n",
       "<table border=\"1\" class=\"dataframe\">\n",
       "  <thead>\n",
       "    <tr style=\"text-align: right;\">\n",
       "      <th></th>\n",
       "      <th>1952</th>\n",
       "      <th>1965</th>\n",
       "      <th>1966</th>\n",
       "      <th>1967</th>\n",
       "      <th>1968</th>\n",
       "      <th>1969</th>\n",
       "      <th>1970</th>\n",
       "      <th>1971</th>\n",
       "      <th>1972</th>\n",
       "      <th>1973</th>\n",
       "      <th>...</th>\n",
       "      <th>2013</th>\n",
       "      <th>2014</th>\n",
       "      <th>2015</th>\n",
       "      <th>2016</th>\n",
       "      <th>2017</th>\n",
       "      <th>2018</th>\n",
       "      <th>2019</th>\n",
       "      <th>2020</th>\n",
       "      <th>2021</th>\n",
       "      <th>0</th>\n",
       "    </tr>\n",
       "  </thead>\n",
       "  <tbody>\n",
       "    <tr>\n",
       "      <th>설립년도</th>\n",
       "      <td>1.0</td>\n",
       "      <td>1.0</td>\n",
       "      <td>1.0</td>\n",
       "      <td>11.0</td>\n",
       "      <td>5.0</td>\n",
       "      <td>10.0</td>\n",
       "      <td>20.0</td>\n",
       "      <td>12.0</td>\n",
       "      <td>9.0</td>\n",
       "      <td>5.0</td>\n",
       "      <td>...</td>\n",
       "      <td>431</td>\n",
       "      <td>474</td>\n",
       "      <td>572</td>\n",
       "      <td>644</td>\n",
       "      <td>623</td>\n",
       "      <td>538</td>\n",
       "      <td>546</td>\n",
       "      <td>502</td>\n",
       "      <td>433</td>\n",
       "      <td>NaN</td>\n",
       "    </tr>\n",
       "    <tr>\n",
       "      <th>폐업년도</th>\n",
       "      <td>NaN</td>\n",
       "      <td>NaN</td>\n",
       "      <td>NaN</td>\n",
       "      <td>NaN</td>\n",
       "      <td>NaN</td>\n",
       "      <td>NaN</td>\n",
       "      <td>NaN</td>\n",
       "      <td>NaN</td>\n",
       "      <td>NaN</td>\n",
       "      <td>NaN</td>\n",
       "      <td>...</td>\n",
       "      <td>374</td>\n",
       "      <td>396</td>\n",
       "      <td>447</td>\n",
       "      <td>469</td>\n",
       "      <td>612</td>\n",
       "      <td>518</td>\n",
       "      <td>514</td>\n",
       "      <td>515</td>\n",
       "      <td>349</td>\n",
       "      <td>3955.0</td>\n",
       "    </tr>\n",
       "  </tbody>\n",
       "</table>\n",
       "<p>2 rows × 59 columns</p>\n",
       "</div>"
      ],
      "text/plain": [
       "      1952  1965  1966  1967  1968  1969  1970  1971  1972  1973  ...  2013  \\\n",
       "설립년도   1.0   1.0   1.0  11.0   5.0  10.0  20.0  12.0   9.0   5.0  ...   431   \n",
       "폐업년도   NaN   NaN   NaN   NaN   NaN   NaN   NaN   NaN   NaN   NaN  ...   374   \n",
       "\n",
       "      2014  2015  2016  2017  2018  2019  2020  2021    0     \n",
       "설립년도   474   572   644   623   538   546   502   433     NaN  \n",
       "폐업년도   396   447   469   612   518   514   515   349  3955.0  \n",
       "\n",
       "[2 rows x 59 columns]"
      ]
     },
     "execution_count": 32,
     "metadata": {},
     "output_type": "execute_result"
    }
   ],
   "source": [
    "temp = pd.concat([temp1,temp2],axis=0,join='outer')\n",
    "temp"
   ]
  },
  {
   "cell_type": "code",
   "execution_count": 33,
   "id": "9ce47bb7",
   "metadata": {},
   "outputs": [
    {
     "name": "stdout",
     "output_type": "stream",
     "text": [
      "['파리바게뜨(역촌역점)', '파리바게뜨', '신라명과(역촌현대점)', '브르망', '케잌하우스밀레', '뚜레쥬르', '파리바게뜨(우림시장점)', '뚜레쥬르사가정역점', '몽블랑제(신내점)', '파리바게뜨', '파리바게뜨 용마산역점', '파리바게뜨 중화역점', '델리카리', '파리바게뜨 사가정점', '뚜레쥬르용마산역점', '빵나라', '케익하우스 쥬떼므', '던킨도너츠 먹골점', '파리바게뜨 면목역점', '빵이가득한집', '빵이가득한집', '파리바게뜨면목중앙점', '몽블랑제 면목점', '우림베이커리', '따끈따끈방이야기', '파리바게뜨종암점', '파리바게트', '상제리아베이커리', '투썸플레이스엔타워점', '외계인방앗간 문정점', '앨리스 베이커리 카페', '스위트 팔레트 케이크(sweet palette cake)', '그리리', '도담도담식빵 고덕점', '태극당 District C점', '유한회사 마미갸또금천', '리블리롱제과', '빚은 오금역점', '정수제빵소', '어썸 도넛 서울', '포레포레', '판이판 베이커리', '나폴레옹과자점', '홍미당', '브레드82(Bread82)', '밀포레이트', '브레댄코 신도림역점', '연재스토리즈', '서라당', '미미가미미(米米加味美)', '파리바게뜨(당산포스빌)', '몽쥬 빠티세리(Monge patisserie)', '뚜레쥬르 카페강남대로점', '모찌모찌브레드', '파리크라상 서울대병원점', '수고한 나에게', '르솔레이', '파이앤브라우니', '(주)신세계푸드 트레이더스월계점', '롤링핀 신대방삼거리역점', '프롬프랑(fromfranc)', '그럼,', '좋은 아침 pastry', '서울연인', '(주)파리크라상 파리바게뜨 은평성모병원점', '온베이커리', '153도씨', '브리오슈도레 종로타워점', '브리오슈도레 그랑서울점', '제이몬티', '뚜레쥬르 카페신촌점', '다음에또봐', '기프트(Gift)', '서울연인단팥빵', '슈가파티', '던킨 서울대병원점', '해피데이', '밀브레드(Mill Bread)', '김태우 과자점', '뚜레쥬르 상계점', '글림', '바른 고로케', '마호가니 커피 연세대학교 공학관점', '파파스브로트', '스몰오븐', '오흐뒤구떼(heure du gouter)', '(주)이지에프앤비', '블랑제리가마', '크리스피크림영등포점', 'Seasonable bakery(시즈너블 베이커리)', '칸텐', '하오나공방', '파리바게뜨 신대방역점', '쿠아레비 구산', '뚜레쥬르 북아현진로마트점', '(주)떡메가', '유한회사 카페노티드', '우뺑', '카페 드 몽슈슈', '도담도담식빵 상도점', '제로베이커리', '드엠(DeM)', '그래, 좋아', '크리에잇쿠키', '영스데이(O`DAY)', '그랜드하얏트서울델리', '라쁘띠메종', '(주)케르반레스토랑 베이커리', '케르반베이커리', '빵나라베이커리', '르시앙블랑', '비엔디 베이커리', '이스탄불딜라이트 2호점', '브레드웨이', '파리바게뜨 안암역점', '굿베이커리(불광점)', '정승만베이커리', '그리다디저트컴퍼니', '식빵공방', '수가 만든 빵', '델리베이커리', '빵굽는사랑방', '뚜레쥬르 불광아울렛점(2)', '바로굼빵터', '파리바게뜨(역말사거리점)', '파리바게뜨 대림시장점', '빵마을', '준베이커리', '파리바게뜨불광점', '파리바게트남영역점', '파리바게뜨 은평행복점', '파리바게뜨', '파리바게뜨', '바로굼빵터', '파리바게트', '아티장베이커스', '더베이크드바이셰프리(THE BAKED BY CHEF LEE)', '파리바게트(불광현대)', '뚜레쥬르', '블랑제리 은평점', '(주)신세계푸드밀크앤허니용산점', '주재근베이커리', '파리크라상', '케익하우스미호', '칸베이커리', '뚜레쥬르 불광 현대점', '파리바게뜨도원삼성점', '파리바게뜨도원삼성점', '베이커리오월의종', '파리바게뜨(용산후암점)', '밀크앤허니 용산점(Milk&Honey)', '초이1982', '빵굽는쉐프의꿈', '블록베이커리 길음점', '빵빵한연구소', '봄눈슬듯', '키다리 아저씨', '고대빵', '파리바게뜨 신촌2호점', '산토리니의하루', '꽃,가루', 'NoBS(놉스)', '파리바게뜨연희안산점', '파리바게트 홍제역점', '꽃피운달', '팡야 빵야', '베이커리 프랑세즈', '화선베이커리', '폼드팡 불광점', '정민베이커리', '코코브레드', '파리바게뜨 서부병원점', 'JY슈가룸', '파리바깨드월곡두산', '장베이커리', '아리랑 빵집', '빵굼터착한빵집', '파리바게트(정릉청수점)', '파리바게트(길음역점)', '파리바게뜨 길음래미안점', '나폴레옹', '파리바게트 한성대역점', '복고다방', '샤뽀블랑', '슬로우브레드파파', '파리바게뜨 장위참누리점', '파리바게뜨 정릉서경점', '다온브레드', '오해피 투게더', '뚜레쥬르(종암노블레스)', '파리바게트', '몽블랑제(주)월곡점', '크리스피파이 은평뉴타운점', '디저트플러스', '뚜레쥬르(길음뉴타운점)', '메종 드 루즈', '마일라', '주스쿠키', 'Happy 310', '이지바이', '브레덴코 응암점', '애니버서리', 'LA FLANERIE(라플라느리)', '송베이커리', '하얀풍차', '비올렛베이커리', '꽈배기나라', '베이커스 에비뉴', '파리바게트(은평진관점)', '브레드앤밀 은평', '파리바게뜨(석계두산점)', '파리바게뜨까페하월곡동일점', '모닝베이커리', '이루카 베이커리', '더르빵', '파리바게트가좌중앙점', '뚜레쥬르 독립문', '파리바게트홍은벽산', '파리바게뜨 정릉점', '파리바게뜨(정릉국민대점)', '그랑프리', '파리바게뜨 장위동방점', '비알코리아(주) 던킨도너츠 성신여대역사점', '뚜레쥬르(아리랑삼거리점)', '몽 블랑제(Mon Boulanger)', '진미당', '뚜레주르보문역점', '뚜레쥬르동선브라운스톤점', '부자당', '파리바게뜨 동덕여대점', '던킨도너츠 연신내역사점', '로드리스 베이커리', '블랑제리', '고대빵', '파리바게뜨(종암사거리점)', '(주)신세계푸드 이베이커리 미아점', '빵이 가득한 집', '파리바게트 정릉국민대점 2호', '팔공티 성신여대점', '쥬르드쥬아', '(주)신세계푸드 이베이커리 하월곡점', '빵굽는아저씨', '파리바게뜨 아리랑고개점', '홈플러스베이커리(주)보문점', '안스베이커리', '도레도레 롯데몰 은평점', '카페 1981 은평지점', '띠에르노 과자점', '비나케이크', '파리바게뜨', '베이커리 카페 몽소', '파리바게뜨 연세대학교점', '포노포노', '뚜레쥬르상월곡역', '씨유 장위동방점', '뚜레쥬르.시카고', '파리바게트(동소문한신점)', '꽈배기나라 2호점', '파리바게뜨 독바위역점', '프라빈커피&데일리브레드 독바위역점', '브레드 제플린', '쿠아레 비', '던킨도너츠 구파발역점', '라본느타르트(맛있는파이)', '위싱 케이크', '우리동네 식빵', '베즐리 미아점', '파리바게뜨연희점', '빠네뜨리과자점', '파리바게뜨', '판테레체', '뚜레쥬르카페 안암역점', '앤티앤스', '파파브레드', '뚜레쥬르(종암점)', '파리바게뜨후암신흥점', '빠띠델리', '비어드파파', '코레일유통(주)앤티앤스프레즐서울역점', '쁘앙집', '(주)파리크라상 샌드위치 서울역점', '(주)파리크라상 서울역점', '파리바게뜨 원효로1가점', '독일베이커리', '패션5(Passion5)한남점', '파리바게트 엘에스점', '뚜레쥬르용산리첸시아점', '파리바게뜨(월곡동아지점)', '황준호베이커리', '파리바게뜨(불광역점)', '청춘식빵', '파리바게뜨 아현점', '밀크앤허니', '지유가오카브레드', '쌀람베이커리', '굿베이커리', '바로굼빵터', '코코호도 은평뉴타운점', '델리명과', '파리바게뜨은평뉴타운 5단지점', '파리바게뜨 은평뉴타운2지구점', '파리바게뜨은평신사점', '또래명과', '브래드05', '코레일유통(주)뚜레쥬르', '그랜드머큐어 알라메종', '파리바게뜨', '크릉추어몽', '파리바게뜨 구산연서점', '파리바게뜨구산역점', '파리바게뜨', '외계인방앗간원효로', '뚜레쥬르이태원점', '파리바게뜨 새절역점', '라임과자점', '코코호도(길음점)', '파리바게트', '파리바게트', '코티지로프', '파티시에고재석', '언니의식빵가게용산점', '삼송빵집용산아이파크몰점', '롤링핀순천향서울병원점', '고대빵', '신라명과 길음뉴타운점', '밀곳간', '빵장수 단팥빵 성북구점', '와플하우스', '샹제르망', '뚜레쥬르월곡두산점', '파리바게뜨 서부병원점', '파리바게뜨 연신내', '파리바게트(불광로데오)', '(주)신세계푸드 이베이커리 수색점', '피자마루', '파리바게뜨보문역점', '파리바게트 성신여대점', '빵이 가득한 집', '서대문 엄마손 꽈배기', '이지베이커리', '빵이 가득한 집', '뚜레쥬르 은평뉴타운점', '아리랑', '던킨도너츠공항철도서울역사점', '빈스앤베리즈 서울역1호점', '빈스앤베리즈 서울역2호점', '코코호도동부이촌점', 'SPC 삼립 빚은 서울역점', '베이커리오월의종', '파리바게트연신내역점', '빵쭈루', '뚜레쥬르 갈현시장점', '비알코리아(주)던킨도너츠 한성대역사점', '모드에', '본부쉬(bonne bouche)', '파리바게뜨 이태원경리단점', '파리바게뜨 디지털미디어시티역점', '파리바게뜨 동부이촌점', 'POULSBO(폴스보)', '빵사부 식빵공방 동덕여대점', '파리바게뜨(만리점)', '베이커리몽소', '블랑제리', '파리바게뜨 연대이화점', '파리바게뜨', '(주)신세계푸드베이커리목동점', '(주)신세계푸드이베이커리영등포점', '식빵이야기신풍래미안점', '르뽀미에여의도KBS점', '웻즐스프레즐', '파이나무', '미뇽', '베즐리베이커리', '파리바게트 서대문행복점', '파리바게트', '외계인 방앗간 은평뉴타운점', '나눌베이커리', '파리바게뜨 카페이대역점', '낭만달(Nangmandal)', '뚜레쥬르 응암오거리', '파리바게뜨 가재울뉴타운점', '웬디 베이커리', \"baker kim's(베이커 킴스)\", '파리바게뜨(은평구청점)', '훼밀리', 'PATICIEL(빠띠씨엘)', '라향', '던킨도너츠 위례아이파크점', '뚜레쥬르', '케이아이파크 브레드스톡', '빵굽는아빠', '와플대학', '파니피카', '뚜레쥬르', '홈플러스몽블랑제영등포점', '파리바게뜨', '케익하우스잼르', '뚜레쥬르목4동점', '티나의 식빵', '베떼엠', '시냇가에 심은 나무', '뚜레쥬르 가재울점', '목동망개떡(오목교점)', 'Bread Shop Amsterdam(브레드샵 암스테르담)', '파리바게뜨명지대점', '파리바게뜨 카페신촌점', '파리바게트', '파리바게뜨 가재울래미안점', '카페 1981 은평2지점', '오브레드(O bread)', '행운식품 롯데마트 은평점', '바로굽는빵집', '뚜레쥬르 증산역점', '빚은연희점', '파리바게뜨 연희대우점', '스프링클베이글', '수라', '또바기빵', '아모르버터', '슈크레동목동', '푸드엠파이어 업타운 베이커리', '파리바게뜨충암점', '브레댄코 새절역점', '슈앤카롱', '별셋공예', '아미드뺑', '파리바게뜨', '빵이야기', '랑스제과점', '브리아몽 베이커리', '아비앙또베이커리', 'GS25 역촌평화점', '베이커리 프랑세즈', '마실중(ing)', '파리바게트 증산역점', '파리바게트(녹번점)', '파리바게트 갈현로데오점', '독일빵집', '아띠베이커리', '쿠키파티 델키스', '르봉 마리아쥬', '바른빵집 롯데백화점 잠실 캐슬프라자점', '파리바게트', '케익나라오즈', '파리바게뜨', '뚜레쥬르 (은평구청점)', '파리바게트역촌2호점', '알프스과자점', '크라운제과', '엘모리아케이크', '늘솜베이커리', '파리바게뜨당산행복점', '파리바게뜨', '도로시과자점', '파리바게뜨정릉풍림점', '파리바게뜨(정릉대림점)', '(주)현대그린푸드베즐리 신촌점', '빵이야기(bread story)', '코코호도목동점', '빵이가득한집', '크리스피 파이 목동점', '업타운 카페', '파리바게뜨 동소문점', '알레스구떼', '늘프랑과자점', '블루밀', '산토리니의아침목동점', '오!해피데이', '파리바게뜨(양천구청점)', '굿베이커리', '굿베이커리', '파랑베이커리', '한나식빵 응암점', '밀파네(응암점)', '주재근베이커리 홍제', '이화당', '파리바게뜨(길음동부점)', '폴스카페', '꽃담은라이스케이크', '파리바게트', '식빵전문점 오늘', '레브', '네네루카', '파리바게트홍은점', '뺑라팡', '피터팬', '파리바게뜨홍제인왕점', '나폴레옹', '뚜레쥬르 홍제역점', '그래인스', '파리바게트', '파리바게뜨 당산롯데점', '파리바게뜨(대림현대점)', '카터알맘', '뚜레쥬르', '서커스래빗', '파리바게뜨 사러가', '(주)SPC삼립베이커리팩토리빅마켓영등포점', '베이커리(BAKERY)신정2점', '한스케잌', '파리바게뜨 신월5동점', '퍼스트브레드', '파리바게트', '파리바게뜨', '(주)신세계푸드 이베이커리 신월점', '파리바게뜨(신정네거리역점)', '스위티브레드', '파리바게뜨여의도점', '아띠베이커리', '파리바게뜨', '그래인스쿠키', '좋은아침', '뚜레쥬르남부법원점', '빵장수단팥빵', '롤링핀KBS변관점', '(주)파블로코리아', '신목파리바게뜨', '파리바게뜨오목교역점', '파리바게뜨 서대문구청점', \"봉's 브레드\", '언니의 식빵가게 목동점', '베라앤', '피터팬제과점', '유성용베이커리', '파리바게뜨대림역점', '파리바게뜨여의도2호점', '해피데이', '파리바게뜨신풍역점', '뚜레쥬르서서울공원점', '파리크라상 목동점', '입허전', '해피데이', '파리바게트파리공원점', '엘리제이', '파리바게트(신정갈산점)', '파리바게뜨가좌역점', '앤티앤스', '뚜레쥬르양천캐슬(2)점', '꿈더하기베이커리', '파리바게뜨 양평비즈타워점', '경회루뺄띠에', '코스트코홀세일베이커리', '랑주', '(주)신세계푸드베이커리목동점', '엘리스과자점', '베이커리(BAKERY)신정점', '파리바게뜨 신정점', '웰빙쌀빵', '파리바게트한강성심병원', '파리바게뜨', '아띠베이커리', '페라', '곤트란쉐리에', '파리바게트도림점', '파리바게트(대림성모점)', '블랑제리가마', '명지춘혜병원제빵실', '길도넛', '한처음우리밀빵프티플뢰르', '파리바게뜨KBS여의도점', '오늘의빵', '파리바게뜨신길성애점', '로띠르베이커리', '유일한베이커리', '레빵뺑', '바켄도르프과자점', '코코호도', '파리바게뜨 송파역점', '파리바게뜨 가락중앙점', '아마레띠', '파리바게뜨(신정역점)', '파리바게뜨', '빵이가득한집', '주)현대그린푸드 베즐리케익 앤 델리', '파리바게뜨 목동사랑', '파리바게뜨 신월7동점', '(주)지에스리테일 목동7점', '홍종흔베이커리(송파점)', '옐로우 바게트', '뚜레쥬르 거여역점', '베이커리(BAKERY)신정3점', '파리베이커리', '브레댄코 북가좌점', '베이커리(BAKERY)목동점', '(주)신세계푸드이베이커리영등포점', '나폴레옹제과점IFC몰점', '던킨도너츠연세안과병원점', '오르리단팥빵', '홈플러스도림점', '브레댄코', '뚜레쥬르(선유도역점)', '(주)신세계푸드이베이커리영등포점', '루소랩GS N타워점', '빵빵데이', '파리바게뜨 목2점', '(주)현대그린푸드 베즐리 베이커리', '사라베이커리', '카멜리온', '베이커리(BAKERY)', '브레스트과자점', '파리바게뜨 신월사거리', '목동망개떡(본점)', '파리바게트', '뚜레쥬르문래역점', '파리바게뜨서남병원점', '브레드킹', '파리바게뜨 목3동점', '파리바게뜨 영등포대우점', '카페르엘리스파이', '브레드컴퍼니쉐프조(BREAD COMPANY CHEF.CHO)', '핫브레드당산역점', '파리바게트양천푸른점', '파스쿠찌 홍제역점', '샐리의달콤한베이킹', '파리바게뜨', '파리바게뜨 영등포점', '파리바게뜨신길돈보스코', '베이커리여의도점', '더메나주리', '던킨도너츠 가재울뉴타운점', '브레드05(주)', '브래드밀레', '해피비지트', \"밥아저씨빵(BOB'S BREAD)\", '언니네', '파리바게뜨 중랑역점', '데이앤데이묵동점', '브레드잇(BREADEAT) 서울의료원점', '스타베이커리', '신성묵과자점', '(주)신세계푸드 이베이커리 상봉점', '코코호도 신내점', '식빵구르미', '골목빵집', '코스트코홀세일베이커리', '에센브르 제과점', '밀로베이커리', '신라명과', '빵긋한하루', '아몬드', '씨엘', '몽블랑제 상봉점', '몽블랑제 상봉점', '몽블랑제 상봉점', '브레드 원', '동부고려제과', '파리바게뜨상봉역점', '인디오븐 면목점', '브래드 850 BREAD', '파블로', '콰이옹스라팡(Croyance Lapin)파리공원점', '빵굼터 착한빵집', '빵굼터', '파리바게뜨 신내우디안점', '델리셔스', '미스터도넛 면목점', '파리바게뜨(문래역점)', '파리바게뜨', '파리바게뜨망우중앙', '엔젤스', '몽블랑제 면목점', '파리바게뜨(신내중앙점)', '해피데이', '(주)신세계푸드 데이앤데이 묵동점', '빵야베이커리', '뚜레쥬르', 'JO2', '팡도리노베이커리', '파리바게뜨선유로점', '코코호도여의도중앙점', '엘리스파이', '브레드하우스인', '케잌하우스 프티', '레드팡과자점', '마인츠돔 과자점', '파리바게뜨목동역점', '파리바게트(망우겸재점)', '임마누엘베이커리', '오네뜨', '파리바게뜨(봉화산역점)', '안스베이커리', '베이커리오월의종', '크리스피크림 잠실점', \"동's 베이커리\", '파리바게트 학마을점', '몽블랑제 잠실점', '파리바게뜨방이1동점', 'BunBread(번브레드)', '브레드05', '뚜레쥬르 여의서로점', '파리크라상여의도2호점', '빚은목동파리공원', '건강한 네모의 하루', '나폴레옹과자점', '파리바게뜨', '칸베이커리', '한증실업(주)', '(주)아워홈 카페클라시코 트윈점', '몽블랑제(P-BIN)', '폴앤폴리나', '뚜레쥬르영등포역', '코코호도가락점', '파리바게뜨 장지역점', '비엔블랑(Viennboulang)', '파리바게뜨 올림픽승리', '63베이커리(63BAKERY)', '욥', '라본비', '라쌍떼(LA SANTE)', '뚜레쥬르영등포도림점', '움트', '브레드05', '고메브래드', '라이프플러스카페접견실', '도레도레(DoreDore)롯데영등포점', '파리바게뜨 신내제일점', '만나빵집', '몽블랑제 면목점', '브레드밀', '이지바이(봉화산점)', '몽블랑제(주)신내점행사매대', '해피데이', '맛나당', '뚜레쥬르 대림3동점', '파리바게뜨신길역점', '파리바게뜨유스호스텔점', '파리바게뜨도림사거리점', '던킨도너츠 목동현대점', '그래인스', '홈플러스신길2점', '브레드05', '뚜레쥬르 잠실새내점', '엘샤다이 과자점', '삼송빵집 잠실광장점', '코스트코홀세일베이커리', '치보베이커리', '파리바게뜨', '메종드팡과자점', '파리바게뜨(타임스퀘어점)', '홈앤브레드', '파리바게뜨선유도역', '크롬미(CROME)', '엘.피(L.P)', '브레드클럽', '뚜레쥬르대림우성점', '파리크라상여의도점', '안스베이커리', '파리바게뜨 양재역', '블랑제리 왕십리점', '(주)신세계푸드 베이커리 청계천점', '보난자(BONANZA)', '뺑드미', '별앤별', '노아베이커리 잠실엘스점', '파리바게뜨 위례호수공원점', '델디아', '르 보네르', '즉석빵', '이성당 잠실점', '삼삼', '(주)올가홀푸드 방이점', '파리바게뜨 파크리오 2호점', '빵이가득한마을', '파리바게뜨 잠실스타', '이성당 카페', '파리바게뜨(가락시장역점)', '핫브레드 송파역점', '더 베이크(THE BAKE)', '나폴레옹 과자점', '파리바게뜨답십리역점', '로얄', '뚜레쥬르 종로점', '서울빵집', '성심식품', '풀무원 푸드앤 컬처', '파리바게트(응봉점)', '행복한빵집', '블랑제리 성수점', '파리바게뜨 서울역 YTN점', '파리바게트 카페약수점', '(주)파리크라상 리나스 숭례문점', '빵고을', '파리바게뜨 잠실리센츠점', '뚜레쥬르', '라이스파이', 'SPC삼립 답례떡 전문 빚은 양재점', '이츠 브레드', '던킨도너츠 양재사옥점', '태순당 즉석빵', '이츠 브래드', '파리바게뜨 잠실 월드비전점', '뺑도르', '포숑', '경주황남빵 롯데월드몰', '파리바게트 신금호역점', '파리바게트 신금호역점', '어니스크', '오륜 브레드(ORYUN BREAD)', '홈플러스 베이커리 송파점', '코른베르그', '잠실 제빵소', '마카롱스퀘어', '루루네', '라뚜셩트(La Touchante)', '프로머스 베이크샵(Fromers bakeshop)', '이그렉', '미네뜨(MINETTE)', '달렘(Dal:lem)', '순화동빵집', '호두까까', '파리바게뜨신길대신', '파리바게뜨 도림푸르지오점', '(주)현대그린푸드 신한카드', '델', '일식코코엔', '맛있는빵집', '달마이어(Dallmayr)', '스윗디', '파리바게뜨 강남역점', '파리바게뜨 헬리오시티점', '파리바게뜨여의경도상가', '도레도레 용산아이파크몰점', '일릴리', '마카롱데이', '파리크라상 이대서울병원점', '한나식빵 명지대점', '언덕마을 식빵', '우부래도', '데이앤데이', '달다루', '스마일명품꽈배기', '아뜰리에 이곶', '팡쥬르', '간결한 대답', '마닐다닐', '아임오케익', '페이브베이커리 연남점', '노블베이커리', '신월당', 'RIBBON Stage (리본 스테이지)', '스위트 셉템버', '하니지니', '케이크케이크', '바이랩커피', '와이딘', '카페코너스(몽블랑제 상봉점)', '콕시 가로수점', '코코호도상암DMC점', '뚜레쥬르 강동성심병원점', '쏘옥(SSO-OK)', '따팡', '감구당', '하르딘리코', '뚜레쥬르광장힐스테이트점', '뚜레쥬르 CJ ENM 커머스부문점', '나르다720(NARDA720)', '디저트 온(Dessert 온)', '롤링핀 DDP점', '주식회사 브랜뉴하이몬드', '인디오븐', '릴리브 연남점(relieve)', '뚜레쥬르문래6가점', '내일, 마카롱', '팡 더 레체', \"Kim's bread(수제식빵 전문점)\", '쇼토(Shoto)', '쥬마뺄(Je mappelle)', '빽다방 신사사거리점', '빽다방 신논현역점', '파리바게뜨', '다락방케이크', '파리바게트 은평뉴타운3지구점', '뚜레쥬르 곰달래점', '(주)현대그린푸드한국교직원공제회', '베즐리', '(주)현대그린푸드 카페베즐리 오토웨이타워점', '뚜레쥬르 면목점', '러스틱오븐', '모노슬로', '나폴레옹제과점 롯데강남점', '뚜레쥬르 문래6가점', '빵드몽', '오헨', '몽블랑제 4층 코너스', '몽블랑제 1층 코너스', '폼베르', '브레드원', '굿브레드', '파리바게뜨 송파센트레빌점', '파리바게뜨 방이사거리점', '파리바게뜨 방이시장점', '김태우과자점', '쥬벨베이커리', '빵사랑베이커리', '몽블랑제 잠실점', '넓은평야', '빵파라다이스', '파리바게뜨 대방역점', '파리바게뜨 오목교점', '베이커리(BAKERY)목동2호점', '우리동네식빵', '파티세리 몽슈슈 현대백화점 목동점', '뚜레쥬르(문래 하이테크점)', '코코호도 당산점', '홈플러스신길3점', '김성환베이커리', '팡코', '도로시', '그래인스', '신아보호작업장(신아해피베이커리)', '파리바게뜨 잠실장미점', '파리바게뜨 풍납사랑점', '쁘띠그랑', 'TOMO(토모)', '도쿄 크레팡', '뺑드에코', '마블트리(Mable Tree)', '침착하고느린손', '연디저트', '빵굼터(제조)', '모찌모찌', '모닝베이커리', '얌샘', '파리 바게트(동대문역점)', '꾸리찌바', '파리바게뜨까페(옥수역점)', '멜피아이스크림', '코코호도 서소문점', '델리카티슨', '델리카한스(Delica Hans)', '실란트로베이커리', '브레댄코 동대입구점', '파리바게뜨 석촌점', '파리바게뜨 올림픽', '브레드 앤 밀', '르 빵 티65 (Le Pain T65)', '오늘은빵굽는날', '던킨도너츠', '종로복떡방', '앤티앤스 아산병원점', '파리바게뜨 성동구민회관점', '파리바게뜨문정중앙점', \"레스쁘아 플러스 (Le'spoir plus)\", '빵(zip)', '프랑제리 NC송파', '파리바게뜨 풍납초교점', '빵샘 제빵소', 'HANS(한스)', '파리바게뜨 문정컬쳐밸리점', '뚜레쥬르 문정법조단지점', '이복근 베이커리', '팥고당 (잠실점)', '케익오페라', '케익앤플라워', '더 메나쥬리 강남점', '사랑의베이커리', '코스트코홀세일 베이커리', '빵의정석', '빵언니의식빵공장', '뚜레쥬르(성수역점)', '뚜레쥬르 잠실점', '뚜레쥬르 위례아이파크점', '식빵 이야기', '파리바게뜨 레이크펠리스점', '파리바게뜨 레이크펠리스점', '뚜레쥬르 배명사거리', '코코호도성수점', '뚜레쥬르', '뚜레쥬르', '파리바게트(왕십리무학점)', '파리바게뜨(문정현대점)', '아우어베이커리 롯데잠실점', '공주떡집', 'hoophoop 베이글(hoophoop bagel)', '이베이커리 가든파이브점', '블랑제리 성수점', '블랑제리 왕십리점', '왕십리텐즈힐 파리바게트', '성수동 밀도', '파리바게뜨 금호1가점', '파리바게뜨 뚝섬역점', '파리바게뜨 마장역점', '샹도르', '이즈브레드', '베이커 길드', '식빵은 여기 메가커피', '홍종흔 베이커리(올림픽점)', '파리바게뜨 송파래미안점', '킹베이커리', '더 쟁이', '단하나 케이크', '파리마들렌(왕십리)', '브레드 앤 밀', '뚜레쥬르 왕십리민자역사점', '빵굼터착한빵집', '파리바게뜨(옥수점)-제조', '신라명과(송파점)', '브레드 솜', '그레인 제빵소', '뚜레쥬르 올림픽공원역점', '베즐리베이커리', '해피브레드', '토시리', '(주)지에스리테일 GS수퍼 송파위례점', '파리바게뜨 올림픽점', '잠실밀도', '던킨 CF 연세세브란스빌딩', '파리바게뜨 잠실엘스점', '파리바게뜨 잠실파크리오점', '브래드림', '파리바게뜨 풍납점', 'MIN Bakery(민 베이커리)', '라온', '옥수동 밀도', '비알코리아(주) 던킨도너츠 양재역사점', '리블랑제', '파리바게뜨 신천역점', '도노(Dono)', 'Le pain(르빵)', '파리바게뜨오금역점', '파리바게뜨 방이역점', '파리바게뜨(거여역점)', '파리바게뜨 갤러리아팰리스점', '시그니엘 페이스트리 살롱', '파리바게뜨 문정카페점', '빵터진 유명인', '뚜레쥬르마천사거리점', '파리바게뜨마천점', '뚜레쥬르', '빠띠시에', '마고', '파리바게뜨삼전점', '파리바게뜨 개롱역점', '뚜레쥬르센티움점', '파리바게뜨문정동점', '크리스피크림 잠실롯데월드몰점', '나폴레옹제과점', '엘샤다이과자점', '파리바게뜨방이점', '밀라노베이커리', '크라운베이커리독립문', '이삭', '파리바게뜨(청와대점)', '뚜레쥬르 금호힐스테이트점', '츄로빅 롯데월드 어드벤쳐점', '파리바게뜨 위례아이파크점', '이슬베이커리', '나폴레옹제과점', '파리바게뜨 송파푸르지오점', '파리바게뜨 잠실우성점', '뚜레쥬르 송파황실점', '파리바게트 잠실5단지점', '오챠드마마', '부케도르', '퀸타일아저씨', '빵선생 행당점', '마로니에', '던킨도너츠 송파장지역점', '마호가니 커피 홈플러스 잠실점', '에잇비돌체 월드타워점', '파리바게뜨 금호역점', '핫브레드 성수역점', '엣지 브라운', '(주)하루노유키', '파리바게뜨왕십리민자역사점', '빠삐용베이커리(PAPILLON BAKERY)', '오! 파이', '이미선의 빵아틀리에', '시그니엘 페이스트리 살롱 주방', '프소미', '델리카한스', '델리카한스', '파리바게뜨종로5가점', '져먼베이커리', '파리바게뜨 송파한양점', '부케도르', '루시카토', '본노엘(BON NOEL)', '파리바게트', '파리바게뜨 마장대로점', '파리바게뜨 성동금호점', '뚜레쥬르', 'Flavors Patisserie(플레이버즈 파티세리)', '그랑프리베이커리', '시밀레(Simile)', '피노(PINO)', '화수분베이커리', '뚜레쥬르 명동역점', '그라츠과자점', '사단법인서울클럽(델리)', '경회루', '(주)파리크라상 파리바게뜨 서울역사점', '패스트리 부티크', '파리바게뜨서소문점', '파리바게트', 'Chobay(초베이)', '오즈룸', '단석가찰보리빵', '그래도 사랑해', '뚜레쥬르신설동역점', '포도나무 베이커리', '빵궁전', '비알코리아(주)던킨도너츠', '파리바게트(동국대점)', '뚜레쥬르(신당역점)', '뚜레쥬르', '우리은행소비조합신라명과', '로댕', '빠나미', '던킨도너츠 파이낸스센터점', '델리본', '서울역시티타워점 파리바게뜨', '신라명과 동대문점', '더벨로', '사랑의일터(사랑의베이커리)', '민이네식빵', '소울브레드(soul bread)', '홍종흔베이커리(서초점)', \"Baker's Tale(베이커스 테일)\", '루스티크(Rustique)', '브레드 칸', '뚜레쥬르 제일제당사옥점', '파리바게뜨 까페황학롯데점', '포숑(롯데백화점 을지로본점)', '뺑드비', '파리크라상', '블랑제리(르팡)', '체부동 다락빵', '파리바게트', '베키아에누보 본점', '빵박스', '효모이야기', '몽모랑시', 'CU홍대 대학로점', '루시다 케이크', '던킨도너츠 종로구청점', '파머스반 브레드', '스코니', '파리바게트 혜화로타리', '마리 크로켓', '서래마을 호두파이', '(주)메종드꼼빠뇽', '오뗄두스', '디저트랩(DESSERT LAB.)', '롤롤', '(주)브레댄코 을지로입구역점', '르빵 le pain', '오뗄두스(퍼프, 하루)', '레체', '던킨도너츠 잠원점', '던킨도너츠 회현역사점', '(주)일영피엔씨위고에빅토르소공점', '옵스', '디어스 베이커리', '카페파리바게뜨', '퀸즈베이커리', '비알코리아(주) 던킨도너츠 시청역점', '박사 베이커리', '빚은 대학로점', '카페잇 베이커리 동국대점', '버드스틱(Budstick)', '독일제과', '씨엘드프랑스과자점', '브레댄코(bread&co. DAILY-NEW)', '한국병과', '아리스타커피 이마빌딩점', '스위트밀 단성사점', '카페 에이치', '파리바게뜨 남산점', '명동역 남산파리바게뜨', '딘앤델루카(DEAN&DELUCA)', '뚜레쥬르 동묘점', '이삭토스트 경복궁역점', '코핀느', '과장창선', '폴어반', '뚜레쥬르 광화문 경희궁의아침점', '파리바게뜨 카페대학로점', '뚜레쥬르독립문점', '파리바게트', '브레드토크 종로점', '뚜레쥬르남산타운점', '쵸코크로아', '파리바게뜨 서초중앙', '파리바게트 방배사랑점', '파리바게뜨 성대 명륜점', '파리바게뜨 카페 삼청점', '(주)퍼시픽호텔 제과', '태극당', '융태행', '뚜레쥬르 을지로3가점', '프레지던트호텔', '도레도레 현대시티아울렛 동대문점', '리틀파머스', '리틀파머스', '맛나베이커리', '아리단', '블루아리', '베이커리 화수분', '정애쿠키', '서울베이킹컴퍼니(Seoul Baking Company)', '몬드리안', '파리바게뜨', '뚜레쥬르 카페 서대문역점', '라띠에르', '한입', '파리바게뜨 을지로3가역점', '삼송빵집 현대시티아울렛 동대문점', \"빵집의 연금술사(Baker's Alchemist)\", '샘아저씨 도그도넛', '김영모과자점 서초성당점', '멜로디케이크', '쇼카페(SHOW CAFE)', '밀브레드', '엠마', '부암동베이커리', '뚜레쥬르구기점', '파리바게트 카페마로니에점', '리버 브래드 서래나루점', '(주)대명브레댄코 고속터미널역점', '르뺑 아쎄르', '에스프레소 비비안 양재2호점', '에스프레소 비비안', '핫브레드 방배역점', '카페 사일로', '더베이크 교대역점', '파리바게트 교대역KT점', '파리바게뜨 양재하나로점', '김영모과자점 서초성당점', '홍콩', '원남', '독일빵집', '퐁네트과자점', '브레댄코 안국점', '한일', '뚜레쥬르 창신점', '파리바게뜨 반포래미안점', '트로이(Troyes)과자점', '(주)브레댄코', '뚜레쥬르', '(주)파리크라상 파리바게뜨 카페신사점', '메르디앙 베이커리', '파리바게뜨방배점', '파리바게뜨 반포타운', '델리샵', '라메종', '밀크앤허니 양재점 행사매장', '파리바게뜨', '파리바게뜨 서초역점', '파리바게트', '파리바게뜨 양재행운점', 'SPC삼립 빚은 교대역점', '가회제과', '내수', '효자동빵집', '부영', '해피라이스 & 카페', 'Carree blanc(까레블랑)', 'Elmarron(엘마론)', '파리바게트 양재정원점', '브레댄코 뱅뱅사거리점', '파리바게뜨(서초신동아점)', '삼정당', '파리바게뜨 종로세무서점', '씨제이프레시웨이(주) 동대문그린테리아점 카페', '브레드톡', '브레드 원', '인유단 단팥빵', '북촌 유기농밀명인 단팥빵', '화미가', '신라명과 양재우성점', '파리바게뜨', '(주)미셸푸드 카페안젤로 서울성모점(장례)', '파리바게트 양재정원점', '파리바게뜨 사당파스텔시티', '준스 베이커리', '주식회사 이흥용과자점', '움트', '(주) 지에스리테일 GS수퍼 서초점', '브레드원(Bread one)', '북촌 명인 단팥빵', '파리바게트 서초네이처점', '행복빵집', 'DEAN & DELUCA(딘 앤 델루카)', '예원유통', '밀크앤허니 양재점', '파리바게뜨 서초우성점', '파리바게뜨 서초점', '(주)파리크라상 서초아크로비스타점', '홍종흔 베이커리', '한스', '파리바게뜨남부터미널점', '프레봉베이커리', '프랑세즈', '파리바케트 반포제일점', '크라운베이커리', 'Juliette', '파리바게뜨', '파리바게뜨 방배역점', '뚜레쥬르서초역점', '코코호도 서초점', '파리바게트 강남대로점', '코코호도 센트럴시티점', '나폴레옹과자점', 'Hotel Douce(오뗄 두스)', '어니스크', '삼순이파이', '파리바게뜨', '파리바게뜨(방배카페골목점)', '코코호도 뉴코아강남점', '한스', '크리에잇쿠키', '밀크앤허니 양재점2', '파리바게뜨 논현역', '파리바게트 양재2호점', '김영모과자점', '앤티앤스', '김영모과자점', '좋은아침pastry', '양지', 'JH베이커리', '고미당', '쁘라떼베이커리', '종로복떡방', '파리바게뜨평창점', '신라명과', '평양떡집', '어바웃진스', '라 스위스', '라 스위스', '옥인동빵집', '쏠트24(Salt24)', '파티세리 몽슈슈 신세계백화점 강남점', '솔라스', '카페 더 스노우(Cafe The Snow)', '쉐라톤베이커리', '(주)파리바게뜨경복궁', '브레댄코 강북삼성병원점', '뚜레쥬르', '명품식품', '블랙올리브', '곤트란쉐리에 서래점', 'PARIS BAGUETTE(파리 바게뜨) 내곡지구점', '파리바게뜨 종로구청점', '샤르망', '무드 인디고', '뺑프레', '유월오일', '미경식품과자점', '세시셀라 팩토리', '파리바게뜨 서초참누리점', '경복베이커리', '빵장수단팥빵(강남점)', 'BAKER ROAD (베이커 로드)', '파리바게뜨 반포가든점', '라파티세리 킴', '파리바케트', '빵굼터(방배점)', '파리바게트 신당흥인점', '파리바게트(청구장충)', '프랑제리 뉴코아 강남점', '동심 베이커리', '레체 플러스', '꿈꾸는 크루아상', '던킨도너츠 삼성서초사옥점', '네모네모베이커리', 'Bread(브레드) 102', '리효베이커리', 'maison m.o(메종엠.오)', '머랭의 집', '양재역크라운베이커리', '파리바게뜨 교대역점', '파리바게뜨 방배현대점', '파리바게뜨 고속터미널점', '와플대학', '뚜레쥬르 강남점', '레프레미스', '더팜테이블 빵공방(The Farm Table 빵공방)', '던킨도너츠 양재역사2호점', '브라우나비(주)', '파리바게뜨 한양대점', '파리바게뜨-뚝섬점', '파리바게뜨-행당점', '파리바게트', '파리바게뜨 무교점', '더테이블 명동3호점', '파리바게뜨 동대문역사점', '던킨도너츠 LG서울역빌딩점', '베이카에누보 본점 4층', '검은아저씨가게(black uncle)', '(주)이지바이 충정로점', '그래인스', '파리바게뜨', '던킨도너츠 약수점', '빵굼터', '파리바게뜨', '도향촌', '파티세리 몽슈슈 신세계백화점본점', '파리바게트(남대문점)', '파티스리 에또끌레(Patisserie Etocle)', '파리바게뜨 성동세무서점', '파리바게트(카페신당대림점)', '제이피케이터링', '브레드 디', '대구 근대골목 단팥빵', '파리바게뜨 명동본점', '뚜레쥬르 서울역센트럴자이점', '홍미당', '돌체브라노', '브레댄코 청구역점', '뀌숑', '던킨도너츠 서울스퀘어점', '파리바게뜨서소문중앙점', '던킨도너츠 충무로역점', '(주)조선호텔앤리조트 조선델리', '누이애 단팥빵', '파리바게뜨', '블랑제리 성수점', '파리바게뜨(옥수점)-판매', '파리바게뜨(시청점)', '화수분 베이커리', '파리바게뜨 충정로역점', '파리바게트신당점', '다온', '키베이커리', '유니온', '빵장이', '알몽케이크', '요묘한 과자점', '포포브레드', '빵재미', '바로군 건대입구역점', '베이커리(BAkery) 행사매대', '외계인마켓(Alien Market)', '고로케쌀카스테라', '조프리케이크 JOFREE CAKE', '뽀뽀카롱', '데일리 초록', '빵굼터 천호점', '아비엥또', '브리오슈도레 여의도역점', '브리오슈도레여의도아이비점', '김그린케이크', '빚은 우장산역점', '쿠키숲', '치카리셔스 코리아', '배빵빵', '뚜레쥬르 백련산힐스테이트점', '바로굼빵터', '열매', '오투베이커리', '굿나이스파인케이크샵', '잼파파', '쿄베이커리', '소심당', '더베이크 김포공항점', '꿈친베이커리카페', '1994 양과점', \"모두스 테이블(modoo's table)\", '칠리향식품', '뺑드헤브(PAIN DE REVE)', '크로와상 테리', '폴링디저트', '커피마스(coffee mas)', '양씨네제빵소(Boulangerie Chez Yang)', '브래드팩토리 망캄', '롤링핀 가톨릭대학교 서울성모병원점', '숙베이커리', '뚜레쥬르 삼성역점', '(주)현대그린푸드 이노션본사점', '일릴리', '과자서원', '포드레비아오(POUDREBIAO)', '크림데이', '88파운드', '홀리버터', '따순기미', '뺑드메나즈', '베이커온도', '베이커리몽소', '라이프플러스카페', '용산제일상사', '곰돌이빵집', '브리오슈도레 압구정역점', '브리오슈도레 논현역점', '브리오슈도레 강남구청역점', '가토케익샵', '파리바게뜨 서울대녹두점', '강남지역자활센터(데이브레드)', '오너스그램', '해밀', '유니와베이커리', '베이커리 율교 P3120', '슈케이크하우스', '에글렌느(Aiglenne)', '오지힐', '베이크 웨이', '쿄 베이커리 x 더 인피닛 카페', '테이크 베이커리 카페', '파인트리', '파리바게뜨원효로점', '뚜레쥬르  이화여대ECC점', '더하우스1932', '꼼작 디저트바', '시루모락', '크레이지 파이', '과자방', '더 베이크 (THE BAKE) 서초점', '라구떼구스', '화우림', '바로군 삼전역점', '오늘도미미(美味)', '빵내솔', '빵이가득한집', '스윗포미', '요세프', '콰이옹스라팡', '서병래 제빵소', '브래드팩토리망캄', '웨즐스프리즐', '프레비앙(FREBIEN)', '더베이크 노원역점', '플레어비 현대백화점무역센터점', '라뚜셩트', '헤이스윗(Hey Sweet)', 'how to order(하우투오더)', '키다리 아저씨', '가든한 공방', '베즐리', '던킨도너츠 홈플러스남현점', '셀라베이커리2호점', '경성제빵소', '엘리스파이', '오너스그램', '플레어비 제과본점', '빵장수단팥빵 현대미아점', '파리바게트', 'memoire(메모아르)', '핫브레드 성수역점', '4.19베이커리', '콘디토리오븐', '더페이머스램', '엘리스파이', '디저트95', '핫브레드충정로역점', '연희양과점', '핫브레드 가락시장역점', '브레드바이', '샹드블레', '황인상 브레드', '향기 베이커리', '계절식빵', '롤링핀 센트럴시티점', '강남지역자활센터(데이브레드)', '강남지역자활센터(데이브레드)', '김용현 베이커리', '기로', '동화속 빵 과자점', '썸카롱', '뚜레쥬르카페 오금역점', '더베이크 왕십리역점', '빵또와베이커리', '맛뽐제과', '미니마이즈', '(주)오투스페이스 북경식 대추빵 직영점', '노마진아이스크림할인점 암사2호점', '만쥬벌판 대림역점', '포르트보뇌르', '(주)화이트리에', '제이와이(JY)베이커리', '블랑제리 더 플라자', '하태제과', '라베리타(Laverita)', '던킨 강남대로점', '레이어드 연남점', '하이어드', '하이웨스트', '노벰버 웨이브(November Wave)', '파리바게뜨문래SK점', '모란빵집', '브레드수완(Bread Suwan)', '브레덴코', '오라보리', '그대로 양과자점', '송추가마골 영등포지점', '뺑드에떼', '브레드 오미엘', '더베이크', '메트로 제빵소', '(주)겐츠신세계타임스퀘어점', '홍철제과', '좋은아침 페스츄리(구로점)', '데일라잇', '성수베이킹스튜디오', '플디', '자양빵공장', '마들케이크', '바타드', '유나,온', '파리바게뜨 헬리오시티 책박물관점', '소맥베이커리', '서교동언니네', '패트릭스와플', '루모스 케이크', '르알레스카', '파리바게뜨 장위뉴타운점', '브리오슈도레 상암MBC몰점', '해피베이커(happy baker)', '할로나데이', '앙티크', '데일리소유', '지에스 더 프레시 고덕그라시움점', '앵초 (aengcho)', '더페이머스램', '치보베이커리', '빵이가', '클라인빈', '마카롱앤디저트팩토리', '굿데이서울', '장현호베이커리', '브리오슈도레(사당역점)', '그랑프리', '델꾸와식빵', '굿무드 케이크(GOOD MOOD CAKE)', '팥고당청량리점', '나비부엌', '파시(Passy)', '종관과자점', '폴센(poulsen)', '오타르', '스플렌디드', '빵에빠지다', '뉴욕크루아상', '헤이미쉬 케이크', '1cake_미나공방', '오너비(Owner.B)', '파리바게뜨 구로구청점', '파리바케뜨(구로고대점)', '뚜레쥬르', '몽블랑제 신도림점', '뚜레쥬르 개봉역점', '파리바게뜨 고척제일점', '자연드림 성공회대점', '빵굼터', '파리바게뜨 신도림점', '파리바게트 오류역남부점', '뚜레쥬르개봉3동점', '갓구운 빵집', '파리바게트', '파리바게뜨 개봉점', '뚜레쥬르 개봉역북부점', '파리바게뜨', '아가페과자점', '코레일유통(주)코티아베이커리카페', '코레일유통(주)위드맘푸드', '브레드하우스', '베들레헴 빵', '서서울생활과학고등학교 서서울(제과점)베이커리', '뚜레쥬르', '파리바게뜨 구로점', '파리바게뜨 구로궁동점', '바로굼빵터', 'Alice Bread&Coffee', '리암스(Liams)', '골목길빵공작소', '따뜻한식빵', '우리 쌀빵', '프롬브르', '서교동언니네', '오테라', '카나씨의 마음빵', '소나태제과점서울치즈피자', '기프티드', '따순기미', '(주)이낙근찹쌀떡베이커리카페', '오베이글', '신 빵굼터', '원데잇케이크', '오늘도구움', '뚜레쥬르 헬리오시티점', '오물조물', '로브니', '을지샌드', '로컬베이커리( LOCAL BAKERY)', '이제이베이킹', 'Hot도넛 충정로역점', '핫브레드 종각역 2호점', '핫브레드 종각역점', '장봉덕 공방', '플러스크로플', '앤티앤스', '빵에반하다', '카사바 베이커리', '핫브레드', '블라썸', '빵그레', '구립 장애인내일키움직업교육센터', '바나케이크(banacake)', '유한회사마미갸또양평', '루시카토', '뚜레쥬르 고덕베네루체점', '봄을꿈꾸다', '호호(晧晧)빵집', '나미야(Namiya) 빵집', '베이커리 빈센트', '빚은 정동점', '츄이구이브레드', '뚜레쥬르카페 연신내점', '평상시', '버터스토리', '쌍문빵곳간', '루고 NC송파점 7층', '(주)신세계푸드 이베이커리 상봉점(매대)', '카페블라썸 강남점', '렁트멍', '브리오슈도레 강남교보타워점', '푸하하크림빵', '루시카토신세계백화점타임스퀘어점', '타르틴코리아 서교', '피어라희망협동조합', '피어라희망협동조합', '올어바웃홈베이킹스튜디오(All About Home Baking Studio)', '구름빵베이커리', '밀토니아(miltonia)', '드딜라이트', '명장시대 롯데마트 서초점', '더베이크마곡점', '벨르마르', '(주)미미미 가든', '코코케이크', '랑꼬뉴(Linconnu)', '케이크의 계절', '브레드앤밀 목동점', 'GS수퍼 상계점 베이커리', '주식회사 브레댄코 학동역점', '디케이크앤 디저트', '상수동 카스티야', '케이크케이크', '오늘제빵소', '롤링핀아차산역점', '모멍데모시옹', '아방플러스', '아틀리에메종', '(주)샘쿡', '뚜레쥬르 고덕그라시움점', '일그램 (1gram)', '파리바게트 한양대학교병원점', '노르웨이안 우드(Norwegian Wood)', '아우어베이커리한남나인원점', '몽블랑제', '파리바게뜨고덕베네루체점', '파리바게트 이태원점', '한나식빵(서대문역점)', '파리바게트개포점', '던킨도너츠', '비엔나제과점', '에이원베이커리', '올샘 Bakery cafe', '브레댄코하계역점', '브레드원', '밀크앤허니 역삼점(지하2)', '(주)현대그린푸드베즐리압구정점', '크라운베이커리', '페르에피스', '메르씨엔', '홍화당 청담역점', '앙트르메 과자점', '쁘띠 르뽀미에 롯데마트 중계', '파리바게트', '빵팔오(085)', '나폴레옹과자점', '해피브레드', '소호앤노호 아미엘리(도산대로점)', '달콤한이야기', 'LA GRANDE JATTE(라그랑자트)', '파리바게뜨하계중앙점', '파리바게뜨(상계본점)', '델리본', '브래드쇼', '뚜레쥬르중계브라운', '파리바게트', '파리바게뜨중계2호점', '블럭제빵소(역삼점)', '브레댄코석계역점', '샛별제과', '삼송빵집 롯데백화점 노원점', '(주)신세계푸드 블랑제리 월계점', '파리바게뜨', '뚜레쥬르 까페 광운대역점', '뚜레쥬르 카페선릉역점', '씨제이프레시웨이 강남세브란스점 뚜레쥬르', '온 클래스 스튜디오', '파리바게뜨', '뚜레쥬르공릉2동점', '앤티앤스', '파리바게뜨 상계역점', '에센브루제과', '파리바게뜨 상계중앙점', '파리바게뜨 하계벽산점', '파리바게뜨 공릉화랑', '코코호도노원점', '뚜레쥬르', '코리아 푸드 아트 협회', '그래인스쿠키', '김록훈 베이커리', '팥고당', '엣지브라운', '김영모 과자점', '아벡제이 베이커리', '몽블랑제베이커리용강점', '파리바게뜨 강남구청센터점', '레또르떼(LE TORTE)', '빵이당', '뷰투 베이커리', '베이크스토리 송정역점', '한스케잌', '윤화당1호점', '도레도레 신사점', '파리바게뜨(우장산역점)', '베이커리', '시타시이(SHITASHII)', '곽성호교수 통곡물빵', '미고당', '(주)더팬코리아', '뚜레쥬르', '몽블랑제베이커리연남점', '파리바게트성산시영점', '링팡도넛상암점', '크리에잇쿠키', '브래드웍스', '뚜레쥬르 카페역삼점', '마루에누', '로베쟈빵', '청담윈', '봉베이커리 김종익제과', '베이크하우스', '파리바게뜨', '카페31코엑스점', '여명', '엠마', '르뺑블랑', '브레댄코 김포공항역점', '빵데이', '뽀작뽀작', '파리바게트 양천향교점', '코코호도 대치점', '파리바케트', '파리바게뜨 선릉진선점', '파리바게뜨 방화점', '파리바게트 일원주공점', '파리바게트 삼성풍림점', '파티세리몽슈슈 현대백화점 압구정점', '파리바게뜨 신방화마곡점', '보리빵앗간', '빵데이', '마드레', '한입', '북촌 유기농밀명인 단팥빵', '나폴레옹 과자점', '던킨도너츠대치2호점', '파스텔드나따(압구정점)', '라임케잌전문점', '파리바게뜨대치행복점', '빵을 담그다', '파리바게뜨 수서점', '파리바게뜨마포점', '주식회사  리치몬드과자점', '파리바게뜨', '빵굼터 착한 빵집', '브래드웍스', '썸인스윗', '플랑플랑', '파블로코리아', '파리바게트강남교보점', '(주)파블로코리아', '원베이커리', '던킨도너츠 강남역사2호점', '한티역밀도', '스위트 에삐(Sweets EPI)', '던킨도너츠 역삼역사점', '보네르땅', '가루하루', '파블로코리아', '버터풀 크리멀러스 수서역사 B1층', '메종드조에', '파파로티', '스푼홀릭', '아뜰리에 라라', '비어드파파', '르뽀미에 도곡점', '코코호도', '파리바게뜨도곡렉슬점', '이승남의꽃과빵', '빠리바게트', '파티스리본누벨', '아마폴라', '파리바게뜨강남구청역점', '로뜨식빵', '던킨도넛츠 선정릉역점', '파리바게트 대치포스코점', '밀미리베이커리', '홈베이커리', '공병득쉐프', '버터풀 크리멀러스 지하2층', '파리바게트(청담사거리점)', '김영모제과점', '에뚜왈(ETOILE)', '팡 하우스', '호산나', '뚜레쥬르서강신수점', '파리바게트망원점', '베이커리(BAKERY)', '파리바게뜨 뱅뱅사거리점', '파리바게뜨 삼성역점', '우나스', '하이 헤이 헬로!(hi hey hello!)', '파리바게뜨 역삼본점', '파리바게뜨 양재본점', '파리바게뜨 (역삼특허청점)', '파리바케트 경복논현점', '피자아이', '파리바게뜨(언주역점)', '김영모과자점', '이디야커피랩', '파리바게뜨 수서동성당점', '(주)비스테까', '합(고물)', '미밀', '쁘띠르뽀미에 이마트에브리데이답십리점', '신라명과', '뚜레쥬르마포성산점', '(주)신세계푸드베이커리장안점', '스프링(SPRING)', '아마폴라델리', '바니스', '파리바게트역삼포스틸점', '파리바게뜨 압구정현대점', '아마폴라델리', '파리바게트', '로티퀸', '앤티앤스', '(주)곤트란쉐리에코리아', '파티세리몽슈슈 현대백화점 무역센터점', '뚜레쥬르', '레브', '한재용 베이커리', '엠마앤리아(Emma&Lia)', '스윗츠플래닛', '바닐라빈', '뚜레주르강남구청역점', '곤트란쉐리에 차병원사거리점', '파리바게뜨', '아미가아마도르', '파리바게뜨강남일원점', '식부관', '외계인방앗간 압구정로데오점', '모닝테이블(Morning Table)역삼점', '모닝테이블(Morning Table) 도곡점', '이에나파이(역삼점)', '쿠키모리', '아마도르', '파리바게뜨 대청타워점', '블러썸', '파리바게뜨', '김영모 제과점', '파리바게뜨 역삼역점', '코코호도 수서역점', '파리바게뜨강남구청카페점', '코핀느', '뚜레쥬르포이점', '도리힐 베이커리', '세레스홈', '마듀 현대백화점본점', '도수향', '파리바게뜨', '브레드베리', '그랑프리제과점', '뚜레쥬르 강일리버파크10단지점', '구스베이커리', '더벨로 개포점', '데이앤데이 가양점', '파리바게뜨압구정점', '파리바게뜨역삼스타점', '아마폴라', '그래인스', '파리바게뜨(학동사거리점)', '브레드앤밀마포점', '더 메나쥬리 PNP점', '제제케이크', '메종드조에', '던킨도너츠 강남역사점', '쿠로고메', '홀릭스케익', '파리바게뜨 선릉아이타워점', '해피브레드', '베이크스토리 청담점', '홍종흔 베이커리', '하스초콜릿공방', '르 알레스카', '이제이 베이킹', '숙녀 케이크 (Lady Cake)', '파리바게뜨', '파리바게뜨', '파리바게뜨 암사브라운스톤점', '뚜레쥬르', '그레인킹', '유니콘 토스트', '아티장베이커스베타학원', '에스엠에이치홀딩스 삼송빵집 신논현역점', '코코호도 강남삼성점', '파리바게뜨 도곡점', '레트로오븐', '코코호도한티역점', '파리바게뜨 카페 선릉', '나폴레옹제과점', '엠마', '뚜레쥬르뱅뱅사거리점', '파리바게트강남을지병원점', '블랑제리쉐종', '밀크앤허니 역삼점', '더보이', '브레댄코 역삼역점', '나폴레옹제과점 대치역점', '(주)현대그린푸드 베즐리베이커리 압구정점', '뚜레쥬르', '한스케익', '파리바게트', '빵이가득한집', '뚜레쥬르 고덕아이파크점', '파리바게뜨', '지니졸리', '엠마', '식부관', '뚜레쥬르 카페 대치점', '호두까끼형제', '바게트 케이 (Baguette K)', '악소', '기쁜우리보호작업장', '베이커스필드', '파리바게뜨 김포공항국내선점', '동방미인떡집', '카페노티드', '한섬카페', '더브라운베이커리 강남롯데점', '파리바게트', '파리바게트', '합', '뚜레쥬르 압구정점', '빵굽는이야기', '순수 우리밀 베이커리', '마담파이', '무앙(MooAng)', '합(고물)', '삼호바게트', '아도로', '베즐리베이커리무역점', '앤티앤스', '파리바게뜨화곡대림점', '본아뻬띠', '브레드 모리', '브레댄코 강남구청역점', '브랑제리 루엘', '로얄케익', '땡스브레드엔커피', '뚜레쥬르 암사역점', '이에나 파이', '에브리또', '수케이크', '메종 드 조에', '원제과', '워터프런트 프레시푸드마켓', '르네상스과자점', '파리바게뜨KBS미디어센터점', '부다파이', '더벤티 강남역지하상가점', '외계인방앗간', '다랑베이커리', '이명환 오메기랑떡이랑', '아우어베이커리 도산본점', '(주)컨버세이션코리아', '하타가야', '밀갸또', '부스앤바스켓', '마이케이크', '마리웨일마카롱압구정점', '라마다서울호텔', '합(고물)', '원빵집', '파리바게뜨(길동우성점)', '파리바게뜨연남하늘채점', '파리바게트(신논현 교보타워점)', '식(食)빵', '베이킹파티', '(주)본노엘', '(주)신세계푸드베이커리장안점(2)', '제네131', '메종알리스', '몽상클레르 현대백화점 압구정점', '르뺑드펭귄', '빵사랑', '박상후식빵', '밀크앤허니마포점1', '밀크앤허니마포점2', '레빗브레드', '파리바게뜨(전농점)', '뚜레쥬르장안점', '파리바게뜨강남삼성점', '파리바게뜨 강남포이점', '까페 이에나파이', '파리크라상도곡점', '뚜레쥬르 카페 강남세곡점', '비바크', '블랑제리단켄', '라정찰보리빵 호두과자', '파리바게트 압구정로데오점', '메구미베이커리', '파리바게뜨 압구정 행복점', '파라바게뜨', '두지엠 아 라크렘1', '가로수길 밀도', '뚜레쥬르일원2동점', '크리스피크림대치점', '노아베이커리 강남구청점', '삼송빵집 현대백화점 압구정점', '베키아에누보PNP커피스테이션점', '마망갸또 신사점', '파리바게뜨 세곡지구점', '뚜레쥬르 강남자곡점', '파리바게뜨 자곡점', '씨얀', '삼정제과', '빵굼터 착한빵집', '이조명과', '파리바게뜨도곡렉슬점', '파리바게뜨 신분당선 강남역점', '던킨도너츠 두산건설점', '노아베이커리 압구정점', '홈플러스 익스프레스 삼성2점', '그래인스', '뽀르뚜아과자점', '크로네', '파리바게트', '파리바게트', '파리바게뜨휘경중앙점', '파리바게뜨장한평점', '레드팡과자점', '파리바게뜨', '베이커리', '파리바게뜨 회기역점', '파리바게트', '뚜레쥬르장안교점', '배고팡', '빵굽는작은마을', '뚜레쥬르', '파리바게뜨(동대문구청점)', '뚜레쥬르 구로IT점', '파리바게뜨', '강동 베이커리', '이베이커리 명일점', '허가네', '뚜레쥬르 상암DMC점', '스윗한 마녀', '파리바게트마포성서점', '로스팅마스터즈', '푸하하크림빵(FUHAHA CREAM BREAD)', '뚜레쥬르', '광화문빵집', '소문난빵집', '제이피케이터링(JP Catering)', '코코호도 전농점', '그랑프리빵', '이에나파이', '빵들의수다', '파리바게뜨청량리점', '뚜레쥬르', '파리바게뜨광흥창역점', '파리바게트공덕점', '마르메종과자점', '퐁포네뜨', '토비아스', '가드니아 여주제빵소', '(주)원앤온니에이엠씨', '김용기과자점', '뚜레쥬르신방화마곡점', '산토리니의아침(우장산역점)', '파리바게트마포오거리점', '피오니', '경동제과', '뽀르뚜아과자점', '그래인스', '바른종베이커리', '블랑제리 진(Boulangerie Jin)', '브레드앤밀', '버터림', '파리바게뜨', '던킨도너츠', '달콤베이킹스튜디오&Dessert', '스윗비', '오늘의빵', '에스에프베이글(SF Bagels)', '베이커리(BAKERY) 암사점', '뚜레쥬르(길동신명점)', '뚜레쥬르 천호역점', '파리바게뜨 천호중앙점', '파리바게뜨 서울시립대점', '파리바게뜨', '데이앤데이 이문점', '파리바게뜨 제기동역점', '뚜레쥬르 신이문점', '파리바게뜨 장안2동점', '파리바게뜨 강동구청점', '코코호도(명일점)', '뚜레쥬르 고덕점', '뚜레쥬르', 'Bread Factory(브레드팩토리)', '파리바게트(방화역점)', '파리바게뜨 가양역점', '느헤미야52', '파리바게뜨 강서구청점', '파리바게트 화곡역점', '던킨도너츠', '파리바게뜨', '파리바게뜨 염창역점', '주원베이커리', '경성빵공장 올림픽공원점', '베이커리(BAKERY) 길동점', '버터베이커리', '뚜레쥬르', '파리바게뜨 고덕래미안힐스점', '파리바게뜨 고덕래미안힐스I점', '파리바게트 엘림점', '파리바게뜨 구로제일점', '파리바게뜨온수남부점', '뚜레쥬르(온수역남부점)', '몽블랑제 신도림3호점', '몽블랑제 신도림2호점', '몽블랑제 신도림1호점', '뚜레쥬르', '쁘띠보뇌르', '코운코운', '뚜레쥬르마포아현점', '피오니', '뚜레쥬르', '퐁포네뜨', '앤티앤즈 가양점', '몽블랑제 등촌점', '엔젤 라투라레', '하에레츠(HaereTz)', '베이커리 미카', '르방', '코코호도 방화역점', '한마음세상', '미지엄', '롤링핀 합정메세나폴리스점', '아토치즈케이크', '봉쥬르 마카롱', '황인상 브레드', '파리바게뜨 신방화', '베이커리(BAKERY)', '뚜레쥬르화곡역점', '뚜레쥬르 상일세종점', '파리바게트(합정역사거리점)', '빵길따라(Along bread)', '어글리베이커리(Ugly Bakery)', '베이커리복.bock', '강남식빵', '갸또미르(gateau mir)', '반반(vanvan)', '파리바게뜨', '비다펠리즈', '파리바게뜨 까치산역점', '파리바게뜨 화곡본동점', '파리바게뜨강서블루나인점', '몽블랑제 발산점', '파리바게뜨 상암점', '뚜레쥬르 가양프라자점', '파리바게뜨 내발산', '뚜레쥬르 우장산역점', '(주)파리크라상 파리바게뜨 김포공항점', '보나세라오가닉베이커리', '베이커리 강서점 행사매대1', '오 빵 이씨(Oh! pain ici)', '두리앙과자점', '파리바게트길동점', '파리바게트 가양시드점', '파리바게뜨발산중앙점', '뚜레쥬르까치산점', '부산뉴욕제과', '합정본점호밀밭의호두꾼(호밀호두)', '파리바게뜨합정역점', '파리바게뜨  신촌숲길점', '쇼콜라윰', '브래드 가든', '빚은 개화산역점', '데이앤데이 가양점 행사', '브레드엣홈(Bread at home)', '파리바게뜨 발산역점', '몽블랑제 강서점', '파리바게뜨', '르네상스', '뽀르뚜아과자점', '글로리아제과점', '쥬떼므과자점', '팡쥬르', '나폴레옹제과점', '르빵나무', '블롱쉬', '파리바게뜨 강동성내점', '(주)파리바게뜨', '(주)신세계푸드 베이커리 천호점', '쉐프 장과자점', '몽블랑제월드컵점', '파리바게트', '앤티앤스 메세나폴리스점', '바나프레소 길동역점', '세이버리 베이커리(Savory bakery)', '키다리아저씨', '(주)퍼블리크', '뚜레쥬르 강서수명산 파크', '델리스(Delice)', '모에뜨', '파리바게뜨 성산행복점', 'Grain ble 그랭블레', '브라운베이커리', '김수광통밀빵', '리틀빅토리(LITTLE VICTORY)', '루틴', '알토브레드(ALTO BREAD)', '엘마론 바겟트', '라베이크', '브레드시오', '파리바게뜨개봉역북부점', '파리바게트 구로역점', '파리바게뜨(구로대림)', '파리바게트 구일역점', '파리바게트오류역점', '파리바게뜨(화곡3동점)', '뚜레쥬르(등촌역점)', '아벵브레드', '옛날빵집', '로아베이커리', '빵굼터', '파리바게뜨 전농동아점', '브레드원', '떡카페시혁(Tteok Cafe C.Hyuk)', '레또르떼', '소호커피&베이커리(SOHO Coffee&Bakery)', '뚜레쥬르 양천향교역점', '리얼 베이커리카페 리베카', '달퐁', '파리바게뜨마곡힐스테이트', '도깨비 베이커리', '뚜레쥬르 가양역점', '모모밀 베이커리', '스퀘어 이미', '브레댄코(bread&co)마포역점', '딩가케이크(DingaCake)', '그랑프리베이커리', '밀종베이커리', '행운식품롯데몰', '안스베이커리', '던킨도너츠강동구청점', '파리바게트성내점', '라베이크', '베이커리휴고', '엣지브라운(Edge Brown)', '빵장수 단팥방 우장산점', '하코카빔', '미미헌브레드', '마므레', '마타디베이커리 방화역점', '파리바게뜨 마곡사거리점', '브레드 더 밀', '즉석빵집', '파리바게트강서하이웨이점', '베이커리(BAKERY)', '파리바게트 강일리버파크점', '뚜레쥬르길동역점', '라베이크', '파리바게뜨', '블랑(Blanc)', '몽블랑제베이커리상암점', '빠띠시에', '뚜레쥬르공덕역점', '파리바게트', '파리바게트동답한신', '빠네렌토((PANE LENTO)', '곰세마리 수제식빵 전문점', '아빠와 아들', '빵사랑 베이커리', '뚜레쥬르 마곡역 홈앤쇼핑점', '라오제대만대왕카스테라', '떡가게 종춘', '일빠네(il pane)', '마미갸또강서', '미미헌브레드', '갓브레드', '베이킹에이', '은밀', '명가인빵', '뚜레쥬르 카페외대앞역점', '뚜레쥬르온수역북부점', '뚜레쥬르구로구청점', '빵집오늘', '한나식빵 성내시장점', '브래드엔조이(Bread enjoy)', '브레드서랭', '파리바게트 둔촌진흥점', '파리바게트 마포역점', '츄즈 브레드', '율베이커리', '뚜레쥬르 명일역 메가타운점', '11-17', '브레들리베이커리 마포점', '빵나무', '델리시우(Delicieux)', '마미스베이킹', '몽블랑제 개봉점', '파리바게뜨 강동역점', '뚜레쥬르신도림태영점', '몽블랑제 서울오류점', '유가네빵집', '나무수', '그레인 제빵소', '바라파오', '골든치즈타르트', '뚜레쥬르공덕해링턴점', '빵이야기(Bread&Story)', '리치몬드홍대점', '브레드앤밀', '이몸이만든빵', '미엘룬(mieLune)', '사운드스트레인지(SOUND STRANGE)', '딩가케이크', '미지엄', '까페 썸원라이크유', '앤티앤스', '파리바케트', '던킨도너츠 김포공항국내선점', '뚜레쥬르 발산마곡점', '블레스유', '달콤하우스 마곡점', '오로라', '파리바게뜨카페전농삼성점', '인디오븐(월드컵점)', '파리바게트마포삼성점', '미소식빵', '파리바게뜨상수점', '쁘띠크로와상', '퍼니케이크', '라마들렌', '파리바게뜨', '부산제과', '아빠는 요리중 떡방', '황실제과', '케익하우스이원', '파리바게트외대점', '베이커리', '브레댄코 경희의료원점', '파리바게트답십리위브점', '더베이크장한평역점', '블롱쉬베이커리', '김진환베이커리', '맛조아베이커리', '백호 빵집', '산토리니의 아침', '뚜레쥬르광흥창역점', '파리바게뜨(송정역점)', '파리바게뜨 등촌2동점', '102 베이커리(102 BAKERY)', '파리바게뜨등촌그랜드점', '공공7빵', '더그램', '바른디저트', '경동제과', '코코호도장안점', '파리바게뜨 장안현대점', '파리바게뜨 신설동역점', '파리바게뜨휘경점', '호텔베이커리', '뚜레쥬르마포도화점', '파리바게뜨대흥역점', '파리바게뜨 염창3호점', '슬리핑포레스트', '쇼콜라윰', '로아베이커리', '(주)에프엔테크 합정점', '빠니스비떼', '더밀베이커리', '코코플랑(COCOFLAN)', '마듀현대백화점천호점', '트라디시용', '브레댄코 고덕역점', '바이재재', '오븐베이크', '브레댄코', '파리바게뜨 구로디지털점', '성MARC', '커밍케이크', '베이커리 강서점', '빵굼터', '파리바게뜨 고척2동점', '식빵이야기(둔촌역점)', '파리바게트(신이문역점)', '아이 러브 케익(I LOVE CAKE)', '빵집이야기', '파리바게뜨(화곡곰달래점)', '파리바게트(서강신수)', '마듀현대백화점디큐브시티점', '달달한날', '비엔빵 베이커리', '아빠의 바게트', '파리바게트(온수역점)', '마마스뜰리에', '브레드윤', '파리바게뜨 신도림역점', '롤링핀 신도림점', '뚜레쥬르 둔촌동역점', '뉴델리베이커리', '베이커리나무', '에꼴드쉐프과자점', '오렌지마트(주)아프로유통', '코코호도합정점', '파리바게뜨 천왕에이스점', '화니워니찰식빵', '어반브레드', '베이킹 스튜디오 류', '메리(merry)', '호라이즌식스틴(horizon16)', '푸하하크림빵', '뚜레쥬르(마포밤섬점)', '카페로비', '워니쿠키', '까레몽과자점', '빵집 플러스 커피', '언니의 식빵가게', '헬로우베이글', '핫브레드', '파리바게뜨 신도림TM', '몽블랑제베이커리도화점', '르쁘띠푸', '파리바게뜨 홍대카페점', '미밀베이커리', '베니케이크', '브레드홍', '빵야빵야', '프로방스베이커리', '망원동티라미수', '서울장애인종합복지관 보호작업장(파니스)', '파리바게뜨 굽은다리역점', '브레드비(BreadB)', '서울식빵', '장안제빵소', '뽀르뚜아과자점', '더브래드팬트리', '몽블랑제(주) 합정점', '파리바게뜨 개봉역점', '인디오븐구로디지털단지점', '데일리스위츠', '파리바게뜨 구로보건소점', '몰빵', '핫브레드 구로디지털역점', '문팡(Moon Pain)', '예니롱(Yennyron Dessert Shop)', '록키마운틴초콜릿팩토리(ROCKY MOUNTAIN CHOCOLATE FACTORY)', '뚜레쥬르', '던킨도너츠', '파리바게뜨 화곡2동점', '미인브레드(대흥역점)', '몽블랑제 개봉점 2', '나뚜루', '뚜레쥬르', '엘솔레 베이커리', '(주)현대그린푸드베즐리천호점', '파리바게뜨 명일역점', '파리바게뜨 고덕리엔파크점', '파리바게뜨', '브레드스토리(Bread Story)', '스위트플라워(Sweet flour)', '따끈따끈 홈베이커리', '뚜레쥬르 구로천왕점', '카페밀', '굿모닝베이커리', '빵이가득한집', '제빵왕', '파리바게뜨경희대점', '파리바게뜨까페안암오거리점', '빵굽는작은언덕', '세컨드버터베이커리 2nd BUTTER BAKERY', '파리바게뜨 개봉푸르뫼점', '파리바게뜨 구로점', '케익하우스로마니나', '이드프랑과자점', '파파비', '그래인스 쿠키', '코레일유통(주) 브레드니(BREAD NIE)', '뚜레쥬르', '브레드 킹', '델리본', '에센브르 과자점', '파리바게트', '뚜레쥬르(용산2가점)', '오뗄두스 Hotel Douce', '소보로빵집', '곽성희베이커리', '응암역파리바게뜨', '블랑제리새벽', '도롱제과', '쿠잉(cooing)', '오베흐트', '아주 느린 빵', '라운드원(ROUND ONE)', '파리바게뜨', '베이커리팩토리 잠실점', '더카페 상계백병원점(직영)', '유니콘 베이크샵', '비바크', '플라잉스콘', '파리바게뜨 일원역점', '뚜레쥬르 역삼역점', '본빠뜨', '브래드쇼', '파리바게뜨금천구청역점', '민부곤과자점', '라보엠', '힛더스팟 가산점', '파리바게뜨 난곡휴먼시아', '금성식빵', '핫브레드구의역점', '미인브레드 호암로점', '파티이머지', '해피브레드', '베즐리 디큐브점', '뚜레쥬르카페중곡점', '에뚜왈', '연희 양과점', '뚜레쥬르 상일동역점', '셀라3', '베떼엠', '몽슈슈', '(주)성북동사람들박앤윤', '노란달제과점', '스위트모먼트', '오 브레드', '미라쥬양과점', '미라쥬양과점(공릉철길점)', '대니의 전봇대', '베즐리', '우프(oeuf)', '파리바게뜨이태원점', '파르타지', '쿰베오(c:um beo)', '빵카페 목동점 1', '빵카페 목동점 2', '곤트란쉐리에 시티', '강남역 밀도', '강남역 밀도', '올데이(orday)', '아마(AMA)', '마시찌롱', '히포케이크', '봄날과자점', '파티시에티모(Patissiere TIMO)', '더베이크 한양대역', '보스커피', '마실', '삼삼삼베이커리', '벨라의 케이크', '사막속디저트', '팥고당(타임스퀘어영등포점)', '뚜레쥬르카페수유역점', '뚜레쥬르', '(주)현대그린푸드 도화엔지니어링카페 베즐리', '리프노즈드아쉬지', '라 루트 뒤 땅', '파리바게뜨(미아사거리역점)', '케이크가든', '성수동 꿀 꽈배기(노원점)', '마호가니 현대백화점 천호점', '발렁스', '퐁네프과자점', '화이트리에 대치점', \"케리스케이크(carey's cake)\", '코코호도 중계점', '더페이머스램', '위(We)베이커리', '파리바게트(고덕그라시움)', '파리바게트(그라시움)', '파리바게뜨국회의사당점', '페이브(fave)', '달빛크루아상', '슈가버터', '파리바게뜨 길동사거리점', '아므네(Amenez)', '주식회사 르빵(LE PAIN)', '천안옛날호두과자', '베즐리 베이커리', '강남까까', '소담베이커리', '파리바게뜨 마곡역점', '셀라4', '홈플러스 익스프레스 신사점', '나폴레옹과자점', '라바즈', '브레드1983', '달첨시루', '아우어베이커리 잠원점', '브레드웨이', '브레드웨이', '한나식빵 방배점', '츄베이커리', '브레드팩토리 빵야', '아노밀', '오후의빵집', '광장동 밀도', '파리바게뜨(수유벽산점)', '파리바게뜨 미아풍림점', '파리바게뜨중곡역점', '파리바케뜨광장힐스테이트점', '더베이크(Thebake)', '카페.무이뚜봉', '그래인스', '파리바게뜨화양시장점', '파리바게뜨세종대점', '구름빵카페', '핫브레드 수유역점', '파리바게뜨 번동주공점', '인수빵집', '파리바게뜨4.19탑점', '좋은아침 페스츄리', '핫브레드 미아사거리역점', '브로트가쎄율리', '베이크스토리', '백합베이커리', '상떼', '프랑스베이커리', '김영민제과점', '뚜레쥬르어린이대공원점', '파리바게뜨 미아신일점', '배고팡', '빵터지는 집', '뚜레쥬르(우이점)', '곰고미', '파리바게뜨 카페 수유역', '하베스트과자점', '파리바게뜨', '뚜레쥬르 송천센트레빌점', '잼파파', '까미노빵집', '쉐프윤 찹쌀꽈배기고로케', '영국베이커리', '행복한 빵집', '빵굽는요셉', '파리바게뜨', '브레드칸', '브레드칸', '행복한 빵세상', '파리바게트번동점', '크리스피크림 미아점', '파머스빈 가산직영점', '케익하우스몽마', '케익하우스 엠마', '(주)SPC삼립 베이커리팩토리 빅마켓 금천점', '파리바게트', '파리바게뜨', '홍가네빵굼터', '삼양시장 파리바게뜨', '데니시베이커리', '뚜레쥬르 독산지식센터점', '인디오븐 시흥정훈단지점', '수제빵 미소빵긋', '수제빵 미소빵긋2', '파리바게뜨 롯데캐슬점', '판데오로', '파리바케트 미아 영훈점', '소확행베이커리', '파리바케트 행운점', '빵굼터 착한빵집', '파리바게트 신림사거리점', '발렌티너', '레체', '리안스베이글', '(주)빵굽는사람들', '리드브레드 창동점', '몽블랑제방학점행사', '152길', '파리바게뜨 서울대점', '파리바게뜨난곡문성점', '파리바게뜨 사당점', '식빵이야기', '송사부수제쌀고로케 신림신원시장', '애정제빵소', '식빵이야기', '카페이야기', '파리바게뜨', '호두호두신림점', '파리바게뜨쌍문신원점', '슈마나스', '쉐프의꿈하얀풍차', '파리바게뜨 독산4동점', '파리바게뜨대륭6차점', '몽블랑제(주)금천점 행사매대', '노보텔앰배서더독산서울', '파리바게뜨관악푸르지오점', '굿 베이커리', '빵이요베이커리', '앤티앤스', '뚜레쥬르 미아점', '케잌하우스밀레', '브레드이쉬', '브레드칸', '비알코리아(주) 던킨도너츠 봉천역사점', '파리바게뜨 은천길입구점', '프랑세즈과자점', '보네르호두파이', '대왕카스테라', '오렌지스토리', '파리바게뜨 금천독산점', '빵내음 솔솔', '뚜레쥬르미아래미안점', '빵굽는마을', '식빵이야기', '(주)지에스리테일 GS수퍼 관악점', '파리바게뜨 관악현대점', '더은교', '쟝블랑제리', '파리바게뜨', '케이크무드', '152길', '모짜르트과자점', '파리바게트', '뚜레쥬르(Tous Les Jours) 낙성대점', '파리제과', '브레드영', '맥필드베이커리', '불란서베이커리', '파리바게뜨도봉점', '빵이야기', '빵굼터 착한빵집', '수유제빵소', '파리바게트', '뚜레쥬르 가산디폴리스점', '파리바게뜨 독산역점', '몽블라제(주)', '골드 빈', '뮌헨브뢰첸', '아띠', '브레드 몽드', '브레드팝 봉천점', '파리바게트서울대입구역점', '빵빵한식빵가게', '파리바게뜨 서울대입구역점', '파리바게뜨신림신화점', '몽마베이커리', '파리바게뜨', '파리바게뜨(창동역동부점)', '바게트브라운', '파리바게뜨(창동제일점)', '뚜레쥬르창동대우점', '브래드스토리', '핫브레드 총신대입구역점(2호점)', '더디저트랩', '폼드팡이수점', '뚱보롱', '파리바게뜨 금천 법원단지점', '케잌프라자', '모란봉베이커리', '더은교', '파리바게트 신림역점', '뚜레쥬르 신림역점', '뚜레쥬르(낙성대동남부점)', '몽블랑제과점', '구르미케이크', '샘아저씨찰핫도그', '파리바게트 서울대학교점', '베이커리(BAKERY)', '빵굼터', '임한옥베이커리', '뚜레쥬르 창동동아점', '파리바게뜨도봉1동점', '빵데이', '아람베이커리', '파린두스(Farine Douce)', '뚜레쥬르수도여고점', '라듀레', '토모니베이커리', '던킨도너츠노량진역점', '에스제이베이커리', '케이크바이라미', '가춘', '눈부심어웨이즈', '러윗츠', '모퉁이빵집', '파리바게트 난곡사거리점', '파리바게뜨 서울대샤로수길점', '파리바게뜨 난곡세이브점', '파리바게뜨', '파리바게뜨숭실대점', '파리바게뜨(창동한신)', '오구쌀제과', '에센브로', '시간을들이다', '번스토리', '파리바게뜨(방학서부점)', '빵굼터 착한 빵집', '영빈', 'dolce(돌체)', '월드베이커리', '파리바게뜨 봉천역점', '브레디언', '빵집아저씨', '파리바게뜨', '달쿠마', '밀베이킹스튜디오', '렁트멍', '파리바게뜨 낙성대역점', '꿈꾸는블랑제', '뚜레쥬르 (남부농협점)', '김도봉제빵소', '자연드림 관악점', '베이커리(BAKERY)', '파리바게뜨난곡점', '삐에스몽테제빵소', '베이커리팩토리 관악점', '빵굽는 쉐프', '파리바게트(창동현대점)', '파리바게트(금천은행', '행복식빵', '파리바게트', '파리바게뜨 금천시흥2동점', '파리바게트(금천석수)', '파리바게뜨당곡사거리점', '파리바게뜨(신림남부점)', '먹깨비빵집', '모짜르트과자점', '벧엘제과', '슈크림', '파리바게뜨 쌍문사거리점', '뚜레쥬르', '파리바게트', '함스브로트', '파리바게트', '파리바게뜨 신림양지점', '베이커리(BAKERY)', '파리바게뜨(창동녹천점)', '뚜레쥬르 신림사거리점', '파리바게뜨 신림푸르지오점', '떡이야기', '파리바게뜨(신창초교)', '파리바게뜨 신림신원점', '왕성 베이커리', '정항모과자점', '코코호도 보라매점', '파리바게트(관악드림점)', '관악베이커리', '서울뉴욕당제과', '샹도르과자점', '파리바게뜨(쌍문초교)', '몽블랑제 방학점', '뚜레쥬르번동점', '봉베이커리', '수제빵수베이커리', '던킨도너츠 신림양지병원점', '난곡제빵소', '비알코리아(주)던킨도너츠도봉구청점', '파리바게뜨(방학역점)', '파리바게뜨 카페미아역점', '신라베이커리', '고려제과', '삼봉식빵', '2Dots', '오케이크', '파리바게뜨창동역점', '이지바이(창동점)', '빵명가', '신림빵할인점', '빵하우스', '77bakery(77베이커리)', '이야기1.5팩토리', '파리바게뜨 서울대녹두점', '셀라베이커리', '카페이야기(cafe eyagi)', 'well-done!', '파리바게뜨 사당태평점', '프랑세즈', '더밀베이커리', '베이커리(BAKERY)', '파리바게뜨 숭실대입구역점', '파리바게뜨(화랑대역점)', '빵굽는 나라', '던킨도너츠', '발아커피', 'BREAD J (브레드 제이)', '브레드숨', '우리동네식빵해적단', '파리바게뜨 노량진2호점', '델리스베이커리', '파리바게뜨', '자연에 담은 빵', '발렌느(Baleine)', '뚜레쥬르중대100주년관점', '상도 제빵소', '(주)빵굽는 사람들', '파리바게뜨', '파리바게뜨 사당신동아점', '파리바게뜨', '파리바게트 창동역서부점', '파리바게트 신창점', '뚜레쥬르노량진삼거리점', '뚜레쥬르상도래미안점', '파리바게뜨(방학중앙점)', '피자스쿨총신대점', '던킨도너츠(중대병원점)', '파리바게뜨보라매역점', '파리바게트', '케익샵cake shop떡송송', '수 베이커리', '파리바게뜨 대방대림점', '바로굼빵터', '즉석 빵집', '뚜레쥬르 방학 더브러마트점', '코코브레드', '쉐프 과자점', '빵굽는동네', '유명한 빵집', '뚜레쥬르 쌍문선덕', '파리바게뜨 사당역점', '스위트식스틴스 앤 바니', '언니의 식빵가게', '인디오븐', '흑석제과', '빵장수요셉', '파리바게뜨 상도역점', '이수태평파리바게뜨', '우리행성', '미소빵집', '크리스피크림 롯데노원점', '더카페 상계백병원점(직영)', '비알코리아(주)던킨도너츠 당고개역사점', '파리바게뜨(중계대림점)', '파리바게뜨상계백병원점', '엘르바워', '뚜레쥬르 월계프라자점', '은행빵집', '코코호도 신대방점', '파리바게뜨(장승배기역점)', '임대광', '파리바게뜨(석계역점)', '몽블랑제(중계점)', '파리바게트중계무지개점', '엘리제', '쉐프하우스 프리앙', '파리바게뜨', '오페라과자점', '빵굽는마을', '빵굽는마을', '뚜레쥬르보람한신점', '파리바게트 노들역점', '파리바게뜨 상도4동점', '파리바게뜨 남성역 두산점', '데이앤데이 이수점', '몽블랑제(공릉점)', '뚜르몽드과자점', '파리바게뜨 당고개점', '빵선생', '1986.baker', '브래드원 하계점', '상상과자점', '냠냠 식빵', '파리바게뜨(상계본점)', '단마루', '베이커리쿠잉', '브레드 디', '뚜레쥬르(공릉)', '마마미 베이커리', '파리바게뜨대치삼성점', '에딸프', '유한회사  카페노티드', '반안스', '빵어니스타', '델리명과', '파리바게뜨', '파리바게트(공릉)', '던킨도너츠(신대방삼거리점)', '국베이커리', '브레드덕', '드림베이커리', '갓구운식빵,오늘', '행복한생과자', '(주)대명 브레댄코 숭실대입구역점', '바로방브레드', '김영모과자점', '파리바게뜨수서역점', '밀크앤 허니(수서점)', '아카페과자점', '파리바게뜨 한티역점', '빠나미제과', '뚜레쥬르(사당시티점)', '뚜레쥬르 장승배기역점', '케익하우스엠마', '(주)르알레스카', '바로구운빵통큰빵', '최기령과자점', '브래드앳홈', '파리바게뜨광운대역점', '이드프랑베이커리', '파리바게뜨 수락산역점', '중계본동 파리바게뜨', '마인츠돔 (중계점)', '파리바게뜨 신대방삼거리역점', '팡딜리과자점', '파리바게뜨 성대시장점', '빵이 많은 집', '파리바게트 상도건영', '위드유샌드', '파리바게뜨(중계두타빌점)', '브레드칸', '파리바게뜨(상계보람점)', '(주)신라명과', '몽블랑제 중계점', '뚜레쥬르', '유근길브레드', '파리바게뜨 하계미성점', '파리바게뜨 중계건영점', '방울카롱', '샬롬베이커리', '이대균 과자점', '우리동네 식빵', '빠네뜨리명과점', '뚜레쥬르', '불롱쉬 베이커리', '파리바게뜨2001아울렛중계점', '브레드 앤 밀', '빵사랑', '블랑제리꾸끄', '몽소 노량진점', '브레드스팟', '(주)에스피씨삼립 빚은 르뽀미에 보라매점', '브레댄코(bread&co)', '본 프랑스', '몽블랑제(장암)', '파리바게뜨 수락리버시티', '뚜레쥬르 서울여대 점', '파리바게트(강남영동점)', '파리바게뜨 매봉역점', '브래드토크', '식빵이 맛있는 집 네모(노원 은행사거리점)', '(주) 더숲', '브래드토크현대백화점무역센터점', '뚜레쥬르 개포주공점', '파리바게뜨 삼성카페점', '파리바게뜨 압구정중앙', '몽쁘티', '빵굼터', '파리바게뜨월계사슴점', '빠띠슈', '르 알래스카 부틱', '힐튼제과', '배고팡', '파리바게뜨 노원중앙점', '파리바게뜨', '밀라그로스', '리드브레드 석계역점', 'LA FETE(라페뜨)', '베리블릿', '브레댄코 광운대점', '재인(JAEIN)', '에브리띵베이글', '도돌이표', '파리바게뜨 여의서로점', '파리바게뜨 마곡나루역점', '던킨도너츠 김포공항국제점', '파티셰리 몽슈슈', '연', '포미(Foamy)', '불나방', '빵카페 미니 신방화점', '핫브레드 면목역점', '오롯이 굽다', '핫브레드 신사역점', '카페 이즈니 베이킹랩', '한나식빵', '마호가니롯데백화점영등포점', '몽글', '강남지역자활센터 데이브레드 세곡', '강남지역자활센터 데이브레드 일원점', 'BC158', '팥고당설순동(NC구로)', '위자드쏘어', '(주)올가홀푸드 반포점', '크로븐(crovn)', '주식회사 새들러컴퍼니', '코코호도(도봉구청점)', '뚜레쥬르 염창역점', '던킨도너츠서울역2호점', '브리오슈도레 언주역점', '로덴드론', '애정지수', '브레드웨이', '파리바게트카페삼각지점', '주식', '팥고당양품점(김포롯데몰점)', '위 마들렌 빠띠세리 청담', '달드', '태극당', '헬레나디저트', '아이엠슈가', '브레도르', '0층2호', '베이커리 룬', '퐁당라이스', '드림트레이', '탄탈라이즈 르네테르 커피', '오전6시 베이커리', '노랑설탕플라워케이크', '일루미', '오릭스 브랑제리', '이재원 제빵소', '브래드 마티스', '르네테르', '파리바게뜨 강남서초점', '코코호도 신림점', '씨제이푸드빌(주) 뚜레쥬르 대학로점', '오븐앤우드', '핫브레드 까치산역점', '오브(OVE)', '램방(Lambin)', '뚜레쥬르 신월동점', '도봉관', '포레드뵈르', '미넬', '핫브레드 화랑대역점', '지성 베이커리', '그리팅베이커리', '(주)올가홀푸드 방배점', '종암동마카롱', '디 피오리(Di fiori)', '핫브레드 목동역점', '마망갸또 신사2호점', '당혹', '오르랔베이커리', '올루스', '까치화방 NC구로점', '온에떼라', '디저트스토리(을지로점)', '외계인 방앗간', '외계인 방앗간', '블레스블룸', '블레스블룸', '좋은아침 PASTRY', '딜릴리 케이크', '가든한 공방', '파리바게뜨 구로항동점', '디 피오리', '달보드레', '훈스 팩토리', '아뜰리에 만나(Atelier MANNA)', '바이온림(by onlim)', '강정이넘치는집', '얌얌브레드X을지점빵', '올브래드', '마따미스 케이크(Matamis cake)', '더페이머스램', '핫브레드(서초역점)', '빤대레체', '올드베이커리(OLD BAKERY)', '안암카페 더보일', '감성 베이커리', '빵쌤 경희대점', '야미케이크', '디망쉬 키친', '카페꼼마 연남점 베이커리', '카페꼼마 합정 베이커리', '(주)카페꼼마 동교점 베이커리', '파리바게뜨 숙대갈월점', '꿀바른제빵소', '달콤한위로', '에스엠타운앤드카페', '광흥창팩토리 여의도점', '단자리', '버터 두잇', '빵어니스타', '브레드바이', '알레(ALLEZ)', '디어버터(Dear Butter)', '1991스콘', '우리쌀빵', '디 피오리', '노모어슈가(nomoresugar)', '뺑뜨봉', '통밀나루', '리암스(한시적)', '던킨라이브 강남본점', '르뱅룰즈', \"아임파이(I'mPie)\", '마고', '달콤한위로', '미단리테일', '폴콘 (현대백화점 천호)', '고소소', '그날그시간', '달콤한위로', '팥알로(pot.allo)', '유한회사 카페노티드 갤러리아압구정점', '뚜레쥬르 대청역점', '딜로케이크', '키플리 베이커리', '엘샹꼬', '식스파운드', '석내빵집', '달다구리 제작소', '뚜레쥬르 수락산점', '몽봉봉(monbonbon)', '이웃집통통이', '하이-파이(Hi-pie)', '착한 찹쌀 꽈배기', '이웃집통통이', '블랙베어도넛', '윤별케이크', '비하인드미', '뚜레쥬르 대청역점', '담뿍빵집', '연희양과점', '브레댄코', '이낙근 찹쌀떡 베이커리', '안나앤토르테 ANNAnTORTE', '브레드 온', '봉황당', '디.스윗(D.sweet)', '달콤한위로', '베이크잇', '인크커피(INC COFFEE)', '던킨 CF강남스퀘어점', '더 현미 베이커리', 'WACKY KEKI(웨키케키)', '파리바게뜨 천왕역점', '블랙베어도넛', '갸또드포레', '오리오리', '버터힐', '태극당 서울역광장점', '식빵이야기', '베이커리 담', '비비토르테', '베이크하우스', '오브베이크', '베이커리팩토리', '버터힐(butterhill)', '행복한 날에(happy narae)', '유명현', '가든한공방', '뚜레쥬르 방이역점', '비비드', '모든것은 당근케이크에서 시작됐다', '비틀버그(Beetle Bug)', '카토베이커리', '새기다', '프랑제리 피어(peer) 신촌점', '돌체도노', '메종드쁘띠푸르', '메종드쁘띠푸르2', '인기야아(INKIYAA)', '인기야아(INKIYAA)', '폴콘 롯데백화점 노원 키친', '리나스빈', '(주)조선호텔앤리조트 조선팰리스강남 조선델리', '탐포포', '파인데이(Fine day_cake)', '블러팩토리', '폴콘 조이', '핫브레드', '구움니당', '빵의 향현', '공룡빵공장', '소화연빵', '더파이홀2', '뚜레쥬르도봉한신점', '베이킷 업 Bakit Up', '빵장수 단팥빵 목동점', '서울은마꽈배기', '뜨레비앙', '트릴로지', '오월의 밀밭', '플로리아앤코', '달콤한위로', '디저트39 녹번역점', '유한회사 카페노티드 성수', '안가네 대추빵', '케이크라움', '퍼플래빗', '송파제빵소', '두란노커피', '메종엠오', '당김', '단만주', '라라의 디저트', '서울앵무새 연구소', '샘쿡', '리브고쉬 (RIVE GAUCHE)', '에르제 삼성', '단빵제과', '엔오씨(NOC)', '뉴욕라츠오베이글스', '밀도메인(Meal Domain)', '한나 베이커리', '봄의온도', '홍루이젠 대전대서울한방병원점', '이가네제빵소', 'ARTE FLLANG(아르떼 플랑)', '(주)신세계푸드 베이커리 천호점', '케익공방 2호점', '사랑에 빠진 케이크', '코코호도 답십리역점', '아니타 케이크앤스위츠', '라망 베이커리', '뚜레쥬르 묵동자이점', '본비케이크', '비하인드', '빵빠로띠', '피오니', '빵카페건대점', '라이너스베이크샵', '유한회사 카페노티드 한남', '닥터검프', '나폴레옹과자점', 'sootti 수띠', '온穩', '일팔공일오', '버터풀 앤 크리멀러스 쁘띠', '브리타니끄', '(주)뉴욕라츠오베이글스', '바스켓12(Basket 12)', '르뱅룰즈', '뚜레쥬르(회기역점)', '선자케이크', '로니도넛 위례신도시점', '아이브레드유', '단(DAN)', '에르제 도산', '유한회사 카페노티드 강남', '시월과자점', '사뵤어 듀 빵(Saveur du Pain)', \"커비스(cubby's)\", '쿠테이크 쿠키(COOTAKE COOKIE)', '서울앵무새연구소', '뚜레쥬르(녹번역점)', '레빗 베이커리', '제빵소 덤', '미엘디저트', '로멘토케이크', '미라쥬양과점(대치점)', '트릴로지', '비비드', 'WISH UPON A CAKE(위시어폰어케이크)', '이스터에그 전통과자', '꿈꿈 케이크', '먼슬리케이크', '브레댄코 정릉점', '정구움', '당분간 제과점', '원만쥬벌판', '가드니아 여주제빵소(회기점)', '인디오븐광장점', '파리바게뜨강변프라임점', '뚜레쥬르까페워커힐점', '글로리아', '브레드원', '파리바게뜨(건대동문회관점)', '밀내음단팥빵', '마리웨일마카롱', '프레즐(Frais-Zle)', '뚜레쥬르 건국대병원점', '그래인스쿠키', '파리바게뜨 자양현대점', '주)신세계푸드베이커리(자양점)', '크리스피크림건대스타시티점', '뚜레쥬르자양성자3점', '케익하우스 엠마', '안데르센과자점', '보시엘드파리과자점', '홈베이커리', '뺑드미', '파리바게트', '브레드월드', '김병진과자점', '소보로', '하비스트로프제과점', '파리바게뜨카페광장점', '띠아몽베이커리', '딜라이트디케이크', '브레드샾(#)', '브레드유즈(bread us)', '디지(DZ강변테크노마트점)', '몽블랑제(주)금천점', '파리바게뜨군자역점', '파리바게뜨', '뚜레쥬르뚝섬유원지점', '브레드하우스', '뚜레쥬르카페건대점', '뚜레쥬르(군자역점)', '파리바게뜨 건대점', '주니아', '아리랑빵집(아차산점)', '맘식빵', '이파슈케이크', '군자사랑파리바게뜨', '파리바게뜨(광진구청점)', '파리바게뜨(중곡신성점)', '빵굽는드림하우스', '파리바게뜨(동서울터미널점)', '기분이 좋아', '엣지브라운 금천점', '파리바게트', '뚜레쥬르 화계사점', '파리바게뜨 미아경남점', '디어블랑제', '파리바게트(강북구청점)', '파리바게트 미아중앙점', '북한산시티점', '브레드앤밀', '해피데이', '빵굽는 재석이네', '김상현과자점', '에센브르제과', '던킨도너츠 건대스타시티영존점', '히피스베이글(hippies bagel)', '상제르망과자점', '던킨도너츠(아차산역점)', '던킨도너츠테크노마트점', '뚜레쥬르(동서울터미널점)', '뚜레쥬르구의1동점', '뚜레쥬르', '베이커리팩토리 강변점', '파리바게뜨 건대역로데오점', '이경수과자점', '파리바게뜨수유중앙', '모엘르과자점', '땡큐베이커리', '빵이가득한집', '파리바게뜨카페뚝섬유원지점', '코코호도자양점', '와글와글', '빵과함께', '핫브레드 가산디지털역점', '파리바게뜨 마곡발산점', '과자점 진심', '파리바게뜨(문정역점)', '베이커리팩토리 은평점', '릴리베이커리', '오케이크', '소보로', '스윗심포니', '샛별처럼', '미하벨(mirabelle)', '던킨한림대강남성심병원', '디저트39 독산사거리점', '피치베이커리', '야미브레드(Yummy Bread)', '타봄 베이커리', '투떰즈업', '스피티코 청담', '엘레나베이커리', '그랑프리제과점', '파리바게뜨 면목동부', '라우프', '와이딘용산해링턴', '상수동카스티야', '빵을집다', '배스킨라빈스한남HIVE', '오슬리', '뚜레쥬르 강동홈플러스점', '순스과자점', '렛미베이크(let me bake)', '뺑스톡(pain stock)', '케이크달달', '오렌지케이크메이커(orangecakemaker)', '가든한공방', '배드매드브레드', '성북동 빵공장', '우움케이크', '씨엘드 프랑스', 'Bob bebop(밥 비밥)', '쁘띠크라상', '유한회사 카페노티드 잠실', '아우어베이커리 광화문디팰리스점', '오뗄두스(Hotel Douce)', '코코호도 위례점', '금옥당 서초점', '미라쥬키친', '동원바게트', '좋은아침 페스츄리', '펭귄키친', '시온공방', '쥰케이크(June cake)', '폼폼', '호두앤미', '뚜레쥬르 천호역점', '카페빵', '실버라이닝 케이크', '크레이지파이', '유한회사 카페노티드', '플레어비 역삼GFC몰점', '나폴레옹과자점', '티티베이커리#', '온전한빵', '오로라 베이커리', '밀리멧(millimet)', '파리바게트(강동고덕성산점)', '핫브레드', '즉석빵집', '원바이츠(onebites)', '삼송빵집 청량리점', '소보앙', '식빵굽는남자', '삼송빵집 코엑스 스타필드점', '라베이크 베이킹', '플라워팟', '수원의 아침', '메리베어', '예나 베이커리', '폼드팡 베이커리', '푼토돌체', '파리바게뜨 경찰병원역점', '스윗톡(Sweet Talk)', '오밀조밀', '핫브레드 성신여대입구역점', '새들러하우스', '롯데쇼핑(주)롯데슈퍼창동2점', '카페 엘팡', '마미갸또 서울역', '크리스피크림 강남역점', '우리밀빵집', '빵 굽는 고을', '우드앤브릭 성북점', '한나식빵(성수점)', '베이커리로컬x커피나무강남역점', '크리스피크림 남부터미널점', '조세핀(Josephine)', '크럼앤 크러스트', '바유(BAYOU)', '강경원베이커리', '달상점', '이수진 앙금플라워', '르 살롱오!', '더팔레트', '우브앤브릭 타워8점', '수수', '더 미엘', '크리스피크림 오목교점', '핫브레드 합정역점', '크리스피크림 코엑스몰점', '장산다방용산용문점', '우드앤브릭 본점', '크리스피크림 여의도점', '하요베이킹스튜디오', '두두스 베이커리', '뚜레쥬르 서울역점', '아뜰리에 플로라', '브레댄코 서초아이파크점', 'Q bread(큐브레드)', '씨에스유통(주)롯데슈퍼 목동점', '비밀(BE.MEAL) 잠실점', '사랑빵손님', '바이츠앤', '달콤한위로', '쿠라우니', '11월의 발자국', '뚜레쥬르창동역점', '와이즈케이크', '프롬딥그린(from. DeepGreen)', '스위트 브레드', '블랙비치', '탄드르(Tandir.uz)', '더하우스1932베이커리', '주식회사 나인원투', '롯데쇼핑(주) 롯데슈퍼 중계점', '롯데쇼핑(주) 롯데슈퍼 상계7동점', '닷트케이크(dot.t cake)', '여의도 파크원 현대백화점 파리크라상', '금옥당', '럭키 니키 케이키(LUCKY NICKY CAKEY)', '유한회사 카페노티드 성수CT', '프롬 마틸다', '초초하우스(Chocho haus)', '청산제과', '태극당 더현대서울점', '시간을 들이다', '더현대서울 베즐리카페(VEZZLY CAFE)', '더현대서울 베즐리(VEZZLY)', '폴앤폴리나(Paul&Paulina)', '리치몬드(RICHEMONT)', '카페스콘(cafe skon)', '카페스콘', '케이크소원', '달코롬케이크', '마들렌먼로', '쎄뿌뚜아(C`est pour toi)', '안나네과자점', '웨이루쿼쿠이 코리아', '곤트란쉐리에', '글룩베이커리', '롯데쇼핑(주)롯데슈퍼 고덕점', '베르베르(Beurre Beurre)', '현대그린푸드 현대글로비스본사카페', '한마음C&C', '크루아상 148', '신빵굼터', '한마음C&C', '베이크하우스', '시우', '꾸울과자점', '오달행', '폴콘 롯데백화점 노원', '태리', '블로썸모어', '오르리단팥빵', '르몽블랑', '얌얌', '줄리안스 브레드', '395빵집', '바이건 베이커리(bygun bakery)', '시간을들이다', '씨에스유통(주)대림점', '요조제과', '고대병원 롤링핀 신관점', 'O:PANE(오파네)', '윌비(will.B)', '그라동 빵집', '폴콘 롯데몰 은평', '따순기미', '더플레이트디저트', '카페레이어드(CAFE LAYRED)', '끼리카페(KIRI CAFE)', '슈르르카(Chururuca)', '르쁘띠푸(LE PETIT FOUR)', '마얘(MAILLET)', '오케이 베이커리', '르푸도레', '고미제과', '럽대디맘', 'ohlala(올라라)', '뚜레쥬르 월계역점', '엘리제과자점', '주식회사 듀자미', '디저트공간', '페이브푸드 방배별관', '썸띵어바웃커피', '스낵빌리지(Snack village)', '마롱케이크', '밀 베이커리(FARINE)', '카페그리너리티(cafe greenerity)', '명일제빵소', '테디베이커리', '밀크청크', '우노케이크', '뚜레쥬르 충암점', '햄니케이크', '키먼트', '따뜨탄빵구움', '미깡케이크&커피', '대선당', '페이브베이커리 방배본점', '우쥬케이크(wouldyoucake)', '종 베이커리', '프랑세즈', 'The Earth (디 얼스)', '제이레서피', '윌비(will.B)', '선녀호두파이', '백석과자점', '우리쌀빵', '찰리의빵공장', '빵드밀 목동역점', '한나식빵 청량리점', '땡큐브런치하우스', '크로플로', '하이제씨', '빵장수단팥빵 합정점', '핫브레드여의나루역점', '롯데쇼핑(주)롯데슈퍼 위례중앙점', '해피해피 브레드', '블랑도우(BLANC DOU)', '심(心)빵', '헤이진', '제이니베이커리', '안가네 대추빵', '아이라이크케이크', '언니의식빵가게 흑석점', '뚜레쥬르 롯데마트 김포공항점', '십장생베이커리', '케키하우스', '외계인 방앗간', '우리동네식빵', '빵이좋은사람들1호점', '갤러리 세느', '멜랑상회', '뚜레쥬르카페답십리역점', '반한달', '던킨도너츠 뉴코아강남점', '금옥당', '오븐스프링', '아델라이', '황급찹쌀꽈배기', '아레테베이커리앤카페', '뺑비(Pain Bis)', '르빵프레(Le Pain Frais)', '뚜레쥬르신촌로터리점', '외계인방앗간 마포용강점', '미라보 양과자점', '비스토핑(Bistopping)', '파리바게트 애오개점', '쿄베이커리', '후니지니', '에잇비돌체', '(주)한국요유빵 마포지점', '에맥앤볼리오스 신세계강남팝업', '밀갸또', '그냥카롱', '브로트아트', '라그랑우스', '마이파리(myparis)', '빵드밀 역촌점', '느티나무 베이커리', '도담도담식빵 강일점', '치즈케익카스테라카페', '해피해피케이크', '퐁당카롱', '김철용BAKERY', '우리동네식빵', '라라브레드', '후와리', '카페 에뚜왈', '뚜레쥬르', '알로하올라', '맘스케익앤커피 건대역점', '강정이넘치는집', '블랑제리가마', '빵어니스타여의도점', '브로트아트', '당케베이킹스튜디오', '외계인방앗간 월곡점', '금은빵', '키친랄라라 베이킹', '광화문살롱', '팡떼지', '장롱(장인의마카롱)', '몽상클레르 호텔점', '타미드브레드', '연희동 오븐', '빵굽는쉐프', '참베이커리', '선아케이크', '화이트리에 롯데월드점', '코스티아베이커리카페', '우리쌀빵', '폼드팡베이커리 영등포점', '파리바게뜨 양재드림점', '씨에스유통(주) 은마점', '7월27일', '이네스베이커리', '유한회사 카페노티드 삼성', '파리바게뜨 방배역 센트럴', '유한회사 카페노티드 CT', '파리바게뜨 학동역고려은단', '파트로', '히비스코', '벨기에빵집', '당희', '멜로드 도산', '골든치즈타르트', '베이크베이크', '카페안젤로 성의회관점', '카페안젤로 서초평화빌딩점', '마얘', '아우어베이커리', '대한불교조계종 봉은사 서래원  베이커리&카페 여여', 'sojae( 소재 )', '마고', '달콤방앗간', '아우어베이커리', '조은가게', '미미화원', '아우어베이커리 롯데영등포점', '레어마카롱', '제빵왕 김여사', '베이크꾸마', '스카이라운지', '뚜레쥬르 강동강일점', '러시아케이크', '베이커 리', '보마켓베이커리', '몽드', '너와 나의 케이크', '파티세리 아프렘', '파티세리 아프렘', '뚜레쥬르 카페강동역점', '롯데쇼핑(주) 롯데슈퍼 신천점', '케이크칼미아', 'Mr.Bread(미스터브레드)', '메리어트 호텔 파티세리', '베이커리완', '뚜레쥬르 구로디지털직영점', '에이미 디저트 하우스', '굿브레드(good bread)', 'GC 베이커리로컬(지씨베이커리로컬)', '(주)신세계푸드 블랑제리 월계점2', '베이커리감성', '파타티파타타(Patati Patata)', '르몽블랑', '케이크츄(cakechu)', '(주)신세계푸드 이베이커리 하월곡점', '언제나 토요일', '삼송빵집 가든파이브점', '흐비지떼', '명일당', '주식회사 쉐즈알렉스', '브리오슈도레 정동점', '꼼다비뛰드', '지니 양과점', '가든한공방중곡점', '겸재 케이크', '송정빵집', '그대를위한식빵', '마티스', '브레드쇼', '이로운제과', '폴앤폴리나', '크라상점', '롯데쇼핑(주)롯데슈퍼 송파점', '케키하우스', '뚜레쥬르 장위뉴타운', '베이커리 이씨네빵집', '(주)쟝블랑제리', '던킨도너츠 LG트윈타워', '톨', '고스트쿠키', '비틀버그(Beetle Bug)', '브레드웨이', '핫브레드 혜화역점', 'Mr. Bread (미스터 브레드)', '버터풀앤크리멀러스 현대백화점 무역센터점', '교대 쌀빵', '마얘', '르가르송파티시에(Le garcon patissier)', '레드애플용산아이파크몰점', '비비케이크', '행운식품 롯데마트중계점', '꽃피앙', '젠틀카롱', '퐁글', '스윗그램(sweetgram)', '블레스 제빵소', '메트로 제빵소', '온기', '해밍데이', '엔젤스베이커리', '제과(델리)', '뚜레쥬르', '홍도선과자점', '바게뜨프라쟈', '크라운베이커리서부시장점', '레드팡', '케익하우스엠마', '케잌하우스베르떼', '프랑세즈제과점', '그랜드베이커리', '최해식베이커리', '엔젤', '케익하우스 르방', '라브레아과자점', '빵고을', '바로굼빵터', '프렌드베이커리', \"레스쁘아과자점(L'espoir)\", '던킨도너츠중화역점', '파리바게뜨', '월드하우스', '카멜리아베이커리', '파리바게뜨', '케잌하우스리옹', '쉐프의꿈과자점', '빵을굽는사람들', '쉐프의꿈과자점', '(주)한국철도유통 망우역 신라명과', '초록빛제과점', '빵마을', '뺑드프랑스', '케익하우스시마', '광석이네빵집', '빡빡이의더큰도넛', '데메테르 케이크', '웰빙빵베이커리', '유가네빵집', '코코호도(상봉점)', '주재근베이커리', '빵구오', '케익하우스몽마', '빵나라', '그랑프리', '빵나무향기', '뚜레쥬르 상봉역점', '그랑프리빵', '정다운베이커리', '글로리아', '던킨도너츠', '뚜레쥬르중랑교점', '뚜레쥬르 중화역점', '뚜레쥬르 망우우림점', '뚜레쥬르(상봉한일점)', '하이디베이커리', '부산제과', '미고베이커리(migo)', '신라명과', '파리바게뜨', '시에떼 베이커리', '라스베리과자점', '바게뜨베이커리', '케익하우스꾸뜨', '케익하우스 박노현', '크라운베이커리길음점', '케익하우스몽마', '레베르과자점', '던킨도너츠(사가정역점)', '몽마베이커리', '빵이있어푸짐한하루', '케익하우스구페', '크라운베이커리', '케익하우스로이', '글로벌브레드', '던킨도너츠녹번역점', '빵', '슈가데디', '달상점', '뚜레쥬르 북가좌초교점', '파파밀', '태극당', '카페어니스타', '피니시옹 서울(FINITION SEOUL)', '코코호도 마곡나루역점', '이루다꿈', '호미', '더케이크샵', '케이크디어율', '춤추는본도넛', '본 파틀렌(2호점)', '파리바게뜨영등포롯데마트점', '내안의끌림', '봄을꿈꾸다', '프롬 소피', '아티장베이커스 대치점', '롱브레드베이커리', '마카롱 먹는날', '열한시오븐', '진진브레드', '베이크마이데이', '비파티세리', '베즐리', '(주)튜브캐스트 베이커리카페 딜라이트', '몬스터브레드', '(주)웰빙식자재마트', '단과자 하우스', '아이엔천연발효연구소', '꽈배기 마법사', '브레드쇼', '빚은용산아이파크몰점', '광화문살롱 마곡나루점', '마마다무과자점', '리앨리스', '(주)브레댄코 종각역점', \"리암스(Liam's)\", 'Bready 브레디', '빚은 롯데마트 잠실점', '외계인방앗간 (강남언주역점)', '쎈아재빵집', '강정이넘치는집', '빚은 롯데마트 송파점', '주식회사 이흥용과자점', '벤키', '쿠킹스노우(COOKING SNOW)', '(주)태극당제과', '라케익', '브래드쇼(Bread Show)', '케르반베이커리', '파파베이커(PaPa Baker)', '미미스타베이커리', '카페뚜레쥬르(녹번점)', '몽블랑제', '데이앤데이 은평점4', '빵마을', '인더파크', '뚜레쥬르', '브레댄코', '규크로아상', '모비(MO.B)', '대만제과 대길', '무과수제과', '아리랑과자점', '파리바게뜨 은평수색점', '따삐오베이커리', '빵굽는사람들', '케익하우스 쎄봉', '박봉석과자점', '(주)조선호텔베이커리 데이앤데이 은평점2', '코코호도 은평구청점', '피어커피로스터스', '희희락락', 'The cookie hole(더쿠키홀)', '해바라기 빵집', '노엘블랑', '(주)올가홀푸드용산아이파크몰점', '(주)쿱스토어이촌점', '데이앤데이 은평점3', '토야', '바로굼 빵터', '뚜레쥬르 응암 빅스타', '케익하우스 가베', '오픈베이커리', '빵굼터', '빵굼터', '빅브래드', '안데르센과자점', '쌩미셀', '파리바게뜨이태원2호', '행복한빵', '베이크하우스(bakehouse)', '던킨도너츠연신내점', '타르티나', '미도리네꼬', '블랑쉬케이크(BLANCHE CAKE)', '유월오일', '달콤케익', '파리바게뜨 은평뉴타운 3지구점', '던킨', '조경주베이커리', '빠나미', '벨로떼', '크라운베이커리남영점', '크라운베이커리 후암동', '씨제이푸드빌(주)뚜레쥬르한남직영', '크라운베이커리한남직영점', '뚜레쥬르산천삼성점(2)', '파리크라상 한남점', '데디엔맘(DADDY&MOM)', '기욤', '케익만들기', '뚜레주르용산아이파크몰점', '모리마루', '아래베이커리', '(주)신라명과용사의집', '(주)조선호텔베이커리데이앤데이수색점2', '설기떡방', '에센브루', '빵굽는마을', '후레쉬앤후레쉬베이커리', '크라운베이커리 수색대리점', '라부아뜨', '코코델리', '뚜레쥬르(갈현중앙점)', '노블베이커리', '박종관 과자점', '파리바게뜨용산파크타워점', '파리바게뜨 신용산역점', '아빵조아', '파리바게트 이태원해밀턴점', '프랑세즈', 'GS25 은평사랑점', '몽 블랑제(Mon Boulanger)', '쌀람베이커리(보광점)', '(주)브레댄코', '몽 블랑제(Mon Boulanger)', '파리바게뜨', '던킨도너츠', '달디(DAL D)', '크레마롤', '빵굼터', '몽마', '무림', '뚜레쥬르신용산점', '악소', '케키야(Kekiya)', '올레올레오베이커리', '빵사부식빵공방', '엣지브라운', '클레멘타인', '티타임(Tea Time) & 웰덤치킨', '던킨도너츠 신촌명물점', '라본비', '정베이커리', '맛있는베이커리', 'BAKER.SERENA J.(빵굽는 세레나)', '행복이 가득한 빵집', '한나식빵 북가좌점', '몽블랑제(Mon Boulanger)', '우리동네 착한빵집', '블롱쉬', '케익하우스 밀레', '꽃부인', '해초식빵', '작은 평화', '꽁스 고로케', '브레드 칸', 'paar(파)', '국민푸드', '브레드 샘', '빵집 끌레멘떼(Bakery CLEMENTE)', '기브앤테이크', '빵고을', '뚜레쥬르(정릉풍림점)', '파라(PARA)', '크라운베이커리', '델리명과', '파리바게뜨 장위점', '빵굼터', '빵또와베이커리', '뚜레쥬르미아현대점', '뚜레쥬르월곡역점', '빵하우스', '레드빈1', '뚜레쥬르한성대입구역점', '오븐속행복', '보시엘드파리', '제이엠비베이커리', '맛나당', '영국빵집', '씨유성북안암점', '브레드칸', '윈제과', '샘베이커리', '유히스(yuheess)', '파리바게뜨(PARIS BAGUE TTE)', '우리마트 제과점', '쁘띠F&B', '씨유 길음현대점', '따삐오 월곡점', '브레댄코(길음점)', '사과나무', '밀크앤허니2', '(주)델리카슈', '케익나라', '크라운베이커리홍제점', '참구움', '또바기베이커리', '팡앤팡', '빵사랑', '바로굼빵집', '미인브레드', '브레드숨미니', '도도', '머랭 메르헨', '궁전빵집', '맛있는빵집', '파리바게뜨', '빵이가득한집', '헨델과그레텔', '파리바게뜨 길음두산점', '빚은길음뉴타운점', '컵케이크포앨리스(Cupcake for Alice)', '오베르망', '보리너울', '(주)현대그린푸드카페베즐리', '신사빵굼터', '독일', '클라인 구티', '크리스탈명과', '대학당빵집', '케익이벤트', '굿베이커리', '브레드필', '이경구베이커리', '와플대학', '시루사랑', '빠니또', '주재근베이커리', '라성베이커리', '빵파네베이커리', '쁘띠쁘아과자점', '잇미(eat me)', '김용현베이커리(동네빵네)', '훼미리마트돌곶이역점', '미초', '파리바게뜨 동소문GS점', '클로버의빵', '예다손 서울돈암점', '딜리댈리', '미엘', '추억82', '민스과자점', '로티코', '나폴레온', '모나리자과자점', '베즐리', '유근길과자점', '파리바게뜨(삼선푸르지오점)', '예다손(길음점)', '이지바이 길음뉴타운점', '신라명과 종근당점', '빵빚는명가', '라스베리과자점', '레드빈1', '그랑프리베이커리', '다브검은아저씨가게', '베떼엠', '쟈망홈베이커리', '미후베이커리', '훼미리마트 길음래미안점', '몽마', '에센브르', '(주)고려당쌩클루미아점', '크라우드명과', '크랑프리베이커리', '브래드미', '카페베이커리밀레', '자연드림 성북길음점', '돌쇠떡마당', '던킨도너츠 연신내역점', '브레드파오', '델리', '세미식품', '뚜레쥬르 종암사거리점', '라파리쟌느', '뚜레쥬르 고대안암병원점', '크라운베이커리', '서울과자', '델리명과', '씨유 종암래미안점', 'DAL D (달디)', '리치칸', '(주)조선호텔베이커리 조선델리 미아점', '신라명과', '투-쉐프제과점', '파리바게뜨(아리랑고개점)', '레비지옹', '델리쉐바게트', '토속안흥찐빵', '뚜레쥬르안암점', '즉석빵베이커리', '빵뚜르', '파리바게뜨(장위참누리)', '파리바게뜨(정릉서경점)', '토방식품(경주빵)', '그랑푸리빵', '(주)조선호텔베이커리 데이앤데이 미아점', '파리바게뜨 정릉제일', '빵빵싸롱', '삼송빵집 현대백화점 미아점', '따거대만카스테라 성신여대점', '하꼬네만주', '본화과', '뺄띠에', '상띠에 과자점', '뚜레쥬르', '빠네뜨리카페', '서촌옛날통밀빵', '토미가야', '도너츠전문집', '브레드하우스', '아이랑 떡카페', '빠뮤베이커리 은평점', '(주)굽스토어 은평뉴타운점', '달소담', '메르시 모니카(merci monica)', '동네빵네협동조합', '신라명과', '프랑시앙바게뜨', '(주)기야마', '095베이커리', '하타가야', '듀쇼콜라', '더박스', '더박스(the Box)', '셀란', '크리밍케이크', '큰시루떡방', '동네빵네협동조합(마실)', '오븐속 행복', '보네스뻬(돈암점)', '따삐오베이커리홍제점', '브레드토크', '파리바게뜨 서대문구청점', '촉촉베이커리', '내가만든미케익', '내가만든 미케익', '뚜레쥬르 정릉태영점', '빵굽는 마을', '태극당', '동네빵네협동조합(황성욱빠띠시에)', '미후베이커리', '따삐오홍제점', '로티보이베이크샵 코리아', '뚜레쥬르 월곡래미안점', '베이커리', '트라디시용', '마인츠돔과자점', '파티쉐몽마', '허니 브레드', '아쁘레 엉 래브(Apres un reve)', '러블리초코', '슈앤카롱', '쁠레지르', '명인 브레드', '돌쇠떡마당', '빵아저씨쿠키아줌마', '뚜레쥬르 홍제3동점', '비엔베이글(B&BAGEL)', '좋은빵만들기', '동네빵네 김용현 베이커리', '뚜레주르(응암점)', '미애네 빵집', '카페 소미미', '단하나 케이크', '이지바이 은평신사점', '그랑프리빵', '데이앤데이미아점', '베이커스필드', '뚜레쥬르(정릉시장점)', '도우', '동네빵네협동조합(독일제과)', '동네빵네협동조합(빵빛는명가)', '엄마의 당근케이크', '브래드 팩토리', '그랑프리', '떡과 사랑방', '달콤한 디저트', 'Don Bakery(돈 베이커리)', '빵사랑 베이커리', '파리바게뜨', '해가빛빵집', 'March(마치)', '인디오븐 월곡역점', '우리동네빵', '들리슈식빵', '웰빙쌀빵', '다인제과', '케익이벤트', '성심당', 'SOHOTS(쏘하쓰)', '신세계미아점 사옹전', '케익나라', '케익하우스델리', '(주)비제이마리웨일', '손으로만드는사랑(수애)', '케잌하우스밀레', '몰뱅과자점', '코코호도홍제점', '크라운베어커리(한성대점)', '케익하우스 리치', '아다람베어커리', '꼬레엥과자점', '윈첼도너츠', '파리바게뜨 신용산중앙점', '프레브레', '(주)하이스트릿', '고려당', '파리바게뜨숙대갈월점', '파리바게뜨숙대점', '베이커리코너', '버터그림', '스윗하라', '그린팡', '파리바게뜨한강로점', '더케익', '크런치베이커리', '허원석빵백화점', '크라운베이커리', '파리바게뜨', '빵굼터', '베이글루', '르봉마리아쥬', '베이크하우스(BAKEHOUSE)', '래빗인더문', '매그놀리아코리아 신촌점', '파리바게뜨 삼선교점', '던킨도너츠', '누리마루', '크리스피 파이', '그랑프리', '뚜레쥬르(새절역점)', '베이글루숙대점', '반월당고로케', '디종', '루모스 케이크', '뉴욕베이커리', '뚜레쥬르', '따삐오 베이커리', '몽블랑제(월곡점)', '(주)에스피씨삼립 수라방 미아점', '서울청년가게', '더밀슬로우베이커리', '씨포케익부티크', '파리바게뜨한강로점', '브레댄코신용산역점', '파리바게뜨', '밀팩토리', '카라반베이커리', '르뽀미에 연신내역점', '라미띠에', '게르만 베이커리', '우리동네빵집', '델리명과', '우상춘과자점', '부산뉴욕', '빵굽는 고을로', '크라운베이커리', '파리바게뜨(한남더힐점)', '후암동식빵', '케익샵제로', '버터향팩토리(Butter Hyang Factory)', '제로베이커리', '뚜레쥬르 은평뉴타운2호점', '파란토끼 제과점', '블랑제베이커리', '오늘도빵굽네', '프랑세즈', '뚜레쥬르갈현점', '빵마을', '빵타운', '정민베이커리', '크라운베이커리', '뚜레쥬르 불광역점', '비알코리아(주)던킨도너츠역촌판매점', '뚜레쥬르(응암4동점)', '라파리쟌느', '앙뜨레베제과점', '마카롱원더스', '테이블도손', '보니페이', '카데뜨(cadette)', '빵점아빠의하루', '보네스뻬(역촌점)', '케익하우스밀레', '코아베이커리', '스위트 베이커리', '뚜레쥬르 아리랑고개점', '빵굽는마을', '인어파이', '던킨도너츠', '빵굽는마을', '빵굼터', '주재근베이커리', '코코호도 성신여대점', '보네스뻬(갈현점)', '씨유 역촌사거리점', '띠에르노 과자점', '파리바게트', '뚜레쥬르남영점', '에스피씨(주)', '파리바게트숙대점', '파리바게뜨 남영점', '그랜드머큐어(A동)제과점', '정민베이커리', '웰빙쌀빵', '바룩(Baruk)베이커리', '외계인방앗간 길음뉴타운점', '크라운베이커리', '(주)조선호텔베이커리데이앤데이은평점2', '뚜레쥬르(응암역점)', '뚜레쥬르', '레드팡', '뚜레쥬르', '몽마', '바닐리아', '빵이 가득한 집', '모스', '빵이가득한집', '카페담소(cafe 담소)', '하이몬드과자점', '풍차베이커리', '불란서바게트', '씨엘드프랑스(Ciel De France)', '빵굼터', '빵굼터', '빵사랑', '에덴베이커리', '이상용과자점', '케익하우스몽마', '브레드하우스', '빵의마을', '마가레트베이커리', '크라운베이커리(보문동가맹점)', '밀알베이커리', '신라명과 종암점', '캐익하우스 미호', '올레올레오 베이커리', '텐브레이크타코고대점', '신라명과(주) 종암점', '빵굽는 야곱', '뚜레쥬르', '빵궁전', '뚜레쥬르', '크라운베이커리(한남점)', '던킨도너츠', '이디야고대점', '피카소 과자점', '몽 블랑제 (Mon Boulanger)', '퀸즈브라운', '픽앤페이(Pick n Pay)', '후렌치베이커리', '뚜레쥬르', '케잌하우스 몽실', '신동기베이커리', '쌀람베이커리', '멜로즈', '보네스뻬 신동아점', '장발장빵홈쳐간집', '그랑프리', '빚은 동부이촌점', '신라명과 신용산점', '브레드05', '악소', '더베이크드바이셰프리', '투썸플레이스서울타워점', '바로굼빵터', '파리바게뜨', '뚜레쥬르제과점', '로티보이', '뚜레쥬르원효로점', '뚜레쥬르후암삼거리점', '파티스리 마담B', '나폴레옹과자점', '또와도넛츠', '빵사부 식빵공방(월곡점)', '송악농협해피라이스제과', '파리바게뜨', '에덴베이커리', '굿베이커리', '브래덴코', '바로크', '안데르센(andersen)', '(주)조선호텔베이커리데이앤데이용산점2', '수철이네왕새우튀김(고려대점)', '마이카롱', '갓식빵', '보네스뻬(범서점)', 'GS25불광래미안점', '빵사랑과자점', '날개베이커리', '스윗사바스', '달달제당', '르푸도레', '제일떡집', '파리바게트', '파리바게뜨 신촌현대점', '빠스', '손으로 만드는 사랑', '수예당제과', '(주)금산푸드', '따삐오베이커리', '오페뜨 현대목동점', '파리바게뜨당산포스빌', '제리도넛(JERRY DONUTS)', '팡코', '오페뜨 현대목동점2', '피앤비아봉당', '이지바이 신월점', '(주)고집쟁이농부', '코르네포트로얄', '미세스페기 목동점', '이딸리앙베이커리', '리브가베이커리', '르네상스과자점', '프랑쉐리과자점', '뚜레쥬르', '행복한빵', '키세키(KISEKI)', '파리바게트(홍은그랜드점)', '롯데쇼핑(주)롯데슈퍼점', '김기정베이커리', '너츠엔', 'Narindo(스테비아쿠키)', '브레드박스', '김용현 베이커리', '한입원바이트', '빵굽는작은마을', '태화당', '크라운베이커리', '엔젤스베이커리', '신라베이커리', '주재근베이커리', '올리브베이커리', '웰빙쌀빵 연신내역점', '굿베이커리', '디어브레드이대', '미후베이커리', '김용현베이커리', '파리바게뜨연대점', '하이몬드과자점', '크라운베이커리범서점', '보나뻬띠제과점', '파리바게뜨(응암점)', '이디야 에스프레스', '행복베이커리', '빵향기 가득한', '베이커리 프랑세즈', '작은평화', '에빠드블레과자점', '주식회사 기야마', '그랑프리베이커리', '초록마을베이커리', '빵사랑', '본베이커리', '굿베이커리', '이지바이', '패기파이', '슈가파크', '장애인내일키움직업교육센터', '르프랑과자점', '토스트굽는사람들', '파리바게뜨송파레미안점', '빠나미', '브레댄코', '브레드미 파크리오점', '뺑드뷔', '브레드앤밀(송파점)', '(주)에스피씨 삼립수라방 가든파이브점', '풍차 베이커리', '크라운베이커리충정로점', '리치몬드과자점', '즉석빵하우스', '파리바게뜨(응암점)', '파리바게트', '명당제과점', '바로빵집', '자이언트베이커리', '작은평화', '이지바이(은평뉴타운점)', '키세키(kiseki)', '베이커스필드목동점', '와플대학', '윤공방', '쌀꽃내리는날', '인왕제과', '보리밭베이커리', '뚜레쥬르 가재울뉴타운점', '마노핀g-카페 이대점', '신촌과자점', '차일드후드(childhood)', '송사부수제쌀고로케', 'SPC삼립 잇투고(eat2go) 빚은 연세세브란스', '키스더티라미스토스트럭선유도역', '퐁글퐁글 디저트', '비알코리아(주) 던킨도너츠 배꽃점', '떡보의하루', '스위트롤', '크라운베이커리', '오렌지파트세리빵', '뚜레쥬르길음점', '쥬벨베이커리', '항도제과', '한성빵', '뚜레쥬르여의도삼부점', '(주)조선호텔베이커리 조선델리영등포점', '파리바게뜨당산포스빌', '파리케익', '뚜레쥬르국회점', '프롬더오븐(from the oven)', '카페타스(CAFE-TAS)', '훼미리마트', '뚜레쥬르목동대일점(Tous Les Jours)', '파리바게뜨목동진명점', '홈플러스 익스프레스 서울신정4점', '크라운베이커리', '황성욱빠띠시에', '빵사랑과자점', '앤티앤스', '쇼콜라티끄', '앤티앤스', '그랑메베이커리', '안젤리카과자점', '파리바게트', '슈가트리', '스티키핑거스 베이커리', '캐틀앤비', '오브르뺑', 'HEFE', '브레드온', '콤보', '베즐리케익', '파리바게트', '앙뜨샤베르과자점', '신월빵집', '이지바이목3호점', '이에나파이목동역점', '우니카트', '바르게 만든 빵', '095 베이커리', '동네 빵네 명가', '비밀(BE.MEAL)', \"제니스 브래드(Jemmy's bread)\", '브레댄코 북가좌점', '태한당', '영국빵집', '샤르망베이커리', '불란서', '브레드하우스', '굽는빵터', '동네빵네협동조합(피터팬)', '뉴욕제과', '프랑쎄즈구데', '바게트과자점', '쿠헨 브로트', '카프리제과', '올어바웃미', '케익하우스', '빵의나라', '풍차', '케익하우스몽마', '빵마을', '뚜레쥬르 양천구청점', '뚜레쥬르 신월점', 'SK베이커리', '올리브과자점', '미앤케익', '와플대학', '주식회사비스테까', '라몽떼', '송악농협해피라이스2', '당희', '김광수베이커리', '요거프레소', '파리바게트', '슈가엘 케이크', 'Bread J.J(브레드 제이제이)', '행복베이커리', '신라베이커리', '크라운베이커리', '벨꾸르', '소담케이크', '더브레드블루', '바게뜨베이커리', '신라명과', '바로굼빵터', '메이드제이', '징기스칸베이커리', '새마을운동 은평구지회', '수 베이커리', '티나의 식빵', '더블도너츠,블랑쉬', '꼬망스베이커리', '연희원', '밀그린베이커리', '뚜레쥬르 불광힐스테이트점', '빵사랑 제과점', '뚜레쥬르', '빵굽는우리동네', '보나베띠과자점', '엘리파이', '따삐오GS북가좌점', '감미당', '포토케익', '앙뜨사베르과자점', '민토베이커리', '보리밭베이커리', '마리앙뜨', '파리바게트홍은점', '하나하루', '박성원베이커리', '연희떡사랑', '커피앤', '재희베이커리', '브레드테일 목동점I', '크라운베이커리양천목동점', '호도원', '브래댄코(제과점)', '준이베이커리', '월드하우스', '식빵이야기', '코만스', '빵선생', '던킨도너츠이대1호점', '러쉬과자점', '태극당', '모나리자제과', '뚜레쥬르 수색점', '빵굼터', '르네상스과자점', '오늘도빵굽네', '마이스터과자점', '빵이가득한집', '초콜라테리아 산츄로', '한입원바이트', 'CHERBON 1973(쉐르본 1973)', '롯데호텔 팝업스토어', '마마다무제과점', '크라운베이커리목동점', '인디오븐신월점', '경성고로케', '인디오븐 목동점', '크라운베이커리명지대점', '크라운베이커리', '마뜨레베이커리', '프랑델리 과자점', '청기와떡집', '뚜레쥬르 고대안암역점', '쥬떼므', '빠띠슈', '앤티앤스', '롯데쇼핑(주)롯데슈퍼(정릉점)', '그랑프리빵', '(주)조선호텔베이커리 데이앤데이 미아점2', '동네빵네박복만베이커리', '크라운베이커리', '롯데제과-주비얀카', '브레드스토리', '롯데쇼핑(주)롯데슈퍼홍은점', '우리밀베이커리목동점밝고따뜻한사람들', '웨스트진베이커리', '따삐오베이커리양천구청점', '아르데슈와', '에코케익', '오뗄두스', '브래드앤밀목동점', '서승욱과자점', '케익하우스델리', '하나로베이커리', '(주)윈첼코리아', '시냇물', '월드하우스', '던킨도너츠', '주재근베이커리', '타르트드마망', '크리스피크림신촌점', '던킨도너츠', '보떼제과점', '던킨도너츠연대점', '빵굽는동네', '씨유 장위미래점', '훼미리마트 종암행복점', '빵나라 쿠키공주', '샵인샵', '컵홀릭', '훼미리마트동선중앙점', '(주)조선호텔베이커리', 'GS25 국민대점', '최성훈베이커리', '브레드바스켓', '앤티스베이커리', '크로바제과점', '파리바게뜨오목교중앙점', '보나베띠과자점', '케익하우스밀레', '뚜레쥬르등촌시장점', '실로아베이커리', '어니스트(earnest)', '타르틴 목동점', '베이커스필드', '따삐오베이커리목12점', '빵굼터단팥빵', '황성욱 빠띠시애', '데메테르', '검은아저씨가게', '파리크라상이대점', '독일빵집', '(주)현대그린푸드 베즐리', '브리오슈도레 현대신촌점', '씨유 월곡동아점', '오군수제고로케', '몽스', '꿈친 베이커리&카페', \"유빈스 베이크(유빈's bake)\", '떡빙', '원더스', '프라임베이커리', '해피데이', '신세계베이킹센터 연세대학교제중학사점', '피가로제과점', '빵궁전', '브래드바스켓', '이탈리앙베이커리', '안젤리카과자점', '파리바게뜨', '호원당', '구라파제과', '현대백화점(신촌점)제과.제빵', '뚜레쥬르신촌역점', '따삐오베이커리', 'CJ푸드빌(주) 뚜레쥬르 연대점', '브레댄코 수색점', '베이커리 레브', '누리식빵', '빚은홍대역점', '동네빵네 김용현베이커리', '보네쓰뻬(여의점)', '몽블랑제(Mon Boulanger)', 'cheese talk', '베이커리(뚜레쥬르)', '마이브레드(MY BREAD)', '롯데호텔 팝업스토어', '디저트39 잠실롯데백화점', '엣지브라운', '오뗄두스', '케익하우스리치', '크라운베이커리', '신라명과', '빵굽는 마을', '아침에구운빵', '신라명과(오목교점)', '뚜레쥬르 신월곰달래3점', '크라운베이커리 양천구청점', '(주)수라당', '케잌하우스오페라', '뚜레쥬루', '아트베이커리', '킴스브로트', '케익하우스얀', '팡데이영등포시장점', '팡데이여의도점', '꾸쉬꾸떼과자점', '서울연인단팥빵당산점', '던킨도너츠', '팡드샹떼', '브레덴커피', '버터사운드테이블', '우리밀 경주빵', '(주)고려당KBS점', '브랑제리르와르', '파리바게뜨', '팡데이', '빵굼터대림점', '크라운베이커리(양평점)', '빵바구니', '브레첼과자점', '빵굽는마을', '더루시파이키친', '(주)조선호텔베이커리 데이앤데이 목동점2', '록키마운틴초콜릿팩토리', '라몬도너츠', '에클레어', '비밀(BE.MEAL)', '카페메나(Cafe Mena)', '케익하우스퀸', '브레스트과자점', '데이앤데이신월점2', '블랑제리', '따삐오베이커리', '빅토리아', '던킨도너츠여의도2호점', '나뚜루문래점', '외계인방앗간당산역점', '할배치즈케이크신세계영등포점', '문래동3가58-8 바이보니플로랄', '빚은', '갓구운빵', '풍년떡집', '마리아떼', '피나포레 베이킹 스튜디오', '배드매드브래드(bad mad bread)', '브레드 원', '뚜레쥬르목3동점2', '데메테르빵', '브레드앤써플라이', '대만언니대왕카스테라', '대만카스테라', '풍년떡집', '(주)자연드림 양천생협점', '(주)거산하북교역', '다브', '보리수제과', '윤공방', '(주)올가홀푸드목동점', '뚜레쥬르 신월7동점', '송악농협 해피라이스', '신라명과드림타워점', '우리동네 작은빵집', '엠마', '브레드과자점', '그랑데르과자점', '록키마운틴초콜릿팩토리', '본빠뜨', '브레드박스', '우리밀전문점', '브레덴코오목역점', '브레드유라이크(Bread U like)', '케익하우스엠마', '뚜레쥬르 신정네거리점', '웨스트진베이커리', '비어드파파', '빵굽는 마을', '서울과자', '후레쉬브랑제리', '모짜르트과자점', '아린코', '만나랑도너츠', '스위트드림즈', '아델리케익', '아린코', '데이앤데이목동점', '뚜레쥬르영등포대우점(2)', '쉐프조과자점', '뚜레쥬르', '오르리단팥빵', '피타브레드', '이.안베이커리', '케이크 바이 미', '레스까르고', '케익하우스', '케익하우스셀라', '플로레과자점', '코코호도', '이지바이 목1호', '앙비앙스베이커리', '황선장베이커리', '팡도르과자점', '파리바게트', '빵장수야곱', '마마다무', '파리바게뜨', '신라명과', '안다미로', '스위츠켓신정점', '(주)쿱스토어 신정점', '뚜레쥬르 목동센트럴점', '빵이가득한집', '브랑제리베이커리', '마루토스트', '빠스', '케익하우스몽마', '넛 크런치', '앤드류스에그타트', '바게뜨베이커리', '월드하우스', '프레시안과자점', '크라운베이커리', '(주)아마폴라델리', '따삐오베이커리양천구청점', '빵사랑베이커리', '꼬망스과자점', '프랑세즈', '그랑데르과자점', '원스베이커리', '에센브르', '브레드앤써플라이', '베이크21(BAKE21)', '울산명과', '밀과쌀빵', '(주)앰퍼샌드 골든 연희점', '케익하우스팅커벨', '이지바이', '이지바이', '도쿄빵야', '크로크로', '라몬도너츠', '미스터도넛목동밀레니엄점', '코쿤(COCOON)', '디어브레드이대빵집', '아띠베이커리', '브레드필(Bread feel)', '(주)지에스리테일 북가좌점', '파리바게뜨(북가좌은가공원점)', '상띠에과자점', '라몬도너츠', '홍미당', '곤트란쉐리에', '따삐오베이커리양천구청점', '베르떼과자점', '씨에프랑스', '에이스과자점', '팥고당', '몽슈슈', \"밥아저씨빵(Bob's Bread)\", '브레댄코강남성심병원점', '파리케익(PARIS CAKE)', '빠빠맹문래점', '노블베이커리', '(주)신세계푸드더메나쥬리목동점', '미니크로아프레', '외계인방앗간', '마이브레드', '오르리단팥빵', '윤호손수호두파이', '디저트파커스', '다이닝박스(DINING BOX)코레일유통대방역점', '케익하우스몽마', '크라운베이커리', '빵굽는나라', 'B.T.M(베떼엠)', '송악농협 해피라이스', '라이스베이커리', '월드하우스', '즉석제과도너츠', '주재근베이커리', '빵굼터', '뚜레쥬르목동14단지점', '빵이가득한집', '초코앤파이', '파리바게뜨 가락소망점', '브레댄코 잠실우성점', '브레드까페쿠크헨느델리', '신라명과잠실점', '파리바게뜨', '파리바게트', '카미과자점', '라이스존', '파리바게뜨 남부법원점', '매일굽는빵', '신라명과', '레드빈1', '월드하우스', '아이지에이', '패밀리 베이커리', '보네스뻬(목동점)', '마고하우스', 'Dein Brot(다인브로트)', '브레드바스켓과자점', '케익하우스린츠', '뚜레쥬르목동4점', '크라운베이커리', '월드하우스', \"쥬마뺄(Je m'appelle)\", '신라명과', '프레샌드', '후르츠젤라떼리아63점', '칸 베이커리', '롯데슈퍼 신정점(따삐오)', '빵야', '(주)삼립식품벨에삐신천점', '빵굽는마을', '슈베이커리', '호도원호두과자', '베떼엠', '파리바게뜨', '레빠니프레즐', '아티장베이커스', '아크', '쿄베이커리', '고려베이커리', '월드제과', '파리바게뜨여의도점', '브랑제리베이커리', '크라운베이커리오목교점', '뚜레쥬르(목동14단지점)', '아카펠라', '코코호도', '쁘띠렌', '라몬도너츠', '데일리브레드', '핫브레드', '오르리단팥빵', '뚜레쥬르영등포시장역점', '굿 베이커리', '(주)쿱스토어 목4동점', '훼미리마트목동중앙점', '따삐오베이커리신은점', '따삐오베이커리목7점', '뚜레쥬르', '카페메이시스', '빵이 가득한 집', '사러가 뚜레쥬르', '팡쥬르', '브래드바스켓과자점', '브레드앤밀 앤드 슈퍼커피', '캐틀앤비', '뒤샹', '꼬망스과자점 2호점', '본베이커리', '케익하우스몽마', '케익하우스원', '엘리제베이커리', '수제쿠키주주', '베이커리두', '엘리스파이', '엘리스파이', '파리바게뜨', '바로굼빵터', '뚜레쥬르 국회의사당점', '(주)조선호텔 베이커리 데이앤데이 영등포2', '누벨르', '홈플러스 익스프레스 신길점', '꼬망스과자점', '굿모닝제과', '파리바게트 양천구청점', '꼬르네', '빵굼터', '팡데이 오목교점', '욜렌타빵집', '고려당판매(주)뻴띠에', '쁘띠에프앤비(F&B)', '파리바게뜨', '춘하추동', '호텔신라베이커리', '미후베이커리(주)목동점', '베즐리베이커리', '팀윈샵발아현미빵등촌역점', '스티키핑거스 베이커리', '빵빵데이', '초록마을', '베이커리(Bakery)', '김용식 케이크 & 쿠키', '카프리과자점', '곁애두리', '리안스베이글', '팥고당', '크라운베이커리', '코코호도', '슈하우스목동', '향미전통식품', '명과여행', '뚜레쥬르 목동역점', '호두호두 목동점', '크라운베이커리', '글로리아', '외계인방앗간 가재울뉴타운점', '빵내음가득한집', '쉐프서', '오픈테이블델리현대목동점', '레또르떼', '오하라', '에스비베이킹', '르알레스카', '이지바이', '엔젤케잌', '옵스', '빵굽는마을', '빵뜨랑', '송악농업협동조합', '뚜레쥬르홍은점', '빵굼터 착한빵집', '루시카토', '빵이야기', '글로리아제과점', '뚜레쥬르 목동쉐르빌점', '호두랑파이랑목동점', '오브레드', '(주)농업법인쿱스토어신서점', '63베이커리', '파리바게뜨당산점', '파리바게트', '외계인방앗간베이커리', '지역제과협동조합', '자연드림쿱스토어 목동파리공원점', '샤르망베이커리', '생협스토어남서여성민우회생협점', '제노와즈', '뚜레쥬르목동1단지점', '파리바게트', '파리바게뜨 선유도역', '보리수', '이상미통밀빵', '케익하우스몽마', '크라운베이커리사러가쇼핑점', '대만대첩tru양평점', '파리바게뜨', '떡보의하루목동점', '(주)농업법인쿱스토어 신서점', '핌커피(PEME COFFEE)', '콰이옹스라팡(Croyance Lapin)목동사거리점', '에셈브르', '(주)진설병과', '파리바게뜨 목1동점', '팽드안나', '보리수', '보리수', '(주)조선호텔베이커리 데이앤데이 여의도점2', '훼미리마트 대림중앙점', '빠뮤베이커리양평점', '대림대추빵', '베키아에누보 영등포점', '(주)비제이마리웨일 연희본점', '어바웃스위츠', '파리바게뜨당산포스빌', '크라운베이커리여의도점', '르푸도레', '르브레드랩영등포점(신세계)', '마약빵제작소', '퍼스트베이커리', '몽블랑제', '신라명과 면목점', '파리바게뜨 상봉한일점', '(주)조선호텔베이커리데이앤데이묵동점2', '크라운베이커리목동이대점', '아비앙뜨', '빵이가득한집', '쿱스토어신내점(자연드림)', '빵굽는동네', '빵과케익의집', '거북선제과점', '월드할인매장', '빵굼터', '이맹선베이커리', '브레드메카', '케익하우스 이삭', '(주)에스피씨삼립 수라방 상봉점', '몽블랑제 상봉점 행사', '빵쓰', '금상고로케', '쿠잉', '따호 카스테라(사가정점)', '파리바게뜨 면목역점', '라무르과자점', '루브르과자점', '묵동뉴욕베이커리', '이권철베이커리', '케익콜서비스', '델리&델리상봉점', '델리&델리중화점', '빵굽는하우스', '케잌하우스엔젤', '뚜레쥬르', '하나로베이커리', '종로복떡방', '그린피아과자점', '대하빵굼터', '아빠제과', '크라운베이커리', '파리바게트', '케잌하우스밀레', '한국까르푸(주)면목지점', '봉베이커리', '황제카스테라', '왕언니 대왕카스테라', '왕언니대왕카스테라 동부시장점', '몽마', '크라운베이커리(면목역점)', '월드하우스', '스펀지 케익 & 쿠키', '빚은목동파리공원점', '(주)디엔비', '비엔베이글', '앤티앤스', '빵굽는마을', '픽시케이크(pixy cake)', '브레드 원', '앤티앤스 이노시티상봉점', '따삐오베이커리(GS목동오거리점)', '더블유(W)베이커리', '여명블랑제', '뚜레쥬르 면목점', '브레드메카', '월드하우스윈', '뚜레쥬르신정네거리역점', '브레댄코 사가정역점', '밀크앤 허니', '상띠에과자점', '브레드마루', '카페델파로목동점', '벤스쿠키목동점', '쥬벨베이커리', '봉베이커리', '오늘은 빵굽는날', '파리바게뜨 면목동부점', '신라베이커리', '케익하우스몽마', '월드하우스과자점', '따삐오베이커리(신은점)', '브래드원', '이지바이(먹골점)', '핫브레드 면목역점', '이지바이로직스 신내점', '정통대만카스테라', '왕언니대왕카스테라 먹골역점', '따호카스테라', '따호카스테라 면목점', '데일리도우', '라라쿠키', '만진이빵', '브레댄코 면목점', '신라명과(면목점)', '데이앤데이상봉점2', '빠나미', '그랑프리베이커리', '뉴코아베이커리', '그린베이커리', '하비스트과자점', '뉴욕베이커리', '스팅고베이커리', '부산제과', '박건호과자점', '케잌하우스밀레', '화이트베이커리', '성복베이커리', '빵의마을', '이맹선베이커리', '케익하우스 강고집', '빵굽는마을', '홈플러스(주)홈플러스익스프레스태릉점', '보네스뻬브레드 사가정역점', '으니의수라간(묵동점)', '땡스브레드', '엔젤제과', '쌩미셀제과점', '케익하우스엠마', '파리바게뜨 면목제일점', '리옹케익하우스', '파리바게트 용마산역점', '뚜레쥬르 먹골역점', '떡이야기', '바로굽네', '따삐오', '빵이가득한독일빵집', '케익하우스몽마', '꼬망스', '프랑세스베이커리', '원제과', '솔로몬바게뜨', '동원바게트', '달콤한상자', '이지바이', '아마폴라', '잇브레드&원더주스', '별이네빵집', '유산균빵집', '굿베이커리', '이지바이 중화역점', '무지개베이커리', '굿 브레드', '브레드스토리', '모카치카 플라워케이크', '밀크 앤 허니', '쮸아저씨 빵집', '이지바이 중화점', 'W 베이커리', '라이스베이커리', '케익하우스몽마', '앙뜨제과', '케익하우스몽마', '르뽀미에', '코코호도 서여의도점', '마마다무과자점', '가덕', '파리바게뜨(도림점)', '쿱스토어당산역점', '뚜레쥬르신길돈보스꼬점', '포레(foret)', '끌리앙 과자점', '재희태극당베이커리', '황금밀제과점', '파리바게뜨 신월7점', '쉐라메르', '파리바게뜨', '행운식품(주)롯데마트영등포점', '신바람난찐빵,만두집', '팡팡베이커리', '케익하우스몽마', '베이글스과자점', '월드베이커리', '파리바게트', '크라운베이커리신내점', '엉클박베이커리(박아저씨)', '델리명과', '빵굽는마을', '타르트팜', '포숑(롯데백화점영등포점)', '크라운베이커리', '경성고로케타임스퀘어점', '브레댄코대림역점', '프랑스 바게뜨', '떡보의하루송파점', '오월지나', '베이커리카페가루밀', '뺑드리드', '(주)햇별쌀루떡빵cafe', '데이앤데이영등포점', '글로리아', '스티키핑거스베이커리', '빵이가득한집', '뚜레쥬르', '호두와파이', '빚은오금역점', '가또마들렌과자점', '빵이가득한집', '이지바이', '슈가퐁당', '브래드팩토리', '빵굽는마을', '본주르네과자점', '던킨도너츠', '파리바게트(대림성모점)', '파리바게뜨 신길대신점', '뚜레쥬르', '파리바게뜨', '(주)삼립식품빚은르뽀미에여의도KBS점', 'EK 63', '김상태베이커리', '찰보리 호두과자점', '베이커스필드', '마마스밀', '임대광베이커리', '핫브레드앤카페(cafe)', '독특한빵집', '삼송빵집(신세계영등포점)', '에트~엘', '이지바이신정네거리역점', '코코호도풍납점', '마인츠돔', '뚜레쥬르', '호밀밭의호두꾼', '그랑프리베이커리', '위례밀도', '빵선생', '(주) 빵나무', '울산명과', '유니온트리', '호야', '대왕통카스테라', '리치몬드과자점(RICHEMONT)', '던킨도너츠(타임스퀘어)', '던킨도너츠(서여의중앙점)', '외계인방앗간(당산점)', '타스베이커리', '브레드팩토리', '르뽀미에(여의도KBS본관점)', '리나스파이낸스점', 'Toothsome Bread(투썸브레드)', '호두앙 영등포구청', '파리도너츠(PARIS DONUTS)', '서울연인단팥빵(당산점)', '(주)에스지푸드웰빙쌀빵당산역점', '카페캐리온(CAFE CARRYON)', '로티드뺑', '브레드칸당산점', '켈리의호두파이', '빠빠맹(PAPAMAIN)', '파리바게뜨', '끌리앙스과자점', '대학당빵집', '빵굼터', '파리바게뜨', '르뽀미에여의도KBS본관', '뚜레쥬르', '(주)본야록', '빵굼터', '마리아쥬', '드리미케이크(DreamyCake)', '빵나라', '달보드레베이커리', '크라운베이커리', '마들렌', '파리바게뜨', '치짜이시앙팡', '칸베이커리', '달콤한정원', '파리바게뜨 영등포시장역점', '홈베이킹 스튜디오 랑', '아띠베이커리', '새독일빵집', '바로방', '빵에빠지다(Fall in Bread)', '브레댄코', '팡팡베이커리', '미소재', '뚜레쥬르영등포3가점', '파리바게뜨한강점', '고려당', '떡채움', '비알코리아(주)던킨도너츠 동여의도점', '여의도(피자)', '아린코', '블랑제리 목동점', '바로굼터', '크라운베이커리', '슈슈베이커리', '브래드팩토리', '(주)파리크라상 파리바게뜨 여의도IFC점', '몽블랑제(Mon Boulanger)', '브레드타임', '밀당빵그레', '대만 카스테라', '빵선생 장지점', '브랑제리데펠', '슈가부티크', '식빵공작소', '53브레드키친', '델리베이커리', '블랑쉬베이커리', '신세계영등포궁실점', '로겐브롯트과자점', '엣더모먼트', '경성하늘동지섣달', '보리그루', '해피데이', '빠빠맹(PAPAMAIN)', '꼬망스베이커리', '에브리데이컵케이크', '이지바이영등포2호점', '이지바이', '젠틀레이디컵케이크', '와플대학', '파리바게뜨', '브레댄코신풍점', '마미호두', '리과자점', '파리바게뜨센트럴시티점', '뚜레쥬르양재시민의숲', '브레드박스', '쁠라스(Place)', '트랭블루', '던킨도너츠 왕십리민자역사점', '주식회사 신세계에스브이엔 왕십리점', '빵한덩이어러프', '오늘도 빵굽네', '그랑프리', '번즈(Buns)', '파리바게뜨 잠실병원점', '르벵', '이케이 카페 양재', '에브리데이컵케이크', '앤티앤스', '브레댄코한양대서울병원점', '하타가야', '그라츠수제쌀고르케', '블랑제르', '잇브레드', '(주)감성베이크', '김영모 과자점', '르빵(Lepain)', '홈플러스베이커리(주) 잠실점', '베리블릿 대만대첩 카스테라(잠실새내역점)', '엔젤라투라레', '제니케이크', '상수씨', 'K-mart 몽블라제', '그래인스', '베이크스토리', '오빵', '브레드인', '정성단팥빵', '데로브', '(주)롯데브랑제리', '경성고로케', '브라운베이커리', '보네스뻬성내점', '바스토', '홈플러스(주) 익스프레스 삼전2점', '뚜레쥬르풍납동점', '크라운베이커리', '(주)마인츠돔(올림픽점)', '보네스뻬가락점', '(주)보리원', '브레드팩토리', '아이달고나', '아펠', '올어바웃카스테라', '폴인브레드 문정테라타워점', '그랑프리제과', '이지바이', '(주)조선호텔베이커리데이앤데이왕십리역점2', '델리&델리 종로3가역점', '뚜레쥬르씨앤비', '밀알', '베스킨라빈스 국일관점', '뚜르떼또', '샤베리', '종로3가역제과점', '피자하우스', '아루', '공간을 채우는 사랑', '오봉팽', '파리바게뜨독립문점', '파리바게뜨', '던킨도너츠', '쉬퐁과자점', '오페라', '(주)그린베이커리', '윤재선베이커리', '브레댄코 금호역점', '(주)조선호텔베이커리 성수점2', '빵마니아베이커리', '소담식품', '호밀호두(행당점)', '(주)조선호텔베이커리 데이앤데이 성수점3', '쉐라빌빵베이커리', '빵이가득한집', '몽 블랑제(Mon Boulanger)', '데일리', '바니스', '뚜레쥬르뚝섬역점', '파리바게뜨 카페 종로점', '지하철 매니아', '빵사랑', '비알코리아(주)던킨도너츠', '(주)조선호텔베이커리 데이앤데이청계천점2', '뚜레쥬르서울스퀘어점', '뚜레쥬르황학롯데점', '행운식품롯데마트서울역점', '데이앤데이 청계천점2', '그랑프리', '뚜레쥬루 장충동점', '파리바게뜨 청계한화점', '빵박사', '몽 블랑제(Mon Boulanger)', '빵굼터', '하루방과자점', '신라명과훼밀리점', '도쿄베이커리', '브랑제리 데펠', '제이피플랜', 'BGT 발효종빵(비지티)', '엔젤베이커리', '프리아스 제과점', '(주)수라당', '수예당제과', '마고', '잇투고(Eat2GO) 빚은 서울교대점', '밀갸또', '밀갸또', '도쿄빵야', '아티제블랑제리(주)잠실점 행사매대(냉동)', '아미소 빵', '엔젤 라투라레', '르벵베이커리', '케이크케이크', '이지바이 (서초점)', '파리바게뜨송파구청점', '토성베이커리', '신라명과(문정점)', '하타가야 뉴타운왕십리점', '델리카슈', '비엔비엔 쿠키', '미엔미 잠실점', '진 스토리(Jin story)', '제이클래식 케이크', '라미 베이커리까페', '롯데제과(주) 빠뮤(PAMU)', '웻즐스 프레즐', '디저트랩', '던킨도너츠(방이시장점)', '이낙근찹쌀떡베이커리', '(주)이낙근찹쌀떡베이커리', \"콰이민스테이블(QwyMin's table)\", '뚜레쥬르', '던킨도너츠', '쥬벨베이커리', '조세핀베이커리카페', '비어드파파 갤러리아팰리스점', '이낙근 찹쌀떡 베이커리 카페', '블랑제리 포앙타쥐(Boulangerie pointage)', '지유가오카 핫초메', '모랑모랑', '밀크앤허니 (이벤트매장)', '르바카사브로', '뚜레쥬르 양재동화점', '꼼 프랑스', '마인츠돔 강남점', '브레댄코 가락시장역점', '메리베리', '던킨도너츠 잠실본동점', '보네스뻬(신천점)', '뚜레쥬르', '뚜레쥬르 레이크펠리스점', '오즈의 오븐', '빵마을', '유기농수제쿠키전문점 미엘', '(주)단오', '알도넛', '파리바게뜨왕십리민자역사점', '비알코리아(주)던킨도너츠 왕십리민자역사점', '(주)조선호텔베이커리데이앤데이왕십리역점', '빵마니아클럽', '빵마니아클럽', '그랑프리빵', '경주빵(토방식품)', '케익팩토리', '(주)신라명과', '박신주바게뜨', '샤롯데제과', '빵으로빛은작은마을', '파리바게트가락시영점', '밀라노베이커리', '밀라노베이커리', '하이제과자점', '여리롱', '대구근대골목단팥빵 강남점', '벤키(venchi)', '오브(OVE)', '예성베이커리', '토리디저트', '(주)튜브캐스트 베이커리카페 딜라이트', 'Twist donuts(트위스트도넛)', '비파티세리 팝업스토어', '로티서울', '더브레드블루', '(주)튜브캐스트 베이커리카페 딜라이트', '(주)페이브푸드(연남 베이커리점)', '카페라포레 역삼점', '플라잉스콘', '플라잉 스콘', '외계인 방앗간', '외계인 방앗간', '비파티세리 팝업스토어', '베즐리베이커리', '로티서울', '굿도너츠', '서울페이스트리(로티서울)', '로티서울', '신수동케이크', '베즐리', '늘솜 베이커리', '로티서울', '엠지나인(MG9)', '강정이넘치는 집', '자연드림 목4동점', '주니아 합정점', '폴310', '강정이넘치는집', '현진', '파리크라상', '더굿프렌드', '빚은롯데마트청량리역점', '투헌드레드피프틴', '이지바이 잠실점', '파리바게뜨 문정카페', '예다손 서울거여점', '아주 특별한 통밀빵', '마이스터', '구움방베이커리', '뮤제드뺑', '스테파노과자점', '빵굽는아저씨', '케익하우스엠마', '앙토낭카렘베이커리', '프랑세즈과자점', '(주)채송화', '파리바게뜨', '빵굽는마을', '케잌하우스엠', '홈베이커리', '엔젤라투라레', '빵굼터', '뚜레쥬르(송파배명사거리점)', '서울올림픽기념(올림픽제과점)', '이지바이 갤러리아점', '왕촌빵방앗간', '보시엘드파리', '라틀리에모니크', '베이크팡', 'A플러스빵', '던킨도너츠 잠실새내역사점', '이지바이', '명물호도과자', '신라명과', 'GS슈퍼마켓 양천신은점', '원스초콜릿', '매그놀리아목동점', '모아식빵', '뚜레쥬르 도림점', '뚜레쥬르대림역점', '미고영등포점', '코코호도문래점', '(주)조선호텔베이커리 데이앤데이 여의도점', '(주)고메베이글', '글로리아제과점', '록시베이커리2호점', '뚜레쥬르양천센트럴점', '이지바이(오목교점)', '독일빵집', '빽다방동여의도점', '우리동네작은빵집', '빵굽는마을', '대만삼촌대왕카스테라 목동점', '뚜레쥬르 신풍역점', '뚜레쥬르 당산 삼성점', '빚은 여의도점', '리나스 여의도점', '뚜레쥬르대림2동점', '미스터 빵', '파리바게뜨', '하이몬드베이커리', '마스타바게뜨', '베이커리뚜레쥬르', '케익과빵의나라', '케익나라피자마을', '레드빈1', '홍원당', '월드베이커리', '뚜레쥬르', '올리브베이커리(목동본점)', '호두나무아래', '빚은 목동역점', '아루베이커리', '더블에이치', '브레드박스', 'Prince(프린스)', '이지바이', '몽블랑제(Mon Boulanger)', '코코호도', '(주)쿱스토어 송파가락점', '던킨도너츠', '보시엘드파리', '고려당판매(주)포숑', '던킨도너츠', '베들레헴베이커리', '성심당롯데월드점', '프랑시앙바게트', '엔젤스베이커리', '던킨(개농점)', '푸드앤베이크(Food&Bake)', '빌리엔젤 롯데잠실점', '뺑드에코', '외계인방앗간', '느린산책', '던브라운베이커리', '뚜레쥬르신금호역점', '빵굼터', '파리바게뜨 신금호역점(판매)', '파리바게뜨신금호역점(제조)', '와플대학', '신라명과', '오방제과', '크라운베이커리', '케익하우스 몽마', '아카데미베이글', '파리바게뜨', '빵하우스', '몽블랑제왕십리점(Mon Boulanger)', '독일빵(The german)', '브레드미', '리즈리본', '쿱스토어 잠실점', '(주)파리크라상', '파리바게뜨명륜점', '크라운베이커리대학로점', '뚜레쥬르 숭인점', '뚜레쥬르 신천역점', '빵이가득한집', '가또마들렌', '비알코리아(주) 던킨도너츠 명동본점', '비알코리아(주) 던킨도너츠 명동3호점', '뚜레쥬르(약수역점)', '검은아저씨가게', '뚜레쥬르제과점', '빵굽는 작은마을', '크라운베이커리서울중앙시장점', '해피 바게트', '브레드토크명동2호점', '본화과', '보네스뻬(신당점)', '크라운베이커리마천점', '피카소과자점', '파리바게뜨(방이한양점)', '델리몽드', '뚜레쥬르 가락2동점', '안데르센과자점', '신이지앙', 'Joli Cake(줄리케익)', '앤티앤스 키자니아점', '파리크라상 올림픽점(PARIS CROISSANT CAFE)', '검은아저씨가게', '팡쥬르 위례신도시점', '(주)더브레드블루', '델리앤델리답십리점', '버찌와 모모', '쁘띠랜', '브래드웍스 현대시티몰', '고려당벨띠에', '던킨도너츠', '르프랑과자점', '브레드하임', '크라운베이커리동대문점', '배스킨라빈스국일관점', '로얄몬드', '샤베르아이스크림', '올어바웃 카스테라', '홈플러스베이커리 삼전점', '지니과자점', '이승남의 꽃과빵', '고조 베이커리 카페', '포숑(롯데잠실점)', 'Pain de vie(뺑드 뷔)', '크리스피크림 롯데월드점', '가또마들렌', '뺑드마뗑', '검은아저씨가게', '(주)롯데브랑제리', '빵굼터', '뚜레쥬르송파방이점', '에삐과자점', '델리본', '스티키핑거스', '스티키핑거스', '본화과', '독일제과', '따삐오', '빚은 가락시장역점', '따삐오', '빵이가득한집', '몽 블랑제(Mon Boulanger)', '(주)오리온마켓오카페브라우니', '뚜레쥬르 송파구청점', '루토리', '던킨도너츠 잠실역', '나폴레옹베이커리(주)', '롯데호텔 팝업스토어', '빚은왕십리점', '디저트팩토리 잠실리센츠점', '대만대첩', '더바게트', '이딸리앙베이커리', '심포니 베이커리', \"Annie's Cookie(애니스쿠키)\", '샤틀레', '파리 바게트', '던킨도너츠 고속터미널점', '프랑세즈 구떼', '딜리댈리 강남점', '코스트홀세일궁실점', '델리앤델리 고속터미널점', '주식회사 마인츠돔', '비알코리아(주) 던킨도너츠 사당행복점', '강남신세계 궁실사옹전', 'Karis Cake(캐리스 케익)', '코니 베이커리앤카페', '파리바게뜨', '청실홍실', '팡데이답십리점', '팡데이왕십리점', '신라명과 행당한신점', '브래드팩토리', '브레댄코 성수점', '천냥베이커리', 'CHEZ GEE(쉐지)', '라향', \"Jay's Oven(제이스오븐)\", '뚜레쥬르성수2가점', '뚜레쥬르 성수쇼핑센터(2)', '신라명과(성수점)', '파리바게트(금호1가점)', '뚜레쥬르', '빵마니아베이커리', '겔드베르그', '라이스베이커리', '복정역제과점', '대두강남식품', '토방식품', '가가델리하우스', '보네스뻬', '아해랑', '코코델리스', '뚜레쥬르(방이역점)', '빠나미', '엘리 브래드', '으뜸과버금 과자점', '쿠키모리', '브레드 앤 밀', '오헨', '밀본', '로마제과', '뚜레쥬르한양대학교점', '최상궁떡방', '신라명과 한양여대점', '한양호두', '베이크앤써브', '파리바게트 금호점', '크라운베이커리', '크라운베이커리(왕십리점)', '헬로우피자', '(주)델리스', '코코호도(행당점)', '웰빙 빵굼터', '파리바게뜨잠실현대점', '코코', '몽블랑제(Mon Boulanger)', '슈가마마', '베이커리 하우스', '(주)명장홍종흔(올림픽점)', '빵이가득한집', '아미스레시피', '블롱쉬', '이 데이앤데이 가락동점', '이 데이앤데이 문정동점', '이 데이앤데이 석촌동점', '홈플러스 익스프레스 석촌점', '리치빌커피앤스낵', '마인츠돔과자점', '루이벨꾸', '유기농김지현베이커리', '그랑프리빵집', '빵사부 식빵공방 위례신도시점', '또아식빵', '빵드밀 석촌본점', '한나식빵', '파리바게뜨', '곽지원과자공방', '베이커로이', '더델리', '마이스터', '고려당', '고려빵집', '팡스오페라과자점', '혜원과자점', '삐에로과자점', '떡담', '미고잠실2점', '아마폴라델리', '파블로코리아', 'Anna n Torte(안나 앤 토르테)', '쥬벨베이커리', '쥬벨베이커리', '따삐오롯데송파점', '베떼엠', '대구근대골목 단팥빵(현대 가든파이브점)', 'avec soin(아벡쑤아)', '한나식빵(위례점)', '그래니쿠키앤드케익', '비알코리아(주)던킨도너츠센트럴시티2호점', '뚜레쥬르 양재삼호물산점', '(주)고려당쌩클루반포점', '케잌하우스엔젤', '파리바게뜨 방배역점', '(주)킴스패스', '파리바게트', '에구찌', '나무테과자이야기', '(주)조선호텔베이커리 원(One) 강남점', '베이커스 베이커', '뚜레쥬르 강남킴스점', '나무테과자이야기', '케익맘마', '빚은잠실1호점', '찰보리식품(주)', '스칼렛쿠키', '뚜레쥬르 잠실파크리오점', '코코호도 개롱점', '파리바게뜨 송파행복', \"파파스오븐(papa's oven)\", '도너타임(송파점)', '케익이야기', '뚜레주르 문정푸르지오', '샤또마고', '에스라인제과점', '빵뜨락과자점', '패밀리베이커리', '리미쿠키', '샌드하우스', '케잌하우스프리', '케익나라', '(주)본스컴패니뉴욕', '빵굼터 착한빵집', '로데르과자점', '빠스', 'SweetArt(스위트아트)', '달인의 꿈', '매그놀리아코리아 가든파이브점', '마사스오븐', '쿠키모리', '쿠키모리', '빵의 마을', '뚜레쥬르(TOUS les JOURS)', '이지바이', '브레드박스', '종로복떡방세검정점', '뚜레쥬르', '미니스톱독립문점', '삼대남문떡집', '때때로비', '크라운베이커리', '빵굼터', '쁘띠랑제', '겔러리아', '크리스피크림 롯데백 잠실광장점', '강남 고로케 잠실직영', '스위트밀롯데잠실점', '파리바게뜨(아시아선수촌점)', '던킨도너츠 석촌역점', '던킨도너츠', '이낙근찹쌀떡베이커리리', '앤티앤스', '슈톨렌케익하우스', '베이크 배러(bake batter)', '오븐 인 코티지', '도레도레 롯데월드 어드벤처점', 'MACARON LEI (마카롱레이)', '뚜레쥬르석촌역점', '피자크라상', '소년소녀가장돕기델리점', '아가페과자점', '제나주비과자점', '라이스죤(RICE-ZONE)송파점', '윈첼도너츠가락점', '베이크하우스', '(주)파리크라상', '르몽드바게뜨', '원 베이커리', '크라운베이커리', '신라당', '가나베이커리', '안데르센과자점', '케익하우스엠마', '빵굽는마을', '빵굼터', '뚜레쥬르송파한양점', '트레비', '롯데델리', '심경섭과자점', '따삐오베이커리강동점', '빵아저씨쿠키아줌마', '파리바게뜨(문정역점)', '부산베이커리', '트윈스델리', '보네스뻬', '빵굽는마을', '신라명과', '금비베이커리', '파리바게뜨풍납토성점', '(주)수라당', '라이스존', '크라운베이커리', '케익하우스 빈', '크라운베이커리', '던킨도너츠풍납점', '(주) 브레드가든', '롯데호텔 팝업스토어', '뉴월드제과점', '마 Bread', '빵굽는마을', '이성철베이커리', '바게뜨베이커리', '주재근베이커리', '영베이커리', '바게트베이커리', '빵나라케잌나', '노성회과자점', '이루명차', '베스킨라빈스', '비알코리아(주) 던킨도너츠 종로3가점', '크라운베이커리', '제일제당뚜레쥬르평창점', '베스킨라빈스', '진로베스토아종로점', '라미르뺑과자점', '신라명과', '에꼴드크루아상', '뚜레쥬르송파장미점', '생크림케익타운', '빵 좋아하세요', '팡상스 즉석빵', '쁘띠 르뽀미에 롯데신천점', '베베', '와플대학', '엔젤라투라레', '강남고로케 가락점', '브레드미 올림픽공원점', '작은평화', '빵사랑베이커리', '에센브르 신천점', '이데이앤데이 올림픽점', '치짜이시앙팡,초코링', '허니비 대왕카스테라 송파본점', '프랑스과자점 쉐프', '프로방스제과', '뚜레쥬르', '반월당 고로케', '팡베이커리', '가렛팝콘', '본 아베띠', '브레드미(잠실레이크점)', '브린(Breen)', '(주)더브레드블루', '마이스터과자점', '한라제과', '그랑메과자점', '크라운베이커리', '뉴욕베이커리', '파리베이커리', '모짜르트', '리치웰과자점', '(주)파리크라상 대학로점', '뉴바게트프라자', '던킨도너츠삼일로점', '아드레뜨과자점', '요겐후르츠', '비알코리아(주) 던칸도너츠 대학로점', '고로케쿡(성수점)', '뚜레쥬르 왕십리센트라스점', '대만빵집 뚝섬점', '빵선생 상왕십리점', '카밀레 빵집', '코니 베이커리', '(주)신라명과', '테이스팅브레드', '핫브레드 답십리역점', '바이첸제과점', '빠삐용베이커리(PAPILLON BAKERY)', '홍두당 꽈배기', '마고', '쁘띠 르뽀미에 롯데잠실3동점', '모짜르트', '케익하우스풍차', '보네스뻬', '티씨비와이', '미고잠실점', '윈첼도너츠', '라끄베이커리', '홈플러스 익스프레스 성수점', '몽블랑제(Mon Boulanger)', '뚜레쥬르 응봉현대점', '브레드칸', '와리베이커리', '구스토 방이동점', '파리바게트', '크라운베이커리', '넛츠덕스 종로5가역점', 'SUBWAY 종로점', '디저트랩(DESSERT LAB.)', '르봉팡(LE BON PAIIN)', '슈가벨라', '스윗 앤 브레드', '브레댄코훼미리직영점', '브레댄코', '따삐오베이커리', '따삐오베이커리', '행운식품 롯데마트월드점', '케이크에 퐁당', '몽 블랑제(Mon Boulanger)', '몽 블랑제(Mon Boulanger) 잠실점', '파리바게뜨키자니아점', '파리바게뜨가락대림점', '이 데이앤데이 가락동점2', '아루신세계강남점', '(주)한국전통문화사업단 본화과', '샹피니제과점', '에센브르', '몽블랑제(Mon Boulanger)', '(주)조선호텔베이커리', '브레드앤페스츄리(bread＆pastry)', '뽀루뚜아', '에센브르제과점', '파리바게뜨', '빵가마', '빵굽는사랑방', '빵굽는동네', '파리바게트 양재2호', '뚜레쥬르잠원점', '엘빠소', '아꼬떼뒤 파크', '팡 베이커리', '신당뉴욕베이커리', '파리바게트', '고려당판매(주)포숑', '비알코리아(주)던킨도너츠 서울역1호점', '파리바게뜨 명동중앙점', '지화자', '보네스뻬 서울역점', '빵고을과자점', '레오니다스', '아마폴라델리(주)', '또아식빵', '퐁네프', '파리바게트삼성화재', '닛시베이커리', '움트', '프랑세즈 베이커리카페', '경성고로케', '김용현 베이커리', '빵빵한 연구소', '방배빵빼', '기야마', '샘아저씨 마늘빵', '브레댄코', '서서울농협 하나로마트 사직점', '빵하우스', '사랑의빵집', '필리', '검은아저씨가게', '윈첼반포', '아루', '타워베이커리', '이탈리앙베이커리', '주재근베이커리', '케익하우스델리', '파리바게뜨 명동점', '(주)현대그린푸드 베이커리 C.K', '파리바게트', '파티오', '시모네빵집', '로망스베이커리', '독일제과', '에센브르과자점', '파리바게뜨 성수동1가점', '뉴욕빵제과', '에센브르', '뚜레쥬르(응봉점)', '마운틴하우스', '더 메나쥬리 본점', '크라운베이커리', '파리바게뜨', '빠리바겟트', '신세계본점 사옹전', '프랑가스트', '파리바게트약수역점', '카페마더', '팽드스토리', '서울연인단팥빵', '경성고로케(신반포점)', '어묵생각', '밀갸또', '줄리에뜨', '도코팡야 반포점', 'Pain de ruelle(뺑드 루엘르)', '르벵 베이커리', '발밤발밤', '젠틀레이디컵케이크', '엘리스파이', '줄리앤제임스', '더 브레드', '브레댄코 & 나뚜루 강남성모병원점', '주식회사 빌리엔젤', '타르틴 신세계강남점', '윤종희전통떡방(경복식품)', '두레상', '몽 블랑제(Mon Boulanger)', '서울대병원 뚜레쥬르', '엘스호두', '파리바게뜨(청계까페점)', '파리바게트(종로까페점)', '빚은 시청점', '신라명과 을지로3가역점', '송악농업협동조합', '씨제이푸드빌(주) 빕스버거 쌍림점', '모찌크림', '던킨도너츠 반포 한신점', '크라운베이커리', '퀸베이커리', '뉴욕제과(반포점)', '몽쉐프', '블랑제리 장스', '쁘띠랑제', '파리바게트교대점', '쉐 휘가로과자점', '김영모과자점', '이철호베이커리', '신라명과 신반포대리점', '올드파리', '빠네뜨리아', '뺑드니포이점', '은지', '크라운베이커리', '브래드팩토리', '빚은북촌한옥마을점', '몽블랑제(Mon Boulanger)', '와플대학 협동조합', '빌리엔젤 신세계본점', '베이커리24스트리트', '경성고로케', '아노후식공장', '에꼴드 크루아상', '한나식빵', '리나스 서대문점', '움트', '본밀', \"웜트(Warm'te)\", '넛스토리', '레어버드컴퍼니', '줄리에뜨', '그랑제리', '신라명과', '움트', '줄리에뜨(Juliette)', '메나쥬리 본점 케익실', '라몽떼', '도향촌', '안동참마명과', '빵의정석', '르푸도레', '성심당롯데소공동', '가미엔', '달보드레', '크룸카카(Krum KaKa)', '앤티앤스 신세계본점', '인사동유기농단팥빵', '레어버드컴퍼니', '브래드팩토리', '리나스광화문점', '서울연인 노엘', '메르헨', '밀갸또', '세빛 돌체', '서울연인 단팥빵', '빈디', '경성고로케 신세계본점', '고마워케이크', '던킨도너츠', '파리바게뜨서초점', '뉴코아제과', '던킨도너츠', '케익하우스미호', '파리바게트양재역점', '(주)브레드가든', '마인츠돔과자점', '브랑제리', '브레드토크', '해피바게트', '잭브래드(JACKBREAD)', '황금똥빵', '종유당', '뜨레쥬르', '타르틴', '앤티앤스', '브레드앤써플라이(Bread and Supply)', '비알코리아(주) 던킨도너츠 두산타워점', '쁘띠첼 제일제당사옥점', '빚은 정동점', '파리바게뜨 남대문점', '패이야드부티크', '힛더스팟 베이커리', '비알코리아(주)던킨도너츠명동2호점', '크리스탈빵집', 'B.T.M', '바로굼빵터', '(주)고메베이글', '베떼엠', '(주)조선호텔베이커리 원(One)본점', '베이글 앤 파이', '파리바게뜨 명동1번가점', '라에스키모에어(la eskimoair)', '뚜레쥬르 방배점', '빵(Pao)베이커리', '비어드 파파', '강남신세계궁실사옹전(행사)', '후레쉬&후레쉬', '신라명과', '비알코리아(주) 던킨도너츠 양재2호점', '케익하우스 밀레', '뻴띠에 고려당', '그린하우스', '뚜레쥬르 교보타워점', '블러썸(Blossom)', '비어드파파 구반포점', '샹드미', '서울과자', '예당', '유가농업협동조합', '경성고로케', '아미드팡과자점', '쁘띠뺑', '던킨도넛츠', '파리바게트(반포가든점)', '쉘브르 베이커리', '좋은빵만들기', '김영모 과자점', '뺑아미과자점', '델리코지박스', '빵드리아', '독일빵집방배지점', '빵굽는마을', '빵굽는작은마을', '파리바게트', '케익하우스엠마', '케익하우스엠마', '단성사아이스베리플러스점', '아이스베리', '뚜레쥬르', '제이유제과', '앤타운 베이커리', '파리바게트', '비엔에스', '씨유 생산성빌딩점', '파리바게트(청구점)', '브레드토크(BREAD TALK)명동점', '앤티앤스프레즐', '(주)로티보이베이크샵 코리아', '검은아저씨 가게', '파리바게뜨', '뚜레쥬르 청구역2점', '르브레드랩 신세계 본점', '강화까까', '연제과', '곰', '커트니', '크라운베이커리 사직점', '서서울농협유통분사 하나로마트사직점', '비알코리아(주) 던킨도너스 성대점', '타르틴 신세계본점', '에구찌', '미고', '마인츠돔', '오티스쿠키', '경주빵', '기와', '사까에야', '미고일산공장롯데본점', '던킨도너츠서대문역점', '안흥찐빵(S&J)', '레빗브레드', '르브레드랩 롯데백화점 본점', '공주떡집', '르푸도레 신세계백화점 본점', '호야호야', '(주)브레드가든', '파티스리프레즈', '스윗드림키친', '벨띠에 고려당', '몽 블랑제(Mon Boulanger) (숭인점)', '호두나라', '에이비씨뉴욕제과종로직영점', '브레댄코 광화문점', '호두스토리', '훼미리마트 동대문점', '빵굽는 동네', '빵이 가득한 집', '금자탑베이커리', '뚜쥬루', '맛사랑제과', '크라운베이커리', '뚜레쥬르', '뒤샹', '마인츠돔', '대두강남식품', '디토르테', '브라운커널도너츠', '(주)윈첼코리아', '델리본고려당', '뚜레주르 내방역점', '더루시파이키친', '비알코리아(주) 던킨도너츠 강남본점', '베떼엠(BTM)', '레꼴듀스', '올리브베이커리', '라쌍떼', '와플반트', '뚜레쥬르(양재구룡점)', '던킨도너츠 뉴코아강남점', '더 구르메 빈', '(주)파블로코리아', '홈플러스 익스프레스 서울평창점(몽블랑제)', '빵굽는 마을', '굿베이커리', '뜌레쥬르혜화점', '몽 블랑제(Mon Boulanger)', '그랑프리', '컵케이크포앨리스(Cupcake for Alice)', '굿베이커리', '비알코리아(주) 던킨도너츠 종로2가점', '빵굼터', '빠리바게트 미니', '가또마들렌', '밀도 롯데팝업점', '삼송빵집 현대시티아울렛동대문점', '종로복떡방', '쁘띠미우', '파리크라상 강남점', '그랜드파파 베이커리', '빚은 경복궁역점', '빚은 광화문점', '아리단', '(주)파리크라상 파리바게뜨 종로시그니처점', '팡슈', 'bread basic(브레드 베이직)', '노아베이커리 삼청점', '(주)기야마', '글라소디', '씨제이푸드빌(주)뚜레쥬르명동점', '미후베이커리(주) 롯데영플라자점', '빈디', '우 베이커리', '북촌유기농 명인단팥빵', '유월의 마들렌', '삼송빵집 신세계백화점 명동점', '베이크 랩 서초점', '김영모 과자점', '멜리멜로', '울금호떡', '(주)더브레드블루', '기야마', '펀케잌', '비알코리아(주)던킨도너츠 종로2가점', '(주)크라운베이커리 관철동점', '비알코리아(주) 던킨도너츠 종각역점', '크리스피크림 대학로점', '보네스뻬 브레드 종로점', '코코호도종로점', '뚜레쥬르', '비알코리아(주)던킨도너츠 종로1가점', '황루강남', '(주)명류당', '더루시파이키친', '베떼엠(B.T.M)', '크라운베이커리', '가또다므', '레포레미스', '메종엠오', '웰빙 쌀빵', '봉지미', 'Le sweet it (르스잍)', '홍종흔베이커리', '베키아에누보 강남점', '브랑제리', 'Comme France', '미나스', \"ROBIN'S BAKERY(로빈스베이커리) 남부터미널점\", '삼송빵집 고속터미널점', '뉴보리수', '빵마을', '퐁슬레제과점', '크라운 베이커리 세운상가 직영점', '셀란', '가야', '빵굼터', '궁실(한다과)', '빵굽는 쉐프정', '짱구제과', '스위트플라워팩토리(Sweet Flower Factory)', '아조레스 제과', '파리크라상', '호두데이', '뚜레쥬르', '아마폴라델리', '레비지옹', '파리바게트교대법원점', '행운식품(주)롯데슈퍼', '보네스뻬 서초점', '파리바게트', '참존물산', '보네스뻬 브레드', '고자부', '그랑빠니에', '파리크라상서래점', '던킨도너츠구반포점', '라쉬퐁과자점', '던킨도너츠방배까페점', '빵굼터', '시니당', '던킨도너츠', '이지바이', '파리바게트', '그랑마블', '가또마들렌', '뚜레쥬르 서초남부터미널', '롤롤', '기야마', \"ROBIN'S BAKERY(로빈스 베이커리) 양재점\", '마노핀 신세계 강남점', '몽 블랑제(Mon Boulanger)', '파리바게뜨', 'Sweet factory', '몽 블랑제(Mon Boulanger)', '설앤케이크', '파리바게뜨(이수역점)', '뚜레쥬르(서초우성2호점)', '홍미당', '메종엠오', '스티키핑거스', '몽 블랑제(Mon Boulanger)', '예다손 서울반포자이', '파리바게뜨 강남중앙점', '약수터', '몽블랑', '파리바게뜨구기점', '나무와벽돌델리', '윌튼데코 애니버서리', '뚜레쥬르 남부터미널점', '서울연인(교대역점)', '티앤비스토어', '따삐오 남부터미널점', '레이디엠 켄펙션스코리아', '몽블랑제', '경성고로케', '밀내음 단팥빵 양재본점', '신이지앙 브레드(반포점)', '몽 블랑제(Mon Boulanger)', '비스코티하우스', '재희스 파티세리', '뚜레주르 사당중앙점', '비알코리아(주)던킨도너츠 강남대로점', '프루티 케잌샵', '롯데쇼핑(주) 롯데슈퍼점', '이지바이', '나폴레옹 과자점', '씨엘(CIEL)01', '파리바게뜨내방역점', '스티키 핑거스 베이커리', '델리만쥬', '던킨도너츠서초구청점', '던킨도너츠', '신라명과', '던킨도너츠고속터미널2호점', '코핀느', '라정 찰보리빵', '퀸메리스과자점', '까피델리스', '파리바게뜨 방배삼호점', '아프레미디 기프트샵 강남점', '커피올로지 팔래스점', '파리바게트 양재드림점', '파리바게뜨 강남모나코점', '강남리나스', '츄이주니어(Chewy Junior)', '맘스쿠키', '파리바게뜨 서래마을점', '라 폴리아', '파리바게뜨  방배메트로점', '마고', '밀내음단팥빵', '대왕용카스테라 엔터식스강남점', '(주)브레댄코 내방역점', '라이스 존', '빵선생', '픽어베이글', '(주)농협유통 두레미담 상명대점', '씨엘(CIEL)01', '크로바 제과점', '록키마운틴초콜릿팩토리 광화문점', '신라명과내방점', '강원식품', '떡담 서초점', '(주)조선호텔베이커리 달로와요2 강남점', '명과여행·홍루몽', '빵굽는동네', '수케익', '던킨도너츠 논현역점', '브래드웍스반포자이', '비알코리아(주) 던킨도너츠 남부터미널점', '다까쇼코리아', '참존물산', '던킨도너츠 교대2호점', '홍스베이커리', '파티쉐리뒤샹', '씨얀크레페', '라쉬퐁 과자점', '크레이지크레페 강남점', '미고 신세계강남점', '던킨고속터미널3호점', '크리스피크림 사당점', '크리스피크림 센트럴시티점', '신라명과(일동제약점)', '다브', '마인츠돔 교대역점', '하루노유키', '노엘베이커리', '에이.비.씨상사(주)뉴욕제과', '(주)동큐제과', '라쌍떼', '뚜레쥬르 이수역점', '뚜레쥬르', '쉐휘가로 베이커리', '김성모전통빵', '경주전통식품', '예과당', '레드봉베이커리', '베떼엠(BTM)', '뚜레쥬르', '파리바게뜨 양재하이브랜드점', '블러썸(BLOSSOM)', '세러데이브런치', '(주)디엔비', '태림식품', '베떼엠(BTM)', '마인츠돔 방배', '크라운베이커리(반포점)', '보시엘 드 파리', '윈첼코리아 반포지점', '몽뻬르 교대점', '앤티앤스', '속력식품', '파리바게트 서초롯데', '세기제과점', '던킨도너츠(이수역점)', '앤티앤스', '라이스존', '레드빈 1', '(주)장군식품', '오페라하우스', '그린식품', '삼순이(SamSuni)', '던킨도너츠', '말랑떡', '(주)디엔비', '박재진베이커리', '라이스존서초점', '(주)홍루몽', '신라명과', '럭키베이커리', '쁘라떼도너츠', '(주)윈첼코리아', '호도원 호두과자', '보네스뻬(남부터미널점)', '올레뜨', '신라명과대학로점', '르네상스과자점', '빚은 남부터미널역점', '르알레스카', '파스타 데일리(Pasta Daily)', '파리크라상교대역점', '빚은서초우성점', '빚은 강남영동프라자점', '삼순이(SamSuni)', '프레쉬파티쉬에', '유앤화케익가든', '(주)오페뜨 신세계강남점', '노브엠버', '따삐오롯데 서초점', '(주)미젠빠티쉐', '베떼엠', '대두식품', '(주)더닐크팩토리', 'SES gateaux 세갸또', '크리스피크림 강남점', '코코호도', 'bread&co', '뚜레쥬르', '미스터홈즈 베이크하우스', '한주형 베이커리', '슈에뜨(chouette)', '하우스레서피티케잌(HR)', '보네스뻬(서초2점)', '몽 블랑제(Mon Boulanger)', '이 데이앤데이 서초동점', 'Sweet16th( 스위트식스틴스)', '빵굼터', '따삐오 방배점', '나폴레옹과자점', '파티스리 서강헌', '리샤', '요쿠모쿠', '쌀람 베이커리', '밀갸또', '베이크 스토리', '르브레드랩 강남점(신세계)', '브리에', '강화까까', '퍼플라이프', '비엔베이글', '라이스하우스', '라이스존', '프로마쥬', '본센베이 하꼬네만주', '쿠와', '본화과', '검은아저씨가게', '더브레드블루', '기야마', '르푸도레신세계백화점강남점', '더닐크팩토리', '버거진대학로점', '(주)롯데리아종로점', '서울떡집', '우리떡집', '배스킨라빈스', '약초방', '빠빠맹(PaPaMain)', '북촌 명인 유기농단팥빵', '서촌 양과자집 레', '마고', '플레인', '반월당 고로케', '라몽떼', 'OLD FASHIONED Bakery(올드 훼션드 베이커리)', 'Toudou(뚜두)', '주식회사 신세계에스브이엔 달로와요', '더빵집', '서울연인단팥빵', '더벨로', '한살림 서초매장', '광화문빵집', '뚜레쥬르', 'Bonito Tart(보니투 타르트) 강남점', '드프랑', 'BREAD, ESPRESSO & (브래드, 에스프레소 &)', '토야푸드빌', '신라명과 강북삼성병원점', '창신동 빵공방', '따거 대만카스테라 동대문점', '브레댄코 종로3가역점 153-02호', '카페 밀', '프랭크', '경성컴퍼니', '주식회사 가토드보야주', '어니스크', '메르시', '식빵학개론', '(주)라이프추리', '가렛팝콘샵', '로얄몬드', '던킨도너츠강남2호점', 'Doux lapin(두라팡)', '트로이과자점', '빠네뜨리과자점', '에끌레어 드 제니', '고선생고로케', '파리바게뜨 강남본점', '(주)에이셰프크라프트 방배점', '비스코티하우스', '(주)고메베이글', '파리빵마을', '뉴코간편식', '케익하우스폼므', '하니비', '하우스바게뜨', '박종근과자점', '파리바게트 남산쌍용점', '빵사랑베이커리', '라리케이크', '오페뜨 서래점', \"7 O'clock\", '움트', '피엔비(PNB)', 'GONTRAN CHERRIER (곤트란쉐리에) 잠원점', '델라보보 강남NO점', '팥고당', '곤트란쉐리에 센트럴시티점', '마고', '블루바니', '이희관베이커리', '부랑즈리제과점', '크라운베이커리', '루돌프베이커리', '파리바게트잠원역점', 'Art K (아트케이)', '젠베이커 반포아이파크점', '브레드앤써플라이', '배스킨라빈스 서울베이비 키즈페어 임시부스', '미에뜨', '주식회사 가토드보야주', '단수이 대왕카스테라 방배점', '캐빈', '레드팡과자점', '크라운베이커리', '케익하우스 동경', '크라운베이커리 한대점', '크라운베이커리옥수점', '(주)크라운제과한양대병원점', '아이비케익카페', '빵내음', '크라운베이커리', '정형석과자점', '케잌하우스 바하', '라케익', '빵굽는작은마을', '빵의마을', '빵굼터', '파리바게트 신금호역점', '본네스뻬(행당점)', '던킨도너츠', '로마파네', '칸피던트과자점', '맛나베이커리', '브랑제리', '케익프라자', '케익하우스몽마', '세니카스테라', '대두강남식품', '에프디 크레페', '크라운베이커리', '홍케익', '삼송빵집', '한입원바이트', '호도원호두과자', '스티키핑거스베이커리', '세미식품', '레드빈1', '라이스존', '앤드류스에그타르트', '호도원호두과자', '삼순이', '테레목', '파리바게뜨(까페명동광장점)', '비스코티하우스', 'BTM', '브레드05', '그래인스', '에스피씨 삼립 정성스레 빚은 떡 빚은 무교점', '대구 근대골목단팥빵', '웰빙쌀빵', '픽어베이글', '앤티앤스', '파리바게뜨', '비알코리아(주)던킨도너츠서소문점', '크리스피크림 명동점', '미스터도너츠', '빠나미(충정로점)', '따삐오베이커리신당점', '뚜레쥬르을지로6가점', '에브리데이 컵케이크', '비알코리아(주) 던킨도너츠서울스퀘어점', '신라베이커리', '뺑드비제과(응봉점)', '이딸리앙베이커리', '따삐오베이커리 신당점', '송악농업협동조합', '지화자', '노이하우스', '메리스', '뒤샹', '레어버드컴퍼니', '더애플', '식빵가게 엘린', '(주)신세계조선호텔 베끼아에누보델리', '에릭케제르(EK)', '뚜레쥬르충무로극동점', '케익나라몽블랑', '한나식빵 남대문점', '코트도르 명동점', '앙트르메', '비알코리아(주)던킨도너츠충무로역점', '비엔씨 롯데점', '신세계푸드 데이앤데이 청계천점', '아마폴라', '루시카토', '브레드원', '서울연인단팥빵', '케익이벤트', '신라명과금호', '뚜레쥬르한양대점', '뚜레쥬르', '만나', '커피앤브레드', '성심당 서울롯데점', '모리아', '와플대학', '홍미당', '홍미당', '크리에잇쿠기', '롤링핀 정동점', '더베이크', '삼송빵집 롯데백화점 명동점', '따호카스테라', '브레드 밀(Bread Mill)', '앤티앤스 롯데피트인 동대문점', '와플대학', '코트도르', '금미 대만대왕카스테라 명동점', '대만대첩 대왕카스테라 명동점', '도레도레 롯데명동점', '롯데마운틴초콜릿팩토리', '빌리엔젤 롯데본점', '빵굽는동네', '뚜례쥬르금호벽산점', '뚜레쥬르-옥수점', '비엔나베이커리', '(주)조선호텔베이커리 미니원 본점', '빵굽는마을', '곤트란쉐리에', '타르틴 광화문점', '북촌유기농명인단팥빵', '(주)라이프추리', '오류옥(Allyouok)', '로티서울', '(주)더브레드블루', '베즐리', '비건빌리지', '로티서울', '근대골목도나스', '다람쥐 과자점', '서울페이스트리', '더 플랫 케이크(the flat cake)', '자돌시', '연립빵공장', '강정이넘치는집', '아이마이미마인', '꿈친 베이커리카페', '베이크웨이', '소보로 빵집', '베이크웨이', '핫브레드(석촌점)', '오늘더달달', '크레이지파이', '쿄베이커리 현대백화점 무역센터점', '(주)엘리스파이', '얌얌브레드(을지로점)', '강정이 넘치는 집', '츄컴퍼니', '가든한 공방', '베이커온도', '어나더베이커리카페', '얌얌브레드 대방역점', '베즐리', '오프더월(off the wall)', '본정초콜릿카페(영풍문고 본점)', '슬로우푸드', '동빙고워크룸', '대가빵커', '오브엘', '강정이 넘치는집', '페이브 서초점', '로티서울', '로티서울', '레프레미스', '오지힐', '외계인 방앗간', '써니케이크', '투닷츠(TWO DOTS)', '장발장 빵 훔쳐간집', '비파티세리 팝업스토어', '도란도란', '꽁뜨(Homemade dessert)', '피그말리온', '(주)튜브캐스트 베이커리카페 딜라이트', '연립커피', '에꼴드 크루아상', '파트 베이크', '(주)현대그린푸드 베즐리베이커리 압구정점', '포스트 콘디토리', '브리오슈도레 서교동점', '베이킹꼬꼬 공방', '강정이넘치는 집', '차밍케익', '이디야 학동역점', '(주)신세계푸드 베이커리 천호점', '(주)더닐크팩토리', '도레도레 현대시티아울렛 동대문점 팝업스토어', 'Klang(클랑)', '브리오슈도레 방배역점', '로티서울', '이n바이', '로티서울', '오핀 영등포지점', '두꺼비집', '(주)신세계푸드이베이커리하월곡점', '더베이크 오목교점', '주식회사 한국요유빵 마포', '강정이넘치는집', '오테라', '베즐리 베이커리', '던킨도너츠강남본점 비이커한남팝업스토어', '강정이 넘치는 집', '던킨도너츠 고속터미널점', '베이커리카페 가루밀', '디플라워케이크', '쟝블랑제리', '베키아에누보 강남점', '라라디저트', '거거케이크', '로티서울', '영청카페베이커리', 'B.T.M (비티엠)', '로티서울', '샤르망', '세이버리호미', '고로케하우스', '플라잉스콘', '코코호도(오류점)', '장진영 베이커리', '파리바게트 구로역점', '뚜레쥬르 고척동양점', '빵굼터', '글로리아제과점', '(주)보광훼미리마트', '코레일유통(주)다이닝박스', '경주빵(토방식품)', '뚜레쥬르(오류북부점)', '(주)한국철도유통 신라명과', '케익하우스', '고려당', '크라운베이커리 구로점', '크라운베이커리구로공단역점', '뚜레쥬르', '서울연인 단팥빵', '서울연인 단팥빵', '제크와빵나무', '샹제르망', '뚜레쥬르', '케익하우스 엠마', '파리팡스', '빵굼터', '강대석 베이커리', '빠띠시에(Patissier)', '꾸쉬꾸떼과자점', '파리바게뜨 구로디지털단지점', '크라운베이커리 개봉점', '슈슈', '하나멜과자점', '행복한 연세빵집', '굿모닝 오븐트리', '뚜레쥬르(남구로점)', '뚜레쥬르 신도림역점', '참손만두(찐빵)', '케익하우스몽마', '파리베이커리', '그랑프리과자점', '파리바게뜨', '신라명과(구로중앙)', '빵굽는마을', '(주)조선호텔베이커리 구로점', '크라운베이커리', '코코호도 구로디지털역점', '밀브레 신도림점', '레드팡과자점', '케익하우스 몽마', '뚜레쥬르', '신라명과', '브레덴코 신도림이마트점', '따끈따끈홈베이커리', '케익프라자', '뚜레쥬르고척시장점', '빵장수 야곱', '주재근베이커리', '빵굽는집', '샤르망빵집', '독일제과', '아로마뜨베이커리', '바게뜨과자점', '독일빵집구로분점', '영국빵집', '케익프라자', '고려제과', '꾸쉬꾸떼과자점', '보나뻬띠', '조강섭베이커리', '영국빵집', '파리바게트구로공단역점', '보시엘드파리', '문베이커리(Moon 베이커리)', '케익나라', '크라운제과구로분점', '빵굼터', '프랑스제과', '케익프라자', '크라운베이커리', '셀라제과점', '행복한마을', '(주)한국철도유통 델리델리', '코레일유통 델리델리', '하나베이커리', '케잌하우스 로마니나 과자점', '보나베띠', '블랑제르베이커리', '도파니과자점', '크라운베이커리', '파리바게뜨 개봉역점', '레드빈1', '케익이야기', '행복을 굽는 집', '추억의 왕찐빵', '임스베이커리', '아몬드제과점', '페이페이구로점', '(주)신세계이마트구로점도너츠코너', '향기굽는하얀모자', '에이케이에스앤디(주)라롬드뺑 구로점', '월드베이커리', '(주)코레일유통 델리스', 'JS베이커리', '레드팡김민지베이커리', '(주)신명제과', '(주)효애진-에구찌', '상띠에 과자점', '굿베이커리', '굿베이커리', '랑쥬베이커리', '(주)조선호텔베이커리데이앤데이구로점2', '(주)브레댄코남구로점', '로티보이', '팡도로', '팡도밀 베이커리', '쥬디쿠키', '뚜레쥬르구로6동점', '빵이가득한집', '모닝베이커리', '앤파이', '베이킹가든', '쁘띠랑제', '뚜레쥬르(신도림태영상가점)', '베이커리 르뺑블랑', '쁘띠랑제과자점', '파리바게뜨', '주해피데이(주)', '굿데이 과자점', '파리바게뜨(오류북부점)', '행운식품(주)', '빠뮤', '로티서울', '(주) 타르틴코리아용산 HDC아이파크몰', '뚜레주르 위윌락유 로열시어터', '제주한치빵', '더어글리덕-쿠키(The Ugly Duck-Cookie)', '마들렌.집', '끼끼몽', '까미노빵집', '디센트 오목교역점', '루시카토', '알몽케이크', '베즐리', '테잌더카놀리', '베이크(BAKE)', '로티서울', '랑꼬뉴', '더베이크', '빵빵베이커리', '이n바이', '마마카롱베이킹스튜디오', '마마카롱', '에이치오븐', '홍파이(Hong pie)', '비파티세리', '강정이넘치는집', '코네호베이커리', '브래드쇼', '플레어비베이커리 롯데강남점', '파리바게뜨고덕베네루체점', '강정이넘치는집', '보네스뻬(수락산점)', '던킨도너츠', '브로트 하우스', '이n바이', '베이커리 굿(Bakery good)', '이지바이', '파리바게뜨대청점', '델리베이커리', '던킨도너츠일원점', '스윗텐더베이커리', '뚜레쥬르', '코끼리빵', '핫브레드광운대역점', '브레드원', '던킨도너츠', '떡담', '케이크시퐁', '크라운베이커리대치가맹점', '뚜레쥬르강남구청역점', '크라운베이커리', '베즐리케익', '밀크앤허니 역삼점피자코너', '고마워 케잌', '빠뜨아슈', '일파운드0.453 (1lb0.453)', '포숑(롯데노원점)', '케익하우스 미호', '뚜레쥬르과자점', '모나코', '뚜레쥬르(중계1점)', '윈첼', '코레일유통 신라명과', '파리바게뜨 신상계점', '뚜레쥬르수락산역점', '졸리앤보니과자점', '뚜레쥬르(은행사거리점)', '브레드이쉬', '빵의나라', '크라운 베이커리', '곰스곰스', '슈슈베이커리', '더 바게트', '파리바게뜨 상계아이파크점', '따삐오공릉점', '브레드 칸', '브레댄코화랑대역점', '브레드원', '브레댄코', '링바볼 마들역점', '따삐오롯데상계7점', '미소빵집', '더오븐스프링', '빵대박', '아틀리에인더가든', '신라명과', '크라운베이커리 상계3점', '레비지옹(주)', '뚜레쥬르 화랑대역점', '크라운베이커리 수락산역점', '타르틴 압구정점 팝업', '(주)이음에프에스', '픽어베이글', '아꼬떼뒤파르크', \"밥아저씨빵(Bob's Bread)\", '케익하우스밀', '케익하우스나리', '홈플러스 수퍼익스프레스 중계점', '브레드하임', '경회루', '꽈나페', '크라운베이커리 공릉점', '빵야빵야', '유한회사  카페노티드', '(주)천년누리전주제과', '유한회사 카페노티드', '쥴리스', 'Dunk(덩크)', '샤르망과자점', '샤르망과자점', '프렌치키스중계점', '파리바게뜨 석계역점', '웰빙쌀빵', '베이크팡', '엘리제과자점', '루가노피자', '경주베이커리', '블랙엉클(검은아저씨가게)', '윈첼코리아(중계점)', '윈첼코리아', '향미전통식품', '디종과자점', '나눔베이커리', '브랑제리베이커리', '당고개쉼터', '빵구오베이커리', '아도레빵집', '빵굽는케익뱅크', '신라명과 하계점', '케익하우스', '잼파파', '해피데이빵', '(주)에스피씨삼립 수라방 월계점', '엘리제빵집', '(주)브레댄코 노원역점', \"베이커스 랩(Baker's LAB)\", '길버트브레드', '아꼬떼뒤파르크', '따삐오', '이지바이', '브래드 칸', '카페모카', '포숑(롯데노원점)', '(주)신세계푸드 밀크앤허니 월계점3', '마더스 프라이드', '브레댄코(상계역점)', '케익나라', '보네스뻬(상계2점)', '브레댄코 수락산역점', '브레덴코 중계역점', '케익하우스몽마', '(주)조선호텔베이커리 데이앤데이월계점3', '쁘띠앙쥬', '브레드마켓', '사랑애케이크', '신라명과 수락산역점', '뚜레쥬르 상계벽산점', '행운식품롯데마트중계점', '프리슬러', 'SPC삼립 빚은 잇투고 노원역점', '따삐오 상계7점', '정가네빵터', '보나베띠베이커리', '따삐오', '코코호도', '뚜레쥬르', '파파앤라리', '파리바게뜨상계랜드마크점', '따삐오상계중앙점', '르뽀미에(삼육대점)', '파리바게뜨(신상계점)', '살롱드몽슈슈(salon de monchouchou)(가로수길본점)', '경성고로케 압구정1호점', '에이트비돌체 가로수길점', '르브레쏭(LeBRESSON)', '픽어베이글', '윤화당2호점', '88브레드', '합(고물)', '원카페', '빵이가득한독일제과', '악토버', '올어바웃카스테라', '파리바께뜨삼호영동점', '빠리젠느제과', '파리바게트', '빵으로만든세상', '윤베이커리', '호원당', '온누리베이커리', '오테라(Otera)', '브레댄코 신수점', '던킨도너츠', '노엘', '크림바바', '소보로', '곤트란쉐리에대치점', '강남수제고로케(도곡점)', '빠나미', '강동수베이커리', '티니케잌', '케익이벤트', '뚜레쥬르도곡렉슬점', '하림치킨익스프레스', '브레드데이', '배스킨라빈스발산역점', '한국까르푸(주)가양점종합코너', '종로복떡방', '크라운베이커리', '즉석남부빵집', '마고', '바른식문화개발원', '인디오븐 내발산점', '상피에 과자점', '디저트리 신사점', '몽상클레르 현대백화점 무역센터점', '빈디', '마망갸또 강남역2호점', '키세키 도곡점', '컨버세이션', '삼송빵집 롯데백화점 강남점', '웰빙쌀빵 논현점', '펌킨테리어', '야미케이크', '쿠키크럼블', '뺑드빱바', '지유가오카브레드대치점', '케익만들기', '파리바게뜨마포홍대점', '내추럴비', '(주)브레드가든홍대점', '뚜레쥬르 서교미래사랑점', '크리스탈제과', '슈가부티크', '원베이커리', '코코호두도화점', '토모 브레드', '슈케익하우스', '달달제당', '트라이비푸드 주식회사 바로크(현대 쿠킹 라이브러리)', '트레플유오', '크리에잇쿠키', '따삐오', '비알코리아(주) 던킨도너츠 강남본점', '서울페이스트리', '파리크라상압구정점', '파리바게뜨청담한양점', '윈제과', '뚜레쥬르한티역점', '프렌치베이커리', '프랑제리 NC 강서점 1층', '데일리도우', '데이앤데이 행사매대', '웰빙쌀빵  화곡역점', '아미고 베이커리', '몽뻬르과자점', '뒤샹', '비알코리아(주)던킨도너츠선릉2호점', '하우스레서피티케익', '페리테일', '데쎄르', '고마워케이크', '피자큐', '브레드프리', '뚜레쥬르(발산2동점)', '바게트베이커리', '까치분식', '(주)영의정', '(주)르알레스카', '캬라멜 부띠끄', '피카 현대무역점', '베이커스필드', '캬라멜', '도쿄빵야', '미나스', '타스베이커리', '식빵공작소 판매점', '빵터짐', '더즌 베이커리(DOZEN bakery)', '뜨레비앙(본점)', '르빵프레', '매그놀리아', '미스터홈즈베이크하우스코리아', 'Art K 케이크전문점', '스위트에삐', '외계인방앗간', '지유가오카브레드 역삼점', '샤토레제 파르나스몰점', '브레댄코데일리뉴현대', '미우', '비알코리아(주)던킨도너츠역삼판매점', '미후베이커리압구정점', '강남어르신공동작업장(우리사랑)', '뺑드빱바', '파리바게뜨 재테크박람회점', '에구찌', '부다파이', '마고', '리치스도너츠', '로뎀바게뜨', '엘리제과자점', '박상규베이커리', '레드팡과자점', '라부아뜨', '마망갸또 강남역점', '파리바게뜨 강남역점', '나비부엌', '마리웨일마카롱 강남구청점', '더벨로 바스킷사이삼(423)', '삼송빵집 현대백화점무역점', '베이크 하우스', '에릭케제르 명품관점', '에릭케제르 특별매대', '나폴레옹베이커리카페', '반', '호산나팡', '한주형베이커리', '던킨도너츠청담점', '엠마케잌하우스', '풍년제과', '비알코리아(주)던킨도너츠대치점', '뚜레쥬르삼성힐스테이트점', '매그놀리아', '어니언 베이커리', '비티엠(BTM)', '닥터크레마(DR CREMA)', '베즐리케익', '베이크하우스', '레프레미스', '빵선생 양재역점', '매그놀리아코리아 압구정점', '샤론베이커리', '유니온트리', '대왕카스테라', '빠네카페베이커리(PANE CAFFE BAKERY)', '길버트브레드', '던킨도너츠 선릉역점', '롸이즈온(주)팡오', '뚜레쥬르개포동역점', '파나리움', '빠베베이커리카페', '샐러디', '블럭제빵소 대치점', '(주)메구미스토리지 강남롯데', '유한회사 카페노티드', '오 마이슈(O my choux)', '해나 마카롱', '단수이 카스테라 강남점', '파리바게뜨 역삼래미안', '이디야', '파리바게트', '블루밍박스', '황루갤러리아', '스티키핑거스베이커리', '더루시파이키친', '빵이가득한집', '록키마운틴 초콜릿 팩토리', '선릉 루킹래징', '한재용베이커리', '그랜드하얏트서울더델리', '뚜레쥬르', '일파운드0.453', '안광선과자점', '케익타운', '빵아저씨쿠키아줌마', '밀라노베이커리', '스텔라베이커리', '배스킨라빈스', '파리바게뜨 SBS어워드점', '원킨450그람(1KIN450g)', '곤트란쉐리에 청담점', '디저트리', '팡데이까치산점', '팡데이송정점', '크라운베이커리가양점', '알루에(alouette)', '슈엣', '비알코리아(주) 던킨도너츠 잠실본동점', '던킨도너츠 강남스퀘어점', '제이유베이커리', '한재용 베이커리', '케익하우스', '바게트베이커리', '아미가', '크라운베이커리', '빵선생', '브랑제리가또', '사찌', '오서울', '지중해', '신원', '아미쿠스', '외교다방', '수', '준', '원', '청과', '여원', '향수', '아망떼', '로마제과', '하이델', '고려', '일성', '서울뉴욕', '로사', '로타리', '뚜레쥬르합정사거리점', '오렌지베이커리', '리치몬드과자점', '프렝땅', '레드팡과자점', '빠네디밀라노(Pane di Milano)', '르네상스과자점', '파리바게트 애오개점', '프랑세즈과자점', '마스타바게뜨', '만나베이커리', '앙베르베이커리', '이딸리앙제과점', '앙베르베이커리', '오트밀제과', 'LIMS베이커리', '몽마르뜨베이커리', '마스터바케트', '유니베이커리', '데니쉬브래드', '트리본바게트', '재규네빵집', '빵굽는집', '던킨도너츠 강남역점', '오뗄두스 (가로수길점)', '마고', '타르틴 압구정 로데오역점', '오뗄두스 (압구정점)', '소보로빵집', '에이미초코', '에이미초코', '에이미초코', '페닌슐라부티크', '더브라운큐브 현대무역센터점', '브래드웍스', '에딸프', '유니온트리', '엉클테츠', '블랑제리 장', '메종엠오', '루시카토 무역점', '커피만', '파리바게뜨삼성승미점', '월드하우스', '크라운베이커리일원직영점', '정일품디저트', '뚜레쥬르압구정점', '쌩미쉘', '파리바게뜨역삼역점', '로얄컵케익', '던킨도너츠압구정역', '뚜레쥬르 강남역중앙점', 'Cake Tailor (케이크 테일러)', '(주)케이엔지(KNG)', '마리안', '파리바게뜨 역삼초교점', '소망 베이커리', '신호', '퐁네프제과점', '홍도선과자점', '스테라', '베이커스메종', '몽블랑제회기점(2)', '떡이조아', '꼬미다드연남', '뚜레쥬르월드컵북로점', '뇽뇽마카롱', '발보아파티쓰리', '파리바게뜨홍대역점', '지새우고', '비제이마이웨일', '조스샌드베이커리', '파리크라상압구정역점', '아틀리에봄', '마이브레드', '도쿄스위츠', '쁘띠르뽀미에 은마점', '도쿄빵야', '(주)조선호텔베이커리 수서점', '돼지라 불리운 고양이', '도쿄빵야', '(주)오리온 마켓오 카페 브라우니', '(주)오리온마켓오카페브라우니', '캔버스케이크(CANVAS CAKE)', '카페 이에나파이', '아마폴라델리', '리스플라워', '프로퍼핏', '포숑 에스에스지 청담점', '곤트란쉐리에 파르나스몰', '홀리케익', '(주)대명샤르망 역삼역점', '엠마', '더케이크(THE CAKE)', '아가다 베이커리', '홈플러스(주) 몽블랑제(홈플러스 익스프레스 도곡2점)', '파리바게뜨뱅뱅사거리점', '에스에프베이커리', '보네스뻬삼성점', '팰리스제과', '케익나라', '더빵', '신명제과', '홈플러스(주) 몽블랑제(홈플러스 익스프레스 압구정점)', '스티키핑거스베이커리', '고양이네', '베이킹고스트', '나폴레옹제과점', '올바른 단팥빵,고로케 일원점', '마담파이', '샹떼과자점', '베테랑베이커리', '매그놀리아코리아 압구정점', '픽어베이글', '뺑드빱바', '타르트팜 한티역점', '뺑드씨엘', '아마폴라델리', '빠베베이커리카페', '파리바게뜨역삼점', '스윗드림케익', '뚜레쥬르 강남논현점', '(주)발레리코리아청담점', '파리바게트', '(주)올가홀푸드', '뚜레쥬르', '코코호도개포점', '브레드 미', '한스브로트', '홍미당(압구정로데오점)', '검은아저씨가게', '(주)맥 대치미도점', '더루시파이키친', '부케도르과자점', '빵굽는마을', '파리바게뜨', '영심이네빵집', '브레드청담역점', '파리바케뜨선릉역점', '다르네카페', '미후베이커리강남교보타워점', '빠리바케트', '빠리바게트삼성삼익점', '따삐오도곡점', '블레스블룸', '수제케이크 데이즈아이', '로프(LOAF)', '교토마블', '베이크하우스', '서울치즈케이크 현대압구정점', '이디야 대치역점', '픽어베이글', '아우어베이커리 가로수길점', '크리에잇쿠키', '피스파니', '(주)엔에프앤비 청담점', '얀슨', '럭키베이커리', '콜드스톤천호로데오점', '밀라노베이커리', '케익하우스웰본', '초록바다', '아베르베이커리', '리치베이커리', '하니비베이커리', '두리앙베이커리', '아비앙또과자점', '정풍베이커리', '파리바게뜨홍대점', '올어바웃스위트스튜디오', '행운식품농협신촌하나로점', '빠네디밀라노(Pane di Milano)', '마담파이', '레프레미스', '신대학당', '크라운베이커리명일동점', '서강림베이커리', '인스베이커리', '커니셔아이스크림', '브레드박스', '앙스블랑', '빵굽는 작은마을', '몽 블랑제(Mon Boulanger)개포점', '라부아뜨', '여명제과', '던킨도너츠 르네상스점', '비알코리아(주)던킨도너츠학동역점', '이에나파이', '대두강남식품', '뚜레쥬르대치사거리점', '베떼엠갈레트', '베떼엠갈레트', '라이스존', '빚은대치점', '아뜰리에앤프로젝트', '이제이 베이킹 스튜디오', '희카롱(HEE CARON)', '노블리에과자점', '네모속 네모', '뚜레쥬르 방화사거리점', '(주)조선호텔베이커리가양점', '브레드루츠(BREAD ROOTS )', '미스터무시팡(도곡역점)', '에스피씨 삼립 빚은 신사역점', '이앤(n)바이 (한티역점)', '베즐리케익', '앤티앤스 프레즐', '피앤비아봉당', '유앤화케익가든', '미세스페기', '러브시스터즈', '브레드토크(BREADTALK) 대치점', '리나스코엑스점', '따삐오', '보네스뻬(대치점)', '던킨도너츠', '르쿠르', '(주)윈첼코리아', '애플민트', '양과자점', '베이커리팡스', '본젤라또', '강성수과자점', '가나안베이커리', '파리바게트', '이딸리앙베이커리', '과자점아이리스', '도쿄팡야(도산점)', '베커라이 트라움', '브레드박스', '서울연인', '디저트랩', '40192 롤', '비 블레스', '씨엘드 프랑스과자점', '에뜨왈', '더 메나쥬리 PNP점 행사매대', '뉴욕 베이커리 카페', '키친가든', '주식회사 듀자미', '듀자미', '(주)르퓨어', '키친가든', '페닌슐라부티크', '무스쿠스 대치점', '단비', '밀 베이커리', '원앤온리(one and only)', '이n바이 삼성점', '브레떼 대치점', '다르네', '365플러스 편의점 대치점', '레티튜드 37', '케이티스', '보네스뻬(역삼점)', '포숑(현대무역점)', '머랭머랭', '송사부수제쌀고로케', '블레스불룸', '브리오슈도레', '매그놀리아', '훼미리마트성내포레스점', '빵이가득한집', '그랑프리제과', '베이킹쥐디', '브래드쇼', '파블로코리아', '파리바게뜨 압구정행복점', '일파운드0.453', '업타운 베이커리 강남세브란스점', '에이미초코', '뺑드빱바', '비알코리아(주)던킨도너츠국기원점', '케익앤브레드', '파티스리민', '블랑제리가또', '블랑제리(도곡점)', '뺑프레베이커리카페(PAIN FRAIS Bakery @ Cafe)', '오뗄두스 퍼프(Puff)', '던킨도너츠 선릉역점', '피규어뮤지엄더블유', '올리브(Olive)앙빵', '바게트 세븐', '로얄컵케익', '우리', '명', '오스카커피숍', '그린커피숍', '수', '은좌', '구구', '노타리제과', '만나베이커리', '라베또과자점', '사랑방', '키', '신진', '옛동산', '피노키오베이커리', '파리바게트 (천호 로데오점)', '구마리온', '베이커리', '외계인방앗간', '보리수', '쁘띠가또베이커리', '빵굼터', '오페뜨현대압구정점', '서울연인 단팥빵 대치점', '씨블링스 베이커리', '또아식빵 논현점', '빵어니스타', '고꼬로', '황루타팰', '수다의놀이터', '가또마들렌', '(주)크라운베이커리 세이러스 개포점', '타르틴 팝업 스토어', '임브레드(IMBREAD)', 'JANG베이커리', '트레플 유오', '에스엠타운카페 코엑스', '(주)알엠씨에프코리아', '40192베이커리', '보네스뻬 강동점', '르몽드 앙띠에 과자점', '파리바게뜨', '(주)조선호텔베이커리 데이앤데이 천호점2', '쿠키쿠키', '샬롬베이커리', '이범한식과자', '리또', '아미산', '(주)천년누리 전주제과', '브레댄코 율현점', '파리바게뜨', '피타(PITA)', '던킨도너츠스카이시티몰', '크라운베이커리개화산역점', '데이앤데이 김포공항점', '커피&샌드위치하우스', '유미과자점', '프랜치키스', '뚜레쥬르', '케익하우스구페', '허니힐 베이커리', '베이커스필드', '별을따다구운과자', '르 라보(LE LABO 175)', '판다 크루아상(panda croissant)', '조재진 과자점', '주식회사 베이커스필드', '브레댄코 세곡점', '서울페이스트리', '유한회사 카페노티드', '베이킨 (BAKINC)', '씨엘드 프랑스', '더브라운 제과점', '제니', '비엔베이글', '빵선생', '엄마가 구운 빵', '빵선생', '피자카트', '뉴욕베이커리', '현대원두커피전문점', '월드파리제과점', '거북당제과점', '파리바게뜨카페대학로', '에딸프', '밀크앤허니역삼점', '(주)농업법인쿱스토어 강남대치점', '마이브래드', '에딸프', '햇님', '풍년제과', '까치', '삼학', '동산', '민들레', '여로', '나포리', '청자다방', '그린하우스', '현대', '영', '나폴레옹과자점', '크라운베이커리', '다브', '던킨도너츠', '타르트', '파리바게뜨', '뚜레쥬르삼성공항터미널', '뚜레쥬르삼성점', '라틀리에모니크', '크라운베이커리', '브레드하우스', '크라운베이커리(화곡중앙점)', '뚜레쥬르', '우리밀베이커리', '스티키핑거스베이커리', '브레댄코학동점', '파리바게뜨삼성역점', '(주)조선호텔베이커리데이앤데이역삼점2', '본화과', '케이크', '빠드리노', '본 프랑스', '그리다케이크(Greeda Cake)', '외계인방앗간 가로수길점', '꼼 다비뛰드', '쥬벨베이커리', '(주)조선호텔베이커리 데이앤데이명일점2', '빵굽는사람들', '파리바게뜨', '비스위트온', '홈플러스 익스프레스 개포2점', '다르네 역삼점', '나폴레옹', '그랜드하얏트 서울델리 (무역점)', '서울미라마(유)그랜드하얏트서울델리', '마인츠돔 청담역점', '(주)피카 델리점', '에브리데이 컵케이크', '팥고당', '라에스커모(LAESKIMO)', '나폴레옹 과자점', '(주)파블로코리아', '용궁', '중앙', '케익만들기', '지앤지인터내셔널(주)', '뉴욕', '이딸리앙베이커리', '보뇌르아띠', '알루에(alouette)', '울산명과', '로얄컵케익', '더베이크하우스', '빈디', '디저트클럽 치카리셔스', '디저트리 압구정점', '풍성제과', '도쿄빵야', '아마폴라 델리', '브레드 오크', '이 데이앤데이 삼성동점', '파리바게뜨', '마망갸또', '손가화덕 논현점', '앙꼬(anko)', '트래블 (Travel)', '웨스트진 베이커리 카페', '브레드 앤 써플라이(bread and supply)', '(주)팥고당', '케익하우스이삭', '제이에이치푸드', '(주)조선호텔베이커리 데이앤데이 천호점2', '뚜레쥬르 강일리버파크점', '주식회사 기야마', '구송베이커리', '파리바게뜨 강일점', '굿베이커리', '오르리단팥빵마포직영점', '(주)브레드가든', '아르데슈와', '그랜드 파파 베이커리', '따삐오베이커리', '샘', '초원제과', '돌샘', '월드베이커리', '으띠미아베이커리', '불란서', '고려', '은아', '이진원베이커리', '빵의온도', '몽뻬르과자점', '호도원호두과자', '본누벨과자점', '가루하루', '트웬티파이브아이엔지(25ing)', '(주)곤트란쉐리에코리아', '캐틀앤비', '바른에프앤씨 학동점', '삼송빵집 현대백화점 압구정점', '도레도레 롯데 강남점', '맷오흐께(MAD OG HYGGE)', '따삐오롯데대치4점', '노아베이커리 대치점', '청량리제과점', '빵사부식빵공방동대문홈플러스점', '고객사랑베이커리', '뚜레쥬르매봉터널점', '제과명장', '나뚜루', '이종열 슈가아뜨리에', '파리바게뜨청담점', '더브레드맨', '크리스피크림압구정점', '빵굽는마을', '카페어니스타 도곡점', '크라운베이커리코엑스사거리점', '파리바게트대치롯데점', '빠비뚜엡', '코코호도도곡점', '아르데슈와', '파리바게트 테헤란로', '파리바게뜨역삼상록점', '레벤쿠키', '알루에(alouette)', '프라임까페', '던킨도너츠 선릉역점', '몽뻬르과자점', '블랑제리 단켄', '(주)파티시에 쁘띠렌', '브레드앤써플라이', '브레드앤서플라이', '풍성제과', '유한회사 카페노티드', '일파운드 0.453', '교토마블', '몽블랑제(홈플러스익스프레스 도곡점)', '뚜레쥬르 삼성점', '브래드박스', '에이미초코', '한스제과 압구정점', '로하디', '이지바이 개포점', '브레댄코 (코엑스오크우드점)', '에이미초코', '에이미초코', '슈가라즈베리', '경성하늘 동지섣달', '빵굼터 과자점', '유앤화케익가든', '아마폴라델리주식회사', '더스타일링프로젝트', '대두강남식품', '그린바게트', '크라운베이커리', '크라운베이커리압구정', '크라운베이커리 대치제일직영점', '빵굼터', '권상원과자점', '빵굼터', '부산뉴욕제과', '힐튼제과', '프로방스', '밀크앤허니(수서점)2', '크럼앤크러스트', '가렛팝콘', '스탠다드 베이커리(STANDARD Bakery)', '굿 브랜치', '빚은 압구정점', '치짜이시앙팡 초코링', '(주)아워홈 업타운카페 아워홈빌딩점', '베이커107(VAKER107)', '가렛팝콘', '신세계에스브이엔', '블레스 블룸', '티엠지홀딩스 르타오', '강남어르신공동작업장(우리사랑)', '타르틴 키친', '바게뜨과자점', '빠뮤(청량리마트)', '동원당', '에릭케제르', '프랑가스트', '빵굼터', '케익나라', '신라방과자점', '산타마을', '코리아후드(주)', '베스트원과자점', '김형식베이커리', '대학당빵집', '케익하우스보나뻬띠', '케익파티', '케익나라', '케익하우스아띠', '보네스페', '다니엘베이커리', '케익하우스웰본', '소나태베이커리서울치즈피자', '유니베이커리휘경점', '파리바게트 청량리중앙2호', '신선한빵', '월드하우스', '통큰빵집', '삼호바게뜨', '프레치스베이커리', '뚜레쥬르장안현대점 2호', '박승찬과자점', '뚜레쥬르 회기역점', '가또마들렌(장안동점)', '엠마장안점', '박찬회화과자', '빵굽는나라', '호텔신라명과안아', '새하얀풍차과자점', '영국빵집', '독일제과', '유미제과', '케익하우스빠나미', '르마젤란과자점', '케익하우스미호', '독일제과', '국제요리제과전문학교제과부', '라브랑젤리', '(주)조선호텔베이커리', '델리본', '(주)하늘사랑', '뚜레쥬르개봉1동점', '보리웰빙빵', '뚜레쥬르휘경GS', '몽블랑제 동대문점', '몽블랑제 동대문점', '아티제블랑제리(주) 동대문점', '아티제블랑제리(주)', '카이스트', '벨라지움', 'Market999 이문점', '(주)조선호텔베이커리 이문점', '파리바게뜨(청량리중앙점)', '통큰빵', '뚜레쥬르 답십리역점', 'SPC삼립빚은청량리역점', '타마티 청량리역사점', '앤티엔스 프레즐', '뚜레쥬르암사역점', '씨에프랑스', '시나본코리아 현대천호점', '파티세리울랄라', '목마베이커리', '로니브레드', '파머스티 홍대입구역점', '서울연인노엘', '서울연인단팥빵', '이찌모찌', '리치몬드 과자점', '뚜레쥬르 월드컵 북로점', '아뜰리에핀', '빵선생용강점', '악토버(October)동교초지점', '씨엔엔', '베이커스데이', '파리바께뜨', '뚜레쥬르마포삼성점', '바로굼빵터', '케익하우스시퐁', '던킨도너츠강동역점', '오렌지돔', '쵸켄베이크', '뚜레쥬르', '코코호도휘경점', '세프의빵스케치', '크라운베이커리', '앙트르메과자점', '빚은신설동역점', '피노키오과자점', '파리바게뜨답십리점', '던킨도너츠청량리역사점', '주현베이커리', '에센브르과자점', '독일제과', '에덴베이커리', '전농거북선', '뉴욕제과', '맘모스제과', '쥬떼므과자점', '고려제과', '케익타운베이커리', '부산제과', '크라운제과경희대', '휘경뉴코아제과', '바로굼빵터', '쿠키친구', '미젠 신촌점', '뚜레주르마포상암점', '보카브레드', '안데르센과자점', '하얀풍차', '케익커리', '브레댄코', '달콤한고양이', '베이커리쿠잉', '와플대학', '꼬부랑', \"UNCLE's BREAD(식빵굽는아저씨)암사본점\", '외계인방앗간', 'BREAD LEE(브레드 리)', '오뗄두스', '몬스터대왕베이커리', '코코호도상암DMC점', '플루밍케이크', '라보엠', '소울쿠키', '리제', '톨', '브로마베이커리', '주재근베이커리', '고려제과', '브래드 인', '프랑소와베이커리', '꿈베이커리', '호야너츠(Hoyanuts)', '오렌지 돔', '은스베이커리', '유얼베이커리', '쁘띠레브', '이스뜨와르당쥬', '싱긋후로마쥬', '더빵', '키세키', '피오니', '뚜레쥬르 휘경회기점', '박연신의 브라우니', '뚜레쥬르 외대이문점', '빵이가득한집', '뚜레주르', '빵굽는 하우스', '오뗄두스', '(주)기야마', '깜빠뉴베이커리', '라이커리', '미카즈키(MIKAZUKI)', '(주)에스알리테일웰빙쌀빵마포구청점', '오헨', '몽마르뜨베이커리', '김달환베이커리', '크라운베이커리둔촌역점', '신라명과', '독일베이커리', '파리바게뜨상일역점', '포리베이커리', '윈첼도너츠길동점', '뺑드비제과', '앙젤리끄팡베이커리', '티씨비와이명일점', '라이스몽드', '베이커리 린츠', '패이션스', '수예당제과', '그래인스쿠키', '이 데이앤데이 암사동점', '뚜레쥬르암사역점', '델리빵굼터', '우리생협 암사점', '쿠쿠키키', '대학당', '따삐오 베이커리', '(주)대흥식품', '데이앤데이 이문점2', '바이킹 베이커리', '코코호도', '케잌나라', '대풍베이커리', '보네스뻬 둔촌점', '벨에삐(천호점)', '쿠키베이커리', '쌍떼제과점', '뚜레쥬르천호역점', '황금보리', '그린리프쿠키앤파이', '크라운베이커리', '빵굽는집', '세븐일레븐길동3호점', '던킨도너츠', '팔래스도너츠', '파리바게뜨한강타운점', '뚜레쥬르등촌2점', '브레드테일 까르푸가양점', '웰빙즉석빵도너츠', '쥬떼므', '브레드하우스', '이랜드월드(뺑드프랑스)', '뚜레쥬르 공항시장역점', '델라보보', '엣지브라운 마곡수명산점', '던킨도너츠 화곡역점', '던킨도너츠', '빵장수 야곱', '가또마들렌과자점', '9090제과점', '케익하우스밀레', '케익하우스모닝', '빵굽는곰돌이', '프랑수아즈', '아울렛마트', '브래드박스', '모닝베이커리', '메종베이커리', '밀레', '진대왕 카스테라', '따삐오 진로마트 성내2점', '베이커리 휴고', '엔젤버거', '아베끄쉬제과점', '피자노베', '크라운베이커리', '윤베이커리', '하이밀과자점', '크라운베이커리', '호도원호두과자', '강동경희파리바게뜨', '모노치즈', '쉐프의꿈과자점', '뚜레쥬르(천호아울렛점)', '신라명과명일점', '빵이가득한집', '달콤한정원', '굿베이커리', '(주)보나비 아티제 디큐브시티점', \"베이커리 느루's\", '해성빵집', '베이커리로얄(녹색지대유통)', '마마스오븐', '밀가루를 사랑한 버터', '뚜레쥬르(양천향교점)', '에스라제과', '이지바이', '꿈을담는드림케이크', '(주)모두가행복한세상', '프랑시앙바게뜨', '홍가네베이커리', '빵터베이커리', '퐁슬레제과점', '브레댄코 마포용강점', '뚜레쥬르애오개역점', '따삐오', '킹콩와플', '맛조아베이커리(암사점)', '엔젤라투라레', '피스오브헤븐', '크라운베이커리', '우리밀베이커리', '던킨도너츠', '현대백화점천호점(던킨도너츠)', '신세계백화점천호점아이스크림', '바이재재', '카페드하이몬드', '빵앤샾', '라베이크', '슈엣', '한입원바이트', '네모의 꿈', '대학당', '던킨도너츠', '성원베이커리', '정진옥제과점', '케익하우스 쉐봉', '이드프랑과자점', '루돌프강동본점', '브르망베이커리', '(주)신라명과봉갸또천호점', '롯데리아(둔촌점)', '델리스', '이드프랑과자점', '파리바게트', '나인플러스피자', '크라운베이커리', '에센브르제과', '미미전심(베이커리)', '츄이주니어(Chewy Junior)', '파리바게트망원비온디', '빵굼터', '해피데이', '뚜레쥬르 증미역점', '얼음굽기', '플로레베이커리', '(주)쇼콜라빌', '르뽀미에까치산역점', '바로굼빵터', '신라명과', '몽마제과점', '유현상과자점', '가또마들렌', '바게트베이커리', '크라운베이커리등촌점', '빵사랑', '브라우니70 베이커리 명일점', '빵 이야기 2(Bread & Story 2)', '피노키오 베이커리', '(주)라베이크', '떡담 강동1호점', '(주)라베이크', '순쌀수제고로케', '굿베이커리', '뚜레쥬르', '리틀비바', '파리바게뜨 공항시장역점', '(주)운화유통', '뚜레쥬르까치산역점', '빵굽는할인매장', '이가명가', '만두마당', '보네스뻬(김포공항점)', '주식회사폴310', '어 슬라이스(A SLICE)', '럼앤바닐라(RUM AND VANILLA)', '언니의 식빵가게 마포아현점', '하비비', '밀라노제과점(이레분점)', '마블', '(주)서울가든과자점', '빵굽는이야기', '빠네디밀라노(Pane di Milano)', '케익하우스', '신라명과', '롯데리아공항시장점', '파리바게트목동4거리점', '프라임하우스', '크라상베이커리', '리치브레드제과점', '뚜레주르화곡본동점', '허니브레드', '보나뻬띠과자점', '좋은빵만들기', '코코호도발산수명산점', '씨제이푸드빌(주)뚜레주르 김포공항점', '악토버', '스마트베이커리', '로즈케익하우스', '즉석빵터', '파리바게뜨(등촌대룡)', '카페9090', '뚜레쥬르경희의료원(2)', '케잌이벤트', '루루케잌', '브래드앤피플(빵과사람들)', '빚은강서1호점', '파이준', '황금보리', '밀작', '마고', '효경빵', '후', '쁘띠베이커리', '빵가마', '오테라', '토미즈베이커리', '라팡', '빠나미', '사랑으로빵집', '크라운베이커리가양주공점', '레삐프랑스', '59쌀피자', '피가로과자점', '김정식제과점', '이태원베이커리', '브로마과자점', '달콤한 밀밭', '베이&빈', '라몬도너츠', 'GS25등촌한마음', '바로빵집', '빵이가득한집', '델리앤델리명일역점', '천호아울렛파리바게뜨', '델리명과', '시몽베이커리', '페밀리베이커리', '쓰리프티', '쟈망.홈.베이커리', '뉴욕베이커리', '쓰리프티아이스크림', '이기종과자점', '호산나제과', '드라이어스코리아', '드라이어스', '빵굽는사람들', '김제명베이커리', '쓰리프티아이스크림', '배스킨라빈스', '뽀뽈로', '크라운베이커리성내3점', '레빠니(Lehpani)', '빵마을', '이딸리앙베이커리', '커니셔아이스크림', '빵마을', '건강웰빙보리빵집', '해피빵굼터', '라쌍떼', '브라운베이커리', '시지에스[CGS]통일한빵', '바로굽는바로빵', '프랑세즈', '빵굼터 착한빵집', '가나제과', '쿨', '미니피자아이스크림', '신라명과(길동점)', '청실홍실', '비알코리아(주)배스킨라빈스둔춘진흥점', '피자앙쥬', '빵굼터', '가또마들렌', '뚜레쥬르', '뚜레쥬르마포역점', '뚜레쥬르', '파리바게뜨', '파리바게트', '이삭 베이커리', '뚜레쥬르 공덕삼성', '떡보의하루마포공덕점', '보네스뻬(서강점)', '르 뾔이따쥬', '오렌지돔', '쁘띠보뇌르(등촌점)', '신이지앙브래드', '고씨빵집', 'GS25등촌으뜸점', '굿모닝제과점', '빵마을', '케잌하우스쉐봉', '스팅고베이커리', '빵&도너츠', '(주)에스피씨 삼립 수라방 명일점', '벧엘베이커리', '크라운베이커리', '빵굽는마을', '개구장이', '하나로베이커리', '블럭제빵소', '브레다이스', '크라운베이커리', '마롱베이커리', '파인트리과자점', '쓰리프티아이스크림', '스텔라베이커리', '프랑세즈', '크라운베이커리', '코코호도(홍대점)', '서연수베이커리', '해바라기제과', '남서울과자점', '루돌프베이커리', '잘사랑스넥', '프랑세즈', '프로스티보이(주)', '아가페', '케잌뱅크', '빵굽는마을', '마리과자점', '빵마을', '엠마제과점', '크리스탈과자점', '대풍베이커리', '둔촌빵마트', '콜롬보아이스크림천호점', '배스킨라빈스길동점', '해태델리', '파리바게뜨 길동하나점', '이동준 베이커리', '빵사랑', '(주)조선호텔베이커리 명일점', '(주)방금구운빵', '진스가든', '브레댄코 가양점', '곰미케익', '씨마베이커리', '파리바게뜨', '이지바이 개화산점', '아티제블랑제리(주)가양점행사매대', 'GOSH 베이커리', '식스도넛', '(주)조선호텔베이커리행사매장', '빵마을', '뚜레쥬르(강서보건소)', '홈플러스익스프레스화곡2호점(몽블랑제)', '가또에', '뚜레쥬르김포공항CGV점', 'GS25화곡으뜸', '파리바게뜨공덕파크점', '파리바게트신촌서강로점', '이드프랑', '(주)예주병과', '모짜르트', '던킨도너츠 합정역사점', '허니브레드', '빵굽는사람들', '이데이앤데이발산동점', '따삐오염창점', '홈풀러스익스프레스염창점', '빵이가득한집', '마따니아', '명품보리', '팡타시아', '후르츠앤베이커리', '쁘띠그랑', '(주)에스피씨 삼립 수라방 천호점', '헤르셔베이커리', '폴과자점', '슈슈가', '크라운베이커리(고덕점)', '하이몬드제과', '따삐오베이커리GS명일점', '홍원당', '몽마', '현대백화점천호점행사', '동화속베이커리', '보리빵다섯개', '파리바게뜨 트레벨 천호점', '빠리바께스', '청자당', '뚜레주르(천호점)', '피자라운드', '프랑시앙바게뜨', '파리바게트(천호점)', '프랑시앙바게뜨(성내점)', '던킨도너츠', '아비앙또', '김정식베이커리', '행복한 빵 세상', '컴온샌드위치', '파리바게뜨강서하이웨이점', '케익하우스퀸', '던킨도너츠', '코코호도용강점', '(주)신라명과공덕역점', '수', '슈가베리', '인스베이커리', '블랑제', '(주)파리크라상홍대홍문관점', '베이커리105', '빵집나무', '베이커리봉교', '화수분베이커리', '야베스', '홈플러스(주)아티제블랑제리익스프레스2등촌점', '리즈케이크', '파리바게뜨발산현대점', '파리바게뜨발산현대점', '에센브르', '뚜레쥬르화곡2동점', '스트로베리 온 더 쇼트케잌 바이 홍성사', '앤티앤스', '마노앤디또에빠지다', '엠마', '문스토리하우스', '아이린스케잌겔러리', 'R.G.O 베이커리', '바로굼빵터', '이 데이앤데이 화곡동점', '쵸코도너츠', '홍화당', 'DYLB 빵좋아하세요', '오브엘', '(주)더브레드블루', '빵사부연남점', '브리첼베이커리', '손으로만드는사랑(주)', '브랑제리 성내점', '크라운베이커리', '카페뚜레쥬르 천호점', '벨몽드제과점', '하얏트베이커리', '바로방', '몽마빵집', '빵굼터과자점', '아비앙또베이커리', '훈스 팩토리', '디저트클럽 치카리셔스', '아마티', '핫브레드(둔촌역점)', '빵가마', '하에레츠', '(주)브레댄코 굽은다리역점', '투플러스케이크', '헤르샤 베이커리', '믹스크라프트 MIXKRAFT', '프랑시앙베게뜨', '밀푀유', '(주)디앤비', '호야호떡', '티라미수제과점', '(주)조선호텔베이커리 데이앤데이 신도림점(7080행사장)', '브레댄코 신도림이마트점', '파리바게뜨신도림역점', '쇼콜라봉봉', '파티쉐파파', '이지바이', '치보(CIBO)베이커리', '훼미리마트 구로원룸점', '웰빙베이커리', '이지바이', '따삐오베이커리', '빚은우장산역점', '이지바이', '단하나케익', '빵사랑', '웰브레드(SAT빌딩)', '뺑드프랑스강서NC점', '단 하나케익', '즉석과자점', '롯데쇼핑(주)롯데슈퍼점', '(주)조선호텔 베이커리', '보네스뻬브래드', '블럭제빵소', '안토니', '앙주불랑베이커리', '피카소제과점', '엔젤', '신라명과', '떡보의하루', '겔트베르그과자점', '맛조아베이커리', '현대백화점천호점(호떡)', '빵만드는집', '빵이가득한집', '와플하우스', '치보 베이커리', '인디오븐(등촌점)', '하늘을나는케이크', '브레드앤페스츄리', '황일규베이커리', '셀란', '데이앤데이', '잇브래드', '에센브르', '브레드원', '윈디베이킹스튜디오', '주식회사비제이마리웨일홍대본점', '언니네빵가게', '오븐과시루', '델라보보1', '몽블랑제 발산점(행사매대)', '악토버', '서울델리스', '뚜레쥬르', '프랑시앙바게뜨', '베이커리나무야', '베스킨라빈스31아이스크림', '아뮤즈(AMUSE)', '뚜레쥬르암사점', 'Amitie(아미띠에)', '스티키핑거스베이커리', 'JS', '빵이 가득한집', '코넬리아천호점', '신세계천호점아이스크림', '던킨도너츠', '빵사랑과자점', '크라운베이커리', '크라운베이커리 마포역점', '파리바게트', '뺑드프랑스NC강서점', '몽블랑제 행사매대', '쿠키잼', '씨엘 블랑제리', '개화산빵집', '미담원', '프랑세즈과자점', '슈베이커리', '주재근베이커리', '후르츠브레스트', '현대백화점천호점(샐러드)', '현대백화점천호점(도너츠)', '현대백화점천호점(치즈케익)', '현대백화점천호점(즉석쿠키)', '현대백화점천호점(화과자)', '현대백화점천호점(크라프스)', '베스킨라빈스', '다핀다트아이스크림', '데어리퀸', '현대백화점천호점(제과)', '현대백화점천호점(민속떡비)', '현대백화점천호점(중국과자)', '장충원', '로빈스(31)', '현대백화점천호점(민속떡A)', '브레드샵Bread#', '또아식빵 암사점', '에꼴드쉐프 과자점', '인디오븐 길동점', '서울연인 단팥빵(명일점)', '빵굼터 단팥빵', '통밀로만', '에꼴드쉐프과자점(로겐하임점)', '라베이크', '주리스쇼콜라', '굿 베이커리', '도너타임 등촌점', '식빵공작소', '밀작', '파파 앤 디저트', '식빵공방', '해피파파', '반디브레드', '서울연인', '몽블랑제 강서점 행사매대4', '파란리본고양이', '던킨도너츠 까치산역점', '브레드트리', '(주)농업법인 쿱스토어(등촌점)', '데이엔데이명일점', '델리명과', '빵굽는아찌', '몽블랑제강서점 행사매대(푸드코트입구)', '루돌프베이커리', '케익나라', '소프트아이스크림', '루돌프베이커리', '킹덤베이커리', '이태승베이커리', '샹띠에과자점', '프랑시앙제과', '뚜레쥬르피자드림', '530베이커리', '프랑세즈', '뚜레쥬르암사역점', '빵굿빵긋', '홍가네빵굼터', '고메베이글', '파리바게트', '비알코리아(주)던킨도너츠명일역점', '로티보이(둔촌점)', '빵이가득한집', '테일리', '지크비빵집', '뚜레쥬르 굽은다리역점', '요모쿠키', '마제디상떼51', '미인단팥빵', '(주)더브리즈', '도우', '마마노베이커리', '쉐즈롤(CHEZ-ROLL)', '해바라기빵집', '(주)기야마', '빠네렌토((PANE LENTO) 상일점', '카페드하이몬드', '금미 대만 대왕 카스테라 화곡점', '디 오믈렛 발산역점', '아이야미(iYammy)', '브래드스토리(BreadStory)', '핫브레드', '디저트홀릭', '(주)신세계에스브이엔', '솔지오(SOLGIO)', '빵굼터착한빵집', '박순진베이커리', '밀로드(Mill Road)', '비하우스(Bee house)', '아빠빵사줘', '빵사랑', '굿모닝베이커리', '뚜레쥬르신도림미래초점', '빵빵한빵집', '달콤카페', '브레댄코 암사역점', '라랑', '카테(katte)', '꽈배기마법사', '코코호도 둔촌점', '카페 츄로빅', '대성제과', '추억의도넛', '빵아저씨', '빵조아베이커리', '르봉마리아쥬 by 십일다시십칠', '브라운파파 강동구청직영점', '쁘띠르뽀미에GS명일점', '딜스케이크', '뉴욕베이커리', '바게뜨프라자', '크라운베이커리', '델리명과', '디어마이페어리', '파리바게트 공덕파크점', '피자에땅', '(주)해마로파파이스강서점', '뚜레쥬르발산역점', '케익하우스엠마', '브레드하우스', '던킨도너츠', '울트라빙수', '소프트', '파리바게뜨(천호로데오점)', '레드망고천호로데오점', '꽃디뇨케이크', '좋은아침Bread(브레드)', '더바게트 가양점', '코코호도개봉역점', '신라명과남구로점', '(주)조선호텔베이커리(구로이마트 내 행사매장)', '빵가든', '이삭토스트길동역점', '추억의빵집', '월드하우스', '파리바케트', '프랑세즈', '까나페베이커리', '크라운베이커리', '부산제과', '월드하우스', '브레드메카', '끌레몽베이커리', '뚜레쥬르', '라이스베이커리', '초이스베이커리', '신라명과', '모가드르', '에이스과자점', '뚜레쥬르 구로개봉점', '황금보리베이커리', '자연드림 신도림점', '몽블랑제 구로점', '메이플브레드', '(주)조선호텔베이커리데이앤데이신도림점2', '파리바게트(구로역광장점)', '빵이가득한집', '컵홀릭', '스티키핑거스베이커리', '모모식빵', '홍미당', '굿베이커리(신촌점)', '쿠모치즈', '르빵(LE PAIN)', '그러케이크샵', \"라망(L'amant)\", '엠마', '헬렌스쿠키', '베이커스필드', '코만스(KOMANS)', '글래머러스베이글(glamorous bagel)', '두리앙베이커리', '이지바이', '리치스베이커리', '베스킨라빈스', '파리바게뜨', '베스킨라빈스', '베스킨라빈스', '빵굽는마을', '크라운베이커리까치산분점', '바게뜨베이커리', '로망스베이커리', '케잌하우스몽마', '오브라팡(aube lapin)', '한나식빵', '메이웨이', '어바웃마카롱', '크라운베이커리(길동점)', '세영제과점', '빵굽는마을', '데어리퀸', '베델베이커리', '던킨도너츠', '브레슬러아이스크림', '파라디베이커리', '브레스트몽떼과자점', '대학당빵집', '빵굽는동네', '파리바게트', '궁실식품', '이딸리앙베이커리', '신라명과천호점', '이딸리앙베이커리', '삼송빵집 김포공항점', '오엔비(Organic&Bread)', '부오노도너츠', '파리바게뜨천호로데오점', '케익하우스쉐봉', '레드망고', '소솜', '베리스타세븐명일에오점', '오픈테이블델리현대천호점', '라이스존(명일점)', '미고당바이팥고당', '삼송빵집 김포공항송정역점', '식빵공방', '빵잇슈', '오늘빵집', '아티제블랑제리(홈플러스익스프레스이문점)', '몹시', '셀란홍대홍문관점', '유니케이크(UniQake)', '레체(LECHE)', '몽도르', '던킨도너츠 공덕오거리점', '파리바케트', '케잌뱅크', '신라명과', '뺑드몽통통', '경성제빵소', '추억82 등촌점', '후 베이커리', '와플하우스', '월드하우스', '빵이야기', '뚜레쥬르장안삼성점', '라페뜨', '신라명과청량리역점', '빵집이야기', '피자레어', '뺑드쟝베이커리', '크라운베이커리', '준베이커리', '베이커리경희', '바닐라', '만쟈레', '빨간모자피자전농점', '브로마베이커리', '델리키트과자점', '던킨도너츠경희대점', '한스과자점', '으뜨미아마시왕', '크라운베이커리', '케익하우스바하', '주식회사 장군식품', '호산나제과점', '굿모닝베이커리', '영베이커리', '파리바게뜨장안점', '케익이벤트', '브레스트과자점', '라쎄느과자점', '로얄커피숍', '케익하우스불란서', '용소', '학', '고려당남지분점', '제주', '길', '태양', '황제', '별', '돌', '은하수', '미주', '바게뜨베이커리', '로망스베이커리', '뽀뜨르과자점', '프란스제과', '빠리쎄리몬드과자점', '파리제과', '뉴욕제과전농지저', '로타리제과', '선베이커리', '행운식품 롯데마트 청량리점', '따뜻한 식빵', '미스터도넛', '뛰뛰빵빵', '브레드 앤 밀', '열정쥬스', '몽블랑제동대문점', '베떼엠(B.T.M)', '우리빵집', '몽블랑제 동대문점 팝업', '빵집우정', '마포삼성파리바게뜨', '델리명과', '씨트론과자점', '프렌치키스강동구청점', '엠마(명일신동아점)', '케익하우스모아', '프랑세즈제과점', '코니아일랜드', '샤베르', '파리바게뜨 마곡컨벤션점', '홍화당 발산역점', '브랑제리', '팡오레빈', '(주)브레댄코 발산점', '(주)브레댄코 까치산점', '핫브레드', '럽대디맘', '파리바게뜨', '크라운베이커리', '꽈배기마법사', '파리바게트', '빵사랑651', '던킨도너츠', '김정식베이커리곰달래', '블랑쉬', '부산뉴욕', '(주)신라명과방화점', '핫브레드 김포공항역점', '단아한블러썸', '흥부네빵집', '그랜드산업개발(주)과자점', '쓰리프티아이스크림', '케익하우스로뎀', '카페스토리', '시미케이크', '떼르드글라스둔촌점', '동아베이커리', '떼르드글라스', '팡데이천호점', '파리바게뜨', '(주)모닝벨베이커리 둔촌점', '프랑세즈제과점', '빵굽는동네', '월드하우스', '빵을굽는사람들', '이딸리앙베이커리', '이딸리앙베이커리길동점', '팡세제과', '플렌들리아이스크림명일점', '뺑드비', '뉴욕제과(미주점)', '(주)뉴욕제과벨띠에', '호두과자', '빵집', '델리본', '뚜레쥬르 구수동점', '재희스 파티세리', '경주빵베이커리', '빠띠슈', '빠띠슈', '크라운베이커리위생병원점', '크라운베이커리(장안점)', '케익아띠', '파리바게뜨', '크라운베이커리(장안분점)', '브레드하우스밀젠', '월드하우스', '케익하우스몽마', '경주', '베테랑베이커리', '이범석제과점피자', '한스베이커리', '크라운베이커리합정분점', '미루카레', '빵이가득한집', '티파이베이크숍', '베이커리요이팡', '팽도르베이커리', '크라운베이커리', '크레이지버거', '프랑세즈', '쉐프과자점', '다락방', '청자당과자점신라지점', '몽블랑제강서점 행사매대3', '몽블랑제강서점 행사매대 2', '빵빵한 빵집', '또아식빵(합정점)', '베이크썸띵', '삼송빵집플러스합정점', '브레드룬(BREADLUNE)', '이십이 22번가', '설고당', '브로트제과', '뚜레쥬르(화곡사거리점)', '빵굼터', '뚜레쥬르(망원사거리점)', '르쁘띠푸', '굽는빵터', '(주)모닝벨베이커리 길동점', '샤론베이커리', '빵이가득한집', '강스케익하우스', '크라운베이커리', '케익하우스 쉐봉', '코코브래드', '슈슈의 하루하루', '미앤미케익 AK플라자점', '리더스 베이커리', '안동명과', '앤티앤스', '잇브레드 천왕역점', '핫브레드 대림역점', '서울연인 단팥빵', '몰빵', '브레딧 강동성심병원점', '레어마카롱', '쥬벨', '엔젤베이커리', '아뜰리에오', '이시루', '바게트베이커리', '빵빵천국', '카페블랑', '빵선생공덕점', '곤트란쉐리에 합정점', '빵수레', '레가또프레', '베이킹 스튜디오', '브레드샵암스테르담', '은진디저트(EUNJIN DESSERT STUDIO)', '슈카카오(Shucacao)', '브레드바스켓', '그래인스', '빵뜨락', '독일제과', '빵굽는마을', '홍화당 암사역점', 'AM11:22케이크', 'paysan(빼이장)', '핫브레드 암사역점', '올더베스트', '브레덴코', '대만수대왕카스테라', \"머메이드레시피(mermaid's recipe)\", '소리연케이크', '아티제블랑제리(주)강서점', '빵궁전', '대구 근대골목 단팥빵', '브레드 제이', '몽마베이커리', '크라운베이커리', '퍼블리크(상수점)', '멜로우베이킹', '시엘베이커리', 'Bread밀(브레드밀)', '말랑말린', '재미진 프로젝트', '리틀베이커리', 'JM bakery(제이엠베이커리)', '핫브레드 신도림역점', '브레드앤써플라이(BREAD AND SUPPLY)', '유니브레드', '더 메나쥬리 디큐브시티점 2', '서울페이스트리', '미스터장베이커리', '루돌프베이커리', '끌리앙', '빠띠스리 기야마', '주재근베이커리', '파리바게뜨', '뚜레쥬르', '보네스뻬(공덕점)', '합&본', '재미진 프로젝트', '브레댄코 강동구청점', '한인공업', '현대백화점천호점(크라페)', '브레댄코합정역점', '클레어데룬(Clair de lune)', '케잌하우스몽마', '밀과보리제과점', '디엔비베이커리', '크라운베이커리망원점', '홈에버 월드컵점 빵드프랑스', '뚜레쥬르망원2동점', '젯시통통(JetSi Ton Ton)', '멜로우베이킹', '파리바게뜨(홍대공원점)', '보네스뻬(신촌점)', '커피스컵케익커리', '해피데이', '레드팡베이커리', '뚜레쥬르 개봉1동점', '빵사부 식빵천국', '이학순베이커리', '인디비주얼케이크', '브래드15', '테오브로마', '파리바게트홍대아트점', '크런치오븐(신촌점)', '파리바게뜨KCC웰츠점', '잇 브레드(eat Bread)', '보통의행복', '펭귄키친', '더빵', '사랑으로빵집', '빚은(공덕역점)', '에또네', '몽블랑제 천왕점', '데이베이커리', '1004베이커리', '파리바게뜨 천왕역점', '소문난빵집', '슈가핑크', '오네뜨파이', '댕커스베이커리', '브래드존', '신라명과 개봉점', '궁 카스테라', '우주여신조민아베이커리', '보리가실', '인디오븐 천왕점', '마미따', '핫브레드 남구로역점', '도란도란식빵', '해피데이', '브레댄코 구로고대병원점', '달짝지근', '해피데이', '뺑드프랑스 신도림점', '밀브레 신도림점(2)', '뉴욕제과', '케익하우스몽마', '빵을굽는터', '파리바게뜨', '윈첼', '에벤에셀명과', '(주)퍼블리크(에쓰오일사옥점)', '더메나쥬리 디큐브시티점', '델리카슈', '더하프캔망원역점', '리퀴드(Riquide)', '인디오븐 개봉푸르지오점', '동아베이커리', '용가리피자', '롯데델리제과', '프레즈과자점', '던킨도너츠암사역점', '던킨도너츠천호점', '샤모니', '케익하우스몽마', '지베이커리', '최윤균베이커리', '파리바게트상암점', '돼지라불리운고양이', '(주)예주병과', '뺑드미 신도림점', '바리바게뜨 신도림TM', '킴스케잌하우스', '케익하우스몽마', '(주)삼양사믹스앤베이크현대천호점', '프랑세즈과자점', '킴스베이커리', '르씨엘', '더오븐베이커리', '해피데이', '(주)조선호텔베이커리', '데이앤데이 장안점', '빵굽는박사', '빵굽는칸', '솔로몬베이커리', '비엔시베이커리', '독일베어커리', '빵꼼마', '키세키', 'Ie Pain', '미고당', '뺑꽁트', '압구정커피', '쉐라톤서울디큐브시티호텔 Deli', '쁘띠렌', '비엔비과자점', '빵마을', '케익공방 랑쥬,피자 랑쥬', '(주)롯데리아김포공항점', '수케이크', '비알코리아(주)던킨도너츠홍대점', '은방울', '샘', '수정', '외교', '디저트603', '수제빵', '외계인방앗간', '까페토푸(Cafe Tofu)', '나뚜르', '피자헛방화점', '크라운베이커리', '한국까르푸(주)가양점빵코너', '피자익스꼬레', '마스타바게뜨', '공항스낵', '동화속의케익', '부르망제과점', '쁘띠르뽀미애바우하우스점', '현대백화점천호점(파리바게트)', '현대백화점천호점(뉴욕제과)', '현대백화점천호점 고구마빵', '라임', '(주)파리크라상르노뜨르천호점', '브레슬러아이스크림', '커니셔아이스크림', '쵸이스제과', '안데르센과자점', '케익나라', '델리스', '현식품', '올리브베이커리천호점', '이딸리앙베이커리', '그랜드제과', '만나빵집', '타임', '석', '자바', '밀크앤허니 행사장', '인디오븐 개봉점', '경성고로케', '(주)신세계푸드 베이커리 천호점', '씨알참', '파리바게뜨(GS둔촌점)', '로티맘', '(주)조선호텔베이커리 데이앤데이가양점2', '(주)조선호텔베이커리 데이앤데이공항점2', '달콤한베이커리', '올라파오', '빚은신설동떡집', '델리명과', '브레드05', '해피데이(화곡점)', '디자이너케익', '빵굽는 쉐프', '소중한당신에게', '외계인스토리', '위베이커리', '순수식빵 청춘카페', '밀기울', '다온할인마트', '(주)삼립식품 빚은강동경희대병원점', '쁘띠 르뽀미에', '비알코리아(주)던킨도너츠 천호로데오점', '쥬르드뱅', '파리바게뜨 명일메리점', '베떼엠갈레트(BTM galette)', '브래드바스켓', '월드베이커리', '밀알제과', '뚜레쥬르(청량리점)', '라즈베리과자점', '델리앤델리신이문역점', '궁전', '스낵', '황제택베이커리', '레팡주과자점', '신라베이커리', '구군베이커리', '밀그린베이커리', '밀라노베이커리', '또아식빵(홍대동교점)', '스위츠(SWEETS)', '윤영도베이커리', '밀보리제과', '빵굽는동네', '프랑세즈', '본야록', '빵굽는마을', '최종문베이커리', '굿모닝베이커리', '빵굽는마을', '빵굽는마을', '파리베이커리', '개봉프라자제과점', '씨제이푸드빌(주)뚜레쥬르 구로디지털역점', '(주)코레일유통 즉석호도', '케익이벤트', '크라운베이커리', '보눼엘빠띠세리', '크라운베이커리공단오거리점', '코레일유통(주)', '오류동빵집', '자연드림 고척개봉점', '베이커케이', '미소주먹밥', '우리밀베이커리카페', '어니스크', '신라명과 SK허브수점', '빠띠세리', '씨제이푸드빌(주) 뚜레쥬르 고대병원점', '빵굽는아침', '크라운베이커리', '크라운베이커리독산분점', '파리바게뜨삼성힐스테이트점', '쁘띠르뽀미에 GS난향점', '케익촌즉석빵집', '케잌나라', '식빵이야기 둔촌역점', '케익프라자', '몽디알제과점', '그린베이커리', '명다방', '빵굼터', '캘리포니아명과', '쇼콜라정', '뚜레쥬르 씨앤미 중계점', '뚜레쥬르강동역점', '베떼엠', '빵이가득한집', '블레도르과자점', '보비(bobee)도너츠', '케익하우스연', '파리바게뜨 천호행복점', '명일베이커리', '크라운베이커리', '겨울과봄사이', '라크렘', '베이커리맘마', '파리바게트', '샹띠에과자점', '코아방', '(주)현대그린푸드베즐리', '빠띠스리기야마', '삼각지베이커리', '강남고로케 이대점', '별달제과', '야곱 빵장수', '에스엠타운카페 커뮤니케이션센터', '주재근베이커리', '비티에스(BTS)통상', '이선기베이커리', '뚜레쥬르역촌동', '도노(Dono)', '오즈의쉐프', '리치몬드 현대신촌점', '(주)현대그린푸드 베즐리 동대문점', '달상점', '혜원빵집', '임실M피자', '빵굽는마을', '몽마르뜨과자점', '프랑가스트', '앤티앤스', '뚜레쥬르 길음뉴타운점', '빵굽는마을', '파리바게뜨 올림픽승리점', '파티스리크레용', '린즈컵케이크', '마리앙뜨과자점', '맥필드베이커리', '뚜레쥬르 교대역점', '한나식빵장안점', '풀잎 식문화 연구소', '빚은 롯데마트구로점', '베이커리팩토리 구로점', '크라운베이커리', '석촌상점', '보시엘드파리', '빵굽는마을', '중계두타빌파리바게트', '피치베이커리(Pitch Bakery)', '한재용 베이커리', '빵어니스타', '빵어니스타', '이지바이 홍제점', '이지도너츠', '바로굼빵터', '데이앤데이 김포공항점 행사매장', '즉석건간빵전문점', '헬레나', '씨클로반미', '이지바이', '(주)거산하북교역', '또아식빵(NC백화점강서점)', '뚜레쥬르 여의도KBS별관점', '앨리스 베이커리 카페', '행운제과', '디저트 두 쥬어', '서울페이스트리', '쏘하(soft&hard)', '태극당', '범빵', '언노운커피앤베이커리', '악토버', '노르웨이안 우드(Norwegian wood)', '강정이넘치는집', '크렘드마롱 청담', '도봉관', '쿠치나송', '화이트리에 갤러리아백화점점', '서울은마꽈배기', '콘디토리오븐', '블랑제리더플라자고메이494한남', '비건 앤 비욘(Vegan and Beyond)', '엘린디저트', '어썸도넛서울', '커비하우스', '크렘드 마롱', '유한회사마미갸또양평', '브래드쇼', '탄탈라이즈 르네테르 커피', '아트앤케이크', '아비앙또', '브레댄코', '브레드마루', '그럼,', '또아식빵', '빠아앙건대점', '그랑프리제과점', '아마폴라델리', '크로와쌍뜨리', '쁘리앙디즈', '비알코리아(주)던킨도너츠 수유2호점', '케익하우스엠마', '이스라엘제과점', '김성연과자점', '브레드헛', '준베이커리', '쌍떼과자점', '배스킨라빈스아이스', '비니호야', '스윗플라워(Sweet Flower)', '조스베이커리', '신라명과', '에이스베어커리', '다원빵집', '차이트', 'WORLD HOUS(월드하우스)', '365세일빵집', '미원통상(주)성내점', '파리바게뜨고덕점', '뉴욕제과', '가나안제과(주)천호지', '빵이 가득한 집', '밀보리하우스', '케익하우스엠마', '크리스탈베이커리', '빵굽는세상', '불란서제과점', '가나안제과(주)명일지', '뺑드비', '밀보라하우스', '싸파리', '서울뉴욕제과점', '포노아투', '코니아일랜드명일진로', '본베이커리', '케잌하우스브랑제리', '장베이커리', '블랑디스과자점', '황정민 베이커리', '크라운베이커리', '바게뜨베이커리', '가나안제과길동2지점', '신라당제과', '신라당', '바로방제과강동지점', '쉐라톤명과', '에메랄드제과점', '에메랄드제과점', '독일빵집', '빵마을', '신라방', '만나당', '빵굽는마을', '훼미리마트성모점', '봉갸또', '밀라노베이커리', '상띠에', '크라운베이커리(GS광진화양점)', '뚜레쥬르', '홈플러스 익스프레스 구의2점', '따삐오', '153과자점', '마켓999(Market999)중곡점', '드림도넛', '파리바게뜨(건대중앙점)', '에센브로', '케익하우스크리스탈', '케잌하우스몽마', '바게뜨과자점', '로즈마리과자점', '쉐프Lee베이커리', '영국빵집', '아몬드베이커리', '(주)조선호텔베이커리 데이앤데이 자양점 피자', '빚은(광진구청점)', '신라명과 중곡점', '신라빵집', '앙고빵누가쌌니 희우요', '뚜레쥬르광장현대점', '둔촌소비자협동조합', '마스타', '고려제과', '고전제과점', '누네띠네베이커리', '독일제과', '샹띄에르', '빠이빠이', '바티칸제과', '한나식빵', '크리스탈명과', '쉐프', '그랑프리', '케익하우스라벤더', '브레댄코 중곡점', '빚은광진자양점', '뚜레쥬르 광장점', '하나로베이커리', '피자하우스', '브리앙', '델리스베이커리', '독일제과', '런던제과', '가나안제과점', '백과명다과방', '레디아망', '빵굽는마을', '파이팩토리', '샬롬하우스', '바게뜨베이커리', '파리바게트', '서울뉴욕제과', '서울뉴욕제과', '크라운베이커리수유광산점', '뚜레쥬르', '빵두레박', '비알코리아(주)던킨도너츠 건대입구역점', '봉봉블라썸', '만나베이커리', '빠아앙중곡점', '아미띠에베이커리', '워커힐델리', '아도레과자점', '프랑스제과', '케익하우스몽마(Cake House 몽마)', '케익하우스델리', '크리스탈제과', '빵굽는마을', '밀라노베이커리', '꽈백최선생', '프라자제과점', '신라방제과점', '크라운베이커리', '안스피자', '던킨도너츠천호점', '밀라노베이커리성내분', '루시카토', '(주)농업법인 쿱스토어 구의점', '세비앙과자점', '케익하우스 밀레', '니나과자점', '한국유통베이커리', '뺑베이커리', '월드파리제과점', '팡도르제과점', '쁘리앙디즈', '김충복과자점', '월드하우스', '김제명제과점', '송베이커리', '르뽀미에번동점', '케익하우스몽마', '케익하우스 앙뜨', '샤모니빵', '힐튼명과', '부산베이커리', '뚜레쥬르', 'GS따삐오&빚은화양점', '떡담광장점', '쉼표', '심봉사도로케', '베이크스토리군자역점', '오페라과자점', '케잌하우스빠나미', '샬롬베이커리', '정억시과자점', '월드하우스', '케익하우스빈', '바로굼빵터', '칸베이커리', '케익나라', '이딸리앙베이커리', '가나안제과고덕지점', '거북당제과', '프라임베이커리', '낙원', '버거프라자', '뚜레쥬르 강북삼양점', '최종문베이커리', '명성제과', '바게뜨리아', '사랑의빵집', '큰손베이커리', '안제리나빵집', '몽블랑빵집', '빵굽는동네', '웰빙독일빵', '뺑드미', '빵굼방베이커리', '케잌하우스몽마', '안제리나빵집', '크리스탈명과', '정통대만카스테라비엔에이치코리아', '브레드칸', '풍년제과', \"ROBIN'S BAKERY(로빈스베이커리) 번동점\", '델리제과점', '홈베이커리', '밀보이베이커리', '(주)크라운베이커리미아SK', '뚜레쥬르 명일역점', '샹띠베이커리', '인디안가맹점', '젤라테리아베네치아', '하니하우스', '던킨도너츠 강북구청사거리점', '필베리', '바로2맛입니다', '영국빵집', '고려당분점', '크라운베이커리수유2점', '케익하우스 엘리제', '파리베이커리', '호텔목산제과점', '시온제과', '아루베이커리', '정동제과', '천호제과', '유나제과점', '뉴가나안제과', '신라방제과', '명보', '뉴욕제과', '거북당', '랑쁠리과자점', '이태리제과점', '앙베르베이커리', '만나햄버거', '서독제과점', '서독제과점', '굳베이커리', '가나안제과', '바게뜨과자점', '과자점밀씨타운', '빵이 좋은 사람들', '쁘띠몽드', '호텔명과', '델리앙스명과', '유나제과점', '빵굽는 세상', '독일제과', '부산뉴욕제과', '몽블랑베이커리', '몽블랑제과점', '주재근베이커리', '쌍띠에과자점', '크라운제과', '서독빵집성내지점', '할레루야제과점', '마리앙뜨과자점', '프랑스제과', '킴스제과', '실로암제과', '케익하우스 이삭', '프랑스베이커리', '끌리앙', '뉴욕제과', '문치호과자점', '빵이가득한집', '브레드칸', '빵빵한집', '임성민제과점', '데일리명과', '고려당', '쉐라톤명과', '빵구오 삼양점', '신라방', '크로와상베이커리', '빵굼터', '빵굽는마을', '고려방제과점', '미아역제과점', '거북당제과', '주재근베이커리', '영국빵집', '빠띠세리제과점', '독일제과', '아메리카나둔촌점', '영국빵집', '르호봇과자점', '딕시랜드', '크라운베이커리', '케익이벤트', '파리베이커리', '데일리명과', '금자탑베이커리', '배스킨라빈스(31)아이', '스위스과자점', '빅보이삼익체인점', '맥스베이커리', '고려당', '신라명과', '베이커리', '그랑프리빵', '구환회 빵집', '크라운베이커리sk미아점', '프린스제과', '가나안제과', '독일빵집', '궁전제과', '정독일빵집', '뉴욕제과고명분점', '월드하우스빵집', '뚜레쥬르(강북경찰서점)', '신라명과', '뉴욕제과신둔촌지점', '뉴욕제과신둔제', '프라자제과명일동대리', '따삐오베이커리', '마가렛트베이커리', '독일베이커리', '하이몬드제과', '뉴욕제과', '최종문베이커리', '가나안제과(주)', '케익타운', '후레쉬베이커리', '신라명과(암사점)', '모또아르제과점', '스위트제과점', '케잌하우스', '크라운베이커리 미아삼거리점', '마르쉐베이커리', '고려당', '호주빵집', '바티칸빵집', '바티칸제과점', '까꾸리베이커리', '날마다 블루밍', '발렌타인빵', '호텔베이커리', '코니아이랜드아이스크', '신라명과현대프라자대', '하이파이커피전문점', '쥬떼므', '매니아제과', '케익프라자', '사랑의명과프랑세즈', '샤롬제과점', '문치호 과자점', '뚜레쥬르 번동주공2점', '에스빠스제과점', '파리바게트미아삼거리역점', '뚜레쥬르 수유장미원점', '오띠프레', '빵이좋은사람들', '블랑제리 쿠페', '뚜레쥬르 미아중앙점', '미원통상(주)길동점', '크리스탈제과', '고려베이커리', '후렌드천길동체인점', '매화즉석빵', '크리스탈베이커리', '뚜레쥬르수유인텔리안점', '크라운베이커리', '킴스브랑제리', '불란서제과', '미래제과', '코롬방', '르네상스', '크리스탈제과', '빵굽는마을', '고려당길동분점', '밀라노베이커리분점', '고구맘', '행복한하루', '빠나미', '청자당길동점', '독일빵집명일동지점', '달봄', '하겐다즈', '영국제과', '뉴욕제과', '이 데이앤데이 미아동점', '쿠키사서함', '신라명과', '동큐제과고덕농심분점', '르노또르', '크라운베이커리', '파리바게트', '롯데리아명일점', '노란리본케이크', '강주호과자점', '시티온', '크로바제과', '베스킨라빈스아이스크림', '신라당제과', '베이커리브로뜨', '연아이스크림', '나씨방제과점', '신라당명일점', '밀라노베이커리미주점', '시카고피자', '이진우과자점', '청자당제과', '샬롬제과', '가나안제과강동지점', '거북당베이커리', '홈베이커리', '베이커리 카페 번', '까미노2빵집', '쉐라톤명과', '케잌하우스린츠', '쁘띠카랴멜', '쉐휘가로 과자점', '해태델리', '수유역제과점', 'FRANGAST(프랑가스트)', '그린타운', '밀라노베이커리', '뉴욕제과', '뉴진주제과', '코레일유통(주)', '던킨도너츠', '파리바게뜨미아SK점', '맘모스', '샤르망과자점', '비가로파티스리', '덴마크제과', '케익이벤트', '고려당시흥분점', '빵마을과자점', '라멜라 시흥점', '파트라슈', '황가네호떡', '경주빵', '샤베르', '황가네호떡', '홍원당', '(주)에이합스', '브레드테일 까르푸시흥점', '델리앤델리 가리봉역', '베이커리1004', '(주)금산푸드', '크레페리', '카멜리아 베이커리', '크라운베이커리', '한정구베이커리', '뚜레주르독산점', '빵천사', '크라운베이커리', '레이아망과자점', '반월당 고로케', '빵이가득한집', '킹원브레드', '우리동네빵굼터', '러브미케이크공방', '뚜레쥬르 독산바른세상병원점', '파리바게뜨 독산점', '무슈 베이커리', '글로벌 진수성찬', '신라베이커리', '모스크바건강빵', '빵굽는베이커리', 'BHC', '빵사랑365일', '신라명과', '뺑드프랑스시흥점', '(주)디엔비', '(주)디엔비', '레드파이', '샹띠베이커리', '바로빵굼터', '이드프랑', '파리바게트', '융프라우과자점', '바로커명과', '벧엘제과', '현세웅빵집', '퐁슬레', '빵세상', '영베이커리', '명승식제과점', '무릉도원과자점', '주재근베이커리', '김정식베이커리', '몽블랑', '비가로베이커리', '과자점독일', '부산뉴욕제과', '꼬레앙과자점', '케익나라', '파테토네베이커리', '빵굽는마을', '로얄몬드제과', '이재규과자점', '파리바게트독산점', '신라명과(홍익회)', '에삐드과자점', '브레드인과자점', '크라운베이커리금천시흥점', '안토니오까렘', '후레쉬베이커리', '밀라노베이커리', '몬또아르', '고려빵집', '독일빵집', '부산뉴욕', '하얀풍차', '호주빵집', '영국빵집', '시흥뉴욕제과', '프라자제과', '몽디알과자점', '에펠제과', '파미르베이커리', '뉴태극장', '호텔베이커리', '노성수베이커리', '바게뜨프라자원', '바로방베이커리', '신라베이커리', '케익하우스엠마', '신라명과(미아SK점)', '크라운 베이커리', '빵순이네', '빵꿈터', '쁘띠르뽀미에 GS관악점', '크라운베이커리', '크라운베이커리(주)금천시흥점', '케이크 림(林)', '유기농착한식빵', '타임투스윗', '파리바게뜨', '케잌하우스오렌지', '리플리베이커리', '던킨도너츠', '빵굽는마을', '빵궁전', '몽 블랑제(Mon Boulanger)', '행복한빵집', '빵익는케익하우스', '빵굽는 사랑방', '브랑제리과자점', '크라운베이커리', '마스타바게뜨', '이드프랑', '한도베이커리', '라미띠에', '뚜레쥬르', '몽마르뜨과자점', '송프로베이커리', '아,피아체레', '브르망베이커리', '빵굽는마을', '파리바게뜨', '이례제과', '호산나제과', '신라제과', '크리스탈명과', '즉석제과점', 'Bread inn', '칸베이커리', '칸베이커리', '동아베이커리', '빵이가득한집', '세이브베이커리', '몽블랑제 방학점 행사', '졸리(JOLLY)', '식빵상회1974', '한나식빵 롯데백화점관악점', '다인베이커리', '피자타운베이커리', '즉석건강빵전문점', '마스타바게트', '맛좋은빵집', '뚜레쥬르 사당사거리점', '뚜레쥬르 관악은천점', '한나식빵', '브레드오감(Bread ogam)', '쁘띠블레', '빠아앙', '독일제과', '비알코리아(주)던킨도너츠신림역점', '파리바게뜨신림본점', '코코호도보라매점', '뚜레쥬르', '빵굼터', '크리스피파이', '슈에뜨베이커리', '신라명과', '파스타 카페 올레뜨', '쁘띠가또', '신라명과', '뉴코아베이커리', '하이밀제과', '생크림하우스', '빵굼터', '몽마르뜨과자점', '(주)크라운베이커리 이천일아울렛시흥점', '김용인베이커리', '던킨도너츠', '킴스베이커리', '브레드힐', '파리바게뜨', '브레댄코쌍문현대점', '핫브레드창동역점', '던킨도너츠서울대점', '사과꽃향기', '뚜레쥬르신대방역점', '던킨도너츠', '정진봉베이커리', '블루문 베이커리', '고광범과자점', '빵굽는시장', '용왕베이커리', '모스크바건강빵', '파리바게트시흥점아울렛', '브래드바스켓과자점', '빠네뜨리명과점', '독일빵', '따삐오베이커리시흥점', '요셉하우스', '빵이가득한집', '파리바게트 시흥5동점', '빵궁전', '빵이가득한집', '빵드림', '파리바게뜨 가산로데오점', '에센브르제과', 'Be HAPPY', '몽블랑제(주)시흥점 행사매대', '(주)농업법인 쿱스토어 시흥점', '앤마리오점', '뚜레쥬르', '이 데이앤데이 봉천동점', '르뽀미에봉천점', '공정훈베이커리', '기분좋은빵집', '못난이제과점', '따삐오', '파리바게뜨 신대방역점', '두리빵집', '에델바이스제과점', '하이몬드베이커리', '빵굽는케익하우스', '샹제리베이커리', '우리밀과자점', '버거프라자', '아비앙또', '신라방', '독일제과', '스위스제과', '부산뉴욕제과', '황실제과', '영국제과', '불란서제과', '케익하우스젬마', '독일빵집', '하얀풍차제과', '미스터빵(Mr.O)', '검은아저씨가게', '즉석제과점', '칸베이커리', '파리바게트 관악청룡점', '전성훈베이커리', '고려과자점', '고려제과', '케익베이커리', '풍년제과', '독일제과', '밀뜨락과자점', '신태극당', '호델베이커리', '케익하우스원', '최종문베이커리', '리베이커리', '서울뉴욕제과', '고려베이커리', '뉴욕베이커리', '김영모과자점', '올래왕만두', '그랑프리', '행복한 달팽이', '케익家', '구스에프앤비 금천점', '케익하우스', '신라방베이커리', '준베이커리', '경회루', '쿠키먹는토끼', '(주)조선호텔베이커리 창동점', '타이완대왕카스테라', '디저트팩토리(DESSERT FACTORY)', '보라매1698', '샹띠베이커리', '선정즉석빵', '비엔비베이커리', '컴패니뉴욕(흑석점)', '신라베이커리', '채희윤베이커리', '독일빵집', '서독빵집', '한라명과', '이재정빵집', '궁전제과', '뚜레쥬르(금천 시흥점)', '나옹이네케이크공방', '케익하우스인', '신독일제과', '서울뉴욕제과', '케익프라자', '빵굽는평한이', '하버드베이커리', '프랑가스트', '오봉도너츠', '브랑제리과자점', '파리바게뜨신림점', '케익하우스몽마', '브레드힐', '마네켄피스', '빵뜨락과자점', '우진즉석빵', '빵굽는 케익 하우스', '이드프랑', '봉빵갸또(bon pain gataeu)', '굿데이서울', '모카향기', '바이킹베이커리', '시골빵집', \"아르티장테이블(Artisan'stable)\", '고려제과', '빵마을', '파리바게뜨 신림역점', '엠마', '던킨도너츠 신림난곡점', '뉴타운도너츠', '뚜레쥬르', '핫브레드 쌍문역점', '꼼빠니옹베이커리', '밀그린베이커리', '버들제과', '미미베이커리', '아베끄쉬', '신라빵', '불란서제과', '하얀풍차', '던킨도너츠', '마르니에과자점', '빵굽는마을', '케익과자점', '케익하우스델리', '뚜레쥬르(난곡점)', '크라운베이커리 봉천 벽산점', '쿠루베과자점', '몽마', '파리베이커리', '빵굼터', '골짝나라과자점', '크라운베이커리봉천우성점', '럭키', '전임방가로', '아빠있잖아요과자점', '파트라슈', '케익하우스몽마', '불란서빵집', '독일제과', '뚜레쥬르 SK북한산시티점', '살롬베이커리', '그린하우스과자점', '이용희 베이커리', '던킨도너츠', '밀레뜨레과자점', '신상준과자점', '프렌치바게뜨', '몽테도르도너츠', '로빈스베이커리(주)', '(주)한미연', '한신베이커리', '케익프라자', '로뎀베이커리', '프린스베이커리', '바게뜨베이커리', '천하베이커리', '과자점알프스', '하와이제과', '후렌드천', '영국빵집', '만나제과', '김영모빵집', '청자당시흥대리점', '월드베이커리', '빵굼터', '부산뉴욕', '전성훈베이커리', '크라운베이커리(신림현대점)', '케익하우스빵궁전', '독일', '부산뉴욕', '영국빵집', '서울뉴욕제과점', '주-동큐제과남서울', '뚜레쥬르수유점', '그랑프리빵', '샤모니', '해피브레드', '퐁네프과자점', '크리스탈제과', '코니아일랜드', '퀸베이커리', '크라운베이커리', '시흥독일빵', '고려제과', '솔로몬제과', '르네상스베이커리', '로얄바게트과자점', '모짜르트', '플라워베이커리', '이용신과자점', '이지바이 로직스 은행나무사거리점', '공공칠빵', '몽 블라제(Mon Boulanger)', '다인 경주빵', '브레드팝', '예랑', '셀라', '강구호베이커리제과점', '뚜레쥬르', '끌레오과자점', '뚜레쥬르', '몽테도르과자점', '신사뉴욕제과', '코르토스과자점', '몰빵', '모네케이크', '비앤씨', '쁘띠르뽀미에 GS낙성대점', '글로리아제과점', '뚜레쥬르', '빚은관악하나로마트점', '영국제과', '으랏차차대빵', '크라운베이커리신림점', '빵하우스', '크라운베이커리사당역점', '파리바게뜨', '쓰리프티', '빵굼터우리동네', '몽블랑제(금천점)', '델리앤델리 방학역점', '엘림베이커리', '부산베이커리', '김경호 베이커리', '롯데쇼핑(주)롯데슈퍼점', '뚜레쥬르', 'COOP스토어쌍문점', '빵이가득한집', '굿베이커리', '파리바게트', '씨밀레', '글로리아제과점', '빠아앙(노량진점)', '뉴월드베이커리', '빵굼터', '빵고을과자점', '비엔비베이커리', '아르니아', '챨스베이커리', '조규정베이커리', '케익나라베아티', '레몬봉봉', '케익하우스 쉐프', '브레드가든창동점', '몽실브레드', '아키빵 (Aki Bread)', '빅보이성내체인점', '밀레베이커리', '명륜당', '뚜레쥬르(서울대입구역점)', '바로방제과', '세이버리', '문수남과자점', '풍년베이커리', '(주)수라당', '유가농업협동조합', '송악농업협동조합', '(주)윈첼코리아', '바로굼빵터', '농협창동유통센터', 'Pizza & Cake Rocher', '엠마', '윈첼도우넛', '던킨도너츠 보라매타운점', '도너츠나라', '신라명과', '메트로', '신라명과', '파티쉐 몽마', '크라운베이커리', '빅보이길동체인점', '크라운베이커리(상도래미안점)', '앤티앤스', 'GOOD베이커리', '토투', '참살이빵집', '에스키하라', '끄레용제과', '고려당암사동분점', '상떼과자점', '던킨도너츠숭실대점', '파리바게뜨', '파리바게뜨', '뚜레쥬르(쌍문한일점)', '로뎀즉석빵', '베이커리(BAKERY)', '파리바게뜨 낙성대역점', '굿 베이커리', '뚜레쥬르사당남태령점', '빵굽는 사람들', '브레댄코', '피노키오과자점', '행복굼터', '랑쥬베이커리', '해피데이', '케익하우스마망', '그린하우스', '뚜레쥬르', '송승철과자점', '백제당', '헤미니스 제과점', '케익하우스 몽마', '독일베이커리', '뚜레쥬르', '빠리바게트', '이용경브랑제리', '그랑프리빵', '글로리아빵', '크라운베이커리 도봉점', '빠나미(창동쌍용점)', '파리바게트(도봉한신점)', '크라운베이커리 노량진 직영점', '케익하우스몽마', '파리바게뜨 중앙대학교점', '밀스키친', '마마노베이커리', '뚜레쥬르 (도봉스카이점)', '빵굼터과자점', '대학당제과', '샤롯데', '신라제과', '신라베이커리', '파리바게트', '금자탑베이커리', '하이너과자점', '바게트베이커리', '하얏트베이커리', '크리스탈명과', '새터제과점', '삐에스몽테', '하이몬드제과', '우수당제과', '던킨도너츠', '케잌하우스챨스', '파리바게뜨 독산씨티', '던킨도너츠낙성대점', '제일빵집', '빵사랑제과점', '엔젤케익앤커피', '신독일제과', '좋은빵만들기', '벨리베이커리', '통큰 왕만두', '또아식빵(이수역점)', '르미엘', '케잌하우스밀레', '던킨도너츠', '파리바게뜨 신림2호', '보르망제과', '빵굽는 사람들', '르네상스과자점', '파리바게뜨', '몬드리안', '팔래스도너츠', '(주)한국철도유통', '(주)수라당', '베이커리1004', '부산뉴욕과자점', '풍년제과', '빵굽는나라', '파리바게뜨', '빌라델비아', '씨에프랑스과자점', '빵굽네베이커리', '던킨도너츠', '리치몽브레', '토모(tomo)', '롤링핀중앙대점', '리츠칼튼베이커리', '뚜레쥬르 서울대역점', '파리바게뜨', '엔젤스베이커리', '즉석빵집', '크라운베이커리(서울대역점)', '뚜아 엣 모아 베이커리', '트윈스 베이커리', '즉석빵집', 'BAGUETTE SEVEN(바게트세븐)', '인디오븐 서울대입구역점', '바게트세븐(Baguette seven)', '몽블랑제 남현점', 'gobreeze(고브리즈)', '크라운베이커리신림중앙점', '크라운베이커리신림미림', '뚜레쥬르난곡우체국점', '브레댄코봉천역점', '멜팅스위트', '케익하우스오렌지', '뚜레쥬르관악구청점', '팔래스도너츠(Palace Donut)서울대본점', '케잌나라', '(주)디엔비', '뚜레쥬르신림푸르지오점', '모닝브레드', '뚜레쥬르난곡점', '뚜레쥬르', '뚜레쥬르(은천점)', '빵그레', '뚜레쥬르(관악우림시장점(3))', '마스타바게뜨', '바로방제과', '김정식베이커리', '자연주의 빵집', '쥬벨 샌드위치', '무스', '호돌이즉석빵집', '밀제과', '박현준과자점', '델리명과', \"cake'조아\", '델리스 한국철도유통 도봉산점', '델리스 한국철도유통 창동점', '떡보의 하루', '파리바게뜨 낙성대역점', 'Joeun_Baking Studio(조은베이킹)', '빵타네베이커리', '하이몬드플러스', '케익마을', '뚜레쥬르', '김수연과자점', '엔젤스베이커리', '뚜레쥬르금천박미점', '파리바게트 협진사거리점', '데일리독산점', '그랑프리', '파리바게뜨', '삼성테스코(주) 홈플러스익스프레스 시흥점 아띠제브랑제리', '빠띠슈', '빵뜨락', '빵굼터 봉천역점', '명품찹쌀꽈배기', '빠띠시에', '슈가홀릭', '몽블랑제', '브레드리', '맘스베이킹serendipity', '크라운베이커리', '빠네뜨리 명과점', '신라과자점', '바게뜨 프라쟈', '임한옥베이커리', '브레드앤로즈', '즉석빵집', '뚜레쥬르 제과제빵점', '빵이가득한집', '빵이가득한집', '뺑드프랑스 가산재능점', '쉐라톤베이커리', '델리베이커리', '파리바게뜨 안방학점', '스팅고', '파리바게뜨', '행운식품롯데마트금천점', '뚜레쥬르(독산)', '파리바게트', '관악빵굽는사람들', '꾸시꾸시 베이커리', '빵선생', '힐탑', '빵이가득한집', '채리니베이커리', '쁘라떼후드과자점', '빵굽터', '빵먹는즐거움', '파리바게뜨 관악당곡점', '전성훈베이커리', '바로 빵집', '맛있는 베이커리', '파리바게트 낙성대원당점', '가또브라운', '파리바게뜨 신림중앙점', '따삐오인헌점', '주준노 베이커리', '빵굽는마을', '김수연과자점', '구수고소 과자점', '데이앤데이창동점', '찰스앤스미스', '롯데쇼핑(주) 롯데슈퍼 남현점', '떡이야기', 'PB관악현대점', '칸베이커리', '빵사랑제과점', '송악농협순쌀빵', '브레드웨이', '빵사랑제과점', '구름빵베이커리', '아빠빵', '마드레느과자점', '엠마', '김도봉과자점', '즉석빵집', '브레드하우스 밀젠', '더카페 미아역점', '빠네뜨리 베이커리', '헨젤과 그레텔', '파리바게트(주)', '쁘띠뿌아베이커리', '크라운베이커리', '티라미슈 제과점', '에센브르 과자점', '부산제과', '빵굽는집', '뉴욕당', '서독빵집', '영국빵집', '엑스포베이커리', '(주)주재근베이커리', '그랑프리', '향미 전통식품', '뿌띠 따무르', '크리스피크림 신림점', '깜빠뉴', '빵명가', '민승베이커리', '베이커리고희', '몽블랑제과', '농부마트(095베이커리)', '찰스앤스미스', '무지개베이커리카페', '칸 베이커리', '브레드팝', '뚜레쥬르(난곡휴먼시아점)', '파리바게뜨(서울대점)', '고려제과', '불란서빵집', '케잌하우스몽마', '빠아앙', '이야기2', '미소머금고', '신이지앙브레드', \"히피스베이글(hippie's bagel)\", '크라운베이커리', '식빵맨', '쮸떼므', '뚜레쥬르', '뚜레쥬르 방학역점', '뚜레쥬르', '장원베이커리', '즉석빵집', '브레댄코 관악우체국점', 'BAGUETTE SEVEN(바게트세븐)', '던킨도너츠 사당역1호점', '깜빠뉴', 'bread445', 'JUBE(쥬베)', '빵장수야곱', '샤베르', '시시담', '윈앤윈(주) 윈', '이빵', '바로구운 빵', '명동와따고로케 사당점', '빵데이', 'Art K(아트케이)', '식빵이야기', '빠나미제과점', '리틀 브래드', '바게뜨 베이커리', '케익하우스 마린', '좋은날', '빚은 미아뉴타운점', '신라명과 신림역점', '한살림서울생협쌍문매장', '로마제과', '빵굽는마을', '풍년', '명보제과', '독일제과', '케익나라', '크라운베이커리창동동아분점', '뚜레쥬르', '바이탈푸드 하우스', '신라명과 상계백병원점', '뚜레쥬르수락점', '찰스앤스미스', '빵이가득한집', '파리바게뜨', '파리바게뜨 상도역중앙점', '찰스앤스미스', '사르망베이커리', '레드팡과자점', '한나베이커리', '빵이가득한집 베이커리', '파리바게뜨 성대시장점', '케익나라', '수 베이커리', 'U-JOY', '빠나미', 'GOSH 베이커리', '구운베이커리', '준베이커리', '케익뱅크', '캐잌하우스 샬롬', '케익하우스몽마(사당점)', '아미', '빵나라과자마을', '한입만', '이 데이앤데이 대방동점', '케이크케이크', '헬로 멜로우(Hello Mellow)', '로뜨식빵', '렁트멍(Lentement)', '밀링', 'SC베이커리', '몽블랑', '뚜레쥬르상도점', '섬기는 하루', '헬로빵집', '바게뜨프라자', '브레댄코', '뚜레쥬르', '던킨도너츠', '굿파이전문점', '몽 블랑제(Mon Boulanger) 남성점', '찰스와스미스', '파리바스켓', '케익하우스몽마', '크라운베이커리 흑석동점', '청정베이커리', '송베이커(Songbaker)', '베이크스토리(이수역점)', '스윗헤르츠', '마스타바게뜨', '엘리제베이커리', '검은아저씨가게', '베이커리 빵이조아', '푸딩베이커리', '빵고을', '케익나라오즈', '빵마을', '식빵맨', '르뽀미에 노량진점', '대왕통카스테라', '비피하임 과자점', '빵굽는 윤수네', '크라운베이커리', '월드 하우스', '브레드클럽남성역점', '브레드테일 까르푸방학점', '밀알', '마리앙뜨과자점', '크라운베이커리', '즉석빵집', '빵굽는케익나라', '씨제이푸드빌(주) 뚜레쥬르사당남성점', '굿 베이커리', '즉석제과점', '파리바게뜨보라매삼성점', '금미대만대왕카스테라흑석점', '대만전통카스테라Li', '빵이오(남성역점)', '점보대왕 카스테라', '이수역 밀도', '몰빵', '우리동네 빵가게', '케잌하우스 쉐프', '크라운 베이커리', '하나로 순쌀빵', '빠띠슈', '빵이야기', '뚜레쥬르', '그랑프리베이커리', '아모르과자점', '케익나라 오즈', '파리바게뜨', '고려당(사당점)', '크라운베이커리숭실대점(써브웨이숭실대점)', '올레뜨제과점', '파리바게뜨남성시장점', '쉐라톤베이커리', '라이스존이수점', '크라운베이커리 중대병원점', '빠리바게뜨', '래미안베이커리', '크라운베이커리상계역분점', '오늘구운빵', '구름으로만든빵', '빵굼터(착한빵집)', '덴마크과자점', '푸짐한 빵집', '번스토리 식빵의정석', '그랑가또케잌카페', '던킨도너츠동작구청점', '파리바게뜨사당역2호점', '빵굼터 중대점', '마리앙뜨 과자점', '영아제과', '크라운베이커리', '이복근베이커리', '쥬떼므사당점', '스위트식스틴스 앤 블랙바니(Sweet16th&black bunny)', '소 딜리셔스', '빵이 가득한집', '이 데이앤데이 쌍문동점', '(주)조선호텔베이커리 데이앤데이창동점2', '시민베이커리', '밀라노베이커리', '모닝베이커리', '맥 베이커리 대림쇼핑점', '파리바게트 상도약수점', '빠나미', '마스타바게뜨', '브레드덕', '뚜레쥬르 중앙대2', '사당마트제과', '라비드 프랑스 과자점', '파리바게트 남성역점', '크라운베이커리', '행복한빵집', '뚜레쥬르(창동역점)', '따삐오베이커리', '빵에그린베이커리', '팡타지아 베이커리', '몽 블랑제(Mon Boulanger)상도점', '몽 블랑제(Mon Boulanger)대방점', '뻬르멩', '박사빵집', '모짜르트과자점', '주리스쇼콜라', '미니멜츠노원점', '파리바게뜨', '과원과자점', '석계홈가온', '케익이벤트', '융프라우과자점', '대학당빵집', '빵굽는 작은 마을', '프렌치바게트', '던킨도너츠', '보리수', '이 데이앤데이 상도동점', '서울태릉화랑', '파리바게뜨', '대왕카스테라', '브레드칸 베이커리', '뚜레쥬르', '케익하우스 엠마', '뉴델리과자점', '쎄무아베이커리', '부래옥과자점', '케익하우스엠마', '쥬떼므베이커리', '크라운베이커리 하계벽산지점', '파리바게뜨 중계역점', '빵익는 케익하우스', '뚜레쥬르노원노을점', '뚜레쥬르 삼육대점', '쁘띠가또', '몽 블랑제(홈플러스 익스프레스 상계점)', '빵장수야곱', '뚜레쥬르', '따삐오', '굿베이커리', '찰스앤스미스', '후레쉬엔후레쉬 쥬벨베이커리', '김철기빵집', '주재근빵집', 'CJ(주) 뚜레쥬르 사당3동점', '빚은 이수역점', '바로구운빵집', '빵나라쿠키공주', '이지바이 중계2호점', '쁘띠에프앤비', '(주)대명리제르바 연자태릉입구역점', '쁘띠베이커리', '코코호도', '빵굽는쉐프', '델리앤델리', '브레드하우스', '케익하우스 몽마', '빵굽는몽마', '크라운베이커리은명분점', '상제르망과자점', '안데르센케익', '자망홈베이커리', '크라운베이커리중계시영점', '프렌치과자점', '유니온제과점', '하이몬드과자점', '비스꼬뜨과자점', '로망스베이커리', 'GS편의점 숭실대점', '아띠제블랑제리홈플러스익스프레스상도3', '링팡도너츠', '대한민국빵집', '빠나미', '파리바게트', '파리바게뜨', '뚜레쥬르', '행복한빵집', '(주)신세계푸드 밀크앤허니 월계점2', '아망떼', '에센브르', '델리&델리중계점', '델리&델리 석계점', '델리&델리 태릉입구점', '보드랑베이커리', '뚜레쥬르제과점', '더 르뱅', '식빵클럽', '식빵공방 은행사거리점', '크리스탈과자점', '제이에이치푸드', '비알코리아(주)던킨도너츠양재역점', '에구찌', '베즐리케익', '이지바이도곡점', '뚜레쥬르', '델리본', '벤키무역점', '유한회사 카페노티드', '오페라과자점', '빵굼터', '빵을 사랑하는 사람들', '파리바게트 상계한신점', '고려당', '쁘띠랑제', '케익하우스몽마', '케익하우스몽마', '에펠탑베이커리', '(주)파리크라상한신코아분점', '베이커리 화수분', '월계즉석빵집', '샬롬베이커리', '브랑제리베이커리', '케익하우스몽마', '상계공무원연금매장수라당', '슈라임', '즉석빵집', '뚜레쥬르(성대시장점)', '핫브레드총신대입구역점', '케익하우스몽마', '(주)한국까르푸 중계지점', '신명제과', '부케도르', '베지러브', '부케도르', '농심가(수서점)', '가루', '(주)크라운제과 딜리댈리 논현점', '(주)아워홈 업타운베이커리', '크라운베이커리선릉로즈베이', '블랑제리쿠페', '거북제과', '이창명베이커리', '뚜레쥬르', '스윗박스', '빠사지오', '쉐휘가로베이커리', '크라운베이커리', '허밍마마', '케익하우스엠마', '브르망베이커리', '바게뜨과자점', '도널드베이커리', '교토마블', '에구찌', '더브라운 도곡롯데프리미엄푸드마켓점', '고려당 압구정점', '주식회사 프렌집', '뜨리숑(TRITION)', '르브레쏭(LeBRESSON)', '뜨리숑', '마고', '띠아몽베이커리', '약수베이커리', '블랑쉬과자점', '비알코리아(주)던킨도너츠공항터미널점', '마고', '민즈호두', '이지바이압구정점', '뚜레쥬르', '라틀리에모니크', '크라운베이커리사당1호점', '신라명과노원역점', '파리바게뜨 상도래미안점', '파리바게뜨 이수역자이점', '한국까르푸(주)중계점', '브레댄코', '주빈베이커리', '마고', '좋은하루', '장발장빵훔쳐간집', '원베이커리', '참 호도과자', '보리수', '도너츠훽토리', '뚜레쥬르', '보리수 호두과자 중계동 은행사거리점', '(주)채송화F&B', '지훈베이커리', '빵고을', '링바볼 사당역점', '빵궁전', '디노베이커리', '지인서 힐링베이커리', '예다손서울상도점', '몽블랑제', '파리바게뜨 중앙대카페점', '빅플러스피자 사당점', '뚜레쥬르 중앙대학교점', '빵나라', '이데이엔데이 흑석점', '빵굼터', '이지바이총신대점', '이지베이커리', '따삐오베이커리', '쁘띠르뽀미에', '쁘띠르뽀미에', '파리바게뜨', '폼바도르제과점', '세비앙과자점', '명과원 생단팥빵', '둘리명과', '이지바이(신대방점)', '그랑프리 베이커리', '명품케익 Art K', '윈첼코리아중계2호점', '따삐오베이커리', '뚜레쥬르', '보네스뻬(사당점)', '신라제과', '루브르베이커리', '아망떼베이커리', '뚜레쥬르', '마스팽과자점', '끄레이또레', '웰빙쌀빵', '에꼴드크루아상', '지지스코리아(주)', '김진영베이커리', '따삐오 베이커리 상계7점', '따삐오 베이커리 상계11점', '따삐오 베이커리 중계역점', '아뜰리에 아만다', '파리바게뜨월계미성', '러브러브베이커리', '뚜레쥬르 노량진 진로마트점', '준스베이커리', '味즐네(미즐네)', '코코호도(수락산아이비힐점)', '파리바게뜨', '이강원과자점', '던킨도너츠', '델리명과', '빵만나', 'RAMI HARU', '빚은 보라매점', '델리앤델리 이수역점', '케익하우스 엠마', '그랑프리', '크라운 베이커리', '뚜레쥬르 총신대역점', '베이커즈원', '꿀잔치호도cafe', '콩스파이', '케익 스토리 크리스마스( Cake story Christmas)', '행복한빵집', '악소렉커', '예다손(상계점)', '통큰빵집', '찰보리식품', '쁘띠 르뽀미에 상계점', '더 바게트 카페중계점', '꾸시꾸시베이커리', '한살림서울생협중계매장', '얌얌케이크', '김진영 베이커리', '브레드원', '보네스뻬', '빵과함께', '뚜레쥬르압구정미성점', '뚜레쥬르', '뚜레쥬르', '샘앤보리스', '파리바게뜨', '브로드카세', '썸케이크', '쁘띠르뽀미에', '노원역 밀도', '도깨비빵집', '파리바케뜨', '홈플러스(주) 몽블랑제(홈를러스 익스프레스 학동역점)', '베즐리베이커리무역점', '파리바게뜨선릉아이타워점', '도쿄빵야', '비알코리아(주)던킨도너츠강남스퀘어점', '뼁프레', '크림바바', '외계인방앗간(삼성점)', '스타샵', '곤트란쉐리에 강남구청점', '아마폴라델리', '크리스피크림 노원점', '그랑프리', '코코호도중계점', '명과여행', '뺑드프랑스', '마들역점 뚜레쥬르', '쥬스케이크앤쿠키샵', '페리베이커리', '에딸프', '일 트리콜로레', '빠뜨아슈', '도레도레 베이커리', '(주)베이커스필드', '크리스피파이대치점', '로프(LOAF)', '픽어베이글', '주식회사 에스피씨삼립 수라방 수서점', '더브라운엣브레드 한티역점', '삼송빵집 롯데백화점 강남점', '(주)천년누리 전주제과', '비알코리아(주) 던킨도너츠 강남스퀘어', '델리앤델리 화랑대점', '파티시리드과자점', '(주)디엔비', '소문난빵집', '뚜레쥬르 공릉동일로점', '서울과자', '프리에르', '화니워니 찰식빵', '엉클스 브레드', '민부곤 과자점', '브레드앤밀', '크로와상 테리', '아슬란 현대미아', '155도씨', '씨엘드프랑스', '건강한 빵 연구소', '카페리치', '빵굽는마을', '신라당암사점', '프랑세즈과자점', '무악재 이즈 베이크드(muakjae is baked)', '크라쌀롱', '엠유mu베이킹', '르상트르', '주식회사 타르틴코리아(타르틴베이커리 서울)', '(주)신세계푸드 베이커리 천호점 한시적영업', '(주)신세계푸드 트레이더스월계점', '새들러 하우스', '아뜰리에 만나(Atelier MANNA)', '이탈리안제과', '태극당', '해바라기 빵집', '감성 마카롱', '크렘드 마롱', '(주)신세계푸드 베이커리 천호점 한시적영업', '(주)신세계푸드 트레이더스월계점-한시적', '리암스(Liams)', '화이트리에 갤러리아점(한시적)', '도봉관', '서울페이스트리', '드봉 크루아상', '화이트리에 갤러리아점', '달콤한위로', '이웃집통통이(한시적)', '푼토돌체', '아우어베이커리', '나정빵집(한시적)', '리암스', '브리타니끄', '푼토돌체(한시적)', '이웃집통통이(한시적)', \"아임파이(I'mPie)\", '비하인드미', '연희양과점', '블러', '베즐리 디큐브점', '블러', '레드애플 롯데백화점영등포점', '우부래도', '연희양과점', '슈라즈케이크', '(주)레드애플(한시적)', '미니마이즈', '마고(한시적)', '성북동 빵공장', '마얘', '달콤한위로6ㅅ`', '레드애플 신세계백화점타임스퀘어점', '달콤한위로', '디.스윗(D.sweet)', '연희양과점', '레드애플 신세계백화점강남점', '레드애플 신세계백화점강남점', '리암스(한시적)', '레드애플 신세계백화점본점점', '달콤한위로', '(주)현대그린푸드베즐리압구정점(한시적)', '강남지역자활센터(데이브레드)한시적', '태극당(한시적)', '달콤한위로', '쉐즈알렉스(한시적)', '레드애플(한시적)', '좋은아침 페스츄리', '레드애플 신세계백화점강남점', '노르웨이안 우드', '제빵소밀과소금', '아뜰리에 드 메이', '한스(Hans)', '몽블랑제(Mon Boulanger)중곡2점', '쥬벨베이커리', '뚜레쥬르 화양현대점', '핫브레드', '고마워케이크', '미뇽(Mignon)', '라그랑우스', '낙원떡사랑', '마리웨일마카롱', '본누벨 과자점', '욱오빵', '파리바게뜨 광장현대점', '대학당빵집', '맥필드베이커리', '케익하우스', '쉬끄델리과자점', '뚜레쥬르 중곡용마점', '프랑세즈과자점', 'Su153빵', '던킨도너츠(건대스타시티점)', '(주)조선호텔베이커리 데이앤데이 자양점2', '아마폴라', '파리바게뜨우인아트홀점', '아루베이커리', '롯데제과(주)베이커리건대점', '(주)제이앤비식품(그래인스)', '파리바게뜨 구의역점', '뷰(제과점)', '파빌리온(제과점)', '한마음제과점', '뚜레쥬르 건대스타시티점', '빵이가득한집', '그랑프리제과', '몽블랑제(Mon Boulanger)', '베베케익&쿠키', '파리바게뜨(구의행복점)', '베이커리엔젤', '파리바게트(화양리점)', '신라베이커리', '케익하우스엠마', '케잌하우스밀레', '파리바게트자양점', '빵굽는마을', '데멜과자점', '로이과자점', '왕도넛츠', '대만세니푸드', '벧엘베이커리', '브랑제리유나', '르와르', '뚜레쥬르(자양점)', '명보제과', '파리베이커리과자점', '던킨도너츠(구의역점)', '시냇물', '크라운베이커리(구의동점)', '샴피뇽', '하나로베이커리', '빵터지는집', '이지바이 중곡점', '브레들리(BREADLY)', '배우고가게', '케익하우스 몽마', '(주)렌서스', '파리바게뜨팔라조데풀레또', '빵굽는드림하우스', '풍년하우스', '보시엘드파리', '쟝발쟝제과점', '북촌명인단팥빵', '성우베이커리', '파리바게뜨 자양점', '호선당', '브레덴코 군자역점', '브레댄코(광나루점)', '브레댄코(중곡점)', '빵가마', '디.오.에스.랩베이커리', '케이크라움', '빚은어린이대공원역점', '베이커리구스토', '쉬크릿베이커리(Shecret Bakery)', '던킨도너츠화양점', '원앤원', '르뽀미에(건대역점)', '로코코케잌', '브랑제리 르와르', '굿뜨모르겐', '로디가이', '띠아몽과자점', '강변파리바게뜨', '크리스탈제과점', '케이에스베이커리', '믹스엔베이크(Mix & Bake)', '제일베이커리', '크라운베이커리독산역점', '프레젠트제과점', '빵굽네베이커리', '뚜레쥬르(구의점)', '뚜레쥬르', '빵굼터', '모닝베이커리', '신라명과(중곡점)', '쥬떼뮤', '안데르센과자점', '띠아몽제과점', '빵굼터', '팬추리(The Kitchen Pantry)', '파리바게트 광나루역점', '몽마르뜨 과자점', '(주)수라당', '뚜레쥬르테크노마트점', '제이크도넛', '파리바게뜨광진파라곤점', '뚜레쥬르건대점', '빵이가득한집', '코코호도아차산역점', '지니케익', '브레드미 광장동점', '코코호도 광장점', '건대케이크', '인디오븐자양점', '미즈호베이커리', '베이커리롱', '도레도레건대스타시티점', '브레다(BREDA)', '이삭베이커리', '윈첼도너츠', '뚜레쥬르 독산본동점', '파리바게뜨 독산역점', '페밀리 베이커리', '구의동빵집', '파리바게뜨', '주재근베이커리', '베이커리빠앙(bakery bbaang)', '곤트란쉐리에건대더클래식500점', '레빗브레드', '스쿨존피자', '롯데쇼핑(주)크리스피크림건대롯데시네마점', '비알코리아(주)던킨도너츠건대역사점', '씨아포스트로피', '밀사랑베이커리', '허니브레드', '크라운베이커리(군자역점)', '뚜레쥬르(화양시장점)', '엠마', '파리바게뜨', '코코호도', '빵과우유(bread&milk)', '글로리아제과', '빵굽는 마을', '(주)디엔비', '엣지브라운 금천점', '뉴욕제과', '봉쥬르제과점', '빵굽는마을', '케잌하우스다오', '신라제과', '치일리스제과', '영국제과', '효성제과', '뉴욕제과신동아점', '신라당천호점', '밀라노베이커리', '신라당제과', '바게뜨과자점', '마덜스피자', '쁘라떼도너츠', '주한암해태마트버거킹', '정동제과', '바로방목산점', '젤라젤라해태점', '동큐제과', '앙베르베이커리', '크라운베이커리천호점', '민속제과', '빠네뜨리빵', '유로스타베이커리(수유점)', '따삐오베이커리', '던킨도너츠', '빠떼쎄리제과점', '밀라노베이커리', '라쌍떼', \"Lee's베이커리빵박사\", '씨밀레', '빠띠세리밀타운', '하얀풍차과자점', '베테랑과자점', '삼미식품', '(주)삼립식품 썬메리 성내점', '바로구운빵박사네', '호산나베이커리', '하드롤제과', '낙원한과', '파리바게뜨명일점', '밀라노베이커리', '(주)델리해태마트점', '빠네뜨리', '미미식품', '인디안가맹점', '크라운베이커리 수유청수점', '케잌하우스떼로', '엄지빵', '미향옛날제과제빵', '파리바게뜨수유점', '박정은 과자점', '바로방둔촌점', '불란서바게뜨', '쥬벨베이커리', '(주)조선호텔베이커리 데이앤데이 자양점3', '에센브르제과', '몽블랑제(Mon Boulanger) 구의점', '피앤비아봉당', '샤르망빵집', '하샘케익', '브레댄코', '아이컵(ICUP)', '뚜레쥬르', '따삐오', '브레드바이', '케이크아이메이드건대점', '풍차베이커리', '고려당', '프린스제과', '이충구베이커리', '권가명가', '알레산더과자점', '케익하우스엠마', '부산뉴욕제과', '안데르센빵집', '미원통상(주)', '해피브레드SK북한산씨티점', '부산제과', '파리바게트', '케익하우스윤', '빵굽는마을', '블레도르제과점', '프랑시앙바게뜨', '에삐드블레', '파리바게트(구의역점)', '블랑제리', '하이레베이커리', '(주)하늘사랑', '홈플러스익스프레스 서울중곡2점', '신라당제과점길동지점', '케익타운', '청자당', '뉴코아제과', '바케트과자점', '청자당', '바이젠과자점', '빵마루', '던킨도너츠광장점', '빵마을', '파리바게트(강변점)', '프로방스제과점', '브레댄코', '브랜다', '이드프랑베이커리', '잉크', '봉베이커리', '김윤호베이커리', '샹제리제', '신세계백화점즉석쿠키', '국민핫도그', '김준성베이커리', '빵사부 식빵공방 미아역점', '어거스트 브레드', '본 파틀렌', '헨젤과그레텔', '파리바게뜨 DDP 프레스센터 부스', '올댓크루아상(ALL THAT CROISSANT)', '얌얌브레드', '춘설빵집', '빙고 브레드', '투닷츠베이커리(2 Dots Bakery)', '브레드클럽 신림역점', '원스베이킹스튜디오', '아뜰리에빵(Atelier빵)', '메인디저트', '뺑스톡 베이킹 스튜디오', '태극당', '리암스(Liams)', '베이커리 로컬', '언제나 토요일', '리암스(Liams)', '우드앤브릭 종각점', '(주)현대그린푸드 베즐리 베이커리', '브레드바이', '리옹베이커리 Lyon bakery', '이제이 베이킹(한시적)', '레드애플 롯데백화점잠실점', '연희양과점', '레드애플', '르네테르(한시적)', '(주)푸드트립', '연희양과점', '르몽블랑', '화이트리에 갤러리아압구정점(한시적)', '데이브레드(강남지역자활센터)한시적', '리암스(Liam`s)', '이제이베이킹(한시적)', '화이트리에 신세계백화점 강남', '레드애플갤러리아압구정점(한시적)', '모든것은 당근케이크에서 시작됐다', '달콤한위로', '성북동빵공장(한시적)', '르몽블랑', '달콤한위로', '라쁘띠', '썸띵어바웃커피(한시적)', '디 피오리(Di fiori) (한시적)', '파리바게뜨 한강타운점', '노르웨이안 우드(Norwegian wood)', '화이트리에 신세계백화점 강남', '(주)현대그린푸드베즐리 목동점', '르몽블랑', '카페그리너리티(cafe greenerity)', '하이제씨', '케익 프롬헤라스(cake fromheras)', '방구석 앙금술사', '(주)현대그린푸드베즐리압구정점(한시적)', '오라카이 청계산 호텔 Le Painzip O', '베이크하우스', '레트로나 파이', '굿데이브레드', '레트로나 파이', '허니크록(HONEY CROCK)', '제네럴테이블', '황금식빵 베이커리', 'young (영)', '디이커피앤브래드(DE coffee&bread)', '(주)튜브캐스트 베이커리카페 딜라이트', '블랙맘베이커리', '나폴레옹제과점', '하하베이커리', '마이니치과자점', '에스엠에이치홀딩스 종춘 신촌점', '파니피카', '서울페이스트리', \"로브니(L'AUBENUIT)\", '예쁘게 맛있다', '루프트커피 신세계본점', '나비부엌', '이학순 베이커리', '빵굽는사람들', '한살림구의매장', '서울연인단팥빵', '브레댄코 건대입구역점', '퍼블리크 홍대AK점', '재희스 파티세리', '르뱅코리아', '샤토레제', '강정이넘치는집', '현철쌀빵', '어바웃플라워', '브래드스토리(Bread Story)', '라라디저트', '유한회사 카페노티드', 'La Boheme Bakery(라보엠 베이커리)', '핫텐도', '트라디시용', '올드페리도넛', '제과왕김버터', '타쿠미야', '책장속마카롱', '더닐크팩토리', '노뜨흐 프헹땅(Notre Printemps)', '(주)튜브캐스트 베이커리카페 딜라이트', '미리내제과점', '라라브레드한남동지점', '롤링핀 을지로입구점', '(주)튜브캐스트 베이커리카페 딜라이트', '대구근대골목도나스&커피', '마용호제빵소', '딜리제(Dillige)', '좋은아침페스츄리 역삼점', '비알코리아(주)던킨도너츠강남본점', '메나쥬리', '식빵이맛있는집네모 중곡점', '골목식빵', '강정이넘치는집', '디 피오리(Di fiori) (한시적)', '베즐리', '베즐리', '리암스(Liams)', '유한회사 카페노티드(한시적)', '레어마카롱(한시적)', '까치화방 성수낙낙점', '오르뢐베이커리(한시적)', '몽슈슈용산아이파크몰점', '소미아빵카페 (등촌점)', '마얘(신세계 강남점)', '소미아 빵 카페', '마호가니 현대백화점 천호점 한시적영업', '성북동빵공장(한시적)', '마고', '주커', '나폴레옹과자점', '르몽블랑', \"리암스(Liam's)\", '유한회사 카페노티드(한시적)', '고오급 빵집']\n"
     ]
    }
   ],
   "source": [
    "print(bread['사업장명'].to_list())"
   ]
  },
  {
   "cell_type": "code",
   "execution_count": 34,
   "id": "aba5f4e8",
   "metadata": {},
   "outputs": [
    {
     "data": {
      "text/html": [
       "<div>\n",
       "<style scoped>\n",
       "    .dataframe tbody tr th:only-of-type {\n",
       "        vertical-align: middle;\n",
       "    }\n",
       "\n",
       "    .dataframe tbody tr th {\n",
       "        vertical-align: top;\n",
       "    }\n",
       "\n",
       "    .dataframe thead th {\n",
       "        text-align: right;\n",
       "    }\n",
       "</style>\n",
       "<table border=\"1\" class=\"dataframe\">\n",
       "  <thead>\n",
       "    <tr style=\"text-align: right;\">\n",
       "      <th></th>\n",
       "      <th>인허가일자</th>\n",
       "      <th>상태코드</th>\n",
       "      <th>폐업일자</th>\n",
       "      <th>사업장명</th>\n",
       "      <th>구명</th>\n",
       "      <th>동명</th>\n",
       "      <th>설립년도</th>\n",
       "      <th>폐업년도</th>\n",
       "      <th>영업기간</th>\n",
       "    </tr>\n",
       "  </thead>\n",
       "  <tbody>\n",
       "    <tr>\n",
       "      <th>0</th>\n",
       "      <td>20010713</td>\n",
       "      <td>1</td>\n",
       "      <td>0</td>\n",
       "      <td>파리바게뜨(역촌역점)</td>\n",
       "      <td>은평구</td>\n",
       "      <td>대조동</td>\n",
       "      <td>2001</td>\n",
       "      <td>0</td>\n",
       "      <td>21.0</td>\n",
       "    </tr>\n",
       "    <tr>\n",
       "      <th>1</th>\n",
       "      <td>20030507</td>\n",
       "      <td>1</td>\n",
       "      <td>0</td>\n",
       "      <td>파리바게뜨</td>\n",
       "      <td>은평구</td>\n",
       "      <td>갈현동</td>\n",
       "      <td>2003</td>\n",
       "      <td>0</td>\n",
       "      <td>19.0</td>\n",
       "    </tr>\n",
       "    <tr>\n",
       "      <th>6</th>\n",
       "      <td>20060417</td>\n",
       "      <td>1</td>\n",
       "      <td>0</td>\n",
       "      <td>파리바게뜨(우림시장점)</td>\n",
       "      <td>중랑구</td>\n",
       "      <td>망우동</td>\n",
       "      <td>2006</td>\n",
       "      <td>0</td>\n",
       "      <td>16.0</td>\n",
       "    </tr>\n",
       "  </tbody>\n",
       "</table>\n",
       "</div>"
      ],
      "text/plain": [
       "      인허가일자  상태코드  폐업일자          사업장명   구명   동명  설립년도  폐업년도  영업기간\n",
       "0  20010713     1     0   파리바게뜨(역촌역점)  은평구  대조동  2001     0  21.0\n",
       "1  20030507     1     0         파리바게뜨  은평구  갈현동  2003     0  19.0\n",
       "6  20060417     1     0  파리바게뜨(우림시장점)  중랑구  망우동  2006     0  16.0"
      ]
     },
     "execution_count": 34,
     "metadata": {},
     "output_type": "execute_result"
    }
   ],
   "source": [
    "# 파리바게뜨 파리바게트 2개로 표기되어 있음\n",
    "paris = bread[bread['사업장명'].str.contains('파리바게')]\n",
    "paris.head(3)"
   ]
  },
  {
   "cell_type": "code",
   "execution_count": 35,
   "id": "27a42bc0",
   "metadata": {},
   "outputs": [
    {
     "data": {
      "text/html": [
       "<div>\n",
       "<style scoped>\n",
       "    .dataframe tbody tr th:only-of-type {\n",
       "        vertical-align: middle;\n",
       "    }\n",
       "\n",
       "    .dataframe tbody tr th {\n",
       "        vertical-align: top;\n",
       "    }\n",
       "\n",
       "    .dataframe thead th {\n",
       "        text-align: right;\n",
       "    }\n",
       "</style>\n",
       "<table border=\"1\" class=\"dataframe\">\n",
       "  <thead>\n",
       "    <tr style=\"text-align: right;\">\n",
       "      <th></th>\n",
       "      <th>인허가일자</th>\n",
       "      <th>상태코드</th>\n",
       "      <th>폐업일자</th>\n",
       "      <th>사업장명</th>\n",
       "      <th>구명</th>\n",
       "      <th>동명</th>\n",
       "      <th>설립년도</th>\n",
       "      <th>폐업년도</th>\n",
       "      <th>영업기간</th>\n",
       "    </tr>\n",
       "  </thead>\n",
       "  <tbody>\n",
       "    <tr>\n",
       "      <th>5</th>\n",
       "      <td>20050412</td>\n",
       "      <td>1</td>\n",
       "      <td>0</td>\n",
       "      <td>뚜레쥬르</td>\n",
       "      <td>중랑구</td>\n",
       "      <td>신내동</td>\n",
       "      <td>2005</td>\n",
       "      <td>0</td>\n",
       "      <td>17.0</td>\n",
       "    </tr>\n",
       "    <tr>\n",
       "      <th>7</th>\n",
       "      <td>20060822</td>\n",
       "      <td>1</td>\n",
       "      <td>0</td>\n",
       "      <td>뚜레쥬르사가정역점</td>\n",
       "      <td>중랑구</td>\n",
       "      <td>면목동</td>\n",
       "      <td>2006</td>\n",
       "      <td>0</td>\n",
       "      <td>16.0</td>\n",
       "    </tr>\n",
       "    <tr>\n",
       "      <th>14</th>\n",
       "      <td>20070416</td>\n",
       "      <td>1</td>\n",
       "      <td>0</td>\n",
       "      <td>뚜레쥬르용마산역점</td>\n",
       "      <td>중랑구</td>\n",
       "      <td>면목동</td>\n",
       "      <td>2007</td>\n",
       "      <td>0</td>\n",
       "      <td>15.0</td>\n",
       "    </tr>\n",
       "  </tbody>\n",
       "</table>\n",
       "</div>"
      ],
      "text/plain": [
       "       인허가일자  상태코드  폐업일자       사업장명   구명   동명  설립년도  폐업년도  영업기간\n",
       "5   20050412     1     0       뚜레쥬르  중랑구  신내동  2005     0  17.0\n",
       "7   20060822     1     0  뚜레쥬르사가정역점  중랑구  면목동  2006     0  16.0\n",
       "14  20070416     1     0  뚜레쥬르용마산역점  중랑구  면목동  2007     0  15.0"
      ]
     },
     "execution_count": 35,
     "metadata": {},
     "output_type": "execute_result"
    }
   ],
   "source": [
    "tous = bread[bread['사업장명'].str.contains('뚜레쥬르')]\n",
    "tous.head(3)"
   ]
  },
  {
   "cell_type": "code",
   "execution_count": 36,
   "id": "3ffe1b78",
   "metadata": {},
   "outputs": [
    {
     "name": "stdout",
     "output_type": "stream",
     "text": [
      "(1059, 9) (586, 9)\n"
     ]
    }
   ],
   "source": [
    "print(paris.shape,tous.shape)"
   ]
  },
  {
   "cell_type": "code",
   "execution_count": 37,
   "id": "5e3ad6f2",
   "metadata": {},
   "outputs": [
    {
     "data": {
      "text/html": [
       "<div>\n",
       "<style scoped>\n",
       "    .dataframe tbody tr th:only-of-type {\n",
       "        vertical-align: middle;\n",
       "    }\n",
       "\n",
       "    .dataframe tbody tr th {\n",
       "        vertical-align: top;\n",
       "    }\n",
       "\n",
       "    .dataframe thead th {\n",
       "        text-align: right;\n",
       "    }\n",
       "</style>\n",
       "<table border=\"1\" class=\"dataframe\">\n",
       "  <thead>\n",
       "    <tr style=\"text-align: right;\">\n",
       "      <th></th>\n",
       "      <th>영업</th>\n",
       "    </tr>\n",
       "  </thead>\n",
       "  <tbody>\n",
       "    <tr>\n",
       "      <th>파리바게트</th>\n",
       "      <td>12.357022</td>\n",
       "    </tr>\n",
       "    <tr>\n",
       "      <th>뚜레쥬르</th>\n",
       "      <td>9.796296</td>\n",
       "    </tr>\n",
       "  </tbody>\n",
       "</table>\n",
       "</div>"
      ],
      "text/plain": [
       "              영업\n",
       "파리바게트  12.357022\n",
       "뚜레쥬르    9.796296"
      ]
     },
     "execution_count": 37,
     "metadata": {},
     "output_type": "execute_result"
    }
   ],
   "source": [
    "temp1 = paris.loc[(paris['설립년도']>=2000)&(paris['상태코드']==1),'영업기간']\n",
    "temp2 = tous.loc[(tous['설립년도']>=2000)&(tous['상태코드']==1),'영업기간']\n",
    "# 영업기간 평균 구하기\n",
    "s = pd.Series([temp1.mean(), temp2.mean()],index=['파리바게트','뚜레쥬르'])\n",
    "comp = pd.DataFrame(s,columns=['영업'])\n",
    "comp"
   ]
  },
  {
   "cell_type": "code",
   "execution_count": 38,
   "id": "2179e161",
   "metadata": {},
   "outputs": [
    {
     "data": {
      "text/html": [
       "<div>\n",
       "<style scoped>\n",
       "    .dataframe tbody tr th:only-of-type {\n",
       "        vertical-align: middle;\n",
       "    }\n",
       "\n",
       "    .dataframe tbody tr th {\n",
       "        vertical-align: top;\n",
       "    }\n",
       "\n",
       "    .dataframe thead th {\n",
       "        text-align: right;\n",
       "    }\n",
       "</style>\n",
       "<table border=\"1\" class=\"dataframe\">\n",
       "  <thead>\n",
       "    <tr style=\"text-align: right;\">\n",
       "      <th></th>\n",
       "      <th>영업</th>\n",
       "      <th>폐업</th>\n",
       "    </tr>\n",
       "  </thead>\n",
       "  <tbody>\n",
       "    <tr>\n",
       "      <th>파리바게트</th>\n",
       "      <td>12.357022</td>\n",
       "      <td>7.712687</td>\n",
       "    </tr>\n",
       "    <tr>\n",
       "      <th>뚜레쥬르</th>\n",
       "      <td>9.796296</td>\n",
       "      <td>7.309028</td>\n",
       "    </tr>\n",
       "  </tbody>\n",
       "</table>\n",
       "</div>"
      ],
      "text/plain": [
       "              영업        폐업\n",
       "파리바게트  12.357022  7.712687\n",
       "뚜레쥬르    9.796296  7.309028"
      ]
     },
     "execution_count": 38,
     "metadata": {},
     "output_type": "execute_result"
    }
   ],
   "source": [
    "temp1 = paris.loc[(paris['설립년도']>=2000)&(paris['상태코드']==2),'영업기간']\n",
    "temp2 = tous.loc[(tous['설립년도']>=2000)&(tous['상태코드']==2),'영업기간']\n",
    "\n",
    "comp['폐업'] = [temp1.mean(),temp2.mean()]\n",
    "comp"
   ]
  },
  {
   "cell_type": "code",
   "execution_count": 39,
   "id": "e87005df",
   "metadata": {},
   "outputs": [
    {
     "data": {
      "text/plain": [
       "(10407, 9)"
      ]
     },
     "execution_count": 39,
     "metadata": {},
     "output_type": "execute_result"
    }
   ],
   "source": [
    "# 파리바게트, 뚜레쥬르 이외 제과점(other)들 영업기간은\n",
    "condition1 = (bread['사업장명'].str.contains('파리바게'))\n",
    "condition2 = (bread['사업장명'].str.contains('뚜레쥬르'))\n",
    "other = bread.loc[~(condition1 | condition2), :]# ~ 아닌 것은\n",
    "other.shape"
   ]
  },
  {
   "cell_type": "code",
   "execution_count": 40,
   "id": "18fe545b",
   "metadata": {},
   "outputs": [
    {
     "name": "stdout",
     "output_type": "stream",
     "text": [
      "전체: 12052\n",
      "파바: 1059\n",
      "뚜쥬: 586\n",
      "나머지: 10407\n"
     ]
    }
   ],
   "source": [
    "print('전체:',bread.shape[0])\n",
    "print('파바:',paris.shape[0])\n",
    "print('뚜쥬:',tous.shape[0])\n",
    "print('나머지:',other.shape[0])"
   ]
  },
  {
   "cell_type": "code",
   "execution_count": 41,
   "id": "956240f2",
   "metadata": {},
   "outputs": [
    {
     "name": "stderr",
     "output_type": "stream",
     "text": [
      "C:\\Users\\choic\\AppData\\Local\\Temp\\ipykernel_5960\\1153167289.py:5: FutureWarning: The frame.append method is deprecated and will be removed from pandas in a future version. Use pandas.concat instead.\n",
      "  comp = comp.append(temp)\n"
     ]
    },
    {
     "data": {
      "text/html": [
       "<div>\n",
       "<style scoped>\n",
       "    .dataframe tbody tr th:only-of-type {\n",
       "        vertical-align: middle;\n",
       "    }\n",
       "\n",
       "    .dataframe tbody tr th {\n",
       "        vertical-align: top;\n",
       "    }\n",
       "\n",
       "    .dataframe thead th {\n",
       "        text-align: right;\n",
       "    }\n",
       "</style>\n",
       "<table border=\"1\" class=\"dataframe\">\n",
       "  <thead>\n",
       "    <tr style=\"text-align: right;\">\n",
       "      <th></th>\n",
       "      <th>영업</th>\n",
       "      <th>폐업</th>\n",
       "    </tr>\n",
       "  </thead>\n",
       "  <tbody>\n",
       "    <tr>\n",
       "      <th>파리바게트</th>\n",
       "      <td>12.357022</td>\n",
       "      <td>7.712687</td>\n",
       "    </tr>\n",
       "    <tr>\n",
       "      <th>뚜레쥬르</th>\n",
       "      <td>9.796296</td>\n",
       "      <td>7.309028</td>\n",
       "    </tr>\n",
       "    <tr>\n",
       "      <th>나머지</th>\n",
       "      <td>6.332259</td>\n",
       "      <td>4.619193</td>\n",
       "    </tr>\n",
       "  </tbody>\n",
       "</table>\n",
       "</div>"
      ],
      "text/plain": [
       "              영업        폐업\n",
       "파리바게트  12.357022  7.712687\n",
       "뚜레쥬르    9.796296  7.309028\n",
       "나머지     6.332259  4.619193"
      ]
     },
     "execution_count": 41,
     "metadata": {},
     "output_type": "execute_result"
    }
   ],
   "source": [
    "temp1 = other.loc[(other['설립년도']>=2000)&(other['상태코드']==1),'영업기간']\n",
    "temp2 = other.loc[(other['설립년도']>=2000)&(other['상태코드']==2),'영업기간']\n",
    "\n",
    "temp = pd.DataFrame([[temp1.mean(), temp2.mean()]], index=['나머지'], columns=['영업', '폐업'])\n",
    "comp = comp.append(temp)\n",
    "comp"
   ]
  },
  {
   "cell_type": "code",
   "execution_count": 48,
   "id": "bf2ca1aa",
   "metadata": {},
   "outputs": [
    {
     "data": {
      "text/html": [
       "<div>\n",
       "<style scoped>\n",
       "    .dataframe tbody tr th:only-of-type {\n",
       "        vertical-align: middle;\n",
       "    }\n",
       "\n",
       "    .dataframe tbody tr th {\n",
       "        vertical-align: top;\n",
       "    }\n",
       "\n",
       "    .dataframe thead th {\n",
       "        text-align: right;\n",
       "    }\n",
       "</style>\n",
       "<table border=\"1\" class=\"dataframe\">\n",
       "  <thead>\n",
       "    <tr style=\"text-align: right;\">\n",
       "      <th></th>\n",
       "      <th>구명</th>\n",
       "    </tr>\n",
       "  </thead>\n",
       "  <tbody>\n",
       "    <tr>\n",
       "      <th>강남구</th>\n",
       "      <td>59</td>\n",
       "    </tr>\n",
       "    <tr>\n",
       "      <th>송파구</th>\n",
       "      <td>49</td>\n",
       "    </tr>\n",
       "  </tbody>\n",
       "</table>\n",
       "</div>"
      ],
      "text/plain": [
       "     구명\n",
       "강남구  59\n",
       "송파구  49"
      ]
     },
     "execution_count": 48,
     "metadata": {},
     "output_type": "execute_result"
    }
   ],
   "source": [
    "# 제과점 별 위치 분석 -> 구 별 매장 개수\n",
    "temp = paris.loc[paris['상태코드']==1, '구명'].value_counts().to_frame()\n",
    "temp.head(2)"
   ]
  },
  {
   "cell_type": "code",
   "execution_count": 49,
   "id": "6dd0edd6",
   "metadata": {},
   "outputs": [
    {
     "data": {
      "text/html": [
       "<div>\n",
       "<style scoped>\n",
       "    .dataframe tbody tr th:only-of-type {\n",
       "        vertical-align: middle;\n",
       "    }\n",
       "\n",
       "    .dataframe tbody tr th {\n",
       "        vertical-align: top;\n",
       "    }\n",
       "\n",
       "    .dataframe thead th {\n",
       "        text-align: right;\n",
       "    }\n",
       "</style>\n",
       "<table border=\"1\" class=\"dataframe\">\n",
       "  <thead>\n",
       "    <tr style=\"text-align: right;\">\n",
       "      <th></th>\n",
       "      <th>index</th>\n",
       "      <th>구명</th>\n",
       "      <th>폐업</th>\n",
       "    </tr>\n",
       "  </thead>\n",
       "  <tbody>\n",
       "    <tr>\n",
       "      <th>0</th>\n",
       "      <td>강남구</td>\n",
       "      <td>59</td>\n",
       "      <td>28</td>\n",
       "    </tr>\n",
       "    <tr>\n",
       "      <th>1</th>\n",
       "      <td>송파구</td>\n",
       "      <td>49</td>\n",
       "      <td>20</td>\n",
       "    </tr>\n",
       "  </tbody>\n",
       "</table>\n",
       "</div>"
      ],
      "text/plain": [
       "  index  구명  폐업\n",
       "0   강남구  59  28\n",
       "1   송파구  49  20"
      ]
     },
     "execution_count": 49,
     "metadata": {},
     "output_type": "execute_result"
    }
   ],
   "source": [
    "temp['폐업'] = paris.loc[paris['상태코드']==2, '구명'].value_counts()\n",
    "temp2 = temp.reset_index()\n",
    "temp2.head(2)"
   ]
  },
  {
   "cell_type": "code",
   "execution_count": 50,
   "id": "a7dabcdc",
   "metadata": {},
   "outputs": [],
   "source": [
    "temp2.columns = ['구','영업','폐업']"
   ]
  },
  {
   "cell_type": "code",
   "execution_count": 51,
   "id": "9adcc25c",
   "metadata": {},
   "outputs": [
    {
     "data": {
      "text/html": [
       "<div>\n",
       "<style scoped>\n",
       "    .dataframe tbody tr th:only-of-type {\n",
       "        vertical-align: middle;\n",
       "    }\n",
       "\n",
       "    .dataframe tbody tr th {\n",
       "        vertical-align: top;\n",
       "    }\n",
       "\n",
       "    .dataframe thead th {\n",
       "        text-align: right;\n",
       "    }\n",
       "</style>\n",
       "<table border=\"1\" class=\"dataframe\">\n",
       "  <thead>\n",
       "    <tr style=\"text-align: right;\">\n",
       "      <th></th>\n",
       "      <th>구</th>\n",
       "      <th>영업</th>\n",
       "      <th>폐업</th>\n",
       "      <th>폐업비율</th>\n",
       "    </tr>\n",
       "  </thead>\n",
       "  <tbody>\n",
       "    <tr>\n",
       "      <th>0</th>\n",
       "      <td>강남구</td>\n",
       "      <td>59</td>\n",
       "      <td>28</td>\n",
       "      <td>32.183908</td>\n",
       "    </tr>\n",
       "    <tr>\n",
       "      <th>1</th>\n",
       "      <td>송파구</td>\n",
       "      <td>49</td>\n",
       "      <td>20</td>\n",
       "      <td>28.985507</td>\n",
       "    </tr>\n",
       "    <tr>\n",
       "      <th>2</th>\n",
       "      <td>서초구</td>\n",
       "      <td>38</td>\n",
       "      <td>24</td>\n",
       "      <td>38.709677</td>\n",
       "    </tr>\n",
       "    <tr>\n",
       "      <th>3</th>\n",
       "      <td>영등포구</td>\n",
       "      <td>37</td>\n",
       "      <td>22</td>\n",
       "      <td>37.288136</td>\n",
       "    </tr>\n",
       "    <tr>\n",
       "      <th>4</th>\n",
       "      <td>강서구</td>\n",
       "      <td>34</td>\n",
       "      <td>13</td>\n",
       "      <td>27.659574</td>\n",
       "    </tr>\n",
       "  </tbody>\n",
       "</table>\n",
       "</div>"
      ],
      "text/plain": [
       "      구  영업  폐업       폐업비율\n",
       "0   강남구  59  28  32.183908\n",
       "1   송파구  49  20  28.985507\n",
       "2   서초구  38  24  38.709677\n",
       "3  영등포구  37  22  37.288136\n",
       "4   강서구  34  13  27.659574"
      ]
     },
     "execution_count": 51,
     "metadata": {},
     "output_type": "execute_result"
    }
   ],
   "source": [
    "# 폐업비율표 만들기 \n",
    "# 폐업비율 = 폐업/(폐업+영업) * 100\n",
    "temp2['폐업비율'] = (temp2['폐업'] / (temp2['폐업']+temp2['영업'])) *100\n",
    "temp2.head()"
   ]
  },
  {
   "cell_type": "code",
   "execution_count": 54,
   "id": "0b0d4180",
   "metadata": {},
   "outputs": [
    {
     "data": {
      "text/html": [
       "<div>\n",
       "<style scoped>\n",
       "    .dataframe tbody tr th:only-of-type {\n",
       "        vertical-align: middle;\n",
       "    }\n",
       "\n",
       "    .dataframe tbody tr th {\n",
       "        vertical-align: top;\n",
       "    }\n",
       "\n",
       "    .dataframe thead th {\n",
       "        text-align: right;\n",
       "    }\n",
       "</style>\n",
       "<table border=\"1\" class=\"dataframe\">\n",
       "  <thead>\n",
       "    <tr style=\"text-align: right;\">\n",
       "      <th></th>\n",
       "      <th>구</th>\n",
       "      <th>영업</th>\n",
       "      <th>폐업</th>\n",
       "      <th>폐업비율</th>\n",
       "    </tr>\n",
       "  </thead>\n",
       "  <tbody>\n",
       "    <tr>\n",
       "      <th>6</th>\n",
       "      <td>은평구</td>\n",
       "      <td>33</td>\n",
       "      <td>6</td>\n",
       "      <td>15.384615</td>\n",
       "    </tr>\n",
       "    <tr>\n",
       "      <th>12</th>\n",
       "      <td>동대문구</td>\n",
       "      <td>27</td>\n",
       "      <td>5</td>\n",
       "      <td>15.625000</td>\n",
       "    </tr>\n",
       "    <tr>\n",
       "      <th>17</th>\n",
       "      <td>도봉구</td>\n",
       "      <td>21</td>\n",
       "      <td>4</td>\n",
       "      <td>16.000000</td>\n",
       "    </tr>\n",
       "    <tr>\n",
       "      <th>8</th>\n",
       "      <td>구로구</td>\n",
       "      <td>30</td>\n",
       "      <td>10</td>\n",
       "      <td>25.000000</td>\n",
       "    </tr>\n",
       "    <tr>\n",
       "      <th>23</th>\n",
       "      <td>강북구</td>\n",
       "      <td>16</td>\n",
       "      <td>6</td>\n",
       "      <td>27.272727</td>\n",
       "    </tr>\n",
       "  </tbody>\n",
       "</table>\n",
       "</div>"
      ],
      "text/plain": [
       "       구  영업  폐업       폐업비율\n",
       "6    은평구  33   6  15.384615\n",
       "12  동대문구  27   5  15.625000\n",
       "17   도봉구  21   4  16.000000\n",
       "8    구로구  30  10  25.000000\n",
       "23   강북구  16   6  27.272727"
      ]
     },
     "execution_count": 54,
     "metadata": {},
     "output_type": "execute_result"
    }
   ],
   "source": [
    "temp2.sort_values('폐업비율').head()"
   ]
  },
  {
   "cell_type": "code",
   "execution_count": 55,
   "id": "ed2da925",
   "metadata": {},
   "outputs": [
    {
     "data": {
      "text/plain": [
       "0.0     1.0\n",
       "0.5     5.5\n",
       "1.0    10.0\n",
       "dtype: float64"
      ]
     },
     "execution_count": 55,
     "metadata": {},
     "output_type": "execute_result"
    }
   ],
   "source": [
    "s = pd.Series([1, 2, 3, 4, 5, 6, 7, 8, 9, 10])\n",
    "s.quantile([0, 0.5, 1])"
   ]
  },
  {
   "cell_type": "code",
   "execution_count": 56,
   "id": "fe6757a6",
   "metadata": {},
   "outputs": [
    {
     "name": "stdout",
     "output_type": "stream",
     "text": [
      "29.042064333686817\n"
     ]
    },
    {
     "data": {
      "text/html": [
       "<div>\n",
       "<style scoped>\n",
       "    .dataframe tbody tr th:only-of-type {\n",
       "        vertical-align: middle;\n",
       "    }\n",
       "\n",
       "    .dataframe tbody tr th {\n",
       "        vertical-align: top;\n",
       "    }\n",
       "\n",
       "    .dataframe thead th {\n",
       "        text-align: right;\n",
       "    }\n",
       "</style>\n",
       "<table border=\"1\" class=\"dataframe\">\n",
       "  <thead>\n",
       "    <tr style=\"text-align: right;\">\n",
       "      <th></th>\n",
       "      <th>구</th>\n",
       "      <th>영업</th>\n",
       "      <th>폐업</th>\n",
       "      <th>폐업비율</th>\n",
       "    </tr>\n",
       "  </thead>\n",
       "  <tbody>\n",
       "    <tr>\n",
       "      <th>6</th>\n",
       "      <td>은평구</td>\n",
       "      <td>33</td>\n",
       "      <td>6</td>\n",
       "      <td>15.384615</td>\n",
       "    </tr>\n",
       "    <tr>\n",
       "      <th>12</th>\n",
       "      <td>동대문구</td>\n",
       "      <td>27</td>\n",
       "      <td>5</td>\n",
       "      <td>15.625000</td>\n",
       "    </tr>\n",
       "    <tr>\n",
       "      <th>17</th>\n",
       "      <td>도봉구</td>\n",
       "      <td>21</td>\n",
       "      <td>4</td>\n",
       "      <td>16.000000</td>\n",
       "    </tr>\n",
       "    <tr>\n",
       "      <th>8</th>\n",
       "      <td>구로구</td>\n",
       "      <td>30</td>\n",
       "      <td>10</td>\n",
       "      <td>25.000000</td>\n",
       "    </tr>\n",
       "    <tr>\n",
       "      <th>23</th>\n",
       "      <td>강북구</td>\n",
       "      <td>16</td>\n",
       "      <td>6</td>\n",
       "      <td>27.272727</td>\n",
       "    </tr>\n",
       "    <tr>\n",
       "      <th>4</th>\n",
       "      <td>강서구</td>\n",
       "      <td>34</td>\n",
       "      <td>13</td>\n",
       "      <td>27.659574</td>\n",
       "    </tr>\n",
       "    <tr>\n",
       "      <th>15</th>\n",
       "      <td>성동구</td>\n",
       "      <td>26</td>\n",
       "      <td>10</td>\n",
       "      <td>27.777778</td>\n",
       "    </tr>\n",
       "    <tr>\n",
       "      <th>1</th>\n",
       "      <td>송파구</td>\n",
       "      <td>49</td>\n",
       "      <td>20</td>\n",
       "      <td>28.985507</td>\n",
       "    </tr>\n",
       "  </tbody>\n",
       "</table>\n",
       "</div>"
      ],
      "text/plain": [
       "       구  영업  폐업       폐업비율\n",
       "6    은평구  33   6  15.384615\n",
       "12  동대문구  27   5  15.625000\n",
       "17   도봉구  21   4  16.000000\n",
       "8    구로구  30  10  25.000000\n",
       "23   강북구  16   6  27.272727\n",
       "4    강서구  34  13  27.659574\n",
       "15   성동구  26  10  27.777778\n",
       "1    송파구  49  20  28.985507"
      ]
     },
     "execution_count": 56,
     "metadata": {},
     "output_type": "execute_result"
    }
   ],
   "source": [
    "value = temp2['폐업비율'].quantile(0.3)\n",
    "print(value)\n",
    "temp2.loc[temp2['폐업비율'] <= value, ].sort_values('폐업비율')"
   ]
  },
  {
   "cell_type": "code",
   "execution_count": 57,
   "id": "1e236783",
   "metadata": {},
   "outputs": [
    {
     "name": "stdout",
     "output_type": "stream",
     "text": [
      "42.37726098191215\n"
     ]
    },
    {
     "data": {
      "text/html": [
       "<div>\n",
       "<style scoped>\n",
       "    .dataframe tbody tr th:only-of-type {\n",
       "        vertical-align: middle;\n",
       "    }\n",
       "\n",
       "    .dataframe tbody tr th {\n",
       "        vertical-align: top;\n",
       "    }\n",
       "\n",
       "    .dataframe thead th {\n",
       "        text-align: right;\n",
       "    }\n",
       "</style>\n",
       "<table border=\"1\" class=\"dataframe\">\n",
       "  <thead>\n",
       "    <tr style=\"text-align: right;\">\n",
       "      <th></th>\n",
       "      <th>구</th>\n",
       "      <th>영업</th>\n",
       "      <th>폐업</th>\n",
       "      <th>폐업비율</th>\n",
       "    </tr>\n",
       "  </thead>\n",
       "  <tbody>\n",
       "    <tr>\n",
       "      <th>11</th>\n",
       "      <td>강동구</td>\n",
       "      <td>28</td>\n",
       "      <td>25</td>\n",
       "      <td>47.169811</td>\n",
       "    </tr>\n",
       "    <tr>\n",
       "      <th>18</th>\n",
       "      <td>용산구</td>\n",
       "      <td>20</td>\n",
       "      <td>16</td>\n",
       "      <td>44.444444</td>\n",
       "    </tr>\n",
       "    <tr>\n",
       "      <th>20</th>\n",
       "      <td>광진구</td>\n",
       "      <td>19</td>\n",
       "      <td>16</td>\n",
       "      <td>45.714286</td>\n",
       "    </tr>\n",
       "    <tr>\n",
       "      <th>22</th>\n",
       "      <td>금천구</td>\n",
       "      <td>17</td>\n",
       "      <td>14</td>\n",
       "      <td>45.161290</td>\n",
       "    </tr>\n",
       "    <tr>\n",
       "      <th>24</th>\n",
       "      <td>종로구</td>\n",
       "      <td>12</td>\n",
       "      <td>12</td>\n",
       "      <td>50.000000</td>\n",
       "    </tr>\n",
       "  </tbody>\n",
       "</table>\n",
       "</div>"
      ],
      "text/plain": [
       "      구  영업  폐업       폐업비율\n",
       "11  강동구  28  25  47.169811\n",
       "18  용산구  20  16  44.444444\n",
       "20  광진구  19  16  45.714286\n",
       "22  금천구  17  14  45.161290\n",
       "24  종로구  12  12  50.000000"
      ]
     },
     "execution_count": 57,
     "metadata": {},
     "output_type": "execute_result"
    }
   ],
   "source": [
    "value = temp2['폐업비율'].quantile(0.8)\n",
    "print(value)\n",
    "temp2.loc[temp2['폐업비율'] >= value, ]"
   ]
  },
  {
   "cell_type": "code",
   "execution_count": null,
   "id": "5ff625a3",
   "metadata": {},
   "outputs": [],
   "source": []
  }
 ],
 "metadata": {
  "kernelspec": {
   "display_name": "Python 3 (ipykernel)",
   "language": "python",
   "name": "python3"
  },
  "language_info": {
   "codemirror_mode": {
    "name": "ipython",
    "version": 3
   },
   "file_extension": ".py",
   "mimetype": "text/x-python",
   "name": "python",
   "nbconvert_exporter": "python",
   "pygments_lexer": "ipython3",
   "version": "3.9.12"
  }
 },
 "nbformat": 4,
 "nbformat_minor": 5
}
