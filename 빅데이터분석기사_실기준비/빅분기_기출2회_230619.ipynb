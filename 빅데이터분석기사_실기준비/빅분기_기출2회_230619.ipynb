{
 "cells": [
  {
   "cell_type": "code",
   "execution_count": 2,
   "id": "cf83084d",
   "metadata": {},
   "outputs": [],
   "source": [
    "import pandas as pd"
   ]
  },
  {
   "cell_type": "code",
   "execution_count": 3,
   "id": "26f01ec2",
   "metadata": {},
   "outputs": [],
   "source": [
    "data1 = pd.read_csv('./case1_no1.csv')\n",
    "data2 = pd.read_csv('./case1_no2.csv')\n",
    "data3 = pd.read_csv('./case1_no3.csv')\n",
    "data4 = pd.read_csv('./case2_no1.csv')"
   ]
  },
  {
   "cell_type": "markdown",
   "id": "5896bb57",
   "metadata": {},
   "source": [
    "1. Feature 상위 10개 값을 10번째 값으로 대체한 후, Feature2 80이상인 데이터만 추출해서 Feature1 평균 구하기"
   ]
  },
  {
   "cell_type": "code",
   "execution_count": 14,
   "id": "e0b49bc6",
   "metadata": {},
   "outputs": [
    {
     "name": "stdout",
     "output_type": "stream",
     "text": [
      "5.9123684210526335\n"
     ]
    }
   ],
   "source": [
    "df = data1.copy()\n",
    "df.head()\n",
    "\n",
    "df = df.sort_values(by='Feature1',ascending=False).reset_index(drop=True)\n",
    "df.head()\n",
    "\n",
    "df.loc[9]\n",
    "\n",
    "df.loc[0:9,'Feature1'] = df.loc[9,'Feature1']\n",
    "df.head()\n",
    "\n",
    "df['Feature2']>=80\n",
    "\n",
    "df2 = df[df['Feature2']>=80]\n",
    "df2 = df2['Feature1']\n",
    "df2\n",
    "\n",
    "result = df2.mean()\n",
    "print(result)"
   ]
  },
  {
   "cell_type": "markdown",
   "id": "f38b47cd",
   "metadata": {},
   "source": [
    "2. Feature2 상위 80% 데이터를 학습 데이터셋으로 생성한 후 Feature1의 결측치를 Feature1의 중앙값으로 대체하고 대체 전후의 표준편차 차이를 구하시오.(80%는 반올림하여 개수 추출)"
   ]
  },
  {
   "cell_type": "code",
   "execution_count": 34,
   "id": "0831d6c0",
   "metadata": {},
   "outputs": [
    {
     "data": {
      "text/html": [
       "<div>\n",
       "<style scoped>\n",
       "    .dataframe tbody tr th:only-of-type {\n",
       "        vertical-align: middle;\n",
       "    }\n",
       "\n",
       "    .dataframe tbody tr th {\n",
       "        vertical-align: top;\n",
       "    }\n",
       "\n",
       "    .dataframe thead th {\n",
       "        text-align: right;\n",
       "    }\n",
       "</style>\n",
       "<table border=\"1\" class=\"dataframe\">\n",
       "  <thead>\n",
       "    <tr style=\"text-align: right;\">\n",
       "      <th></th>\n",
       "      <th>Feature1</th>\n",
       "      <th>Feature2</th>\n",
       "    </tr>\n",
       "  </thead>\n",
       "  <tbody>\n",
       "    <tr>\n",
       "      <th>82</th>\n",
       "      <td>NaN</td>\n",
       "      <td>171.50</td>\n",
       "    </tr>\n",
       "    <tr>\n",
       "      <th>78</th>\n",
       "      <td>23.97</td>\n",
       "      <td>143.70</td>\n",
       "    </tr>\n",
       "    <tr>\n",
       "      <th>23</th>\n",
       "      <td>NaN</td>\n",
       "      <td>137.20</td>\n",
       "    </tr>\n",
       "    <tr>\n",
       "      <th>4</th>\n",
       "      <td>NaN</td>\n",
       "      <td>135.10</td>\n",
       "    </tr>\n",
       "    <tr>\n",
       "      <th>1</th>\n",
       "      <td>17.77</td>\n",
       "      <td>132.90</td>\n",
       "    </tr>\n",
       "    <tr>\n",
       "      <th>...</th>\n",
       "      <td>...</td>\n",
       "      <td>...</td>\n",
       "    </tr>\n",
       "    <tr>\n",
       "      <th>68</th>\n",
       "      <td>17.33</td>\n",
       "      <td>58.79</td>\n",
       "    </tr>\n",
       "    <tr>\n",
       "      <th>61</th>\n",
       "      <td>20.98</td>\n",
       "      <td>54.66</td>\n",
       "    </tr>\n",
       "    <tr>\n",
       "      <th>59</th>\n",
       "      <td>11.79</td>\n",
       "      <td>54.34</td>\n",
       "    </tr>\n",
       "    <tr>\n",
       "      <th>46</th>\n",
       "      <td>16.84</td>\n",
       "      <td>51.71</td>\n",
       "    </tr>\n",
       "    <tr>\n",
       "      <th>101</th>\n",
       "      <td>13.43</td>\n",
       "      <td>43.79</td>\n",
       "    </tr>\n",
       "  </tbody>\n",
       "</table>\n",
       "<p>105 rows × 2 columns</p>\n",
       "</div>"
      ],
      "text/plain": [
       "     Feature1  Feature2\n",
       "82        NaN    171.50\n",
       "78      23.97    143.70\n",
       "23        NaN    137.20\n",
       "4         NaN    135.10\n",
       "1       17.77    132.90\n",
       "..        ...       ...\n",
       "68      17.33     58.79\n",
       "61      20.98     54.66\n",
       "59      11.79     54.34\n",
       "46      16.84     51.71\n",
       "101     13.43     43.79\n",
       "\n",
       "[105 rows x 2 columns]"
      ]
     },
     "execution_count": 34,
     "metadata": {},
     "output_type": "execute_result"
    }
   ],
   "source": [
    "df = data2.copy()\n",
    "df.head()\n",
    "df = df.sort_values(by='Feature2',ascending=False)\n",
    "df"
   ]
  },
  {
   "cell_type": "code",
   "execution_count": 37,
   "id": "afc117d3",
   "metadata": {},
   "outputs": [
    {
     "data": {
      "text/plain": [
       "(84, 2)"
      ]
     },
     "execution_count": 37,
     "metadata": {},
     "output_type": "execute_result"
    }
   ],
   "source": [
    "df = df.iloc[:84]\n",
    "df.shape\n",
    "\n",
    "df['Feature1'].std()"
   ]
  },
  {
   "cell_type": "code",
   "execution_count": 42,
   "id": "5f9fb63c",
   "metadata": {},
   "outputs": [
    {
     "data": {
      "text/plain": [
       "20.52"
      ]
     },
     "execution_count": 42,
     "metadata": {},
     "output_type": "execute_result"
    }
   ],
   "source": [
    "median = df['Feature1'].median()\n",
    "median"
   ]
  },
  {
   "cell_type": "code",
   "execution_count": 43,
   "id": "ca42f1f0",
   "metadata": {},
   "outputs": [
    {
     "data": {
      "text/plain": [
       "82     20.25\n",
       "78     23.97\n",
       "23     20.25\n",
       "4      20.25\n",
       "1      17.77\n",
       "       ...  \n",
       "48     14.63\n",
       "31     18.70\n",
       "96     17.84\n",
       "3      20.38\n",
       "102    20.52\n",
       "Name: Feature1, Length: 84, dtype: float64"
      ]
     },
     "execution_count": 43,
     "metadata": {},
     "output_type": "execute_result"
    }
   ],
   "source": [
    "df_new = df['Feature1'].fillna(20.25)\n",
    "df_new"
   ]
  },
  {
   "cell_type": "code",
   "execution_count": 52,
   "id": "2340b941",
   "metadata": {},
   "outputs": [
    {
     "name": "stdout",
     "output_type": "stream",
     "text": [
      "0.4153597732833436\n"
     ]
    }
   ],
   "source": [
    "old_std = df['Feature1'].std()\n",
    "new_std = df_new.std()\n",
    "result = old_std - new_std\n",
    "print(result)"
   ]
  },
  {
   "cell_type": "markdown",
   "id": "177eb923",
   "metadata": {},
   "source": [
    "3. Feature1의 이상치를 구하고 이들의 합계를 구하시오(이상치 = 평균으로부터 표준편차 *1.5 벗어난 값)"
   ]
  },
  {
   "cell_type": "code",
   "execution_count": 65,
   "id": "857a5854",
   "metadata": {},
   "outputs": [
    {
     "name": "stdout",
     "output_type": "stream",
     "text": [
      "174.68\n"
     ]
    }
   ],
   "source": [
    "df = data3.copy()\n",
    "df.head()\n",
    "\n",
    "outlier_lower = df['Feature1'].mean() - df['Feature1'].std()*1.5\n",
    "outlier_upper = df['Feature1'].mean() + df['Feature1'].std()*1.5\n",
    "\n",
    "df_lower = df[df['Feature1']<outlier_lower]\n",
    "df_upper = df[df['Feature1']>outlier_upper]\n",
    "\n",
    "lower = df_lower['Feature1'].sum()\n",
    "upper = df_upper['Feature1'].sum()\n",
    "result = lower + upper \n",
    "print(result)"
   ]
  },
  {
   "cell_type": "code",
   "execution_count": null,
   "id": "ef904f12",
   "metadata": {},
   "outputs": [],
   "source": []
  }
 ],
 "metadata": {
  "kernelspec": {
   "display_name": "Python 3 (ipykernel)",
   "language": "python",
   "name": "python3"
  },
  "language_info": {
   "codemirror_mode": {
    "name": "ipython",
    "version": 3
   },
   "file_extension": ".py",
   "mimetype": "text/x-python",
   "name": "python",
   "nbconvert_exporter": "python",
   "pygments_lexer": "ipython3",
   "version": "3.9.12"
  }
 },
 "nbformat": 4,
 "nbformat_minor": 5
}
