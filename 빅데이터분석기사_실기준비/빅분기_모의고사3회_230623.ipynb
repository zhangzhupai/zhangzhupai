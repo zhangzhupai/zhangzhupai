{
 "cells": [
  {
   "cell_type": "markdown",
   "id": "b579defb",
   "metadata": {},
   "source": [
    "# 작업1유형 "
   ]
  },
  {
   "cell_type": "markdown",
   "id": "80d08026",
   "metadata": {},
   "source": [
    "Q1. 데이터는 현재 년도별 100곡이 인기순으로 정렬되어 있다. 각 년도별 1~100위의 랭킹을 나타내는 rank컬럼을 만들고 매년도 1위의 bpm컬럼의 평균값을 구하여라"
   ]
  },
  {
   "cell_type": "code",
   "execution_count": null,
   "id": "d491e42f",
   "metadata": {},
   "outputs": [],
   "source": [
    "import pandas as pd\n",
    "df = pd.read_csv('https://raw.githubusercontent.com/Datamanim/datarepo/main/spotify/spotify.csv')\n",
    "df.head()"
   ]
  },
  {
   "cell_type": "code",
   "execution_count": null,
   "id": "f7079ff8",
   "metadata": {},
   "outputs": [],
   "source": [
    "df['rank'] = (df.index+1) % 100\n",
    "df['rank'] = df['rank'].replace(0,100)\n",
    "result = df[df['rank']==1].bpm.mean()\n",
    "print(result)"
   ]
  },
  {
   "cell_type": "markdown",
   "id": "211abdcb",
   "metadata": {},
   "source": [
    "Q2. 2015년도에 가장많은 top100곡을 올린 artist는 누구인가?"
   ]
  },
  {
   "cell_type": "code",
   "execution_count": null,
   "id": "5a9f844b",
   "metadata": {},
   "outputs": [],
   "source": [
    "df_2015 = df[df['top year']==2015]\n",
    "result = df_2015['artist'].value_counts().sort_values(ascending=False)\n",
    "print(result.index[0])"
   ]
  },
  {
   "cell_type": "markdown",
   "id": "ab21679d",
   "metadata": {},
   "source": [
    "Q3.년도별 rank값이 1~10위 까지의 곡들 중 두번째로 많은 top genre는 무엇인가?"
   ]
  },
  {
   "cell_type": "code",
   "execution_count": null,
   "id": "45653cee",
   "metadata": {},
   "outputs": [],
   "source": [
    "temp = df[(df['rank']>=1) & (df['rank']<=10)]\n",
    "result = temp['top genre'].value_counts().sort_values(ascending=False)\n",
    "print(result.index[1])"
   ]
  },
  {
   "cell_type": "markdown",
   "id": "89555d26",
   "metadata": {},
   "source": [
    "Q4. 피처링의 경우 title에 표시된다. 피처링을 가장 많이 해준 가수는 누구인가?"
   ]
  },
  {
   "cell_type": "code",
   "execution_count": null,
   "id": "f524808a",
   "metadata": {},
   "outputs": [],
   "source": [
    "result = temp['title'].str.split('feat.').str[1]\n",
    "result.value_counts().sort_values(ascending=False)\n",
    "print('Bruno Mars')"
   ]
  },
  {
   "cell_type": "markdown",
   "id": "57f84884",
   "metadata": {},
   "source": [
    "Q5. top year 년도를 기준으로 발매일(year released)과 top100에 진입한 일자 (top year)가 다른 곡의 숫자를 count 했을때 가장 많은 년도는?"
   ]
  },
  {
   "cell_type": "code",
   "execution_count": null,
   "id": "3411f37f",
   "metadata": {},
   "outputs": [],
   "source": [
    "temp = df[['year released','top year']]\n",
    "temp = temp.drop_duplicates()\n",
    "temp['top year'].value_counts()\n",
    "print('2016')"
   ]
  },
  {
   "cell_type": "markdown",
   "id": "f0983810",
   "metadata": {},
   "source": [
    "Q6. artist 컬럼의 값에 대소문자 상관없이 q 단어가 들어가는 아티스트는 몇명인가?"
   ]
  },
  {
   "cell_type": "code",
   "execution_count": null,
   "id": "04a19838",
   "metadata": {},
   "outputs": [],
   "source": [
    "result = df[df.artist.str.lower().str.contains('q')].artist.nunique()\n",
    "print(result)"
   ]
  },
  {
   "cell_type": "code",
   "execution_count": null,
   "id": "fa88c378",
   "metadata": {},
   "outputs": [],
   "source": [
    "Q7. 년도 상관없이 전체데이터에서 1~50위와 51~100위간의 dur 컬럼의 평균값의 차이는?"
   ]
  },
  {
   "cell_type": "markdown",
   "id": "700cef74",
   "metadata": {},
   "source": [
    "Q7. 년도 상관없이 전체데이터에서 1~50위와 51~100위간의 dur 컬럼의 평균값의 차이는"
   ]
  },
  {
   "cell_type": "code",
   "execution_count": null,
   "id": "b89052bf",
   "metadata": {},
   "outputs": [],
   "source": [
    "cond1 = df[(df['rank']>=1)&(df['rank']<=50)]\n",
    "cond2 = df[(df['rank']>=51)&(df['rank']<=100)]"
   ]
  },
  {
   "cell_type": "code",
   "execution_count": null,
   "id": "eb501adb",
   "metadata": {},
   "outputs": [],
   "source": [
    "cond3 = cond1['dur'].mean()\n",
    "cond4 = cond2['dur'].mean()\n",
    "result = cond3-cond4\n",
    "print(result)"
   ]
  },
  {
   "cell_type": "markdown",
   "id": "97206e61",
   "metadata": {},
   "source": [
    "Q8. title을 띄어쓰기 단어로 구분 했을때 가장 많이 나온 단어는 무엇인가? (대소문자 구분 x)"
   ]
  },
  {
   "cell_type": "code",
   "execution_count": null,
   "id": "0aa75f89",
   "metadata": {},
   "outputs": [],
   "source": [
    "result = df.title.str.split('\\(feat').str[0].str.split().explode().str.lower().value_counts().index[0]\n",
    "print(result)"
   ]
  },
  {
   "cell_type": "markdown",
   "id": "b30a35f1",
   "metadata": {},
   "source": [
    "Q9. 년도별 nrgy값의 평균값을 구할때 최대 평균값과 최소 평균값의 차이를 구하여라"
   ]
  },
  {
   "cell_type": "code",
   "execution_count": null,
   "id": "9a73a165",
   "metadata": {},
   "outputs": [],
   "source": [
    "result = df.groupby(['top year']).nrgy.mean().sort_values(ascending=False)\n",
    "print(result.values[0]-result.values[-1])"
   ]
  },
  {
   "cell_type": "markdown",
   "id": "08699e29",
   "metadata": {},
   "source": [
    "Q10. artist중 artist type 타입을 여러개 가지고 있는 artist는 누구인가"
   ]
  },
  {
   "cell_type": "code",
   "execution_count": null,
   "id": "ff841054",
   "metadata": {},
   "outputs": [],
   "source": [
    "df"
   ]
  },
  {
   "cell_type": "code",
   "execution_count": null,
   "id": "0931d96e",
   "metadata": {},
   "outputs": [],
   "source": [
    "temp = df[['artist','artist type']].value_counts().reset_index()\n",
    "result = temp['artist'].value_counts()\n",
    "print(result.index[0])"
   ]
  },
  {
   "cell_type": "markdown",
   "id": "45d9045f",
   "metadata": {},
   "source": [
    "# 작업2유형"
   ]
  },
  {
   "cell_type": "markdown",
   "id": "ef07251e",
   "metadata": {},
   "source": [
    "Q. 센서데이터로 동작 유형 분류 (종속변수 pose : 0 ,1 구분)"
   ]
  },
  {
   "cell_type": "code",
   "execution_count": 8,
   "id": "9c6acfcd",
   "metadata": {},
   "outputs": [],
   "source": [
    "import pandas as pd\n",
    "x_train = pd.read_csv(\"https://raw.githubusercontent.com/Datamanim/datarepo/main/muscle/x_train.csv\")\n",
    "y_train = pd.read_csv(\"https://raw.githubusercontent.com/Datamanim/datarepo/main/muscle/y_train.csv\")\n",
    "test= pd.read_csv(\"https://raw.githubusercontent.com/Datamanim/datarepo/main/muscle/x_test.csv\")"
   ]
  },
  {
   "cell_type": "code",
   "execution_count": 9,
   "id": "8927f869",
   "metadata": {},
   "outputs": [
    {
     "data": {
      "text/html": [
       "<div>\n",
       "<style scoped>\n",
       "    .dataframe tbody tr th:only-of-type {\n",
       "        vertical-align: middle;\n",
       "    }\n",
       "\n",
       "    .dataframe tbody tr th {\n",
       "        vertical-align: top;\n",
       "    }\n",
       "\n",
       "    .dataframe thead th {\n",
       "        text-align: right;\n",
       "    }\n",
       "</style>\n",
       "<table border=\"1\" class=\"dataframe\">\n",
       "  <thead>\n",
       "    <tr style=\"text-align: right;\">\n",
       "      <th></th>\n",
       "      <th>ID</th>\n",
       "      <th>motion_0</th>\n",
       "      <th>motion_1</th>\n",
       "      <th>motion_2</th>\n",
       "      <th>motion_3</th>\n",
       "      <th>motion_4</th>\n",
       "      <th>motion_5</th>\n",
       "      <th>motion_6</th>\n",
       "      <th>motion_7</th>\n",
       "      <th>motion_8</th>\n",
       "      <th>...</th>\n",
       "      <th>motion_54</th>\n",
       "      <th>motion_55</th>\n",
       "      <th>motion_56</th>\n",
       "      <th>motion_57</th>\n",
       "      <th>motion_58</th>\n",
       "      <th>motion_59</th>\n",
       "      <th>motion_60</th>\n",
       "      <th>motion_61</th>\n",
       "      <th>motion_62</th>\n",
       "      <th>motion_63</th>\n",
       "    </tr>\n",
       "  </thead>\n",
       "  <tbody>\n",
       "    <tr>\n",
       "      <th>0</th>\n",
       "      <td>0</td>\n",
       "      <td>1.0</td>\n",
       "      <td>-2.0</td>\n",
       "      <td>-1.0</td>\n",
       "      <td>4.0</td>\n",
       "      <td>-5.0</td>\n",
       "      <td>-4.0</td>\n",
       "      <td>1.0</td>\n",
       "      <td>0.0</td>\n",
       "      <td>-15.0</td>\n",
       "      <td>...</td>\n",
       "      <td>0.0</td>\n",
       "      <td>-1.0</td>\n",
       "      <td>-13.0</td>\n",
       "      <td>-3.0</td>\n",
       "      <td>1.0</td>\n",
       "      <td>-1.0</td>\n",
       "      <td>-32.0</td>\n",
       "      <td>-22.0</td>\n",
       "      <td>-2.0</td>\n",
       "      <td>-3.0</td>\n",
       "    </tr>\n",
       "    <tr>\n",
       "      <th>1</th>\n",
       "      <td>2</td>\n",
       "      <td>20.0</td>\n",
       "      <td>0.0</td>\n",
       "      <td>0.0</td>\n",
       "      <td>1.0</td>\n",
       "      <td>5.0</td>\n",
       "      <td>6.0</td>\n",
       "      <td>-52.0</td>\n",
       "      <td>18.0</td>\n",
       "      <td>15.0</td>\n",
       "      <td>...</td>\n",
       "      <td>-70.0</td>\n",
       "      <td>-55.0</td>\n",
       "      <td>-38.0</td>\n",
       "      <td>-14.0</td>\n",
       "      <td>-12.0</td>\n",
       "      <td>-8.0</td>\n",
       "      <td>-34.0</td>\n",
       "      <td>-63.0</td>\n",
       "      <td>-87.0</td>\n",
       "      <td>-77.0</td>\n",
       "    </tr>\n",
       "    <tr>\n",
       "      <th>2</th>\n",
       "      <td>4</td>\n",
       "      <td>1.0</td>\n",
       "      <td>-1.0</td>\n",
       "      <td>1.0</td>\n",
       "      <td>4.0</td>\n",
       "      <td>-5.0</td>\n",
       "      <td>-8.0</td>\n",
       "      <td>1.0</td>\n",
       "      <td>-3.0</td>\n",
       "      <td>-14.0</td>\n",
       "      <td>...</td>\n",
       "      <td>1.0</td>\n",
       "      <td>12.0</td>\n",
       "      <td>-25.0</td>\n",
       "      <td>0.0</td>\n",
       "      <td>0.0</td>\n",
       "      <td>3.0</td>\n",
       "      <td>2.0</td>\n",
       "      <td>-27.0</td>\n",
       "      <td>1.0</td>\n",
       "      <td>0.0</td>\n",
       "    </tr>\n",
       "    <tr>\n",
       "      <th>3</th>\n",
       "      <td>5</td>\n",
       "      <td>13.0</td>\n",
       "      <td>2.0</td>\n",
       "      <td>1.0</td>\n",
       "      <td>-3.0</td>\n",
       "      <td>1.0</td>\n",
       "      <td>3.0</td>\n",
       "      <td>28.0</td>\n",
       "      <td>3.0</td>\n",
       "      <td>12.0</td>\n",
       "      <td>...</td>\n",
       "      <td>0.0</td>\n",
       "      <td>-21.0</td>\n",
       "      <td>-17.0</td>\n",
       "      <td>-2.0</td>\n",
       "      <td>0.0</td>\n",
       "      <td>-4.0</td>\n",
       "      <td>-17.0</td>\n",
       "      <td>-21.0</td>\n",
       "      <td>-21.0</td>\n",
       "      <td>25.0</td>\n",
       "    </tr>\n",
       "    <tr>\n",
       "      <th>4</th>\n",
       "      <td>6</td>\n",
       "      <td>-2.0</td>\n",
       "      <td>-7.0</td>\n",
       "      <td>-4.0</td>\n",
       "      <td>-8.0</td>\n",
       "      <td>16.0</td>\n",
       "      <td>44.0</td>\n",
       "      <td>1.0</td>\n",
       "      <td>3.0</td>\n",
       "      <td>-16.0</td>\n",
       "      <td>...</td>\n",
       "      <td>-1.0</td>\n",
       "      <td>2.0</td>\n",
       "      <td>-1.0</td>\n",
       "      <td>1.0</td>\n",
       "      <td>4.0</td>\n",
       "      <td>4.0</td>\n",
       "      <td>-17.0</td>\n",
       "      <td>-38.0</td>\n",
       "      <td>-3.0</td>\n",
       "      <td>3.0</td>\n",
       "    </tr>\n",
       "  </tbody>\n",
       "</table>\n",
       "<p>5 rows × 65 columns</p>\n",
       "</div>"
      ],
      "text/plain": [
       "   ID  motion_0  motion_1  motion_2  motion_3  motion_4  motion_5  motion_6  \\\n",
       "0   0       1.0      -2.0      -1.0       4.0      -5.0      -4.0       1.0   \n",
       "1   2      20.0       0.0       0.0       1.0       5.0       6.0     -52.0   \n",
       "2   4       1.0      -1.0       1.0       4.0      -5.0      -8.0       1.0   \n",
       "3   5      13.0       2.0       1.0      -3.0       1.0       3.0      28.0   \n",
       "4   6      -2.0      -7.0      -4.0      -8.0      16.0      44.0       1.0   \n",
       "\n",
       "   motion_7  motion_8  ...  motion_54  motion_55  motion_56  motion_57  \\\n",
       "0       0.0     -15.0  ...        0.0       -1.0      -13.0       -3.0   \n",
       "1      18.0      15.0  ...      -70.0      -55.0      -38.0      -14.0   \n",
       "2      -3.0     -14.0  ...        1.0       12.0      -25.0        0.0   \n",
       "3       3.0      12.0  ...        0.0      -21.0      -17.0       -2.0   \n",
       "4       3.0     -16.0  ...       -1.0        2.0       -1.0        1.0   \n",
       "\n",
       "   motion_58  motion_59  motion_60  motion_61  motion_62  motion_63  \n",
       "0        1.0       -1.0      -32.0      -22.0       -2.0       -3.0  \n",
       "1      -12.0       -8.0      -34.0      -63.0      -87.0      -77.0  \n",
       "2        0.0        3.0        2.0      -27.0        1.0        0.0  \n",
       "3        0.0       -4.0      -17.0      -21.0      -21.0       25.0  \n",
       "4        4.0        4.0      -17.0      -38.0       -3.0        3.0  \n",
       "\n",
       "[5 rows x 65 columns]"
      ]
     },
     "execution_count": 9,
     "metadata": {},
     "output_type": "execute_result"
    }
   ],
   "source": [
    "x_train.head()"
   ]
  },
  {
   "cell_type": "code",
   "execution_count": 10,
   "id": "5726bbc2",
   "metadata": {},
   "outputs": [
    {
     "data": {
      "text/html": [
       "<div>\n",
       "<style scoped>\n",
       "    .dataframe tbody tr th:only-of-type {\n",
       "        vertical-align: middle;\n",
       "    }\n",
       "\n",
       "    .dataframe tbody tr th {\n",
       "        vertical-align: top;\n",
       "    }\n",
       "\n",
       "    .dataframe thead th {\n",
       "        text-align: right;\n",
       "    }\n",
       "</style>\n",
       "<table border=\"1\" class=\"dataframe\">\n",
       "  <thead>\n",
       "    <tr style=\"text-align: right;\">\n",
       "      <th></th>\n",
       "      <th>ID</th>\n",
       "      <th>motion_0</th>\n",
       "      <th>motion_1</th>\n",
       "      <th>motion_2</th>\n",
       "      <th>motion_3</th>\n",
       "      <th>motion_4</th>\n",
       "      <th>motion_5</th>\n",
       "      <th>motion_6</th>\n",
       "      <th>motion_7</th>\n",
       "      <th>motion_8</th>\n",
       "      <th>...</th>\n",
       "      <th>motion_54</th>\n",
       "      <th>motion_55</th>\n",
       "      <th>motion_56</th>\n",
       "      <th>motion_57</th>\n",
       "      <th>motion_58</th>\n",
       "      <th>motion_59</th>\n",
       "      <th>motion_60</th>\n",
       "      <th>motion_61</th>\n",
       "      <th>motion_62</th>\n",
       "      <th>motion_63</th>\n",
       "    </tr>\n",
       "  </thead>\n",
       "  <tbody>\n",
       "    <tr>\n",
       "      <th>0</th>\n",
       "      <td>1</td>\n",
       "      <td>-12.0</td>\n",
       "      <td>-7.0</td>\n",
       "      <td>3.0</td>\n",
       "      <td>6.0</td>\n",
       "      <td>-21.0</td>\n",
       "      <td>-28.0</td>\n",
       "      <td>1.0</td>\n",
       "      <td>6.0</td>\n",
       "      <td>-18.0</td>\n",
       "      <td>...</td>\n",
       "      <td>2.0</td>\n",
       "      <td>20.0</td>\n",
       "      <td>-25.0</td>\n",
       "      <td>-2.0</td>\n",
       "      <td>1.0</td>\n",
       "      <td>0.0</td>\n",
       "      <td>12.0</td>\n",
       "      <td>-2.0</td>\n",
       "      <td>-1.0</td>\n",
       "      <td>-4.0</td>\n",
       "    </tr>\n",
       "    <tr>\n",
       "      <th>1</th>\n",
       "      <td>3</td>\n",
       "      <td>-9.0</td>\n",
       "      <td>-16.0</td>\n",
       "      <td>-2.0</td>\n",
       "      <td>-1.0</td>\n",
       "      <td>39.0</td>\n",
       "      <td>17.0</td>\n",
       "      <td>3.0</td>\n",
       "      <td>1.0</td>\n",
       "      <td>-9.0</td>\n",
       "      <td>...</td>\n",
       "      <td>0.0</td>\n",
       "      <td>1.0</td>\n",
       "      <td>-1.0</td>\n",
       "      <td>-5.0</td>\n",
       "      <td>-4.0</td>\n",
       "      <td>-7.0</td>\n",
       "      <td>56.0</td>\n",
       "      <td>28.0</td>\n",
       "      <td>1.0</td>\n",
       "      <td>6.0</td>\n",
       "    </tr>\n",
       "    <tr>\n",
       "      <th>2</th>\n",
       "      <td>8</td>\n",
       "      <td>-4.0</td>\n",
       "      <td>-1.0</td>\n",
       "      <td>-1.0</td>\n",
       "      <td>1.0</td>\n",
       "      <td>3.0</td>\n",
       "      <td>-1.0</td>\n",
       "      <td>4.0</td>\n",
       "      <td>7.0</td>\n",
       "      <td>3.0</td>\n",
       "      <td>...</td>\n",
       "      <td>-4.0</td>\n",
       "      <td>-8.0</td>\n",
       "      <td>5.0</td>\n",
       "      <td>2.0</td>\n",
       "      <td>0.0</td>\n",
       "      <td>2.0</td>\n",
       "      <td>13.0</td>\n",
       "      <td>-3.0</td>\n",
       "      <td>0.0</td>\n",
       "      <td>4.0</td>\n",
       "    </tr>\n",
       "    <tr>\n",
       "      <th>3</th>\n",
       "      <td>10</td>\n",
       "      <td>2.0</td>\n",
       "      <td>1.0</td>\n",
       "      <td>2.0</td>\n",
       "      <td>1.0</td>\n",
       "      <td>-14.0</td>\n",
       "      <td>-2.0</td>\n",
       "      <td>0.0</td>\n",
       "      <td>-3.0</td>\n",
       "      <td>-25.0</td>\n",
       "      <td>...</td>\n",
       "      <td>-1.0</td>\n",
       "      <td>-5.0</td>\n",
       "      <td>12.0</td>\n",
       "      <td>-3.0</td>\n",
       "      <td>-5.0</td>\n",
       "      <td>-9.0</td>\n",
       "      <td>4.0</td>\n",
       "      <td>20.0</td>\n",
       "      <td>-1.0</td>\n",
       "      <td>-4.0</td>\n",
       "    </tr>\n",
       "    <tr>\n",
       "      <th>4</th>\n",
       "      <td>17</td>\n",
       "      <td>33.0</td>\n",
       "      <td>-8.0</td>\n",
       "      <td>-4.0</td>\n",
       "      <td>-3.0</td>\n",
       "      <td>-14.0</td>\n",
       "      <td>-6.0</td>\n",
       "      <td>-1.0</td>\n",
       "      <td>0.0</td>\n",
       "      <td>23.0</td>\n",
       "      <td>...</td>\n",
       "      <td>-20.0</td>\n",
       "      <td>-2.0</td>\n",
       "      <td>6.0</td>\n",
       "      <td>2.0</td>\n",
       "      <td>5.0</td>\n",
       "      <td>23.0</td>\n",
       "      <td>2.0</td>\n",
       "      <td>-21.0</td>\n",
       "      <td>-41.0</td>\n",
       "      <td>-23.0</td>\n",
       "    </tr>\n",
       "  </tbody>\n",
       "</table>\n",
       "<p>5 rows × 65 columns</p>\n",
       "</div>"
      ],
      "text/plain": [
       "   ID  motion_0  motion_1  motion_2  motion_3  motion_4  motion_5  motion_6  \\\n",
       "0   1     -12.0      -7.0       3.0       6.0     -21.0     -28.0       1.0   \n",
       "1   3      -9.0     -16.0      -2.0      -1.0      39.0      17.0       3.0   \n",
       "2   8      -4.0      -1.0      -1.0       1.0       3.0      -1.0       4.0   \n",
       "3  10       2.0       1.0       2.0       1.0     -14.0      -2.0       0.0   \n",
       "4  17      33.0      -8.0      -4.0      -3.0     -14.0      -6.0      -1.0   \n",
       "\n",
       "   motion_7  motion_8  ...  motion_54  motion_55  motion_56  motion_57  \\\n",
       "0       6.0     -18.0  ...        2.0       20.0      -25.0       -2.0   \n",
       "1       1.0      -9.0  ...        0.0        1.0       -1.0       -5.0   \n",
       "2       7.0       3.0  ...       -4.0       -8.0        5.0        2.0   \n",
       "3      -3.0     -25.0  ...       -1.0       -5.0       12.0       -3.0   \n",
       "4       0.0      23.0  ...      -20.0       -2.0        6.0        2.0   \n",
       "\n",
       "   motion_58  motion_59  motion_60  motion_61  motion_62  motion_63  \n",
       "0        1.0        0.0       12.0       -2.0       -1.0       -4.0  \n",
       "1       -4.0       -7.0       56.0       28.0        1.0        6.0  \n",
       "2        0.0        2.0       13.0       -3.0        0.0        4.0  \n",
       "3       -5.0       -9.0        4.0       20.0       -1.0       -4.0  \n",
       "4        5.0       23.0        2.0      -21.0      -41.0      -23.0  \n",
       "\n",
       "[5 rows x 65 columns]"
      ]
     },
     "execution_count": 10,
     "metadata": {},
     "output_type": "execute_result"
    }
   ],
   "source": [
    "test.head()"
   ]
  },
  {
   "cell_type": "code",
   "execution_count": 11,
   "id": "901f8118",
   "metadata": {},
   "outputs": [],
   "source": [
    "x_train = x_train.drop(columns='ID')\n",
    "test_id = test.pop('ID')\n",
    "y = y_train['pose']"
   ]
  },
  {
   "cell_type": "code",
   "execution_count": 21,
   "id": "289f6402",
   "metadata": {},
   "outputs": [],
   "source": [
    "from sklearn.ensemble import RandomForestClassifier\n",
    "from sklearn.linear_model import LogisticRegression\n",
    "from xgboost import XGBClassifier"
   ]
  },
  {
   "cell_type": "code",
   "execution_count": 13,
   "id": "53b7c938",
   "metadata": {},
   "outputs": [],
   "source": [
    "from sklearn.model_selection import train_test_split\n",
    "from sklearn.metrics import roc_auc_score"
   ]
  },
  {
   "cell_type": "code",
   "execution_count": 14,
   "id": "a23c936c",
   "metadata": {},
   "outputs": [],
   "source": [
    "X_train, X_test, Y_train, Y_test = train_test_split(x_train,y,test_size=0.2,random_state=2022)"
   ]
  },
  {
   "cell_type": "code",
   "execution_count": 15,
   "id": "9dd71df0",
   "metadata": {},
   "outputs": [
    {
     "data": {
      "text/plain": [
       "0.9990974562150554"
      ]
     },
     "execution_count": 15,
     "metadata": {},
     "output_type": "execute_result"
    }
   ],
   "source": [
    "rf = RandomForestClassifier(max_depth=5,random_state=2022,n_jobs=10, n_estimators=10)\n",
    "rf.fit(X_train,Y_train)\n",
    "pred_rf = rf.predict_proba(X_test)\n",
    "roc_auc_score(Y_test,pred_rf[:,1])"
   ]
  },
  {
   "cell_type": "code",
   "execution_count": 16,
   "id": "d2b15278",
   "metadata": {},
   "outputs": [
    {
     "data": {
      "text/plain": [
       "0.9998333765320102"
      ]
     },
     "execution_count": 16,
     "metadata": {},
     "output_type": "execute_result"
    }
   ],
   "source": [
    "xgb = XGBClassifier(max_depth=5,eval_metric='error')\n",
    "xgb.fit(X_train,Y_train)\n",
    "pred_xgb = xgb.predict_proba(X_test)\n",
    "roc_auc_score(Y_test,pred_xgb[:,1])"
   ]
  },
  {
   "cell_type": "code",
   "execution_count": 25,
   "id": "57368874",
   "metadata": {},
   "outputs": [
    {
     "name": "stderr",
     "output_type": "stream",
     "text": [
      "C:\\Users\\choic\\anaconda3\\lib\\site-packages\\sklearn\\linear_model\\_logistic.py:814: ConvergenceWarning: lbfgs failed to converge (status=1):\n",
      "STOP: TOTAL NO. of ITERATIONS REACHED LIMIT.\n",
      "\n",
      "Increase the number of iterations (max_iter) or scale the data as shown in:\n",
      "    https://scikit-learn.org/stable/modules/preprocessing.html\n",
      "Please also refer to the documentation for alternative solver options:\n",
      "    https://scikit-learn.org/stable/modules/linear_model.html#logistic-regression\n",
      "  n_iter_i = _check_optimize_result(\n"
     ]
    },
    {
     "data": {
      "text/plain": [
       "0.5407672085014996"
      ]
     },
     "execution_count": 25,
     "metadata": {},
     "output_type": "execute_result"
    }
   ],
   "source": [
    "lr = LogisticRegression()\n",
    "lr.fit(X_train,Y_train)\n",
    "pred = lr.predict_proba(X_test)\n",
    "roc_auc_score(Y_test,pred[:,1])"
   ]
  },
  {
   "cell_type": "code",
   "execution_count": 18,
   "id": "99ffd1d1",
   "metadata": {},
   "outputs": [],
   "source": [
    "predict = xgb.predict_proba(test)"
   ]
  },
  {
   "cell_type": "code",
   "execution_count": 20,
   "id": "67500dff",
   "metadata": {},
   "outputs": [
    {
     "data": {
      "text/html": [
       "<div>\n",
       "<style scoped>\n",
       "    .dataframe tbody tr th:only-of-type {\n",
       "        vertical-align: middle;\n",
       "    }\n",
       "\n",
       "    .dataframe tbody tr th {\n",
       "        vertical-align: top;\n",
       "    }\n",
       "\n",
       "    .dataframe thead th {\n",
       "        text-align: right;\n",
       "    }\n",
       "</style>\n",
       "<table border=\"1\" class=\"dataframe\">\n",
       "  <thead>\n",
       "    <tr style=\"text-align: right;\">\n",
       "      <th></th>\n",
       "      <th>ID</th>\n",
       "      <th>pose</th>\n",
       "    </tr>\n",
       "  </thead>\n",
       "  <tbody>\n",
       "    <tr>\n",
       "      <th>0</th>\n",
       "      <td>1</td>\n",
       "      <td>0.999972</td>\n",
       "    </tr>\n",
       "    <tr>\n",
       "      <th>1</th>\n",
       "      <td>3</td>\n",
       "      <td>0.999957</td>\n",
       "    </tr>\n",
       "    <tr>\n",
       "      <th>2</th>\n",
       "      <td>8</td>\n",
       "      <td>0.998621</td>\n",
       "    </tr>\n",
       "    <tr>\n",
       "      <th>3</th>\n",
       "      <td>10</td>\n",
       "      <td>0.999956</td>\n",
       "    </tr>\n",
       "    <tr>\n",
       "      <th>4</th>\n",
       "      <td>17</td>\n",
       "      <td>0.000151</td>\n",
       "    </tr>\n",
       "    <tr>\n",
       "      <th>...</th>\n",
       "      <td>...</td>\n",
       "      <td>...</td>\n",
       "    </tr>\n",
       "    <tr>\n",
       "      <th>1158</th>\n",
       "      <td>5786</td>\n",
       "      <td>0.000647</td>\n",
       "    </tr>\n",
       "    <tr>\n",
       "      <th>1159</th>\n",
       "      <td>5796</td>\n",
       "      <td>0.000435</td>\n",
       "    </tr>\n",
       "    <tr>\n",
       "      <th>1160</th>\n",
       "      <td>5802</td>\n",
       "      <td>0.999933</td>\n",
       "    </tr>\n",
       "    <tr>\n",
       "      <th>1161</th>\n",
       "      <td>5811</td>\n",
       "      <td>0.999944</td>\n",
       "    </tr>\n",
       "    <tr>\n",
       "      <th>1162</th>\n",
       "      <td>5812</td>\n",
       "      <td>0.000383</td>\n",
       "    </tr>\n",
       "  </tbody>\n",
       "</table>\n",
       "<p>1163 rows × 2 columns</p>\n",
       "</div>"
      ],
      "text/plain": [
       "        ID      pose\n",
       "0        1  0.999972\n",
       "1        3  0.999957\n",
       "2        8  0.998621\n",
       "3       10  0.999956\n",
       "4       17  0.000151\n",
       "...    ...       ...\n",
       "1158  5786  0.000647\n",
       "1159  5796  0.000435\n",
       "1160  5802  0.999933\n",
       "1161  5811  0.999944\n",
       "1162  5812  0.000383\n",
       "\n",
       "[1163 rows x 2 columns]"
      ]
     },
     "execution_count": 20,
     "metadata": {},
     "output_type": "execute_result"
    }
   ],
   "source": [
    "submission = pd.DataFrame({'ID':test_id,\n",
    "                          'pose':predict[:,1]})\n",
    "submission"
   ]
  },
  {
   "cell_type": "code",
   "execution_count": null,
   "id": "143e07a6",
   "metadata": {},
   "outputs": [],
   "source": []
  }
 ],
 "metadata": {
  "kernelspec": {
   "display_name": "Python 3 (ipykernel)",
   "language": "python",
   "name": "python3"
  },
  "language_info": {
   "codemirror_mode": {
    "name": "ipython",
    "version": 3
   },
   "file_extension": ".py",
   "mimetype": "text/x-python",
   "name": "python",
   "nbconvert_exporter": "python",
   "pygments_lexer": "ipython3",
   "version": "3.9.12"
  }
 },
 "nbformat": 4,
 "nbformat_minor": 5
}
