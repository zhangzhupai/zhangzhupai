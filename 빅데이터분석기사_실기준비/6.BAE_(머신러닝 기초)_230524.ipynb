{
 "cells": [
  {
   "cell_type": "markdown",
   "id": "1cd88129",
   "metadata": {},
   "source": [
    "#### 1. Machine Learning 전처리"
   ]
  },
  {
   "cell_type": "markdown",
   "id": "b457cde2",
   "metadata": {},
   "source": [
    "#### 1-1.문제지와 실제 dtype차이 확인\n",
    "- 문제지 요구사항에 제시된 column의 dtype이 file에서 읽어온 데이터와 동일한지 확인하여 문제지에 제시된 것에 맞도록 변환\n",
    "\n",
    "- 숫자가 아닌 문자가 포함되어 있는 경우 object로 표기되며 이때는 해당 문자를 찾아 없애야 함\n",
    "일단 astype('int'), astype('float') 등을 사용하여 변환해 보고, 무엇 때문에 변환이 안되는지 오류 메시지를 확인함\n",
    "- 오류메시지에 따라 불필요한 문자를 제거함 (Series.replace(regex=True) 또는 Series.str.replace() 사용)\n",
    "- astype()을 사용하여 숫자형 데이터로 변경함\n",
    "- 날짜/시간 데이터의 경우 pd.to_datetime(Series, format='%Y%m%d') 를 사용하면 문제없이 변환 가능\n",
    "- 일반적인 날짜/시간 형식은 astype('datetime64')로 변경 가능"
   ]
  },
  {
   "cell_type": "code",
   "execution_count": 2,
   "id": "0ced82f1",
   "metadata": {},
   "outputs": [
    {
     "name": "stdout",
     "output_type": "stream",
     "text": [
      "<class 'pandas.core.frame.DataFrame'>\n",
      "RangeIndex: 5 entries, 0 to 4\n",
      "Data columns (total 3 columns):\n",
      " #   Column  Non-Null Count  Dtype \n",
      "---  ------  --------------  ----- \n",
      " 0   point   5 non-null      object\n",
      " 1   date    5 non-null      object\n",
      " 2   gender  5 non-null      object\n",
      "dtypes: object(3)\n",
      "memory usage: 248.0+ bytes\n"
     ]
    }
   ],
   "source": [
    "import pandas as pd\n",
    "\n",
    "data = {'point': ['1', '*2', '3', '*4', '1'],\n",
    "        'date': ['2021-01-02', '2021-01-03', '2021-01-04', '2021-01-05', '2021-01-06'],\n",
    "        'gender': ['F', 'M', 'M', 'F', 'M']}\n",
    "df = pd.DataFrame(data)\n",
    "df.info()"
   ]
  },
  {
   "cell_type": "code",
   "execution_count": 9,
   "id": "b6440834",
   "metadata": {},
   "outputs": [
    {
     "name": "stdout",
     "output_type": "stream",
     "text": [
      "<class 'pandas.core.frame.DataFrame'>\n",
      "RangeIndex: 5 entries, 0 to 4\n",
      "Data columns (total 5 columns):\n",
      " #   Column        Non-Null Count  Dtype         \n",
      "---  ------        --------------  -----         \n",
      " 0   point         5 non-null      object        \n",
      " 1   date          5 non-null      object        \n",
      " 2   gender        5 non-null      object        \n",
      " 3   point_number  5 non-null      int64         \n",
      " 4   datetime      5 non-null      datetime64[ns]\n",
      "dtypes: datetime64[ns](1), int64(1), object(3)\n",
      "memory usage: 328.0+ bytes\n"
     ]
    },
    {
     "name": "stderr",
     "output_type": "stream",
     "text": [
      "C:\\Users\\choic\\AppData\\Local\\Temp\\ipykernel_28700\\2413274413.py:2: FutureWarning: The default value of regex will change from True to False in a future version. In addition, single character regular expressions will *not* be treated as literal strings when regex=True.\n",
      "  df['point_number'] = df['point'].str.replace('*','').astype('int64')\n"
     ]
    }
   ],
   "source": [
    "#df['point'].replace('\\*','',regex= True).astype('int64') #replace 하지 않으면 *때문에 에러 발생함\n",
    "df['point_number'] = df['point'].str.replace('*','').astype('int64')\n",
    "df['date'].astype('datetime64')\n",
    "df['datetime'] = pd.to_datetime(df['date'],format = '%Y-%m-%d')\n",
    "df.info()"
   ]
  },
  {
   "cell_type": "markdown",
   "id": "00df39d4",
   "metadata": {},
   "source": [
    "#### 1-2.모든 column의 dtype 확인\n",
    "#### Machine Learning을 위한 column의 dtype은 int 또는 float 이어야 한다\n",
    "- 범주형 데이터는 LabelEncoding 또는 OneHotEncoding을 사용하여 수치형으로 변경\n",
    "- 날짜/시간 데이터는 dt를 사용하여 year, month, day, hour, weekdays, quarter .. 등 정보를 분할하여 Feature로 사용함\n",
    "- 분할 정보의 nunique() 가 1이거나 var() 가 0 값인 것은 의미 없으므로 Feature로 사용하지 않음"
   ]
  },
  {
   "cell_type": "code",
   "execution_count": 16,
   "id": "447e09b6",
   "metadata": {},
   "outputs": [
    {
     "name": "stdout",
     "output_type": "stream",
     "text": [
      "0.0\n",
      "<class 'pandas.core.frame.DataFrame'>\n",
      "RangeIndex: 5 entries, 0 to 4\n",
      "Data columns (total 3 columns):\n",
      " #   Column        Non-Null Count  Dtype\n",
      "---  ------        --------------  -----\n",
      " 0   point_number  5 non-null      int64\n",
      " 1   day           5 non-null      int64\n",
      " 2   gender_LE     5 non-null      int64\n",
      "dtypes: int64(3)\n",
      "memory usage: 248.0 bytes\n"
     ]
    },
    {
     "name": "stderr",
     "output_type": "stream",
     "text": [
      "C:\\Users\\choic\\AppData\\Local\\Temp\\ipykernel_28700\\426800601.py:1: FutureWarning: The default value of regex will change from True to False in a future version. In addition, single character regular expressions will *not* be treated as literal strings when regex=True.\n",
      "  df['point_number'] = df['point'].str.replace('*','').astype('int64')\n"
     ]
    }
   ],
   "source": [
    "df['point_number'] = df['point'].str.replace('*','').astype('int64')\n",
    "df['datetime'] = pd.to_datetime(df['date'],format = '%Y-%m-%d')\n",
    "print(df['datetime'].dt.year.var()) #feature로 의미 없음\n",
    "df['day'] = df['datetime'].dt.day\n",
    "df['gender_LE'] = df['gender'].replace({'F':0,'M':1})\n",
    "df2 = df[['point_number','day','gender_LE']]\n",
    "df2.info()"
   ]
  },
  {
   "cell_type": "markdown",
   "id": "9fc79596",
   "metadata": {},
   "source": [
    "#### 1-3.train, test 데이터\n",
    "#### train, test 데이터는 세 개의 파일로 나뉘어 제공됨\n",
    "\n",
    "- train 데이터 : 학습용 데이터, X_train.csv, Y_train.csv\n",
    "- 학습 모델을 만들 때 사용\n",
    "- 성능 예측을 위해 2개 나누어 사용 또는 GridSearchCV 사용\n",
    "- test 데이터 : 평가용 데이터, X_test.csv\n",
    "- 제출 용도의 파일 작성에 사용\n",
    "- train 데이터로 생성된 학습 모델을 사용하여 평가용 파일 작성\n",
    "- train, test 데이터의 X(입력) Feature\n",
    "- 동일한 가공 처리가 되어야 함\n",
    "- Feature 순서, 개수가 동일해야 함\n",
    "- 2차원의 형태이어야 함\n",
    "- train 데이터의 Y(출력, target)은 한 개의 column으로 1차원 형태이어야 함\n",
    "- train, test 데이터가 서로 섞여서는 안됨\n",
    "- test 데이터는 그 행의 순서나 개수가 변경되어서는 안됨 (shuffle, drop 금지)"
   ]
  },
  {
   "cell_type": "markdown",
   "id": "df3af751",
   "metadata": {},
   "source": [
    "#### 2-1 자녀 키 예측해보기"
   ]
  },
  {
   "cell_type": "code",
   "execution_count": 17,
   "id": "6bcddb1d",
   "metadata": {},
   "outputs": [],
   "source": [
    "import pandas as pd\n",
    "\n",
    "data_train = {'아빠' : [175, 180, 172, 174, 178, 168, 173, 177],\n",
    "        '엄마' : [160, 158, 155, 161, 163, 160, 168, 167],\n",
    "        '아들' : [178, 182, 175, 180, 183, 174, 179, 183],\n",
    "        '딸' : [163, 168, 157, 164, 167, 158, 169, 169]}\n",
    "df = pd.DataFrame(data_train)\n",
    "df.index.name = 'id'\n",
    "df[['아빠', '엄마']].to_csv('X_train.csv')\n",
    "df[['아들']].to_csv('Y1_train.csv')\n",
    "df[['딸']].to_csv('Y2_train.csv')\n",
    "\n",
    "data_test = {'아빠' : [174, 179, 180],\n",
    "             '엄마' : [160, 160, 160]}\n",
    "df2 = pd.DataFrame(data_test)\n",
    "df2.index.name = 'id'   \n",
    "df2.to_csv('X_test.csv')     "
   ]
  },
  {
   "cell_type": "code",
   "execution_count": 21,
   "id": "1a2fa7f8",
   "metadata": {},
   "outputs": [],
   "source": [
    "X_train = pd.read_csv('X_train.csv')\n",
    "Y1_train = pd.read_csv('Y1_train.csv')\n",
    "X_test = pd.read_csv('X_test.csv')"
   ]
  },
  {
   "cell_type": "code",
   "execution_count": 24,
   "id": "5e381498",
   "metadata": {},
   "outputs": [
    {
     "name": "stdout",
     "output_type": "stream",
     "text": [
      "   id   아빠   엄마\n",
      "0   0  174  160\n",
      "1   1  179  160\n",
      "2   2  180  160\n"
     ]
    }
   ],
   "source": [
    "print(X_test)"
   ]
  },
  {
   "cell_type": "code",
   "execution_count": 26,
   "id": "4dbf5c4a",
   "metadata": {},
   "outputs": [
    {
     "name": "stdout",
     "output_type": "stream",
     "text": [
      "          id        아빠        엄마        아들\n",
      "id  1.000000 -0.223880  0.773127  0.168862\n",
      "아빠 -0.223880  1.000000  0.133983  0.895192\n",
      "엄마  0.773127  0.133983  1.000000  0.491595\n",
      "아들  0.168862  0.895192  0.491595  1.000000\n"
     ]
    }
   ],
   "source": [
    "df =X_train.copy()\n",
    "df['아들'] = Y1_train['아들']\n",
    "print(df.corr()) "
   ]
  },
  {
   "cell_type": "code",
   "execution_count": 29,
   "id": "266c32a9",
   "metadata": {},
   "outputs": [
    {
     "name": "stdout",
     "output_type": "stream",
     "text": [
      "    아들\n",
      "0  178\n",
      "1  182\n",
      "2  175\n",
      "3  180\n",
      "4  183\n",
      "5  174\n",
      "6  179\n",
      "7  183\n"
     ]
    }
   ],
   "source": [
    "X = df[['아빠','엄마']]\n",
    "Y1 = df[['아들']]\n",
    "print(Y1)"
   ]
  },
  {
   "cell_type": "code",
   "execution_count": 30,
   "id": "cddd6105",
   "metadata": {},
   "outputs": [
    {
     "data": {
      "text/plain": [
       "LinearRegression()"
      ]
     },
     "execution_count": 30,
     "metadata": {},
     "output_type": "execute_result"
    }
   ],
   "source": [
    "from sklearn.linear_model import LinearRegression\n",
    "model = LinearRegression() # 회귀분석으로 할 것이다\n",
    "model.fit(X,Y1) # 학습 시키는 중 "
   ]
  },
  {
   "cell_type": "code",
   "execution_count": 31,
   "id": "94eaeab8",
   "metadata": {},
   "outputs": [
    {
     "data": {
      "text/plain": [
       "0.9420204329984171"
      ]
     },
     "execution_count": 31,
     "metadata": {},
     "output_type": "execute_result"
    }
   ],
   "source": [
    "model.score(X,Y1) #성능 확인하기"
   ]
  },
  {
   "cell_type": "code",
   "execution_count": 32,
   "id": "a842b359",
   "metadata": {},
   "outputs": [
    {
     "data": {
      "text/html": [
       "<div>\n",
       "<style scoped>\n",
       "    .dataframe tbody tr th:only-of-type {\n",
       "        vertical-align: middle;\n",
       "    }\n",
       "\n",
       "    .dataframe tbody tr th {\n",
       "        vertical-align: top;\n",
       "    }\n",
       "\n",
       "    .dataframe thead th {\n",
       "        text-align: right;\n",
       "    }\n",
       "</style>\n",
       "<table border=\"1\" class=\"dataframe\">\n",
       "  <thead>\n",
       "    <tr style=\"text-align: right;\">\n",
       "      <th></th>\n",
       "      <th>아빠</th>\n",
       "      <th>엄마</th>\n",
       "      <th>아들</th>\n",
       "      <th>아들예측</th>\n",
       "      <th>아들오차</th>\n",
       "    </tr>\n",
       "  </thead>\n",
       "  <tbody>\n",
       "    <tr>\n",
       "      <th>0</th>\n",
       "      <td>175</td>\n",
       "      <td>160</td>\n",
       "      <td>178</td>\n",
       "      <td>179.091446</td>\n",
       "      <td>-1.091446</td>\n",
       "    </tr>\n",
       "    <tr>\n",
       "      <th>1</th>\n",
       "      <td>180</td>\n",
       "      <td>158</td>\n",
       "      <td>182</td>\n",
       "      <td>182.354761</td>\n",
       "      <td>-0.354761</td>\n",
       "    </tr>\n",
       "    <tr>\n",
       "      <th>2</th>\n",
       "      <td>172</td>\n",
       "      <td>155</td>\n",
       "      <td>175</td>\n",
       "      <td>175.281252</td>\n",
       "      <td>-0.281252</td>\n",
       "    </tr>\n",
       "    <tr>\n",
       "      <th>3</th>\n",
       "      <td>174</td>\n",
       "      <td>161</td>\n",
       "      <td>180</td>\n",
       "      <td>178.618029</td>\n",
       "      <td>1.381971</td>\n",
       "    </tr>\n",
       "    <tr>\n",
       "      <th>4</th>\n",
       "      <td>178</td>\n",
       "      <td>163</td>\n",
       "      <td>183</td>\n",
       "      <td>182.304154</td>\n",
       "      <td>0.695846</td>\n",
       "    </tr>\n",
       "    <tr>\n",
       "      <th>5</th>\n",
       "      <td>168</td>\n",
       "      <td>160</td>\n",
       "      <td>174</td>\n",
       "      <td>173.686325</td>\n",
       "      <td>0.313675</td>\n",
       "    </tr>\n",
       "    <tr>\n",
       "      <th>6</th>\n",
       "      <td>173</td>\n",
       "      <td>168</td>\n",
       "      <td>179</td>\n",
       "      <td>179.937067</td>\n",
       "      <td>-0.937067</td>\n",
       "    </tr>\n",
       "    <tr>\n",
       "      <th>7</th>\n",
       "      <td>177</td>\n",
       "      <td>167</td>\n",
       "      <td>183</td>\n",
       "      <td>182.726965</td>\n",
       "      <td>0.273035</td>\n",
       "    </tr>\n",
       "  </tbody>\n",
       "</table>\n",
       "</div>"
      ],
      "text/plain": [
       "    아빠   엄마   아들        아들예측      아들오차\n",
       "0  175  160  178  179.091446 -1.091446\n",
       "1  180  158  182  182.354761 -0.354761\n",
       "2  172  155  175  175.281252 -0.281252\n",
       "3  174  161  180  178.618029  1.381971\n",
       "4  178  163  183  182.304154  0.695846\n",
       "5  168  160  174  173.686325  0.313675\n",
       "6  173  168  179  179.937067 -0.937067\n",
       "7  177  167  183  182.726965  0.273035"
      ]
     },
     "execution_count": 32,
     "metadata": {},
     "output_type": "execute_result"
    }
   ],
   "source": [
    "result = df[['아빠','엄마','아들']]\n",
    "result['아들예측'] = model.predict(X)\n",
    "result['아들오차'] = result['아들'] - result['아들예측']\n",
    "result"
   ]
  },
  {
   "cell_type": "code",
   "execution_count": 33,
   "id": "4b3633e0",
   "metadata": {},
   "outputs": [
    {
     "name": "stdout",
     "output_type": "stream",
     "text": [
      "아빠키를 입력해 주세요 : 180\n",
      "엄마키를 입력해 주세요 : 163\n",
      "아들의 예상키는 [183.84847447]입니다\n"
     ]
    },
    {
     "name": "stderr",
     "output_type": "stream",
     "text": [
      "C:\\Users\\choic\\anaconda3\\lib\\site-packages\\sklearn\\base.py:450: UserWarning: X does not have valid feature names, but LinearRegression was fitted with feature names\n",
      "  warnings.warn(\n"
     ]
    }
   ],
   "source": [
    "아빠키 = int(input('아빠키를 입력해 주세요 : '))\n",
    "엄마키 = int(input('엄마키를 입력해 주세요 : '))\n",
    "data = [[아빠키, 엄마키]]\n",
    "아들키 = model.predict(data)\n",
    "print(f'아들의 예상키는 {아들키[0]}입니다')"
   ]
  },
  {
   "cell_type": "code",
   "execution_count": 36,
   "id": "ee7a11a4",
   "metadata": {},
   "outputs": [
    {
     "name": "stdout",
     "output_type": "stream",
     "text": [
      "    아빠   엄마\n",
      "0  174  160\n",
      "1  179  160\n",
      "2  180  160\n"
     ]
    },
    {
     "data": {
      "text/plain": [
       "array([[178.31928593],\n",
       "       [182.18008636],\n",
       "       [182.95224644]])"
      ]
     },
     "execution_count": 36,
     "metadata": {},
     "output_type": "execute_result"
    }
   ],
   "source": [
    "Xt =X_test[['아빠','엄마']]\n",
    "print(Xt)\n",
    "model.predict(Xt)"
   ]
  },
  {
   "cell_type": "markdown",
   "id": "1c691446",
   "metadata": {},
   "source": [
    "#### 2-4 딸 키 구해보기"
   ]
  },
  {
   "cell_type": "code",
   "execution_count": 37,
   "id": "bfd3c27f",
   "metadata": {},
   "outputs": [],
   "source": [
    "X_train = pd.read_csv('X_train.csv')\n",
    "Y2_train = pd.read_csv('Y2_train.csv')\n",
    "X_test = pd.read_csv('X_test.csv')"
   ]
  },
  {
   "cell_type": "code",
   "execution_count": 38,
   "id": "27bd69d0",
   "metadata": {},
   "outputs": [
    {
     "name": "stdout",
     "output_type": "stream",
     "text": [
      "   id   아빠   엄마    딸\n",
      "0   0  175  160  163\n",
      "1   1  180  158  168\n",
      "2   2  172  155  157\n",
      "3   3  174  161  164\n",
      "4   4  178  163  167\n",
      "5   5  168  160  158\n",
      "6   6  173  168  169\n",
      "7   7  177  167  169\n"
     ]
    }
   ],
   "source": [
    "df = X_train.copy()\n",
    "df['딸'] = Y2_train['딸']\n",
    "print(df)"
   ]
  },
  {
   "cell_type": "code",
   "execution_count": 39,
   "id": "4674abd6",
   "metadata": {},
   "outputs": [],
   "source": [
    "X = df[['아빠', '엄마']]\n",
    "Y2 = df['딸']"
   ]
  },
  {
   "cell_type": "code",
   "execution_count": 40,
   "id": "2b8fe7cb",
   "metadata": {},
   "outputs": [
    {
     "data": {
      "text/plain": [
       "LinearRegression()"
      ]
     },
     "execution_count": 40,
     "metadata": {},
     "output_type": "execute_result"
    }
   ],
   "source": [
    "from sklearn.linear_model import LinearRegression\n",
    "model_d = LinearRegression()\n",
    "model_d.fit(X, Y2)"
   ]
  },
  {
   "cell_type": "code",
   "execution_count": 41,
   "id": "d45b34c3",
   "metadata": {},
   "outputs": [
    {
     "data": {
      "text/html": [
       "<div>\n",
       "<style scoped>\n",
       "    .dataframe tbody tr th:only-of-type {\n",
       "        vertical-align: middle;\n",
       "    }\n",
       "\n",
       "    .dataframe tbody tr th {\n",
       "        vertical-align: top;\n",
       "    }\n",
       "\n",
       "    .dataframe thead th {\n",
       "        text-align: right;\n",
       "    }\n",
       "</style>\n",
       "<table border=\"1\" class=\"dataframe\">\n",
       "  <thead>\n",
       "    <tr style=\"text-align: right;\">\n",
       "      <th></th>\n",
       "      <th>아빠</th>\n",
       "      <th>엄마</th>\n",
       "      <th>딸</th>\n",
       "      <th>딸예측</th>\n",
       "      <th>딸오차</th>\n",
       "    </tr>\n",
       "  </thead>\n",
       "  <tbody>\n",
       "    <tr>\n",
       "      <th>0</th>\n",
       "      <td>175</td>\n",
       "      <td>160</td>\n",
       "      <td>163</td>\n",
       "      <td>163.634730</td>\n",
       "      <td>-0.634730</td>\n",
       "    </tr>\n",
       "    <tr>\n",
       "      <th>1</th>\n",
       "      <td>180</td>\n",
       "      <td>158</td>\n",
       "      <td>168</td>\n",
       "      <td>166.355075</td>\n",
       "      <td>1.644925</td>\n",
       "    </tr>\n",
       "    <tr>\n",
       "      <th>2</th>\n",
       "      <td>172</td>\n",
       "      <td>155</td>\n",
       "      <td>157</td>\n",
       "      <td>157.665754</td>\n",
       "      <td>-0.665754</td>\n",
       "    </tr>\n",
       "    <tr>\n",
       "      <th>3</th>\n",
       "      <td>174</td>\n",
       "      <td>161</td>\n",
       "      <td>164</td>\n",
       "      <td>163.510348</td>\n",
       "      <td>0.489652</td>\n",
       "    </tr>\n",
       "    <tr>\n",
       "      <th>4</th>\n",
       "      <td>178</td>\n",
       "      <td>163</td>\n",
       "      <td>167</td>\n",
       "      <td>168.204748</td>\n",
       "      <td>-1.204748</td>\n",
       "    </tr>\n",
       "    <tr>\n",
       "      <th>5</th>\n",
       "      <td>168</td>\n",
       "      <td>160</td>\n",
       "      <td>158</td>\n",
       "      <td>157.867705</td>\n",
       "      <td>0.132295</td>\n",
       "    </tr>\n",
       "    <tr>\n",
       "      <th>6</th>\n",
       "      <td>173</td>\n",
       "      <td>168</td>\n",
       "      <td>169</td>\n",
       "      <td>167.582839</td>\n",
       "      <td>1.417161</td>\n",
       "    </tr>\n",
       "    <tr>\n",
       "      <th>7</th>\n",
       "      <td>177</td>\n",
       "      <td>167</td>\n",
       "      <td>169</td>\n",
       "      <td>170.178802</td>\n",
       "      <td>-1.178802</td>\n",
       "    </tr>\n",
       "  </tbody>\n",
       "</table>\n",
       "</div>"
      ],
      "text/plain": [
       "    아빠   엄마    딸         딸예측       딸오차\n",
       "0  175  160  163  163.634730 -0.634730\n",
       "1  180  158  168  166.355075  1.644925\n",
       "2  172  155  157  157.665754 -0.665754\n",
       "3  174  161  164  163.510348  0.489652\n",
       "4  178  163  167  168.204748 -1.204748\n",
       "5  168  160  158  157.867705  0.132295\n",
       "6  173  168  169  167.582839  1.417161\n",
       "7  177  167  169  170.178802 -1.178802"
      ]
     },
     "execution_count": 41,
     "metadata": {},
     "output_type": "execute_result"
    }
   ],
   "source": [
    "result = df[['아빠', '엄마', '딸']]\n",
    "result['딸예측'] = model_d.predict(X)\n",
    "result['딸오차'] = result['딸'] - result['딸예측']\n",
    "result"
   ]
  },
  {
   "cell_type": "code",
   "execution_count": 42,
   "id": "07cc8367",
   "metadata": {},
   "outputs": [
    {
     "name": "stdout",
     "output_type": "stream",
     "text": [
      "아빠키를 입력해 주세요 : 180\n",
      "엄마키를 입력해 주세요 : 163\n",
      "딸의 예상키는 169.85246899490227입니다\n"
     ]
    },
    {
     "name": "stderr",
     "output_type": "stream",
     "text": [
      "C:\\Users\\choic\\anaconda3\\lib\\site-packages\\sklearn\\base.py:450: UserWarning: X does not have valid feature names, but LinearRegression was fitted with feature names\n",
      "  warnings.warn(\n"
     ]
    }
   ],
   "source": [
    "아빠키 = int(input('아빠키를 입력해 주세요 : '))\n",
    "엄마키 = int(input('엄마키를 입력해 주세요 : '))\n",
    "data = [[아빠키, 엄마키]]\n",
    "딸키 = model_d.predict(data)\n",
    "print(f'딸의 예상키는 {딸키[0]}입니다')"
   ]
  },
  {
   "cell_type": "code",
   "execution_count": 43,
   "id": "59ab410f",
   "metadata": {},
   "outputs": [
    {
     "name": "stdout",
     "output_type": "stream",
     "text": [
      "    아빠   엄마\n",
      "0  174  160\n",
      "1  179  160\n",
      "2  180  160\n"
     ]
    },
    {
     "data": {
      "text/plain": [
       "array([162.8108689 , 166.93017195, 167.75403256])"
      ]
     },
     "execution_count": 43,
     "metadata": {},
     "output_type": "execute_result"
    }
   ],
   "source": [
    "Xt = X_test[['아빠', '엄마']]\n",
    "print(Xt)\n",
    "model_d.predict(Xt)"
   ]
  },
  {
   "cell_type": "code",
   "execution_count": null,
   "id": "89dacae2",
   "metadata": {},
   "outputs": [],
   "source": []
  }
 ],
 "metadata": {
  "kernelspec": {
   "display_name": "Python 3 (ipykernel)",
   "language": "python",
   "name": "python3"
  },
  "language_info": {
   "codemirror_mode": {
    "name": "ipython",
    "version": 3
   },
   "file_extension": ".py",
   "mimetype": "text/x-python",
   "name": "python",
   "nbconvert_exporter": "python",
   "pygments_lexer": "ipython3",
   "version": "3.9.12"
  }
 },
 "nbformat": 4,
 "nbformat_minor": 5
}
