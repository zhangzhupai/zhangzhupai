{
 "cells": [
  {
   "cell_type": "markdown",
   "id": "749454c8",
   "metadata": {},
   "source": [
    "1. 4회기출 작업1유형"
   ]
  },
  {
   "cell_type": "code",
   "execution_count": null,
   "id": "1d543150",
   "metadata": {},
   "outputs": [],
   "source": [
    "import pandas as pd"
   ]
  },
  {
   "cell_type": "markdown",
   "id": "b906a9cb",
   "metadata": {},
   "source": [
    "Q1. age 컬럼의 3사분위수와 1사분위수의 차를 절대값으로 구하고 소수점 버려서 정수로 출력하시오."
   ]
  },
  {
   "cell_type": "code",
   "execution_count": null,
   "id": "60240979",
   "metadata": {},
   "outputs": [],
   "source": [
    "data = pd.read_csv('./basic1.csv')\n",
    "df = data.copy()\n",
    "df.head()"
   ]
  },
  {
   "cell_type": "code",
   "execution_count": null,
   "id": "d6c0df78",
   "metadata": {},
   "outputs": [],
   "source": [
    "quantile_3 = df['age'].quantile(0.75)\n",
    "quantile_1 = df['age'].quantile(0.25)\n",
    "result = quantile_3 - quantile_1\n",
    "print(abs(int(result)))"
   ]
  },
  {
   "cell_type": "markdown",
   "id": "662289fa",
   "metadata": {},
   "source": [
    "Q2. (loves반응+wows반응)/(reactions반응) 비율이 0.4보다 크고 0.5보다 작으면서 status_type == video인 데이터의 개수를 구하시오"
   ]
  },
  {
   "cell_type": "code",
   "execution_count": null,
   "id": "505796d1",
   "metadata": {},
   "outputs": [],
   "source": [
    "data2 = pd.read_csv('./fb.csv')\n",
    "df2 = data2.copy()\n",
    "df2.head()"
   ]
  },
  {
   "cell_type": "code",
   "execution_count": null,
   "id": "eaedbd7a",
   "metadata": {},
   "outputs": [],
   "source": [
    "df2['react'] = (df2['loves']+df2['wows'])/df2['reactions']\n",
    "df2.head()"
   ]
  },
  {
   "cell_type": "code",
   "execution_count": null,
   "id": "1113c731",
   "metadata": {},
   "outputs": [],
   "source": [
    "temp = df2[(df2['react']>0.4) & (df2['react']<0.5)]\n",
    "temp.head()\n",
    "video = temp[(df2['type']=='video')]\n",
    "print(video.shape[0])"
   ]
  },
  {
   "cell_type": "markdown",
   "id": "a5eabd33",
   "metadata": {},
   "source": [
    "Q3. date_added가 2018년 1월 이면서 country가 United Kingdom 단독 제작인 데이터의 개수를 구하시오"
   ]
  },
  {
   "cell_type": "code",
   "execution_count": null,
   "id": "66643fe1",
   "metadata": {},
   "outputs": [],
   "source": [
    "data3 = pd.read_csv('./nf.csv')\n",
    "df3 = data3.copy()\n",
    "df3.head()"
   ]
  },
  {
   "cell_type": "code",
   "execution_count": null,
   "id": "324cdb52",
   "metadata": {},
   "outputs": [],
   "source": [
    "df3['date_added'] = pd.to_datetime(df3['date_added'])\n",
    "df3['year'] = df3['date_added'].dt.year\n",
    "df3['month'] = df3['date_added'].dt.month\n",
    "\n",
    "cond1 = df3[df3['country']=='United Kingdom']\n",
    "cond2 = cond1[cond1['year']==2018]\n",
    "cond3 = cond2[cond2['month']==1]\n",
    "print(cond3.shape[0])"
   ]
  },
  {
   "cell_type": "code",
   "execution_count": null,
   "id": "251294d7",
   "metadata": {},
   "outputs": [],
   "source": [
    "temp = data3.copy()\n",
    "temp['date_added'] = pd.to_datetime(temp['date_added'])\n",
    "temp['year'] = temp['date_added'].dt.year\n",
    "temp['month'] =temp['date_added'].dt.month\n",
    "temp\n",
    "result = temp[(temp['year'] == 2018) & (temp['month']==1) & (temp['country']=='United Kingdom')]\n",
    "print(result.shape[0])"
   ]
  },
  {
   "cell_type": "markdown",
   "id": "d6070aba",
   "metadata": {},
   "source": [
    "2. 작업2유형"
   ]
  },
  {
   "cell_type": "markdown",
   "id": "544ec9eb",
   "metadata": {},
   "source": [
    "- 자동차 회사는 새로운 전략을 수립하기 위해 4개의 시장으로 세분화했음\n",
    "- 기존 고객 분류 자료를 바탕으로 신규 고객이 어떤 분류에 속할지 예측하시오\n",
    "- 예측할 값(y): \"Segmentation\" (1,2,3,4)\n",
    "- 평가: Macro f1-score\n",
    "- data: train.csv, test.csv"
   ]
  },
  {
   "cell_type": "code",
   "execution_count": 1,
   "id": "32e173fc",
   "metadata": {},
   "outputs": [],
   "source": [
    "import pandas as pd\n",
    "train_data = pd.read_csv('./4th_train.csv')\n",
    "test_data = pd.read_csv('./4th_test.csv')"
   ]
  },
  {
   "cell_type": "code",
   "execution_count": 2,
   "id": "146aa942",
   "metadata": {},
   "outputs": [],
   "source": [
    "train = train_data.copy()\n",
    "test = test_data.copy()"
   ]
  },
  {
   "cell_type": "code",
   "execution_count": 3,
   "id": "9befc18b",
   "metadata": {},
   "outputs": [],
   "source": [
    "from sklearn.preprocessing import LabelEncoder\n",
    "encoder = LabelEncoder()\n",
    "\n",
    "train['Gender'] = encoder.fit_transform(train['Gender'])\n",
    "test['Gender'] = encoder.fit_transform(test['Gender'])\n",
    "\n",
    "train['Ever_Married'] = encoder.fit_transform(train['Ever_Married'])\n",
    "test['Ever_Married'] = encoder.fit_transform(test['Ever_Married'])\n",
    "\n",
    "train['Graduated'] = encoder.fit_transform(train['Graduated'])\n",
    "test['Graduated'] = encoder.fit_transform(test['Graduated'])\n",
    "\n",
    "train['Profession'] = encoder.fit_transform(train['Profession'])\n",
    "test['Profession'] = encoder.fit_transform(test['Profession'])\n",
    "\n",
    "train['Spending_Score'] = encoder.fit_transform(train['Spending_Score'])\n",
    "test['Spending_Score'] = encoder.fit_transform(test['Spending_Score'])\n",
    "\n",
    "train['Var_1'] = encoder.fit_transform(train['Var_1'])\n",
    "test['Var_1'] = encoder.fit_transform(test['Var_1'])"
   ]
  },
  {
   "cell_type": "code",
   "execution_count": 4,
   "id": "aff3e026",
   "metadata": {},
   "outputs": [],
   "source": [
    "target = train.pop('Segmentation')\n",
    "train = train.drop(columns='ID',axis=1)\n",
    "test_ID = test.pop('ID')"
   ]
  },
  {
   "cell_type": "code",
   "execution_count": 5,
   "id": "440d8d9d",
   "metadata": {},
   "outputs": [],
   "source": [
    "from sklearn.ensemble import RandomForestClassifier\n",
    "rf = RandomForestClassifier(random_state= 10, max_depth=7,n_estimators=500)"
   ]
  },
  {
   "cell_type": "code",
   "execution_count": 9,
   "id": "15b9eb73",
   "metadata": {},
   "outputs": [
    {
     "data": {
      "text/plain": [
       "array([1, 2, 2, ..., 1, 2, 4], dtype=int64)"
      ]
     },
     "execution_count": 9,
     "metadata": {},
     "output_type": "execute_result"
    }
   ],
   "source": [
    "rf.fit(train,target)\n",
    "pred = rf.predict(test)"
   ]
  },
  {
   "cell_type": "code",
   "execution_count": 10,
   "id": "474bb591",
   "metadata": {},
   "outputs": [
    {
     "data": {
      "text/html": [
       "<div>\n",
       "<style scoped>\n",
       "    .dataframe tbody tr th:only-of-type {\n",
       "        vertical-align: middle;\n",
       "    }\n",
       "\n",
       "    .dataframe tbody tr th {\n",
       "        vertical-align: top;\n",
       "    }\n",
       "\n",
       "    .dataframe thead th {\n",
       "        text-align: right;\n",
       "    }\n",
       "</style>\n",
       "<table border=\"1\" class=\"dataframe\">\n",
       "  <thead>\n",
       "    <tr style=\"text-align: right;\">\n",
       "      <th></th>\n",
       "      <th>ID</th>\n",
       "      <th>Segmentation</th>\n",
       "    </tr>\n",
       "  </thead>\n",
       "  <tbody>\n",
       "    <tr>\n",
       "      <th>0</th>\n",
       "      <td>458989</td>\n",
       "      <td>1</td>\n",
       "    </tr>\n",
       "    <tr>\n",
       "      <th>1</th>\n",
       "      <td>458994</td>\n",
       "      <td>2</td>\n",
       "    </tr>\n",
       "    <tr>\n",
       "      <th>2</th>\n",
       "      <td>459000</td>\n",
       "      <td>2</td>\n",
       "    </tr>\n",
       "    <tr>\n",
       "      <th>3</th>\n",
       "      <td>459003</td>\n",
       "      <td>2</td>\n",
       "    </tr>\n",
       "    <tr>\n",
       "      <th>4</th>\n",
       "      <td>459005</td>\n",
       "      <td>1</td>\n",
       "    </tr>\n",
       "    <tr>\n",
       "      <th>...</th>\n",
       "      <td>...</td>\n",
       "      <td>...</td>\n",
       "    </tr>\n",
       "    <tr>\n",
       "      <th>2149</th>\n",
       "      <td>467950</td>\n",
       "      <td>1</td>\n",
       "    </tr>\n",
       "    <tr>\n",
       "      <th>2150</th>\n",
       "      <td>467954</td>\n",
       "      <td>4</td>\n",
       "    </tr>\n",
       "    <tr>\n",
       "      <th>2151</th>\n",
       "      <td>467958</td>\n",
       "      <td>1</td>\n",
       "    </tr>\n",
       "    <tr>\n",
       "      <th>2152</th>\n",
       "      <td>467961</td>\n",
       "      <td>2</td>\n",
       "    </tr>\n",
       "    <tr>\n",
       "      <th>2153</th>\n",
       "      <td>467968</td>\n",
       "      <td>4</td>\n",
       "    </tr>\n",
       "  </tbody>\n",
       "</table>\n",
       "<p>2154 rows × 2 columns</p>\n",
       "</div>"
      ],
      "text/plain": [
       "          ID  Segmentation\n",
       "0     458989             1\n",
       "1     458994             2\n",
       "2     459000             2\n",
       "3     459003             2\n",
       "4     459005             1\n",
       "...      ...           ...\n",
       "2149  467950             1\n",
       "2150  467954             4\n",
       "2151  467958             1\n",
       "2152  467961             2\n",
       "2153  467968             4\n",
       "\n",
       "[2154 rows x 2 columns]"
      ]
     },
     "execution_count": 10,
     "metadata": {},
     "output_type": "execute_result"
    }
   ],
   "source": [
    "submit = pd.DataFrame({'ID':test_ID,\n",
    "                      'Segmentation':pred})\n",
    "submit"
   ]
  },
  {
   "cell_type": "code",
   "execution_count": null,
   "id": "41fbdac1",
   "metadata": {},
   "outputs": [],
   "source": []
  }
 ],
 "metadata": {
  "kernelspec": {
   "display_name": "Python 3 (ipykernel)",
   "language": "python",
   "name": "python3"
  },
  "language_info": {
   "codemirror_mode": {
    "name": "ipython",
    "version": 3
   },
   "file_extension": ".py",
   "mimetype": "text/x-python",
   "name": "python",
   "nbconvert_exporter": "python",
   "pygments_lexer": "ipython3",
   "version": "3.9.12"
  }
 },
 "nbformat": 4,
 "nbformat_minor": 5
}
