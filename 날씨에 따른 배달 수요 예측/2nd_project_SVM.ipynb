{
 "cells": [
  {
   "cell_type": "markdown",
   "id": "10c82692",
   "metadata": {},
   "source": [
    "# SVM\n",
    "매우 강력하고 선형이나 비선형 분류, 회귀, 이상치 탐색에도 사용할 수 있는 머신러닝 모델입니다.\n",
    "SVM은 특히 **복잡한 분류** 문제에 잘 들어맞으며 작거나 중간 크기에 데이터셋에 적합합니다.\n",
    "\n",
    "참고 : 핸즈온 머신러닝 책"
   ]
  },
  {
   "cell_type": "markdown",
   "id": "cc8e67ad",
   "metadata": {},
   "source": [
    "### import 정의"
   ]
  },
  {
   "cell_type": "code",
   "execution_count": 3,
   "id": "c2368412",
   "metadata": {},
   "outputs": [],
   "source": [
    "import numpy as np\n",
    "import matplotlib.pyplot as plt\n",
    "import pandas as pd"
   ]
  },
  {
   "cell_type": "code",
   "execution_count": 4,
   "id": "8305c5c1",
   "metadata": {},
   "outputs": [],
   "source": [
    "import warnings \n",
    "warnings.filterwarnings('ignore')"
   ]
  },
  {
   "cell_type": "markdown",
   "id": "ac4d2422",
   "metadata": {},
   "source": [
    "### data 로드"
   ]
  },
  {
   "cell_type": "code",
   "execution_count": 5,
   "id": "f0da9cc5",
   "metadata": {},
   "outputs": [],
   "source": [
    "delivery_data = pd.read_csv('delivery_data.csv', encoding='utf-8')"
   ]
  },
  {
   "cell_type": "code",
   "execution_count": 6,
   "id": "32fa3622",
   "metadata": {},
   "outputs": [],
   "source": [
    "# info, shape 등을 이용해 data 형태 참고 가능"
   ]
  },
  {
   "cell_type": "markdown",
   "id": "7ffcea7e",
   "metadata": {},
   "source": [
    "### 날짜 년,월,일 나누기 (update)"
   ]
  },
  {
   "cell_type": "code",
   "execution_count": 7,
   "id": "28ca5be4",
   "metadata": {},
   "outputs": [],
   "source": [
    "delivery_data['datetime'] = delivery_data['datetime'].apply(pd.to_datetime)\n",
    "delivery_data['year'] = delivery_data['datetime'].apply(lambda x : x.year)\n",
    "delivery_data['month'] = delivery_data['datetime'].apply(lambda x : x.month)\n",
    "delivery_data['day'] = delivery_data['datetime'].apply(lambda x : x.day)\n",
    "delivery_data = delivery_data.loc[:,['year','month','day','Day of the week','city','population','hour', 'rain','dust','humidity','precipitation','temp','windspeed','holiday','sectors']]"
   ]
  },
  {
   "cell_type": "markdown",
   "id": "8cefd491",
   "metadata": {},
   "source": [
    "### 요일 숫자형 전환 (update)\n",
    "예시 Monday:1 ~ Sunday:7"
   ]
  },
  {
   "cell_type": "code",
   "execution_count": 8,
   "id": "6e080e2e",
   "metadata": {},
   "outputs": [],
   "source": [
    "label_delivery_data = delivery_data.copy()\n",
    "label_length = len(label_delivery_data)"
   ]
  },
  {
   "cell_type": "code",
   "execution_count": 9,
   "id": "a386e0bc",
   "metadata": {},
   "outputs": [],
   "source": [
    "for i in range(label_length):\n",
    "    if label_delivery_data['Day of the week'][i] == 'Monday':\n",
    "        label_delivery_data['Day of the week'][i] = 1\n",
    "    elif label_delivery_data['Day of the week'][i] == 'Tuesday':\n",
    "        label_delivery_data['Day of the week'][i] = 2\n",
    "    elif label_delivery_data['Day of the week'][i] == 'Wednesday':\n",
    "        label_delivery_data['Day of the week'][i] = 3\n",
    "    elif label_delivery_data['Day of the week'][i] == 'Thursday':\n",
    "        label_delivery_data['Day of the week'][i] = 4\n",
    "    elif label_delivery_data['Day of the week'][i] == 'Friday':\n",
    "        label_delivery_data['Day of the week'][i] = 5\n",
    "    elif label_delivery_data['Day of the week'][i] == 'Saturday':\n",
    "        label_delivery_data['Day of the week'][i] = 6\n",
    "    elif label_delivery_data['Day of the week'][i] == 'Sunday':\n",
    "        label_delivery_data['Day of the week'][i] = 7"
   ]
  },
  {
   "cell_type": "code",
   "execution_count": 10,
   "id": "acdcbaca",
   "metadata": {},
   "outputs": [
    {
     "name": "stdout",
     "output_type": "stream",
     "text": [
      "3\n"
     ]
    }
   ],
   "source": [
    "# 위의 for문 확인\n",
    "print(label_delivery_data['Day of the week'][0])"
   ]
  },
  {
   "cell_type": "code",
   "execution_count": 11,
   "id": "e5071674",
   "metadata": {},
   "outputs": [],
   "source": [
    "### 습도값 100인 행을 제거(update)\n",
    "label_delivery_data = label_delivery_data[label_delivery_data.humidity<100]"
   ]
  },
  {
   "cell_type": "code",
   "execution_count": 12,
   "id": "0449bb72",
   "metadata": {},
   "outputs": [],
   "source": [
    "### 바람 세기를 로그 변환(update)\n",
    "label_delivery_data['windspeed'] = np.log1p(label_delivery_data['windspeed'])\n",
    "\n",
    "# 습도 log 변환 시 생기는 inf -inf 값을 nan값으로 변경\n",
    "label_delivery_data['windspeed'] = label_delivery_data['windspeed'].replace([np.inf, -np.inf], np.nan)\n",
    "\n",
    "# nan 값이 들어가 있는 행 삭제\n",
    "label_delivery_data = label_delivery_data.dropna()"
   ]
  },
  {
   "cell_type": "code",
   "execution_count": 13,
   "id": "d3a15605",
   "metadata": {},
   "outputs": [
    {
     "data": {
      "text/html": [
       "<div>\n",
       "<style scoped>\n",
       "    .dataframe tbody tr th:only-of-type {\n",
       "        vertical-align: middle;\n",
       "    }\n",
       "\n",
       "    .dataframe tbody tr th {\n",
       "        vertical-align: top;\n",
       "    }\n",
       "\n",
       "    .dataframe thead th {\n",
       "        text-align: right;\n",
       "    }\n",
       "</style>\n",
       "<table border=\"1\" class=\"dataframe\">\n",
       "  <thead>\n",
       "    <tr style=\"text-align: right;\">\n",
       "      <th></th>\n",
       "      <th>year</th>\n",
       "      <th>month</th>\n",
       "      <th>day</th>\n",
       "      <th>Day of the week</th>\n",
       "      <th>city</th>\n",
       "      <th>population</th>\n",
       "      <th>hour</th>\n",
       "      <th>rain</th>\n",
       "      <th>dust</th>\n",
       "      <th>humidity</th>\n",
       "      <th>precipitation</th>\n",
       "      <th>temp</th>\n",
       "      <th>windspeed</th>\n",
       "      <th>holiday</th>\n",
       "      <th>sectors</th>\n",
       "    </tr>\n",
       "  </thead>\n",
       "  <tbody>\n",
       "    <tr>\n",
       "      <th>10599</th>\n",
       "      <td>2020</td>\n",
       "      <td>1</td>\n",
       "      <td>1</td>\n",
       "      <td>3</td>\n",
       "      <td>11305</td>\n",
       "      <td>313705</td>\n",
       "      <td>0</td>\n",
       "      <td>0</td>\n",
       "      <td>40.0</td>\n",
       "      <td>84</td>\n",
       "      <td>0.0</td>\n",
       "      <td>-4.3</td>\n",
       "      <td>0.470004</td>\n",
       "      <td>1</td>\n",
       "      <td>6</td>\n",
       "    </tr>\n",
       "    <tr>\n",
       "      <th>10600</th>\n",
       "      <td>2020</td>\n",
       "      <td>1</td>\n",
       "      <td>1</td>\n",
       "      <td>3</td>\n",
       "      <td>11305</td>\n",
       "      <td>313705</td>\n",
       "      <td>10</td>\n",
       "      <td>0</td>\n",
       "      <td>40.0</td>\n",
       "      <td>72</td>\n",
       "      <td>0.0</td>\n",
       "      <td>0.2</td>\n",
       "      <td>0.693147</td>\n",
       "      <td>1</td>\n",
       "      <td>2</td>\n",
       "    </tr>\n",
       "    <tr>\n",
       "      <th>10601</th>\n",
       "      <td>2020</td>\n",
       "      <td>1</td>\n",
       "      <td>1</td>\n",
       "      <td>3</td>\n",
       "      <td>11305</td>\n",
       "      <td>313705</td>\n",
       "      <td>11</td>\n",
       "      <td>0</td>\n",
       "      <td>40.0</td>\n",
       "      <td>73</td>\n",
       "      <td>0.0</td>\n",
       "      <td>0.0</td>\n",
       "      <td>0.336472</td>\n",
       "      <td>1</td>\n",
       "      <td>2</td>\n",
       "    </tr>\n",
       "    <tr>\n",
       "      <th>10602</th>\n",
       "      <td>2020</td>\n",
       "      <td>1</td>\n",
       "      <td>1</td>\n",
       "      <td>3</td>\n",
       "      <td>11305</td>\n",
       "      <td>313705</td>\n",
       "      <td>12</td>\n",
       "      <td>0</td>\n",
       "      <td>40.0</td>\n",
       "      <td>74</td>\n",
       "      <td>0.0</td>\n",
       "      <td>-0.2</td>\n",
       "      <td>0.530628</td>\n",
       "      <td>1</td>\n",
       "      <td>2</td>\n",
       "    </tr>\n",
       "    <tr>\n",
       "      <th>10603</th>\n",
       "      <td>2020</td>\n",
       "      <td>1</td>\n",
       "      <td>1</td>\n",
       "      <td>3</td>\n",
       "      <td>11305</td>\n",
       "      <td>313705</td>\n",
       "      <td>13</td>\n",
       "      <td>0</td>\n",
       "      <td>40.0</td>\n",
       "      <td>75</td>\n",
       "      <td>0.0</td>\n",
       "      <td>0.0</td>\n",
       "      <td>0.405465</td>\n",
       "      <td>1</td>\n",
       "      <td>7</td>\n",
       "    </tr>\n",
       "    <tr>\n",
       "      <th>...</th>\n",
       "      <td>...</td>\n",
       "      <td>...</td>\n",
       "      <td>...</td>\n",
       "      <td>...</td>\n",
       "      <td>...</td>\n",
       "      <td>...</td>\n",
       "      <td>...</td>\n",
       "      <td>...</td>\n",
       "      <td>...</td>\n",
       "      <td>...</td>\n",
       "      <td>...</td>\n",
       "      <td>...</td>\n",
       "      <td>...</td>\n",
       "      <td>...</td>\n",
       "      <td>...</td>\n",
       "    </tr>\n",
       "    <tr>\n",
       "      <th>100212</th>\n",
       "      <td>2020</td>\n",
       "      <td>6</td>\n",
       "      <td>14</td>\n",
       "      <td>7</td>\n",
       "      <td>11290</td>\n",
       "      <td>441812</td>\n",
       "      <td>19</td>\n",
       "      <td>0</td>\n",
       "      <td>37.0</td>\n",
       "      <td>81</td>\n",
       "      <td>0.0</td>\n",
       "      <td>18.7</td>\n",
       "      <td>0.693147</td>\n",
       "      <td>0</td>\n",
       "      <td>3</td>\n",
       "    </tr>\n",
       "    <tr>\n",
       "      <th>100213</th>\n",
       "      <td>2020</td>\n",
       "      <td>6</td>\n",
       "      <td>19</td>\n",
       "      <td>5</td>\n",
       "      <td>11290</td>\n",
       "      <td>441812</td>\n",
       "      <td>11</td>\n",
       "      <td>0</td>\n",
       "      <td>25.0</td>\n",
       "      <td>62</td>\n",
       "      <td>0.0</td>\n",
       "      <td>24.2</td>\n",
       "      <td>1.280934</td>\n",
       "      <td>0</td>\n",
       "      <td>3</td>\n",
       "    </tr>\n",
       "    <tr>\n",
       "      <th>100214</th>\n",
       "      <td>2020</td>\n",
       "      <td>6</td>\n",
       "      <td>20</td>\n",
       "      <td>6</td>\n",
       "      <td>11290</td>\n",
       "      <td>441812</td>\n",
       "      <td>21</td>\n",
       "      <td>0</td>\n",
       "      <td>39.0</td>\n",
       "      <td>65</td>\n",
       "      <td>0.0</td>\n",
       "      <td>22.8</td>\n",
       "      <td>0.832909</td>\n",
       "      <td>0</td>\n",
       "      <td>3</td>\n",
       "    </tr>\n",
       "    <tr>\n",
       "      <th>100215</th>\n",
       "      <td>2020</td>\n",
       "      <td>6</td>\n",
       "      <td>25</td>\n",
       "      <td>4</td>\n",
       "      <td>11290</td>\n",
       "      <td>441812</td>\n",
       "      <td>11</td>\n",
       "      <td>1</td>\n",
       "      <td>15.0</td>\n",
       "      <td>88</td>\n",
       "      <td>0.0</td>\n",
       "      <td>20.6</td>\n",
       "      <td>0.916291</td>\n",
       "      <td>0</td>\n",
       "      <td>3</td>\n",
       "    </tr>\n",
       "    <tr>\n",
       "      <th>100216</th>\n",
       "      <td>2020</td>\n",
       "      <td>6</td>\n",
       "      <td>25</td>\n",
       "      <td>4</td>\n",
       "      <td>11290</td>\n",
       "      <td>441812</td>\n",
       "      <td>13</td>\n",
       "      <td>0</td>\n",
       "      <td>15.0</td>\n",
       "      <td>90</td>\n",
       "      <td>0.5</td>\n",
       "      <td>20.3</td>\n",
       "      <td>0.832909</td>\n",
       "      <td>0</td>\n",
       "      <td>3</td>\n",
       "    </tr>\n",
       "  </tbody>\n",
       "</table>\n",
       "<p>31013 rows × 15 columns</p>\n",
       "</div>"
      ],
      "text/plain": [
       "        year  month  day Day of the week   city  population  hour  rain  dust  \\\n",
       "10599   2020      1    1               3  11305      313705     0     0  40.0   \n",
       "10600   2020      1    1               3  11305      313705    10     0  40.0   \n",
       "10601   2020      1    1               3  11305      313705    11     0  40.0   \n",
       "10602   2020      1    1               3  11305      313705    12     0  40.0   \n",
       "10603   2020      1    1               3  11305      313705    13     0  40.0   \n",
       "...      ...    ...  ...             ...    ...         ...   ...   ...   ...   \n",
       "100212  2020      6   14               7  11290      441812    19     0  37.0   \n",
       "100213  2020      6   19               5  11290      441812    11     0  25.0   \n",
       "100214  2020      6   20               6  11290      441812    21     0  39.0   \n",
       "100215  2020      6   25               4  11290      441812    11     1  15.0   \n",
       "100216  2020      6   25               4  11290      441812    13     0  15.0   \n",
       "\n",
       "        humidity  precipitation  temp  windspeed  holiday  sectors  \n",
       "10599         84            0.0  -4.3   0.470004        1        6  \n",
       "10600         72            0.0   0.2   0.693147        1        2  \n",
       "10601         73            0.0   0.0   0.336472        1        2  \n",
       "10602         74            0.0  -0.2   0.530628        1        2  \n",
       "10603         75            0.0   0.0   0.405465        1        7  \n",
       "...          ...            ...   ...        ...      ...      ...  \n",
       "100212        81            0.0  18.7   0.693147        0        3  \n",
       "100213        62            0.0  24.2   1.280934        0        3  \n",
       "100214        65            0.0  22.8   0.832909        0        3  \n",
       "100215        88            0.0  20.6   0.916291        0        3  \n",
       "100216        90            0.5  20.3   0.832909        0        3  \n",
       "\n",
       "[31013 rows x 15 columns]"
      ]
     },
     "execution_count": 13,
     "metadata": {},
     "output_type": "execute_result"
    }
   ],
   "source": [
    "label_delivery_data"
   ]
  },
  {
   "cell_type": "code",
   "execution_count": 81,
   "id": "e64415a7",
   "metadata": {},
   "outputs": [],
   "source": [
    "# 특성 \n",
    "X = label_delivery_data[['year', 'month', 'day', 'Day of the week', 'city', 'population', 'hour', 'rain', 'precipitation', 'temp', 'windspeed', 'holiday']]\n",
    "# target\n",
    "y = label_delivery_data['sectors'] "
   ]
  },
  {
   "cell_type": "markdown",
   "id": "38530d32",
   "metadata": {},
   "source": [
    "### train / test 분리 (update) shuffle=True"
   ]
  },
  {
   "cell_type": "code",
   "execution_count": 82,
   "id": "b71d4c33",
   "metadata": {},
   "outputs": [],
   "source": [
    "from sklearn.model_selection import train_test_split"
   ]
  },
  {
   "cell_type": "code",
   "execution_count": 83,
   "id": "2024508c",
   "metadata": {},
   "outputs": [],
   "source": [
    "X_train, X_test, y_train, y_test = train_test_split(X, y, test_size=0.2,shuffle=True, stratify = y, random_state=42)"
   ]
  },
  {
   "cell_type": "markdown",
   "id": "8051da20",
   "metadata": {},
   "source": [
    "### 선형 SVM"
   ]
  },
  {
   "cell_type": "code",
   "execution_count": 18,
   "id": "6911c8dc",
   "metadata": {},
   "outputs": [],
   "source": [
    "# import\n",
    "from sklearn.pipeline import Pipeline\n",
    "from sklearn.preprocessing import StandardScaler\n",
    "from sklearn.svm import LinearSVC"
   ]
  },
  {
   "cell_type": "code",
   "execution_count": 19,
   "id": "5610715b",
   "metadata": {},
   "outputs": [],
   "source": [
    "svm_clf = Pipeline([\n",
    "    (\"scaler\", LinearSVC(C=1, loss=\"hinge\")),\n",
    "])"
   ]
  },
  {
   "cell_type": "code",
   "execution_count": 53,
   "id": "606c2174",
   "metadata": {},
   "outputs": [
    {
     "data": {
      "text/plain": [
       "Pipeline(steps=[('scaler', LinearSVC(C=1, loss='hinge'))])"
      ]
     },
     "execution_count": 53,
     "metadata": {},
     "output_type": "execute_result"
    }
   ],
   "source": [
    "svm_clf.fit(X_train,y_train)"
   ]
  },
  {
   "cell_type": "markdown",
   "id": "270cfe59",
   "metadata": {},
   "source": [
    "### 비선형 SVM 분류"
   ]
  },
  {
   "cell_type": "code",
   "execution_count": 29,
   "id": "04c0d757",
   "metadata": {},
   "outputs": [],
   "source": [
    "# import\n",
    "from sklearn.pipeline import Pipeline\n",
    "from sklearn.preprocessing import PolynomialFeatures"
   ]
  },
  {
   "cell_type": "code",
   "execution_count": 85,
   "id": "8ec5627b",
   "metadata": {},
   "outputs": [],
   "source": [
    "polynomial_svm_clf = Pipeline([\n",
    "    (\"poly_features\", PolynomialFeatures(degree=3)),\n",
    "    (\"scaler\", StandardScaler()),\n",
    "    (\"svm_clf\", LinearSVC(C=10, loss=\"hinge\"))\n",
    "])"
   ]
  },
  {
   "cell_type": "code",
   "execution_count": 86,
   "id": "4961b85a",
   "metadata": {},
   "outputs": [
    {
     "data": {
      "text/plain": [
       "Pipeline(steps=[('poly_features', PolynomialFeatures(degree=3)),\n",
       "                ('scaler', StandardScaler()),\n",
       "                ('svm_clf', LinearSVC(C=10, loss='hinge'))])"
      ]
     },
     "execution_count": 86,
     "metadata": {},
     "output_type": "execute_result"
    }
   ],
   "source": [
    "polynomial_svm_clf.fit(X_train,y_train)"
   ]
  },
  {
   "cell_type": "markdown",
   "id": "9cd780a8",
   "metadata": {},
   "source": [
    "## 성능 평가 (predefined values)"
   ]
  },
  {
   "cell_type": "code",
   "execution_count": 50,
   "id": "112acf24",
   "metadata": {},
   "outputs": [],
   "source": [
    "from sklearn.metrics import f1_score"
   ]
  },
  {
   "cell_type": "markdown",
   "id": "0ebdc938",
   "metadata": {},
   "source": [
    "> #### 선형 SVM"
   ]
  },
  {
   "cell_type": "code",
   "execution_count": 77,
   "id": "e6685184",
   "metadata": {},
   "outputs": [
    {
     "data": {
      "text/plain": [
       "0.22303770347064356"
      ]
     },
     "execution_count": 77,
     "metadata": {},
     "output_type": "execute_result"
    }
   ],
   "source": [
    "y_pred = svm_clf.predict(X_test)\n",
    "f1_score(y_test, y_pred, average='weighted')"
   ]
  },
  {
   "cell_type": "markdown",
   "id": "3cb6b063",
   "metadata": {},
   "source": [
    "> #### 비선형 SVM"
   ]
  },
  {
   "cell_type": "code",
   "execution_count": 87,
   "id": "ac2b32e3",
   "metadata": {},
   "outputs": [],
   "source": [
    "y_pred = polynomial_svm_clf.predict(X_test)"
   ]
  },
  {
   "cell_type": "code",
   "execution_count": 88,
   "id": "54ba667e",
   "metadata": {},
   "outputs": [
    {
     "data": {
      "text/plain": [
       "0.4401068523338461"
      ]
     },
     "execution_count": 88,
     "metadata": {},
     "output_type": "execute_result"
    }
   ],
   "source": [
    "f1_score(y_test, y_pred, average='weighted')"
   ]
  },
  {
   "cell_type": "markdown",
   "id": "5d6beeda",
   "metadata": {},
   "source": [
    "# 앙상블 학습"
   ]
  },
  {
   "cell_type": "markdown",
   "id": "de244a9d",
   "metadata": {},
   "source": [
    "- 앙상블 학습(nsembel Learning)을 통한 분류는 여러 개의 분류기(Classifier)를 생성하고 그 예측을 결합함으로써 보다 정확한 최종 예측을 도출하는 기법을 말합니다.\n",
    "- 앙상블 학습은 다양한 분류기의 예측 결과를 결합함으로써 단일 분류기보다 신뢰성이 높은 예측값을 얻는 것이다.\n",
    "- 이미지, 영상, 음성 등의 비정형 데이터 분류는 딥러닝이 띄어난 성능, 대부분의 정형 데이터 분류 시에는 앙상블이 띄어난 성능을 보이고 있다.\n",
    "- 앙상블 알고리즘의 대표적인 예 : 랜덤 포레스트, 그래디언트 부스팅\n",
    "- 앙상블 학습 유형 : 보팅(Voting), 배깅(Bagging), 부스팅(Boosting). 이 외에도 스태깅을 포함한 다양한 앙상블 방법이 있다.\n",
    "- 보팅과 배깅은 여러 개의 분류기 투표를 통해 최종 예측 결과 결정 방식\n",
    "- 보팅과 배깅의 다른점은 보팅의 경우 서로 다른 알고리즘을 가진 분류기를 결합하는 것이고, 배깅의 경우 각각의 분류기가 모두 같은 유형의 알고리즘 이지만, 데이터 샘플링을 서로 다르게 가져가면서 학습을 수행해 보탱을 수행하는 것입니다.\n",
    "- 대표적인 배깅 방식이 바로 랜덤 포레스트 알고리즘입니다.\n",
    "- 보팅 유형 : 하드 보팅, 소프트 보팅\n",
    "\n",
    "출처 : 파이썬 머신러닝 완벽 가이드"
   ]
  },
  {
   "cell_type": "code",
   "execution_count": 58,
   "id": "9ee4a66f",
   "metadata": {},
   "outputs": [
    {
     "data": {
      "text/plain": [
       "Pipeline(steps=[('poly_features', PolynomialFeatures(degree=3)),\n",
       "                ('scaler', StandardScaler()),\n",
       "                ('svm_clf', LinearSVC(C=10, loss='hinge'))])"
      ]
     },
     "execution_count": 58,
     "metadata": {},
     "output_type": "execute_result"
    }
   ],
   "source": [
    "polynomial_svm_clf"
   ]
  },
  {
   "cell_type": "code",
   "execution_count": 67,
   "id": "d4f0b0a3",
   "metadata": {},
   "outputs": [],
   "source": [
    "from sklearn.ensemble import VotingClassifier\n",
    "from sklearn.metrics import accuracy_score"
   ]
  },
  {
   "cell_type": "code",
   "execution_count": 68,
   "id": "fc530d61",
   "metadata": {},
   "outputs": [],
   "source": [
    "# 개별 모델을 소프트 보팅 기반의 앙상블 모델로 구현한 분류기\n",
    "vo_clf = VotingClassifier(estimators=[('SVM', polynomial_svm_clf)], voting='soft')"
   ]
  },
  {
   "cell_type": "code",
   "execution_count": 89,
   "id": "0b4a0c06",
   "metadata": {},
   "outputs": [
    {
     "data": {
      "text/plain": [
       "VotingClassifier(estimators=[('SVM',\n",
       "                              Pipeline(steps=[('poly_features',\n",
       "                                               PolynomialFeatures(degree=3)),\n",
       "                                              ('scaler', StandardScaler()),\n",
       "                                              ('svm_clf',\n",
       "                                               LinearSVC(C=10,\n",
       "                                                         loss='hinge'))]))],\n",
       "                 voting='soft')"
      ]
     },
     "execution_count": 89,
     "metadata": {},
     "output_type": "execute_result"
    }
   ],
   "source": [
    "# VotingClassifier 학습/예측/평가.\n",
    "vo_clf.fit(X_train, y_train)"
   ]
  },
  {
   "cell_type": "markdown",
   "id": "c85f48b5",
   "metadata": {},
   "source": [
    "> ### 소프트 보팅"
   ]
  },
  {
   "cell_type": "code",
   "execution_count": 90,
   "id": "e40930e6",
   "metadata": {},
   "outputs": [],
   "source": [
    "svm_clf = SVC(probability=True, random_state=42)"
   ]
  },
  {
   "cell_type": "code",
   "execution_count": 91,
   "id": "03baaa27",
   "metadata": {},
   "outputs": [],
   "source": [
    "voting_clf = VotingClassifier(\n",
    "                estimators= [('svm', svm_clf)],\n",
    "                voting = 'soft'\n",
    "            )"
   ]
  },
  {
   "cell_type": "code",
   "execution_count": 92,
   "id": "fda96aca",
   "metadata": {},
   "outputs": [
    {
     "name": "stdout",
     "output_type": "stream",
     "text": [
      "SVC 0.3445107206190553\n",
      "VotingClassifier 0.3441882959858133\n"
     ]
    }
   ],
   "source": [
    "for clf in (svm_clf, voting_clf):\n",
    "    clf.fit(X_train, y_train)\n",
    "    y_pred = clf.predict(X_test)\n",
    "    print(clf.__class__.__name__, accuracy_score(y_test, y_pred))"
   ]
  },
  {
   "cell_type": "markdown",
   "id": "404c2800",
   "metadata": {},
   "source": [
    "보팅을 포함해 배깅과 부스팅 등의 앙상블 방법은 전반적으로 다른 단일 ML 알고리즘보다 뛰어난 예측 성능을 가지는 경우가 많다."
   ]
  },
  {
   "cell_type": "markdown",
   "id": "18c3e2f4",
   "metadata": {},
   "source": [
    "# 랜덤 포레스트"
   ]
  },
  {
   "cell_type": "markdown",
   "id": "e4b07a94",
   "metadata": {},
   "source": [
    "배깅(bagging)은 같은 알고리즘으로 여러 개의 분류기를 만들어서 보팅으로 최종 결정하는 알고리즘입니다.\n",
    "배깅의 대표적인 알고리즘은 랜덤 포레스트입니다.\n",
    "랜덤 포레스트는 다재 다능한 알고리즘으로 앙상블 알고리즘중 비교적 빠른 수행 속도를 가지고 있고 다양한 영역에서 높은 예측 성능을 보이고 있습니다.\n",
    "랜덤 포레스트의 기반 알고리즘은 결정 트리입니다.\n",
    "랜덤 포레스트는 여러 개의 결정 트리 분류기가 전체 데이터에서 배깅 방식으로 각자의 데이터를 샘플링해 기별적으로 학습을 수행한 뒤 최종적으로 모든 분류기가 보팅을 통해 예측 결정을 하게 됩니다."
   ]
  },
  {
   "cell_type": "code",
   "execution_count": 93,
   "id": "446623ed",
   "metadata": {},
   "outputs": [],
   "source": [
    "# import\n",
    "from sklearn.ensemble import RandomForestClassifier"
   ]
  },
  {
   "cell_type": "code",
   "execution_count": 94,
   "id": "e4500671",
   "metadata": {},
   "outputs": [],
   "source": [
    "# 랜덤 포레스트 학습 및 별도의 테스트 세트로 예측 성능 평가\n",
    "rf_clf = RandomForestClassifier(random_state=0)"
   ]
  },
  {
   "cell_type": "code",
   "execution_count": 95,
   "id": "85fd4a55",
   "metadata": {},
   "outputs": [
    {
     "data": {
      "text/plain": [
       "RandomForestClassifier(random_state=0)"
      ]
     },
     "execution_count": 95,
     "metadata": {},
     "output_type": "execute_result"
    }
   ],
   "source": [
    "rf_clf.fit(X_train, y_train)"
   ]
  },
  {
   "cell_type": "code",
   "execution_count": 96,
   "id": "1c939ecb",
   "metadata": {},
   "outputs": [],
   "source": [
    "pred = rf_clf.predict(X_test)"
   ]
  },
  {
   "cell_type": "code",
   "execution_count": 97,
   "id": "a30489db",
   "metadata": {},
   "outputs": [],
   "source": [
    "accuracy = accuracy_score(y_test, pred)"
   ]
  },
  {
   "cell_type": "code",
   "execution_count": 98,
   "id": "c4381193",
   "metadata": {},
   "outputs": [
    {
     "name": "stdout",
     "output_type": "stream",
     "text": [
      "랜덤 포레스트 정확도: 0.7266\n"
     ]
    }
   ],
   "source": [
    "print('랜덤 포레스트 정확도: {0:.4f}'.format(accuracy))"
   ]
  },
  {
   "cell_type": "code",
   "execution_count": 99,
   "id": "7323323c",
   "metadata": {},
   "outputs": [],
   "source": [
    "# 랜덤 포레스트 하이퍼 파라미터 및 튜닝"
   ]
  },
  {
   "cell_type": "markdown",
   "id": "b40f0e49",
   "metadata": {},
   "source": [
    "앙상블 알고리즘의 단점으로는 시간이 오래걸린다. 그나마 랜덤 포레스트가 적은 편에 속하는데, 결정 트리에서 사용되는 하이퍼 파라미터와 같은 파라미터가 대부분이기 때문입니다."
   ]
  },
  {
   "cell_type": "code",
   "execution_count": 100,
   "id": "2fee52fa",
   "metadata": {},
   "outputs": [],
   "source": [
    "from sklearn.model_selection import GridSearchCV"
   ]
  },
  {
   "cell_type": "code",
   "execution_count": 101,
   "id": "60801416",
   "metadata": {},
   "outputs": [],
   "source": [
    "params = {\n",
    "    'n_estimators':[100],\n",
    "    'max_depth' : [6,8,10,12],\n",
    "    'min_samples_leaf' : [8,12,18],\n",
    "    'min_samples_split' : [8,16,20]\n",
    "}"
   ]
  },
  {
   "cell_type": "code",
   "execution_count": 102,
   "id": "88450a54",
   "metadata": {},
   "outputs": [],
   "source": [
    "# RandomForestClassifier 객체 생성 후 GridSearchCV 수행\n",
    "rf_clf = RandomForestClassifier(random_state=0, n_jobs=-1)"
   ]
  },
  {
   "cell_type": "code",
   "execution_count": 103,
   "id": "94d66a03",
   "metadata": {},
   "outputs": [],
   "source": [
    "grid_cv =GridSearchCV(rf_clf, param_grid=params, cv=2, n_jobs=-1)"
   ]
  },
  {
   "cell_type": "code",
   "execution_count": 105,
   "id": "63ec87d1",
   "metadata": {},
   "outputs": [
    {
     "data": {
      "text/plain": [
       "GridSearchCV(cv=2, estimator=RandomForestClassifier(n_jobs=-1, random_state=0),\n",
       "             n_jobs=-1,\n",
       "             param_grid={'max_depth': [6, 8, 10, 12],\n",
       "                         'min_samples_leaf': [8, 12, 18],\n",
       "                         'min_samples_split': [8, 16, 20],\n",
       "                         'n_estimators': [100]})"
      ]
     },
     "execution_count": 105,
     "metadata": {},
     "output_type": "execute_result"
    }
   ],
   "source": [
    "grid_cv.fit(X_train, y_train)"
   ]
  },
  {
   "cell_type": "code",
   "execution_count": 106,
   "id": "f2f9f89b",
   "metadata": {},
   "outputs": [
    {
     "name": "stdout",
     "output_type": "stream",
     "text": [
      "최적 하이퍼 파리미터:\n",
      " {'max_depth': 12, 'min_samples_leaf': 8, 'min_samples_split': 20, 'n_estimators': 100}\n"
     ]
    }
   ],
   "source": [
    "print('최적 하이퍼 파리미터:\\n', grid_cv.best_params_)"
   ]
  },
  {
   "cell_type": "code",
   "execution_count": 107,
   "id": "f6bec00a",
   "metadata": {},
   "outputs": [
    {
     "name": "stdout",
     "output_type": "stream",
     "text": [
      "최고 예측 정확도: 0.7212\n"
     ]
    }
   ],
   "source": [
    "print('최고 예측 정확도: {0:.4f}'.format(grid_cv.best_score_))"
   ]
  },
  {
   "cell_type": "code",
   "execution_count": 109,
   "id": "40f3cfa9",
   "metadata": {},
   "outputs": [],
   "source": [
    "rf_clf1 = RandomForestClassifier(n_estimators=300, max_depth=10, min_samples_leaf=8,)"
   ]
  },
  {
   "cell_type": "code",
   "execution_count": 111,
   "id": "47a7e16d",
   "metadata": {},
   "outputs": [
    {
     "data": {
      "text/plain": [
       "RandomForestClassifier(max_depth=10, min_samples_leaf=8, n_estimators=300)"
      ]
     },
     "execution_count": 111,
     "metadata": {},
     "output_type": "execute_result"
    }
   ],
   "source": [
    "rf_clf1.fit(X_train, y_train)"
   ]
  },
  {
   "cell_type": "code",
   "execution_count": 112,
   "id": "a0fe7984",
   "metadata": {},
   "outputs": [],
   "source": [
    "pred=rf_clf1.predict(X_test)"
   ]
  },
  {
   "cell_type": "code",
   "execution_count": 113,
   "id": "66cc810d",
   "metadata": {},
   "outputs": [
    {
     "name": "stdout",
     "output_type": "stream",
     "text": [
      "예측 정확도: 0.7169\n"
     ]
    }
   ],
   "source": [
    "print('예측 정확도: {0:.4f}'.format(accuracy_score(y_test, pred)))"
   ]
  },
  {
   "cell_type": "code",
   "execution_count": 114,
   "id": "0a21ea2d",
   "metadata": {},
   "outputs": [],
   "source": [
    "import matplotlib.pyplot as plt\n",
    "import seaborn as sns"
   ]
  },
  {
   "cell_type": "code",
   "execution_count": 116,
   "id": "ae8f7a25",
   "metadata": {},
   "outputs": [],
   "source": [
    "%matplotlib inline"
   ]
  },
  {
   "cell_type": "code",
   "execution_count": 117,
   "id": "eef5caad",
   "metadata": {},
   "outputs": [],
   "source": [
    "ftr_importances_values = rf_clf1.feature_importances_"
   ]
  },
  {
   "cell_type": "code",
   "execution_count": 118,
   "id": "fc64bb7e",
   "metadata": {},
   "outputs": [],
   "source": [
    "ftr_importances = pd.Series(ftr_importances_values, index=X_train.columns)"
   ]
  },
  {
   "cell_type": "code",
   "execution_count": 119,
   "id": "57c0fbf5",
   "metadata": {},
   "outputs": [],
   "source": [
    "ftr_top20 = ftr_importances.sort_values(ascending=False)[:20]"
   ]
  },
  {
   "cell_type": "code",
   "execution_count": 126,
   "id": "af886afd",
   "metadata": {},
   "outputs": [
    {
     "data": {
      "image/png": "[encoded data removed]",
      "text/plain": [
       "<Figure size 576x432 with 1 Axes>"
      ]
     },
     "metadata": {
      "needs_background": "light"
     },
     "output_type": "display_data"
    }
   ],
   "source": [
    "plt.figure(figsize=(8,6))\n",
    "plt.title('Feature importances Top 20')\n",
    "sns.barplot(x=ftr_top20, y=ftr_top20.index)\n",
    "plt.show()"
   ]
  },
  {
   "cell_type": "code",
   "execution_count": null,
   "id": "f9d91c8d",
   "metadata": {},
   "outputs": [],
   "source": []
  }
 ],
 "metadata": {
  "kernelspec": {
   "display_name": "Python 3 (ipykernel)",
   "language": "python",
   "name": "python3"
  },
  "language_info": {
   "codemirror_mode": {
    "name": "ipython",
    "version": 3
   },
   "file_extension": ".py",
   "mimetype": "text/x-python",
   "name": "python",
   "nbconvert_exporter": "python",
   "pygments_lexer": "ipython3",
   "version": "3.9.12"
  }
 },
 "nbformat": 4,
 "nbformat_minor": 5
}
