{
 "cells": [
  {
   "cell_type": "markdown",
   "id": "b2d8463d",
   "metadata": {},
   "source": [
    "# Softmax"
   ]
  },
  {
   "cell_type": "code",
   "execution_count": 1,
   "id": "e5d25697",
   "metadata": {},
   "outputs": [],
   "source": [
    "import numpy as np\n",
    "import matplotlib.pyplot as plt\n",
    "import pandas as pd"
   ]
  },
  {
   "cell_type": "code",
   "execution_count": 2,
   "id": "314c5ae9",
   "metadata": {},
   "outputs": [],
   "source": [
    "import warnings \n",
    "warnings.filterwarnings('ignore')"
   ]
  },
  {
   "cell_type": "markdown",
   "id": "d3cb998c",
   "metadata": {},
   "source": [
    "### data 로드"
   ]
  },
  {
   "cell_type": "code",
   "execution_count": 3,
   "id": "41a2616f",
   "metadata": {},
   "outputs": [],
   "source": [
    "delivery_data = pd.read_csv('delivery_data.csv', encoding='utf-8')"
   ]
  },
  {
   "cell_type": "code",
   "execution_count": 4,
   "id": "08b335b3",
   "metadata": {},
   "outputs": [
    {
     "data": {
      "text/html": [
       "<div>\n",
       "<style scoped>\n",
       "    .dataframe tbody tr th:only-of-type {\n",
       "        vertical-align: middle;\n",
       "    }\n",
       "\n",
       "    .dataframe tbody tr th {\n",
       "        vertical-align: top;\n",
       "    }\n",
       "\n",
       "    .dataframe thead th {\n",
       "        text-align: right;\n",
       "    }\n",
       "</style>\n",
       "<table border=\"1\" class=\"dataframe\">\n",
       "  <thead>\n",
       "    <tr style=\"text-align: right;\">\n",
       "      <th></th>\n",
       "      <th>datetime</th>\n",
       "      <th>Day of the week</th>\n",
       "      <th>city</th>\n",
       "      <th>population</th>\n",
       "      <th>hour</th>\n",
       "      <th>rain</th>\n",
       "      <th>dust</th>\n",
       "      <th>humidity</th>\n",
       "      <th>precipitation</th>\n",
       "      <th>temp</th>\n",
       "      <th>windspeed</th>\n",
       "      <th>holiday</th>\n",
       "      <th>sectors</th>\n",
       "    </tr>\n",
       "  </thead>\n",
       "  <tbody>\n",
       "    <tr>\n",
       "      <th>0</th>\n",
       "      <td>2020-01-01</td>\n",
       "      <td>Wednesday</td>\n",
       "      <td>41281</td>\n",
       "      <td>467673</td>\n",
       "      <td>0</td>\n",
       "      <td>0</td>\n",
       "      <td>NaN</td>\n",
       "      <td>75</td>\n",
       "      <td>0.0</td>\n",
       "      <td>-2.7</td>\n",
       "      <td>0.9</td>\n",
       "      <td>1</td>\n",
       "      <td>6</td>\n",
       "    </tr>\n",
       "    <tr>\n",
       "      <th>1</th>\n",
       "      <td>2020-01-01</td>\n",
       "      <td>Wednesday</td>\n",
       "      <td>41281</td>\n",
       "      <td>467673</td>\n",
       "      <td>1</td>\n",
       "      <td>0</td>\n",
       "      <td>NaN</td>\n",
       "      <td>67</td>\n",
       "      <td>0.0</td>\n",
       "      <td>-1.8</td>\n",
       "      <td>1.2</td>\n",
       "      <td>1</td>\n",
       "      <td>6</td>\n",
       "    </tr>\n",
       "    <tr>\n",
       "      <th>2</th>\n",
       "      <td>2020-01-01</td>\n",
       "      <td>Wednesday</td>\n",
       "      <td>41281</td>\n",
       "      <td>467673</td>\n",
       "      <td>11</td>\n",
       "      <td>0</td>\n",
       "      <td>NaN</td>\n",
       "      <td>72</td>\n",
       "      <td>0.0</td>\n",
       "      <td>0.6</td>\n",
       "      <td>1.0</td>\n",
       "      <td>1</td>\n",
       "      <td>1</td>\n",
       "    </tr>\n",
       "    <tr>\n",
       "      <th>3</th>\n",
       "      <td>2020-01-01</td>\n",
       "      <td>Wednesday</td>\n",
       "      <td>41281</td>\n",
       "      <td>467673</td>\n",
       "      <td>12</td>\n",
       "      <td>0</td>\n",
       "      <td>NaN</td>\n",
       "      <td>74</td>\n",
       "      <td>0.0</td>\n",
       "      <td>0.2</td>\n",
       "      <td>0.7</td>\n",
       "      <td>1</td>\n",
       "      <td>1</td>\n",
       "    </tr>\n",
       "    <tr>\n",
       "      <th>4</th>\n",
       "      <td>2020-01-01</td>\n",
       "      <td>Wednesday</td>\n",
       "      <td>41281</td>\n",
       "      <td>467673</td>\n",
       "      <td>13</td>\n",
       "      <td>0</td>\n",
       "      <td>NaN</td>\n",
       "      <td>73</td>\n",
       "      <td>0.0</td>\n",
       "      <td>0.0</td>\n",
       "      <td>0.9</td>\n",
       "      <td>1</td>\n",
       "      <td>1</td>\n",
       "    </tr>\n",
       "    <tr>\n",
       "      <th>...</th>\n",
       "      <td>...</td>\n",
       "      <td>...</td>\n",
       "      <td>...</td>\n",
       "      <td>...</td>\n",
       "      <td>...</td>\n",
       "      <td>...</td>\n",
       "      <td>...</td>\n",
       "      <td>...</td>\n",
       "      <td>...</td>\n",
       "      <td>...</td>\n",
       "      <td>...</td>\n",
       "      <td>...</td>\n",
       "      <td>...</td>\n",
       "    </tr>\n",
       "    <tr>\n",
       "      <th>100212</th>\n",
       "      <td>2020-06-14</td>\n",
       "      <td>Sunday</td>\n",
       "      <td>11290</td>\n",
       "      <td>441812</td>\n",
       "      <td>19</td>\n",
       "      <td>0</td>\n",
       "      <td>37.0</td>\n",
       "      <td>81</td>\n",
       "      <td>0.0</td>\n",
       "      <td>18.7</td>\n",
       "      <td>1.0</td>\n",
       "      <td>0</td>\n",
       "      <td>3</td>\n",
       "    </tr>\n",
       "    <tr>\n",
       "      <th>100213</th>\n",
       "      <td>2020-06-19</td>\n",
       "      <td>Friday</td>\n",
       "      <td>11290</td>\n",
       "      <td>441812</td>\n",
       "      <td>11</td>\n",
       "      <td>0</td>\n",
       "      <td>25.0</td>\n",
       "      <td>62</td>\n",
       "      <td>0.0</td>\n",
       "      <td>24.2</td>\n",
       "      <td>2.6</td>\n",
       "      <td>0</td>\n",
       "      <td>3</td>\n",
       "    </tr>\n",
       "    <tr>\n",
       "      <th>100214</th>\n",
       "      <td>2020-06-20</td>\n",
       "      <td>Saturday</td>\n",
       "      <td>11290</td>\n",
       "      <td>441812</td>\n",
       "      <td>21</td>\n",
       "      <td>0</td>\n",
       "      <td>39.0</td>\n",
       "      <td>65</td>\n",
       "      <td>0.0</td>\n",
       "      <td>22.8</td>\n",
       "      <td>1.3</td>\n",
       "      <td>0</td>\n",
       "      <td>3</td>\n",
       "    </tr>\n",
       "    <tr>\n",
       "      <th>100215</th>\n",
       "      <td>2020-06-25</td>\n",
       "      <td>Thursday</td>\n",
       "      <td>11290</td>\n",
       "      <td>441812</td>\n",
       "      <td>11</td>\n",
       "      <td>1</td>\n",
       "      <td>15.0</td>\n",
       "      <td>88</td>\n",
       "      <td>0.0</td>\n",
       "      <td>20.6</td>\n",
       "      <td>1.5</td>\n",
       "      <td>0</td>\n",
       "      <td>3</td>\n",
       "    </tr>\n",
       "    <tr>\n",
       "      <th>100216</th>\n",
       "      <td>2020-06-25</td>\n",
       "      <td>Thursday</td>\n",
       "      <td>11290</td>\n",
       "      <td>441812</td>\n",
       "      <td>13</td>\n",
       "      <td>0</td>\n",
       "      <td>15.0</td>\n",
       "      <td>90</td>\n",
       "      <td>0.5</td>\n",
       "      <td>20.3</td>\n",
       "      <td>1.3</td>\n",
       "      <td>0</td>\n",
       "      <td>3</td>\n",
       "    </tr>\n",
       "  </tbody>\n",
       "</table>\n",
       "<p>100217 rows × 13 columns</p>\n",
       "</div>"
      ],
      "text/plain": [
       "          datetime Day of the week   city  population  hour  rain  dust  \\\n",
       "0       2020-01-01       Wednesday  41281      467673     0     0   NaN   \n",
       "1       2020-01-01       Wednesday  41281      467673     1     0   NaN   \n",
       "2       2020-01-01       Wednesday  41281      467673    11     0   NaN   \n",
       "3       2020-01-01       Wednesday  41281      467673    12     0   NaN   \n",
       "4       2020-01-01       Wednesday  41281      467673    13     0   NaN   \n",
       "...            ...             ...    ...         ...   ...   ...   ...   \n",
       "100212  2020-06-14          Sunday  11290      441812    19     0  37.0   \n",
       "100213  2020-06-19          Friday  11290      441812    11     0  25.0   \n",
       "100214  2020-06-20        Saturday  11290      441812    21     0  39.0   \n",
       "100215  2020-06-25        Thursday  11290      441812    11     1  15.0   \n",
       "100216  2020-06-25        Thursday  11290      441812    13     0  15.0   \n",
       "\n",
       "        humidity  precipitation  temp  windspeed  holiday  sectors  \n",
       "0             75            0.0  -2.7        0.9        1        6  \n",
       "1             67            0.0  -1.8        1.2        1        6  \n",
       "2             72            0.0   0.6        1.0        1        1  \n",
       "3             74            0.0   0.2        0.7        1        1  \n",
       "4             73            0.0   0.0        0.9        1        1  \n",
       "...          ...            ...   ...        ...      ...      ...  \n",
       "100212        81            0.0  18.7        1.0        0        3  \n",
       "100213        62            0.0  24.2        2.6        0        3  \n",
       "100214        65            0.0  22.8        1.3        0        3  \n",
       "100215        88            0.0  20.6        1.5        0        3  \n",
       "100216        90            0.5  20.3        1.3        0        3  \n",
       "\n",
       "[100217 rows x 13 columns]"
      ]
     },
     "execution_count": 4,
     "metadata": {},
     "output_type": "execute_result"
    }
   ],
   "source": [
    "delivery_data"
   ]
  },
  {
   "cell_type": "code",
   "execution_count": 5,
   "id": "4fd88e7e",
   "metadata": {},
   "outputs": [
    {
     "data": {
      "text/plain": [
       "(100217, 13)"
      ]
     },
     "execution_count": 5,
     "metadata": {},
     "output_type": "execute_result"
    }
   ],
   "source": [
    "delivery_data.shape"
   ]
  },
  {
   "cell_type": "code",
   "execution_count": 6,
   "id": "2e9f49a2",
   "metadata": {},
   "outputs": [
    {
     "name": "stdout",
     "output_type": "stream",
     "text": [
      "<class 'pandas.core.frame.DataFrame'>\n",
      "RangeIndex: 100217 entries, 0 to 100216\n",
      "Data columns (total 13 columns):\n",
      " #   Column           Non-Null Count   Dtype  \n",
      "---  ------           --------------   -----  \n",
      " 0   datetime         100217 non-null  object \n",
      " 1   Day of the week  100217 non-null  object \n",
      " 2   city             100217 non-null  int64  \n",
      " 3   population       100217 non-null  int64  \n",
      " 4   hour             100217 non-null  int64  \n",
      " 5   rain             100217 non-null  int64  \n",
      " 6   dust             31671 non-null   float64\n",
      " 7   humidity         100217 non-null  int64  \n",
      " 8   precipitation    100217 non-null  float64\n",
      " 9   temp             100217 non-null  float64\n",
      " 10  windspeed        100217 non-null  float64\n",
      " 11  holiday          100217 non-null  int64  \n",
      " 12  sectors          100217 non-null  int64  \n",
      "dtypes: float64(4), int64(7), object(2)\n",
      "memory usage: 9.9+ MB\n"
     ]
    }
   ],
   "source": [
    "delivery_data.info()"
   ]
  },
  {
   "cell_type": "markdown",
   "id": "f1c330f0",
   "metadata": {},
   "source": [
    "### 날짜 년,월,일 나누기 (update)"
   ]
  },
  {
   "cell_type": "code",
   "execution_count": 7,
   "id": "4816098d",
   "metadata": {},
   "outputs": [],
   "source": [
    "delivery_data['datetime'] = delivery_data['datetime'].apply(pd.to_datetime)\n",
    "delivery_data['year'] = delivery_data['datetime'].apply(lambda x : x.year)\n",
    "delivery_data['month'] = delivery_data['datetime'].apply(lambda x : x.month)\n",
    "delivery_data['day'] = delivery_data['datetime'].apply(lambda x : x.day)\n",
    "delivery_data = delivery_data.loc[:,['year','month','day','Day of the week','city','population','hour', 'rain','dust','humidity','precipitation','temp','windspeed','holiday','sectors']]"
   ]
  },
  {
   "cell_type": "markdown",
   "id": "907384d6",
   "metadata": {},
   "source": [
    "### 요일 숫자형 전환 (update)\n",
    "예시 Monday:1 ~ Sunday:7"
   ]
  },
  {
   "cell_type": "code",
   "execution_count": 8,
   "id": "8b849452",
   "metadata": {},
   "outputs": [],
   "source": [
    "label_delivery_data = delivery_data.copy()\n",
    "label_length = len(label_delivery_data)"
   ]
  },
  {
   "cell_type": "code",
   "execution_count": 9,
   "id": "0bbfd2a4",
   "metadata": {},
   "outputs": [
    {
     "name": "stdout",
     "output_type": "stream",
     "text": [
      "Wednesday\n"
     ]
    }
   ],
   "source": [
    "print(label_delivery_data['Day of the week'][0])"
   ]
  },
  {
   "cell_type": "code",
   "execution_count": 15,
   "id": "ceaa0fe8",
   "metadata": {},
   "outputs": [],
   "source": [
    "for i in range(label_length):\n",
    "    if label_delivery_data['Day of the week'][i] == 'Monday':\n",
    "        label_delivery_data['Day of the week'][i] = 1\n",
    "    elif label_delivery_data['Day of the week'][i] == 'Tuesday':\n",
    "        label_delivery_data['Day of the week'][i] = 2\n",
    "    elif label_delivery_data['Day of the week'][i] == 'Wednesday':\n",
    "        label_delivery_data['Day of the week'][i] = 3\n",
    "    elif label_delivery_data['Day of the week'][i] == 'Thursday':\n",
    "        label_delivery_data['Day of the week'][i] = 4\n",
    "    elif label_delivery_data['Day of the week'][i] == 'Friday':\n",
    "        label_delivery_data['Day of the week'][i] = 5\n",
    "    elif label_delivery_data['Day of the week'][i] == 'Saturday':\n",
    "        label_delivery_data['Day of the week'][i] = 6\n",
    "    elif label_delivery_data['Day of the week'][i] == 'Sunday':\n",
    "        label_delivery_data['Day of the week'][i] = 7"
   ]
  },
  {
   "cell_type": "code",
   "execution_count": 16,
   "id": "1e9ae5b2",
   "metadata": {},
   "outputs": [],
   "source": [
    "### 습도값 100인 행을 제거(update)\n",
    "label_delivery_data = label_delivery_data[label_delivery_data.humidity<100]"
   ]
  },
  {
   "cell_type": "code",
   "execution_count": 17,
   "id": "dc4e4a19",
   "metadata": {},
   "outputs": [],
   "source": [
    "### 바람 세기를 로그 변환(update)\n",
    "label_delivery_data['windspeed'] = np.log1p(label_delivery_data['windspeed'])\n",
    "\n",
    "# 습도 log 변환 시 생기는 inf -inf 값을 nan값으로 변경\n",
    "label_delivery_data['windspeed'] = label_delivery_data['windspeed'].replace([np.inf, -np.inf], np.nan)\n",
    "\n",
    "# nan 값이 들어가 있는 행 삭제\n",
    "label_delivery_data = label_delivery_data.dropna()"
   ]
  },
  {
   "cell_type": "code",
   "execution_count": 18,
   "id": "2585a4c0",
   "metadata": {},
   "outputs": [
    {
     "data": {
      "text/html": [
       "<div>\n",
       "<style scoped>\n",
       "    .dataframe tbody tr th:only-of-type {\n",
       "        vertical-align: middle;\n",
       "    }\n",
       "\n",
       "    .dataframe tbody tr th {\n",
       "        vertical-align: top;\n",
       "    }\n",
       "\n",
       "    .dataframe thead th {\n",
       "        text-align: right;\n",
       "    }\n",
       "</style>\n",
       "<table border=\"1\" class=\"dataframe\">\n",
       "  <thead>\n",
       "    <tr style=\"text-align: right;\">\n",
       "      <th></th>\n",
       "      <th>year</th>\n",
       "      <th>month</th>\n",
       "      <th>day</th>\n",
       "      <th>Day of the week</th>\n",
       "      <th>city</th>\n",
       "      <th>population</th>\n",
       "      <th>hour</th>\n",
       "      <th>rain</th>\n",
       "      <th>dust</th>\n",
       "      <th>humidity</th>\n",
       "      <th>precipitation</th>\n",
       "      <th>temp</th>\n",
       "      <th>windspeed</th>\n",
       "      <th>holiday</th>\n",
       "      <th>sectors</th>\n",
       "    </tr>\n",
       "  </thead>\n",
       "  <tbody>\n",
       "    <tr>\n",
       "      <th>10599</th>\n",
       "      <td>2020</td>\n",
       "      <td>1</td>\n",
       "      <td>1</td>\n",
       "      <td>3</td>\n",
       "      <td>11305</td>\n",
       "      <td>313705</td>\n",
       "      <td>0</td>\n",
       "      <td>0</td>\n",
       "      <td>40.0</td>\n",
       "      <td>84</td>\n",
       "      <td>0.0</td>\n",
       "      <td>-4.3</td>\n",
       "      <td>0.470004</td>\n",
       "      <td>1</td>\n",
       "      <td>6</td>\n",
       "    </tr>\n",
       "    <tr>\n",
       "      <th>10600</th>\n",
       "      <td>2020</td>\n",
       "      <td>1</td>\n",
       "      <td>1</td>\n",
       "      <td>3</td>\n",
       "      <td>11305</td>\n",
       "      <td>313705</td>\n",
       "      <td>10</td>\n",
       "      <td>0</td>\n",
       "      <td>40.0</td>\n",
       "      <td>72</td>\n",
       "      <td>0.0</td>\n",
       "      <td>0.2</td>\n",
       "      <td>0.693147</td>\n",
       "      <td>1</td>\n",
       "      <td>2</td>\n",
       "    </tr>\n",
       "    <tr>\n",
       "      <th>10601</th>\n",
       "      <td>2020</td>\n",
       "      <td>1</td>\n",
       "      <td>1</td>\n",
       "      <td>3</td>\n",
       "      <td>11305</td>\n",
       "      <td>313705</td>\n",
       "      <td>11</td>\n",
       "      <td>0</td>\n",
       "      <td>40.0</td>\n",
       "      <td>73</td>\n",
       "      <td>0.0</td>\n",
       "      <td>0.0</td>\n",
       "      <td>0.336472</td>\n",
       "      <td>1</td>\n",
       "      <td>2</td>\n",
       "    </tr>\n",
       "    <tr>\n",
       "      <th>10602</th>\n",
       "      <td>2020</td>\n",
       "      <td>1</td>\n",
       "      <td>1</td>\n",
       "      <td>3</td>\n",
       "      <td>11305</td>\n",
       "      <td>313705</td>\n",
       "      <td>12</td>\n",
       "      <td>0</td>\n",
       "      <td>40.0</td>\n",
       "      <td>74</td>\n",
       "      <td>0.0</td>\n",
       "      <td>-0.2</td>\n",
       "      <td>0.530628</td>\n",
       "      <td>1</td>\n",
       "      <td>2</td>\n",
       "    </tr>\n",
       "    <tr>\n",
       "      <th>10603</th>\n",
       "      <td>2020</td>\n",
       "      <td>1</td>\n",
       "      <td>1</td>\n",
       "      <td>3</td>\n",
       "      <td>11305</td>\n",
       "      <td>313705</td>\n",
       "      <td>13</td>\n",
       "      <td>0</td>\n",
       "      <td>40.0</td>\n",
       "      <td>75</td>\n",
       "      <td>0.0</td>\n",
       "      <td>0.0</td>\n",
       "      <td>0.405465</td>\n",
       "      <td>1</td>\n",
       "      <td>7</td>\n",
       "    </tr>\n",
       "    <tr>\n",
       "      <th>...</th>\n",
       "      <td>...</td>\n",
       "      <td>...</td>\n",
       "      <td>...</td>\n",
       "      <td>...</td>\n",
       "      <td>...</td>\n",
       "      <td>...</td>\n",
       "      <td>...</td>\n",
       "      <td>...</td>\n",
       "      <td>...</td>\n",
       "      <td>...</td>\n",
       "      <td>...</td>\n",
       "      <td>...</td>\n",
       "      <td>...</td>\n",
       "      <td>...</td>\n",
       "      <td>...</td>\n",
       "    </tr>\n",
       "    <tr>\n",
       "      <th>100212</th>\n",
       "      <td>2020</td>\n",
       "      <td>6</td>\n",
       "      <td>14</td>\n",
       "      <td>7</td>\n",
       "      <td>11290</td>\n",
       "      <td>441812</td>\n",
       "      <td>19</td>\n",
       "      <td>0</td>\n",
       "      <td>37.0</td>\n",
       "      <td>81</td>\n",
       "      <td>0.0</td>\n",
       "      <td>18.7</td>\n",
       "      <td>0.693147</td>\n",
       "      <td>0</td>\n",
       "      <td>3</td>\n",
       "    </tr>\n",
       "    <tr>\n",
       "      <th>100213</th>\n",
       "      <td>2020</td>\n",
       "      <td>6</td>\n",
       "      <td>19</td>\n",
       "      <td>5</td>\n",
       "      <td>11290</td>\n",
       "      <td>441812</td>\n",
       "      <td>11</td>\n",
       "      <td>0</td>\n",
       "      <td>25.0</td>\n",
       "      <td>62</td>\n",
       "      <td>0.0</td>\n",
       "      <td>24.2</td>\n",
       "      <td>1.280934</td>\n",
       "      <td>0</td>\n",
       "      <td>3</td>\n",
       "    </tr>\n",
       "    <tr>\n",
       "      <th>100214</th>\n",
       "      <td>2020</td>\n",
       "      <td>6</td>\n",
       "      <td>20</td>\n",
       "      <td>6</td>\n",
       "      <td>11290</td>\n",
       "      <td>441812</td>\n",
       "      <td>21</td>\n",
       "      <td>0</td>\n",
       "      <td>39.0</td>\n",
       "      <td>65</td>\n",
       "      <td>0.0</td>\n",
       "      <td>22.8</td>\n",
       "      <td>0.832909</td>\n",
       "      <td>0</td>\n",
       "      <td>3</td>\n",
       "    </tr>\n",
       "    <tr>\n",
       "      <th>100215</th>\n",
       "      <td>2020</td>\n",
       "      <td>6</td>\n",
       "      <td>25</td>\n",
       "      <td>4</td>\n",
       "      <td>11290</td>\n",
       "      <td>441812</td>\n",
       "      <td>11</td>\n",
       "      <td>1</td>\n",
       "      <td>15.0</td>\n",
       "      <td>88</td>\n",
       "      <td>0.0</td>\n",
       "      <td>20.6</td>\n",
       "      <td>0.916291</td>\n",
       "      <td>0</td>\n",
       "      <td>3</td>\n",
       "    </tr>\n",
       "    <tr>\n",
       "      <th>100216</th>\n",
       "      <td>2020</td>\n",
       "      <td>6</td>\n",
       "      <td>25</td>\n",
       "      <td>4</td>\n",
       "      <td>11290</td>\n",
       "      <td>441812</td>\n",
       "      <td>13</td>\n",
       "      <td>0</td>\n",
       "      <td>15.0</td>\n",
       "      <td>90</td>\n",
       "      <td>0.5</td>\n",
       "      <td>20.3</td>\n",
       "      <td>0.832909</td>\n",
       "      <td>0</td>\n",
       "      <td>3</td>\n",
       "    </tr>\n",
       "  </tbody>\n",
       "</table>\n",
       "<p>31013 rows × 15 columns</p>\n",
       "</div>"
      ],
      "text/plain": [
       "        year  month  day Day of the week   city  population  hour  rain  dust  \\\n",
       "10599   2020      1    1               3  11305      313705     0     0  40.0   \n",
       "10600   2020      1    1               3  11305      313705    10     0  40.0   \n",
       "10601   2020      1    1               3  11305      313705    11     0  40.0   \n",
       "10602   2020      1    1               3  11305      313705    12     0  40.0   \n",
       "10603   2020      1    1               3  11305      313705    13     0  40.0   \n",
       "...      ...    ...  ...             ...    ...         ...   ...   ...   ...   \n",
       "100212  2020      6   14               7  11290      441812    19     0  37.0   \n",
       "100213  2020      6   19               5  11290      441812    11     0  25.0   \n",
       "100214  2020      6   20               6  11290      441812    21     0  39.0   \n",
       "100215  2020      6   25               4  11290      441812    11     1  15.0   \n",
       "100216  2020      6   25               4  11290      441812    13     0  15.0   \n",
       "\n",
       "        humidity  precipitation  temp  windspeed  holiday  sectors  \n",
       "10599         84            0.0  -4.3   0.470004        1        6  \n",
       "10600         72            0.0   0.2   0.693147        1        2  \n",
       "10601         73            0.0   0.0   0.336472        1        2  \n",
       "10602         74            0.0  -0.2   0.530628        1        2  \n",
       "10603         75            0.0   0.0   0.405465        1        7  \n",
       "...          ...            ...   ...        ...      ...      ...  \n",
       "100212        81            0.0  18.7   0.693147        0        3  \n",
       "100213        62            0.0  24.2   1.280934        0        3  \n",
       "100214        65            0.0  22.8   0.832909        0        3  \n",
       "100215        88            0.0  20.6   0.916291        0        3  \n",
       "100216        90            0.5  20.3   0.832909        0        3  \n",
       "\n",
       "[31013 rows x 15 columns]"
      ]
     },
     "execution_count": 18,
     "metadata": {},
     "output_type": "execute_result"
    }
   ],
   "source": [
    "label_delivery_data"
   ]
  },
  {
   "cell_type": "code",
   "execution_count": 19,
   "id": "bef47103",
   "metadata": {},
   "outputs": [],
   "source": [
    "# 특성 \n",
    "X = label_delivery_data[['year', 'month', 'day', 'Day of the week', 'city', 'population', 'hour', 'rain', 'precipitation', 'temp', 'windspeed', 'holiday']]\n",
    "# target\n",
    "y = label_delivery_data['sectors'] "
   ]
  },
  {
   "cell_type": "markdown",
   "id": "89c54b87",
   "metadata": {},
   "source": [
    "### train / test 분리 (update) shuffle=True"
   ]
  },
  {
   "cell_type": "code",
   "execution_count": 13,
   "id": "39a89a5d",
   "metadata": {},
   "outputs": [],
   "source": [
    "# 기존 방식\n",
    "# 데이터 분할(train, test)\n",
    "# from sklearn.model_selection import train_test_split\n",
    "# train, test 70:30 나누기\n",
    "# X_train, X_test, y_train, y_test = train_test_split(X, y, test_size = 0.2)"
   ]
  },
  {
   "cell_type": "code",
   "execution_count": 20,
   "id": "e285537f",
   "metadata": {},
   "outputs": [],
   "source": [
    "from sklearn.model_selection import train_test_split\n",
    "X_train, X_test, y_train, y_test = train_test_split(X, y, test_size=0.2,shuffle=True, stratify = y, random_state=42)"
   ]
  },
  {
   "cell_type": "code",
   "execution_count": null,
   "id": "ca1e2957",
   "metadata": {},
   "outputs": [],
   "source": [
    "# 과거_220919\n",
    "# from sklearn.linear_model import LogisticRegression\n",
    "# softmax_reg = LogisticRegression(multi_class=\"multinomial\", solver=\"lbfgs\", C=10)\n",
    "# softmax_reg.fit(X_train, y_train)"
   ]
  },
  {
   "cell_type": "code",
   "execution_count": 21,
   "id": "7272eaad",
   "metadata": {},
   "outputs": [
    {
     "data": {
      "text/plain": [
       "LogisticRegression(multi_class='multinomial', random_state=42)"
      ]
     },
     "execution_count": 21,
     "metadata": {},
     "output_type": "execute_result"
    }
   ],
   "source": [
    "from sklearn.linear_model import LogisticRegression\n",
    "softmax_reg = LogisticRegression(multi_class='multinomial', random_state=42)\n",
    "softmax_reg.fit(X_train, y_train)"
   ]
  },
  {
   "cell_type": "markdown",
   "id": "aa187a52",
   "metadata": {},
   "source": [
    "## 성능 평가 (predefined values)\n",
    "위에서 학습된 모델을 기준으로 test set 데이터에 대하여 target을 예측해보고\n",
    "실제 class와 일치하는 비율인 정확도를 통하여 성능 평가 진행"
   ]
  },
  {
   "cell_type": "markdown",
   "id": "80adbc5e",
   "metadata": {},
   "source": [
    "### accuracy"
   ]
  },
  {
   "cell_type": "code",
   "execution_count": 22,
   "id": "14f360a3",
   "metadata": {},
   "outputs": [
    {
     "data": {
      "text/plain": [
       "0.3324197968724811"
      ]
     },
     "execution_count": 22,
     "metadata": {},
     "output_type": "execute_result"
    }
   ],
   "source": [
    "from sklearn.metrics import accuracy_score\n",
    "\n",
    "y_pred = softmax_reg.predict(X_test)\n",
    "\n",
    "# 정확도 측정\n",
    "accuracy_score(y_pred, y_test)"
   ]
  },
  {
   "cell_type": "markdown",
   "id": "85a8ce49",
   "metadata": {},
   "source": [
    "### f1_weighted"
   ]
  },
  {
   "cell_type": "code",
   "execution_count": 25,
   "id": "bcfcc8bb",
   "metadata": {},
   "outputs": [
    {
     "data": {
      "text/plain": [
       "0.17712218512624"
      ]
     },
     "execution_count": 25,
     "metadata": {},
     "output_type": "execute_result"
    }
   ],
   "source": [
    "from sklearn.metrics import f1_score\n",
    "y_pred = softmax_reg.predict(X_test)\n",
    "f1_score(y_test, y_pred, average='weighted')"
   ]
  },
  {
   "cell_type": "code",
   "execution_count": null,
   "id": "2a698c9e",
   "metadata": {},
   "outputs": [],
   "source": []
  }
 ],
 "metadata": {
  "kernelspec": {
   "display_name": "Python 3 (ipykernel)",
   "language": "python",
   "name": "python3"
  },
  "language_info": {
   "codemirror_mode": {
    "name": "ipython",
    "version": 3
   },
   "file_extension": ".py",
   "mimetype": "text/x-python",
   "name": "python",
   "nbconvert_exporter": "python",
   "pygments_lexer": "ipython3",
   "version": "3.9.12"
  }
 },
 "nbformat": 4,
 "nbformat_minor": 5
}
