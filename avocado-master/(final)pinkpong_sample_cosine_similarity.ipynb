{
 "cells": [
  {
   "cell_type": "code",
   "execution_count": 19,
   "id": "318f6fd3",
   "metadata": {},
   "outputs": [],
   "source": [
    "import cv2\n",
    "import numpy as np\n",
    "import os\n",
    "import mediapipe as mp\n",
    "import pandas as pd\n",
    "from sklearn.preprocessing import normalize"
   ]
  },
  {
   "cell_type": "code",
   "execution_count": 2,
   "id": "fbd2c46b",
   "metadata": {},
   "outputs": [],
   "source": [
    "if not os.path.exists('./cos_sample_image'):\n",
    "    os.mkdir('./cos_sample_image')"
   ]
  },
  {
   "cell_type": "code",
   "execution_count": 3,
   "id": "3a315beb",
   "metadata": {},
   "outputs": [],
   "source": [
    "mp_pose = mp.solutions.pose\n",
    "mp_drawing = mp.solutions.drawing_utils"
   ]
  },
  {
   "cell_type": "markdown",
   "id": "a0da7ec9",
   "metadata": {},
   "source": [
    "# train skeleton extract"
   ]
  },
  {
   "cell_type": "code",
   "execution_count": 4,
   "id": "cf9eb1e4",
   "metadata": {},
   "outputs": [
    {
     "name": "stdout",
     "output_type": "stream",
     "text": [
      "height : 720.0\n",
      "width : 640.0\n",
      "fps : 29.97002997002997\n"
     ]
    }
   ],
   "source": [
    "# create dataframe base\n",
    "lv1 = [x.name for x in list(mp_pose.PoseLandmark)]\n",
    "lv2 = ['x', 'y', 'z', 'v']\n",
    "columns = pd.MultiIndex.from_product([lv1, lv2]).insert(0, ('playtime', 'sec'))\n",
    "df = pd.DataFrame(columns=columns)\n",
    "\n",
    "cap = cv2.VideoCapture(\"./cos_sample_train.mp4\")\n",
    "\n",
    "# video info\n",
    "fps = cap.get(cv2.CAP_PROP_FPS)\n",
    "delay = int(1000/fps)\n",
    "print(\"height :\", cap.get(cv2.CAP_PROP_FRAME_HEIGHT))\n",
    "print(\"width :\", cap.get(cv2.CAP_PROP_FRAME_WIDTH))\n",
    "print(\"fps :\", fps)\n",
    "\n",
    "#cnt = -1\n",
    "\n",
    "# make mediapipe pose model\n",
    "with mp_pose.Pose(static_image_mode=False,\n",
    "                    model_complexity=1,\n",
    "                    smooth_landmarks=True,\n",
    "                    enable_segmentation=False,\n",
    "                    smooth_segmentation=True,\n",
    "                    min_detection_confidence=0.5,\n",
    "                    min_tracking_confidence=0.5,) as pose:\n",
    "    \n",
    "    while cap.isOpened():\n",
    "        \n",
    "        ret, frame = cap.read()\n",
    "        \n",
    "        if not ret:\n",
    "            break\n",
    "        \n",
    "        #playtime = round(cap.get(cv2.CAP_PROP_POS_MSEC)/1000, 2)\n",
    "        \n",
    "        # make skeleton image\n",
    "        img = cv2.cvtColor(frame, cv2.COLOR_BGR2RGB)\n",
    "        img.flags.writeable = False\n",
    "        results = pose.process(img)\n",
    "        img.flags.writeable = True\n",
    "        img = cv2.cvtColor(img, cv2.COLOR_RGB2BGR)\n",
    "\n",
    "        try:\n",
    "            landmarks = results.pose_landmarks.landmark\n",
    "            #print(landmarks)\n",
    "        except:\n",
    "            pass\n",
    "\n",
    "        #mp_drawing.draw_landmarks(img, results.pose_landmarks, mp_pose.POSE_CONNECTIONS)\n",
    "        \n",
    "        #cv2.imshow(\"test\", img)\n",
    "        \n",
    "        #cnt += 1\n",
    "        \n",
    "        # save image & skeleton data\n",
    "        #if cv2.waitKey(delay) & 0xFF == ord('c'):\n",
    "        #if cnt % 30 == 0:\n",
    "        cv2.imwrite(f\"./cos_sample_image/{cap.get(cv2.CAP_PROP_POS_FRAMES)}_train.jpg\", img) #frame : 골격x / img : 골격o\n",
    "        xyzv = np.array([[res.x, res.y, res.z, res.visibility]for res in results.pose_landmarks.landmark]).flatten() if results.pose_landmarks else np.zeros(132)\n",
    "        xyzv = np.insert(xyzv, 0, cap.get(cv2.CAP_PROP_POS_FRAMES))\n",
    "        df = pd.concat([df, pd.DataFrame([xyzv], columns=columns)], ignore_index=True)\n",
    "        #continue\n",
    "            \n",
    "        if cv2.waitKey(delay) & 0xFF == ord('q'):\n",
    "            break\n",
    "            \n",
    "    cap.release()\n",
    "    cv2.destroyAllWindows()\n",
    "    df.to_csv(\"./cos_sample_image/cos_sample_train_skeleton.csv\", index=False) # save skeleton data"
   ]
  },
  {
   "cell_type": "markdown",
   "id": "9c2f9d97",
   "metadata": {},
   "source": [
    "# test skeleton extract"
   ]
  },
  {
   "cell_type": "code",
   "execution_count": 5,
   "id": "cff7319c",
   "metadata": {},
   "outputs": [
    {
     "name": "stdout",
     "output_type": "stream",
     "text": [
      "height : 720.0\n",
      "width : 640.0\n",
      "fps : 29.97002997002997\n"
     ]
    }
   ],
   "source": [
    "# create dataframe base\n",
    "lv1 = [x.name for x in list(mp_pose.PoseLandmark)]\n",
    "lv2 = ['x', 'y', 'z', 'v']\n",
    "columns = pd.MultiIndex.from_product([lv1, lv2]).insert(0, ('playtime', 'sec'))\n",
    "df = pd.DataFrame(columns=columns)\n",
    "\n",
    "cap = cv2.VideoCapture(\"./cos_sample_test.mp4\")\n",
    "\n",
    "# video info\n",
    "fps = cap.get(cv2.CAP_PROP_FPS)\n",
    "delay = int(1000/fps)\n",
    "print(\"height :\", cap.get(cv2.CAP_PROP_FRAME_HEIGHT))\n",
    "print(\"width :\", cap.get(cv2.CAP_PROP_FRAME_WIDTH))\n",
    "print(\"fps :\", fps)\n",
    "\n",
    "#cnt = -1\n",
    "\n",
    "# make mediapipe pose model\n",
    "with mp_pose.Pose(static_image_mode=False,\n",
    "                    model_complexity=1,\n",
    "                    smooth_landmarks=True,\n",
    "                    enable_segmentation=False,\n",
    "                    smooth_segmentation=True,\n",
    "                    min_detection_confidence=0.5,\n",
    "                    min_tracking_confidence=0.5,) as pose:\n",
    "    \n",
    "    while cap.isOpened():\n",
    "        \n",
    "        ret, frame = cap.read()\n",
    "        \n",
    "        if not ret:\n",
    "            break\n",
    "        \n",
    "        #playtime = round(cap.get(cv2.CAP_PROP_POS_MSEC)/1000, 2)\n",
    "        \n",
    "        # make skeleton image\n",
    "        img = cv2.cvtColor(frame, cv2.COLOR_BGR2RGB)\n",
    "        img.flags.writeable = False\n",
    "        results = pose.process(img)\n",
    "        img.flags.writeable = True\n",
    "        img = cv2.cvtColor(img, cv2.COLOR_RGB2BGR)\n",
    "\n",
    "        try:\n",
    "            landmarks = results.pose_landmarks.landmark\n",
    "            #print(landmarks)\n",
    "        except:\n",
    "            pass\n",
    "\n",
    "        #mp_drawing.draw_landmarks(img, results.pose_landmarks, mp_pose.POSE_CONNECTIONS)\n",
    "        \n",
    "        #cv2.imshow(\"test\", img)\n",
    "        \n",
    "        #cnt += 1\n",
    "        \n",
    "        # save image & skeleton data\n",
    "        #if cv2.waitKey(delay) & 0xFF == ord('c'):\n",
    "        #if cnt % 30 == 0:\n",
    "        cv2.imwrite(f\"./cos_sample_image/{cap.get(cv2.CAP_PROP_POS_FRAMES)}_test.jpg\", img) #frame : 골격x / img : 골격o\n",
    "        xyzv = np.array([[res.x, res.y, res.z, res.visibility]for res in results.pose_landmarks.landmark]).flatten() if results.pose_landmarks else np.zeros(132)\n",
    "        xyzv = np.insert(xyzv, 0, cap.get(cv2.CAP_PROP_POS_FRAMES))\n",
    "        df = pd.concat([df, pd.DataFrame([xyzv], columns=columns)], ignore_index=True)\n",
    "        #continue\n",
    "            \n",
    "        if cv2.waitKey(delay) & 0xFF == ord('q'):\n",
    "            break\n",
    "            \n",
    "    cap.release()\n",
    "    cv2.destroyAllWindows()\n",
    "    df.to_csv(\"./cos_sample_image/cos_sample_test_skeleton.csv\", index=False) # save skeleton data"
   ]
  },
  {
   "cell_type": "markdown",
   "id": "b95afab9",
   "metadata": {},
   "source": [
    "# read train, test data"
   ]
  },
  {
   "cell_type": "code",
   "execution_count": 6,
   "id": "f43035ce",
   "metadata": {},
   "outputs": [],
   "source": [
    "train = pd.read_csv(\"./cos_sample_image/cos_sample_train_skeleton.csv\", header=[0,1])"
   ]
  },
  {
   "cell_type": "code",
   "execution_count": 7,
   "id": "06e9736c",
   "metadata": {
    "tags": []
   },
   "outputs": [],
   "source": [
    "test = pd.read_csv(\"./cos_sample_image/cos_sample_test_skeleton.csv\", header=[0,1])"
   ]
  },
  {
   "cell_type": "code",
   "execution_count": 8,
   "id": "48472960",
   "metadata": {},
   "outputs": [
    {
     "data": {
      "text/html": [
       "<div>\n",
       "<style scoped>\n",
       "    .dataframe tbody tr th:only-of-type {\n",
       "        vertical-align: middle;\n",
       "    }\n",
       "\n",
       "    .dataframe tbody tr th {\n",
       "        vertical-align: top;\n",
       "    }\n",
       "\n",
       "    .dataframe thead tr th {\n",
       "        text-align: left;\n",
       "    }\n",
       "</style>\n",
       "<table border=\"1\" class=\"dataframe\">\n",
       "  <thead>\n",
       "    <tr>\n",
       "      <th></th>\n",
       "      <th>playtime</th>\n",
       "      <th colspan=\"4\" halign=\"left\">NOSE</th>\n",
       "      <th colspan=\"4\" halign=\"left\">LEFT_EYE_INNER</th>\n",
       "      <th>LEFT_EYE</th>\n",
       "      <th>...</th>\n",
       "      <th colspan=\"2\" halign=\"left\">RIGHT_HEEL</th>\n",
       "      <th colspan=\"4\" halign=\"left\">LEFT_FOOT_INDEX</th>\n",
       "      <th colspan=\"4\" halign=\"left\">RIGHT_FOOT_INDEX</th>\n",
       "    </tr>\n",
       "    <tr>\n",
       "      <th></th>\n",
       "      <th>sec</th>\n",
       "      <th>x</th>\n",
       "      <th>y</th>\n",
       "      <th>z</th>\n",
       "      <th>v</th>\n",
       "      <th>x</th>\n",
       "      <th>y</th>\n",
       "      <th>z</th>\n",
       "      <th>v</th>\n",
       "      <th>x</th>\n",
       "      <th>...</th>\n",
       "      <th>z</th>\n",
       "      <th>v</th>\n",
       "      <th>x</th>\n",
       "      <th>y</th>\n",
       "      <th>z</th>\n",
       "      <th>v</th>\n",
       "      <th>x</th>\n",
       "      <th>y</th>\n",
       "      <th>z</th>\n",
       "      <th>v</th>\n",
       "    </tr>\n",
       "  </thead>\n",
       "  <tbody>\n",
       "    <tr>\n",
       "      <th>0</th>\n",
       "      <td>1.0</td>\n",
       "      <td>0.530722</td>\n",
       "      <td>0.288515</td>\n",
       "      <td>-0.418072</td>\n",
       "      <td>0.999998</td>\n",
       "      <td>0.536021</td>\n",
       "      <td>0.274355</td>\n",
       "      <td>-0.394486</td>\n",
       "      <td>0.999993</td>\n",
       "      <td>0.540506</td>\n",
       "      <td>...</td>\n",
       "      <td>0.313760</td>\n",
       "      <td>0.885387</td>\n",
       "      <td>0.563856</td>\n",
       "      <td>0.829309</td>\n",
       "      <td>0.148345</td>\n",
       "      <td>0.990084</td>\n",
       "      <td>0.507596</td>\n",
       "      <td>0.830114</td>\n",
       "      <td>0.134731</td>\n",
       "      <td>0.988936</td>\n",
       "    </tr>\n",
       "    <tr>\n",
       "      <th>1</th>\n",
       "      <td>2.0</td>\n",
       "      <td>0.531541</td>\n",
       "      <td>0.288517</td>\n",
       "      <td>-0.418771</td>\n",
       "      <td>0.999998</td>\n",
       "      <td>0.536534</td>\n",
       "      <td>0.274353</td>\n",
       "      <td>-0.394490</td>\n",
       "      <td>0.999992</td>\n",
       "      <td>0.540921</td>\n",
       "      <td>...</td>\n",
       "      <td>0.398194</td>\n",
       "      <td>0.887266</td>\n",
       "      <td>0.564073</td>\n",
       "      <td>0.828517</td>\n",
       "      <td>0.252427</td>\n",
       "      <td>0.990203</td>\n",
       "      <td>0.507779</td>\n",
       "      <td>0.830136</td>\n",
       "      <td>0.222445</td>\n",
       "      <td>0.989117</td>\n",
       "    </tr>\n",
       "    <tr>\n",
       "      <th>2</th>\n",
       "      <td>3.0</td>\n",
       "      <td>0.531779</td>\n",
       "      <td>0.286608</td>\n",
       "      <td>-0.394940</td>\n",
       "      <td>0.999995</td>\n",
       "      <td>0.536731</td>\n",
       "      <td>0.272949</td>\n",
       "      <td>-0.366800</td>\n",
       "      <td>0.999977</td>\n",
       "      <td>0.541114</td>\n",
       "      <td>...</td>\n",
       "      <td>0.394549</td>\n",
       "      <td>0.888964</td>\n",
       "      <td>0.564106</td>\n",
       "      <td>0.827820</td>\n",
       "      <td>0.262247</td>\n",
       "      <td>0.990189</td>\n",
       "      <td>0.507773</td>\n",
       "      <td>0.830136</td>\n",
       "      <td>0.215165</td>\n",
       "      <td>0.989273</td>\n",
       "    </tr>\n",
       "    <tr>\n",
       "      <th>3</th>\n",
       "      <td>4.0</td>\n",
       "      <td>0.532713</td>\n",
       "      <td>0.285407</td>\n",
       "      <td>-0.400416</td>\n",
       "      <td>0.999992</td>\n",
       "      <td>0.537325</td>\n",
       "      <td>0.271886</td>\n",
       "      <td>-0.371925</td>\n",
       "      <td>0.999959</td>\n",
       "      <td>0.541724</td>\n",
       "      <td>...</td>\n",
       "      <td>0.379305</td>\n",
       "      <td>0.889909</td>\n",
       "      <td>0.564040</td>\n",
       "      <td>0.827544</td>\n",
       "      <td>0.244534</td>\n",
       "      <td>0.989954</td>\n",
       "      <td>0.507768</td>\n",
       "      <td>0.830144</td>\n",
       "      <td>0.196385</td>\n",
       "      <td>0.989313</td>\n",
       "    </tr>\n",
       "    <tr>\n",
       "      <th>4</th>\n",
       "      <td>5.0</td>\n",
       "      <td>0.533324</td>\n",
       "      <td>0.283762</td>\n",
       "      <td>-0.397750</td>\n",
       "      <td>0.999990</td>\n",
       "      <td>0.537871</td>\n",
       "      <td>0.270842</td>\n",
       "      <td>-0.367384</td>\n",
       "      <td>0.999936</td>\n",
       "      <td>0.542315</td>\n",
       "      <td>...</td>\n",
       "      <td>0.369387</td>\n",
       "      <td>0.891310</td>\n",
       "      <td>0.563863</td>\n",
       "      <td>0.827439</td>\n",
       "      <td>0.222800</td>\n",
       "      <td>0.989689</td>\n",
       "      <td>0.507735</td>\n",
       "      <td>0.830162</td>\n",
       "      <td>0.185588</td>\n",
       "      <td>0.989340</td>\n",
       "    </tr>\n",
       "  </tbody>\n",
       "</table>\n",
       "<p>5 rows × 133 columns</p>\n",
       "</div>"
      ],
      "text/plain": [
       "  playtime      NOSE                               LEFT_EYE_INNER            \\\n",
       "       sec         x         y         z         v              x         y   \n",
       "0      1.0  0.530722  0.288515 -0.418072  0.999998       0.536021  0.274355   \n",
       "1      2.0  0.531541  0.288517 -0.418771  0.999998       0.536534  0.274353   \n",
       "2      3.0  0.531779  0.286608 -0.394940  0.999995       0.536731  0.272949   \n",
       "3      4.0  0.532713  0.285407 -0.400416  0.999992       0.537325  0.271886   \n",
       "4      5.0  0.533324  0.283762 -0.397750  0.999990       0.537871  0.270842   \n",
       "\n",
       "                       LEFT_EYE  ... RIGHT_HEEL           LEFT_FOOT_INDEX  \\\n",
       "          z         v         x  ...          z         v               x   \n",
       "0 -0.394486  0.999993  0.540506  ...   0.313760  0.885387        0.563856   \n",
       "1 -0.394490  0.999992  0.540921  ...   0.398194  0.887266        0.564073   \n",
       "2 -0.366800  0.999977  0.541114  ...   0.394549  0.888964        0.564106   \n",
       "3 -0.371925  0.999959  0.541724  ...   0.379305  0.889909        0.564040   \n",
       "4 -0.367384  0.999936  0.542315  ...   0.369387  0.891310        0.563863   \n",
       "\n",
       "                                RIGHT_FOOT_INDEX                                \n",
       "          y         z         v                x         y         z         v  \n",
       "0  0.829309  0.148345  0.990084         0.507596  0.830114  0.134731  0.988936  \n",
       "1  0.828517  0.252427  0.990203         0.507779  0.830136  0.222445  0.989117  \n",
       "2  0.827820  0.262247  0.990189         0.507773  0.830136  0.215165  0.989273  \n",
       "3  0.827544  0.244534  0.989954         0.507768  0.830144  0.196385  0.989313  \n",
       "4  0.827439  0.222800  0.989689         0.507735  0.830162  0.185588  0.989340  \n",
       "\n",
       "[5 rows x 133 columns]"
      ]
     },
     "execution_count": 8,
     "metadata": {},
     "output_type": "execute_result"
    }
   ],
   "source": [
    "train.head()"
   ]
  },
  {
   "cell_type": "code",
   "execution_count": 9,
   "id": "f1f7b713",
   "metadata": {},
   "outputs": [
    {
     "data": {
      "text/html": [
       "<div>\n",
       "<style scoped>\n",
       "    .dataframe tbody tr th:only-of-type {\n",
       "        vertical-align: middle;\n",
       "    }\n",
       "\n",
       "    .dataframe tbody tr th {\n",
       "        vertical-align: top;\n",
       "    }\n",
       "\n",
       "    .dataframe thead tr th {\n",
       "        text-align: left;\n",
       "    }\n",
       "</style>\n",
       "<table border=\"1\" class=\"dataframe\">\n",
       "  <thead>\n",
       "    <tr>\n",
       "      <th></th>\n",
       "      <th>playtime</th>\n",
       "      <th colspan=\"4\" halign=\"left\">NOSE</th>\n",
       "      <th colspan=\"4\" halign=\"left\">LEFT_EYE_INNER</th>\n",
       "      <th>LEFT_EYE</th>\n",
       "      <th>...</th>\n",
       "      <th colspan=\"2\" halign=\"left\">RIGHT_HEEL</th>\n",
       "      <th colspan=\"4\" halign=\"left\">LEFT_FOOT_INDEX</th>\n",
       "      <th colspan=\"4\" halign=\"left\">RIGHT_FOOT_INDEX</th>\n",
       "    </tr>\n",
       "    <tr>\n",
       "      <th></th>\n",
       "      <th>sec</th>\n",
       "      <th>x</th>\n",
       "      <th>y</th>\n",
       "      <th>z</th>\n",
       "      <th>v</th>\n",
       "      <th>x</th>\n",
       "      <th>y</th>\n",
       "      <th>z</th>\n",
       "      <th>v</th>\n",
       "      <th>x</th>\n",
       "      <th>...</th>\n",
       "      <th>z</th>\n",
       "      <th>v</th>\n",
       "      <th>x</th>\n",
       "      <th>y</th>\n",
       "      <th>z</th>\n",
       "      <th>v</th>\n",
       "      <th>x</th>\n",
       "      <th>y</th>\n",
       "      <th>z</th>\n",
       "      <th>v</th>\n",
       "    </tr>\n",
       "  </thead>\n",
       "  <tbody>\n",
       "    <tr>\n",
       "      <th>0</th>\n",
       "      <td>1.0</td>\n",
       "      <td>0.517440</td>\n",
       "      <td>0.191790</td>\n",
       "      <td>-0.356848</td>\n",
       "      <td>0.999980</td>\n",
       "      <td>0.525520</td>\n",
       "      <td>0.180241</td>\n",
       "      <td>-0.308863</td>\n",
       "      <td>0.999951</td>\n",
       "      <td>0.531481</td>\n",
       "      <td>...</td>\n",
       "      <td>0.344362</td>\n",
       "      <td>0.927483</td>\n",
       "      <td>0.588020</td>\n",
       "      <td>0.871516</td>\n",
       "      <td>0.022288</td>\n",
       "      <td>0.973722</td>\n",
       "      <td>0.435271</td>\n",
       "      <td>0.850148</td>\n",
       "      <td>0.137319</td>\n",
       "      <td>0.976482</td>\n",
       "    </tr>\n",
       "    <tr>\n",
       "      <th>1</th>\n",
       "      <td>2.0</td>\n",
       "      <td>0.515312</td>\n",
       "      <td>0.191814</td>\n",
       "      <td>-0.262179</td>\n",
       "      <td>0.999981</td>\n",
       "      <td>0.524741</td>\n",
       "      <td>0.180255</td>\n",
       "      <td>-0.212149</td>\n",
       "      <td>0.999953</td>\n",
       "      <td>0.530590</td>\n",
       "      <td>...</td>\n",
       "      <td>0.303045</td>\n",
       "      <td>0.927459</td>\n",
       "      <td>0.587197</td>\n",
       "      <td>0.869676</td>\n",
       "      <td>0.032775</td>\n",
       "      <td>0.974414</td>\n",
       "      <td>0.434729</td>\n",
       "      <td>0.851558</td>\n",
       "      <td>0.092860</td>\n",
       "      <td>0.977257</td>\n",
       "    </tr>\n",
       "    <tr>\n",
       "      <th>2</th>\n",
       "      <td>3.0</td>\n",
       "      <td>0.511461</td>\n",
       "      <td>0.192231</td>\n",
       "      <td>-0.286979</td>\n",
       "      <td>0.999977</td>\n",
       "      <td>0.522251</td>\n",
       "      <td>0.180483</td>\n",
       "      <td>-0.239952</td>\n",
       "      <td>0.999946</td>\n",
       "      <td>0.528537</td>\n",
       "      <td>...</td>\n",
       "      <td>0.297698</td>\n",
       "      <td>0.927382</td>\n",
       "      <td>0.587022</td>\n",
       "      <td>0.865889</td>\n",
       "      <td>0.038175</td>\n",
       "      <td>0.974965</td>\n",
       "      <td>0.432286</td>\n",
       "      <td>0.852560</td>\n",
       "      <td>0.086364</td>\n",
       "      <td>0.977879</td>\n",
       "    </tr>\n",
       "    <tr>\n",
       "      <th>3</th>\n",
       "      <td>4.0</td>\n",
       "      <td>0.509108</td>\n",
       "      <td>0.193643</td>\n",
       "      <td>-0.367301</td>\n",
       "      <td>0.999971</td>\n",
       "      <td>0.518850</td>\n",
       "      <td>0.181364</td>\n",
       "      <td>-0.323281</td>\n",
       "      <td>0.999933</td>\n",
       "      <td>0.525608</td>\n",
       "      <td>...</td>\n",
       "      <td>0.299199</td>\n",
       "      <td>0.925959</td>\n",
       "      <td>0.585917</td>\n",
       "      <td>0.860315</td>\n",
       "      <td>0.043411</td>\n",
       "      <td>0.975676</td>\n",
       "      <td>0.433114</td>\n",
       "      <td>0.851815</td>\n",
       "      <td>0.085901</td>\n",
       "      <td>0.978507</td>\n",
       "    </tr>\n",
       "    <tr>\n",
       "      <th>4</th>\n",
       "      <td>5.0</td>\n",
       "      <td>0.508706</td>\n",
       "      <td>0.197692</td>\n",
       "      <td>-0.395361</td>\n",
       "      <td>0.999965</td>\n",
       "      <td>0.517989</td>\n",
       "      <td>0.185085</td>\n",
       "      <td>-0.350740</td>\n",
       "      <td>0.999922</td>\n",
       "      <td>0.524685</td>\n",
       "      <td>...</td>\n",
       "      <td>0.288224</td>\n",
       "      <td>0.925201</td>\n",
       "      <td>0.585518</td>\n",
       "      <td>0.854297</td>\n",
       "      <td>0.046811</td>\n",
       "      <td>0.976267</td>\n",
       "      <td>0.433030</td>\n",
       "      <td>0.851337</td>\n",
       "      <td>0.069414</td>\n",
       "      <td>0.979128</td>\n",
       "    </tr>\n",
       "  </tbody>\n",
       "</table>\n",
       "<p>5 rows × 133 columns</p>\n",
       "</div>"
      ],
      "text/plain": [
       "  playtime      NOSE                               LEFT_EYE_INNER            \\\n",
       "       sec         x         y         z         v              x         y   \n",
       "0      1.0  0.517440  0.191790 -0.356848  0.999980       0.525520  0.180241   \n",
       "1      2.0  0.515312  0.191814 -0.262179  0.999981       0.524741  0.180255   \n",
       "2      3.0  0.511461  0.192231 -0.286979  0.999977       0.522251  0.180483   \n",
       "3      4.0  0.509108  0.193643 -0.367301  0.999971       0.518850  0.181364   \n",
       "4      5.0  0.508706  0.197692 -0.395361  0.999965       0.517989  0.185085   \n",
       "\n",
       "                       LEFT_EYE  ... RIGHT_HEEL           LEFT_FOOT_INDEX  \\\n",
       "          z         v         x  ...          z         v               x   \n",
       "0 -0.308863  0.999951  0.531481  ...   0.344362  0.927483        0.588020   \n",
       "1 -0.212149  0.999953  0.530590  ...   0.303045  0.927459        0.587197   \n",
       "2 -0.239952  0.999946  0.528537  ...   0.297698  0.927382        0.587022   \n",
       "3 -0.323281  0.999933  0.525608  ...   0.299199  0.925959        0.585917   \n",
       "4 -0.350740  0.999922  0.524685  ...   0.288224  0.925201        0.585518   \n",
       "\n",
       "                                RIGHT_FOOT_INDEX                                \n",
       "          y         z         v                x         y         z         v  \n",
       "0  0.871516  0.022288  0.973722         0.435271  0.850148  0.137319  0.976482  \n",
       "1  0.869676  0.032775  0.974414         0.434729  0.851558  0.092860  0.977257  \n",
       "2  0.865889  0.038175  0.974965         0.432286  0.852560  0.086364  0.977879  \n",
       "3  0.860315  0.043411  0.975676         0.433114  0.851815  0.085901  0.978507  \n",
       "4  0.854297  0.046811  0.976267         0.433030  0.851337  0.069414  0.979128  \n",
       "\n",
       "[5 rows x 133 columns]"
      ]
     },
     "execution_count": 9,
     "metadata": {},
     "output_type": "execute_result"
    }
   ],
   "source": [
    "test.head()"
   ]
  },
  {
   "cell_type": "markdown",
   "id": "e1bd8859",
   "metadata": {},
   "source": [
    "# extract x, y in raw data"
   ]
  },
  {
   "cell_type": "code",
   "execution_count": 10,
   "id": "1b19b34c",
   "metadata": {},
   "outputs": [],
   "source": [
    "train_xy = train[[(a,b) for a, b in train.columns if b in ['x','y']]]"
   ]
  },
  {
   "cell_type": "code",
   "execution_count": 11,
   "id": "d7b2031f",
   "metadata": {
    "scrolled": true
   },
   "outputs": [],
   "source": [
    "test_xy = test[[(a,b )for a, b in test.columns if b in ['x', 'y']]]"
   ]
  },
  {
   "cell_type": "code",
   "execution_count": 12,
   "id": "5d986a41",
   "metadata": {},
   "outputs": [
    {
     "data": {
      "text/html": [
       "<div>\n",
       "<style scoped>\n",
       "    .dataframe tbody tr th:only-of-type {\n",
       "        vertical-align: middle;\n",
       "    }\n",
       "\n",
       "    .dataframe tbody tr th {\n",
       "        vertical-align: top;\n",
       "    }\n",
       "\n",
       "    .dataframe thead tr th {\n",
       "        text-align: left;\n",
       "    }\n",
       "</style>\n",
       "<table border=\"1\" class=\"dataframe\">\n",
       "  <thead>\n",
       "    <tr>\n",
       "      <th></th>\n",
       "      <th colspan=\"2\" halign=\"left\">NOSE</th>\n",
       "      <th colspan=\"2\" halign=\"left\">LEFT_EYE_INNER</th>\n",
       "      <th colspan=\"2\" halign=\"left\">LEFT_EYE</th>\n",
       "      <th colspan=\"2\" halign=\"left\">LEFT_EYE_OUTER</th>\n",
       "      <th colspan=\"2\" halign=\"left\">RIGHT_EYE_INNER</th>\n",
       "      <th>...</th>\n",
       "      <th colspan=\"2\" halign=\"left\">RIGHT_ANKLE</th>\n",
       "      <th colspan=\"2\" halign=\"left\">LEFT_HEEL</th>\n",
       "      <th colspan=\"2\" halign=\"left\">RIGHT_HEEL</th>\n",
       "      <th colspan=\"2\" halign=\"left\">LEFT_FOOT_INDEX</th>\n",
       "      <th colspan=\"2\" halign=\"left\">RIGHT_FOOT_INDEX</th>\n",
       "    </tr>\n",
       "    <tr>\n",
       "      <th></th>\n",
       "      <th>x</th>\n",
       "      <th>y</th>\n",
       "      <th>x</th>\n",
       "      <th>y</th>\n",
       "      <th>x</th>\n",
       "      <th>y</th>\n",
       "      <th>x</th>\n",
       "      <th>y</th>\n",
       "      <th>x</th>\n",
       "      <th>y</th>\n",
       "      <th>...</th>\n",
       "      <th>x</th>\n",
       "      <th>y</th>\n",
       "      <th>x</th>\n",
       "      <th>y</th>\n",
       "      <th>x</th>\n",
       "      <th>y</th>\n",
       "      <th>x</th>\n",
       "      <th>y</th>\n",
       "      <th>x</th>\n",
       "      <th>y</th>\n",
       "    </tr>\n",
       "  </thead>\n",
       "  <tbody>\n",
       "    <tr>\n",
       "      <th>0</th>\n",
       "      <td>0.530722</td>\n",
       "      <td>0.288515</td>\n",
       "      <td>0.536021</td>\n",
       "      <td>0.274355</td>\n",
       "      <td>0.540506</td>\n",
       "      <td>0.274250</td>\n",
       "      <td>0.545191</td>\n",
       "      <td>0.274156</td>\n",
       "      <td>0.518991</td>\n",
       "      <td>0.275286</td>\n",
       "      <td>...</td>\n",
       "      <td>0.511483</td>\n",
       "      <td>0.784886</td>\n",
       "      <td>0.562543</td>\n",
       "      <td>0.793876</td>\n",
       "      <td>0.519781</td>\n",
       "      <td>0.798034</td>\n",
       "      <td>0.563856</td>\n",
       "      <td>0.829309</td>\n",
       "      <td>0.507596</td>\n",
       "      <td>0.830114</td>\n",
       "    </tr>\n",
       "    <tr>\n",
       "      <th>1</th>\n",
       "      <td>0.531541</td>\n",
       "      <td>0.288517</td>\n",
       "      <td>0.536534</td>\n",
       "      <td>0.274353</td>\n",
       "      <td>0.540921</td>\n",
       "      <td>0.274250</td>\n",
       "      <td>0.545709</td>\n",
       "      <td>0.274160</td>\n",
       "      <td>0.519665</td>\n",
       "      <td>0.275248</td>\n",
       "      <td>...</td>\n",
       "      <td>0.511481</td>\n",
       "      <td>0.782006</td>\n",
       "      <td>0.562445</td>\n",
       "      <td>0.789262</td>\n",
       "      <td>0.519233</td>\n",
       "      <td>0.790564</td>\n",
       "      <td>0.564073</td>\n",
       "      <td>0.828517</td>\n",
       "      <td>0.507779</td>\n",
       "      <td>0.830136</td>\n",
       "    </tr>\n",
       "    <tr>\n",
       "      <th>2</th>\n",
       "      <td>0.531779</td>\n",
       "      <td>0.286608</td>\n",
       "      <td>0.536731</td>\n",
       "      <td>0.272949</td>\n",
       "      <td>0.541114</td>\n",
       "      <td>0.272977</td>\n",
       "      <td>0.545953</td>\n",
       "      <td>0.273080</td>\n",
       "      <td>0.519876</td>\n",
       "      <td>0.273632</td>\n",
       "      <td>...</td>\n",
       "      <td>0.511337</td>\n",
       "      <td>0.781147</td>\n",
       "      <td>0.562497</td>\n",
       "      <td>0.787841</td>\n",
       "      <td>0.518558</td>\n",
       "      <td>0.789669</td>\n",
       "      <td>0.564106</td>\n",
       "      <td>0.827820</td>\n",
       "      <td>0.507773</td>\n",
       "      <td>0.830136</td>\n",
       "    </tr>\n",
       "    <tr>\n",
       "      <th>3</th>\n",
       "      <td>0.532713</td>\n",
       "      <td>0.285407</td>\n",
       "      <td>0.537325</td>\n",
       "      <td>0.271886</td>\n",
       "      <td>0.541724</td>\n",
       "      <td>0.271931</td>\n",
       "      <td>0.546528</td>\n",
       "      <td>0.272094</td>\n",
       "      <td>0.520972</td>\n",
       "      <td>0.272395</td>\n",
       "      <td>...</td>\n",
       "      <td>0.511129</td>\n",
       "      <td>0.780958</td>\n",
       "      <td>0.562530</td>\n",
       "      <td>0.787342</td>\n",
       "      <td>0.517924</td>\n",
       "      <td>0.789782</td>\n",
       "      <td>0.564040</td>\n",
       "      <td>0.827544</td>\n",
       "      <td>0.507768</td>\n",
       "      <td>0.830144</td>\n",
       "    </tr>\n",
       "    <tr>\n",
       "      <th>4</th>\n",
       "      <td>0.533324</td>\n",
       "      <td>0.283762</td>\n",
       "      <td>0.537871</td>\n",
       "      <td>0.270842</td>\n",
       "      <td>0.542315</td>\n",
       "      <td>0.270960</td>\n",
       "      <td>0.547047</td>\n",
       "      <td>0.271220</td>\n",
       "      <td>0.521723</td>\n",
       "      <td>0.271190</td>\n",
       "      <td>...</td>\n",
       "      <td>0.510768</td>\n",
       "      <td>0.780843</td>\n",
       "      <td>0.562514</td>\n",
       "      <td>0.787462</td>\n",
       "      <td>0.517047</td>\n",
       "      <td>0.789852</td>\n",
       "      <td>0.563863</td>\n",
       "      <td>0.827439</td>\n",
       "      <td>0.507735</td>\n",
       "      <td>0.830162</td>\n",
       "    </tr>\n",
       "  </tbody>\n",
       "</table>\n",
       "<p>5 rows × 66 columns</p>\n",
       "</div>"
      ],
      "text/plain": [
       "       NOSE           LEFT_EYE_INNER            LEFT_EYE            \\\n",
       "          x         y              x         y         x         y   \n",
       "0  0.530722  0.288515       0.536021  0.274355  0.540506  0.274250   \n",
       "1  0.531541  0.288517       0.536534  0.274353  0.540921  0.274250   \n",
       "2  0.531779  0.286608       0.536731  0.272949  0.541114  0.272977   \n",
       "3  0.532713  0.285407       0.537325  0.271886  0.541724  0.271931   \n",
       "4  0.533324  0.283762       0.537871  0.270842  0.542315  0.270960   \n",
       "\n",
       "  LEFT_EYE_OUTER           RIGHT_EYE_INNER            ... RIGHT_ANKLE  \\\n",
       "               x         y               x         y  ...           x   \n",
       "0       0.545191  0.274156        0.518991  0.275286  ...    0.511483   \n",
       "1       0.545709  0.274160        0.519665  0.275248  ...    0.511481   \n",
       "2       0.545953  0.273080        0.519876  0.273632  ...    0.511337   \n",
       "3       0.546528  0.272094        0.520972  0.272395  ...    0.511129   \n",
       "4       0.547047  0.271220        0.521723  0.271190  ...    0.510768   \n",
       "\n",
       "            LEFT_HEEL           RIGHT_HEEL           LEFT_FOOT_INDEX  \\\n",
       "          y         x         y          x         y               x   \n",
       "0  0.784886  0.562543  0.793876   0.519781  0.798034        0.563856   \n",
       "1  0.782006  0.562445  0.789262   0.519233  0.790564        0.564073   \n",
       "2  0.781147  0.562497  0.787841   0.518558  0.789669        0.564106   \n",
       "3  0.780958  0.562530  0.787342   0.517924  0.789782        0.564040   \n",
       "4  0.780843  0.562514  0.787462   0.517047  0.789852        0.563863   \n",
       "\n",
       "            RIGHT_FOOT_INDEX            \n",
       "          y                x         y  \n",
       "0  0.829309         0.507596  0.830114  \n",
       "1  0.828517         0.507779  0.830136  \n",
       "2  0.827820         0.507773  0.830136  \n",
       "3  0.827544         0.507768  0.830144  \n",
       "4  0.827439         0.507735  0.830162  \n",
       "\n",
       "[5 rows x 66 columns]"
      ]
     },
     "execution_count": 12,
     "metadata": {},
     "output_type": "execute_result"
    }
   ],
   "source": [
    "train_xy.head()"
   ]
  },
  {
   "cell_type": "code",
   "execution_count": 13,
   "id": "d744f3fa",
   "metadata": {},
   "outputs": [
    {
     "data": {
      "text/html": [
       "<div>\n",
       "<style scoped>\n",
       "    .dataframe tbody tr th:only-of-type {\n",
       "        vertical-align: middle;\n",
       "    }\n",
       "\n",
       "    .dataframe tbody tr th {\n",
       "        vertical-align: top;\n",
       "    }\n",
       "\n",
       "    .dataframe thead tr th {\n",
       "        text-align: left;\n",
       "    }\n",
       "</style>\n",
       "<table border=\"1\" class=\"dataframe\">\n",
       "  <thead>\n",
       "    <tr>\n",
       "      <th></th>\n",
       "      <th colspan=\"2\" halign=\"left\">NOSE</th>\n",
       "      <th colspan=\"2\" halign=\"left\">LEFT_EYE_INNER</th>\n",
       "      <th colspan=\"2\" halign=\"left\">LEFT_EYE</th>\n",
       "      <th colspan=\"2\" halign=\"left\">LEFT_EYE_OUTER</th>\n",
       "      <th colspan=\"2\" halign=\"left\">RIGHT_EYE_INNER</th>\n",
       "      <th>...</th>\n",
       "      <th colspan=\"2\" halign=\"left\">RIGHT_ANKLE</th>\n",
       "      <th colspan=\"2\" halign=\"left\">LEFT_HEEL</th>\n",
       "      <th colspan=\"2\" halign=\"left\">RIGHT_HEEL</th>\n",
       "      <th colspan=\"2\" halign=\"left\">LEFT_FOOT_INDEX</th>\n",
       "      <th colspan=\"2\" halign=\"left\">RIGHT_FOOT_INDEX</th>\n",
       "    </tr>\n",
       "    <tr>\n",
       "      <th></th>\n",
       "      <th>x</th>\n",
       "      <th>y</th>\n",
       "      <th>x</th>\n",
       "      <th>y</th>\n",
       "      <th>x</th>\n",
       "      <th>y</th>\n",
       "      <th>x</th>\n",
       "      <th>y</th>\n",
       "      <th>x</th>\n",
       "      <th>y</th>\n",
       "      <th>...</th>\n",
       "      <th>x</th>\n",
       "      <th>y</th>\n",
       "      <th>x</th>\n",
       "      <th>y</th>\n",
       "      <th>x</th>\n",
       "      <th>y</th>\n",
       "      <th>x</th>\n",
       "      <th>y</th>\n",
       "      <th>x</th>\n",
       "      <th>y</th>\n",
       "    </tr>\n",
       "  </thead>\n",
       "  <tbody>\n",
       "    <tr>\n",
       "      <th>0</th>\n",
       "      <td>0.517440</td>\n",
       "      <td>0.191790</td>\n",
       "      <td>0.525520</td>\n",
       "      <td>0.180241</td>\n",
       "      <td>0.531481</td>\n",
       "      <td>0.180967</td>\n",
       "      <td>0.538088</td>\n",
       "      <td>0.182000</td>\n",
       "      <td>0.506933</td>\n",
       "      <td>0.179594</td>\n",
       "      <td>...</td>\n",
       "      <td>0.464793</td>\n",
       "      <td>0.796986</td>\n",
       "      <td>0.555255</td>\n",
       "      <td>0.839984</td>\n",
       "      <td>0.470715</td>\n",
       "      <td>0.820219</td>\n",
       "      <td>0.588020</td>\n",
       "      <td>0.871516</td>\n",
       "      <td>0.435271</td>\n",
       "      <td>0.850148</td>\n",
       "    </tr>\n",
       "    <tr>\n",
       "      <th>1</th>\n",
       "      <td>0.515312</td>\n",
       "      <td>0.191814</td>\n",
       "      <td>0.524741</td>\n",
       "      <td>0.180255</td>\n",
       "      <td>0.530590</td>\n",
       "      <td>0.180986</td>\n",
       "      <td>0.536555</td>\n",
       "      <td>0.182032</td>\n",
       "      <td>0.505676</td>\n",
       "      <td>0.179655</td>\n",
       "      <td>...</td>\n",
       "      <td>0.465125</td>\n",
       "      <td>0.798281</td>\n",
       "      <td>0.555530</td>\n",
       "      <td>0.837718</td>\n",
       "      <td>0.471077</td>\n",
       "      <td>0.821383</td>\n",
       "      <td>0.587197</td>\n",
       "      <td>0.869676</td>\n",
       "      <td>0.434729</td>\n",
       "      <td>0.851558</td>\n",
       "    </tr>\n",
       "    <tr>\n",
       "      <th>2</th>\n",
       "      <td>0.511461</td>\n",
       "      <td>0.192231</td>\n",
       "      <td>0.522251</td>\n",
       "      <td>0.180483</td>\n",
       "      <td>0.528537</td>\n",
       "      <td>0.181172</td>\n",
       "      <td>0.534004</td>\n",
       "      <td>0.182185</td>\n",
       "      <td>0.502326</td>\n",
       "      <td>0.180036</td>\n",
       "      <td>...</td>\n",
       "      <td>0.465270</td>\n",
       "      <td>0.798566</td>\n",
       "      <td>0.555894</td>\n",
       "      <td>0.834878</td>\n",
       "      <td>0.471470</td>\n",
       "      <td>0.822034</td>\n",
       "      <td>0.587022</td>\n",
       "      <td>0.865889</td>\n",
       "      <td>0.432286</td>\n",
       "      <td>0.852560</td>\n",
       "    </tr>\n",
       "    <tr>\n",
       "      <th>3</th>\n",
       "      <td>0.509108</td>\n",
       "      <td>0.193643</td>\n",
       "      <td>0.518850</td>\n",
       "      <td>0.181364</td>\n",
       "      <td>0.525608</td>\n",
       "      <td>0.181895</td>\n",
       "      <td>0.530920</td>\n",
       "      <td>0.182657</td>\n",
       "      <td>0.498691</td>\n",
       "      <td>0.181288</td>\n",
       "      <td>...</td>\n",
       "      <td>0.465648</td>\n",
       "      <td>0.798527</td>\n",
       "      <td>0.556102</td>\n",
       "      <td>0.830296</td>\n",
       "      <td>0.472023</td>\n",
       "      <td>0.821977</td>\n",
       "      <td>0.585917</td>\n",
       "      <td>0.860315</td>\n",
       "      <td>0.433114</td>\n",
       "      <td>0.851815</td>\n",
       "    </tr>\n",
       "    <tr>\n",
       "      <th>4</th>\n",
       "      <td>0.508706</td>\n",
       "      <td>0.197692</td>\n",
       "      <td>0.517989</td>\n",
       "      <td>0.185085</td>\n",
       "      <td>0.524685</td>\n",
       "      <td>0.185464</td>\n",
       "      <td>0.529591</td>\n",
       "      <td>0.185836</td>\n",
       "      <td>0.497849</td>\n",
       "      <td>0.185010</td>\n",
       "      <td>...</td>\n",
       "      <td>0.465786</td>\n",
       "      <td>0.799773</td>\n",
       "      <td>0.556113</td>\n",
       "      <td>0.827486</td>\n",
       "      <td>0.472339</td>\n",
       "      <td>0.824214</td>\n",
       "      <td>0.585518</td>\n",
       "      <td>0.854297</td>\n",
       "      <td>0.433030</td>\n",
       "      <td>0.851337</td>\n",
       "    </tr>\n",
       "  </tbody>\n",
       "</table>\n",
       "<p>5 rows × 66 columns</p>\n",
       "</div>"
      ],
      "text/plain": [
       "       NOSE           LEFT_EYE_INNER            LEFT_EYE            \\\n",
       "          x         y              x         y         x         y   \n",
       "0  0.517440  0.191790       0.525520  0.180241  0.531481  0.180967   \n",
       "1  0.515312  0.191814       0.524741  0.180255  0.530590  0.180986   \n",
       "2  0.511461  0.192231       0.522251  0.180483  0.528537  0.181172   \n",
       "3  0.509108  0.193643       0.518850  0.181364  0.525608  0.181895   \n",
       "4  0.508706  0.197692       0.517989  0.185085  0.524685  0.185464   \n",
       "\n",
       "  LEFT_EYE_OUTER           RIGHT_EYE_INNER            ... RIGHT_ANKLE  \\\n",
       "               x         y               x         y  ...           x   \n",
       "0       0.538088  0.182000        0.506933  0.179594  ...    0.464793   \n",
       "1       0.536555  0.182032        0.505676  0.179655  ...    0.465125   \n",
       "2       0.534004  0.182185        0.502326  0.180036  ...    0.465270   \n",
       "3       0.530920  0.182657        0.498691  0.181288  ...    0.465648   \n",
       "4       0.529591  0.185836        0.497849  0.185010  ...    0.465786   \n",
       "\n",
       "            LEFT_HEEL           RIGHT_HEEL           LEFT_FOOT_INDEX  \\\n",
       "          y         x         y          x         y               x   \n",
       "0  0.796986  0.555255  0.839984   0.470715  0.820219        0.588020   \n",
       "1  0.798281  0.555530  0.837718   0.471077  0.821383        0.587197   \n",
       "2  0.798566  0.555894  0.834878   0.471470  0.822034        0.587022   \n",
       "3  0.798527  0.556102  0.830296   0.472023  0.821977        0.585917   \n",
       "4  0.799773  0.556113  0.827486   0.472339  0.824214        0.585518   \n",
       "\n",
       "            RIGHT_FOOT_INDEX            \n",
       "          y                x         y  \n",
       "0  0.871516         0.435271  0.850148  \n",
       "1  0.869676         0.434729  0.851558  \n",
       "2  0.865889         0.432286  0.852560  \n",
       "3  0.860315         0.433114  0.851815  \n",
       "4  0.854297         0.433030  0.851337  \n",
       "\n",
       "[5 rows x 66 columns]"
      ]
     },
     "execution_count": 13,
     "metadata": {},
     "output_type": "execute_result"
    }
   ],
   "source": [
    "test_xy.head()"
   ]
  },
  {
   "cell_type": "markdown",
   "id": "2ea3cb7e",
   "metadata": {},
   "source": [
    "# flatten data by frame"
   ]
  },
  {
   "cell_type": "code",
   "execution_count": 15,
   "id": "e68596fe",
   "metadata": {},
   "outputs": [],
   "source": [
    "train_list = train_xy.values"
   ]
  },
  {
   "cell_type": "code",
   "execution_count": 16,
   "id": "60da8d55",
   "metadata": {},
   "outputs": [],
   "source": [
    "test_list = test_xy.values"
   ]
  },
  {
   "cell_type": "code",
   "execution_count": 17,
   "id": "0ed9d7f0",
   "metadata": {},
   "outputs": [
    {
     "data": {
      "text/plain": [
       "array([[0.53072172, 0.28851521, 0.53602087, ..., 0.82930911, 0.50759625,\n",
       "        0.83011401],\n",
       "       [0.53154135, 0.28851709, 0.53653449, ..., 0.82851696, 0.50777948,\n",
       "        0.83013618],\n",
       "       [0.53177887, 0.28660843, 0.53673083, ..., 0.82781965, 0.5077728 ,\n",
       "        0.83013576],\n",
       "       ...,\n",
       "       [0.52776146, 0.28853187, 0.53469318, ..., 0.82671815, 0.507568  ,\n",
       "        0.8295188 ],\n",
       "       [0.52807343, 0.28867352, 0.53479505, ..., 0.82660395, 0.50701976,\n",
       "        0.82944769],\n",
       "       [0.52738917, 0.28881958, 0.53424871, ..., 0.82603091, 0.50701463,\n",
       "        0.82916361]])"
      ]
     },
     "execution_count": 17,
     "metadata": {},
     "output_type": "execute_result"
    }
   ],
   "source": [
    "train_list"
   ]
  },
  {
   "cell_type": "code",
   "execution_count": 18,
   "id": "2ef9c5f1",
   "metadata": {},
   "outputs": [
    {
     "data": {
      "text/plain": [
       "array([[0.51744032, 0.19179034, 0.52552009, ..., 0.87151581, 0.43527079,\n",
       "        0.8501476 ],\n",
       "       [0.51531196, 0.19181417, 0.52474076, ..., 0.86967587, 0.43472892,\n",
       "        0.85155767],\n",
       "       [0.5114609 , 0.19223098, 0.52225101, ..., 0.86588943, 0.43228585,\n",
       "        0.85255998],\n",
       "       ...,\n",
       "       [0.49047166, 0.20908014, 0.50032771, ..., 0.84921831, 0.43841267,\n",
       "        0.84010637],\n",
       "       [0.49122792, 0.20719719, 0.50102711, ..., 0.85077542, 0.43907666,\n",
       "        0.84147143],\n",
       "       [0.49136463, 0.20585416, 0.50134426, ..., 0.85116839, 0.43951377,\n",
       "        0.84170628]])"
      ]
     },
     "execution_count": 18,
     "metadata": {},
     "output_type": "execute_result"
    }
   ],
   "source": [
    "test_list"
   ]
  },
  {
   "cell_type": "markdown",
   "id": "639737bc",
   "metadata": {},
   "source": [
    "# cosine similarity - 함수 정의"
   ]
  },
  {
   "cell_type": "code",
   "execution_count": 57,
   "id": "634fd8a7",
   "metadata": {},
   "outputs": [],
   "source": [
    "def cos_sim(x_array, y_array):\n",
    "    cossim_list = []\n",
    "    for x, y in zip(x_array, y_array):\n",
    "        cossim = np.dot(x, y) / (np.linalg.norm(x) * np.linalg.norm(y))\n",
    "        cossim_list.append(cossim)\n",
    "    return cossim_list"
   ]
  },
  {
   "cell_type": "code",
   "execution_count": 58,
   "id": "ea28221d",
   "metadata": {},
   "outputs": [
    {
     "data": {
      "text/plain": [
       "0.9897099269414873"
      ]
     },
     "execution_count": 58,
     "metadata": {},
     "output_type": "execute_result"
    }
   ],
   "source": [
    "np.mean(cos_sim(train_list, test_list))"
   ]
  },
  {
   "cell_type": "code",
   "execution_count": 59,
   "id": "ee6320b6",
   "metadata": {},
   "outputs": [
    {
     "data": {
      "text/plain": [
       "1.0"
      ]
     },
     "execution_count": 59,
     "metadata": {},
     "output_type": "execute_result"
    }
   ],
   "source": [
    "np.mean(cos_sim(train_list, train_list))"
   ]
  },
  {
   "cell_type": "code",
   "execution_count": 60,
   "id": "b3e3bbad",
   "metadata": {},
   "outputs": [],
   "source": [
    "train_norm = normalize(train_list)"
   ]
  },
  {
   "cell_type": "code",
   "execution_count": 61,
   "id": "c5d42325",
   "metadata": {},
   "outputs": [],
   "source": [
    "test_norm = normalize(test_list)"
   ]
  },
  {
   "cell_type": "code",
   "execution_count": 62,
   "id": "169d705d",
   "metadata": {
    "scrolled": true
   },
   "outputs": [
    {
     "data": {
      "text/plain": [
       "0.9897099269414873"
      ]
     },
     "execution_count": 62,
     "metadata": {},
     "output_type": "execute_result"
    }
   ],
   "source": [
    "np.mean(cos_sim(test_norm, train_norm))"
   ]
  },
  {
   "cell_type": "code",
   "execution_count": 63,
   "id": "b16788a0",
   "metadata": {},
   "outputs": [
    {
     "data": {
      "text/plain": [
       "1.0"
      ]
     },
     "execution_count": 63,
     "metadata": {},
     "output_type": "execute_result"
    }
   ],
   "source": [
    "np.mean(cos_sim(train_norm, train_norm))"
   ]
  },
  {
   "cell_type": "markdown",
   "id": "7972a1d0",
   "metadata": {},
   "source": [
    "# cosine similarity - 함수 사용"
   ]
  },
  {
   "cell_type": "code",
   "execution_count": 64,
   "id": "95a98924",
   "metadata": {},
   "outputs": [],
   "source": [
    "from sklearn.metrics.pairwise import cosine_similarity"
   ]
  },
  {
   "cell_type": "code",
   "execution_count": 65,
   "id": "6b32290c",
   "metadata": {},
   "outputs": [
    {
     "data": {
      "text/plain": [
       "0.9907852441030097"
      ]
     },
     "execution_count": 65,
     "metadata": {},
     "output_type": "execute_result"
    }
   ],
   "source": [
    "cosine_similarity(train_list, test_list).mean()"
   ]
  },
  {
   "cell_type": "code",
   "execution_count": 66,
   "id": "1b763f56",
   "metadata": {},
   "outputs": [
    {
     "data": {
      "text/plain": [
       "0.9954990993964469"
      ]
     },
     "execution_count": 66,
     "metadata": {},
     "output_type": "execute_result"
    }
   ],
   "source": [
    "cosine_similarity(test_list, test_list).mean()  # 왜 같은 영상을 넣었는데 1이 안나오지..?"
   ]
  },
  {
   "cell_type": "markdown",
   "id": "8ea54e4a",
   "metadata": {},
   "source": [
    "# make error data : clap_clap"
   ]
  },
  {
   "cell_type": "code",
   "execution_count": 43,
   "id": "9a13b4e6",
   "metadata": {},
   "outputs": [],
   "source": [
    "if not os.path.exists('./error_sample_image'):\n",
    "    os.mkdir('./error_sample_image')"
   ]
  },
  {
   "cell_type": "code",
   "execution_count": 44,
   "id": "161b7256",
   "metadata": {},
   "outputs": [
    {
     "name": "stdout",
     "output_type": "stream",
     "text": [
      "height : 720.0\n",
      "width : 640.0\n",
      "fps : 29.97002997002997\n"
     ]
    }
   ],
   "source": [
    "# create dataframe base\n",
    "lv1 = [x.name for x in list(mp_pose.PoseLandmark)]\n",
    "lv2 = ['x', 'y', 'z', 'v']\n",
    "columns = pd.MultiIndex.from_product([lv1, lv2]).insert(0, ('playtime', 'sec'))\n",
    "df = pd.DataFrame(columns=columns)\n",
    "\n",
    "cap = cv2.VideoCapture(\"./sample/clap_clap.mp4\")\n",
    "\n",
    "# video info\n",
    "fps = cap.get(cv2.CAP_PROP_FPS)\n",
    "delay = int(1000/fps)\n",
    "print(\"height :\", cap.get(cv2.CAP_PROP_FRAME_HEIGHT))\n",
    "print(\"width :\", cap.get(cv2.CAP_PROP_FRAME_WIDTH))\n",
    "print(\"fps :\", fps)\n",
    "\n",
    "#cnt = -1\n",
    "\n",
    "# make mediapipe pose model\n",
    "with mp_pose.Pose(static_image_mode=False,\n",
    "                    model_complexity=1,\n",
    "                    smooth_landmarks=True,\n",
    "                    enable_segmentation=False,\n",
    "                    smooth_segmentation=True,\n",
    "                    min_detection_confidence=0.5,\n",
    "                    min_tracking_confidence=0.5,) as pose:\n",
    "    \n",
    "    while cap.isOpened():\n",
    "        \n",
    "        ret, frame = cap.read()\n",
    "        \n",
    "        if not ret:\n",
    "            break\n",
    "        \n",
    "        #playtime = round(cap.get(cv2.CAP_PROP_POS_MSEC)/1000, 2)\n",
    "        \n",
    "        # make skeleton image\n",
    "        img = cv2.cvtColor(frame, cv2.COLOR_BGR2RGB)\n",
    "        img.flags.writeable = False\n",
    "        results = pose.process(img)\n",
    "        img.flags.writeable = True\n",
    "        img = cv2.cvtColor(img, cv2.COLOR_RGB2BGR)\n",
    "\n",
    "        try:\n",
    "            landmarks = results.pose_landmarks.landmark\n",
    "            #print(landmarks)\n",
    "        except:\n",
    "            pass\n",
    "\n",
    "        #mp_drawing.draw_landmarks(img, results.pose_landmarks, mp_pose.POSE_CONNECTIONS)\n",
    "        \n",
    "        #cv2.imshow(\"test\", img)\n",
    "        \n",
    "        #cnt += 1\n",
    "        \n",
    "        # save image & skeleton data\n",
    "        #if cv2.waitKey(delay) & 0xFF == ord('c'):\n",
    "        #if cnt % 30 == 0:\n",
    "        cv2.imwrite(f\"./error_sample_image/{cap.get(cv2.CAP_PROP_POS_FRAMES)}_clap_clap.jpg\", img) #frame : 골격x / img : 골격o\n",
    "        xyzv = np.array([[res.x, res.y, res.z, res.visibility]for res in results.pose_landmarks.landmark]).flatten() if results.pose_landmarks else np.zeros(132)\n",
    "        xyzv = np.insert(xyzv, 0, cap.get(cv2.CAP_PROP_POS_FRAMES))\n",
    "        df = pd.concat([df, pd.DataFrame([xyzv], columns=columns)], ignore_index=True)\n",
    "        #continue\n",
    "            \n",
    "        if cv2.waitKey(delay) & 0xFF == ord('q'):\n",
    "            break\n",
    "            \n",
    "    cap.release()\n",
    "    cv2.destroyAllWindows()\n",
    "    df.to_csv(\"./error_sample_image/clap_clap_skeleton.csv\", index=False) # save skeleton data"
   ]
  },
  {
   "cell_type": "code",
   "execution_count": 45,
   "id": "d2f44160",
   "metadata": {},
   "outputs": [],
   "source": [
    "clap_clap = pd.read_csv(\"./error_sample_image/clap_clap_skeleton.csv\", header=[0,1])"
   ]
  },
  {
   "cell_type": "code",
   "execution_count": 46,
   "id": "155066c6",
   "metadata": {},
   "outputs": [],
   "source": [
    "clap_clap_xy = clap_clap[[(a,b) for a, b in clap_clap.columns if b in ['x','y']]]"
   ]
  },
  {
   "cell_type": "code",
   "execution_count": 47,
   "id": "e4d86a17",
   "metadata": {},
   "outputs": [],
   "source": [
    "clap_clap_list = clap_clap_xy.values"
   ]
  },
  {
   "cell_type": "code",
   "execution_count": 48,
   "id": "f310a872",
   "metadata": {},
   "outputs": [
    {
     "data": {
      "text/plain": [
       "array([[0.67655832, 0.3142069 , 0.68570638, ..., 0.85780036, 0.6314013 ,\n",
       "        0.85862172],\n",
       "       [0.67698324, 0.31429628, 0.68580896, ..., 0.85571772, 0.6313374 ,\n",
       "        0.85833305],\n",
       "       [0.67701977, 0.31424239, 0.68568617, ..., 0.85483164, 0.63114011,\n",
       "        0.85809463],\n",
       "       ...,\n",
       "       [0.6538412 , 0.33837292, 0.65690541, ..., 0.85477895, 0.60775387,\n",
       "        0.85441089],\n",
       "       [0.65381944, 0.33836651, 0.65686458, ..., 0.85481972, 0.60778356,\n",
       "        0.85476661],\n",
       "       [0.65400654, 0.33842838, 0.65704918, ..., 0.85479581, 0.60771698,\n",
       "        0.85499692]])"
      ]
     },
     "execution_count": 48,
     "metadata": {},
     "output_type": "execute_result"
    }
   ],
   "source": [
    "clap_clap_list"
   ]
  },
  {
   "cell_type": "markdown",
   "id": "20362d8a",
   "metadata": {},
   "source": [
    "# make error data : foot_stamp_clap"
   ]
  },
  {
   "cell_type": "code",
   "execution_count": 49,
   "id": "a5eea414",
   "metadata": {},
   "outputs": [
    {
     "name": "stdout",
     "output_type": "stream",
     "text": [
      "height : 720.0\n",
      "width : 640.0\n",
      "fps : 29.97002997002997\n"
     ]
    }
   ],
   "source": [
    "# create dataframe base\n",
    "lv1 = [x.name for x in list(mp_pose.PoseLandmark)]\n",
    "lv2 = ['x', 'y', 'z', 'v']\n",
    "columns = pd.MultiIndex.from_product([lv1, lv2]).insert(0, ('playtime', 'sec'))\n",
    "df = pd.DataFrame(columns=columns)\n",
    "\n",
    "cap = cv2.VideoCapture(\"./sample/foot_stamp_clap.mp4\")\n",
    "\n",
    "# video info\n",
    "fps = cap.get(cv2.CAP_PROP_FPS)\n",
    "delay = int(1000/fps)\n",
    "print(\"height :\", cap.get(cv2.CAP_PROP_FRAME_HEIGHT))\n",
    "print(\"width :\", cap.get(cv2.CAP_PROP_FRAME_WIDTH))\n",
    "print(\"fps :\", fps)\n",
    "\n",
    "#cnt = -1\n",
    "\n",
    "# make mediapipe pose model\n",
    "with mp_pose.Pose(static_image_mode=False,\n",
    "                    model_complexity=1,\n",
    "                    smooth_landmarks=True,\n",
    "                    enable_segmentation=False,\n",
    "                    smooth_segmentation=True,\n",
    "                    min_detection_confidence=0.5,\n",
    "                    min_tracking_confidence=0.5,) as pose:\n",
    "    \n",
    "    while cap.isOpened():\n",
    "        \n",
    "        ret, frame = cap.read()\n",
    "        \n",
    "        if not ret:\n",
    "            break\n",
    "        \n",
    "        #playtime = round(cap.get(cv2.CAP_PROP_POS_MSEC)/1000, 2)\n",
    "        \n",
    "        # make skeleton image\n",
    "        img = cv2.cvtColor(frame, cv2.COLOR_BGR2RGB)\n",
    "        img.flags.writeable = False\n",
    "        results = pose.process(img)\n",
    "        img.flags.writeable = True\n",
    "        img = cv2.cvtColor(img, cv2.COLOR_RGB2BGR)\n",
    "\n",
    "        try:\n",
    "            landmarks = results.pose_landmarks.landmark\n",
    "            #print(landmarks)\n",
    "        except:\n",
    "            pass\n",
    "\n",
    "        #mp_drawing.draw_landmarks(img, results.pose_landmarks, mp_pose.POSE_CONNECTIONS)\n",
    "        \n",
    "        #cv2.imshow(\"test\", img)\n",
    "        \n",
    "        #cnt += 1\n",
    "        \n",
    "        # save image & skeleton data\n",
    "        #if cv2.waitKey(delay) & 0xFF == ord('c'):\n",
    "        #if cnt % 30 == 0:\n",
    "        cv2.imwrite(f\"./error_sample_image/{cap.get(cv2.CAP_PROP_POS_FRAMES)}_foot_stamp_clap.jpg\", img) #frame : 골격x / img : 골격o\n",
    "        xyzv = np.array([[res.x, res.y, res.z, res.visibility]for res in results.pose_landmarks.landmark]).flatten() if results.pose_landmarks else np.zeros(132)\n",
    "        xyzv = np.insert(xyzv, 0, cap.get(cv2.CAP_PROP_POS_FRAMES))\n",
    "        df = pd.concat([df, pd.DataFrame([xyzv], columns=columns)], ignore_index=True)\n",
    "        #continue\n",
    "            \n",
    "        if cv2.waitKey(delay) & 0xFF == ord('q'):\n",
    "            break\n",
    "            \n",
    "    cap.release()\n",
    "    cv2.destroyAllWindows()\n",
    "    df.to_csv(\"./error_sample_image/foot_stamp_clap_skeleton.csv\", index=False) # save skeleton data"
   ]
  },
  {
   "cell_type": "code",
   "execution_count": 50,
   "id": "52a75b96",
   "metadata": {},
   "outputs": [],
   "source": [
    "foot_stamp_clap = pd.read_csv(\"./error_sample_image/foot_stamp_clap_skeleton.csv\", header=[0,1])"
   ]
  },
  {
   "cell_type": "code",
   "execution_count": 51,
   "id": "cadc57e2",
   "metadata": {},
   "outputs": [],
   "source": [
    "foot_stamp_clap_xy = foot_stamp_clap[[(a,b) for a, b in foot_stamp_clap.columns if b in ['x','y']]]"
   ]
  },
  {
   "cell_type": "code",
   "execution_count": 52,
   "id": "22c95e1d",
   "metadata": {},
   "outputs": [],
   "source": [
    "foot_stamp_clap_list = foot_stamp_clap_xy.values"
   ]
  },
  {
   "cell_type": "code",
   "execution_count": 53,
   "id": "2a0f4d7f",
   "metadata": {},
   "outputs": [
    {
     "data": {
      "text/plain": [
       "array([[0.65600443, 0.33856195, 0.6607486 , ..., 0.85086447, 0.60138524,\n",
       "        0.85469222],\n",
       "       [0.65531468, 0.33856973, 0.66015792, ..., 0.85343307, 0.60300469,\n",
       "        0.85506779],\n",
       "       [0.65675384, 0.33668578, 0.66090906, ..., 0.85445499, 0.60415351,\n",
       "        0.85524213],\n",
       "       ...,\n",
       "       [0.65450698, 0.34808812, 0.65619451, ..., 0.86594146, 0.60691935,\n",
       "        0.8552568 ],\n",
       "       [0.65451008, 0.34964326, 0.65621746, ..., 0.86395639, 0.60690224,\n",
       "        0.8552314 ],\n",
       "       [0.65433633, 0.35043493, 0.65621436, ..., 0.86334312, 0.60673183,\n",
       "        0.85546768]])"
      ]
     },
     "execution_count": 53,
     "metadata": {},
     "output_type": "execute_result"
    }
   ],
   "source": [
    "foot_stamp_clap_list"
   ]
  },
  {
   "cell_type": "markdown",
   "id": "a0ee35f1",
   "metadata": {},
   "source": [
    "# cosine similarity - 함수 정의"
   ]
  },
  {
   "cell_type": "code",
   "execution_count": 67,
   "id": "f5fe133f",
   "metadata": {},
   "outputs": [
    {
     "data": {
      "text/plain": [
       "0.9885622356329111"
      ]
     },
     "execution_count": 67,
     "metadata": {},
     "output_type": "execute_result"
    }
   ],
   "source": [
    "np.mean(cos_sim(train_list, clap_clap_list))"
   ]
  },
  {
   "cell_type": "code",
   "execution_count": 68,
   "id": "625fbf5f",
   "metadata": {},
   "outputs": [
    {
     "data": {
      "text/plain": [
       "0.984568747733488"
      ]
     },
     "execution_count": 68,
     "metadata": {},
     "output_type": "execute_result"
    }
   ],
   "source": [
    "np.mean(cos_sim(train_list, foot_stamp_clap_list))"
   ]
  },
  {
   "cell_type": "markdown",
   "id": "fe04d00c",
   "metadata": {},
   "source": [
    "# cosine similarity - 함수 사용"
   ]
  },
  {
   "cell_type": "code",
   "execution_count": 69,
   "id": "e31c63a2",
   "metadata": {},
   "outputs": [
    {
     "data": {
      "text/plain": [
       "0.9880033618617248"
      ]
     },
     "execution_count": 69,
     "metadata": {},
     "output_type": "execute_result"
    }
   ],
   "source": [
    "cosine_similarity(train_list, clap_clap_list).mean()"
   ]
  },
  {
   "cell_type": "code",
   "execution_count": 71,
   "id": "3e8db98d",
   "metadata": {},
   "outputs": [
    {
     "data": {
      "text/plain": [
       "0.9861463805928109"
      ]
     },
     "execution_count": 71,
     "metadata": {},
     "output_type": "execute_result"
    }
   ],
   "source": [
    "cosine_similarity(train_list, foot_stamp_clap_list).mean()"
   ]
  },
  {
   "cell_type": "markdown",
   "id": "9bbafeae",
   "metadata": {},
   "source": [
    "- 코사인 유사도가 너무 높게 나옴\n",
    "- 동일한 영상 : 1\n",
    "- 동일한 동작의 다른 영상 : 0.99\n",
    "- 다른 동작의 다른 영상 : 0.988"
   ]
  }
 ],
 "metadata": {
  "kernelspec": {
   "display_name": "Python 3 (ipykernel)",
   "language": "python",
   "name": "python3"
  },
  "language_info": {
   "codemirror_mode": {
    "name": "ipython",
    "version": 3
   },
   "file_extension": ".py",
   "mimetype": "text/x-python",
   "name": "python",
   "nbconvert_exporter": "python",
   "pygments_lexer": "ipython3",
   "version": "3.9.12"
  }
 },
 "nbformat": 4,
 "nbformat_minor": 5
}
