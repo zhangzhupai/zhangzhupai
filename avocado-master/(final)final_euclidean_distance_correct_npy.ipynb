{
 "cells": [
  {
   "cell_type": "code",
   "execution_count": 1,
   "id": "34992465-1ba7-4173-838e-496ae1611ce7",
   "metadata": {},
   "outputs": [],
   "source": [
    "import cv2\n",
    "import numpy as np\n",
    "import pandas as pd\n",
    "import numpy as np\n",
    "import mediapipe as mp\n",
    "import glob"
   ]
  },
  {
   "cell_type": "markdown",
   "id": "51845b4f",
   "metadata": {},
   "source": [
    "# final code"
   ]
  },
  {
   "cell_type": "code",
   "execution_count": 2,
   "id": "77f82ffa",
   "metadata": {},
   "outputs": [],
   "source": [
    "#점수 구하는 공식\n",
    "def euclid_distance(train, test):\n",
    "    euclid_list = []\n",
    "\n",
    "    if not np.isnan(train).any() and np.isnan(test).any():\n",
    "        return 0\n",
    "\n",
    "    for x, y in zip(train, test):\n",
    "        cossim = np.dot(x, y) / (np.linalg.norm(x)*np.linalg.norm(y))\n",
    "        euc_d = np.sqrt(2*(1-cossim))\n",
    "        score = 100 - (100 * (euc_d)/2)\n",
    "        euclid_list.append(score)\n",
    "\n",
    "    return np.nanmean(euclid_list)"
   ]
  },
  {
   "cell_type": "code",
   "execution_count": 3,
   "id": "60b7a6e8",
   "metadata": {},
   "outputs": [],
   "source": [
    "#전처리와 점수까지 한번에\n",
    "def euclid_score(train, test):\n",
    "    #test = origin_rate(test)\n",
    "    #test = box_perspective(test)\n",
    "    score_list=[]\n",
    "    for idx in range(min(train.shape[0],test.shape[0])):\n",
    "        train_v = train[idx]\n",
    "        #test_joint = test.iloc[idx].values.reshape(33,2)\n",
    "        #test_v = vector_transform(test_joint)\n",
    "        test_v = test[idx]\n",
    "        score = euclid_distance(train_v, test_v)\n",
    "        score_list.append(score)\n",
    "    return np.nanmean(score_list)"
   ]
  },
  {
   "cell_type": "code",
   "execution_count": 4,
   "id": "c2367fbf-ff26-4e39-98ed-2a9abd4ad2b2",
   "metadata": {},
   "outputs": [],
   "source": [
    "import warnings\n",
    "\n",
    "warnings.filterwarnings(action='ignore') "
   ]
  },
  {
   "cell_type": "markdown",
   "id": "2d8b31de",
   "metadata": {
    "tags": []
   },
   "source": [
    "# 1. baby"
   ]
  },
  {
   "cell_type": "code",
   "execution_count": 5,
   "id": "3956894b-f4dc-4dc0-b725-bacc9f19aeb4",
   "metadata": {},
   "outputs": [
    {
     "name": "stdout",
     "output_type": "stream",
     "text": [
      "[69 73 74 67 69]\n",
      "70.4\n"
     ]
    }
   ],
   "source": [
    "names = ['baby']\n",
    "\n",
    "train = np.load(\"./video/vector_npy/vector_baby.npy\")\n",
    "\n",
    "wrong_scores = []\n",
    "for name in names:\n",
    "    paths = glob.glob(f\"./직촬편집/{name}/*.npy\")\n",
    "    for path in paths:\n",
    "        test = np.load(path)\n",
    "        score = str(round(euclid_score(train, test)))\n",
    "        wrong_scores.append(score)\n",
    "\n",
    "wrong_scores = np.array(wrong_scores, dtype=np.int64)\n",
    "print(wrong_scores)\n",
    "print(wrong_scores.mean())"
   ]
  },
  {
   "cell_type": "markdown",
   "id": "e790c9d6-06c4-45ef-aad7-2cb7dde56184",
   "metadata": {},
   "source": [
    "# 2. bottom"
   ]
  },
  {
   "cell_type": "code",
   "execution_count": 6,
   "id": "eebea191-2edc-49ac-aa1d-1c9003cda4a4",
   "metadata": {},
   "outputs": [
    {
     "name": "stdout",
     "output_type": "stream",
     "text": [
      "[71 72 71 65 59]\n",
      "67.6\n"
     ]
    }
   ],
   "source": [
    "names = ['bottom']\n",
    "\n",
    "train = np.load(\"./video/vector_npy/vector_bottom.npy\")\n",
    "\n",
    "wrong_scores = []\n",
    "for name in names:\n",
    "    paths = glob.glob(f\"./직촬편집/{name}/*.npy\")\n",
    "    for path in paths:\n",
    "        test = np.load(path)\n",
    "        score = str(round(euclid_score(train, test)))\n",
    "        wrong_scores.append(score)\n",
    "\n",
    "wrong_scores = np.array(wrong_scores, dtype=np.int64)\n",
    "print(wrong_scores)\n",
    "print(wrong_scores.mean())"
   ]
  },
  {
   "cell_type": "markdown",
   "id": "f5fe38bc-cdf3-4435-9c5d-e6305e51748e",
   "metadata": {},
   "source": [
    "# 3. goodmorning"
   ]
  },
  {
   "cell_type": "code",
   "execution_count": 7,
   "id": "5e5ab9e8-08c0-4007-8aec-f63c1bd6443d",
   "metadata": {},
   "outputs": [
    {
     "name": "stdout",
     "output_type": "stream",
     "text": [
      "[72 77 76 74 72]\n",
      "74.2\n"
     ]
    }
   ],
   "source": [
    "names = ['goodmorning']\n",
    "\n",
    "train = np.load(\"./video/vector_npy/vector_goodmorning.npy\")\n",
    "\n",
    "wrong_scores = []\n",
    "for name in names:\n",
    "    paths = glob.glob(f\"./직촬편집/{name}/*.npy\")\n",
    "    for path in paths:\n",
    "        test = np.load(path)\n",
    "        score = str(round(euclid_score(train, test)))\n",
    "        wrong_scores.append(score)\n",
    "\n",
    "wrong_scores = np.array(wrong_scores, dtype=np.int64)\n",
    "print(wrong_scores)\n",
    "print(wrong_scores.mean())"
   ]
  },
  {
   "cell_type": "markdown",
   "id": "0a67c8e7-c0dd-4863-9f1e-cbad7fea2f6c",
   "metadata": {},
   "source": [
    "# 4. growup"
   ]
  },
  {
   "cell_type": "code",
   "execution_count": 8,
   "id": "8d2433ee-7fb2-4243-a33e-d5129f406cbb",
   "metadata": {},
   "outputs": [
    {
     "name": "stdout",
     "output_type": "stream",
     "text": [
      "[64 69 70 65 63]\n",
      "66.2\n"
     ]
    }
   ],
   "source": [
    "names = ['growup']\n",
    "\n",
    "train = np.load(\"./video/vector_npy/vector_growup.npy\")\n",
    "\n",
    "wrong_scores = []\n",
    "for name in names:\n",
    "    paths = glob.glob(f\"./직촬편집/{name}/*.npy\")\n",
    "    for path in paths:\n",
    "        test = np.load(path)\n",
    "        score = str(round(euclid_score(train, test)))\n",
    "        wrong_scores.append(score)\n",
    "\n",
    "wrong_scores = np.array(wrong_scores, dtype=np.int64)\n",
    "print(wrong_scores)\n",
    "print(wrong_scores.mean())"
   ]
  },
  {
   "cell_type": "markdown",
   "id": "6f0f89f7-d6c1-4a36-bfc0-3a365a4adece",
   "metadata": {},
   "source": [
    "# 5. jungle_dance"
   ]
  },
  {
   "cell_type": "code",
   "execution_count": 9,
   "id": "e58951b5-c2ac-4134-8de8-fc28ebecfa02",
   "metadata": {},
   "outputs": [
    {
     "name": "stdout",
     "output_type": "stream",
     "text": [
      "[80 82 77 72 73]\n",
      "76.8\n"
     ]
    }
   ],
   "source": [
    "names = ['jungle_dance']\n",
    "\n",
    "train = np.load(\"./video/vector_npy/vector_jungle.npy\")\n",
    "\n",
    "wrong_scores = []\n",
    "for name in names:\n",
    "    paths = glob.glob(f\"./직촬편집/{name}/*.npy\")\n",
    "    for path in paths:\n",
    "        test = np.load(path)\n",
    "        score = str(round(euclid_score(train, test)))\n",
    "        wrong_scores.append(score)\n",
    "\n",
    "wrong_scores = np.array(wrong_scores, dtype=np.int64)\n",
    "print(wrong_scores)\n",
    "print(wrong_scores.mean())"
   ]
  },
  {
   "cell_type": "markdown",
   "id": "4d259cab-3e41-4da9-b0fa-f032badb172e",
   "metadata": {},
   "source": [
    "# 6. monster"
   ]
  },
  {
   "cell_type": "code",
   "execution_count": 10,
   "id": "1a648138-e561-4735-b018-25d4a1dc293e",
   "metadata": {},
   "outputs": [
    {
     "name": "stdout",
     "output_type": "stream",
     "text": [
      "[63 63 68 65 62]\n",
      "64.2\n"
     ]
    }
   ],
   "source": [
    "names = ['monster']\n",
    "\n",
    "train = np.load(\"./video/vector_npy/vector_monster.npy\")\n",
    "\n",
    "wrong_scores = []\n",
    "for name in names:\n",
    "    paths = glob.glob(f\"./직촬편집/{name}/*.npy\")\n",
    "    for path in paths:\n",
    "        test = np.load(path)\n",
    "        score = str(round(euclid_score(train, test)))\n",
    "        wrong_scores.append(score)\n",
    "\n",
    "wrong_scores = np.array(wrong_scores, dtype=np.int64)\n",
    "print(wrong_scores)\n",
    "print(wrong_scores.mean())"
   ]
  },
  {
   "cell_type": "markdown",
   "id": "db8d6587-0330-4a76-b1c7-4e6e3f3119dc",
   "metadata": {},
   "source": [
    "# 7. octopus"
   ]
  },
  {
   "cell_type": "code",
   "execution_count": 11,
   "id": "beaa0ff9-06a2-441d-b51a-73dd4f187ced",
   "metadata": {},
   "outputs": [
    {
     "name": "stdout",
     "output_type": "stream",
     "text": [
      "[63 70 71 62 70]\n",
      "67.2\n"
     ]
    }
   ],
   "source": [
    "names = ['octopus']\n",
    "\n",
    "train = np.load(\"./video/vector_npy/vector_octopus.npy\")\n",
    "\n",
    "wrong_scores = []\n",
    "for name in names:\n",
    "    paths = glob.glob(f\"./직촬편집/{name}/*.npy\")\n",
    "    for path in paths:\n",
    "        test = np.load(path)\n",
    "        score = str(round(euclid_score(train, test)))\n",
    "        wrong_scores.append(score)\n",
    "\n",
    "wrong_scores = np.array(wrong_scores, dtype=np.int64)\n",
    "print(wrong_scores)\n",
    "print(wrong_scores.mean())"
   ]
  },
  {
   "cell_type": "markdown",
   "id": "dc730f4e-0712-40e0-bae8-3fa86774c5a9",
   "metadata": {},
   "source": [
    "# 8. pinkpong"
   ]
  },
  {
   "cell_type": "code",
   "execution_count": 12,
   "id": "2781dc75-81d2-46fb-91d1-a5b3eb7ccb26",
   "metadata": {},
   "outputs": [
    {
     "name": "stdout",
     "output_type": "stream",
     "text": [
      "[67 68 71 70 67]\n",
      "68.6\n"
     ]
    }
   ],
   "source": [
    "names = ['pinkpong']\n",
    "\n",
    "train = np.load(\"./video/vector_npy/vector_pinkpong.npy\")\n",
    "\n",
    "wrong_scores = []\n",
    "for name in names:\n",
    "    paths = glob.glob(f\"./직촬편집/{name}/*.npy\")\n",
    "    for path in paths:\n",
    "        test = np.load(path)\n",
    "        score = str(round(euclid_score(train, test)))\n",
    "        wrong_scores.append(score)\n",
    "\n",
    "wrong_scores = np.array(wrong_scores, dtype=np.int64)\n",
    "print(wrong_scores)\n",
    "print(wrong_scores.mean())"
   ]
  },
  {
   "cell_type": "markdown",
   "id": "f34074d6-cc2e-402e-a7cb-910bb1568816",
   "metadata": {},
   "source": [
    "# 9. poo"
   ]
  },
  {
   "cell_type": "code",
   "execution_count": 13,
   "id": "0b80c2c4-23ff-4489-8c41-3dcfc23631b7",
   "metadata": {},
   "outputs": [
    {
     "name": "stdout",
     "output_type": "stream",
     "text": [
      "[76 78 79 75 76]\n",
      "76.8\n"
     ]
    }
   ],
   "source": [
    "names = ['poo']\n",
    "\n",
    "train = np.load(\"./video/vector_npy/vector_poo.npy\")\n",
    "\n",
    "wrong_scores = []\n",
    "for name in names:\n",
    "    paths = glob.glob(f\"./직촬편집/{name}/*.npy\")\n",
    "    for path in paths:\n",
    "        test = np.load(path)\n",
    "        score = str(round(euclid_score(train, test)))\n",
    "        wrong_scores.append(score)\n",
    "\n",
    "wrong_scores = np.array(wrong_scores, dtype=np.int64)\n",
    "print(wrong_scores)\n",
    "print(wrong_scores.mean())"
   ]
  },
  {
   "cell_type": "markdown",
   "id": "6d0924de-3275-4813-824b-b8d725ab358a",
   "metadata": {},
   "source": [
    "# 10. volcano"
   ]
  },
  {
   "cell_type": "code",
   "execution_count": 14,
   "id": "9384e41b-d41f-43a0-b04c-c9f36a29b6d7",
   "metadata": {},
   "outputs": [
    {
     "name": "stdout",
     "output_type": "stream",
     "text": [
      "[63 70 68 65 69]\n",
      "67.0\n"
     ]
    }
   ],
   "source": [
    "names = ['volcano']\n",
    "\n",
    "train = np.load(\"./video/vector_npy/vector_volcano.npy\")\n",
    "\n",
    "wrong_scores = []\n",
    "for name in names:\n",
    "    paths = glob.glob(f\"./직촬편집/{name}/*.npy\")\n",
    "    for path in paths:\n",
    "        test = np.load(path)\n",
    "        score = str(round(euclid_score(train, test)))\n",
    "        wrong_scores.append(score)\n",
    "\n",
    "wrong_scores = np.array(wrong_scores, dtype=np.int64)\n",
    "print(wrong_scores)\n",
    "print(wrong_scores.mean())"
   ]
  }
 ],
 "metadata": {
  "kernelspec": {
   "display_name": "Python 3 (ipykernel)",
   "language": "python",
   "name": "python3"
  },
  "language_info": {
   "codemirror_mode": {
    "name": "ipython",
    "version": 3
   },
   "file_extension": ".py",
   "mimetype": "text/x-python",
   "name": "python",
   "nbconvert_exporter": "python",
   "pygments_lexer": "ipython3",
   "version": "3.9.12"
  }
 },
 "nbformat": 4,
 "nbformat_minor": 5
}
