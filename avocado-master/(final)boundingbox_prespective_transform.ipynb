{
 "cells": [
  {
   "cell_type": "code",
   "execution_count": 1,
   "id": "753461a1-597d-42f8-82c9-1413b2f4dde5",
   "metadata": {},
   "outputs": [],
   "source": [
    "import cv2\n",
    "import pandas as pd\n",
    "import numpy as np\n",
    "import matplotlib.pyplot as plt\n",
    "import mediapipe as mp\n",
    "from sklearn.preprocessing import normalize"
   ]
  },
  {
   "cell_type": "markdown",
   "id": "9ce350d8-7e60-46c1-94f4-573c5e62055d",
   "metadata": {},
   "source": [
    "# load train, test data"
   ]
  },
  {
   "cell_type": "code",
   "execution_count": 2,
   "id": "b9f2703a-c509-4bbc-a050-1bcbc4a48838",
   "metadata": {},
   "outputs": [],
   "source": [
    "train = pd.read_csv(\"./image/dtw_sample_train_skeleton.csv\", header=[0,1])"
   ]
  },
  {
   "cell_type": "code",
   "execution_count": 3,
   "id": "145cfe87-7be9-44c3-bd1d-5e73371ce835",
   "metadata": {},
   "outputs": [],
   "source": [
    "test = pd.read_csv(\"./image/dtw_sample_test_skeleton.csv\", header=[0,1])"
   ]
  },
  {
   "cell_type": "markdown",
   "id": "0bfd1bb2-7be4-455d-aa7b-6cc3bb160ebc",
   "metadata": {},
   "source": [
    "- 원본 비율인 (640 * 720) 로 통일시키는 작업이 필요"
   ]
  },
  {
   "cell_type": "markdown",
   "id": "70a6f79d-5fce-42c3-80b2-5dcd00d548ac",
   "metadata": {},
   "source": [
    "# extract x, y from skeleton & change to (640 * 720)"
   ]
  },
  {
   "cell_type": "code",
   "execution_count": 4,
   "id": "1d876b0d-20dc-4774-a703-401f07590590",
   "metadata": {},
   "outputs": [],
   "source": [
    "def origin_rate(df):\n",
    "    df_xy = df[[(a, b) for a, b in train.columns if b in ('x', 'y')]]\n",
    "    df_xy.loc[:, (slice(None), 'x')] = df_xy.loc[:, (slice(None), 'x')].apply(lambda x : x*640)\n",
    "    df_xy.loc[:, (slice(None), 'y')] = df_xy.loc[:, (slice(None), 'y')].apply(lambda x : x*720)    \n",
    "    return df_xy"
   ]
  },
  {
   "cell_type": "markdown",
   "id": "c88b444a-8f07-4bd7-8ba7-0a195a3426ad",
   "metadata": {},
   "source": [
    "# bounding box & perspective transform"
   ]
  },
  {
   "cell_type": "code",
   "execution_count": 5,
   "id": "74b2ed7f-a7aa-4009-b72f-b9927c16db56",
   "metadata": {
    "tags": []
   },
   "outputs": [],
   "source": [
    "def box_perspective(df_xy):\n",
    "    for idx in range(len(df_xy)):\n",
    "        x_min = df_xy.loc[idx, (slice(None), 'x')].min()\n",
    "        x_max = df_xy.loc[idx, (slice(None), 'x')].max()\n",
    "        y_min = df_xy.loc[idx, (slice(None), 'y')].min()\n",
    "        y_max = df_xy.loc[idx, (slice(None), 'y')].max()\n",
    "\n",
    "        x_rate = 640/((x_max+20)-(x_min-20))\n",
    "        y_rate = 720/((y_max+20)-(y_min-20))\n",
    "\n",
    "        df_xy.loc[idx, (slice(None), 'x')] = df_xy.loc[idx, (slice(None), 'x')].apply(lambda x : (x-(x_min-20))*x_rate)\n",
    "        df_xy.loc[idx, (slice(None), 'y')] = df_xy.loc[idx, (slice(None), 'y')].apply(lambda x : (x-(y_min-20))*y_rate)\n",
    "        \n",
    "    return df_xy"
   ]
  },
  {
   "cell_type": "markdown",
   "id": "4a71dcd1-2096-467c-8393-a4fee9881f1f",
   "metadata": {},
   "source": [
    "# cosine similarity"
   ]
  },
  {
   "cell_type": "code",
   "execution_count": 6,
   "id": "2631e16e-330c-4264-a275-9b26891bcc3c",
   "metadata": {},
   "outputs": [],
   "source": [
    "def cosine_similarity(train, test):\n",
    "    train = normalize(train)\n",
    "    test = normalize(test)\n",
    "    cossim_list = []\n",
    "    for x, y in zip(train, test):\n",
    "        cossim = np.dot(x, y) / (np.linalg.norm(x)*np.linalg.norm(y))\n",
    "        cossim_list.append(cossim)\n",
    "    return cossim_list"
   ]
  },
  {
   "cell_type": "markdown",
   "id": "62fb7f16-2a0c-4c20-87dc-4768c02f2323",
   "metadata": {},
   "source": [
    "# cosine similarity by using preprocessed data"
   ]
  },
  {
   "cell_type": "code",
   "execution_count": 7,
   "id": "bb1836f4-97ca-401a-8c94-91d3155be501",
   "metadata": {},
   "outputs": [],
   "source": [
    "def cossim_score(train, test):\n",
    "    train = origin_rate(train)\n",
    "    test = origin_rate(test)\n",
    "    \n",
    "    train = box_perspective(train)\n",
    "    test = box_perspective(test)\n",
    "    \n",
    "    cossim_list = cosine_similarity(train, test)\n",
    "    print(cossim_list)\n",
    "    return np.mean(cossim_list)"
   ]
  },
  {
   "cell_type": "code",
   "execution_count": 8,
   "id": "b570c2c5-b366-48bc-8d7a-2ad3b5c5389c",
   "metadata": {},
   "outputs": [
    {
     "name": "stderr",
     "output_type": "stream",
     "text": [
      "C:\\Users\\EOM\\AppData\\Local\\Temp\\ipykernel_23808\\56938711.py:3: SettingWithCopyWarning: \n",
      "A value is trying to be set on a copy of a slice from a DataFrame.\n",
      "Try using .loc[row_indexer,col_indexer] = value instead\n",
      "\n",
      "See the caveats in the documentation: https://pandas.pydata.org/pandas-docs/stable/user_guide/indexing.html#returning-a-view-versus-a-copy\n",
      "  df_xy.loc[:, (slice(None), 'x')] = df_xy.loc[:, (slice(None), 'x')].apply(lambda x : x*640)\n",
      "C:\\Users\\EOM\\AppData\\Local\\Temp\\ipykernel_23808\\56938711.py:4: SettingWithCopyWarning: \n",
      "A value is trying to be set on a copy of a slice from a DataFrame.\n",
      "Try using .loc[row_indexer,col_indexer] = value instead\n",
      "\n",
      "See the caveats in the documentation: https://pandas.pydata.org/pandas-docs/stable/user_guide/indexing.html#returning-a-view-versus-a-copy\n",
      "  df_xy.loc[:, (slice(None), 'y')] = df_xy.loc[:, (slice(None), 'y')].apply(lambda x : x*720)\n",
      "C:\\Users\\EOM\\AppData\\Local\\Temp\\ipykernel_23808\\56938711.py:3: SettingWithCopyWarning: \n",
      "A value is trying to be set on a copy of a slice from a DataFrame.\n",
      "Try using .loc[row_indexer,col_indexer] = value instead\n",
      "\n",
      "See the caveats in the documentation: https://pandas.pydata.org/pandas-docs/stable/user_guide/indexing.html#returning-a-view-versus-a-copy\n",
      "  df_xy.loc[:, (slice(None), 'x')] = df_xy.loc[:, (slice(None), 'x')].apply(lambda x : x*640)\n",
      "C:\\Users\\EOM\\AppData\\Local\\Temp\\ipykernel_23808\\56938711.py:4: SettingWithCopyWarning: \n",
      "A value is trying to be set on a copy of a slice from a DataFrame.\n",
      "Try using .loc[row_indexer,col_indexer] = value instead\n",
      "\n",
      "See the caveats in the documentation: https://pandas.pydata.org/pandas-docs/stable/user_guide/indexing.html#returning-a-view-versus-a-copy\n",
      "  df_xy.loc[:, (slice(None), 'y')] = df_xy.loc[:, (slice(None), 'y')].apply(lambda x : x*720)\n"
     ]
    },
    {
     "name": "stdout",
     "output_type": "stream",
     "text": [
      "[0.9586796055060256, 0.9626725331075946, 0.9677971541480507, 0.9736866657523419, 0.9786281832814725, 0.979442644202207, 0.9797960213857231, 0.9824086891796411, 0.9886410098974926, 0.99285881033121, 0.9966688053493691, 0.9981575826847819, 0.9969489507212883, 0.9954892771794178, 0.9947657701778377, 0.9951085791307888, 0.9951653713764911, 0.9940564377391198, 0.9918176745825792, 0.9915616778637463, 0.9911800136384834, 0.99198201930028, 0.993051144668597, 0.9939795314946509, 0.9949727353755022, 0.9956320295452633, 0.9944086832242485, 0.9927804757971237, 0.9917302793905592, 0.989276282536754]\n"
     ]
    },
    {
     "data": {
      "text/plain": [
       "0.9881114879522879"
      ]
     },
     "execution_count": 8,
     "metadata": {},
     "output_type": "execute_result"
    }
   ],
   "source": [
    "cossim_score(train,test)"
   ]
  },
  {
   "cell_type": "markdown",
   "id": "b59fbc2e-d359-4690-b963-a77ef9011bb2",
   "metadata": {
    "tags": []
   },
   "source": [
    "# euclidean distance of cosine similarity"
   ]
  },
  {
   "cell_type": "code",
   "execution_count": 15,
   "id": "c322334b-5e53-4473-a4aa-7ea3b7b7bee0",
   "metadata": {
    "tags": []
   },
   "outputs": [],
   "source": [
    "def euclid_distance(train, test):\n",
    "    train = normalize(train)\n",
    "    test = normalize(test)\n",
    "    euclid_list = []\n",
    "    for x, y in zip(train, test):\n",
    "        cossim = np.dot(x, y) / (np.linalg.norm(x)*np.linalg.norm(y))\n",
    "        euc_d = np.sqrt(2*(1-cossim))\n",
    "        score = 100 - (100 * (euc_d)/2)\n",
    "        euclid_list.append(score)\n",
    "    return euclid_list"
   ]
  },
  {
   "cell_type": "markdown",
   "id": "ac63a129",
   "metadata": {},
   "source": [
    "# euclidean distance of cosine similarity by using preprocessed data"
   ]
  },
  {
   "cell_type": "code",
   "execution_count": 16,
   "id": "1718bf59-70ce-4a74-93aa-1827ce670d9d",
   "metadata": {},
   "outputs": [],
   "source": [
    "def cossim_euclid(train, test):\n",
    "    train = origin_rate(train)\n",
    "    test = origin_rate(test)\n",
    "    \n",
    "    train = box_perspective(train)\n",
    "    test = box_perspective(test)\n",
    "    \n",
    "    euclid_list = euclid_distance(train, test)\n",
    "    print(euclid_list)\n",
    "    \n",
    "    return np.mean(euclid_list)"
   ]
  },
  {
   "cell_type": "code",
   "execution_count": 17,
   "id": "d94f4d39-34f7-4fb6-b5e6-a90553a15c65",
   "metadata": {
    "tags": []
   },
   "outputs": [
    {
     "name": "stderr",
     "output_type": "stream",
     "text": [
      "C:\\Users\\EOM\\AppData\\Local\\Temp\\ipykernel_23808\\56938711.py:3: SettingWithCopyWarning: \n",
      "A value is trying to be set on a copy of a slice from a DataFrame.\n",
      "Try using .loc[row_indexer,col_indexer] = value instead\n",
      "\n",
      "See the caveats in the documentation: https://pandas.pydata.org/pandas-docs/stable/user_guide/indexing.html#returning-a-view-versus-a-copy\n",
      "  df_xy.loc[:, (slice(None), 'x')] = df_xy.loc[:, (slice(None), 'x')].apply(lambda x : x*640)\n",
      "C:\\Users\\EOM\\AppData\\Local\\Temp\\ipykernel_23808\\56938711.py:4: SettingWithCopyWarning: \n",
      "A value is trying to be set on a copy of a slice from a DataFrame.\n",
      "Try using .loc[row_indexer,col_indexer] = value instead\n",
      "\n",
      "See the caveats in the documentation: https://pandas.pydata.org/pandas-docs/stable/user_guide/indexing.html#returning-a-view-versus-a-copy\n",
      "  df_xy.loc[:, (slice(None), 'y')] = df_xy.loc[:, (slice(None), 'y')].apply(lambda x : x*720)\n",
      "C:\\Users\\EOM\\AppData\\Local\\Temp\\ipykernel_23808\\56938711.py:3: SettingWithCopyWarning: \n",
      "A value is trying to be set on a copy of a slice from a DataFrame.\n",
      "Try using .loc[row_indexer,col_indexer] = value instead\n",
      "\n",
      "See the caveats in the documentation: https://pandas.pydata.org/pandas-docs/stable/user_guide/indexing.html#returning-a-view-versus-a-copy\n",
      "  df_xy.loc[:, (slice(None), 'x')] = df_xy.loc[:, (slice(None), 'x')].apply(lambda x : x*640)\n",
      "C:\\Users\\EOM\\AppData\\Local\\Temp\\ipykernel_23808\\56938711.py:4: SettingWithCopyWarning: \n",
      "A value is trying to be set on a copy of a slice from a DataFrame.\n",
      "Try using .loc[row_indexer,col_indexer] = value instead\n",
      "\n",
      "See the caveats in the documentation: https://pandas.pydata.org/pandas-docs/stable/user_guide/indexing.html#returning-a-view-versus-a-copy\n",
      "  df_xy.loc[:, (slice(None), 'y')] = df_xy.loc[:, (slice(None), 'y')].apply(lambda x : x*720)\n"
     ]
    },
    {
     "name": "stdout",
     "output_type": "stream",
     "text": [
      "[85.62634449870626, 86.3384724696677, 87.31086176055496, 88.52974842306017, 89.66273326296368, 89.86161852222135, 89.9491347103155, 90.62148444039279, 92.46375753358897, 94.02455454849182, 95.91882697583715, 96.96485806327112, 96.09420348794788, 95.25093544970055, 94.88422546325472, 95.05458754540572, 95.08338092612976, 94.5485954741552, 93.60378025024906, 93.50449303893309, 93.35922204801403, 93.66834117323113, 94.10557240633028, 94.51343982747427, 94.98638622124831, 95.32668722706435, 94.71260140723648, 93.9918704229701, 93.56971205565382, 92.67752860598078]\n"
     ]
    },
    {
     "data": {
      "text/plain": [
       "92.87359860800167"
      ]
     },
     "execution_count": 17,
     "metadata": {},
     "output_type": "execute_result"
    }
   ],
   "source": [
    "cossim_euclid(train, test)"
   ]
  },
  {
   "cell_type": "markdown",
   "id": "367ad0c4-3870-4923-a28a-af829db85e3b",
   "metadata": {},
   "source": [
    "# fastdtw"
   ]
  },
  {
   "cell_type": "code",
   "execution_count": 18,
   "id": "2a0f3965-c1b0-41a2-bc56-0d24a00f483c",
   "metadata": {},
   "outputs": [],
   "source": [
    "from fastdtw import fastdtw"
   ]
  },
  {
   "cell_type": "code",
   "execution_count": 21,
   "id": "5aabf312-e02d-464e-83be-680f8e2e5a1b",
   "metadata": {},
   "outputs": [],
   "source": [
    "def fast_dtw(train, test):\n",
    "    train = origin_rate(train)\n",
    "    test = origin_rate(test)\n",
    "    \n",
    "    train = box_perspective(train)\n",
    "    test = box_perspective(test)\n",
    "    \n",
    "    train = normalize(train)\n",
    "    test = normalize(test)\n",
    "    \n",
    "    results = [fastdtw(a, b)[0] for a, b in zip(train, test)]\n",
    "    print(results)\n",
    "    return np.mean(results)"
   ]
  },
  {
   "cell_type": "markdown",
   "id": "272c856f",
   "metadata": {},
   "source": [
    "# fastdtw by using preprocessed data"
   ]
  },
  {
   "cell_type": "code",
   "execution_count": 22,
   "id": "be73f446-b310-4951-b09a-37318d8b676c",
   "metadata": {},
   "outputs": [
    {
     "name": "stderr",
     "output_type": "stream",
     "text": [
      "C:\\Users\\EOM\\AppData\\Local\\Temp\\ipykernel_23808\\56938711.py:3: SettingWithCopyWarning: \n",
      "A value is trying to be set on a copy of a slice from a DataFrame.\n",
      "Try using .loc[row_indexer,col_indexer] = value instead\n",
      "\n",
      "See the caveats in the documentation: https://pandas.pydata.org/pandas-docs/stable/user_guide/indexing.html#returning-a-view-versus-a-copy\n",
      "  df_xy.loc[:, (slice(None), 'x')] = df_xy.loc[:, (slice(None), 'x')].apply(lambda x : x*640)\n",
      "C:\\Users\\EOM\\AppData\\Local\\Temp\\ipykernel_23808\\56938711.py:4: SettingWithCopyWarning: \n",
      "A value is trying to be set on a copy of a slice from a DataFrame.\n",
      "Try using .loc[row_indexer,col_indexer] = value instead\n",
      "\n",
      "See the caveats in the documentation: https://pandas.pydata.org/pandas-docs/stable/user_guide/indexing.html#returning-a-view-versus-a-copy\n",
      "  df_xy.loc[:, (slice(None), 'y')] = df_xy.loc[:, (slice(None), 'y')].apply(lambda x : x*720)\n",
      "C:\\Users\\EOM\\AppData\\Local\\Temp\\ipykernel_23808\\56938711.py:3: SettingWithCopyWarning: \n",
      "A value is trying to be set on a copy of a slice from a DataFrame.\n",
      "Try using .loc[row_indexer,col_indexer] = value instead\n",
      "\n",
      "See the caveats in the documentation: https://pandas.pydata.org/pandas-docs/stable/user_guide/indexing.html#returning-a-view-versus-a-copy\n",
      "  df_xy.loc[:, (slice(None), 'x')] = df_xy.loc[:, (slice(None), 'x')].apply(lambda x : x*640)\n",
      "C:\\Users\\EOM\\AppData\\Local\\Temp\\ipykernel_23808\\56938711.py:4: SettingWithCopyWarning: \n",
      "A value is trying to be set on a copy of a slice from a DataFrame.\n",
      "Try using .loc[row_indexer,col_indexer] = value instead\n",
      "\n",
      "See the caveats in the documentation: https://pandas.pydata.org/pandas-docs/stable/user_guide/indexing.html#returning-a-view-versus-a-copy\n",
      "  df_xy.loc[:, (slice(None), 'y')] = df_xy.loc[:, (slice(None), 'y')].apply(lambda x : x*720)\n"
     ]
    },
    {
     "name": "stdout",
     "output_type": "stream",
     "text": [
      "[1.654210453061402, 1.718550431415356, 1.6219457901384786, 1.3082799334389559, 1.189930369701576, 1.1241371972546954, 1.3934873906264635, 1.0568569972450632, 0.7628028682836626, 0.6790325082281086, 0.4167896548948705, 0.3631588204192593, 0.44095375825609284, 0.5788348343222662, 0.6056744979632591, 0.5120699812190866, 0.6101566887876624, 0.7096447820984977, 0.8639263789511256, 0.8751101658752976, 0.9261620916694813, 0.8687795739473091, 0.7827762239063389, 0.716825150762717, 0.6980163740535056, 0.6712917185236912, 0.6599409168706601, 0.7081055434605501, 0.7187835267665338, 0.8346138241862717]\n"
     ]
    },
    {
     "data": {
      "text/plain": [
       "0.8690282815442745"
      ]
     },
     "execution_count": 22,
     "metadata": {},
     "output_type": "execute_result"
    }
   ],
   "source": [
    "fast_dtw(train, test)"
   ]
  },
  {
   "cell_type": "markdown",
   "id": "f76e1f93-5969-4e74-91b2-7704faad5344",
   "metadata": {},
   "source": [
    "# use wrong data"
   ]
  },
  {
   "cell_type": "code",
   "execution_count": 25,
   "id": "37af8283-715c-4703-9fac-3106859e3a8b",
   "metadata": {},
   "outputs": [],
   "source": [
    "wrong_data = pd.read_csv('./image/knee_clap2_skeleton.csv', header=[0,1])"
   ]
  },
  {
   "cell_type": "code",
   "execution_count": 27,
   "id": "9c9f13b3-c461-4d3a-af85-8af87aeb9a2b",
   "metadata": {},
   "outputs": [
    {
     "name": "stderr",
     "output_type": "stream",
     "text": [
      "C:\\Users\\EOM\\AppData\\Local\\Temp\\ipykernel_23808\\56938711.py:3: SettingWithCopyWarning: \n",
      "A value is trying to be set on a copy of a slice from a DataFrame.\n",
      "Try using .loc[row_indexer,col_indexer] = value instead\n",
      "\n",
      "See the caveats in the documentation: https://pandas.pydata.org/pandas-docs/stable/user_guide/indexing.html#returning-a-view-versus-a-copy\n",
      "  df_xy.loc[:, (slice(None), 'x')] = df_xy.loc[:, (slice(None), 'x')].apply(lambda x : x*640)\n",
      "C:\\Users\\EOM\\AppData\\Local\\Temp\\ipykernel_23808\\56938711.py:4: SettingWithCopyWarning: \n",
      "A value is trying to be set on a copy of a slice from a DataFrame.\n",
      "Try using .loc[row_indexer,col_indexer] = value instead\n",
      "\n",
      "See the caveats in the documentation: https://pandas.pydata.org/pandas-docs/stable/user_guide/indexing.html#returning-a-view-versus-a-copy\n",
      "  df_xy.loc[:, (slice(None), 'y')] = df_xy.loc[:, (slice(None), 'y')].apply(lambda x : x*720)\n",
      "C:\\Users\\EOM\\AppData\\Local\\Temp\\ipykernel_23808\\56938711.py:3: SettingWithCopyWarning: \n",
      "A value is trying to be set on a copy of a slice from a DataFrame.\n",
      "Try using .loc[row_indexer,col_indexer] = value instead\n",
      "\n",
      "See the caveats in the documentation: https://pandas.pydata.org/pandas-docs/stable/user_guide/indexing.html#returning-a-view-versus-a-copy\n",
      "  df_xy.loc[:, (slice(None), 'x')] = df_xy.loc[:, (slice(None), 'x')].apply(lambda x : x*640)\n",
      "C:\\Users\\EOM\\AppData\\Local\\Temp\\ipykernel_23808\\56938711.py:4: SettingWithCopyWarning: \n",
      "A value is trying to be set on a copy of a slice from a DataFrame.\n",
      "Try using .loc[row_indexer,col_indexer] = value instead\n",
      "\n",
      "See the caveats in the documentation: https://pandas.pydata.org/pandas-docs/stable/user_guide/indexing.html#returning-a-view-versus-a-copy\n",
      "  df_xy.loc[:, (slice(None), 'y')] = df_xy.loc[:, (slice(None), 'y')].apply(lambda x : x*720)\n"
     ]
    },
    {
     "name": "stdout",
     "output_type": "stream",
     "text": [
      "[0.978687016333144, 0.9762785371354709, 0.9761183324329543, 0.9725974306670826, 0.9681742947683392, 0.9625802591364567, 0.9649717738876231, 0.9704003599500306, 0.9793700521201956, 0.9826893848263936, 0.9833912447765966, 0.9847078027990428, 0.9831056547766419, 0.9713639347901498, 0.9726448461033165, 0.9818757319451702, 0.9842921917791181, 0.9879431562275357, 0.9892379967449529, 0.9927298981413675, 0.993456912449082, 0.9950211737393284, 0.9956648021235719, 0.996095489170175, 0.9960855465293456, 0.9968312582346662, 0.9921430717309432, 0.988648027959295, 0.9842132732464578, 0.9860987778112968]\n"
     ]
    },
    {
     "data": {
      "text/plain": [
       "0.9829139410778581"
      ]
     },
     "execution_count": 27,
     "metadata": {},
     "output_type": "execute_result"
    }
   ],
   "source": [
    "cossim_score(train, wrong_data)"
   ]
  },
  {
   "cell_type": "code",
   "execution_count": 28,
   "id": "f003e83c-7d63-4b90-8512-36a1dcf80115",
   "metadata": {},
   "outputs": [
    {
     "name": "stderr",
     "output_type": "stream",
     "text": [
      "C:\\Users\\EOM\\AppData\\Local\\Temp\\ipykernel_23808\\56938711.py:3: SettingWithCopyWarning: \n",
      "A value is trying to be set on a copy of a slice from a DataFrame.\n",
      "Try using .loc[row_indexer,col_indexer] = value instead\n",
      "\n",
      "See the caveats in the documentation: https://pandas.pydata.org/pandas-docs/stable/user_guide/indexing.html#returning-a-view-versus-a-copy\n",
      "  df_xy.loc[:, (slice(None), 'x')] = df_xy.loc[:, (slice(None), 'x')].apply(lambda x : x*640)\n",
      "C:\\Users\\EOM\\AppData\\Local\\Temp\\ipykernel_23808\\56938711.py:4: SettingWithCopyWarning: \n",
      "A value is trying to be set on a copy of a slice from a DataFrame.\n",
      "Try using .loc[row_indexer,col_indexer] = value instead\n",
      "\n",
      "See the caveats in the documentation: https://pandas.pydata.org/pandas-docs/stable/user_guide/indexing.html#returning-a-view-versus-a-copy\n",
      "  df_xy.loc[:, (slice(None), 'y')] = df_xy.loc[:, (slice(None), 'y')].apply(lambda x : x*720)\n",
      "C:\\Users\\EOM\\AppData\\Local\\Temp\\ipykernel_23808\\56938711.py:3: SettingWithCopyWarning: \n",
      "A value is trying to be set on a copy of a slice from a DataFrame.\n",
      "Try using .loc[row_indexer,col_indexer] = value instead\n",
      "\n",
      "See the caveats in the documentation: https://pandas.pydata.org/pandas-docs/stable/user_guide/indexing.html#returning-a-view-versus-a-copy\n",
      "  df_xy.loc[:, (slice(None), 'x')] = df_xy.loc[:, (slice(None), 'x')].apply(lambda x : x*640)\n",
      "C:\\Users\\EOM\\AppData\\Local\\Temp\\ipykernel_23808\\56938711.py:4: SettingWithCopyWarning: \n",
      "A value is trying to be set on a copy of a slice from a DataFrame.\n",
      "Try using .loc[row_indexer,col_indexer] = value instead\n",
      "\n",
      "See the caveats in the documentation: https://pandas.pydata.org/pandas-docs/stable/user_guide/indexing.html#returning-a-view-versus-a-copy\n",
      "  df_xy.loc[:, (slice(None), 'y')] = df_xy.loc[:, (slice(None), 'y')].apply(lambda x : x*720)\n"
     ]
    },
    {
     "name": "stdout",
     "output_type": "stream",
     "text": [
      "[89.67697145531992, 89.10930147682686, 89.07258777956883, 88.29475131983148, 87.38538442288849, 86.32159715764607, 86.76591028586083, 87.83454890890408, 89.84373398344539, 90.69660944235747, 90.88716421101438, 91.25580272381815, 90.80914986974598, 88.03420182147255, 88.30488266482898, 90.48047583782945, 91.13777448355044, 92.23570873406197, 92.66446891661992, 93.97086164587654, 94.28025894339699, 95.01059810164004, 95.3442520061605, 95.58156655033426, 95.57594446765502, 96.01958433996286, 93.73225388634127, 92.4660859970713, 91.11553975934885, 91.66296749775343]\n"
     ]
    },
    {
     "data": {
      "text/plain": [
       "91.18569795637109"
      ]
     },
     "execution_count": 28,
     "metadata": {},
     "output_type": "execute_result"
    }
   ],
   "source": [
    "cossim_euclid(train, wrong_data)"
   ]
  },
  {
   "cell_type": "code",
   "execution_count": 29,
   "id": "434b5e6d-25b8-461b-a0de-cad58dccca1e",
   "metadata": {
    "scrolled": false
   },
   "outputs": [
    {
     "name": "stderr",
     "output_type": "stream",
     "text": [
      "C:\\Users\\EOM\\AppData\\Local\\Temp\\ipykernel_23808\\56938711.py:3: SettingWithCopyWarning: \n",
      "A value is trying to be set on a copy of a slice from a DataFrame.\n",
      "Try using .loc[row_indexer,col_indexer] = value instead\n",
      "\n",
      "See the caveats in the documentation: https://pandas.pydata.org/pandas-docs/stable/user_guide/indexing.html#returning-a-view-versus-a-copy\n",
      "  df_xy.loc[:, (slice(None), 'x')] = df_xy.loc[:, (slice(None), 'x')].apply(lambda x : x*640)\n",
      "C:\\Users\\EOM\\AppData\\Local\\Temp\\ipykernel_23808\\56938711.py:4: SettingWithCopyWarning: \n",
      "A value is trying to be set on a copy of a slice from a DataFrame.\n",
      "Try using .loc[row_indexer,col_indexer] = value instead\n",
      "\n",
      "See the caveats in the documentation: https://pandas.pydata.org/pandas-docs/stable/user_guide/indexing.html#returning-a-view-versus-a-copy\n",
      "  df_xy.loc[:, (slice(None), 'y')] = df_xy.loc[:, (slice(None), 'y')].apply(lambda x : x*720)\n",
      "C:\\Users\\EOM\\AppData\\Local\\Temp\\ipykernel_23808\\56938711.py:3: SettingWithCopyWarning: \n",
      "A value is trying to be set on a copy of a slice from a DataFrame.\n",
      "Try using .loc[row_indexer,col_indexer] = value instead\n",
      "\n",
      "See the caveats in the documentation: https://pandas.pydata.org/pandas-docs/stable/user_guide/indexing.html#returning-a-view-versus-a-copy\n",
      "  df_xy.loc[:, (slice(None), 'x')] = df_xy.loc[:, (slice(None), 'x')].apply(lambda x : x*640)\n",
      "C:\\Users\\EOM\\AppData\\Local\\Temp\\ipykernel_23808\\56938711.py:4: SettingWithCopyWarning: \n",
      "A value is trying to be set on a copy of a slice from a DataFrame.\n",
      "Try using .loc[row_indexer,col_indexer] = value instead\n",
      "\n",
      "See the caveats in the documentation: https://pandas.pydata.org/pandas-docs/stable/user_guide/indexing.html#returning-a-view-versus-a-copy\n",
      "  df_xy.loc[:, (slice(None), 'y')] = df_xy.loc[:, (slice(None), 'y')].apply(lambda x : x*720)\n"
     ]
    },
    {
     "name": "stdout",
     "output_type": "stream",
     "text": [
      "[1.3126851846435648, 1.4419160547607892, 1.3528518628793358, 1.4819204802276307, 1.2911100421409794, 1.3542528871045347, 1.3512724895828316, 1.4340117307447944, 1.2800335050450642, 1.1864177580032802, 1.2465876047183142, 1.2062763615932184, 1.204023405701856, 1.5572378519662715, 1.5486174880691945, 2.3894491940535523, 2.43947175025441, 1.0645790706154634, 1.0481202959786096, 0.7635206023524856, 0.701608381516172, 0.6201741424643674, 0.5722345927583897, 0.888081866170203, 0.543420137047499, 0.4939885644640652, 0.6392635715930504, 0.7693115347309056, 1.3738895642492355, 0.9604511582601798]\n"
     ]
    },
    {
     "data": {
      "text/plain": [
       "1.1838926377896746"
      ]
     },
     "execution_count": 29,
     "metadata": {},
     "output_type": "execute_result"
    }
   ],
   "source": [
    "fast_dtw(train, wrong_data)"
   ]
  },
  {
   "cell_type": "markdown",
   "id": "d026b6ac",
   "metadata": {},
   "source": [
    "# 결과"
   ]
  },
  {
   "cell_type": "markdown",
   "id": "c02c0753",
   "metadata": {},
   "source": [
    "## 동일한 동작으로 정확도 확인\n",
    "- cosine similarity : 0.9881114879522879\n",
    "- euclidean distance of cosine similarity : 92.87359860800167\n",
    "- fastdtw : 0.8690282815442745"
   ]
  },
  {
   "cell_type": "markdown",
   "id": "2dc74c31",
   "metadata": {},
   "source": [
    "## 다른 동작으로 정확도 확인\n",
    "- cosine similarity : 0.9829139410778581\n",
    "- euclidean distance of cosine similarity : 91.18569795637109\n",
    "- fastdtw : 1.1838926377896746"
   ]
  },
  {
   "cell_type": "markdown",
   "id": "2db491f9",
   "metadata": {},
   "source": [
    "- bounding box와 perspecive transform과 같은 preprocessing 을 했음에도 불구하고 성능이 크게 좋아지지 않았음"
   ]
  }
 ],
 "metadata": {
  "kernelspec": {
   "display_name": "Python 3 (ipykernel)",
   "language": "python",
   "name": "python3"
  },
  "language_info": {
   "codemirror_mode": {
    "name": "ipython",
    "version": 3
   },
   "file_extension": ".py",
   "mimetype": "text/x-python",
   "name": "python",
   "nbconvert_exporter": "python",
   "pygments_lexer": "ipython3",
   "version": "3.9.12"
  }
 },
 "nbformat": 4,
 "nbformat_minor": 5
}
