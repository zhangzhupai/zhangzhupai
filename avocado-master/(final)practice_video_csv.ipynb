{
 "cells": [
  {
   "cell_type": "code",
   "execution_count": 1,
   "id": "8d6bc536-068d-43eb-ac1a-cd82cd84b7d5",
   "metadata": {},
   "outputs": [],
   "source": [
    "import numpy as np\n",
    "import pandas as pd\n",
    "import cv2\n",
    "import mediapipe as mp\n",
    "import glob"
   ]
  },
  {
   "cell_type": "markdown",
   "id": "b8f6d4c5",
   "metadata": {},
   "source": [
    "# make function"
   ]
  },
  {
   "cell_type": "code",
   "execution_count": 2,
   "id": "b7321bc5-3b5d-41ae-95e1-433e85064a81",
   "metadata": {},
   "outputs": [],
   "source": [
    "mp_pose = mp.solutions.pose\n",
    "mp_drawing = mp.solutions.drawing_utils"
   ]
  },
  {
   "cell_type": "code",
   "execution_count": 3,
   "id": "baf81dea-ffae-4685-bcd2-757df7e89f15",
   "metadata": {},
   "outputs": [],
   "source": [
    "def extract_keypoints(results):\n",
    "    pose = np.array([[res.x, res.y, res.z, res.visibility] for res in results.pose_landmarks.landmark]).flatten() if results.pose_landmarks else np.zeros(132)\n",
    "    return pose"
   ]
  },
  {
   "cell_type": "code",
   "execution_count": 22,
   "id": "7180e8dd-c86a-4c8d-97ca-c4770be8ccf2",
   "metadata": {},
   "outputs": [],
   "source": [
    "def save_csv(data, name):\n",
    "    lv1 = [x.name for x in mp_pose.PoseLandmark]\n",
    "    lv2 = ['x', 'y', 'z', 'v']\n",
    "    columns = pd.MultiIndex.from_product([lv1, lv2])\n",
    "    df = pd.DataFrame(data, columns=columns)\n",
    "    df.to_csv(f\"./직촬편집/volcano/{name}_skeleton.csv\", index=False)"
   ]
  },
  {
   "cell_type": "code",
   "execution_count": 5,
   "id": "0f7eecf5-b950-45dc-9dd1-1b066764fe54",
   "metadata": {},
   "outputs": [],
   "source": [
    "def make_csv(results, name):\n",
    "    data = []\n",
    "    for result in results:\n",
    "        pose = extract_keypoints(result)\n",
    "\n",
    "        data.append(pose)\n",
    "\n",
    "    data = np.array(data)\n",
    "\n",
    "    save_csv(data, name)"
   ]
  },
  {
   "cell_type": "markdown",
   "id": "19064dbe",
   "metadata": {},
   "source": [
    "# make skeleton csv files of videos"
   ]
  },
  {
   "cell_type": "code",
   "execution_count": 23,
   "id": "99c5d914-c745-432e-8d75-a3531acf5319",
   "metadata": {},
   "outputs": [
    {
     "data": {
      "text/plain": [
       "['./직촬편집/volcano\\\\(final)volcano_cs.mp4',\n",
       " './직촬편집/volcano\\\\(final)volcano_dy.mp4',\n",
       " './직촬편집/volcano\\\\(final)volcano_sj.mp4',\n",
       " './직촬편집/volcano\\\\(final)volcano_uk.mp4',\n",
       " './직촬편집/volcano\\\\(final)volcano_yj.mp4']"
      ]
     },
     "execution_count": 23,
     "metadata": {},
     "output_type": "execute_result"
    }
   ],
   "source": [
    "paths = glob.glob(\"./직촬편집/volcano/*.mp4\")\n",
    "paths"
   ]
  },
  {
   "cell_type": "code",
   "execution_count": 24,
   "id": "c299c4c5-69b8-40d2-970f-c9024beebb97",
   "metadata": {
    "jupyter": {
     "outputs_hidden": true
    },
    "tags": []
   },
   "outputs": [
    {
     "name": "stdout",
     "output_type": "stream",
     "text": [
      "volcano_cs\n",
      "height : 1080.0\n",
      "width : 1920.0\n",
      "fps : 30.0\n",
      "------------------------------------------------\n",
      "volcano_dy\n",
      "height : 1080.0\n",
      "width : 1920.0\n",
      "fps : 30.010202038500776\n",
      "------------------------------------------------\n",
      "volcano_sj\n",
      "height : 1080.0\n",
      "width : 1920.0\n",
      "fps : 30.0\n",
      "------------------------------------------------\n",
      "volcano_uk\n",
      "height : 1080.0\n",
      "width : 1920.0\n",
      "fps : 30.010204750929333\n",
      "------------------------------------------------\n",
      "volcano_yj\n",
      "height : 1080.0\n",
      "width : 1920.0\n",
      "fps : 30.0\n",
      "------------------------------------------------\n"
     ]
    }
   ],
   "source": [
    "for path in paths:\n",
    "    name = path.split('(final)')[1].split('.')[0]\n",
    "    cap = cv2.VideoCapture(path)\n",
    "\n",
    "    # video info\n",
    "    fps = cap.get(cv2.CAP_PROP_FPS)\n",
    "    delay = int(1000/fps)\n",
    "    print(name)\n",
    "    print(\"height :\", cap.get(cv2.CAP_PROP_FRAME_HEIGHT))\n",
    "    print(\"width :\", cap.get(cv2.CAP_PROP_FRAME_WIDTH))\n",
    "    print(\"fps :\", fps)\n",
    "    print(\"------------------------------------------------\")\n",
    "\n",
    "    data = []\n",
    "\n",
    "    with mp_pose.Pose(static_image_mode=False,\n",
    "                        model_complexity=1,\n",
    "                        smooth_landmarks=True,\n",
    "                        enable_segmentation=False,\n",
    "                        smooth_segmentation=True,\n",
    "                        min_detection_confidence=0.8,\n",
    "                        min_tracking_confidence=0.8,) as pose:\n",
    "\n",
    "        while cap.isOpened():\n",
    "\n",
    "            ret, frame = cap.read()\n",
    "\n",
    "            if not ret:\n",
    "                break\n",
    "\n",
    "            img = cv2.resize(frame, (0,0), fx=1/2, fy=1/2, interpolation=cv2.INTER_AREA)\n",
    "            img = cv2.flip(img, 0)\n",
    "            \n",
    "            img = cv2.cvtColor(frame, cv2.COLOR_BGR2RGB)\n",
    "            img.flags.writeable = False\n",
    "            results = pose.process(img)\n",
    "            img.flags.writeable = True\n",
    "            img = cv2.cvtColor(img, cv2.COLOR_RGB2BGR)\n",
    "\n",
    "            try:\n",
    "                landmarks = results.pose_landmarks.landmark\n",
    "                #print(landmarks)\n",
    "            except:\n",
    "                pass\n",
    "\n",
    "            data.append(results)\n",
    "\n",
    "            # mp_drawing.draw_landmarks(img, results.pose_landmarks, mp_pose.POSE_CONNECTIONS)\n",
    "\n",
    "            # cv2.imshow(\"test\", img)\n",
    "\n",
    "            if cv2.waitKey(delay) & 0xFF == ord('q'):\n",
    "                break\n",
    "\n",
    "        cap.release()\n",
    "        cv2.destroyAllWindows()\n",
    "    \n",
    "    make_csv(data, name)"
   ]
  }
 ],
 "metadata": {
  "kernelspec": {
   "display_name": "Python 3 (ipykernel)",
   "language": "python",
   "name": "python3"
  },
  "language_info": {
   "codemirror_mode": {
    "name": "ipython",
    "version": 3
   },
   "file_extension": ".py",
   "mimetype": "text/x-python",
   "name": "python",
   "nbconvert_exporter": "python",
   "pygments_lexer": "ipython3",
   "version": "3.9.12"
  }
 },
 "nbformat": 4,
 "nbformat_minor": 5
}
