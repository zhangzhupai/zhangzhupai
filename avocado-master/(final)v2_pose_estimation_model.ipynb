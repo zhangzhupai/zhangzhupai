{
 "cells": [
  {
   "cell_type": "code",
   "execution_count": 1,
   "id": "5eac6a50",
   "metadata": {},
   "outputs": [],
   "source": [
    "import numpy as np\n",
    "import os\n",
    "import matplotlib.pyplot as plt\n",
    "from sklearn.model_selection import train_test_split\n",
    "from sklearn.metrics import multilabel_confusion_matrix\n",
    "from tensorflow.keras.utils import to_categorical\n",
    "from tensorflow.keras.models import Sequential\n",
    "from tensorflow.keras.layers import LSTM, Dense\n",
    "from tensorflow.keras.callbacks import ModelCheckpoint, ReduceLROnPlateau\n",
    "from tensorflow.keras.models import load_model"
   ]
  },
  {
   "cell_type": "code",
   "execution_count": 8,
   "id": "ee4dfec2",
   "metadata": {},
   "outputs": [],
   "source": [
    "actions = ['head', 'shoulder', 'knee', 'clap', 'left_foot', 'right_foot', 'both_foot', 'yeah']"
   ]
  },
  {
   "cell_type": "code",
   "execution_count": 2,
   "id": "f3b8c2e0",
   "metadata": {},
   "outputs": [],
   "source": [
    "data = np.concatenate([np.load('dataset/seq_head_1673312096.npy'),\n",
    "                       np.load('dataset/seq_head_1673312167.npy'),\n",
    "                       np.load('dataset/seq_head_1673312288.npy'),\n",
    "                       np.load('dataset/seq_head_1673312438.npy'),\n",
    "                       np.load('dataset/seq_head_1673312530.npy'),  # head\n",
    "                       np.load('dataset/seq_shoulder_1673312611.npy'),\n",
    "                       np.load('dataset/seq_shoulder_1673312744.npy'),\n",
    "                       np.load('dataset/seq_shoulder_1673312847.npy'),\n",
    "                       np.load('dataset/seq_shoulder_1673312953.npy'),\n",
    "                       np.load('dataset/seq_shoulder_1673313045.npy'),  # shoulder\n",
    "                       np.load('dataset/seq_knee_1673313191.npy'),\n",
    "                       np.load('dataset/seq_knee_1673313291.npy'),\n",
    "                       np.load('dataset/seq_knee_1673313461.npy'),\n",
    "                       np.load('dataset/seq_knee_1673313562.npy'),\n",
    "                       np.load('dataset/seq_knee_1673313657.npy'),  # knee\n",
    "                       np.load('dataset/seq_clap_1673313729.npy'),\n",
    "                       np.load('dataset/seq_clap_1673313791.npy'),\n",
    "                       np.load('dataset/seq_clap_1673313994.npy'),\n",
    "                       np.load('dataset/seq_clap_1673314088.npy'),\n",
    "                       np.load('dataset/seq_clap_1673313890.npy'),  # clap\n",
    "                       np.load('dataset/seq_left_foot_1673314180.npy'),\n",
    "                       np.load('dataset/seq_left_foot_1673314271.npy'),\n",
    "                       np.load('dataset/seq_left_foot_1673314375.npy'),\n",
    "                       np.load('dataset/seq_left_foot_1673314480.npy'),\n",
    "                       np.load('dataset/seq_left_foot_1673314567.npy'),  # left_foot\n",
    "                       np.load('dataset/seq_right_foot_1673314639.npy'),\n",
    "                       np.load('dataset/seq_right_foot_1673314731.npy'),\n",
    "                       np.load('dataset/seq_right_foot_1673314993.npy'),\n",
    "                       np.load('dataset/seq_right_foot_1673315098.npy'),  # right_foot\n",
    "                       np.load('dataset/seq_both_foot_1673315178.npy'),\n",
    "                       np.load('dataset/seq_both_foot_1673315271.npy'),\n",
    "                       np.load('dataset/seq_both_foot_1673315384.npy'),\n",
    "                       np.load('dataset/seq_both_foot_1673315499.npy'),\n",
    "                       np.load('dataset/seq_both_foot_1673315586.npy'),  # both_foot\n",
    "                       np.load('dataset/seq_yeah_1673315644.npy'),\n",
    "                       np.load('dataset/seq_yeah_1673315733.npy'),\n",
    "                       np.load('dataset/seq_yeah_1673315848.npy'),\n",
    "                       np.load('dataset/seq_yeah_1673315961.npy'),\n",
    "                       np.load('dataset/seq_yeah_1673316050.npy'),  # yeah\n",
    "                       ], axis=0)"
   ]
  },
  {
   "cell_type": "code",
   "execution_count": 3,
   "id": "6fcc2232",
   "metadata": {
    "scrolled": true
   },
   "outputs": [
    {
     "data": {
      "text/plain": [
       "(35967, 30, 149)"
      ]
     },
     "execution_count": 3,
     "metadata": {},
     "output_type": "execute_result"
    }
   ],
   "source": [
    "data.shape"
   ]
  },
  {
   "cell_type": "code",
   "execution_count": 4,
   "id": "d4e1ff60",
   "metadata": {},
   "outputs": [],
   "source": [
    "x_data = data[:, :, :-1]\n",
    "labels = data[:, 0, -1]"
   ]
  },
  {
   "cell_type": "code",
   "execution_count": 5,
   "id": "84a142f4",
   "metadata": {},
   "outputs": [
    {
     "name": "stdout",
     "output_type": "stream",
     "text": [
      "(35967, 30, 148)\n",
      "(35967,)\n"
     ]
    }
   ],
   "source": [
    "print(x_data.shape)\n",
    "print(labels.shape)"
   ]
  },
  {
   "cell_type": "code",
   "execution_count": 6,
   "id": "b196e8c2",
   "metadata": {},
   "outputs": [
    {
     "data": {
      "text/plain": [
       "array([0., 0., 0., ..., 7., 7., 7.])"
      ]
     },
     "execution_count": 6,
     "metadata": {},
     "output_type": "execute_result"
    }
   ],
   "source": [
    "labels"
   ]
  },
  {
   "cell_type": "code",
   "execution_count": 9,
   "id": "b45490de",
   "metadata": {},
   "outputs": [],
   "source": [
    "y_data = to_categorical(labels, num_classes=len(actions))"
   ]
  },
  {
   "cell_type": "code",
   "execution_count": 10,
   "id": "5f5d242c",
   "metadata": {},
   "outputs": [
    {
     "data": {
      "text/plain": [
       "array([[1., 0., 0., ..., 0., 0., 0.],\n",
       "       [1., 0., 0., ..., 0., 0., 0.],\n",
       "       [1., 0., 0., ..., 0., 0., 0.],\n",
       "       ...,\n",
       "       [0., 0., 0., ..., 0., 0., 1.],\n",
       "       [0., 0., 0., ..., 0., 0., 1.],\n",
       "       [0., 0., 0., ..., 0., 0., 1.]], dtype=float32)"
      ]
     },
     "execution_count": 10,
     "metadata": {},
     "output_type": "execute_result"
    }
   ],
   "source": [
    "y_data"
   ]
  },
  {
   "cell_type": "code",
   "execution_count": 14,
   "id": "56c8770c",
   "metadata": {},
   "outputs": [],
   "source": [
    "x_data = x_data.astype(np.float32)\n",
    "y_data = y_data.astype(np.float32)\n",
    "\n",
    "x_train, x_val, y_train, y_val = train_test_split(x_data, y_data, test_size=0.2, stratify = y_data, random_state=2021)"
   ]
  },
  {
   "cell_type": "code",
   "execution_count": 15,
   "id": "3255e887",
   "metadata": {},
   "outputs": [
    {
     "name": "stdout",
     "output_type": "stream",
     "text": [
      "(28773, 30, 148) (28773, 8)\n",
      "(7194, 30, 148) (7194, 8)\n"
     ]
    }
   ],
   "source": [
    "print(x_train.shape, y_train.shape)\n",
    "print(x_val.shape, y_val.shape)"
   ]
  },
  {
   "cell_type": "code",
   "execution_count": 16,
   "id": "09d1a2f0",
   "metadata": {},
   "outputs": [],
   "source": [
    "model = Sequential([LSTM(64, activation='relu', input_shape=x_train.shape[1:3]),\n",
    "                    Dense(32, activation='relu'),\n",
    "                    Dense(len(actions), activation='softmax')])"
   ]
  },
  {
   "cell_type": "code",
   "execution_count": 17,
   "id": "d4b96714",
   "metadata": {},
   "outputs": [
    {
     "name": "stdout",
     "output_type": "stream",
     "text": [
      "Model: \"sequential\"\n",
      "_________________________________________________________________\n",
      " Layer (type)                Output Shape              Param #   \n",
      "=================================================================\n",
      " lstm (LSTM)                 (None, 64)                54528     \n",
      "                                                                 \n",
      " dense (Dense)               (None, 32)                2080      \n",
      "                                                                 \n",
      " dense_1 (Dense)             (None, 8)                 264       \n",
      "                                                                 \n",
      "=================================================================\n",
      "Total params: 56,872\n",
      "Trainable params: 56,872\n",
      "Non-trainable params: 0\n",
      "_________________________________________________________________\n"
     ]
    }
   ],
   "source": [
    "model.compile(optimizer='adam', loss='categorical_crossentropy', metrics=['acc'])\n",
    "model.summary()"
   ]
  },
  {
   "cell_type": "code",
   "execution_count": 18,
   "id": "93578d28",
   "metadata": {
    "scrolled": false
   },
   "outputs": [
    {
     "name": "stdout",
     "output_type": "stream",
     "text": [
      "Epoch 1/15\n",
      "899/900 [============================>.] - ETA: 0s - loss: 10.0928 - acc: 0.4040\n",
      "Epoch 1: val_acc improved from -inf to 0.63664, saving model to models\\model.h5\n",
      "900/900 [==============================] - 20s 18ms/step - loss: 10.0913 - acc: 0.4041 - val_loss: 0.9861 - val_acc: 0.6366 - lr: 0.0010\n",
      "Epoch 2/15\n",
      "898/900 [============================>.] - ETA: 0s - loss: 0.9864 - acc: 0.6645\n",
      "Epoch 2: val_acc did not improve from 0.63664\n",
      "900/900 [==============================] - 15s 16ms/step - loss: 0.9868 - acc: 0.6645 - val_loss: 1.6044 - val_acc: 0.5491 - lr: 0.0010\n",
      "Epoch 3/15\n",
      "898/900 [============================>.] - ETA: 0s - loss: 0.9214 - acc: 0.6664\n",
      "Epoch 3: val_acc improved from 0.63664 to 0.67334, saving model to models\\model.h5\n",
      "900/900 [==============================] - 15s 17ms/step - loss: 0.9210 - acc: 0.6665 - val_loss: 0.8160 - val_acc: 0.6733 - lr: 0.0010\n",
      "Epoch 4/15\n",
      "897/900 [============================>.] - ETA: 0s - loss: 0.7299 - acc: 0.7209\n",
      "Epoch 4: val_acc improved from 0.67334 to 0.74437, saving model to models\\model.h5\n",
      "900/900 [==============================] - 16s 17ms/step - loss: 0.7303 - acc: 0.7207 - val_loss: 0.6865 - val_acc: 0.7444 - lr: 0.0010\n",
      "Epoch 5/15\n",
      "898/900 [============================>.] - ETA: 0s - loss: 0.6648 - acc: 0.7478\n",
      "Epoch 5: val_acc did not improve from 0.74437\n",
      "900/900 [==============================] - 17s 19ms/step - loss: 0.6648 - acc: 0.7478 - val_loss: 0.6559 - val_acc: 0.7349 - lr: 0.0010\n",
      "Epoch 6/15\n",
      "899/900 [============================>.] - ETA: 0s - loss: 0.5535 - acc: 0.7830\n",
      "Epoch 6: val_acc improved from 0.74437 to 0.75424, saving model to models\\model.h5\n",
      "900/900 [==============================] - 18s 20ms/step - loss: 0.5537 - acc: 0.7829 - val_loss: 0.7997 - val_acc: 0.7542 - lr: 0.0010\n",
      "Epoch 7/15\n",
      "900/900 [==============================] - ETA: 0s - loss: 0.5132 - acc: 0.8063\n",
      "Epoch 7: val_acc improved from 0.75424 to 0.84348, saving model to models\\model.h5\n",
      "900/900 [==============================] - 21s 23ms/step - loss: 0.5132 - acc: 0.8063 - val_loss: 0.3886 - val_acc: 0.8435 - lr: 0.0010\n",
      "Epoch 8/15\n",
      "898/900 [============================>.] - ETA: 0s - loss: 1.2343 - acc: 0.7690\n",
      "Epoch 8: val_acc did not improve from 0.84348\n",
      "900/900 [==============================] - 17s 19ms/step - loss: 1.2337 - acc: 0.7688 - val_loss: 0.6546 - val_acc: 0.7398 - lr: 0.0010\n",
      "Epoch 9/15\n",
      "899/900 [============================>.] - ETA: 0s - loss: 0.5155 - acc: 0.7963\n",
      "Epoch 9: val_acc did not improve from 0.84348\n",
      "900/900 [==============================] - 16s 18ms/step - loss: 0.5155 - acc: 0.7963 - val_loss: 0.4408 - val_acc: 0.8097 - lr: 0.0010\n",
      "Epoch 10/15\n",
      "899/900 [============================>.] - ETA: 0s - loss: 0.7606 - acc: 0.7727\n",
      "Epoch 10: val_acc did not improve from 0.84348\n",
      "900/900 [==============================] - 16s 18ms/step - loss: 0.7605 - acc: 0.7728 - val_loss: 0.4207 - val_acc: 0.8389 - lr: 0.0010\n",
      "Epoch 11/15\n",
      "899/900 [============================>.] - ETA: 0s - loss: 0.3661 - acc: 0.8642\n",
      "Epoch 11: val_acc improved from 0.84348 to 0.90089, saving model to models\\model.h5\n",
      "900/900 [==============================] - 19s 22ms/step - loss: 0.3661 - acc: 0.8642 - val_loss: 0.2643 - val_acc: 0.9009 - lr: 0.0010\n",
      "Epoch 12/15\n",
      "900/900 [==============================] - ETA: 0s - loss: 0.2728 - acc: 0.8968\n",
      "Epoch 12: val_acc improved from 0.90089 to 0.92285, saving model to models\\model.h5\n",
      "900/900 [==============================] - 20s 22ms/step - loss: 0.2728 - acc: 0.8968 - val_loss: 0.2113 - val_acc: 0.9229 - lr: 0.0010\n",
      "Epoch 13/15\n",
      "898/900 [============================>.] - ETA: 0s - loss: 0.2309 - acc: 0.9124\n",
      "Epoch 13: val_acc improved from 0.92285 to 0.92841, saving model to models\\model.h5\n",
      "900/900 [==============================] - 20s 22ms/step - loss: 0.2308 - acc: 0.9124 - val_loss: 0.1892 - val_acc: 0.9284 - lr: 0.0010\n",
      "Epoch 14/15\n",
      "900/900 [==============================] - ETA: 0s - loss: 0.1877 - acc: 0.9275\n",
      "Epoch 14: val_acc improved from 0.92841 to 0.93717, saving model to models\\model.h5\n",
      "900/900 [==============================] - 21s 24ms/step - loss: 0.1877 - acc: 0.9275 - val_loss: 0.1697 - val_acc: 0.9372 - lr: 0.0010\n",
      "Epoch 15/15\n",
      "899/900 [============================>.] - ETA: 0s - loss: 0.2335 - acc: 0.9131\n",
      "Epoch 15: val_acc did not improve from 0.93717\n",
      "900/900 [==============================] - 22s 24ms/step - loss: 0.2335 - acc: 0.9130 - val_loss: 0.2421 - val_acc: 0.8960 - lr: 0.0010\n"
     ]
    }
   ],
   "source": [
    "history = model.fit(x_train, y_train, validation_data=(x_val, y_val), epochs=15,\n",
    "                    callbacks=[ModelCheckpoint('models/model.h5', monitor='val_acc', verbose=1, save_best_only=True, mode='auto'),\n",
    "                               ReduceLROnPlateau(monitor='val_acc', factor=0.5, patience=50, verbose=1, mode='auto')])"
   ]
  },
  {
   "cell_type": "code",
   "execution_count": 19,
   "id": "607748b0",
   "metadata": {},
   "outputs": [
    {
     "data": {
      "image/png": "[encoded data removed]",
      "text/plain": [
       "<Figure size 1152x720 with 2 Axes>"
      ]
     },
     "metadata": {
      "needs_background": "light"
     },
     "output_type": "display_data"
    }
   ],
   "source": [
    "fig, loss_ax = plt.subplots(figsize=(16, 10))\n",
    "acc_ax = loss_ax.twinx()\n",
    "\n",
    "loss_ax.plot(history.history['loss'], 'y', label='train loss')\n",
    "loss_ax.plot(history.history['val_loss'], 'r', label='val loss')\n",
    "loss_ax.set_xlabel('epoch')\n",
    "loss_ax.set_ylabel('loss')\n",
    "loss_ax.legend(loc='upper left')\n",
    "\n",
    "acc_ax.plot(history.history['acc'], 'b', label='train acc')\n",
    "acc_ax.plot(history.history['val_acc'], 'g', label='val acc')\n",
    "acc_ax.set_ylabel('accuracy')\n",
    "acc_ax.legend(loc='upper left')\n",
    "\n",
    "plt.show()"
   ]
  },
  {
   "cell_type": "code",
   "execution_count": 20,
   "id": "9be46381",
   "metadata": {},
   "outputs": [],
   "source": [
    "model = load_model('models/model.h5')"
   ]
  },
  {
   "cell_type": "code",
   "execution_count": 21,
   "id": "bb1da0c1",
   "metadata": {},
   "outputs": [
    {
     "name": "stdout",
     "output_type": "stream",
     "text": [
      "225/225 [==============================] - 2s 6ms/step\n"
     ]
    }
   ],
   "source": [
    "y_pred = model.predict(x_val)"
   ]
  },
  {
   "cell_type": "code",
   "execution_count": 22,
   "id": "e75bbbb6",
   "metadata": {},
   "outputs": [
    {
     "data": {
      "text/plain": [
       "array([[[6285,    2],\n",
       "        [   5,  902]],\n",
       "\n",
       "       [[6152,  112],\n",
       "        [  34,  896]],\n",
       "\n",
       "       [[6279,    5],\n",
       "        [  15,  895]],\n",
       "\n",
       "       [[6082,  161],\n",
       "        [ 108,  843]],\n",
       "\n",
       "       [[6260,   10],\n",
       "        [   8,  916]],\n",
       "\n",
       "       [[6464,   11],\n",
       "        [   0,  719]],\n",
       "\n",
       "       [[6199,   93],\n",
       "        [   5,  897]],\n",
       "\n",
       "       [[6185,   58],\n",
       "        [ 277,  674]]], dtype=int64)"
      ]
     },
     "execution_count": 22,
     "metadata": {},
     "output_type": "execute_result"
    }
   ],
   "source": [
    "multilabel_confusion_matrix(np.argmax(y_val, axis=1), np.argmax(y_pred, axis=1))"
   ]
  },
  {
   "cell_type": "code",
   "execution_count": null,
   "id": "ffa9a174",
   "metadata": {},
   "outputs": [],
   "source": []
  },
  {
   "cell_type": "code",
   "execution_count": null,
   "id": "77e5264e",
   "metadata": {},
   "outputs": [],
   "source": []
  }
 ],
 "metadata": {
  "kernelspec": {
   "display_name": "Python 3 (ipykernel)",
   "language": "python",
   "name": "python3"
  },
  "language_info": {
   "codemirror_mode": {
    "name": "ipython",
    "version": 3
   },
   "file_extension": ".py",
   "mimetype": "text/x-python",
   "name": "python",
   "nbconvert_exporter": "python",
   "pygments_lexer": "ipython3",
   "version": "3.9.12"
  }
 },
 "nbformat": 4,
 "nbformat_minor": 5
}
