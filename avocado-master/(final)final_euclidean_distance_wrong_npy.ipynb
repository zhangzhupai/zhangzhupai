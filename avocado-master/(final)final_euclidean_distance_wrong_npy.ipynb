{
 "cells": [
  {
   "cell_type": "code",
   "execution_count": 1,
   "id": "34992465-1ba7-4173-838e-496ae1611ce7",
   "metadata": {},
   "outputs": [],
   "source": [
    "import cv2\n",
    "import numpy as np\n",
    "import pandas as pd\n",
    "import numpy as np\n",
    "import mediapipe as mp\n",
    "import glob"
   ]
  },
  {
   "cell_type": "markdown",
   "id": "51845b4f",
   "metadata": {},
   "source": [
    "# final code"
   ]
  },
  {
   "cell_type": "code",
   "execution_count": 2,
   "id": "77f82ffa",
   "metadata": {},
   "outputs": [],
   "source": [
    "#점수 구하는 공식\n",
    "def euclid_distance(train, test):\n",
    "    euclid_list = []\n",
    "\n",
    "    if not np.isnan(train).any() and np.isnan(test).any():\n",
    "        return 0\n",
    "\n",
    "    for x, y in zip(train, test):\n",
    "        cossim = np.dot(x, y) / (np.linalg.norm(x)*np.linalg.norm(y))\n",
    "        euc_d = np.sqrt(2*(1-cossim))\n",
    "        score = 100 - (100 * (euc_d)/2)\n",
    "        euclid_list.append(score)\n",
    "\n",
    "    return np.nanmean(euclid_list)"
   ]
  },
  {
   "cell_type": "code",
   "execution_count": 3,
   "id": "60b7a6e8",
   "metadata": {},
   "outputs": [],
   "source": [
    "#전처리와 점수까지 한번에\n",
    "def euclid_score(train, test):\n",
    "    #test = origin_rate(test)\n",
    "    #test = box_perspective(test)\n",
    "    score_list=[]\n",
    "    for idx in range(min(train.shape[0],test.shape[0])):\n",
    "        train_v = train[idx]\n",
    "        #test_joint = test.iloc[idx].values.reshape(33,2)\n",
    "        #test_v = vector_transform(test_joint)\n",
    "        test_v = test[idx]\n",
    "        score = euclid_distance(train_v, test_v)\n",
    "        score_list.append(score)\n",
    "    return np.nanmean(score_list)"
   ]
  },
  {
   "cell_type": "code",
   "execution_count": 4,
   "id": "c2367fbf-ff26-4e39-98ed-2a9abd4ad2b2",
   "metadata": {},
   "outputs": [],
   "source": [
    "import warnings\n",
    "\n",
    "warnings.filterwarnings(action='ignore') "
   ]
  },
  {
   "cell_type": "markdown",
   "id": "2d8b31de",
   "metadata": {
    "tags": []
   },
   "source": [
    "# 1. baby"
   ]
  },
  {
   "cell_type": "code",
   "execution_count": 13,
   "id": "a713218c-2930-4c72-9769-f04c56c4a7a0",
   "metadata": {},
   "outputs": [],
   "source": [
    "names = ['bottom', 'goodmorning', 'growup', 'jungle_dance', 'monster', 'octopus', 'pinkpong', 'poo', 'volcano']\n",
    "\n",
    "train = np.load(\"./video/vector_npy/vector_baby.npy\")\n",
    "\n",
    "wrong_scores = []\n",
    "for name in names:\n",
    "    paths = glob.glob(f\"./직촬편집/{name}/*.npy\")\n",
    "    for path in paths:\n",
    "        test = np.load(path)\n",
    "        score = str(round(euclid_score(train, test)))\n",
    "        wrong_scores.append(score)"
   ]
  },
  {
   "cell_type": "code",
   "execution_count": 14,
   "id": "6ba67a7f-6b16-410d-bf4a-f23903f12f74",
   "metadata": {},
   "outputs": [
    {
     "name": "stdout",
     "output_type": "stream",
     "text": [
      "[59 58 57 57 55 55 57 57 56 55 60 60 60 62 60 57 57 57 59 58 60 61 60 61\n",
      " 62 61 60 60 59 60 61 60 61 63 62 57 59 57 58 60 60 63 63 63 61]\n",
      "59.28888888888889\n"
     ]
    }
   ],
   "source": [
    "wrong_scores = np.array(wrong_scores, dtype=np.int64)\n",
    "print(wrong_scores)\n",
    "print(wrong_scores.mean())"
   ]
  },
  {
   "cell_type": "markdown",
   "id": "e790c9d6-06c4-45ef-aad7-2cb7dde56184",
   "metadata": {},
   "source": [
    "# 2. bottom"
   ]
  },
  {
   "cell_type": "code",
   "execution_count": 15,
   "id": "fb359015",
   "metadata": {},
   "outputs": [],
   "source": [
    "names = ['baby', 'goodmorning', 'growup', 'jungle_dance', 'monster', 'octopus', 'pinkpong', 'poo', 'volcano']\n",
    "\n",
    "train = np.load(\"./video/vector_npy/vector_bottom.npy\")\n",
    "\n",
    "wrong_scores = []\n",
    "for name in names:\n",
    "    paths = glob.glob(f\"./직촬편집/{name}/*.npy\")\n",
    "    for path in paths:\n",
    "        test = np.load(path)\n",
    "        score = str(round(euclid_score(train, test)))\n",
    "        wrong_scores.append(score)"
   ]
  },
  {
   "cell_type": "code",
   "execution_count": 16,
   "id": "428f3977",
   "metadata": {},
   "outputs": [
    {
     "name": "stdout",
     "output_type": "stream",
     "text": [
      "[59 59 60 58 59 60 61 59 57 58 56 59 58 56 56 59 59 59 58 59 56 57 59 57\n",
      " 58 56 57 56 54 56 59 60 59 59 59 61 61 59 60 60 56 57 58 58 57]\n",
      "58.17777777777778\n"
     ]
    }
   ],
   "source": [
    "wrong_scores = np.array(wrong_scores, dtype=np.int64)\n",
    "print(wrong_scores)\n",
    "print(wrong_scores.mean())"
   ]
  },
  {
   "cell_type": "markdown",
   "id": "f5fe38bc-cdf3-4435-9c5d-e6305e51748e",
   "metadata": {},
   "source": [
    "# 3. goodmorning"
   ]
  },
  {
   "cell_type": "code",
   "execution_count": 17,
   "id": "6bd13a3f",
   "metadata": {},
   "outputs": [],
   "source": [
    "names = ['baby', 'bottom', 'growup', 'jungle_dance', 'monster', 'octopus', 'pinkpong', 'poo', 'volcano']\n",
    "\n",
    "train = np.load(\"./video/vector_npy/vector_goodmorning.npy\")\n",
    "\n",
    "wrong_scores = []\n",
    "for name in names:\n",
    "    paths = glob.glob(f\"./직촬편집/{name}/*.npy\")\n",
    "    for path in paths:\n",
    "        test = np.load(path)\n",
    "        score = str(round(euclid_score(train, test)))\n",
    "        wrong_scores.append(score)"
   ]
  },
  {
   "cell_type": "code",
   "execution_count": 18,
   "id": "bc34555f",
   "metadata": {},
   "outputs": [
    {
     "name": "stdout",
     "output_type": "stream",
     "text": [
      "[59 59 58 62 61 59 58 60 61 59 57 57 59 52 60 60 59 59 58 62 59 61 59 61\n",
      " 62 56 55 54 57 57 60 58 59 59 59 59 62 61 62 62 57 58 56 59 60]\n",
      "58.91111111111111\n"
     ]
    }
   ],
   "source": [
    "wrong_scores = np.array(wrong_scores, dtype=np.int64)\n",
    "print(wrong_scores)\n",
    "print(wrong_scores.mean())"
   ]
  },
  {
   "cell_type": "markdown",
   "id": "0a67c8e7-c0dd-4863-9f1e-cbad7fea2f6c",
   "metadata": {},
   "source": [
    "# 4. growup"
   ]
  },
  {
   "cell_type": "code",
   "execution_count": 19,
   "id": "c0634cc4",
   "metadata": {},
   "outputs": [],
   "source": [
    "names = ['baby', 'bottom', 'goodmorning', 'jungle_dance', 'monster', 'octopus', 'pinkpong', 'poo', 'volcano']\n",
    "\n",
    "train = np.load(\"./video/vector_npy/vector_growup.npy\")\n",
    "\n",
    "wrong_scores = []\n",
    "for name in names:\n",
    "    paths = glob.glob(f\"./직촬편집/{name}/*.npy\")\n",
    "    for path in paths:\n",
    "        test = np.load(path)\n",
    "        score = str(round(euclid_score(train, test)))\n",
    "        wrong_scores.append(score)"
   ]
  },
  {
   "cell_type": "code",
   "execution_count": 20,
   "id": "00e53f3e",
   "metadata": {},
   "outputs": [
    {
     "name": "stdout",
     "output_type": "stream",
     "text": [
      "[62 63 62 63 64 60 58 60 57 58 58 60 60 60 60 61 62 61 62 62 59 62 60 61\n",
      " 62 60 58 59 59 58 61 61 62 61 62 62 63 60 63 64 59 59 61 59 59]\n",
      "60.6\n"
     ]
    }
   ],
   "source": [
    "wrong_scores = np.array(wrong_scores, dtype=np.int64)\n",
    "print(wrong_scores)\n",
    "print(wrong_scores.mean())"
   ]
  },
  {
   "cell_type": "markdown",
   "id": "6f0f89f7-d6c1-4a36-bfc0-3a365a4adece",
   "metadata": {},
   "source": [
    "# 5. jungle_dance"
   ]
  },
  {
   "cell_type": "code",
   "execution_count": 21,
   "id": "171400ec",
   "metadata": {},
   "outputs": [],
   "source": [
    "names = ['baby', 'bottom', 'goodmorning', 'growup', 'monster', 'octopus', 'pinkpong', 'poo', 'volcano']\n",
    "\n",
    "train = np.load(\"./video/vector_npy/vector_jungle.npy\")\n",
    "\n",
    "wrong_scores = []\n",
    "for name in names:\n",
    "    paths = glob.glob(f\"./직촬편집/{name}/*.npy\")\n",
    "    for path in paths:\n",
    "        test = np.load(path)\n",
    "        score = str(round(euclid_score(train, test)))\n",
    "        wrong_scores.append(score)"
   ]
  },
  {
   "cell_type": "code",
   "execution_count": 22,
   "id": "9f5b5e1e",
   "metadata": {},
   "outputs": [
    {
     "name": "stdout",
     "output_type": "stream",
     "text": [
      "[61 60 62 57 59 62 61 59 59 60 63 62 63 59 59 61 64 63 57 60 62 62 65 61\n",
      " 62 61 61 61 59 60 62 65 65 63 62 68 68 67 66 64 62 60 63 59 58]\n",
      "61.71111111111111\n"
     ]
    }
   ],
   "source": [
    "wrong_scores = np.array(wrong_scores, dtype=np.int64)\n",
    "print(wrong_scores)\n",
    "print(wrong_scores.mean())"
   ]
  },
  {
   "cell_type": "markdown",
   "id": "4d259cab-3e41-4da9-b0fa-f032badb172e",
   "metadata": {},
   "source": [
    "# 6. monster"
   ]
  },
  {
   "cell_type": "code",
   "execution_count": 23,
   "id": "f231e37a",
   "metadata": {},
   "outputs": [],
   "source": [
    "names = ['baby', 'bottom', 'goodmorning', 'growup', 'jungle_dance', 'octopus', 'pinkpong', 'poo', 'volcano']\n",
    "\n",
    "train = np.load(\"./video/vector_npy/vector_monster.npy\")\n",
    "\n",
    "wrong_scores = []\n",
    "for name in names:\n",
    "    paths = glob.glob(f\"./직촬편집/{name}/*.npy\")\n",
    "    for path in paths:\n",
    "        test = np.load(path)\n",
    "        score = str(round(euclid_score(train, test)))\n",
    "        wrong_scores.append(score)"
   ]
  },
  {
   "cell_type": "code",
   "execution_count": 24,
   "id": "2c54223a",
   "metadata": {},
   "outputs": [
    {
     "name": "stdout",
     "output_type": "stream",
     "text": [
      "[61 62 61 61 61 59 57 58 58 58 59 60 59 59 60 59 60 60 55 59 61 62 61 60\n",
      " 61 60 60 60 59 60 60 60 60 61 58 61 61 59 60 61 61 61 60 59 59]\n",
      "59.8\n"
     ]
    }
   ],
   "source": [
    "wrong_scores = np.array(wrong_scores, dtype=np.int64)\n",
    "print(wrong_scores)\n",
    "print(wrong_scores.mean())"
   ]
  },
  {
   "cell_type": "markdown",
   "id": "db8d6587-0330-4a76-b1c7-4e6e3f3119dc",
   "metadata": {},
   "source": [
    "# 7. octopus"
   ]
  },
  {
   "cell_type": "code",
   "execution_count": 25,
   "id": "88f15d99",
   "metadata": {},
   "outputs": [],
   "source": [
    "names = ['baby', 'bottom', 'goodmorning', 'growup', 'jungle_dance', 'monster', 'pinkpong', 'poo', 'volcano']\n",
    "\n",
    "train = np.load(\"./video/vector_npy/vector_octopus.npy\")\n",
    "\n",
    "wrong_scores = []\n",
    "for name in names:\n",
    "    paths = glob.glob(f\"./직촬편집/{name}/*.npy\")\n",
    "    for path in paths:\n",
    "        test = np.load(path)\n",
    "        score = str(round(euclid_score(train, test)))\n",
    "        wrong_scores.append(score)"
   ]
  },
  {
   "cell_type": "code",
   "execution_count": 26,
   "id": "cbb8673f",
   "metadata": {},
   "outputs": [
    {
     "name": "stdout",
     "output_type": "stream",
     "text": [
      "[59 59 59 58 60 56 56 57 55 55 55 56 54 55 56 59 58 58 54 57 56 55 55 55\n",
      " 56 58 60 58 58 58 57 56 58 59 56 54 55 53 55 56 57 60 58 59 59]\n",
      "56.82222222222222\n"
     ]
    }
   ],
   "source": [
    "wrong_scores = np.array(wrong_scores, dtype=np.int64)\n",
    "print(wrong_scores)\n",
    "print(wrong_scores.mean())"
   ]
  },
  {
   "cell_type": "markdown",
   "id": "dc730f4e-0712-40e0-bae8-3fa86774c5a9",
   "metadata": {},
   "source": [
    "# 8. pinkpong"
   ]
  },
  {
   "cell_type": "code",
   "execution_count": 27,
   "id": "5c374d1b",
   "metadata": {},
   "outputs": [],
   "source": [
    "names = ['baby', 'bottom', 'goodmorning', 'growup', 'jungle_dance', 'monster', 'octopus', 'poo', 'volcano']\n",
    "\n",
    "train = np.load(\"./video/vector_npy/vector_pinkpong.npy\")\n",
    "\n",
    "wrong_scores = []\n",
    "for name in names:\n",
    "    paths = glob.glob(f\"./직촬편집/{name}/*.npy\")\n",
    "    for path in paths:\n",
    "        test = np.load(path)\n",
    "        score = str(round(euclid_score(train, test)))\n",
    "        wrong_scores.append(score)"
   ]
  },
  {
   "cell_type": "code",
   "execution_count": 28,
   "id": "76aab698",
   "metadata": {},
   "outputs": [
    {
     "name": "stdout",
     "output_type": "stream",
     "text": [
      "[62 62 62 61 62 63 61 61 60 61 59 60 60 59 59 62 64 63 60 61 63 63 62 62\n",
      " 62 60 62 62 62 62 60 60 61 61 61 61 61 60 61 62 60 61 61 61 59]\n",
      "61.15555555555556\n"
     ]
    }
   ],
   "source": [
    "wrong_scores = np.array(wrong_scores, dtype=np.int64)\n",
    "print(wrong_scores)\n",
    "print(wrong_scores.mean())"
   ]
  },
  {
   "cell_type": "markdown",
   "id": "f34074d6-cc2e-402e-a7cb-910bb1568816",
   "metadata": {},
   "source": [
    "# 9. poo"
   ]
  },
  {
   "cell_type": "code",
   "execution_count": 29,
   "id": "92366ea9",
   "metadata": {},
   "outputs": [],
   "source": [
    "names = ['baby', 'bottom', 'goodmorning', 'growup', 'jungle_dance', 'monster', 'octopus', 'pinkpong', 'volcano']\n",
    "\n",
    "train = np.load(\"./video/vector_npy/vector_poo.npy\")\n",
    "\n",
    "wrong_scores = []\n",
    "for name in names:\n",
    "    paths = glob.glob(f\"./직촬편집/{name}/*.npy\")\n",
    "    for path in paths:\n",
    "        test = np.load(path)\n",
    "        score = str(round(euclid_score(train, test)))\n",
    "        wrong_scores.append(score)"
   ]
  },
  {
   "cell_type": "code",
   "execution_count": 30,
   "id": "963f9f2a",
   "metadata": {},
   "outputs": [
    {
     "name": "stdout",
     "output_type": "stream",
     "text": [
      "[61 57 61 58 60 63 61 61 61 56 61 62 62 60 60 57 59 57 60 58 68 67 67 65\n",
      " 67 57 59 62 58 61 58 58 58 55 58 59 62 62 60 58 59 61 62 59 60]\n",
      "60.333333333333336\n"
     ]
    }
   ],
   "source": [
    "wrong_scores = np.array(wrong_scores, dtype=np.int64)\n",
    "print(wrong_scores)\n",
    "print(wrong_scores.mean())"
   ]
  },
  {
   "cell_type": "markdown",
   "id": "6d0924de-3275-4813-824b-b8d725ab358a",
   "metadata": {},
   "source": [
    "# 10. volcano"
   ]
  },
  {
   "cell_type": "code",
   "execution_count": 31,
   "id": "7bc156f1",
   "metadata": {},
   "outputs": [],
   "source": [
    "names = ['baby', 'bottom', 'goodmorning', 'growup', 'jungle_dance', 'monster', 'octopus', 'pinkpong', 'poo']\n",
    "\n",
    "train = np.load(\"./video/vector_npy/vector_volcano.npy\")\n",
    "\n",
    "wrong_scores = []\n",
    "for name in names:\n",
    "    paths = glob.glob(f\"./직촬편집/{name}/*.npy\")\n",
    "    for path in paths:\n",
    "        test = np.load(path)\n",
    "        score = str(round(euclid_score(train, test)))\n",
    "        wrong_scores.append(score)"
   ]
  },
  {
   "cell_type": "code",
   "execution_count": 32,
   "id": "ae56ffbd",
   "metadata": {},
   "outputs": [
    {
     "name": "stdout",
     "output_type": "stream",
     "text": [
      "[61 62 62 60 61 59 58 58 59 57 60 59 59 58 59 57 61 59 55 57 58 58 58 58\n",
      " 58 59 60 62 58 60 59 60 61 58 60 57 59 59 60 58 58 59 58 58 59]\n",
      "58.955555555555556\n"
     ]
    }
   ],
   "source": [
    "wrong_scores = np.array(wrong_scores, dtype=np.int64)\n",
    "print(wrong_scores)\n",
    "print(wrong_scores.mean())"
   ]
  }
 ],
 "metadata": {
  "kernelspec": {
   "display_name": "Python 3 (ipykernel)",
   "language": "python",
   "name": "python3"
  },
  "language_info": {
   "codemirror_mode": {
    "name": "ipython",
    "version": 3
   },
   "file_extension": ".py",
   "mimetype": "text/x-python",
   "name": "python",
   "nbconvert_exporter": "python",
   "pygments_lexer": "ipython3",
   "version": "3.9.12"
  }
 },
 "nbformat": 4,
 "nbformat_minor": 5
}
