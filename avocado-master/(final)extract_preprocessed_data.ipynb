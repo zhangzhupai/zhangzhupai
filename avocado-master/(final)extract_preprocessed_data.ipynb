{
 "cells": [
  {
   "cell_type": "code",
   "execution_count": 1,
   "id": "8d6bc536-068d-43eb-ac1a-cd82cd84b7d5",
   "metadata": {},
   "outputs": [],
   "source": [
    "import numpy as np\n",
    "import pandas as pd\n",
    "import cv2\n",
    "import mediapipe as mp\n",
    "import glob\n",
    "import os"
   ]
  },
  {
   "cell_type": "markdown",
   "id": "32ceae93",
   "metadata": {},
   "source": [
    "# make function"
   ]
  },
  {
   "cell_type": "code",
   "execution_count": 2,
   "id": "181a095b-26fe-4d66-920c-5e5156c5a248",
   "metadata": {},
   "outputs": [],
   "source": [
    "def origin_rate(df):\n",
    "    df_xy = df[[(a,b) for a,b in df.columns if b in ('x', 'y')]]\n",
    "    df_xy.loc[:, (slice(None), 'x')] = df_xy.loc[:, (slice(None), 'x')].apply(lambda x : x*640)\n",
    "    df_xy.loc[:, (slice(None), 'y')] = df_xy.loc[:, (slice(None), 'y')].apply(lambda x : x*720)\n",
    "    return df_xy"
   ]
  },
  {
   "cell_type": "code",
   "execution_count": 3,
   "id": "be3b8ec6-49b3-4653-9778-3794c91c4076",
   "metadata": {},
   "outputs": [],
   "source": [
    "def box_perspective(df_xy):\n",
    "    for idx in range(len(df_xy)):\n",
    "        x_min = df_xy.loc[idx, (slice(None), 'x')].min()\n",
    "        x_max = df_xy.loc[idx, (slice(None), 'x')].max()\n",
    "        y_min = df_xy.loc[idx, (slice(None), 'y')].min()\n",
    "        y_max = df_xy.loc[idx, (slice(None), 'y')].max()\n",
    "        \n",
    "        if x_max != 0 and y_max != 0:\n",
    "            x_rate = 640/((x_max+20)-(x_min-20))\n",
    "            y_rate = 720/((y_max+20)-(y_min-20))\n",
    "\n",
    "            df_xy.loc[idx, (slice(None), 'x')] = df_xy.loc[idx, (slice(None), 'x')].apply(lambda x : ((x-(x_min-20))*x_rate)/640)\n",
    "            df_xy.loc[idx, (slice(None), 'y')] = df_xy.loc[idx, (slice(None), 'y')].apply(lambda x : ((x-(y_min-20))*y_rate)/720)\n",
    "        \n",
    "    return df_xy"
   ]
  },
  {
   "cell_type": "code",
   "execution_count": 4,
   "id": "9b820f18",
   "metadata": {},
   "outputs": [],
   "source": [
    "def vector_transform(joint):    \n",
    "    # Compute angles between joints\n",
    "    v1 = joint[[13, 23, 14, 24, 15, 16, 17, 19, 21, 18, 20, 22, 25, 26, 27, 28, 29, 31, 30, 32], :] # Parent joint\n",
    "    v2 = joint[[11, 11, 12, 12, 13, 14, 15, 15, 15, 16, 16, 16, 23, 24, 25, 26, 27, 27, 28, 28], :] # Child joint\n",
    "    v = v2 - v1 # [20, 2]  \n",
    "    # Normalize v\n",
    "    v = v / np.linalg.norm(v, axis=1)[:, np.newaxis]\n",
    "    \n",
    "    return v"
   ]
  },
  {
   "cell_type": "markdown",
   "id": "c549854b",
   "metadata": {},
   "source": [
    "# make vectors from skeleton csv"
   ]
  },
  {
   "cell_type": "code",
   "execution_count": 6,
   "id": "806f3dfd-a395-412c-9064-9f95ce8d4d4b",
   "metadata": {},
   "outputs": [],
   "source": [
    "paths = glob.glob(\"./video/*.csv\")"
   ]
  },
  {
   "cell_type": "code",
   "execution_count": 7,
   "id": "839bb1a4",
   "metadata": {
    "scrolled": true
   },
   "outputs": [
    {
     "data": {
      "text/plain": [
       "['./video\\\\baby_skeleton.csv',\n",
       " './video\\\\bottom_skeleton.csv',\n",
       " './video\\\\goodmorning_skeleton.csv',\n",
       " './video\\\\growup_skeleton.csv',\n",
       " './video\\\\jungle_dance_skeleton.csv',\n",
       " './video\\\\monster_skeleton.csv',\n",
       " './video\\\\octopus_skeleton.csv',\n",
       " './video\\\\pinkpong_skeleton.csv',\n",
       " './video\\\\poo_skeleton.csv',\n",
       " './video\\\\volcano_skeleton.csv']"
      ]
     },
     "execution_count": 7,
     "metadata": {},
     "output_type": "execute_result"
    }
   ],
   "source": [
    "paths"
   ]
  },
  {
   "cell_type": "code",
   "execution_count": 8,
   "id": "041fde04-3ce3-4e00-a42b-868a31684c69",
   "metadata": {
    "collapsed": true
   },
   "outputs": [
    {
     "name": "stderr",
     "output_type": "stream",
     "text": [
      "C:\\Users\\조\\AppData\\Local\\Temp\\ipykernel_17512\\3483640641.py:3: SettingWithCopyWarning: \n",
      "A value is trying to be set on a copy of a slice from a DataFrame.\n",
      "Try using .loc[row_indexer,col_indexer] = value instead\n",
      "\n",
      "See the caveats in the documentation: https://pandas.pydata.org/pandas-docs/stable/user_guide/indexing.html#returning-a-view-versus-a-copy\n",
      "  df_xy.loc[:, (slice(None), 'x')] = df_xy.loc[:, (slice(None), 'x')].apply(lambda x : x*640)\n",
      "C:\\Users\\조\\AppData\\Local\\Temp\\ipykernel_17512\\3483640641.py:4: SettingWithCopyWarning: \n",
      "A value is trying to be set on a copy of a slice from a DataFrame.\n",
      "Try using .loc[row_indexer,col_indexer] = value instead\n",
      "\n",
      "See the caveats in the documentation: https://pandas.pydata.org/pandas-docs/stable/user_guide/indexing.html#returning-a-view-versus-a-copy\n",
      "  df_xy.loc[:, (slice(None), 'y')] = df_xy.loc[:, (slice(None), 'y')].apply(lambda x : x*720)\n",
      "C:\\Users\\조\\AppData\\Local\\Temp\\ipykernel_17512\\1296948987.py:7: RuntimeWarning: invalid value encountered in true_divide\n",
      "  v = v / np.linalg.norm(v, axis=1)[:, np.newaxis]\n",
      "C:\\Users\\조\\AppData\\Local\\Temp\\ipykernel_17512\\3483640641.py:3: SettingWithCopyWarning: \n",
      "A value is trying to be set on a copy of a slice from a DataFrame.\n",
      "Try using .loc[row_indexer,col_indexer] = value instead\n",
      "\n",
      "See the caveats in the documentation: https://pandas.pydata.org/pandas-docs/stable/user_guide/indexing.html#returning-a-view-versus-a-copy\n",
      "  df_xy.loc[:, (slice(None), 'x')] = df_xy.loc[:, (slice(None), 'x')].apply(lambda x : x*640)\n",
      "C:\\Users\\조\\AppData\\Local\\Temp\\ipykernel_17512\\3483640641.py:4: SettingWithCopyWarning: \n",
      "A value is trying to be set on a copy of a slice from a DataFrame.\n",
      "Try using .loc[row_indexer,col_indexer] = value instead\n",
      "\n",
      "See the caveats in the documentation: https://pandas.pydata.org/pandas-docs/stable/user_guide/indexing.html#returning-a-view-versus-a-copy\n",
      "  df_xy.loc[:, (slice(None), 'y')] = df_xy.loc[:, (slice(None), 'y')].apply(lambda x : x*720)\n",
      "C:\\Users\\조\\AppData\\Local\\Temp\\ipykernel_17512\\1296948987.py:7: RuntimeWarning: invalid value encountered in true_divide\n",
      "  v = v / np.linalg.norm(v, axis=1)[:, np.newaxis]\n",
      "C:\\Users\\조\\AppData\\Local\\Temp\\ipykernel_17512\\3483640641.py:3: SettingWithCopyWarning: \n",
      "A value is trying to be set on a copy of a slice from a DataFrame.\n",
      "Try using .loc[row_indexer,col_indexer] = value instead\n",
      "\n",
      "See the caveats in the documentation: https://pandas.pydata.org/pandas-docs/stable/user_guide/indexing.html#returning-a-view-versus-a-copy\n",
      "  df_xy.loc[:, (slice(None), 'x')] = df_xy.loc[:, (slice(None), 'x')].apply(lambda x : x*640)\n",
      "C:\\Users\\조\\AppData\\Local\\Temp\\ipykernel_17512\\3483640641.py:4: SettingWithCopyWarning: \n",
      "A value is trying to be set on a copy of a slice from a DataFrame.\n",
      "Try using .loc[row_indexer,col_indexer] = value instead\n",
      "\n",
      "See the caveats in the documentation: https://pandas.pydata.org/pandas-docs/stable/user_guide/indexing.html#returning-a-view-versus-a-copy\n",
      "  df_xy.loc[:, (slice(None), 'y')] = df_xy.loc[:, (slice(None), 'y')].apply(lambda x : x*720)\n",
      "C:\\Users\\조\\AppData\\Local\\Temp\\ipykernel_17512\\1296948987.py:7: RuntimeWarning: invalid value encountered in true_divide\n",
      "  v = v / np.linalg.norm(v, axis=1)[:, np.newaxis]\n",
      "C:\\Users\\조\\AppData\\Local\\Temp\\ipykernel_17512\\3483640641.py:3: SettingWithCopyWarning: \n",
      "A value is trying to be set on a copy of a slice from a DataFrame.\n",
      "Try using .loc[row_indexer,col_indexer] = value instead\n",
      "\n",
      "See the caveats in the documentation: https://pandas.pydata.org/pandas-docs/stable/user_guide/indexing.html#returning-a-view-versus-a-copy\n",
      "  df_xy.loc[:, (slice(None), 'x')] = df_xy.loc[:, (slice(None), 'x')].apply(lambda x : x*640)\n",
      "C:\\Users\\조\\AppData\\Local\\Temp\\ipykernel_17512\\3483640641.py:4: SettingWithCopyWarning: \n",
      "A value is trying to be set on a copy of a slice from a DataFrame.\n",
      "Try using .loc[row_indexer,col_indexer] = value instead\n",
      "\n",
      "See the caveats in the documentation: https://pandas.pydata.org/pandas-docs/stable/user_guide/indexing.html#returning-a-view-versus-a-copy\n",
      "  df_xy.loc[:, (slice(None), 'y')] = df_xy.loc[:, (slice(None), 'y')].apply(lambda x : x*720)\n",
      "C:\\Users\\조\\AppData\\Local\\Temp\\ipykernel_17512\\1296948987.py:7: RuntimeWarning: invalid value encountered in true_divide\n",
      "  v = v / np.linalg.norm(v, axis=1)[:, np.newaxis]\n",
      "C:\\Users\\조\\AppData\\Local\\Temp\\ipykernel_17512\\3483640641.py:3: SettingWithCopyWarning: \n",
      "A value is trying to be set on a copy of a slice from a DataFrame.\n",
      "Try using .loc[row_indexer,col_indexer] = value instead\n",
      "\n",
      "See the caveats in the documentation: https://pandas.pydata.org/pandas-docs/stable/user_guide/indexing.html#returning-a-view-versus-a-copy\n",
      "  df_xy.loc[:, (slice(None), 'x')] = df_xy.loc[:, (slice(None), 'x')].apply(lambda x : x*640)\n",
      "C:\\Users\\조\\AppData\\Local\\Temp\\ipykernel_17512\\3483640641.py:4: SettingWithCopyWarning: \n",
      "A value is trying to be set on a copy of a slice from a DataFrame.\n",
      "Try using .loc[row_indexer,col_indexer] = value instead\n",
      "\n",
      "See the caveats in the documentation: https://pandas.pydata.org/pandas-docs/stable/user_guide/indexing.html#returning-a-view-versus-a-copy\n",
      "  df_xy.loc[:, (slice(None), 'y')] = df_xy.loc[:, (slice(None), 'y')].apply(lambda x : x*720)\n",
      "C:\\Users\\조\\AppData\\Local\\Temp\\ipykernel_17512\\1296948987.py:7: RuntimeWarning: invalid value encountered in true_divide\n",
      "  v = v / np.linalg.norm(v, axis=1)[:, np.newaxis]\n",
      "C:\\Users\\조\\AppData\\Local\\Temp\\ipykernel_17512\\3483640641.py:3: SettingWithCopyWarning: \n",
      "A value is trying to be set on a copy of a slice from a DataFrame.\n",
      "Try using .loc[row_indexer,col_indexer] = value instead\n",
      "\n",
      "See the caveats in the documentation: https://pandas.pydata.org/pandas-docs/stable/user_guide/indexing.html#returning-a-view-versus-a-copy\n",
      "  df_xy.loc[:, (slice(None), 'x')] = df_xy.loc[:, (slice(None), 'x')].apply(lambda x : x*640)\n",
      "C:\\Users\\조\\AppData\\Local\\Temp\\ipykernel_17512\\3483640641.py:4: SettingWithCopyWarning: \n",
      "A value is trying to be set on a copy of a slice from a DataFrame.\n",
      "Try using .loc[row_indexer,col_indexer] = value instead\n",
      "\n",
      "See the caveats in the documentation: https://pandas.pydata.org/pandas-docs/stable/user_guide/indexing.html#returning-a-view-versus-a-copy\n",
      "  df_xy.loc[:, (slice(None), 'y')] = df_xy.loc[:, (slice(None), 'y')].apply(lambda x : x*720)\n",
      "C:\\Users\\조\\AppData\\Local\\Temp\\ipykernel_17512\\1296948987.py:7: RuntimeWarning: invalid value encountered in true_divide\n",
      "  v = v / np.linalg.norm(v, axis=1)[:, np.newaxis]\n",
      "C:\\Users\\조\\AppData\\Local\\Temp\\ipykernel_17512\\3483640641.py:3: SettingWithCopyWarning: \n",
      "A value is trying to be set on a copy of a slice from a DataFrame.\n",
      "Try using .loc[row_indexer,col_indexer] = value instead\n",
      "\n",
      "See the caveats in the documentation: https://pandas.pydata.org/pandas-docs/stable/user_guide/indexing.html#returning-a-view-versus-a-copy\n",
      "  df_xy.loc[:, (slice(None), 'x')] = df_xy.loc[:, (slice(None), 'x')].apply(lambda x : x*640)\n",
      "C:\\Users\\조\\AppData\\Local\\Temp\\ipykernel_17512\\3483640641.py:4: SettingWithCopyWarning: \n",
      "A value is trying to be set on a copy of a slice from a DataFrame.\n",
      "Try using .loc[row_indexer,col_indexer] = value instead\n",
      "\n",
      "See the caveats in the documentation: https://pandas.pydata.org/pandas-docs/stable/user_guide/indexing.html#returning-a-view-versus-a-copy\n",
      "  df_xy.loc[:, (slice(None), 'y')] = df_xy.loc[:, (slice(None), 'y')].apply(lambda x : x*720)\n",
      "C:\\Users\\조\\AppData\\Local\\Temp\\ipykernel_17512\\1296948987.py:7: RuntimeWarning: invalid value encountered in true_divide\n",
      "  v = v / np.linalg.norm(v, axis=1)[:, np.newaxis]\n",
      "C:\\Users\\조\\AppData\\Local\\Temp\\ipykernel_17512\\3483640641.py:3: SettingWithCopyWarning: \n",
      "A value is trying to be set on a copy of a slice from a DataFrame.\n",
      "Try using .loc[row_indexer,col_indexer] = value instead\n",
      "\n",
      "See the caveats in the documentation: https://pandas.pydata.org/pandas-docs/stable/user_guide/indexing.html#returning-a-view-versus-a-copy\n",
      "  df_xy.loc[:, (slice(None), 'x')] = df_xy.loc[:, (slice(None), 'x')].apply(lambda x : x*640)\n",
      "C:\\Users\\조\\AppData\\Local\\Temp\\ipykernel_17512\\3483640641.py:4: SettingWithCopyWarning: \n",
      "A value is trying to be set on a copy of a slice from a DataFrame.\n",
      "Try using .loc[row_indexer,col_indexer] = value instead\n",
      "\n",
      "See the caveats in the documentation: https://pandas.pydata.org/pandas-docs/stable/user_guide/indexing.html#returning-a-view-versus-a-copy\n",
      "  df_xy.loc[:, (slice(None), 'y')] = df_xy.loc[:, (slice(None), 'y')].apply(lambda x : x*720)\n"
     ]
    },
    {
     "name": "stderr",
     "output_type": "stream",
     "text": [
      "C:\\Users\\조\\AppData\\Local\\Temp\\ipykernel_17512\\1296948987.py:7: RuntimeWarning: invalid value encountered in true_divide\n",
      "  v = v / np.linalg.norm(v, axis=1)[:, np.newaxis]\n",
      "C:\\Users\\조\\AppData\\Local\\Temp\\ipykernel_17512\\3483640641.py:3: SettingWithCopyWarning: \n",
      "A value is trying to be set on a copy of a slice from a DataFrame.\n",
      "Try using .loc[row_indexer,col_indexer] = value instead\n",
      "\n",
      "See the caveats in the documentation: https://pandas.pydata.org/pandas-docs/stable/user_guide/indexing.html#returning-a-view-versus-a-copy\n",
      "  df_xy.loc[:, (slice(None), 'x')] = df_xy.loc[:, (slice(None), 'x')].apply(lambda x : x*640)\n",
      "C:\\Users\\조\\AppData\\Local\\Temp\\ipykernel_17512\\3483640641.py:4: SettingWithCopyWarning: \n",
      "A value is trying to be set on a copy of a slice from a DataFrame.\n",
      "Try using .loc[row_indexer,col_indexer] = value instead\n",
      "\n",
      "See the caveats in the documentation: https://pandas.pydata.org/pandas-docs/stable/user_guide/indexing.html#returning-a-view-versus-a-copy\n",
      "  df_xy.loc[:, (slice(None), 'y')] = df_xy.loc[:, (slice(None), 'y')].apply(lambda x : x*720)\n",
      "C:\\Users\\조\\AppData\\Local\\Temp\\ipykernel_17512\\1296948987.py:7: RuntimeWarning: invalid value encountered in true_divide\n",
      "  v = v / np.linalg.norm(v, axis=1)[:, np.newaxis]\n",
      "C:\\Users\\조\\AppData\\Local\\Temp\\ipykernel_17512\\3483640641.py:3: SettingWithCopyWarning: \n",
      "A value is trying to be set on a copy of a slice from a DataFrame.\n",
      "Try using .loc[row_indexer,col_indexer] = value instead\n",
      "\n",
      "See the caveats in the documentation: https://pandas.pydata.org/pandas-docs/stable/user_guide/indexing.html#returning-a-view-versus-a-copy\n",
      "  df_xy.loc[:, (slice(None), 'x')] = df_xy.loc[:, (slice(None), 'x')].apply(lambda x : x*640)\n",
      "C:\\Users\\조\\AppData\\Local\\Temp\\ipykernel_17512\\3483640641.py:4: SettingWithCopyWarning: \n",
      "A value is trying to be set on a copy of a slice from a DataFrame.\n",
      "Try using .loc[row_indexer,col_indexer] = value instead\n",
      "\n",
      "See the caveats in the documentation: https://pandas.pydata.org/pandas-docs/stable/user_guide/indexing.html#returning-a-view-versus-a-copy\n",
      "  df_xy.loc[:, (slice(None), 'y')] = df_xy.loc[:, (slice(None), 'y')].apply(lambda x : x*720)\n",
      "C:\\Users\\조\\AppData\\Local\\Temp\\ipykernel_17512\\1296948987.py:7: RuntimeWarning: invalid value encountered in true_divide\n",
      "  v = v / np.linalg.norm(v, axis=1)[:, np.newaxis]\n"
     ]
    }
   ],
   "source": [
    "for path in paths:\n",
    "    name = path.split(\"\\\\\")[1].split(\"_\")[0]\n",
    "    df = pd.read_csv(path, header=[0,1])\n",
    "    df_xy = origin_rate(df)\n",
    "    df_bp = box_perspective(df_xy)\n",
    "    vector_list = []\n",
    "    for idx in range(df_bp.shape[0]):\n",
    "        joint = df_bp.iloc[idx].values.reshape(33,2)\n",
    "        vector = vector_transform(joint)\n",
    "        vector_list.append(vector)\n",
    "    vector_np = np.array(vector_list)\n",
    "    np.save(os.path.join('video', f'vector_{name}'), vector_np)"
   ]
  }
 ],
 "metadata": {
  "kernelspec": {
   "display_name": "Python 3 (ipykernel)",
   "language": "python",
   "name": "python3"
  },
  "language_info": {
   "codemirror_mode": {
    "name": "ipython",
    "version": 3
   },
   "file_extension": ".py",
   "mimetype": "text/x-python",
   "name": "python",
   "nbconvert_exporter": "python",
   "pygments_lexer": "ipython3",
   "version": "3.9.12"
  }
 },
 "nbformat": 4,
 "nbformat_minor": 5
}
