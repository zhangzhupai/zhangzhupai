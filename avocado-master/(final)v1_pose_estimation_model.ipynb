{
 "cells": [
  {
   "cell_type": "code",
   "execution_count": 1,
   "id": "5eac6a50",
   "metadata": {},
   "outputs": [],
   "source": [
    "import numpy as np\n",
    "import os\n",
    "import matplotlib.pyplot as plt\n",
    "from sklearn.model_selection import train_test_split\n",
    "from sklearn.metrics import multilabel_confusion_matrix\n",
    "from tensorflow.keras.utils import to_categorical\n",
    "from tensorflow.keras.models import Sequential\n",
    "from tensorflow.keras.layers import LSTM, Dense\n",
    "from tensorflow.keras.callbacks import ModelCheckpoint, ReduceLROnPlateau\n",
    "from tensorflow.keras.models import load_model"
   ]
  },
  {
   "cell_type": "code",
   "execution_count": 2,
   "id": "ee4dfec2",
   "metadata": {},
   "outputs": [],
   "source": [
    "actions = ['head', 'shoulder', 'knee', 'clap', 'left_foot', 'right_foot', 'both_foot', 'yeah']"
   ]
  },
  {
   "cell_type": "code",
   "execution_count": 3,
   "id": "f3b8c2e0",
   "metadata": {},
   "outputs": [],
   "source": [
    "data = np.concatenate([np.load('dataset/seq_head_1673241839.npy'),\n",
    "                       np.load('dataset/seq_head_1673241921.npy'),\n",
    "                       np.load('dataset/seq_head_1673242031.npy'),\n",
    "                       np.load('dataset/seq_head_1673242120.npy'),\n",
    "                       np.load('dataset/seq_head_1673242219.npy'),  # head\n",
    "                       np.load('dataset/seq_shoulder_1673242398.npy'),\n",
    "                       np.load('dataset/seq_shoulder_1673242499.npy'),\n",
    "                       np.load('dataset/seq_shoulder_1673242584.npy'),\n",
    "                       np.load('dataset/seq_shoulder_1673242684.npy'),\n",
    "                       np.load('dataset/seq_shoulder_1673242771.npy'),  # shoulder\n",
    "                       np.load('dataset/seq_knee_1673242907.npy'),\n",
    "                       np.load('dataset/seq_knee_1673243016.npy'),\n",
    "                       np.load('dataset/seq_knee_1673243103.npy'),\n",
    "                       np.load('dataset/seq_knee_1673243241.npy'),\n",
    "                       np.load('dataset/seq_knee_1673243329.npy'),  # knee\n",
    "                       np.load('dataset/seq_clap_1673243430.npy'),\n",
    "                       np.load('dataset/seq_clap_1673243524.npy'),\n",
    "                       np.load('dataset/seq_clap_1673243630.npy'),\n",
    "                       np.load('dataset/seq_clap_1673243731.npy'),\n",
    "                       np.load('dataset/seq_clap_1673243828.npy'),  # clap\n",
    "                       np.load('dataset/seq_left_foot_1673243959.npy'),\n",
    "                       np.load('dataset/seq_left_foot_1673244052.npy'),\n",
    "                       np.load('dataset/seq_left_foot_1673244158.npy'),\n",
    "                       np.load('dataset/seq_left_foot_1673244455.npy'),\n",
    "                       np.load('dataset/seq_left_foot_1673244563.npy'),  # left_foot\n",
    "                       np.load('dataset/seq_right_foot_1673244720.npy'),\n",
    "                       np.load('dataset/seq_right_foot_1673244828.npy'),\n",
    "                       np.load('dataset/seq_right_foot_1673244980.npy'),\n",
    "                       np.load('dataset/seq_right_foot_1673245283.npy'),\n",
    "                       np.load('dataset/seq_right_foot_1673245430.npy'),  # right_foot\n",
    "                       np.load('dataset/seq_both_foot_1673245514.npy'),\n",
    "                       np.load('dataset/seq_both_foot_1673245625.npy'),\n",
    "                       np.load('dataset/seq_both_foot_1673245806.npy'),\n",
    "                       np.load('dataset/seq_both_foot_1673245926.npy'),\n",
    "                       np.load('dataset/seq_both_foot_1673246081.npy'),  # both_foot\n",
    "                       np.load('dataset/seq_yeah_1673246156.npy'),\n",
    "                       np.load('dataset/seq_yeah_1673246265.npy'),\n",
    "                       np.load('dataset/seq_yeah_1673246421.npy'),\n",
    "                       np.load('dataset/seq_yeah_1673246544.npy'),\n",
    "                       np.load('dataset/seq_yeah_1673246671.npy'),  # yeah\n",
    "                       ], axis=0)"
   ]
  },
  {
   "cell_type": "code",
   "execution_count": 4,
   "id": "6fcc2232",
   "metadata": {
    "scrolled": true
   },
   "outputs": [
    {
     "data": {
      "text/plain": [
       "(36976, 30, 141)"
      ]
     },
     "execution_count": 4,
     "metadata": {},
     "output_type": "execute_result"
    }
   ],
   "source": [
    "data.shape"
   ]
  },
  {
   "cell_type": "code",
   "execution_count": 5,
   "id": "d4e1ff60",
   "metadata": {},
   "outputs": [],
   "source": [
    "x_data = data[:, :, :-1]\n",
    "labels = data[:, 0, -1]"
   ]
  },
  {
   "cell_type": "code",
   "execution_count": 6,
   "id": "84a142f4",
   "metadata": {},
   "outputs": [
    {
     "name": "stdout",
     "output_type": "stream",
     "text": [
      "(36976, 30, 140)\n",
      "(36976,)\n"
     ]
    }
   ],
   "source": [
    "print(x_data.shape)\n",
    "print(labels.shape)"
   ]
  },
  {
   "cell_type": "code",
   "execution_count": 7,
   "id": "b196e8c2",
   "metadata": {},
   "outputs": [
    {
     "data": {
      "text/plain": [
       "array([0., 0., 0., ..., 7., 7., 7.])"
      ]
     },
     "execution_count": 7,
     "metadata": {},
     "output_type": "execute_result"
    }
   ],
   "source": [
    "labels"
   ]
  },
  {
   "cell_type": "code",
   "execution_count": 8,
   "id": "b45490de",
   "metadata": {},
   "outputs": [],
   "source": [
    "y_data = to_categorical(labels, num_classes=len(actions))"
   ]
  },
  {
   "cell_type": "code",
   "execution_count": 9,
   "id": "5f5d242c",
   "metadata": {},
   "outputs": [
    {
     "data": {
      "text/plain": [
       "array([[1., 0., 0., ..., 0., 0., 0.],\n",
       "       [1., 0., 0., ..., 0., 0., 0.],\n",
       "       [1., 0., 0., ..., 0., 0., 0.],\n",
       "       ...,\n",
       "       [0., 0., 0., ..., 0., 0., 1.],\n",
       "       [0., 0., 0., ..., 0., 0., 1.],\n",
       "       [0., 0., 0., ..., 0., 0., 1.]], dtype=float32)"
      ]
     },
     "execution_count": 9,
     "metadata": {},
     "output_type": "execute_result"
    }
   ],
   "source": [
    "y_data"
   ]
  },
  {
   "cell_type": "code",
   "execution_count": 10,
   "id": "56c8770c",
   "metadata": {},
   "outputs": [],
   "source": [
    "x_data = x_data.astype(np.float32)\n",
    "y_data = y_data.astype(np.float32)\n",
    "\n",
    "x_train, x_val, y_train, y_val = train_test_split(x_data, y_data, test_size=0.2, stratified = y_data, random_state=2021)"
   ]
  },
  {
   "cell_type": "code",
   "execution_count": 11,
   "id": "3255e887",
   "metadata": {},
   "outputs": [
    {
     "name": "stdout",
     "output_type": "stream",
     "text": [
      "(33278, 30, 140) (33278, 8)\n",
      "(3698, 30, 140) (3698, 8)\n"
     ]
    }
   ],
   "source": [
    "print(x_train.shape, y_train.shape)\n",
    "print(x_val.shape, y_val.shape)"
   ]
  },
  {
   "cell_type": "code",
   "execution_count": 12,
   "id": "09d1a2f0",
   "metadata": {},
   "outputs": [],
   "source": [
    "model = Sequential([LSTM(64, activation='relu', input_shape=x_train.shape[1:3]),\n",
    "                    Dense(32, activation='relu'),\n",
    "                    Dense(len(actions), activation='softmax')])"
   ]
  },
  {
   "cell_type": "code",
   "execution_count": 13,
   "id": "d4b96714",
   "metadata": {},
   "outputs": [
    {
     "name": "stdout",
     "output_type": "stream",
     "text": [
      "Model: \"sequential\"\n",
      "_________________________________________________________________\n",
      " Layer (type)                Output Shape              Param #   \n",
      "=================================================================\n",
      " lstm (LSTM)                 (None, 64)                52480     \n",
      "                                                                 \n",
      " dense (Dense)               (None, 32)                2080      \n",
      "                                                                 \n",
      " dense_1 (Dense)             (None, 8)                 264       \n",
      "                                                                 \n",
      "=================================================================\n",
      "Total params: 54,824\n",
      "Trainable params: 54,824\n",
      "Non-trainable params: 0\n",
      "_________________________________________________________________\n"
     ]
    }
   ],
   "source": [
    "model.compile(optimizer='adam', loss='categorical_crossentropy', metrics=['acc'])\n",
    "model.summary()"
   ]
  },
  {
   "cell_type": "code",
   "execution_count": 14,
   "id": "93578d28",
   "metadata": {
    "scrolled": false
   },
   "outputs": [
    {
     "name": "stdout",
     "output_type": "stream",
     "text": [
      "Epoch 1/15\n",
      "1039/1040 [============================>.] - ETA: 0s - loss: 2.9664 - acc: 0.4599\n",
      "Epoch 1: val_acc improved from -inf to 0.59438, saving model to models\\model.h5\n",
      "1040/1040 [==============================] - 19s 17ms/step - loss: 2.9649 - acc: 0.4600 - val_loss: 1.0804 - val_acc: 0.5944 - lr: 0.0010\n",
      "Epoch 2/15\n",
      "1039/1040 [============================>.] - ETA: 0s - loss: 2.5900 - acc: 0.4609\n",
      "Epoch 2: val_acc did not improve from 0.59438\n",
      "1040/1040 [==============================] - 17s 17ms/step - loss: 2.5898 - acc: 0.4608 - val_loss: 1.7746 - val_acc: 0.3916 - lr: 0.0010\n",
      "Epoch 3/15\n",
      "1039/1040 [============================>.] - ETA: 0s - loss: 1.5271 - acc: 0.4355\n",
      "Epoch 3: val_acc did not improve from 0.59438\n",
      "1040/1040 [==============================] - 18s 17ms/step - loss: 1.5268 - acc: 0.4355 - val_loss: 1.0982 - val_acc: 0.5703 - lr: 0.0010\n",
      "Epoch 4/15\n",
      "1039/1040 [============================>.] - ETA: 0s - loss: 16.5216 - acc: 0.5081\n",
      "Epoch 4: val_acc did not improve from 0.59438\n",
      "1040/1040 [==============================] - 17s 16ms/step - loss: 16.5095 - acc: 0.5077 - val_loss: 2.5203 - val_acc: 0.1896 - lr: 0.0010\n",
      "Epoch 5/15\n",
      "1037/1040 [============================>.] - ETA: 0s - loss: 1.9492 - acc: 0.2847\n",
      "Epoch 5: val_acc did not improve from 0.59438\n",
      "1040/1040 [==============================] - 18s 17ms/step - loss: 1.9485 - acc: 0.2850 - val_loss: 1.8627 - val_acc: 0.2550 - lr: 0.0010\n",
      "Epoch 6/15\n",
      "1039/1040 [============================>.] - ETA: 0s - loss: 1.6877 - acc: 0.3548\n",
      "Epoch 6: val_acc did not improve from 0.59438\n",
      "1040/1040 [==============================] - 20s 19ms/step - loss: 1.6874 - acc: 0.3547 - val_loss: 1.5928 - val_acc: 0.3521 - lr: 0.0010\n",
      "Epoch 7/15\n",
      "1040/1040 [==============================] - ETA: 0s - loss: 1.4756 - acc: 0.4292\n",
      "Epoch 7: val_acc did not improve from 0.59438\n",
      "1040/1040 [==============================] - 23s 22ms/step - loss: 1.4756 - acc: 0.4292 - val_loss: 1.6839 - val_acc: 0.3561 - lr: 0.0010\n",
      "Epoch 8/15\n",
      "1038/1040 [============================>.] - ETA: 0s - loss: 6.6801 - acc: 0.3433\n",
      "Epoch 8: val_acc did not improve from 0.59438\n",
      "1040/1040 [==============================] - 22s 21ms/step - loss: 6.6758 - acc: 0.3429 - val_loss: 3.3550 - val_acc: 0.1555 - lr: 0.0010\n",
      "Epoch 9/15\n",
      "1038/1040 [============================>.] - ETA: 0s - loss: 2.1591 - acc: 0.2996\n",
      "Epoch 9: val_acc did not improve from 0.59438\n",
      "1040/1040 [==============================] - 19s 18ms/step - loss: 2.1583 - acc: 0.2998 - val_loss: 1.7772 - val_acc: 0.3494 - lr: 0.0010\n",
      "Epoch 10/15\n",
      "1037/1040 [============================>.] - ETA: 0s - loss: 1.7380 - acc: 0.3604\n",
      "Epoch 10: val_acc did not improve from 0.59438\n",
      "1040/1040 [==============================] - 17s 17ms/step - loss: 1.7375 - acc: 0.3605 - val_loss: 1.6702 - val_acc: 0.3691 - lr: 0.0010\n",
      "Epoch 11/15\n",
      "1040/1040 [==============================] - ETA: 0s - loss: 1.5871 - acc: 0.4047\n",
      "Epoch 11: val_acc did not improve from 0.59438\n",
      "1040/1040 [==============================] - 18s 17ms/step - loss: 1.5871 - acc: 0.4047 - val_loss: 1.4298 - val_acc: 0.4497 - lr: 0.0010\n",
      "Epoch 12/15\n",
      "1038/1040 [============================>.] - ETA: 0s - loss: 1.4890 - acc: 0.4446\n",
      "Epoch 12: val_acc did not improve from 0.59438\n",
      "1040/1040 [==============================] - 18s 18ms/step - loss: 1.4886 - acc: 0.4449 - val_loss: 1.5160 - val_acc: 0.4148 - lr: 0.0010\n",
      "Epoch 13/15\n",
      "1038/1040 [============================>.] - ETA: 0s - loss: 1.3384 - acc: 0.4932\n",
      "Epoch 13: val_acc did not improve from 0.59438\n",
      "1040/1040 [==============================] - 20s 19ms/step - loss: 1.3381 - acc: 0.4931 - val_loss: 1.2885 - val_acc: 0.4897 - lr: 0.0010\n",
      "Epoch 14/15\n",
      "1040/1040 [==============================] - ETA: 0s - loss: 1.1584 - acc: 0.5595\n",
      "Epoch 14: val_acc did not improve from 0.59438\n",
      "1040/1040 [==============================] - 22s 21ms/step - loss: 1.1584 - acc: 0.5595 - val_loss: 1.1150 - val_acc: 0.5836 - lr: 0.0010\n",
      "Epoch 15/15\n",
      "1040/1040 [==============================] - ETA: 0s - loss: 1.0064 - acc: 0.6189\n",
      "Epoch 15: val_acc improved from 0.59438 to 0.62466, saving model to models\\model.h5\n",
      "1040/1040 [==============================] - 23s 22ms/step - loss: 1.0064 - acc: 0.6189 - val_loss: 0.9728 - val_acc: 0.6247 - lr: 0.0010\n"
     ]
    }
   ],
   "source": [
    "history = model.fit(x_train, y_train, validation_data=(x_val, y_val), epochs=15,\n",
    "                    callbacks=[ModelCheckpoint('models/model.h5', monitor='val_acc', verbose=1, save_best_only=True, mode='auto'),\n",
    "                               ReduceLROnPlateau(monitor='val_acc', factor=0.5, patience=50, verbose=1, mode='auto')])"
   ]
  },
  {
   "cell_type": "code",
   "execution_count": 19,
   "id": "607748b0",
   "metadata": {},
   "outputs": [
    {
     "data": {
      "image/png": "[encoded data removed]",
      "text/plain": [
       "<Figure size 1152x720 with 2 Axes>"
      ]
     },
     "metadata": {
      "needs_background": "light"
     },
     "output_type": "display_data"
    }
   ],
   "source": [
    "fig, loss_ax = plt.subplots(figsize=(16, 10))\n",
    "acc_ax = loss_ax.twinx()\n",
    "\n",
    "loss_ax.plot(history.history['loss'], 'y', label='train loss')\n",
    "loss_ax.plot(history.history['val_loss'], 'r', label='val loss')\n",
    "loss_ax.set_xlabel('epoch')\n",
    "loss_ax.set_ylabel('loss')\n",
    "loss_ax.legend(loc='upper left')\n",
    "\n",
    "acc_ax.plot(history.history['acc'], 'b', label='train acc')\n",
    "acc_ax.plot(history.history['val_acc'], 'g', label='val acc')\n",
    "acc_ax.set_ylabel('accuracy')\n",
    "acc_ax.legend(loc='upper left')\n",
    "\n",
    "plt.show()"
   ]
  },
  {
   "cell_type": "code",
   "execution_count": 20,
   "id": "9be46381",
   "metadata": {},
   "outputs": [],
   "source": [
    "model = load_model('models/model.h5')"
   ]
  },
  {
   "cell_type": "code",
   "execution_count": 21,
   "id": "bb1da0c1",
   "metadata": {},
   "outputs": [
    {
     "name": "stdout",
     "output_type": "stream",
     "text": [
      "116/116 [==============================] - 1s 7ms/step\n"
     ]
    }
   ],
   "source": [
    "y_pred = model.predict(x_val)"
   ]
  },
  {
   "cell_type": "code",
   "execution_count": 22,
   "id": "e75bbbb6",
   "metadata": {},
   "outputs": [
    {
     "data": {
      "text/plain": [
       "array([[[3185,   59],\n",
       "        [  69,  385]],\n",
       "\n",
       "       [[3197,   10],\n",
       "        [ 482,    9]],\n",
       "\n",
       "       [[3089,  172],\n",
       "        [  23,  414]],\n",
       "\n",
       "       [[2528,  693],\n",
       "        [ 114,  363]],\n",
       "\n",
       "       [[3180,   58],\n",
       "        [ 105,  355]],\n",
       "\n",
       "       [[3174,   56],\n",
       "        [ 110,  358]],\n",
       "\n",
       "       [[3229,   36],\n",
       "        [ 208,  225]],\n",
       "\n",
       "       [[2916,  304],\n",
       "        [ 277,  201]]], dtype=int64)"
      ]
     },
     "execution_count": 22,
     "metadata": {},
     "output_type": "execute_result"
    }
   ],
   "source": [
    "multilabel_confusion_matrix(np.argmax(y_val, axis=1), np.argmax(y_pred, axis=1))"
   ]
  },
  {
   "cell_type": "code",
   "execution_count": null,
   "id": "a18300e5",
   "metadata": {},
   "outputs": [],
   "source": []
  },
  {
   "cell_type": "code",
   "execution_count": null,
   "id": "2a22cac8",
   "metadata": {},
   "outputs": [],
   "source": []
  },
  {
   "cell_type": "code",
   "execution_count": null,
   "id": "db5c4e2b",
   "metadata": {},
   "outputs": [],
   "source": []
  },
  {
   "cell_type": "code",
   "execution_count": null,
   "id": "bbe44b20",
   "metadata": {},
   "outputs": [],
   "source": []
  },
  {
   "cell_type": "code",
   "execution_count": null,
   "id": "ff425fab",
   "metadata": {},
   "outputs": [],
   "source": []
  },
  {
   "cell_type": "code",
   "execution_count": null,
   "id": "69bf6aa6",
   "metadata": {},
   "outputs": [],
   "source": []
  },
  {
   "cell_type": "code",
   "execution_count": null,
   "id": "15c33436",
   "metadata": {},
   "outputs": [],
   "source": []
  },
  {
   "cell_type": "code",
   "execution_count": null,
   "id": "0827abbb",
   "metadata": {},
   "outputs": [],
   "source": []
  },
  {
   "cell_type": "code",
   "execution_count": null,
   "id": "c5d4d2d0",
   "metadata": {},
   "outputs": [],
   "source": []
  },
  {
   "cell_type": "code",
   "execution_count": null,
   "id": "7c1b0603",
   "metadata": {},
   "outputs": [],
   "source": []
  },
  {
   "cell_type": "code",
   "execution_count": null,
   "id": "ba7cd422",
   "metadata": {},
   "outputs": [],
   "source": []
  },
  {
   "cell_type": "code",
   "execution_count": null,
   "id": "e5a8eb24",
   "metadata": {},
   "outputs": [],
   "source": []
  },
  {
   "cell_type": "code",
   "execution_count": null,
   "id": "c7b2bf57",
   "metadata": {},
   "outputs": [],
   "source": []
  },
  {
   "cell_type": "code",
   "execution_count": null,
   "id": "3cf76c7f",
   "metadata": {},
   "outputs": [],
   "source": []
  },
  {
   "cell_type": "code",
   "execution_count": null,
   "id": "5762dd10",
   "metadata": {},
   "outputs": [],
   "source": []
  },
  {
   "cell_type": "code",
   "execution_count": null,
   "id": "47f57b88",
   "metadata": {},
   "outputs": [],
   "source": []
  },
  {
   "cell_type": "code",
   "execution_count": null,
   "id": "ffa9a174",
   "metadata": {},
   "outputs": [],
   "source": []
  },
  {
   "cell_type": "code",
   "execution_count": null,
   "id": "77e5264e",
   "metadata": {},
   "outputs": [],
   "source": []
  }
 ],
 "metadata": {
  "kernelspec": {
   "display_name": "Python 3 (ipykernel)",
   "language": "python",
   "name": "python3"
  },
  "language_info": {
   "codemirror_mode": {
    "name": "ipython",
    "version": 3
   },
   "file_extension": ".py",
   "mimetype": "text/x-python",
   "name": "python",
   "nbconvert_exporter": "python",
   "pygments_lexer": "ipython3",
   "version": "3.9.12"
  }
 },
 "nbformat": 4,
 "nbformat_minor": 5
}
